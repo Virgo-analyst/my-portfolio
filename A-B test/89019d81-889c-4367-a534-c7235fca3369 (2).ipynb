{
 "cells": [
  {
   "cell_type": "markdown",
   "metadata": {},
   "source": [
    "<div style=\"border:solid Chocolate 2px; padding: 40px\">\n",
    "\n",
    "<b> Антон, привет!👋</b>\n",
    "\n",
    "Меня зовут Алексей Гриб, и я буду ревьюером твоего проекта. \n",
    "\n",
    "Сразу хочу предложить в дальнейшем общаться на \"ты\" - надеюсь, так будет комфортнее:) Но если это неудобно, обязательно дай знать, и мы придумаем что-нибудь ещё!\n",
    "    \n",
    "Цель ревью - не искать ошибки в твоём проекте, а помочь тебе сделать твою работу ещё лучше, устранив недочёты и приблизив её к реальным задачам специалиста по работе с данными. Поэтому не расстраивайся, если что-то не получилось с первого раза - это нормально, и это поможет тебе вырасти!\n",
    "    \n",
    "Ты можешь найти мои комментарии, обозначенные <font color='green'>зеленым</font>, <font color='gold'>желтым</font> и <font color='red'>красным</font> цветами, например:\n",
    "\n",
    "<br/>\n",
    "\n",
    "<div class=\"alert alert-success\">\n",
    "<h2> Комментарий ревьюера <a class=\"tocSkip\"> </h2>\n",
    "\n",
    "<b>Все отлично!👍:</b> похвала, рекомендации «со звёздочкой», полезные лайфхаки, которые сделают и без того красивое решение ещё более элегантным.\n",
    "</div>\n",
    "\n",
    "<br/>\n",
    "\n",
    "<div class=\"alert alert-warning\">\n",
    "    <h2> Комментарий ревьюера <a class=\"tocSkip\"> </h2>\n",
    "    \n",
    "<b>Некоторые замечания и рекомендации⚠️:</b> некритичные ошибки или развивающие рекомендации на будущее. \n",
    "</div>\n",
    "\n",
    "\n",
    "<br/>\n",
    "<div class=\"alert alert-block alert-danger\">\n",
    "<h2> Комментарий ревьюера <a class=\"tocSkip\"></h2>\n",
    "\n",
    "    \n",
    "<b>На доработку❌:</b>\n",
    "Критичные ошибки, которые обязательно нужно исправить.\n",
    "</div>\n",
    "\n",
    "    \n",
    "Пожалуйста, не удаляй мои комментарии, они будут особенно полезны для нашей работы в случае повторной проверки проекта. \n",
    "    \n",
    "Ты также можешь задавать свои вопросы, реагировать на мои комментарии, делать пометки и пояснения - полная творческая свобода! Но маленькая просьба - пускай они будут отличаться от моих комментариев, это поможет избежать путаницы в нашем общении:)\n",
    "Например, вот так:\n",
    "    \n",
    "<div class=\"alert alert-info\">\n",
    "<h2> Комментарий студента <a class=\"tocSkip\"> </h2>\n",
    "\n",
    "*твой текст*\n",
    "</div>\n",
    "    \n",
    "Давай посмотрим на твой проект!"
   ]
  },
  {
   "cell_type": "code",
   "execution_count": 1,
   "metadata": {},
   "outputs": [
    {
     "name": "stdout",
     "output_type": "stream",
     "text": [
      "Requirement already satisfied: kaleido in /opt/conda/lib/python3.9/site-packages (0.2.1)\r\n"
     ]
    }
   ],
   "source": [
    "!pip install -U kaleido"
   ]
  },
  {
   "cell_type": "markdown",
   "metadata": {
    "toc": true
   },
   "source": [
    "<h1>Оценка корректности проведения A/B теста на примере данных интернет-магазина<span class=\"tocSkip\"></span></h1>\n",
    "<div class=\"toc\"><ul class=\"toc-item\"><li><span><a href=\"#Введение\" data-toc-modified-id=\"Введение-1\"><span class=\"toc-item-num\">1&nbsp;&nbsp;</span>Введение</a></span></li><li><span><a href=\"#Цель-исследования\" data-toc-modified-id=\"Цель-исследования-2\"><span class=\"toc-item-num\">2&nbsp;&nbsp;</span>Цель исследования</a></span></li><li><span><a href=\"#Ход-исследования\" data-toc-modified-id=\"Ход-исследования-3\"><span class=\"toc-item-num\">3&nbsp;&nbsp;</span>Ход исследования</a></span></li><li><span><a href=\"#Описание-данных\" data-toc-modified-id=\"Описание-данных-4\"><span class=\"toc-item-num\">4&nbsp;&nbsp;</span>Описание данных</a></span></li><li><span><a href=\"#Используемые-библиотеки\" data-toc-modified-id=\"Используемые-библиотеки-5\"><span class=\"toc-item-num\">5&nbsp;&nbsp;</span>Используемые библиотеки</a></span></li><li><span><a href=\"#EDA.-Анализ-качества-признаков\" data-toc-modified-id=\"EDA.-Анализ-качества-признаков-6\"><span class=\"toc-item-num\">6&nbsp;&nbsp;</span>EDA. Анализ качества признаков</a></span><ul class=\"toc-item\"><li><span><a href=\"#Таблица-marketing_events\" data-toc-modified-id=\"Таблица-marketing_events-6.1\"><span class=\"toc-item-num\">6.1&nbsp;&nbsp;</span>Таблица marketing_events</a></span></li><li><span><a href=\"#Таблица-new_users\" data-toc-modified-id=\"Таблица-new_users-6.2\"><span class=\"toc-item-num\">6.2&nbsp;&nbsp;</span>Таблица new_users</a></span></li><li><span><a href=\"#Таблица-events\" data-toc-modified-id=\"Таблица-events-6.3\"><span class=\"toc-item-num\">6.3&nbsp;&nbsp;</span>Таблица events</a></span></li><li><span><a href=\"#Таблица-participants\" data-toc-modified-id=\"Таблица-participants-6.4\"><span class=\"toc-item-num\">6.4&nbsp;&nbsp;</span>Таблица participants</a></span></li></ul></li><li><span><a href=\"#Вывод-по-главе-6\" data-toc-modified-id=\"Вывод-по-главе-6-7\"><span class=\"toc-item-num\">7&nbsp;&nbsp;</span>Вывод по главе 6</a></span></li><li><span><a href=\"#Техническое-задание\" data-toc-modified-id=\"Техническое-задание-8\"><span class=\"toc-item-num\">8&nbsp;&nbsp;</span>Техническое задание</a></span></li><li><span><a href=\"#EDA.-Оценка-корректности-проведения-теста-по-ТЗ\" data-toc-modified-id=\"EDA.-Оценка-корректности-проведения-теста-по-ТЗ-9\"><span class=\"toc-item-num\">9&nbsp;&nbsp;</span>EDA. Оценка корректности проведения теста по ТЗ</a></span><ul class=\"toc-item\"><li><span><a href=\"#Период-набора-пользователей-в-тест-и-его-соответствие-требованиям-ТЗ\" data-toc-modified-id=\"Период-набора-пользователей-в-тест-и-его-соответствие-требованиям-ТЗ-9.1\"><span class=\"toc-item-num\">9.1&nbsp;&nbsp;</span>Период набора пользователей в тест и его соответствие требованиям ТЗ</a></span></li><li><span><a href=\"#Регион-регистрации-пользователей\" data-toc-modified-id=\"Регион-регистрации-пользователей-9.2\"><span class=\"toc-item-num\">9.2&nbsp;&nbsp;</span>Регион регистрации пользователей</a></span></li><li><span><a href=\"#Равномерность-распределения-пользователей-по-группам-теста\" data-toc-modified-id=\"Равномерность-распределения-пользователей-по-группам-теста-9.3\"><span class=\"toc-item-num\">9.3&nbsp;&nbsp;</span>Равномерность распределения пользователей по группам теста</a></span></li><li><span><a href=\"#Проверка-на-перечения-групп-теста\" data-toc-modified-id=\"Проверка-на-перечения-групп-теста-9.4\"><span class=\"toc-item-num\">9.4&nbsp;&nbsp;</span>Проверка на перечения групп теста</a></span></li><li><span><a href=\"#Даты-совершения-событий-участниками-теста\" data-toc-modified-id=\"Даты-совершения-событий-участниками-теста-9.5\"><span class=\"toc-item-num\">9.5&nbsp;&nbsp;</span>Даты совершения событий участниками теста</a></span></li><li><span><a href=\"#Выявление-пользователей,-которые-не-участвовали-в-событиях\" data-toc-modified-id=\"Выявление-пользователей,-которые-не-участвовали-в-событиях-9.6\"><span class=\"toc-item-num\">9.6&nbsp;&nbsp;</span>Выявление пользователей, которые не участвовали в событиях</a></span></li><li><span><a href=\"#Горизонт-анализа\" data-toc-modified-id=\"Горизонт-анализа-9.7\"><span class=\"toc-item-num\">9.7&nbsp;&nbsp;</span>Горизонт анализа</a></span></li></ul></li><li><span><a href=\"#Выводы-по-главе-9\" data-toc-modified-id=\"Выводы-по-главе-9-10\"><span class=\"toc-item-num\">10&nbsp;&nbsp;</span>Выводы по главе 9</a></span></li><li><span><a href=\"#EDA.-Формулировка-гипотез\" data-toc-modified-id=\"EDA.-Формулировка-гипотез-11\"><span class=\"toc-item-num\">11&nbsp;&nbsp;</span>EDA. Формулировка гипотез</a></span><ul class=\"toc-item\"><li><span><a href=\"#Распределение-количества-событий-на-пользователя-в-разрезе-групп-теста\" data-toc-modified-id=\"Распределение-количества-событий-на-пользователя-в-разрезе-групп-теста-11.1\"><span class=\"toc-item-num\">11.1&nbsp;&nbsp;</span>Распределение количества событий на пользователя в разрезе групп теста</a></span></li><li><span><a href=\"#Динамика-количества-событий-в-группах-теста-по-дням\" data-toc-modified-id=\"Динамика-количества-событий-в-группах-теста-по-дням-11.2\"><span class=\"toc-item-num\">11.2&nbsp;&nbsp;</span>Динамика количества событий в группах теста по дням</a></span></li><li><span><a href=\"#Автоматическая-проверка,-выдающая-список-событий,-пересекающихся-с-тестом\" data-toc-modified-id=\"Автоматическая-проверка,-выдающая-список-событий,-пересекающихся-с-тестом-11.3\"><span class=\"toc-item-num\">11.3&nbsp;&nbsp;</span>Автоматическая проверка, выдающая список событий, пересекающихся с тестом</a></span></li><li><span><a href=\"#Продуктовая-воронка\" data-toc-modified-id=\"Продуктовая-воронка-11.4\"><span class=\"toc-item-num\">11.4&nbsp;&nbsp;</span>Продуктовая воронка</a></span></li></ul></li><li><span><a href=\"#Выводы-по-главе-11\" data-toc-modified-id=\"Выводы-по-главе-11-12\"><span class=\"toc-item-num\">12&nbsp;&nbsp;</span>Выводы по главе 11</a></span></li><li><span><a href=\"#Оценка-результатов-A/B-тестирования\" data-toc-modified-id=\"Оценка-результатов-A/B-тестирования-13\"><span class=\"toc-item-num\">13&nbsp;&nbsp;</span>Оценка результатов A/B-тестирования</a></span><ul class=\"toc-item\"><li><span><a href=\"#Проверка-статистической-разницы-долей-z-критерием\" data-toc-modified-id=\"Проверка-статистической-разницы-долей-z-критерием-13.1\"><span class=\"toc-item-num\">13.1&nbsp;&nbsp;</span>Проверка статистической разницы долей z-критерием</a></span></li></ul></li><li><span><a href=\"#Выводы-по-главе-13\" data-toc-modified-id=\"Выводы-по-главе-13-14\"><span class=\"toc-item-num\">14&nbsp;&nbsp;</span>Выводы по главе 13</a></span></li><li><span><a href=\"#Общее-заключение-и-рекомендации\" data-toc-modified-id=\"Общее-заключение-и-рекомендации-15\"><span class=\"toc-item-num\">15&nbsp;&nbsp;</span>Общее заключение и рекомендации</a></span></li></ul></div>"
   ]
  },
  {
   "cell_type": "markdown",
   "metadata": {},
   "source": [
    "## Введение"
   ]
  },
  {
   "cell_type": "markdown",
   "metadata": {},
   "source": [
    "При проведении A/B тестирования многие специалисты допускают ошибки в подготовке данных. Из-за этого результаты тестирования могут существенно отличаться от реальной картины мира. И, как следствие, невозможность выбрать правильную траекторию для развития своего бизнеса, потерпеть убытки. В настоящем исследовании будет проведена оценка корректности проведения A/B теста на примере данных интернет-магазина."
   ]
  },
  {
   "cell_type": "markdown",
   "metadata": {},
   "source": [
    "## Цель исследования\n",
    "Провести оценку результатов A/B-теста, оценить его корректность и проанализировать его результаты."
   ]
  },
  {
   "cell_type": "markdown",
   "metadata": {},
   "source": [
    "## Ход исследования\n",
    "Исследования состояит из важных этапов, которые неразрывно связаны с собой:\n",
    "1. `EDA. Анализ качества признаков` включает в себя получение первичной информации о датасете, а также все стадии предобработки данных (заполнение пропусков, проверка на дубликаты, корректировку типов данных, создание дополнительных столбцов и кодирование столбцов (при необходимости). В конце этого шага пишется промежуточный вывод.\n",
    "2. `EDA. Формулировка гипотез` подразумевает непосредственный исследовательский анализ данных с целью поиска закономерностей, оценки распределений, корреляционный анализ, формулировку и проверку гипотез. В конце этого шага пишется промежуточный вывод.\n",
    "3. `Оценка проведения A/B теста`: проверка статистической разницы долей z-критерием\n",
    "4. `Общий вывод и формирование рекомендаций`."
   ]
  },
  {
   "cell_type": "markdown",
   "metadata": {},
   "source": [
    "## Описание данных\n",
    "`/datasets/ab_project_marketing_events.csv` — календарь маркетинговых событий на 2020 год;\n",
    "Структура файла:\n",
    "  \n",
    "1. `name` — название маркетингового события;\n",
    "2. `regions` — регионы, в которых будет проводиться рекламная кампания;\n",
    "3. `start_dt` — дата начала кампании;\n",
    "4. `finish_dt` — дата завершения кампании."
   ]
  },
  {
   "cell_type": "markdown",
   "metadata": {},
   "source": [
    "`/datasets/final_ab_new_users.csv` — все пользователи, зарегистрировавшиеся в интернет-магазине в период с 7 по 21 декабря 2020 года;\n",
    "Структура файла:\n",
    "1. `user_id` — идентификатор пользователя;\n",
    "2. `first_date` — дата регистрации;\n",
    "3. `region` — регион пользователя;\n",
    "4. `device` — устройство, с которого происходила регистрация."
   ]
  },
  {
   "cell_type": "markdown",
   "metadata": {},
   "source": [
    "`/datasets/final_ab_events.csv` — все события новых пользователей в период с 7 декабря 2020 по 4 января 2021 года;\n",
    "Структура файла:\n",
    "1. `user_id` — идентификатор пользователя;\n",
    "2. `event_dt` — дата и время события;\n",
    "3. `event_name` — тип события;\n",
    "4. `details` — дополнительные данные о событии. Например, для покупок, `purchase`, в этом поле хранится стоимость покупки в долларах."
   ]
  },
  {
   "cell_type": "markdown",
   "metadata": {},
   "source": [
    "`/datasets/final_ab_participants.csv` — таблица участников тестов.\n",
    "Структура файла:\n",
    "1. `user_id` — идентификатор пользователя;\n",
    "2. `ab_test` — название теста;\n",
    "3. `group` — группа пользователя."
   ]
  },
  {
   "cell_type": "markdown",
   "metadata": {},
   "source": [
    "<div class=\"alert alert-success\">\n",
    "<h2> Комментарий ревьюера <a class=\"tocSkip\"> </h2>\n",
    "\n",
    "<b>Все отлично!👍:</b> Хорошее вступление!\n",
    "    \n",
    "В нём есть всё, что необходимо, чтобы понять суть проекта с первых строк отчёта!"
   ]
  },
  {
   "cell_type": "markdown",
   "metadata": {},
   "source": [
    "## Используемые библиотеки"
   ]
  },
  {
   "cell_type": "code",
   "execution_count": 2,
   "metadata": {},
   "outputs": [],
   "source": [
    "import pandas as pd\n",
    "import numpy as np\n",
    "from datetime import datetime, timedelta\n",
    "from datetime import date\n",
    "import plotly.express as px\n",
    "from plotly import graph_objects as go\n",
    "import plotly.graph_objs as go\n",
    "import matplotlib.pyplot as plt\n",
    "import scipy.stats as stats\n",
    "from scipy import stats as st\n",
    "import datetime\n",
    "import plotly.io as pio\n",
    "pio.renderers.default='svg'\n",
    "svg_renderer = pio.renderers['svg']\n",
    "svg_renderer.scale = 1.2"
   ]
  },
  {
   "cell_type": "markdown",
   "metadata": {},
   "source": [
    "<div class=\"alert alert-success\">\n",
    "<h2> Комментарий ревьюера <a class=\"tocSkip\"> </h2>\n",
    "\n",
    "<b>Все отлично!👍:</b> Библиотеки импортировали - отлично!"
   ]
  },
  {
   "cell_type": "markdown",
   "metadata": {},
   "source": [
    "## EDA. Анализ качества признаков"
   ]
  },
  {
   "cell_type": "code",
   "execution_count": 3,
   "metadata": {},
   "outputs": [],
   "source": [
    "# Загружаем датасеты\n",
    "marketing_events = pd.read_csv('/datasets/ab_project_marketing_events.csv')\n",
    "new_users = pd.read_csv('/datasets/final_ab_new_users.csv')\n",
    "events = pd.read_csv('/datasets/final_ab_events.csv')\n",
    "participants = pd.read_csv('/datasets/final_ab_participants.csv')"
   ]
  },
  {
   "cell_type": "markdown",
   "metadata": {},
   "source": [
    "<div class=\"alert alert-success\">\n",
    "<h2> Комментарий ревьюера <a class=\"tocSkip\"> </h2>\n",
    "\n",
    "<b>Все отлично!👍</b> \n",
    "    \n",
    "Данные загрузили.\n",
    "    \n",
    "При считывании данных из файла здорово перестраховывать себя от ошибок, связанных, например, с неверным указанием пути к файлу. А иногда бывает, что работаешь с файлом локально, выгружаешь его на сервер, ожидая, что он будет принимать данные, которые лежат на том же сервере, а код падает с ошибкой, потому что путь к файлу не поменялся с локального на серверный.\n",
    "    \n",
    "Для этого, например, можно использовать конструкцию `try-except`: сначала пробуешь локальный путь, при возникновении ошибки используется серверный путь (подробнее можешь почитать тут: https://pythonworld.ru/tipy-dannyx-v-python/isklyucheniya-v-python-konstrukciya-try-except-dlya-obrabotki-isklyuchenij.html).\n",
    "    \n",
    "Но еще лучше использовать библиотеку `os` - её использование позволит тебе проверять существование указанных директорий (что может быть актуально при одновременной работа на локальном и сетевом окружении) и загружать данные из существующей директории, избегая ошибок. Как пример:\n",
    "    \n",
    "    import os\n",
    "\n",
    "    pth1 = '/folder_1/data.csv'\n",
    "    pth2 = '/folder_2/data.csv'\n",
    "    \n",
    "    if os.path.exists(pth1):\n",
    "        query_1 = pd.read_csv(pth1)\n",
    "    elif os.path.exists(pth2):\n",
    "        query_1 = pd.read_csv(pth2)\n",
    "    else:\n",
    "        print('Something is wrong')\n",
    "\n",
    "Ещё на этапе считывания данных можно спарсить дату: за это действие отвечает параметр `parse_dates` метода `read_csv()`, в него нужно передать список с названием полей-дат, и в большинстве случаев дата будет корректно преобразована в нужный формат сразу:)\n",
    "Также на этапе считывания данных задать индекс-столбец- за это действие отвечает параметр `index_col`."
   ]
  },
  {
   "cell_type": "markdown",
   "metadata": {},
   "source": [
    "### Таблица marketing_events"
   ]
  },
  {
   "cell_type": "code",
   "execution_count": 4,
   "metadata": {},
   "outputs": [
    {
     "data": {
      "text/html": [
       "<div>\n",
       "<style scoped>\n",
       "    .dataframe tbody tr th:only-of-type {\n",
       "        vertical-align: middle;\n",
       "    }\n",
       "\n",
       "    .dataframe tbody tr th {\n",
       "        vertical-align: top;\n",
       "    }\n",
       "\n",
       "    .dataframe thead th {\n",
       "        text-align: right;\n",
       "    }\n",
       "</style>\n",
       "<table border=\"1\" class=\"dataframe\">\n",
       "  <thead>\n",
       "    <tr style=\"text-align: right;\">\n",
       "      <th></th>\n",
       "      <th>name</th>\n",
       "      <th>regions</th>\n",
       "      <th>start_dt</th>\n",
       "      <th>finish_dt</th>\n",
       "    </tr>\n",
       "  </thead>\n",
       "  <tbody>\n",
       "    <tr>\n",
       "      <th>0</th>\n",
       "      <td>Christmas&amp;New Year Promo</td>\n",
       "      <td>EU, N.America</td>\n",
       "      <td>2020-12-25</td>\n",
       "      <td>2021-01-03</td>\n",
       "    </tr>\n",
       "    <tr>\n",
       "      <th>1</th>\n",
       "      <td>St. Valentine's Day Giveaway</td>\n",
       "      <td>EU, CIS, APAC, N.America</td>\n",
       "      <td>2020-02-14</td>\n",
       "      <td>2020-02-16</td>\n",
       "    </tr>\n",
       "    <tr>\n",
       "      <th>2</th>\n",
       "      <td>St. Patric's Day Promo</td>\n",
       "      <td>EU, N.America</td>\n",
       "      <td>2020-03-17</td>\n",
       "      <td>2020-03-19</td>\n",
       "    </tr>\n",
       "    <tr>\n",
       "      <th>3</th>\n",
       "      <td>Easter Promo</td>\n",
       "      <td>EU, CIS, APAC, N.America</td>\n",
       "      <td>2020-04-12</td>\n",
       "      <td>2020-04-19</td>\n",
       "    </tr>\n",
       "    <tr>\n",
       "      <th>4</th>\n",
       "      <td>4th of July Promo</td>\n",
       "      <td>N.America</td>\n",
       "      <td>2020-07-04</td>\n",
       "      <td>2020-07-11</td>\n",
       "    </tr>\n",
       "    <tr>\n",
       "      <th>5</th>\n",
       "      <td>Black Friday Ads Campaign</td>\n",
       "      <td>EU, CIS, APAC, N.America</td>\n",
       "      <td>2020-11-26</td>\n",
       "      <td>2020-12-01</td>\n",
       "    </tr>\n",
       "    <tr>\n",
       "      <th>6</th>\n",
       "      <td>Chinese New Year Promo</td>\n",
       "      <td>APAC</td>\n",
       "      <td>2020-01-25</td>\n",
       "      <td>2020-02-07</td>\n",
       "    </tr>\n",
       "    <tr>\n",
       "      <th>7</th>\n",
       "      <td>Labor day (May 1st) Ads Campaign</td>\n",
       "      <td>EU, CIS, APAC</td>\n",
       "      <td>2020-05-01</td>\n",
       "      <td>2020-05-03</td>\n",
       "    </tr>\n",
       "    <tr>\n",
       "      <th>8</th>\n",
       "      <td>International Women's Day Promo</td>\n",
       "      <td>EU, CIS, APAC</td>\n",
       "      <td>2020-03-08</td>\n",
       "      <td>2020-03-10</td>\n",
       "    </tr>\n",
       "    <tr>\n",
       "      <th>9</th>\n",
       "      <td>Victory Day CIS (May 9th) Event</td>\n",
       "      <td>CIS</td>\n",
       "      <td>2020-05-09</td>\n",
       "      <td>2020-05-11</td>\n",
       "    </tr>\n",
       "    <tr>\n",
       "      <th>10</th>\n",
       "      <td>CIS New Year Gift Lottery</td>\n",
       "      <td>CIS</td>\n",
       "      <td>2020-12-30</td>\n",
       "      <td>2021-01-07</td>\n",
       "    </tr>\n",
       "    <tr>\n",
       "      <th>11</th>\n",
       "      <td>Dragon Boat Festival Giveaway</td>\n",
       "      <td>APAC</td>\n",
       "      <td>2020-06-25</td>\n",
       "      <td>2020-07-01</td>\n",
       "    </tr>\n",
       "    <tr>\n",
       "      <th>12</th>\n",
       "      <td>Single's Day Gift Promo</td>\n",
       "      <td>APAC</td>\n",
       "      <td>2020-11-11</td>\n",
       "      <td>2020-11-12</td>\n",
       "    </tr>\n",
       "    <tr>\n",
       "      <th>13</th>\n",
       "      <td>Chinese Moon Festival</td>\n",
       "      <td>APAC</td>\n",
       "      <td>2020-10-01</td>\n",
       "      <td>2020-10-07</td>\n",
       "    </tr>\n",
       "  </tbody>\n",
       "</table>\n",
       "</div>"
      ],
      "text/plain": [
       "                                name                   regions    start_dt  \\\n",
       "0           Christmas&New Year Promo             EU, N.America  2020-12-25   \n",
       "1       St. Valentine's Day Giveaway  EU, CIS, APAC, N.America  2020-02-14   \n",
       "2             St. Patric's Day Promo             EU, N.America  2020-03-17   \n",
       "3                       Easter Promo  EU, CIS, APAC, N.America  2020-04-12   \n",
       "4                  4th of July Promo                 N.America  2020-07-04   \n",
       "5          Black Friday Ads Campaign  EU, CIS, APAC, N.America  2020-11-26   \n",
       "6             Chinese New Year Promo                      APAC  2020-01-25   \n",
       "7   Labor day (May 1st) Ads Campaign             EU, CIS, APAC  2020-05-01   \n",
       "8    International Women's Day Promo             EU, CIS, APAC  2020-03-08   \n",
       "9    Victory Day CIS (May 9th) Event                       CIS  2020-05-09   \n",
       "10         CIS New Year Gift Lottery                       CIS  2020-12-30   \n",
       "11     Dragon Boat Festival Giveaway                      APAC  2020-06-25   \n",
       "12           Single's Day Gift Promo                      APAC  2020-11-11   \n",
       "13             Chinese Moon Festival                      APAC  2020-10-01   \n",
       "\n",
       "     finish_dt  \n",
       "0   2021-01-03  \n",
       "1   2020-02-16  \n",
       "2   2020-03-19  \n",
       "3   2020-04-19  \n",
       "4   2020-07-11  \n",
       "5   2020-12-01  \n",
       "6   2020-02-07  \n",
       "7   2020-05-03  \n",
       "8   2020-03-10  \n",
       "9   2020-05-11  \n",
       "10  2021-01-07  \n",
       "11  2020-07-01  \n",
       "12  2020-11-12  \n",
       "13  2020-10-07  "
      ]
     },
     "execution_count": 4,
     "metadata": {},
     "output_type": "execute_result"
    }
   ],
   "source": [
    "marketing_events"
   ]
  },
  {
   "cell_type": "code",
   "execution_count": 5,
   "metadata": {},
   "outputs": [
    {
     "name": "stdout",
     "output_type": "stream",
     "text": [
      "<class 'pandas.core.frame.DataFrame'>\n",
      "RangeIndex: 14 entries, 0 to 13\n",
      "Data columns (total 4 columns):\n",
      " #   Column     Non-Null Count  Dtype \n",
      "---  ------     --------------  ----- \n",
      " 0   name       14 non-null     object\n",
      " 1   regions    14 non-null     object\n",
      " 2   start_dt   14 non-null     object\n",
      " 3   finish_dt  14 non-null     object\n",
      "dtypes: object(4)\n",
      "memory usage: 576.0+ bytes\n"
     ]
    }
   ],
   "source": [
    "marketing_events.info()"
   ]
  },
  {
   "cell_type": "markdown",
   "metadata": {},
   "source": [
    "За 2020 год прошло всего 14 маркетинговых событий"
   ]
  },
  {
   "cell_type": "code",
   "execution_count": 6,
   "metadata": {},
   "outputs": [
    {
     "data": {
      "text/plain": [
       "['Christmas&New Year Promo',\n",
       " \"St. Valentine's Day Giveaway\",\n",
       " \"St. Patric's Day Promo\",\n",
       " 'Easter Promo',\n",
       " '4th of July Promo',\n",
       " 'Black Friday Ads Campaign',\n",
       " 'Chinese New Year Promo',\n",
       " 'Labor day (May 1st) Ads Campaign',\n",
       " \"International Women's Day Promo\",\n",
       " 'Victory Day CIS (May 9th) Event',\n",
       " 'CIS New Year Gift Lottery',\n",
       " 'Dragon Boat Festival Giveaway',\n",
       " \"Single's Day Gift Promo\",\n",
       " 'Chinese Moon Festival']"
      ]
     },
     "execution_count": 6,
     "metadata": {},
     "output_type": "execute_result"
    }
   ],
   "source": [
    "list (marketing_events['name'].unique())"
   ]
  },
  {
   "cell_type": "code",
   "execution_count": 7,
   "metadata": {},
   "outputs": [
    {
     "data": {
      "text/plain": [
       "['EU, N.America',\n",
       " 'EU, CIS, APAC, N.America',\n",
       " 'N.America',\n",
       " 'APAC',\n",
       " 'EU, CIS, APAC',\n",
       " 'CIS']"
      ]
     },
     "execution_count": 7,
     "metadata": {},
     "output_type": "execute_result"
    }
   ],
   "source": [
    "list (marketing_events['regions'].unique())"
   ]
  },
  {
   "cell_type": "code",
   "execution_count": 8,
   "metadata": {},
   "outputs": [
    {
     "name": "stdout",
     "output_type": "stream",
     "text": [
      "<class 'pandas.core.frame.DataFrame'>\n",
      "RangeIndex: 14 entries, 0 to 13\n",
      "Data columns (total 4 columns):\n",
      " #   Column     Non-Null Count  Dtype         \n",
      "---  ------     --------------  -----         \n",
      " 0   name       14 non-null     object        \n",
      " 1   regions    14 non-null     object        \n",
      " 2   start_dt   14 non-null     datetime64[ns]\n",
      " 3   finish_dt  14 non-null     datetime64[ns]\n",
      "dtypes: datetime64[ns](2), object(2)\n",
      "memory usage: 576.0+ bytes\n"
     ]
    }
   ],
   "source": [
    "marketing_events['start_dt']=pd.to_datetime(marketing_events['start_dt'])\n",
    "marketing_events['finish_dt']=pd.to_datetime(marketing_events['finish_dt'])\n",
    "marketing_events.info()"
   ]
  },
  {
   "cell_type": "code",
   "execution_count": 9,
   "metadata": {},
   "outputs": [
    {
     "data": {
      "text/html": [
       "<div>\n",
       "<style scoped>\n",
       "    .dataframe tbody tr th:only-of-type {\n",
       "        vertical-align: middle;\n",
       "    }\n",
       "\n",
       "    .dataframe tbody tr th {\n",
       "        vertical-align: top;\n",
       "    }\n",
       "\n",
       "    .dataframe thead th {\n",
       "        text-align: right;\n",
       "    }\n",
       "</style>\n",
       "<table border=\"1\" class=\"dataframe\">\n",
       "  <thead>\n",
       "    <tr style=\"text-align: right;\">\n",
       "      <th></th>\n",
       "      <th>name</th>\n",
       "      <th>regions</th>\n",
       "      <th>start_dt</th>\n",
       "      <th>finish_dt</th>\n",
       "    </tr>\n",
       "  </thead>\n",
       "  <tbody>\n",
       "    <tr>\n",
       "      <th>0</th>\n",
       "      <td>Christmas&amp;New Year Promo</td>\n",
       "      <td>EU, N.America</td>\n",
       "      <td>2020-12-25</td>\n",
       "      <td>2021-01-03</td>\n",
       "    </tr>\n",
       "    <tr>\n",
       "      <th>1</th>\n",
       "      <td>St. Valentine's Day Giveaway</td>\n",
       "      <td>EU, CIS, APAC, N.America</td>\n",
       "      <td>2020-02-14</td>\n",
       "      <td>2020-02-16</td>\n",
       "    </tr>\n",
       "    <tr>\n",
       "      <th>2</th>\n",
       "      <td>St. Patric's Day Promo</td>\n",
       "      <td>EU, N.America</td>\n",
       "      <td>2020-03-17</td>\n",
       "      <td>2020-03-19</td>\n",
       "    </tr>\n",
       "    <tr>\n",
       "      <th>3</th>\n",
       "      <td>Easter Promo</td>\n",
       "      <td>EU, CIS, APAC, N.America</td>\n",
       "      <td>2020-04-12</td>\n",
       "      <td>2020-04-19</td>\n",
       "    </tr>\n",
       "    <tr>\n",
       "      <th>4</th>\n",
       "      <td>4th of July Promo</td>\n",
       "      <td>N.America</td>\n",
       "      <td>2020-07-04</td>\n",
       "      <td>2020-07-11</td>\n",
       "    </tr>\n",
       "  </tbody>\n",
       "</table>\n",
       "</div>"
      ],
      "text/plain": [
       "                           name                   regions   start_dt  \\\n",
       "0      Christmas&New Year Promo             EU, N.America 2020-12-25   \n",
       "1  St. Valentine's Day Giveaway  EU, CIS, APAC, N.America 2020-02-14   \n",
       "2        St. Patric's Day Promo             EU, N.America 2020-03-17   \n",
       "3                  Easter Promo  EU, CIS, APAC, N.America 2020-04-12   \n",
       "4             4th of July Promo                 N.America 2020-07-04   \n",
       "\n",
       "   finish_dt  \n",
       "0 2021-01-03  \n",
       "1 2020-02-16  \n",
       "2 2020-03-19  \n",
       "3 2020-04-19  \n",
       "4 2020-07-11  "
      ]
     },
     "execution_count": 9,
     "metadata": {},
     "output_type": "execute_result"
    }
   ],
   "source": [
    "marketing_events.head()"
   ]
  },
  {
   "cell_type": "markdown",
   "metadata": {},
   "source": [
    "Таким образом, в таблице столбцы с датами были приведены в корректный вид"
   ]
  },
  {
   "cell_type": "markdown",
   "metadata": {},
   "source": [
    "### Таблица new_users"
   ]
  },
  {
   "cell_type": "code",
   "execution_count": 10,
   "metadata": {},
   "outputs": [
    {
     "data": {
      "text/html": [
       "<div>\n",
       "<style scoped>\n",
       "    .dataframe tbody tr th:only-of-type {\n",
       "        vertical-align: middle;\n",
       "    }\n",
       "\n",
       "    .dataframe tbody tr th {\n",
       "        vertical-align: top;\n",
       "    }\n",
       "\n",
       "    .dataframe thead th {\n",
       "        text-align: right;\n",
       "    }\n",
       "</style>\n",
       "<table border=\"1\" class=\"dataframe\">\n",
       "  <thead>\n",
       "    <tr style=\"text-align: right;\">\n",
       "      <th></th>\n",
       "      <th>user_id</th>\n",
       "      <th>first_date</th>\n",
       "      <th>region</th>\n",
       "      <th>device</th>\n",
       "    </tr>\n",
       "  </thead>\n",
       "  <tbody>\n",
       "    <tr>\n",
       "      <th>0</th>\n",
       "      <td>D72A72121175D8BE</td>\n",
       "      <td>2020-12-07</td>\n",
       "      <td>EU</td>\n",
       "      <td>PC</td>\n",
       "    </tr>\n",
       "    <tr>\n",
       "      <th>1</th>\n",
       "      <td>F1C668619DFE6E65</td>\n",
       "      <td>2020-12-07</td>\n",
       "      <td>N.America</td>\n",
       "      <td>Android</td>\n",
       "    </tr>\n",
       "    <tr>\n",
       "      <th>2</th>\n",
       "      <td>2E1BF1D4C37EA01F</td>\n",
       "      <td>2020-12-07</td>\n",
       "      <td>EU</td>\n",
       "      <td>PC</td>\n",
       "    </tr>\n",
       "    <tr>\n",
       "      <th>3</th>\n",
       "      <td>50734A22C0C63768</td>\n",
       "      <td>2020-12-07</td>\n",
       "      <td>EU</td>\n",
       "      <td>iPhone</td>\n",
       "    </tr>\n",
       "    <tr>\n",
       "      <th>4</th>\n",
       "      <td>E1BDDCE0DAFA2679</td>\n",
       "      <td>2020-12-07</td>\n",
       "      <td>N.America</td>\n",
       "      <td>iPhone</td>\n",
       "    </tr>\n",
       "  </tbody>\n",
       "</table>\n",
       "</div>"
      ],
      "text/plain": [
       "            user_id  first_date     region   device\n",
       "0  D72A72121175D8BE  2020-12-07         EU       PC\n",
       "1  F1C668619DFE6E65  2020-12-07  N.America  Android\n",
       "2  2E1BF1D4C37EA01F  2020-12-07         EU       PC\n",
       "3  50734A22C0C63768  2020-12-07         EU   iPhone\n",
       "4  E1BDDCE0DAFA2679  2020-12-07  N.America   iPhone"
      ]
     },
     "execution_count": 10,
     "metadata": {},
     "output_type": "execute_result"
    }
   ],
   "source": [
    "new_users.head()"
   ]
  },
  {
   "cell_type": "code",
   "execution_count": 11,
   "metadata": {},
   "outputs": [
    {
     "name": "stdout",
     "output_type": "stream",
     "text": [
      "<class 'pandas.core.frame.DataFrame'>\n",
      "RangeIndex: 61733 entries, 0 to 61732\n",
      "Data columns (total 4 columns):\n",
      " #   Column      Non-Null Count  Dtype \n",
      "---  ------      --------------  ----- \n",
      " 0   user_id     61733 non-null  object\n",
      " 1   first_date  61733 non-null  object\n",
      " 2   region      61733 non-null  object\n",
      " 3   device      61733 non-null  object\n",
      "dtypes: object(4)\n",
      "memory usage: 1.9+ MB\n"
     ]
    }
   ],
   "source": [
    "new_users.info()"
   ]
  },
  {
   "cell_type": "markdown",
   "metadata": {},
   "source": [
    "Пока что можно сказать, что всего зарегистрировалось 61733 человека."
   ]
  },
  {
   "cell_type": "code",
   "execution_count": 12,
   "metadata": {},
   "outputs": [
    {
     "data": {
      "text/plain": [
       "['EU', 'N.America', 'APAC', 'CIS']"
      ]
     },
     "execution_count": 12,
     "metadata": {},
     "output_type": "execute_result"
    }
   ],
   "source": [
    "list (new_users['region'].unique())"
   ]
  },
  {
   "cell_type": "code",
   "execution_count": 13,
   "metadata": {},
   "outputs": [
    {
     "data": {
      "text/plain": [
       "['PC', 'Android', 'iPhone', 'Mac']"
      ]
     },
     "execution_count": 13,
     "metadata": {},
     "output_type": "execute_result"
    }
   ],
   "source": [
    "list (new_users['device'].unique())"
   ]
  },
  {
   "cell_type": "code",
   "execution_count": 14,
   "metadata": {},
   "outputs": [
    {
     "data": {
      "text/plain": [
       "0"
      ]
     },
     "execution_count": 14,
     "metadata": {},
     "output_type": "execute_result"
    }
   ],
   "source": [
    "new_users['user_id'].duplicated().sum()"
   ]
  },
  {
   "cell_type": "code",
   "execution_count": 15,
   "metadata": {},
   "outputs": [
    {
     "name": "stdout",
     "output_type": "stream",
     "text": [
      "<class 'pandas.core.frame.DataFrame'>\n",
      "RangeIndex: 61733 entries, 0 to 61732\n",
      "Data columns (total 4 columns):\n",
      " #   Column      Non-Null Count  Dtype         \n",
      "---  ------      --------------  -----         \n",
      " 0   user_id     61733 non-null  object        \n",
      " 1   first_date  61733 non-null  datetime64[ns]\n",
      " 2   region      61733 non-null  object        \n",
      " 3   device      61733 non-null  object        \n",
      "dtypes: datetime64[ns](1), object(3)\n",
      "memory usage: 1.9+ MB\n"
     ]
    }
   ],
   "source": [
    "new_users['first_date']=pd.to_datetime(new_users['first_date'])\n",
    "new_users.info()"
   ]
  },
  {
   "cell_type": "markdown",
   "metadata": {},
   "source": [
    "### Таблица events"
   ]
  },
  {
   "cell_type": "code",
   "execution_count": 16,
   "metadata": {},
   "outputs": [
    {
     "data": {
      "text/html": [
       "<div>\n",
       "<style scoped>\n",
       "    .dataframe tbody tr th:only-of-type {\n",
       "        vertical-align: middle;\n",
       "    }\n",
       "\n",
       "    .dataframe tbody tr th {\n",
       "        vertical-align: top;\n",
       "    }\n",
       "\n",
       "    .dataframe thead th {\n",
       "        text-align: right;\n",
       "    }\n",
       "</style>\n",
       "<table border=\"1\" class=\"dataframe\">\n",
       "  <thead>\n",
       "    <tr style=\"text-align: right;\">\n",
       "      <th></th>\n",
       "      <th>user_id</th>\n",
       "      <th>event_dt</th>\n",
       "      <th>event_name</th>\n",
       "      <th>details</th>\n",
       "    </tr>\n",
       "  </thead>\n",
       "  <tbody>\n",
       "    <tr>\n",
       "      <th>0</th>\n",
       "      <td>E1BDDCE0DAFA2679</td>\n",
       "      <td>2020-12-07 20:22:03</td>\n",
       "      <td>purchase</td>\n",
       "      <td>99.99</td>\n",
       "    </tr>\n",
       "    <tr>\n",
       "      <th>1</th>\n",
       "      <td>7B6452F081F49504</td>\n",
       "      <td>2020-12-07 09:22:53</td>\n",
       "      <td>purchase</td>\n",
       "      <td>9.99</td>\n",
       "    </tr>\n",
       "    <tr>\n",
       "      <th>2</th>\n",
       "      <td>9CD9F34546DF254C</td>\n",
       "      <td>2020-12-07 12:59:29</td>\n",
       "      <td>purchase</td>\n",
       "      <td>4.99</td>\n",
       "    </tr>\n",
       "    <tr>\n",
       "      <th>3</th>\n",
       "      <td>96F27A054B191457</td>\n",
       "      <td>2020-12-07 04:02:40</td>\n",
       "      <td>purchase</td>\n",
       "      <td>4.99</td>\n",
       "    </tr>\n",
       "    <tr>\n",
       "      <th>4</th>\n",
       "      <td>1FD7660FDF94CA1F</td>\n",
       "      <td>2020-12-07 10:15:09</td>\n",
       "      <td>purchase</td>\n",
       "      <td>4.99</td>\n",
       "    </tr>\n",
       "  </tbody>\n",
       "</table>\n",
       "</div>"
      ],
      "text/plain": [
       "            user_id             event_dt event_name  details\n",
       "0  E1BDDCE0DAFA2679  2020-12-07 20:22:03   purchase    99.99\n",
       "1  7B6452F081F49504  2020-12-07 09:22:53   purchase     9.99\n",
       "2  9CD9F34546DF254C  2020-12-07 12:59:29   purchase     4.99\n",
       "3  96F27A054B191457  2020-12-07 04:02:40   purchase     4.99\n",
       "4  1FD7660FDF94CA1F  2020-12-07 10:15:09   purchase     4.99"
      ]
     },
     "execution_count": 16,
     "metadata": {},
     "output_type": "execute_result"
    }
   ],
   "source": [
    "events.head()"
   ]
  },
  {
   "cell_type": "code",
   "execution_count": 17,
   "metadata": {},
   "outputs": [
    {
     "name": "stdout",
     "output_type": "stream",
     "text": [
      "<class 'pandas.core.frame.DataFrame'>\n",
      "RangeIndex: 440317 entries, 0 to 440316\n",
      "Data columns (total 4 columns):\n",
      " #   Column      Non-Null Count   Dtype  \n",
      "---  ------      --------------   -----  \n",
      " 0   user_id     440317 non-null  object \n",
      " 1   event_dt    440317 non-null  object \n",
      " 2   event_name  440317 non-null  object \n",
      " 3   details     62740 non-null   float64\n",
      "dtypes: float64(1), object(3)\n",
      "memory usage: 13.4+ MB\n"
     ]
    }
   ],
   "source": [
    "events.info()"
   ]
  },
  {
   "cell_type": "code",
   "execution_count": 18,
   "metadata": {},
   "outputs": [
    {
     "data": {
      "text/plain": [
       "0"
      ]
     },
     "execution_count": 18,
     "metadata": {},
     "output_type": "execute_result"
    }
   ],
   "source": [
    "events.duplicated().sum()"
   ]
  },
  {
   "cell_type": "code",
   "execution_count": 19,
   "metadata": {},
   "outputs": [
    {
     "data": {
      "text/html": [
       "<div>\n",
       "<style scoped>\n",
       "    .dataframe tbody tr th:only-of-type {\n",
       "        vertical-align: middle;\n",
       "    }\n",
       "\n",
       "    .dataframe tbody tr th {\n",
       "        vertical-align: top;\n",
       "    }\n",
       "\n",
       "    .dataframe thead th {\n",
       "        text-align: right;\n",
       "    }\n",
       "</style>\n",
       "<table border=\"1\" class=\"dataframe\">\n",
       "  <thead>\n",
       "    <tr style=\"text-align: right;\">\n",
       "      <th></th>\n",
       "      <th>user_id</th>\n",
       "      <th>event_dt</th>\n",
       "      <th>event_name</th>\n",
       "      <th>details</th>\n",
       "    </tr>\n",
       "  </thead>\n",
       "  <tbody>\n",
       "    <tr>\n",
       "      <th>0</th>\n",
       "      <td>E1BDDCE0DAFA2679</td>\n",
       "      <td>2020-12-07 20:22:03</td>\n",
       "      <td>purchase</td>\n",
       "      <td>99.99</td>\n",
       "    </tr>\n",
       "    <tr>\n",
       "      <th>1</th>\n",
       "      <td>7B6452F081F49504</td>\n",
       "      <td>2020-12-07 09:22:53</td>\n",
       "      <td>purchase</td>\n",
       "      <td>9.99</td>\n",
       "    </tr>\n",
       "    <tr>\n",
       "      <th>2</th>\n",
       "      <td>9CD9F34546DF254C</td>\n",
       "      <td>2020-12-07 12:59:29</td>\n",
       "      <td>purchase</td>\n",
       "      <td>4.99</td>\n",
       "    </tr>\n",
       "    <tr>\n",
       "      <th>3</th>\n",
       "      <td>96F27A054B191457</td>\n",
       "      <td>2020-12-07 04:02:40</td>\n",
       "      <td>purchase</td>\n",
       "      <td>4.99</td>\n",
       "    </tr>\n",
       "    <tr>\n",
       "      <th>4</th>\n",
       "      <td>1FD7660FDF94CA1F</td>\n",
       "      <td>2020-12-07 10:15:09</td>\n",
       "      <td>purchase</td>\n",
       "      <td>4.99</td>\n",
       "    </tr>\n",
       "  </tbody>\n",
       "</table>\n",
       "</div>"
      ],
      "text/plain": [
       "            user_id            event_dt event_name  details\n",
       "0  E1BDDCE0DAFA2679 2020-12-07 20:22:03   purchase    99.99\n",
       "1  7B6452F081F49504 2020-12-07 09:22:53   purchase     9.99\n",
       "2  9CD9F34546DF254C 2020-12-07 12:59:29   purchase     4.99\n",
       "3  96F27A054B191457 2020-12-07 04:02:40   purchase     4.99\n",
       "4  1FD7660FDF94CA1F 2020-12-07 10:15:09   purchase     4.99"
      ]
     },
     "execution_count": 19,
     "metadata": {},
     "output_type": "execute_result"
    }
   ],
   "source": [
    "events['event_dt']=pd.to_datetime(events['event_dt'])\n",
    "events.head()"
   ]
  },
  {
   "cell_type": "markdown",
   "metadata": {},
   "source": [
    "Всего пользователи совершили 440317 событий. Стоит обратить внимание на столбец `details`."
   ]
  },
  {
   "cell_type": "code",
   "execution_count": 20,
   "metadata": {},
   "outputs": [
    {
     "data": {
      "text/plain": [
       "login           189552\n",
       "product_page    125563\n",
       "purchase         62740\n",
       "product_cart     62462\n",
       "Name: event_name, dtype: int64"
      ]
     },
     "execution_count": 20,
     "metadata": {},
     "output_type": "execute_result"
    }
   ],
   "source": [
    "events['event_name'].value_counts()"
   ]
  },
  {
   "cell_type": "code",
   "execution_count": 21,
   "metadata": {},
   "outputs": [
    {
     "data": {
      "text/html": [
       "<div>\n",
       "<style scoped>\n",
       "    .dataframe tbody tr th:only-of-type {\n",
       "        vertical-align: middle;\n",
       "    }\n",
       "\n",
       "    .dataframe tbody tr th {\n",
       "        vertical-align: top;\n",
       "    }\n",
       "\n",
       "    .dataframe thead th {\n",
       "        text-align: right;\n",
       "    }\n",
       "</style>\n",
       "<table border=\"1\" class=\"dataframe\">\n",
       "  <thead>\n",
       "    <tr style=\"text-align: right;\">\n",
       "      <th></th>\n",
       "      <th>details</th>\n",
       "    </tr>\n",
       "    <tr>\n",
       "      <th>event_name</th>\n",
       "      <th></th>\n",
       "    </tr>\n",
       "  </thead>\n",
       "  <tbody>\n",
       "    <tr>\n",
       "      <th>login</th>\n",
       "      <td>0</td>\n",
       "    </tr>\n",
       "    <tr>\n",
       "      <th>product_cart</th>\n",
       "      <td>0</td>\n",
       "    </tr>\n",
       "    <tr>\n",
       "      <th>product_page</th>\n",
       "      <td>0</td>\n",
       "    </tr>\n",
       "    <tr>\n",
       "      <th>purchase</th>\n",
       "      <td>62740</td>\n",
       "    </tr>\n",
       "  </tbody>\n",
       "</table>\n",
       "</div>"
      ],
      "text/plain": [
       "              details\n",
       "event_name           \n",
       "login               0\n",
       "product_cart        0\n",
       "product_page        0\n",
       "purchase        62740"
      ]
     },
     "execution_count": 21,
     "metadata": {},
     "output_type": "execute_result"
    }
   ],
   "source": [
    "events.pivot_table(index='event_name', values='details', aggfunc='count')"
   ]
  },
  {
   "cell_type": "markdown",
   "metadata": {},
   "source": [
    "Можно сделать преварительный вывод, что если `event_name` = purchase, то тогда заполнен столбец `details`, так как их строки равны."
   ]
  },
  {
   "cell_type": "markdown",
   "metadata": {},
   "source": [
    "<div class=\"alert alert-success\">\n",
    "<h2> Комментарий ревьюера <a class=\"tocSkip\"> </h2>\n",
    "\n",
    "<b>Все отлично!👍</b> \n",
    "    \n",
    "Молодец, что детально проанализировал пропуски и выяснил их природу."
   ]
  },
  {
   "cell_type": "markdown",
   "metadata": {},
   "source": [
    "### Таблица participants"
   ]
  },
  {
   "cell_type": "code",
   "execution_count": 22,
   "metadata": {},
   "outputs": [
    {
     "data": {
      "text/html": [
       "<div>\n",
       "<style scoped>\n",
       "    .dataframe tbody tr th:only-of-type {\n",
       "        vertical-align: middle;\n",
       "    }\n",
       "\n",
       "    .dataframe tbody tr th {\n",
       "        vertical-align: top;\n",
       "    }\n",
       "\n",
       "    .dataframe thead th {\n",
       "        text-align: right;\n",
       "    }\n",
       "</style>\n",
       "<table border=\"1\" class=\"dataframe\">\n",
       "  <thead>\n",
       "    <tr style=\"text-align: right;\">\n",
       "      <th></th>\n",
       "      <th>user_id</th>\n",
       "      <th>group</th>\n",
       "      <th>ab_test</th>\n",
       "    </tr>\n",
       "  </thead>\n",
       "  <tbody>\n",
       "    <tr>\n",
       "      <th>0</th>\n",
       "      <td>D1ABA3E2887B6A73</td>\n",
       "      <td>A</td>\n",
       "      <td>recommender_system_test</td>\n",
       "    </tr>\n",
       "    <tr>\n",
       "      <th>1</th>\n",
       "      <td>A7A3664BD6242119</td>\n",
       "      <td>A</td>\n",
       "      <td>recommender_system_test</td>\n",
       "    </tr>\n",
       "    <tr>\n",
       "      <th>2</th>\n",
       "      <td>DABC14FDDFADD29E</td>\n",
       "      <td>A</td>\n",
       "      <td>recommender_system_test</td>\n",
       "    </tr>\n",
       "    <tr>\n",
       "      <th>3</th>\n",
       "      <td>04988C5DF189632E</td>\n",
       "      <td>A</td>\n",
       "      <td>recommender_system_test</td>\n",
       "    </tr>\n",
       "    <tr>\n",
       "      <th>4</th>\n",
       "      <td>482F14783456D21B</td>\n",
       "      <td>B</td>\n",
       "      <td>recommender_system_test</td>\n",
       "    </tr>\n",
       "  </tbody>\n",
       "</table>\n",
       "</div>"
      ],
      "text/plain": [
       "            user_id group                  ab_test\n",
       "0  D1ABA3E2887B6A73     A  recommender_system_test\n",
       "1  A7A3664BD6242119     A  recommender_system_test\n",
       "2  DABC14FDDFADD29E     A  recommender_system_test\n",
       "3  04988C5DF189632E     A  recommender_system_test\n",
       "4  482F14783456D21B     B  recommender_system_test"
      ]
     },
     "execution_count": 22,
     "metadata": {},
     "output_type": "execute_result"
    }
   ],
   "source": [
    "participants.head()"
   ]
  },
  {
   "cell_type": "code",
   "execution_count": 23,
   "metadata": {},
   "outputs": [
    {
     "name": "stdout",
     "output_type": "stream",
     "text": [
      "<class 'pandas.core.frame.DataFrame'>\n",
      "RangeIndex: 18268 entries, 0 to 18267\n",
      "Data columns (total 3 columns):\n",
      " #   Column   Non-Null Count  Dtype \n",
      "---  ------   --------------  ----- \n",
      " 0   user_id  18268 non-null  object\n",
      " 1   group    18268 non-null  object\n",
      " 2   ab_test  18268 non-null  object\n",
      "dtypes: object(3)\n",
      "memory usage: 428.3+ KB\n"
     ]
    }
   ],
   "source": [
    "participants.info()"
   ]
  },
  {
   "cell_type": "markdown",
   "metadata": {},
   "source": [
    "В А/B тесте поучаствовали 18268 пользователей."
   ]
  },
  {
   "cell_type": "code",
   "execution_count": 24,
   "metadata": {},
   "outputs": [
    {
     "data": {
      "text/plain": [
       "0"
      ]
     },
     "execution_count": 24,
     "metadata": {},
     "output_type": "execute_result"
    }
   ],
   "source": [
    "participants.duplicated().sum()"
   ]
  },
  {
   "cell_type": "code",
   "execution_count": 25,
   "metadata": {},
   "outputs": [
    {
     "data": {
      "text/plain": [
       "A    9655\n",
       "B    8613\n",
       "Name: group, dtype: int64"
      ]
     },
     "execution_count": 25,
     "metadata": {},
     "output_type": "execute_result"
    }
   ],
   "source": [
    "participants['group'].value_counts()"
   ]
  },
  {
   "cell_type": "code",
   "execution_count": 26,
   "metadata": {},
   "outputs": [
    {
     "data": {
      "text/plain": [
       "interface_eu_test          11567\n",
       "recommender_system_test     6701\n",
       "Name: ab_test, dtype: int64"
      ]
     },
     "execution_count": 26,
     "metadata": {},
     "output_type": "execute_result"
    }
   ],
   "source": [
    "participants['ab_test'].value_counts()"
   ]
  },
  {
   "cell_type": "markdown",
   "metadata": {},
   "source": [
    "## Вывод по главе 6"
   ]
  },
  {
   "cell_type": "markdown",
   "metadata": {},
   "source": [
    "Таким образом, в ходе анализа качества признаков были проделаны следующие шаги:\n",
    "1. Таблица `marketing_events` состоит из 4 столбцов и 14 строк. В ней все строки заполнены, дубликатов не обнаружено, были приведены столбцы с датой в корректный вид;\n",
    "2. Таблица `new_users` состоит из 4 столбцов и 61733 строки. В ней все строки заполнены, дубликатов не обнаружено, столбец с датой был приведет в корректный вид;\n",
    "3. Таблица `events` состоит из 4 столбцы и 440216 строк. В ней заполнены все строки (выяснилось, что строки столбца `details` заполнены, если была сопвершена покупка), столбец с датой был приведет в корреткный вид;\n",
    "4. Таблица `participants` состоит 3 столбцов и 18268 строк. В ней заполнены все строки, дубликатов не обнаружено."
   ]
  },
  {
   "cell_type": "markdown",
   "metadata": {},
   "source": [
    "<div class=\"alert alert-success\">\n",
    "<h2> Комментарий ревьюера <a class=\"tocSkip\"> </h2>\n",
    "\n",
    "<b>Все отлично!👍</b> \n",
    "    \n",
    "Данные исследованы."
   ]
  },
  {
   "cell_type": "markdown",
   "metadata": {},
   "source": [
    "## Техническое задание"
   ]
  },
  {
   "cell_type": "markdown",
   "metadata": {},
   "source": [
    "1. Название теста: recommender_system_test;\n",
    "2. Группы: А (контрольная), B (новая платёжная воронка);\n",
    "3. Дата запуска: 2020-12-07;\n",
    "4. Дата остановки набора новых пользователей: 2020-12-21;\n",
    "5. Дата остановки: 2021-01-04;\n",
    "6. Ожидаемое количество участников теста: 15% новых пользователей из региона EU;\n",
    "7. Назначение теста: тестирование изменений, связанных с внедрением улучшенной рекомендательной системы;\n",
    "8. Ожидаемый эффект: за 14 дней с момента регистрации в системе пользователи покажут улучшение каждой метрики не менее, чем на 5 процентных пунктов: конверсии в просмотр карточек товаров — событие product_page; просмотры корзины — product_cart; покупки — purchase."
   ]
  },
  {
   "cell_type": "markdown",
   "metadata": {},
   "source": [
    "## EDA. Оценка корректности проведения теста по ТЗ"
   ]
  },
  {
   "cell_type": "markdown",
   "metadata": {},
   "source": [
    "### Период набора пользователей в тест и его соответствие требованиям ТЗ"
   ]
  },
  {
   "cell_type": "code",
   "execution_count": 27,
   "metadata": {},
   "outputs": [],
   "source": [
    "# сохраним в p_1 участников recommender_system_test\n",
    "p_1 = participants.loc[participants['ab_test'] == 'recommender_system_test']\n",
    "# объединим их со всеми пользователями, чтобы рассчитать в дальнейшем долю\n",
    "p_1_users = p_1.merge(new_users, on='user_id', how='left').sort_values(by='first_date', ascending=False)"
   ]
  },
  {
   "cell_type": "code",
   "execution_count": 28,
   "metadata": {},
   "outputs": [
    {
     "name": "stdout",
     "output_type": "stream",
     "text": [
      "Период набора пользователей 2020-12-07 00:00:00 - 2020-12-21 00:00:00\n"
     ]
    }
   ],
   "source": [
    "print('Период набора пользователей', p_1_users['first_date'].min(), '-', p_1_users['first_date'].max())"
   ]
  },
  {
   "cell_type": "markdown",
   "metadata": {},
   "source": [
    "Период набора пользователей совпадает с ТЗ."
   ]
  },
  {
   "cell_type": "markdown",
   "metadata": {},
   "source": [
    "<div class=\"alert alert-block alert-danger\">\n",
    "<h2> Комментарий ревьюера <a class=\"tocSkip\"></h2>\n",
    "\n",
    "    \n",
    "<b>На доработку❌:</b>\n",
    "С точки зрения проверки этого условия ТЗ результат не совсем корректный: как мы уже выяснили, в данных есть пользователи из двух тестов. Условие ТЗ по дате регистрации нужно проверять только по тесту `recommender_system_test`, соответственно перед проверкой этого условия ТЗ из таблицы `new_users` нужно отобрать только пользователей, которые являются участниками теста `recommender_system_test` - это можно удобно сделать, соединив её с таблицей `participants`, предварительно отфильтровав последнюю по нужному нам тесту.\n",
    "</div>"
   ]
  },
  {
   "cell_type": "markdown",
   "metadata": {},
   "source": [
    "<div class=\"alert alert-info\">\n",
    "<h2> Комментарий студента <a class=\"tocSkip\"> </h2>\n",
    "\n",
    "Подправлено\n",
    "</div>"
   ]
  },
  {
   "cell_type": "markdown",
   "metadata": {},
   "source": [
    "<div class=\"alert alert-success\">\n",
    "<h2> Комментарий ревьюера v.2 <a class=\"tocSkip\"> </h2>\n",
    "\n",
    "<b>Все отлично!👍:</b> Учтено."
   ]
  },
  {
   "cell_type": "markdown",
   "metadata": {},
   "source": [
    "### Регион регистрации пользователей"
   ]
  },
  {
   "cell_type": "markdown",
   "metadata": {},
   "source": [
    "Здесь следует проверить, действительно ли 15% новых пользователей из региона EU"
   ]
  },
  {
   "cell_type": "code",
   "execution_count": 29,
   "metadata": {},
   "outputs": [
    {
     "name": "stdout",
     "output_type": "stream",
     "text": [
      "Таким образом, аудитория теста из региона EU составляет: 15.00% аудитории, что соответствует требованиям ТЗ.\n"
     ]
    }
   ],
   "source": [
    "#отфильтруем пользователей из EU\n",
    "eu_users = p_1_users[p_1_users['region'] == 'EU']['user_id'].nunique()\n",
    "\n",
    "#отфильтруем новых пользователей, зарегистрировавшихся с 7 по 21 декабря 2020 года из EU\n",
    "eu_users_reg_period = (new_users[(new_users['region'] == 'EU') \n",
    "                             & (new_users['first_date'] >= '2020-12-07') \n",
    "                             & (new_users['first_date'] <= '2020-12-21')]['user_id'].nunique()\n",
    "                      )\n",
    "\n",
    "percent_eu_users = eu_users / eu_users_reg_period*100\n",
    "\n",
    "print('Таким образом, аудитория теста из региона EU составляет:', end=' ')\n",
    "if percent_eu_users == 15:\n",
    "    print(f'{percent_eu_users:.2f}% аудитории, что соответствует требованиям ТЗ.')\n",
    "else:\n",
    "    print(f'{percent_eu_users:.2f}% аудитории, что не соответствует требованиям ТЗ.')"
   ]
  },
  {
   "cell_type": "code",
   "execution_count": 30,
   "metadata": {},
   "outputs": [
    {
     "data": {
      "text/plain": [
       "EU           6351\n",
       "N.America     223\n",
       "APAC           72\n",
       "CIS            55\n",
       "Name: region, dtype: int64"
      ]
     },
     "execution_count": 30,
     "metadata": {},
     "output_type": "execute_result"
    }
   ],
   "source": [
    "# оцениваем количество участников теста по регионам\n",
    "p_1_users['region'].value_counts()"
   ]
  },
  {
   "cell_type": "markdown",
   "metadata": {},
   "source": [
    "Таким образом, мы видим, что большая часть аудитории (6351 чел.) принадлежит региону `EU`, как и заявлено в ТЗ. Однако, более 300 человек находятся в других регионах. Так как изначально планировалось, что тест проводится среди пользователей `EU`, то необходимо удалить пользователей из других регионов. Они являются выбросами в данной ситуации."
   ]
  },
  {
   "cell_type": "code",
   "execution_count": 31,
   "metadata": {},
   "outputs": [
    {
     "data": {
      "text/plain": [
       "EU    6351\n",
       "Name: region, dtype: int64"
      ]
     },
     "execution_count": 31,
     "metadata": {},
     "output_type": "execute_result"
    }
   ],
   "source": [
    "p_1_users = p_1_users.query('region == \"EU\"')\n",
    "p_1_users['region'].value_counts()"
   ]
  },
  {
   "cell_type": "markdown",
   "metadata": {},
   "source": [
    "<div class=\"alert alert-block alert-danger\">\n",
    "<h2> Комментарий ревьюера <a class=\"tocSkip\"></h2>\n",
    "\n",
    "    \n",
    "<b>На доработку❌:</b>\n",
    "\n",
    "1. Знаменатель должен быть отфильтрован по датам набора пользователей в исследуемый тест.\n",
    "    \n",
    "2. Не исследована региональная принадлежность `участников теста` (таблица `participants`). Согласно ТЗ, аудитория теста - участники из региона `EU`. Соответственно наличие в данных участников из иных регионов мы должны расценивать как отклонение от ТЗ. Тебе нужно принять решение о том, что делать с такими пользователями, если они найдутся - удалить или оставить в данных - и обосновать его в выводе."
   ]
  },
  {
   "cell_type": "markdown",
   "metadata": {},
   "source": [
    "<div class=\"alert alert-info\">\n",
    "<h2> Комментарий студента <a class=\"tocSkip\"> </h2>\n",
    "\n",
    "Подправлено\n",
    "</div>"
   ]
  },
  {
   "cell_type": "markdown",
   "metadata": {},
   "source": [
    "<div class=\"alert alert-success\">\n",
    "<h2> Комментарий ревьюера v.2 <a class=\"tocSkip\"> </h2>\n",
    "\n",
    "<b>Все отлично!👍:</b> Учтено."
   ]
  },
  {
   "cell_type": "markdown",
   "metadata": {},
   "source": [
    "### Равномерность распределения пользователей по группам теста"
   ]
  },
  {
   "cell_type": "code",
   "execution_count": 32,
   "metadata": {},
   "outputs": [],
   "source": [
    "# объединим датафреймы p_1_users (бывшие users и participants) и actions в один по user_id\n",
    "df = p_1_users.merge(events, on='user_id', how='left')"
   ]
  },
  {
   "cell_type": "code",
   "execution_count": 33,
   "metadata": {},
   "outputs": [
    {
     "data": {
      "text/html": [
       "<div>\n",
       "<style scoped>\n",
       "    .dataframe tbody tr th:only-of-type {\n",
       "        vertical-align: middle;\n",
       "    }\n",
       "\n",
       "    .dataframe tbody tr th {\n",
       "        vertical-align: top;\n",
       "    }\n",
       "\n",
       "    .dataframe thead th {\n",
       "        text-align: right;\n",
       "    }\n",
       "</style>\n",
       "<table border=\"1\" class=\"dataframe\">\n",
       "  <thead>\n",
       "    <tr style=\"text-align: right;\">\n",
       "      <th></th>\n",
       "      <th>group</th>\n",
       "      <th>event_name</th>\n",
       "      <th>user_id</th>\n",
       "    </tr>\n",
       "  </thead>\n",
       "  <tbody>\n",
       "    <tr>\n",
       "      <th>0</th>\n",
       "      <td>A</td>\n",
       "      <td>login</td>\n",
       "      <td>2604</td>\n",
       "    </tr>\n",
       "    <tr>\n",
       "      <th>1</th>\n",
       "      <td>A</td>\n",
       "      <td>product_cart</td>\n",
       "      <td>782</td>\n",
       "    </tr>\n",
       "    <tr>\n",
       "      <th>2</th>\n",
       "      <td>A</td>\n",
       "      <td>product_page</td>\n",
       "      <td>1685</td>\n",
       "    </tr>\n",
       "    <tr>\n",
       "      <th>3</th>\n",
       "      <td>A</td>\n",
       "      <td>purchase</td>\n",
       "      <td>833</td>\n",
       "    </tr>\n",
       "    <tr>\n",
       "      <th>4</th>\n",
       "      <td>B</td>\n",
       "      <td>login</td>\n",
       "      <td>877</td>\n",
       "    </tr>\n",
       "    <tr>\n",
       "      <th>5</th>\n",
       "      <td>B</td>\n",
       "      <td>product_cart</td>\n",
       "      <td>244</td>\n",
       "    </tr>\n",
       "    <tr>\n",
       "      <th>6</th>\n",
       "      <td>B</td>\n",
       "      <td>product_page</td>\n",
       "      <td>493</td>\n",
       "    </tr>\n",
       "    <tr>\n",
       "      <th>7</th>\n",
       "      <td>B</td>\n",
       "      <td>purchase</td>\n",
       "      <td>249</td>\n",
       "    </tr>\n",
       "  </tbody>\n",
       "</table>\n",
       "</div>"
      ],
      "text/plain": [
       "  group    event_name  user_id\n",
       "0     A         login     2604\n",
       "1     A  product_cart      782\n",
       "2     A  product_page     1685\n",
       "3     A      purchase      833\n",
       "4     B         login      877\n",
       "5     B  product_cart      244\n",
       "6     B  product_page      493\n",
       "7     B      purchase      249"
      ]
     },
     "execution_count": 33,
     "metadata": {},
     "output_type": "execute_result"
    }
   ],
   "source": [
    "test_groups = df.groupby(['group', 'event_name'])['user_id'].nunique().reset_index()\n",
    "test_groups"
   ]
  },
  {
   "cell_type": "markdown",
   "metadata": {},
   "source": [
    "Таким образом, видим, что видим, колоссальную разницу между количеством участников группы А и группы В по всем действиям."
   ]
  },
  {
   "cell_type": "markdown",
   "metadata": {},
   "source": [
    "<div class=\"alert alert-success\">\n",
    "<h2> Комментарий ревьюера <a class=\"tocSkip\"> </h2>\n",
    "\n",
    "<b>Все отлично!👍:</b>\n",
    "    \n",
    "Есть дисбаланс по участникам теста, верно. Тут тем не менее важно отметить, что не столько важен сам баланс пользователей между группами, а достижение группами нужного количества участников теста для обеспечения требуемой статистической мощности нашего теста. Этот размер группы обычно высчитывается с помощью специальных калькуляторов на этапе проектирования А/В теста."
   ]
  },
  {
   "cell_type": "markdown",
   "metadata": {},
   "source": [
    "### Проверка на перечения групп теста"
   ]
  },
  {
   "cell_type": "code",
   "execution_count": 34,
   "metadata": {},
   "outputs": [],
   "source": [
    "# посчитаем количество пользователей, принимавших участие в каждом из тестов\n",
    "test1_users = set(participants[participants['ab_test'] == 'interface_eu_test']['user_id'])\n",
    "test2_users = set(participants[participants['ab_test'] == 'recommender_system_test']['user_id'])"
   ]
  },
  {
   "cell_type": "code",
   "execution_count": 35,
   "metadata": {},
   "outputs": [
    {
     "name": "stdout",
     "output_type": "stream",
     "text": [
      "Процент пересечения пользователей: 13.84974496412207\n",
      "Количество пересечений пользователей: 1602\n"
     ]
    }
   ],
   "source": [
    "# Определяем пересечение пользователей\n",
    "intersection = set(test1_users).intersection(test2_users)\n",
    "# Вычисляем количество пользователей в пересечении \n",
    "num_users = len(intersection)\n",
    "# Вычисляем процент пересечения\n",
    "total_users_test1 = len(test1_users) \n",
    "total_users_test2 = len(test2_users) \n",
    "intersection_percent = (num_users / total_users_test1) * 100\n",
    "\n",
    "print(\"Процент пересечения пользователей:\", intersection_percent)\n",
    "print(\"Количество пересечений пользователей:\", num_users)"
   ]
  },
  {
   "cell_type": "code",
   "execution_count": 36,
   "metadata": {},
   "outputs": [],
   "source": [
    "# Избавляемся от перечений\n",
    "df = df[~df['user_id'].isin(intersection)].reset_index(drop=True)"
   ]
  },
  {
   "cell_type": "markdown",
   "metadata": {},
   "source": [
    "Таким образом, было обнаружено перечение между участниками разных тестов, что говорит о некорректности проведения теста. Перечения с другим тестом могут вызвать лишние погрешности в тесте, поэтому от них также следует избавиться."
   ]
  },
  {
   "cell_type": "markdown",
   "metadata": {},
   "source": [
    "<div class=\"alert alert-success\">\n",
    "<h2> Комментарий ревьюера <a class=\"tocSkip\"> </h2>\n",
    "\n",
    "<b>Все отлично!👍:</b>\n",
    "    \n",
    "Найдено пересечение между тестами."
   ]
  },
  {
   "cell_type": "markdown",
   "metadata": {},
   "source": [
    "<div class=\"alert alert-block alert-danger\">\n",
    "<h2> Комментарий ревьюера <a class=\"tocSkip\"></h2>\n",
    "\n",
    "    \n",
    "<b>На доработку❌:</b>\n",
    "\n",
    "1. Нужно таке вывести количество пользователей из пересечения.\n",
    "    \n",
    "2. Нужно принять решение о дальнейшей работе с пользователями из пересечения и обосновать его."
   ]
  },
  {
   "cell_type": "markdown",
   "metadata": {},
   "source": [
    "<div class=\"alert alert-info\">\n",
    "<h2> Комментарий студента <a class=\"tocSkip\"> </h2>\n",
    "\n",
    "Подправлено\n",
    "</div>"
   ]
  },
  {
   "cell_type": "markdown",
   "metadata": {},
   "source": [
    "<div class=\"alert alert-success\">\n",
    "<h2> Комментарий ревьюера v.2 <a class=\"tocSkip\"> </h2>\n",
    "\n",
    "<b>Все отлично!👍:</b> Учтено."
   ]
  },
  {
   "cell_type": "code",
   "execution_count": 37,
   "metadata": {},
   "outputs": [
    {
     "name": "stdout",
     "output_type": "stream",
     "text": [
      "Пересечений между участниками теста нет\n"
     ]
    }
   ],
   "source": [
    "#сгруппируем p_1 по user_id и посчитаем кол-во уникальных значений в группе A и B\n",
    "users_grouped = p_1.groupby('user_id')['group'].nunique()\n",
    "\n",
    "#выберем только те user_id, которые попали в обе группы теста\n",
    "intersect_users = users_grouped[users_grouped == 2]\n",
    "\n",
    "if not intersect_users.empty:\n",
    "    print(\"Есть пересечения между участниками теста\")\n",
    "    print(intersect_users)\n",
    "else:\n",
    "    print(\"Пересечений между участниками теста нет\")"
   ]
  },
  {
   "cell_type": "markdown",
   "metadata": {},
   "source": [
    "<div class=\"alert alert-success\">\n",
    "<h2> Комментарий ревьюера <a class=\"tocSkip\"> </h2>\n",
    "\n",
    "<b>Все отлично!👍:</b>\n",
    "    \n",
    "Внутри теста нет пересечений."
   ]
  },
  {
   "cell_type": "markdown",
   "metadata": {},
   "source": [
    "### Даты совершения событий участниками теста"
   ]
  },
  {
   "cell_type": "code",
   "execution_count": 38,
   "metadata": {},
   "outputs": [
    {
     "name": "stdout",
     "output_type": "stream",
     "text": [
      "Данные о событиях с 2020-12-07 00:00:33 по 2020-12-30 23:36:33\n"
     ]
    }
   ],
   "source": [
    "print('Данные о событиях с', events['event_dt'].min(), 'по', events['event_dt'].max())"
   ]
  },
  {
   "cell_type": "markdown",
   "metadata": {},
   "source": [
    "Не соответствует ТЗ"
   ]
  },
  {
   "cell_type": "markdown",
   "metadata": {},
   "source": [
    "<div class=\"alert alert-success\">\n",
    "<h2> Комментарий ревьюера <a class=\"tocSkip\"> </h2>\n",
    "\n",
    "<b>Все отлично!👍:</b>\n",
    "    \n",
    "Верно, часть событий отсутствует."
   ]
  },
  {
   "cell_type": "markdown",
   "metadata": {},
   "source": [
    "### Выявление пользователей, которые не участвовали в событиях"
   ]
  },
  {
   "cell_type": "code",
   "execution_count": 39,
   "metadata": {},
   "outputs": [
    {
     "name": "stdout",
     "output_type": "stream",
     "text": [
      "Количество пользователей, не совершивших ни одного действия: 2155\n"
     ]
    }
   ],
   "source": [
    "# выведем строки с пользователями, которые не совершили ни одного действия после регистрации\n",
    "no_actions_users = df[df['event_name'].isna()]\n",
    "\n",
    "#выведем кол-о таких пользователей\n",
    "print(f\"Количество пользователей, не совершивших ни одного действия: {no_actions_users['user_id'].nunique()}\")"
   ]
  },
  {
   "cell_type": "code",
   "execution_count": 40,
   "metadata": {},
   "outputs": [
    {
     "data": {
      "text/plain": [
       "B    1381\n",
       "A     774\n",
       "Name: group, dtype: int64"
      ]
     },
     "execution_count": 40,
     "metadata": {},
     "output_type": "execute_result"
    }
   ],
   "source": [
    "# оцениваем распределение неактивных пользователей по группам\n",
    "no_actions_users['group'].value_counts()"
   ]
  },
  {
   "cell_type": "markdown",
   "metadata": {},
   "source": [
    "<div class=\"alert alert-success\">\n",
    "<h2> Комментарий ревьюера <a class=\"tocSkip\"> </h2>\n",
    "\n",
    "<b>Все отлично!👍:</b>\n",
    "    \n",
    "Найдены неактивные пользователи."
   ]
  },
  {
   "cell_type": "markdown",
   "metadata": {},
   "source": [
    "<div class=\"alert alert-block alert-danger\">\n",
    "<h2> Комментарий ревьюера <a class=\"tocSkip\"></h2>\n",
    "\n",
    "    \n",
    "<b>На доработку❌:</b>\n",
    "\n",
    "Нужно также оценить их распределение по группам."
   ]
  },
  {
   "cell_type": "markdown",
   "metadata": {},
   "source": [
    "<div class=\"alert alert-info\">\n",
    "<h2> Комментарий студента <a class=\"tocSkip\"> </h2>\n",
    "\n",
    "Подправлено, вывод по оценке ниже\n",
    "</div>"
   ]
  },
  {
   "cell_type": "markdown",
   "metadata": {},
   "source": [
    "<div class=\"alert alert-success\">\n",
    "<h2> Комментарий ревьюера v.2 <a class=\"tocSkip\"> </h2>\n",
    "\n",
    "<b>Все отлично!👍:</b> Учтено."
   ]
  },
  {
   "cell_type": "code",
   "execution_count": 41,
   "metadata": {},
   "outputs": [
    {
     "name": "stdout",
     "output_type": "stream",
     "text": [
      "Осталось участников теста: 2594\n"
     ]
    }
   ],
   "source": [
    "#удалим из df пользователей, которые не совершили ни одного действия\n",
    "df = df[df['user_id'].isin(events['user_id'].unique())]\n",
    "#проверим результат\n",
    "remaining_users3 = df['user_id'].nunique()\n",
    "print(f'Осталось участников теста: {remaining_users3}')"
   ]
  },
  {
   "cell_type": "markdown",
   "metadata": {},
   "source": [
    "Таким образом, в ходе проверки было найдено 2155 пользователей, которые не совершили ни одного действия после регистрации. Cтоит отметить, что в группе В таких пользователей оказалось больше, чем в группе А. Было принято решение удалить их, так как наличие большого количества таких пользователей (почти 50%) могут существенно искажать результаты теста. В итоге, осталосm 2594 пользователей. "
   ]
  },
  {
   "cell_type": "markdown",
   "metadata": {},
   "source": [
    "<div class=\"alert alert-success\">\n",
    "<h2> Комментарий ревьюера <a class=\"tocSkip\"> </h2>\n",
    "\n",
    "<b>Все отлично!👍:</b>\n",
    "    \n",
    "Неактивные пользователи удалены."
   ]
  },
  {
   "cell_type": "markdown",
   "metadata": {},
   "source": [
    "### Горизонт анализа"
   ]
  },
  {
   "cell_type": "code",
   "execution_count": 42,
   "metadata": {},
   "outputs": [
    {
     "name": "stdout",
     "output_type": "stream",
     "text": [
      "Количество удаленных строк: 1033\n"
     ]
    }
   ],
   "source": [
    "# исправления по пункту 1\n",
    "users_lt_14d = df[df['event_dt'] - df['first_date'] >= timedelta(days=12)]\n",
    "n_rows = len(users_lt_14d)\n",
    "df = df.drop(users_lt_14d.index)\n",
    "print(f\"Количество удаленных строк: {n_rows}\")"
   ]
  },
  {
   "cell_type": "markdown",
   "metadata": {},
   "source": [
    "<div class=\"alert alert-success\">\n",
    "<h2> Комментарий ревьюера <a class=\"tocSkip\"> </h2>\n",
    "\n",
    "<b>Все отлично!👍:</b>\n",
    "    \n",
    "Выполнили фильтрацию по `lifetime`."
   ]
  },
  {
   "cell_type": "code",
   "execution_count": 43,
   "metadata": {},
   "outputs": [
    {
     "data": {
      "text/plain": [
       "event_name\n",
       "login           2.576369\n",
       "product_cart    2.576126\n",
       "product_page    2.551448\n",
       "purchase        2.496841\n",
       "Name: lifetime, dtype: float64"
      ]
     },
     "execution_count": 43,
     "metadata": {},
     "output_type": "execute_result"
    }
   ],
   "source": [
    "# исправления по пункту 2\n",
    "df['lifetime'] = (df['event_dt'] - df['first_date']).dt.days \n",
    "df.groupby('event_name')['lifetime'].mean()"
   ]
  },
  {
   "cell_type": "markdown",
   "metadata": {},
   "source": [
    "Таким образом, пользователи в среднем совершают свои первые события в течение 3 дней, что как раз укладывается в 14 дней."
   ]
  },
  {
   "cell_type": "code",
   "execution_count": 44,
   "metadata": {},
   "outputs": [
    {
     "data": {
      "text/plain": [
       "Timestamp('2020-12-29 23:38:29')"
      ]
     },
     "execution_count": 44,
     "metadata": {},
     "output_type": "execute_result"
    }
   ],
   "source": [
    "df['event_dt'].max()"
   ]
  },
  {
   "cell_type": "code",
   "execution_count": 45,
   "metadata": {},
   "outputs": [
    {
     "data": {
      "text/plain": [
       "datetime.date(2020, 12, 16)"
      ]
     },
     "execution_count": 45,
     "metadata": {},
     "output_type": "execute_result"
    }
   ],
   "source": [
    "# исправления по пункту 3\n",
    "# задаём момент и горизонт анализа данных\n",
    "observation_date = date(2020, 12, 30) # дата фактического завершения теста\n",
    "horizon_days = 14\n",
    "\n",
    "# создаём опцию «игнорировать горизонт»\n",
    "ignore_horizon = False\n",
    "\n",
    "# посчитаем максимальную дату привлечения пользователей\n",
    "last_suitable_acquisition_date = observation_date - timedelta(days=horizon_days)\n",
    "last_suitable_acquisition_date "
   ]
  },
  {
   "cell_type": "markdown",
   "metadata": {},
   "source": [
    "14 дней прожили, пользователи, зарегистрированные с 07.12.2020 по 16.12.2020. Таким образом, пользователи, зарегистрированные позднее 16.12.2020 не успеют 'прожить' 14 дней."
   ]
  },
  {
   "cell_type": "code",
   "execution_count": 46,
   "metadata": {},
   "outputs": [
    {
     "name": "stdout",
     "output_type": "stream",
     "text": [
      "Пользователи, которые не прожили 14 дней: 1175\n",
      "Всего пользователей: 2594\n",
      "Доля пользователей, которые не прожили 14 дней от общего числа пользователей 45.29683885890517 %\n"
     ]
    }
   ],
   "source": [
    "date = date(2020, 12, 16)\n",
    "print('Пользователи, которые не прожили 14 дней:', df.query('first_date > @date')['user_id'].nunique())\n",
    "print('Всего пользователей:', df['user_id'].nunique())\n",
    "print('Доля пользователей, которые не прожили 14 дней от общего числа пользователей',\n",
    "     df.query('first_date > @date')['user_id'].nunique() * 100 / df['user_id'].nunique(), '%')"
   ]
  },
  {
   "cell_type": "markdown",
   "metadata": {},
   "source": [
    "Доля таких пользователей составляет половину участников теста. Масштаб такой проблемы является колоссальным, так как большинство пользователей могли не проделать основные шаги: от регистрации до совершения покупки. Было подтверждено в ходе расчетов, что в среднем основные события совершаются примерно в течение 12 дней (3 дня на основной этап). Поэтому в данном случае для оценки конверсии нужно ждать в среднем 12 дней, так как основные события совершаются раньше."
   ]
  },
  {
   "cell_type": "markdown",
   "metadata": {},
   "source": [
    "<div class=\"alert alert-block alert-danger\">\n",
    "<h2> Комментарий ревьюера <a class=\"tocSkip\"></h2>\n",
    "\n",
    "    \n",
    "<b>На доработку❌:</b>\n",
    "    \n",
    "1. 14 день должен входить в интервал фильтрации - нулевой день не считается за первый.\n",
    "    \n",
    "2. Не выполнено: `оцените когда пользователи совершают свои первые события каждого вида.`. Ожидается оценка среднего `lifetime` __первого__ события каждого типа.\n",
    "    \n",
    "3. Не выполнено `проверьте, что все участники теста имели возможность совершать события все 14 дней с момента регистрации`. Нужно найти пользователей, которые не прожили 14 дней до даты __фактического__ завершения теста, оценить их долю от общего числа пользователей для понимания масштаба проблема.\n",
    "    \n",
    "4. Если в п.2 пользователи найдутся, по ТЗ мы должны исключить их, так как пользователь должен прожить в системе 14 дней для оценки конверсии. Однако с учётом результатов п.1 нужно будет подумать о том, действительно ли нужно ждать 14 дней для оценки конверсии - вдруг основные события совершаются раньше."
   ]
  },
  {
   "cell_type": "markdown",
   "metadata": {},
   "source": [
    "<div class=\"alert alert-info\">\n",
    "<h2> Комментарий студента <a class=\"tocSkip\"> </h2>\n",
    "\n",
    "Замечания учтены выше.\n",
    "</div>"
   ]
  },
  {
   "cell_type": "markdown",
   "metadata": {},
   "source": [
    "<div class=\"alert alert-block alert-danger\">\n",
    "<h2> Комментарий ревьюера v.2 <a class=\"tocSkip\"></h2>\n",
    "\n",
    "    \n",
    "<b>На доработку❌:</b>\n",
    "    \n",
    "1. Отталкиваться нужно от __фактической__, а не плановой даты.\n",
    "    \n",
    "2. Зачем отнимаем один день?"
   ]
  },
  {
   "cell_type": "markdown",
   "metadata": {},
   "source": [
    "<div class=\"alert alert-info\">\n",
    "<h2> Комментарий студента <a class=\"tocSkip\"> </h2>\n",
    "\n",
    "Переработано\n",
    "</div>"
   ]
  },
  {
   "cell_type": "markdown",
   "metadata": {},
   "source": [
    "<div class=\"alert alert-success\">\n",
    "<h2> Комментарий ревьюера v.3 <a class=\"tocSkip\"> </h2>\n",
    "\n",
    "<b>Все отлично!👍:</b>\n",
    "    \n",
    "Учтено."
   ]
  },
  {
   "cell_type": "markdown",
   "metadata": {},
   "source": [
    "Таким образом, в данных было обнаружено 1033 строк, страше 12 дней с момента регистрации, так как это существенно может повлиять на результаты теста."
   ]
  },
  {
   "cell_type": "markdown",
   "metadata": {},
   "source": [
    "## Выводы по главе 9"
   ]
  },
  {
   "cell_type": "markdown",
   "metadata": {},
   "source": [
    "Таким образом, в ходе оцнеки корректности проведения теста были выявлены следующие ошибки:\n",
    "1. Период набора пользователей в данных совпадает с ТЗ;\n",
    "2. В связи с этим, пользователи из EU составляют 15% от общего количества, как было заявлено в ТЗ;\n",
    "3. Пользователи по группам распределены неравномерно. В группе А существенно больше людей, чем в группе В;\n",
    "4. Примерно 13% пользователей пересекаются между двумя независимыми тестами, чего быть не должно. Внутри исследуемого теста пользователи не пересекаются;\n",
    "5. Даты совершения событий участниками теста существенно отличаются;\n",
    "6. Были выявлены зарегистрированные пользователи, которые не участвовали в событиях. Это оказало существенное влияние на результаты теста, поскольку таких пользователей было практически 50%.\n",
    "7. Также было обнаружено 608 пользователей, которые совершили какие-либо действия старше 14 дней."
   ]
  },
  {
   "cell_type": "markdown",
   "metadata": {},
   "source": [
    "<div class=\"alert alert-success\">\n",
    "<h2> Комментарий ревьюера <a class=\"tocSkip\"> </h2>\n",
    "\n",
    "<b>Все отлично!👍:</b>\n",
    "    \n",
    "Есть итоговый вывод о качестве теста - отлично!"
   ]
  },
  {
   "cell_type": "code",
   "execution_count": 47,
   "metadata": {},
   "outputs": [
    {
     "data": {
      "text/plain": [
       "2594"
      ]
     },
     "execution_count": 47,
     "metadata": {},
     "output_type": "execute_result"
    }
   ],
   "source": [
    "# Всего пользователей после чистки данных:\n",
    "df['user_id'].nunique()"
   ]
  },
  {
   "cell_type": "markdown",
   "metadata": {},
   "source": [
    "Воспользовавшийсь калькулятором А/В тестов (https://www.evanmiller.org/ab-testing/sample-size.html#!50;80;5;5;0) можно понять, что при базовом значении показателя конверсии в 50% рекомендуемый размер группы теста составляет 1567 человек. Фактический размер `двух` групп теста составляет 2594 чел, что не дает возможность получить достоверные результаты А/B теста. Требуется в 1.5 раза больше пользователей."
   ]
  },
  {
   "cell_type": "markdown",
   "metadata": {},
   "source": [
    "<div class=\"alert alert-block alert-danger\">\n",
    "<h2> Комментарий ревьюера <a class=\"tocSkip\"></h2>\n",
    "\n",
    "    \n",
    "<b>На доработку❌:</b> Не выполнено: `Представьте развернутый вывод о соответствии теста требованиям технического задания и возможности получения достоверных результатов АБ-теста, исходя из базового показателя конверсии в 50%.`. Тут с помощью калькулятора А/В тестов (например, https://www.evanmiller.org/ab-testing/sample-size.html) оценить размер группы теста, достаточный для получения достоверных результатов А/В теста, сравнить с фактическим и сделать вывод о возможности получить корректные результаты по тесту."
   ]
  },
  {
   "cell_type": "markdown",
   "metadata": {},
   "source": [
    "<div class=\"alert alert-block alert-danger\">\n",
    "<h2> Комментарий ревьюера v.2 <a class=\"tocSkip\"></h2>\n",
    "\n",
    "    \n",
    "<b>На доработку❌:</b> 1567 - это на группу. У нас выполняется?"
   ]
  },
  {
   "cell_type": "markdown",
   "metadata": {},
   "source": [
    "<div class=\"alert alert-info\">\n",
    "<h2> Комментарий студента <a class=\"tocSkip\"> </h2>\n",
    "\n",
    "Переработано\n",
    "</div>"
   ]
  },
  {
   "cell_type": "markdown",
   "metadata": {},
   "source": [
    "<div class=\"alert alert-success\">\n",
    "<h2> Комментарий ревьюера v.3 <a class=\"tocSkip\"> </h2>\n",
    "\n",
    "<b>Все отлично!👍:</b> Учтено."
   ]
  },
  {
   "cell_type": "markdown",
   "metadata": {},
   "source": [
    "Из всех вышеописанных проблем делаем вывод о том, что проведенный тест не соответствует требованиям технического задания."
   ]
  },
  {
   "cell_type": "code",
   "execution_count": 48,
   "metadata": {},
   "outputs": [
    {
     "name": "stdout",
     "output_type": "stream",
     "text": [
      "Период событий пользователей: с 2020-12-07 00:16:00 по 2020-12-29 23:38:29\n"
     ]
    }
   ],
   "source": [
    "# Проверяем конечный промежуток событий после чистки данных\n",
    "print('Период событий пользователей: с', df['event_dt'].min(), 'по', df['event_dt'].max())"
   ]
  },
  {
   "cell_type": "code",
   "execution_count": 49,
   "metadata": {},
   "outputs": [],
   "source": [
    "df = df.reset_index(drop=True)"
   ]
  },
  {
   "cell_type": "markdown",
   "metadata": {},
   "source": [
    "## EDA. Формулировка гипотез"
   ]
  },
  {
   "cell_type": "markdown",
   "metadata": {},
   "source": [
    "### Распределение количества событий на пользователя в разрезе групп теста"
   ]
  },
  {
   "cell_type": "code",
   "execution_count": 50,
   "metadata": {},
   "outputs": [
    {
     "data": {
      "text/html": [
       "<div>\n",
       "<style scoped>\n",
       "    .dataframe tbody tr th:only-of-type {\n",
       "        vertical-align: middle;\n",
       "    }\n",
       "\n",
       "    .dataframe tbody tr th {\n",
       "        vertical-align: top;\n",
       "    }\n",
       "\n",
       "    .dataframe thead th {\n",
       "        text-align: right;\n",
       "    }\n",
       "</style>\n",
       "<table border=\"1\" class=\"dataframe\">\n",
       "  <thead>\n",
       "    <tr style=\"text-align: right;\">\n",
       "      <th></th>\n",
       "      <th>group</th>\n",
       "      <th>user_id</th>\n",
       "      <th>events_per_user</th>\n",
       "    </tr>\n",
       "  </thead>\n",
       "  <tbody>\n",
       "    <tr>\n",
       "      <th>0</th>\n",
       "      <td>A</td>\n",
       "      <td>0010A1C096941592</td>\n",
       "      <td>12</td>\n",
       "    </tr>\n",
       "    <tr>\n",
       "      <th>1</th>\n",
       "      <td>A</td>\n",
       "      <td>003DF44D7589BBD4</td>\n",
       "      <td>15</td>\n",
       "    </tr>\n",
       "    <tr>\n",
       "      <th>2</th>\n",
       "      <td>A</td>\n",
       "      <td>00505E15A9D81546</td>\n",
       "      <td>5</td>\n",
       "    </tr>\n",
       "    <tr>\n",
       "      <th>3</th>\n",
       "      <td>A</td>\n",
       "      <td>006E3E4E232CE760</td>\n",
       "      <td>6</td>\n",
       "    </tr>\n",
       "    <tr>\n",
       "      <th>4</th>\n",
       "      <td>A</td>\n",
       "      <td>00A52DCF85F1BE03</td>\n",
       "      <td>2</td>\n",
       "    </tr>\n",
       "  </tbody>\n",
       "</table>\n",
       "</div>"
      ],
      "text/plain": [
       "  group           user_id  events_per_user\n",
       "0     A  0010A1C096941592               12\n",
       "1     A  003DF44D7589BBD4               15\n",
       "2     A  00505E15A9D81546                5\n",
       "3     A  006E3E4E232CE760                6\n",
       "4     A  00A52DCF85F1BE03                2"
      ]
     },
     "execution_count": 50,
     "metadata": {},
     "output_type": "execute_result"
    }
   ],
   "source": [
    "events_and_user = df.groupby(['group', 'user_id'])['event_name'].count().reset_index()\n",
    "events_and_user = events_and_user.rename(columns={'event_name': 'events_per_user'})\n",
    "events_and_user.head()"
   ]
  },
  {
   "cell_type": "code",
   "execution_count": 51,
   "metadata": {},
   "outputs": [
    {
     "data": {
      "image/png": "[encoded data removed]"
     },
     "metadata": {},
     "output_type": "display_data"
    }
   ],
   "source": [
    "fig = px.histogram(events_and_user, x='events_per_user', color='group', nbins=50,\n",
    "                   opacity=0.5, color_discrete_sequence=['blue', 'red'])\n",
    "fig.update_layout(xaxis_title='Количество событий на пользователя',\n",
    "                  yaxis_title='Количество пользователей',\n",
    "                  title='Распределение количества событий на пользователя в разрезе групп теста')\n",
    "fig.show(renderer='png', width=700, height=450, scale=None)"
   ]
  },
  {
   "cell_type": "code",
   "execution_count": 52,
   "metadata": {},
   "outputs": [
    {
     "data": {
      "text/plain": [
       "group\n",
       "A    6.722537\n",
       "B    5.279389\n",
       "Name: events_per_user, dtype: float64"
      ]
     },
     "execution_count": 52,
     "metadata": {},
     "output_type": "execute_result"
    }
   ],
   "source": [
    "# Cреднее количество событий на уникального пользователя\n",
    "events_per_user_group = events_and_user.groupby('group')['events_per_user'].mean()\n",
    "events_per_user_group"
   ]
  },
  {
   "cell_type": "markdown",
   "metadata": {},
   "source": [
    "Таким образом, график распределения количества событий на одного пользователя по группам показывает, что большая часть пользователей в целом совершает не больше 4 - 6 событий.\n",
    "Средние значения в группе А и В тоже отличаются. Анализ данных показывает, что пользователи группы А совершают больше событий, чем пользователи группы В. Это связано, прежде всего, с тем, что пользователей в группе А значительно больше."
   ]
  },
  {
   "cell_type": "markdown",
   "metadata": {},
   "source": [
    "<div class=\"alert alert-success\">\n",
    "<h2> Комментарий ревьюера <a class=\"tocSkip\"> </h2>\n",
    "\n",
    "<b>Все отлично!👍:</b>\n",
    "    \n",
    "Исследовано распределение событий на пользователя."
   ]
  },
  {
   "cell_type": "markdown",
   "metadata": {},
   "source": [
    "### Динамика количества событий в группах теста по дням"
   ]
  },
  {
   "cell_type": "code",
   "execution_count": 53,
   "metadata": {},
   "outputs": [
    {
     "data": {
      "image/png": "[encoded data removed]"
     },
     "metadata": {},
     "output_type": "display_data"
    }
   ],
   "source": [
    "# сгруппируем данные по дате и группе и посчитаем общее количество событий в день для каждой группы\n",
    "events_per_day = df.groupby(['group', 'event_dt'])['event_name'].count().reset_index()\n",
    "\n",
    "# построим график\n",
    "fig = px.histogram(events_per_day, x='event_dt', y='event_name', nbins=100, color='group', \n",
    "              color_discrete_sequence=['blue', 'red'], \n",
    "              labels={'event_name': 'Количество событий', 'event_dt': 'Дата события', 'group': 'Группа'})\n",
    "fig.update_layout(title='Динамика количества событий в группах теста по дням',\n",
    "                   yaxis_title='Количество событий')\n",
    "\n",
    "fig.show(renderer='png', width=700, height=450, scale=None)"
   ]
  },
  {
   "cell_type": "markdown",
   "metadata": {},
   "source": [
    "Таким образом, мы видим, что пик событий для группы А иВ приходится на период с 14 декабря по 21 декабря. Минимумы характерны на начало и конец периода."
   ]
  },
  {
   "cell_type": "markdown",
   "metadata": {},
   "source": [
    "<div class=\"alert alert-success\">\n",
    "<h2> Комментарий ревьюера <a class=\"tocSkip\"> </h2>\n",
    "\n",
    "<b>Все отлично!👍:</b>\n",
    "    \n",
    "Активность пользователей исследована."
   ]
  },
  {
   "cell_type": "markdown",
   "metadata": {},
   "source": [
    "### Автоматическая проверка, выдающая список событий, пересекающихся с тестом"
   ]
  },
  {
   "cell_type": "code",
   "execution_count": 54,
   "metadata": {},
   "outputs": [
    {
     "data": {
      "text/html": [
       "<div>\n",
       "<style scoped>\n",
       "    .dataframe tbody tr th:only-of-type {\n",
       "        vertical-align: middle;\n",
       "    }\n",
       "\n",
       "    .dataframe tbody tr th {\n",
       "        vertical-align: top;\n",
       "    }\n",
       "\n",
       "    .dataframe thead th {\n",
       "        text-align: right;\n",
       "    }\n",
       "</style>\n",
       "<table border=\"1\" class=\"dataframe\">\n",
       "  <thead>\n",
       "    <tr style=\"text-align: right;\">\n",
       "      <th></th>\n",
       "      <th>name</th>\n",
       "      <th>regions</th>\n",
       "      <th>start_dt</th>\n",
       "      <th>finish_dt</th>\n",
       "    </tr>\n",
       "  </thead>\n",
       "  <tbody>\n",
       "    <tr>\n",
       "      <th>0</th>\n",
       "      <td>Christmas&amp;New Year Promo</td>\n",
       "      <td>EU, N.America</td>\n",
       "      <td>2020-12-25</td>\n",
       "      <td>2021-01-03</td>\n",
       "    </tr>\n",
       "    <tr>\n",
       "      <th>10</th>\n",
       "      <td>CIS New Year Gift Lottery</td>\n",
       "      <td>CIS</td>\n",
       "      <td>2020-12-30</td>\n",
       "      <td>2021-01-07</td>\n",
       "    </tr>\n",
       "  </tbody>\n",
       "</table>\n",
       "</div>"
      ],
      "text/plain": [
       "                         name        regions   start_dt  finish_dt\n",
       "0    Christmas&New Year Promo  EU, N.America 2020-12-25 2021-01-03\n",
       "10  CIS New Year Gift Lottery            CIS 2020-12-30 2021-01-07"
      ]
     },
     "execution_count": 54,
     "metadata": {},
     "output_type": "execute_result"
    }
   ],
   "source": [
    "start_date = '2020-12-07'\n",
    "end_date = '2020-12-30'\n",
    "marketing_events.query('start_dt >= @start_date & start_dt <= @end_date')"
   ]
  },
  {
   "cell_type": "markdown",
   "metadata": {},
   "source": [
    "Таким образом, получается, что временной промежуток событий в тесте пересекается с двумя маркетинговыми событиями: `Christmas&New Year Promo` и `CIS New Year Gift Lottery` (не будем учитывать, так как затрагивает всего 1 день и явно проводится только в регионе CIS)."
   ]
  },
  {
   "cell_type": "markdown",
   "metadata": {},
   "source": [
    "<div class=\"alert alert-success\">\n",
    "<h2> Комментарий ревьюера <a class=\"tocSkip\"> </h2>\n",
    "\n",
    "<b>Все отлично!👍:</b>\n",
    "    \n",
    "Найдено пересечения с маркетинговыми активностями."
   ]
  },
  {
   "cell_type": "markdown",
   "metadata": {},
   "source": [
    "<div class=\"alert alert-block alert-danger\">\n",
    "<h2> Комментарий ревьюера <a class=\"tocSkip\"></h2>\n",
    "\n",
    "    \n",
    "<b>На доработку❌:</b> \n",
    "    \n",
    "1. Все ли они релевантны для нас с учётом региона проведения теста?\n",
    "    \n",
    "2. Нужно оценить влияние кампании на тест и сделать об этом вывод. У нас есть даты проведения теста, даты протекания маркетингового события, а также количество событий в этом пересечении. Нужно проанализировать возможные изменения в активности пользователей и сделать вывод о влиянии кампании на наш тест."
   ]
  },
  {
   "cell_type": "markdown",
   "metadata": {},
   "source": [
    "<div class=\"alert alert-info\">\n",
    "<h2> Комментарий студента <a class=\"tocSkip\"> </h2>\n",
    "\n",
    "По п. 1 - в выводе выше исключил событие `CIS New Year Gift Lottery`, так как оно затрагивает всего 1 день и является событием для не интересующего нас региона.\n",
    "По п. 2 - вывод написал ниже под графиком.\n",
    "</div>"
   ]
  },
  {
   "cell_type": "markdown",
   "metadata": {},
   "source": [
    "<div class=\"alert alert-success\">\n",
    "<h2> Комментарий ревьюера v.2 <a class=\"tocSkip\"> </h2>\n",
    "\n",
    "<b>Все отлично!👍:</b>\n",
    "    \n",
    "Учтено."
   ]
  },
  {
   "cell_type": "code",
   "execution_count": 55,
   "metadata": {},
   "outputs": [
    {
     "data": {
      "image/png": "[encoded data removed]"
     },
     "metadata": {},
     "output_type": "display_data"
    }
   ],
   "source": [
    "# Красиво отобразим событие на графике\n",
    "fig = px.histogram(events_per_day, x='event_dt', y='event_name', nbins=100, color='group', \n",
    "              color_discrete_sequence=['blue', 'red'], \n",
    "              labels={'event_name': 'Количество событий', 'event_dt': 'Дата события', 'group': 'Группа'})\n",
    "fig.update_layout(title='Динамика количества событий в группах теста по дням (с маркетинговыми событиями)',\n",
    "                   yaxis_title='Количество событий')\n",
    "fig.add_vrect(\n",
    "    x0='2020-12-25', x1='2021-01-03',\n",
    "    fillcolor=\"green\", opacity=0.2,\n",
    "    layer=\"below\", line_width=0,\n",
    "    name='Christmas&New Year Promo'\n",
    ")\n",
    "fig.show(renderer='png', width=700, height=450, scale=None)"
   ]
  },
  {
   "cell_type": "markdown",
   "metadata": {},
   "source": [
    "Зеленым цветом отмечено маркетинговое событие - `Christmas&New Year Promo`. По графику видно, что данное событие не оказывает особого влияния на поведение пользователей. Количество событий равномерно снижается, что логично, так как сезон покупки подарков подошел к концу."
   ]
  },
  {
   "cell_type": "markdown",
   "metadata": {},
   "source": [
    "### Продуктовая воронка"
   ]
  },
  {
   "cell_type": "markdown",
   "metadata": {},
   "source": [
    "<div class=\"alert alert-block alert-danger\">\n",
    "<h2> Комментарий ревьюера <a class=\"tocSkip\"></h2>\n",
    "\n",
    "    \n",
    "<b>На доработку❌:</b> \n",
    "    \n",
    "1. Нужно посчитать табличную воронку событий. В табличную вороноку также нужно добавить основные конверсии - конверсия текущего шага к первому `n/first` и конверсия текущего шага к предыдущему `n/n-1`. Для их расчёта можно использовать любые инструменты, от себя для упрощения расчёта порекомендую использовать:\n",
    "- метод `shift()` (https://pandas.pydata.org/docs/reference/api/pandas.DataFrame.shift.html) для получения предыдущего значения столбца при оценке конверсии `n/n-1`;\n",
    "- метод `max()` (https://pandas.pydata.org/docs/reference/api/pandas.DataFrame.max.html) для получения первого значения столбца при оценке конверсии `n/first`.\n",
    "    \n",
    "2. Нужно мотивировать ручное изменение последовательности событий в воронке: так как событие `purchase` совершило больше пользователей, чем событие `product_cart`, в качестве обоснования стоит добавить рассуждения об альтернативных сценариях совершения покупкой."
   ]
  },
  {
   "cell_type": "markdown",
   "metadata": {},
   "source": [
    "<div class=\"alert alert-info\">\n",
    "<h2> Комментарий студента <a class=\"tocSkip\"> </h2>\n",
    "\n",
    "По п. 1 - добавил в `textinfo` - \"value+percent initial+percent previous\", чтобы отобразить на графики значения основных видов конверсии;\n",
    "\n",
    "По п. 2 - добавил ниже обоснование.\n",
    "</div>"
   ]
  },
  {
   "cell_type": "markdown",
   "metadata": {},
   "source": [
    "<div class=\"alert alert-block alert-danger\">\n",
    "<h2> Комментарий ревьюера v.2 <a class=\"tocSkip\"></h2>\n",
    "\n",
    "    \n",
    "<b>На доработку❌:</b> Обязательно нужно сделать воронку в таблице - исследование в `plotly` может быть дополнением, но важно также сделать табличный анализ."
   ]
  },
  {
   "cell_type": "markdown",
   "metadata": {},
   "source": [
    "<div class=\"alert alert-info\">\n",
    "<h2> Комментарий студента <a class=\"tocSkip\"> </h2>\n",
    "\n",
    "Продуктовые воронки в виде таблиц для групп А и В будут ниже.\n",
    "</div>"
   ]
  },
  {
   "cell_type": "markdown",
   "metadata": {},
   "source": [
    "<div class=\"alert alert-success\">\n",
    "<h2> Комментарий ревьюера v.3 <a class=\"tocSkip\"> </h2>\n",
    "\n",
    "<b>Все отлично!👍:</b> Учтено."
   ]
  },
  {
   "cell_type": "code",
   "execution_count": 56,
   "metadata": {},
   "outputs": [
    {
     "data": {
      "text/html": [
       "<div>\n",
       "<style scoped>\n",
       "    .dataframe tbody tr th:only-of-type {\n",
       "        vertical-align: middle;\n",
       "    }\n",
       "\n",
       "    .dataframe tbody tr th {\n",
       "        vertical-align: top;\n",
       "    }\n",
       "\n",
       "    .dataframe thead th {\n",
       "        text-align: right;\n",
       "    }\n",
       "</style>\n",
       "<table border=\"1\" class=\"dataframe\">\n",
       "  <thead>\n",
       "    <tr style=\"text-align: right;\">\n",
       "      <th></th>\n",
       "      <th>event_name</th>\n",
       "      <th>group</th>\n",
       "      <th>user_id</th>\n",
       "      <th>n/first</th>\n",
       "      <th>n/n-1</th>\n",
       "    </tr>\n",
       "  </thead>\n",
       "  <tbody>\n",
       "    <tr>\n",
       "      <th>0</th>\n",
       "      <td>login</td>\n",
       "      <td>A</td>\n",
       "      <td>1939</td>\n",
       "      <td>100.000000</td>\n",
       "      <td>NaN</td>\n",
       "    </tr>\n",
       "    <tr>\n",
       "      <th>1</th>\n",
       "      <td>product_page</td>\n",
       "      <td>A</td>\n",
       "      <td>1265</td>\n",
       "      <td>65.239814</td>\n",
       "      <td>65.239814</td>\n",
       "    </tr>\n",
       "    <tr>\n",
       "      <th>2</th>\n",
       "      <td>product_cart</td>\n",
       "      <td>A</td>\n",
       "      <td>589</td>\n",
       "      <td>30.376483</td>\n",
       "      <td>46.561265</td>\n",
       "    </tr>\n",
       "    <tr>\n",
       "      <th>3</th>\n",
       "      <td>purchase</td>\n",
       "      <td>A</td>\n",
       "      <td>613</td>\n",
       "      <td>31.614234</td>\n",
       "      <td>104.074703</td>\n",
       "    </tr>\n",
       "  </tbody>\n",
       "</table>\n",
       "</div>"
      ],
      "text/plain": [
       "     event_name group  user_id     n/first       n/n-1\n",
       "0         login     A     1939  100.000000         NaN\n",
       "1  product_page     A     1265   65.239814   65.239814\n",
       "2  product_cart     A      589   30.376483   46.561265\n",
       "3      purchase     A      613   31.614234  104.074703"
      ]
     },
     "execution_count": 56,
     "metadata": {},
     "output_type": "execute_result"
    }
   ],
   "source": [
    "# Продуктовая воронка в виде таблицы для группы А\n",
    "event_countA = (df.query('group==\"A\"').groupby(['event_name', 'group'])\n",
    "                .agg({'user_id':'nunique'})\n",
    "                .reset_index()\n",
    "                .sort_values(by=['group','user_id'], ascending=False)\n",
    "               )\n",
    "\n",
    "d = {2: 1, 1: 2}\n",
    "event_countA = event_countA.rename(d).sort_index()\n",
    "\n",
    "event_countA['n/first'] = event_countA['user_id'] * 100 / event_countA['user_id'].iloc[0]\n",
    "event_countA['n/n-1'] = event_countA['user_id'] * 100 / event_countA['user_id'].shift(1)\n",
    "event_countA"
   ]
  },
  {
   "cell_type": "code",
   "execution_count": 57,
   "metadata": {},
   "outputs": [
    {
     "data": {
      "text/html": [
       "<div>\n",
       "<style scoped>\n",
       "    .dataframe tbody tr th:only-of-type {\n",
       "        vertical-align: middle;\n",
       "    }\n",
       "\n",
       "    .dataframe tbody tr th {\n",
       "        vertical-align: top;\n",
       "    }\n",
       "\n",
       "    .dataframe thead th {\n",
       "        text-align: right;\n",
       "    }\n",
       "</style>\n",
       "<table border=\"1\" class=\"dataframe\">\n",
       "  <thead>\n",
       "    <tr style=\"text-align: right;\">\n",
       "      <th></th>\n",
       "      <th>event_name</th>\n",
       "      <th>group</th>\n",
       "      <th>user_id</th>\n",
       "      <th>n/first</th>\n",
       "      <th>n/n-1</th>\n",
       "    </tr>\n",
       "  </thead>\n",
       "  <tbody>\n",
       "    <tr>\n",
       "      <th>0</th>\n",
       "      <td>login</td>\n",
       "      <td>B</td>\n",
       "      <td>654</td>\n",
       "      <td>100.000000</td>\n",
       "      <td>NaN</td>\n",
       "    </tr>\n",
       "    <tr>\n",
       "      <th>1</th>\n",
       "      <td>product_page</td>\n",
       "      <td>B</td>\n",
       "      <td>367</td>\n",
       "      <td>56.116208</td>\n",
       "      <td>56.116208</td>\n",
       "    </tr>\n",
       "    <tr>\n",
       "      <th>2</th>\n",
       "      <td>product_cart</td>\n",
       "      <td>B</td>\n",
       "      <td>184</td>\n",
       "      <td>28.134557</td>\n",
       "      <td>50.136240</td>\n",
       "    </tr>\n",
       "    <tr>\n",
       "      <th>3</th>\n",
       "      <td>purchase</td>\n",
       "      <td>B</td>\n",
       "      <td>191</td>\n",
       "      <td>29.204893</td>\n",
       "      <td>103.804348</td>\n",
       "    </tr>\n",
       "  </tbody>\n",
       "</table>\n",
       "</div>"
      ],
      "text/plain": [
       "     event_name group  user_id     n/first       n/n-1\n",
       "0         login     B      654  100.000000         NaN\n",
       "1  product_page     B      367   56.116208   56.116208\n",
       "2  product_cart     B      184   28.134557   50.136240\n",
       "3      purchase     B      191   29.204893  103.804348"
      ]
     },
     "execution_count": 57,
     "metadata": {},
     "output_type": "execute_result"
    }
   ],
   "source": [
    "# Продуктовая воронка в виде таблицы для группы В\n",
    "event_countB = (df.query('group==\"B\"')\n",
    "                .groupby(['event_name', 'group'])\n",
    "                .agg({'user_id':'nunique'})\n",
    "                .reset_index()\n",
    "                .sort_values(by=['group','user_id'], ascending=False)\n",
    "               )\n",
    "d = {2: 1, 1: 2}\n",
    "event_countB = event_countB.rename(d).sort_index()\n",
    "\n",
    "event_countB['n/first'] = event_countB['user_id'] * 100 / event_countB['user_id'].iloc[0]\n",
    "event_countB['n/n-1'] = event_countB['user_id'] * 100 / event_countB['user_id'].shift(1)\n",
    "event_countB"
   ]
  },
  {
   "cell_type": "markdown",
   "metadata": {},
   "source": [
    "Исходя из табличных данных, мы наблюдаем, что конверсии группы В не превышают конверсии группы А, однако для каждой из групп мы замечаем одинаковую тенденцию, если рассматривать конверсии текущего шага к предыдущему: те, кто положил товар в корзину с большей вероятностью совершит покупку."
   ]
  },
  {
   "cell_type": "code",
   "execution_count": 58,
   "metadata": {},
   "outputs": [
    {
     "data": {
      "image/png": "[encoded data removed]"
     },
     "metadata": {},
     "output_type": "display_data"
    }
   ],
   "source": [
    "\n",
    "#Строим воронку\n",
    "event_countA = (df.query('group==\"A\"').groupby(['event_name', 'group'])\n",
    "                .agg({'user_id':'nunique'})\n",
    "                .reset_index()\n",
    "                .sort_values(by=['group','user_id'], ascending=False)\n",
    "               )\n",
    "event_countB = (df.query('group==\"B\"')\n",
    "                .groupby(['event_name', 'group'])\n",
    "                .agg({'user_id':'nunique'})\n",
    "                .reset_index()\n",
    "                .sort_values(by=['group','user_id'], ascending=False)\n",
    "               )\n",
    "event_countA['n'] = [1, 2, 4, 3]\n",
    "event_countA = event_countA.sort_values(by='n')\n",
    "\n",
    "event_countB['n'] = [1, 2, 4, 3]\n",
    "event_countB = event_countB.sort_values(by='n')\n",
    "\n",
    "fig = go.Figure()\n",
    "\n",
    "fig.add_trace(go.Funnel(\n",
    "    name = 'Контрольная группа (А)',\n",
    "    orientation = \"h\",\n",
    "    y=event_countA['event_name'], x=event_countA['user_id'],\n",
    "    textposition = \"inside\",\n",
    "    textinfo = \"value+percent initial+percent previous\"))\n",
    "\n",
    "fig.add_trace(go.Funnel(\n",
    "    name = 'Тестовая группа (B)',\n",
    "    orientation = \"h\",\n",
    "    y=event_countB['event_name'], x=event_countB['user_id'],\n",
    "    textposition = \"inside\",\n",
    "    textinfo = \"value+percent initial+percent previous\"))\n",
    "\n",
    "\n",
    "\n",
    "fig.update_layout(\n",
    "    title=\"Конверсия на разных этапах воронки событий в разрезе групп А и B\",\n",
    "    yaxis_title='логистическая последовательность событий'\n",
    ")\n",
    "    \n",
    "\n",
    "fig.show(renderer='png', width=700, height=450, scale=None)"
   ]
  },
  {
   "cell_type": "markdown",
   "metadata": {},
   "source": [
    "В качестве распределения порядка событий пользователей была выбрана логистическая последовательность: сначала пользователь регистрируется `login`, затем переходит на страницу с товаром `product_page`, добавляет ее в корзину `product_cart`, а затем совершает покупку `purchase`."
   ]
  },
  {
   "cell_type": "markdown",
   "metadata": {},
   "source": [
    "<div class=\"alert alert-success\">\n",
    "<h2> Комментарий ревьюера <a class=\"tocSkip\"> </h2>\n",
    "\n",
    "<b>Все отлично!👍:</b> Здорово, что анализируешь воронку событий в `plotly` - отличное решение для эффективной визуализации."
   ]
  },
  {
   "cell_type": "markdown",
   "metadata": {},
   "source": [
    "<div class=\"alert alert-warning\">\n",
    "    <h2> Комментарий ревьюера <a class=\"tocSkip\"> </h2>\n",
    "    \n",
    "<b>Некоторые замечания и рекомендации⚠️:</b> \n",
    "\n",
    "Было бы полезно добавить на график все основные конверсии - как конверсию текущего шага к предыдущему, так и текущего шага к первому. Их можно отобразить на графике воронки, используя параметр `textinfo()` со значением `value+percent initial+percent previous`.\n",
    "        \n",
    "Рекомендую посмотреть вот этот туториал по работе с воронками в `plotly`: https://plotly.com/python/funnel-charts/. Тут есть очень много хороших примеров, которые ты можешь взять за основу для этого проекта:)"
   ]
  },
  {
   "cell_type": "markdown",
   "metadata": {},
   "source": [
    "<div class=\"alert alert-success\">\n",
    "<h2> Комментарий ревьюера v.2 <a class=\"tocSkip\"> </h2>\n",
    "\n",
    "<b>Все отлично!👍:</b> Учтено."
   ]
  },
  {
   "cell_type": "markdown",
   "metadata": {},
   "source": [
    "<div class=\"alert alert-block alert-danger\">\n",
    "<h2> Комментарий ревьюера <a class=\"tocSkip\"></h2>\n",
    "\n",
    "    \n",
    "<b>На доработку❌:</b> Также не забудь, пожалуйста, про оформление графика - нужно подписать ось Y. За это отвечает метод `.update_layout()` с параметром `yaxis_title`."
   ]
  },
  {
   "cell_type": "markdown",
   "metadata": {},
   "source": [
    "<div class=\"alert alert-info\">\n",
    "<h2> Комментарий студента <a class=\"tocSkip\"> </h2>\n",
    "\n",
    "Подправлено\n",
    "</div>"
   ]
  },
  {
   "cell_type": "markdown",
   "metadata": {},
   "source": [
    "<div class=\"alert alert-success\">\n",
    "<h2> Комментарий ревьюера v.2 <a class=\"tocSkip\"> </h2>\n",
    "\n",
    "<b>Все отлично!👍:</b> Учтено."
   ]
  },
  {
   "cell_type": "markdown",
   "metadata": {},
   "source": [
    "Таким образом, по построенной продуктовой воронке наблюдаем, как на каждом логическом шаге совершения события конверсия в тестовой группе В ниже, чем в группе А. Ожидаемого эффекта увеличения конверсии в группе В не наблюдается."
   ]
  },
  {
   "cell_type": "markdown",
   "metadata": {},
   "source": [
    "<div class=\"alert alert-success\">\n",
    "<h2> Комментарий ревьюера <a class=\"tocSkip\"> </h2>\n",
    "\n",
    "<b>Все отлично!👍:</b> Верно, достичь ожидаемого прироста метрик не удалось."
   ]
  },
  {
   "cell_type": "markdown",
   "metadata": {},
   "source": [
    "## Выводы по главе 11"
   ]
  },
  {
   "cell_type": "markdown",
   "metadata": {},
   "source": [
    "Таким образом, можно сделать следующие выводы:\n",
    "1. Большая часть пользователей совершает не больше 4-6 событий. Пользователи тестовой группы В менее активны, чем пользователи группы А. На показатели средних значений влияют количество пользователей в группах: оно не равное.\n",
    "2. Выяснилось, что в исследуемом промежутоке времени `2020-12-07` - `2020-12-30` проходило маркетинговое событие `Christmas&New Year Promo`, которое не повлияло на поведение пользователей, так как во время этого события количество действий пользователей равномерно снижалось;\n",
    "3. По построенной продуктовой воронке можно судить о том, что конверсия в тестовой группе В на всех логических этапах пользователей (от регистрации до совершения покупки) имеет низкую конверсию, а значит активность пользователей там оказалась низкой."
   ]
  },
  {
   "cell_type": "markdown",
   "metadata": {},
   "source": [
    "<div class=\"alert alert-success\">\n",
    "<h2> Комментарий ревьюера <a class=\"tocSkip\"> </h2>\n",
    "\n",
    "<b>Все отлично!👍:</b> Вывод по активности пользователей есть - отлично!"
   ]
  },
  {
   "cell_type": "markdown",
   "metadata": {},
   "source": [
    "## Оценка результатов A/B-тестирования"
   ]
  },
  {
   "cell_type": "markdown",
   "metadata": {},
   "source": [
    "### Проверка статистической разницы долей z-критерием"
   ]
  },
  {
   "cell_type": "markdown",
   "metadata": {},
   "source": [
    " Сформулируем гипотезы для A/B-теста:\n",
    " 1. $Н_0$ - Между долями групп A и B нет существенной разницы.\n",
    " 2. $Н_1$ - Между долями групп A и B есть существенная разница."
   ]
  },
  {
   "cell_type": "markdown",
   "metadata": {},
   "source": [
    "<div class=\"alert alert-success\">\n",
    "<h2> Комментарий ревьюера <a class=\"tocSkip\"> </h2>\n",
    "\n",
    "<b>Все отлично!👍:</b> Гипотезы сформулированы."
   ]
  },
  {
   "cell_type": "markdown",
   "metadata": {},
   "source": [
    "Для множественного сравнения двух групп используется `Z-тест`, который позволит определить являются ли две независимые выборки примерно одинаковыми или разными. Перед проверкой гипотезы о равенстве долей очистим данные от выбросов. Для этого нужно посчитать 95-й, 98-й и 99-й перцентили и выберать границу для определения аномалий."
   ]
  },
  {
   "cell_type": "code",
   "execution_count": 59,
   "metadata": {},
   "outputs": [
    {
     "name": "stdout",
     "output_type": "stream",
     "text": [
      "[12. 16. 18.]\n"
     ]
    }
   ],
   "source": [
    "print(np.percentile(df.groupby('user_id').agg(events=('event_name', 'count')), [95, 98, 99])) "
   ]
  },
  {
   "cell_type": "code",
   "execution_count": 60,
   "metadata": {},
   "outputs": [
    {
     "name": "stdout",
     "output_type": "stream",
     "text": [
      "Пользователи с повышенным количеством событий -  31 человек\n",
      "Пользователи до удаления аномалий - 2594 человек\n",
      "Пользователи после удаления аномалий - 2563\n"
     ]
    }
   ],
   "source": [
    "df_events = df.groupby('user_id').agg(events=('event_name', 'count')).reset_index()\n",
    "df_users = df_events.query('events > 16')\n",
    "\n",
    "print('Пользователи с повышенным количеством событий -  %s человек' % len(df_users))\n",
    "print('Пользователи до удаления аномалий - %s человек'% len(df['user_id'].unique()))\n",
    "df = df[~df['user_id'].isin(df_users['user_id'])]\n",
    "print('Пользователи после удаления аномалий - %s' % len(df['user_id'].unique()))"
   ]
  },
  {
   "cell_type": "markdown",
   "metadata": {},
   "source": [
    "<div class=\"alert alert-warning\">\n",
    "    <h2> Комментарий ревьюера <a class=\"tocSkip\"> </h2>\n",
    "    \n",
    "<b>Некоторые замечания и рекомендации⚠️:</b> \n",
    "\n",
    "Чистить данные от выбросов не обязательно, так как конверсия - относительная метрика: нам важен факт совершения событий, а не их частота."
   ]
  },
  {
   "cell_type": "markdown",
   "metadata": {},
   "source": [
    "В качестве снижения вероятности получения ложноположительных результатов в эксперименте будет использоваться поправка Бонферрони. В данном случае ее использовать эффективно, потому что в тесте у нас присутствует не так много подгрупп, а значит вероятность принять неверную гипотезу мала, а результат тестирования будет достоверным."
   ]
  },
  {
   "cell_type": "code",
   "execution_count": 61,
   "metadata": {},
   "outputs": [],
   "source": [
    "def z_test(df1, df2, event, alpha, n):\n",
    "    '''    \n",
    "Функция создается, чтобы принять два датафрейма и по заданному событию попарно проверяет \n",
    "есть ли статистически значимая разница между долями пользователей в группе А и группе В.\n",
    "\n",
    "Где:\n",
    "    - df1, df2 - датафреймы  (две группы)\n",
    "    - event - событие, которое совершил пользователь\n",
    "    - alpha - критический уровень статистической значимости\n",
    "    - n - поправка Боннферони для критического уровня статистической значимости\n",
    "    '''    \n",
    "    \n",
    "    # критический уровень статистической значимости c поправкой Бонферрони\n",
    "    bonferroni_alpha = alpha / n\n",
    "    # Она нужна для того, чтобы снизить вероятность получения\n",
    "    # ложноположительных результатов\n",
    " \n",
    "    # число пользователей в группе А и группе В:\n",
    "    n_users = np.array([df1['user_id'].nunique(), \n",
    "                        df2['user_id'].nunique()])\n",
    "\n",
    "    # число пользователей, совершивших событие в группе А и группе В\n",
    "    success = np.array([df1[df1['event_name'] == event]['user_id'].nunique(), \n",
    "                        df2[df2['event_name'] == event]['user_id'].nunique()])\n",
    "\n",
    "    # пропорции успехов в группах:\n",
    "    p1 = success[0]/n_users[0]\n",
    "    p2 = success[1]/n_users[1]\n",
    "    \n",
    "    # пропорция успехов в комбинированном датасете:\n",
    "    p_combined = (success[0] + success[1]) / (n_users[0] + n_users[1])\n",
    "    \n",
    "    # разница пропорций в датасетах\n",
    "    difference = p1 - p2 \n",
    "    \n",
    "    # считаем статистику в ст.отклонениях стандартного нормального распределения\n",
    "    z_value = difference /  np.sqrt(p_combined * (1 - p_combined) * (1/n_users[0] + 1/n_users[1]))\n",
    "    \n",
    "    # задаем стандартное нормальное распределение (среднее 0, ст.отклонение 1)\n",
    "    distr = st.norm(0, 1)  \n",
    "\n",
    "    p_value = (1 - distr.cdf(abs(z_value))) * 2   #тест двусторонний, удваиваем результат\n",
    "    \n",
    "    print('Событие:', event)\n",
    "    print('p-значение: ', p_value)\n",
    "\n",
    "    if p_value < bonferroni_alpha:\n",
    "        print('Отвергаем нулевую гипотезу: между долями есть разница')\n",
    "    else:\n",
    "        print(\n",
    "        'Не получилось отвергнуть нулевую гипотезу, нет оснований считать доли разными')"
   ]
  },
  {
   "cell_type": "markdown",
   "metadata": {},
   "source": [
    "<div class=\"alert alert-success\">\n",
    "<h2> Комментарий ревьюера <a class=\"tocSkip\"> </h2>\n",
    "\n",
    "<b>Все отлично!👍:</b> Есть функция для проведения тестирования - молодец, что автоматизируешь однотипные операции. Более интересным решением было бы использование готовой реализации теста `proportions_ztest` (https://www.statsmodels.org/dev/generated/statsmodels.stats.proportion.proportions_ztest.html).\n",
    "    \n",
    "Круто, что делаешь поправу на множественные сравнения! Поправка Бонферрони - самая популярная в учебных проектах, однако не самая частая на практике, так она как сильно уменьшает уровень значимости, из-за чего не отвергнуть нулевую гипотезу становится довольно сложно, поэтому на практике используют не такие сильные поправки. Самые основные собраны и довольно хорошо описаны в этой статье - рекомендую к изучению: https://habr.com/ru/company/yandex/blog/476826/."
   ]
  },
  {
   "cell_type": "markdown",
   "metadata": {},
   "source": [
    "<div class=\"alert alert-block alert-danger\">\n",
    "<h2> Комментарий ревьюера <a class=\"tocSkip\"></h2>\n",
    "\n",
    "    \n",
    "<b>На доработку❌:</b> В комментариях важно отметить, зачем нам этап поправка и какую проблему она позволяет нам решить."
   ]
  },
  {
   "cell_type": "markdown",
   "metadata": {},
   "source": [
    "<div class=\"alert alert-info\">\n",
    "<h2> Комментарий студента <a class=\"tocSkip\"> </h2>\n",
    "\n",
    "Подправлено\n",
    "</div>"
   ]
  },
  {
   "cell_type": "markdown",
   "metadata": {},
   "source": [
    "<div class=\"alert alert-block alert-danger\">\n",
    "<h2> Комментарий ревьюера v.2 <a class=\"tocSkip\"></h2>\n",
    "\n",
    "    \n",
    "<b>На доработку❌:</b> Нигде не увидел обоснование - подскажи, пожалуйста, куда посмотреть?"
   ]
  },
  {
   "cell_type": "markdown",
   "metadata": {},
   "source": [
    "<div class=\"alert alert-info\">\n",
    "<h2> Комментарий студента <a class=\"tocSkip\"> </h2>\n",
    "\n",
    "Вынес основную мысль из комментария в теле функции и расписал обоснование над ячейкой с функцией\n",
    "</div>"
   ]
  },
  {
   "cell_type": "markdown",
   "metadata": {},
   "source": [
    "<div class=\"alert alert-success\">\n",
    "<h2> Комментарий ревьюера v.3 <a class=\"tocSkip\"> </h2>\n",
    "\n",
    "<b>Все отлично!👍:</b> Учтено."
   ]
  },
  {
   "cell_type": "code",
   "execution_count": 62,
   "metadata": {},
   "outputs": [
    {
     "name": "stdout",
     "output_type": "stream",
     "text": [
      "Событие: product_page\n",
      "p-значение:  3.656944369390125e-05\n",
      "Отвергаем нулевую гипотезу: между долями есть разница\n",
      "\n",
      "Событие: product_cart\n",
      "p-значение:  0.3453199182601452\n",
      "Не получилось отвергнуть нулевую гипотезу, нет оснований считать доли разными\n",
      "\n",
      "Событие: purchase\n",
      "p-значение:  0.2859160254836599\n",
      "Не получилось отвергнуть нулевую гипотезу, нет оснований считать доли разными\n",
      "\n"
     ]
    }
   ],
   "source": [
    "for event in ['product_page', 'product_cart', 'purchase']:\n",
    "    z_test(df[df['group'] == 'A'], df[df['group'] == 'B'], event,.05, 3)\n",
    "    print()"
   ]
  },
  {
   "cell_type": "markdown",
   "metadata": {},
   "source": [
    "<div class=\"alert alert-success\">\n",
    "<h2> Комментарий ревьюера <a class=\"tocSkip\"> </h2>\n",
    "\n",
    "<b>Все отлично!👍:</b> А/В тесты проведены корректно, результаты получены верные!"
   ]
  },
  {
   "cell_type": "markdown",
   "metadata": {},
   "source": [
    "<div class=\"alert alert-block alert-danger\">\n",
    "<h2> Комментарий ревьюера <a class=\"tocSkip\"></h2>\n",
    "\n",
    "    \n",
    "<b>На доработку❌:</b> \n",
    "    \n",
    "1. Этап `login` является первым этапом воронки, и этот этап должны пройти все пользователи - он и должен быть знаменателем в расчёте пропорций. Поэтому гипотез должно быть три, а не четыре - оценивать конверсию `login->login` не нужно.\n",
    "    \n",
    "2. Не забудь скорректировать поправку."
   ]
  },
  {
   "cell_type": "markdown",
   "metadata": {},
   "source": [
    "<div class=\"alert alert-info\">\n",
    "<h2> Комментарий студента <a class=\"tocSkip\"> </h2>\n",
    "\n",
    "Забыл убрать `login`, изначально по `login` определил, работает ли функция или нет.)\n",
    "</div>"
   ]
  },
  {
   "cell_type": "markdown",
   "metadata": {},
   "source": [
    "<div class=\"alert alert-success\">\n",
    "<h2> Комментарий ревьюера v.2 <a class=\"tocSkip\"> </h2>\n",
    "\n",
    "<b>Все отлично!👍:</b> Ничего, бывает:)"
   ]
  },
  {
   "cell_type": "markdown",
   "metadata": {},
   "source": [
    "## Выводы по главе 13"
   ]
  },
  {
   "cell_type": "markdown",
   "metadata": {},
   "source": [
    "Таким образом, в результате проведения z-теста удалось выяснить, что существенной разницы между группами А и Б на этапах `product cart` и `purchase` нет (нет оснований считать, что две группы отличаются по метрикам). Только на этапе `product page` фиксируется существенная разница между двумя группами. Результаты теста еще раз подтверждают неудачное проведение А/B тестирования."
   ]
  },
  {
   "cell_type": "markdown",
   "metadata": {},
   "source": [
    "<div class=\"alert alert-success\">\n",
    "<h2> Комментарий ревьюера <a class=\"tocSkip\"> </h2>\n",
    "\n",
    "<b>Все отлично!👍:</b> Результат по проведению тестов верный."
   ]
  },
  {
   "cell_type": "markdown",
   "metadata": {},
   "source": [
    "## Общее заключение и рекомендации"
   ]
  },
  {
   "cell_type": "markdown",
   "metadata": {},
   "source": [
    "Таким образом, в ходе проведенного исследования было доказано, что проведенный A/B тест оказался `провальным`. Были обнаружены следующие нарушения, которые необходимо учесть для будущих проверок:\n",
    "1. Наличие в датасетах данных `datetime`, которые находятся за пределами установленного ТЗ промежутка времени. В будущем необходимо проводить качественную предобработку данных;\n",
    "2. Проведение единого теста для пользователей из разных регионов;\n",
    "3. Наличие пересечения пользователей с параллельным тестом;\n",
    "4. Присутствие в выборке участников, которые не прожили 14 дней после регистрации, либо не совершили ни одного действия после регистрации."
   ]
  },
  {
   "cell_type": "markdown",
   "metadata": {},
   "source": [
    "Основные рекомендации, которые помогут улучшить тестирование:\n",
    "1. Определиться четко с промежутком времени, который войдет за основу исследования. Обязательно, что этот промежуток не был затронут маркетинговым событием;\n",
    "2. Тест лучше проводить на примере пользоваталей одного региона для реальной картины;\n",
    "3. Пользователи не должны участвовать в другом тесте, иначе велика вероятность получить некорректные данные;\n",
    "4. Улучшить предобработку данных перед проведение тестирования: отсеять пользователей, которые не совершали действий после регистрации, так как их наличие будет существенно влиять на конверсию."
   ]
  },
  {
   "cell_type": "markdown",
   "metadata": {},
   "source": [
    "<div class=\"alert alert-success\">\n",
    "<h2> Комментарий ревьюера <a class=\"tocSkip\"> </h2>\n",
    "\n",
    "<b>Все отлично!👍:</b> Отличный итоговый вывод - здорово, что также формулируешь рекомендации по корректном проведению тестов."
   ]
  },
  {
   "cell_type": "markdown",
   "metadata": {},
   "source": [
    "<div style=\"border:solid Chocolate 2px; padding: 40px\">\n",
    "\n",
    "# Комментарий ревьюера: общий вывод по проекту.\n",
    "\n",
    "Антон, проект получился на довольно хорошем уровне - отличная работа над проектом, молодец!\n",
    "\n",
    "Мне нравится твой аналитический подход к выполнению проекта, ты соблюдаешь структуру работы, выполняешь её последовательно - это очень хорошо! Шаги проекта выполнены по порядку согласно плану проекта, нет смысловых и структурных ям. Важно, что не забываешь про выводы.\n",
    "\n",
    "В блоке поиска отклонений от ТЗ тебе удалось найти почти все узкие моменты теста, корректно их интерпретировать и обработать. Положительно также отмечу анализ воронки событий в `plotly`, применение поправки на множественные сравнения при проведении А/В тестов, а также автоматизацию процесса тестирования. \n",
    "    \n",
    "Над проектом ещё стоит поработать - есть рекомендации по дополнению некоторых твоих шагов проекта. Такие рекомендации я отметил жёлтыми комментариями. Будет здорово, если ты учтёшь их - так проект станет структурно и содержательно более совершенным.\n",
    "    \n",
    "Также в работе есть критические замечания. К этим замечаниям я оставил пояснительные комментарии красного цвета, в которых перечислил возможные варианты дальнейших действий. Уверен, ты быстро с этим управишься:)\n",
    "    \n",
    "Если о том, что нужно сделать в рамках комментариев, будут возникать вопросы - оставь их, пожалуйста, в комментариях, и я отвечу на них во время следующего ревью.\n",
    "    \n",
    "Также буду рад ответить на любые твои вопросы по проекту или на какие-либо другие, если они у тебя имеются - оставь их в комментариях, и я постараюсь ответить:)\n",
    "    \n",
    "Жду твой проект на повторном ревью. До встречи:)"
   ]
  },
  {
   "cell_type": "markdown",
   "metadata": {},
   "source": [
    "<div style=\"border:solid Chocolate 2px; padding: 40px\">\n",
    "\n",
    "# Комментарий ревьюера: общий вывод по проекту v.2.\n",
    "\n",
    "Антон, продолжаем работу над проектом - актуальные замечания отмечены комментариями с меткой `v.2`.\n",
    "    \n",
    "Жду тебя снова: )"
   ]
  },
  {
   "cell_type": "markdown",
   "metadata": {},
   "source": [
    "<div style=\"border:solid Chocolate 2px; padding: 40px\">\n",
    "\n",
    "# Комментарий ревьюера: общий вывод по проекту v.3.\n",
    "\n",
    "Антон, все замечания учтены - проект принят!\n",
    "    \n",
    "Спасибо за работу над проектом, желаю приятного завершения финального спринта:)"
   ]
  }
 ],
 "metadata": {
  "ExecuteTimeLog": [
   {
    "duration": 408,
    "start_time": "2023-12-10T12:33:57.852Z"
   },
   {
    "duration": 895,
    "start_time": "2023-12-10T12:38:14.976Z"
   },
   {
    "duration": 14,
    "start_time": "2023-12-10T12:39:20.259Z"
   },
   {
    "duration": 10,
    "start_time": "2023-12-10T12:39:52.793Z"
   },
   {
    "duration": 7,
    "start_time": "2023-12-10T12:41:31.921Z"
   },
   {
    "duration": 21,
    "start_time": "2023-12-10T12:41:46.033Z"
   },
   {
    "duration": 8,
    "start_time": "2023-12-10T12:43:14.281Z"
   },
   {
    "duration": 78,
    "start_time": "2023-12-10T12:44:01.235Z"
   },
   {
    "duration": 7,
    "start_time": "2023-12-10T12:45:09.759Z"
   },
   {
    "duration": 12,
    "start_time": "2023-12-10T12:45:27.074Z"
   },
   {
    "duration": 64,
    "start_time": "2023-12-10T12:48:41.701Z"
   },
   {
    "duration": 4,
    "start_time": "2023-12-10T12:49:08.009Z"
   },
   {
    "duration": 13,
    "start_time": "2023-12-10T12:49:38.053Z"
   },
   {
    "duration": 10,
    "start_time": "2023-12-10T12:50:42.171Z"
   },
   {
    "duration": 8,
    "start_time": "2023-12-10T12:51:01.141Z"
   },
   {
    "duration": 382,
    "start_time": "2023-12-10T12:51:08.213Z"
   },
   {
    "duration": 614,
    "start_time": "2023-12-10T12:51:08.596Z"
   },
   {
    "duration": 13,
    "start_time": "2023-12-10T12:51:09.211Z"
   },
   {
    "duration": 12,
    "start_time": "2023-12-10T12:51:09.226Z"
   },
   {
    "duration": 16,
    "start_time": "2023-12-10T12:51:09.240Z"
   },
   {
    "duration": 26,
    "start_time": "2023-12-10T12:51:09.257Z"
   },
   {
    "duration": 16,
    "start_time": "2023-12-10T12:51:09.285Z"
   },
   {
    "duration": 39,
    "start_time": "2023-12-10T12:51:09.303Z"
   },
   {
    "duration": 15,
    "start_time": "2023-12-10T12:51:09.345Z"
   },
   {
    "duration": 26,
    "start_time": "2023-12-10T12:51:09.362Z"
   },
   {
    "duration": 28,
    "start_time": "2023-12-10T12:51:09.389Z"
   },
   {
    "duration": 84,
    "start_time": "2023-12-10T12:51:09.419Z"
   },
   {
    "duration": 8,
    "start_time": "2023-12-10T12:51:09.504Z"
   },
   {
    "duration": 14,
    "start_time": "2023-12-10T12:51:09.515Z"
   },
   {
    "duration": 27,
    "start_time": "2023-12-10T12:52:18.375Z"
   },
   {
    "duration": 42,
    "start_time": "2023-12-10T12:53:14.430Z"
   },
   {
    "duration": 43,
    "start_time": "2023-12-10T12:53:26.029Z"
   },
   {
    "duration": 7,
    "start_time": "2023-12-10T12:55:57.822Z"
   },
   {
    "duration": 7,
    "start_time": "2023-12-10T12:56:14.037Z"
   },
   {
    "duration": 388,
    "start_time": "2023-12-10T13:49:22.876Z"
   },
   {
    "duration": 614,
    "start_time": "2023-12-10T13:49:23.265Z"
   },
   {
    "duration": 13,
    "start_time": "2023-12-10T13:49:23.881Z"
   },
   {
    "duration": 13,
    "start_time": "2023-12-10T13:49:23.896Z"
   },
   {
    "duration": 19,
    "start_time": "2023-12-10T13:49:23.911Z"
   },
   {
    "duration": 45,
    "start_time": "2023-12-10T13:49:23.932Z"
   },
   {
    "duration": 21,
    "start_time": "2023-12-10T13:49:23.979Z"
   },
   {
    "duration": 28,
    "start_time": "2023-12-10T13:49:24.002Z"
   },
   {
    "duration": 35,
    "start_time": "2023-12-10T13:49:24.032Z"
   },
   {
    "duration": 25,
    "start_time": "2023-12-10T13:49:24.070Z"
   },
   {
    "duration": 29,
    "start_time": "2023-12-10T13:49:24.096Z"
   },
   {
    "duration": 90,
    "start_time": "2023-12-10T13:49:24.126Z"
   },
   {
    "duration": 44,
    "start_time": "2023-12-10T13:49:24.217Z"
   },
   {
    "duration": 77,
    "start_time": "2023-12-10T13:49:24.263Z"
   },
   {
    "duration": 7,
    "start_time": "2023-12-10T13:49:24.342Z"
   },
   {
    "duration": 23,
    "start_time": "2023-12-10T13:49:24.352Z"
   },
   {
    "duration": 42,
    "start_time": "2023-12-10T13:49:24.377Z"
   },
   {
    "duration": 46,
    "start_time": "2023-12-10T13:49:24.421Z"
   },
   {
    "duration": 409,
    "start_time": "2023-12-10T14:01:40.115Z"
   },
   {
    "duration": 607,
    "start_time": "2023-12-10T14:01:40.526Z"
   },
   {
    "duration": 14,
    "start_time": "2023-12-10T14:01:41.135Z"
   },
   {
    "duration": 24,
    "start_time": "2023-12-10T14:01:41.152Z"
   },
   {
    "duration": 99,
    "start_time": "2023-12-10T14:01:41.178Z"
   },
   {
    "duration": 81,
    "start_time": "2023-12-10T14:01:41.279Z"
   },
   {
    "duration": 31,
    "start_time": "2023-12-10T14:01:41.362Z"
   },
   {
    "duration": 20,
    "start_time": "2023-12-10T14:01:41.394Z"
   },
   {
    "duration": 14,
    "start_time": "2023-12-10T14:01:41.416Z"
   },
   {
    "duration": 10,
    "start_time": "2023-12-10T14:01:41.431Z"
   },
   {
    "duration": 60,
    "start_time": "2023-12-10T14:01:41.442Z"
   },
   {
    "duration": 30,
    "start_time": "2023-12-10T14:01:41.503Z"
   },
   {
    "duration": 67,
    "start_time": "2023-12-10T14:01:41.535Z"
   },
   {
    "duration": 48,
    "start_time": "2023-12-10T14:01:41.604Z"
   },
   {
    "duration": 54,
    "start_time": "2023-12-10T14:01:41.654Z"
   },
   {
    "duration": 6,
    "start_time": "2023-12-10T14:01:41.709Z"
   },
   {
    "duration": 13,
    "start_time": "2023-12-10T14:01:41.716Z"
   },
   {
    "duration": 26,
    "start_time": "2023-12-10T14:01:41.730Z"
   },
   {
    "duration": 7,
    "start_time": "2023-12-10T14:01:41.758Z"
   },
   {
    "duration": 371,
    "start_time": "2023-12-10T14:06:05.477Z"
   },
   {
    "duration": 585,
    "start_time": "2023-12-10T14:06:05.850Z"
   },
   {
    "duration": 13,
    "start_time": "2023-12-10T14:06:06.436Z"
   },
   {
    "duration": 25,
    "start_time": "2023-12-10T14:06:06.451Z"
   },
   {
    "duration": 10,
    "start_time": "2023-12-10T14:06:06.478Z"
   },
   {
    "duration": 12,
    "start_time": "2023-12-10T14:06:06.490Z"
   },
   {
    "duration": 10,
    "start_time": "2023-12-10T14:06:06.504Z"
   },
   {
    "duration": 8,
    "start_time": "2023-12-10T14:06:06.515Z"
   },
   {
    "duration": 21,
    "start_time": "2023-12-10T14:06:06.524Z"
   },
   {
    "duration": 8,
    "start_time": "2023-12-10T14:06:06.546Z"
   },
   {
    "duration": 11,
    "start_time": "2023-12-10T14:06:06.555Z"
   },
   {
    "duration": 19,
    "start_time": "2023-12-10T14:06:06.568Z"
   },
   {
    "duration": 11,
    "start_time": "2023-12-10T14:06:06.589Z"
   },
   {
    "duration": 73,
    "start_time": "2023-12-10T14:06:06.602Z"
   },
   {
    "duration": 43,
    "start_time": "2023-12-10T14:06:06.677Z"
   },
   {
    "duration": 76,
    "start_time": "2023-12-10T14:06:06.721Z"
   },
   {
    "duration": 7,
    "start_time": "2023-12-10T14:06:06.798Z"
   },
   {
    "duration": 21,
    "start_time": "2023-12-10T14:06:06.807Z"
   },
   {
    "duration": 15,
    "start_time": "2023-12-10T14:06:06.830Z"
   },
   {
    "duration": 16,
    "start_time": "2023-12-10T14:06:06.846Z"
   },
   {
    "duration": 12,
    "start_time": "2023-12-10T14:06:34.327Z"
   },
   {
    "duration": 9,
    "start_time": "2023-12-10T14:08:25.095Z"
   },
   {
    "duration": 367,
    "start_time": "2023-12-10T14:09:32.086Z"
   },
   {
    "duration": 594,
    "start_time": "2023-12-10T14:09:32.455Z"
   },
   {
    "duration": 18,
    "start_time": "2023-12-10T14:09:33.050Z"
   },
   {
    "duration": 10,
    "start_time": "2023-12-10T14:09:33.070Z"
   },
   {
    "duration": 8,
    "start_time": "2023-12-10T14:09:33.082Z"
   },
   {
    "duration": 4,
    "start_time": "2023-12-10T14:09:33.092Z"
   },
   {
    "duration": 14,
    "start_time": "2023-12-10T14:09:33.098Z"
   },
   {
    "duration": 39,
    "start_time": "2023-12-10T14:09:33.114Z"
   },
   {
    "duration": 13,
    "start_time": "2023-12-10T14:09:33.154Z"
   },
   {
    "duration": 31,
    "start_time": "2023-12-10T14:09:33.168Z"
   },
   {
    "duration": 6,
    "start_time": "2023-12-10T14:09:33.201Z"
   },
   {
    "duration": 14,
    "start_time": "2023-12-10T14:09:33.208Z"
   },
   {
    "duration": 15,
    "start_time": "2023-12-10T14:09:33.223Z"
   },
   {
    "duration": 24,
    "start_time": "2023-12-10T14:09:33.251Z"
   },
   {
    "duration": 8,
    "start_time": "2023-12-10T14:09:33.276Z"
   },
   {
    "duration": 77,
    "start_time": "2023-12-10T14:09:33.285Z"
   },
   {
    "duration": 44,
    "start_time": "2023-12-10T14:09:33.364Z"
   },
   {
    "duration": 70,
    "start_time": "2023-12-10T14:09:33.409Z"
   },
   {
    "duration": 7,
    "start_time": "2023-12-10T14:09:33.480Z"
   },
   {
    "duration": 16,
    "start_time": "2023-12-10T14:09:33.488Z"
   },
   {
    "duration": 13,
    "start_time": "2023-12-10T14:09:33.506Z"
   },
   {
    "duration": 10,
    "start_time": "2023-12-10T14:09:33.521Z"
   },
   {
    "duration": 388,
    "start_time": "2023-12-10T14:17:53.470Z"
   },
   {
    "duration": 587,
    "start_time": "2023-12-10T14:17:53.860Z"
   },
   {
    "duration": 13,
    "start_time": "2023-12-10T14:17:54.449Z"
   },
   {
    "duration": 9,
    "start_time": "2023-12-10T14:17:54.464Z"
   },
   {
    "duration": 6,
    "start_time": "2023-12-10T14:17:54.475Z"
   },
   {
    "duration": 14,
    "start_time": "2023-12-10T14:17:54.482Z"
   },
   {
    "duration": 13,
    "start_time": "2023-12-10T14:17:54.497Z"
   },
   {
    "duration": 8,
    "start_time": "2023-12-10T14:17:54.511Z"
   },
   {
    "duration": 32,
    "start_time": "2023-12-10T14:17:54.520Z"
   },
   {
    "duration": 18,
    "start_time": "2023-12-10T14:17:54.555Z"
   },
   {
    "duration": 8,
    "start_time": "2023-12-10T14:17:54.574Z"
   },
   {
    "duration": 10,
    "start_time": "2023-12-10T14:17:54.584Z"
   },
   {
    "duration": 13,
    "start_time": "2023-12-10T14:17:54.596Z"
   },
   {
    "duration": 53,
    "start_time": "2023-12-10T14:17:54.610Z"
   },
   {
    "duration": 8,
    "start_time": "2023-12-10T14:17:54.665Z"
   },
   {
    "duration": 80,
    "start_time": "2023-12-10T14:17:54.674Z"
   },
   {
    "duration": 108,
    "start_time": "2023-12-10T14:17:54.756Z"
   },
   {
    "duration": 43,
    "start_time": "2023-12-10T14:17:54.866Z"
   },
   {
    "duration": 68,
    "start_time": "2023-12-10T14:17:54.911Z"
   },
   {
    "duration": 6,
    "start_time": "2023-12-10T14:17:54.981Z"
   },
   {
    "duration": 21,
    "start_time": "2023-12-10T14:17:54.988Z"
   },
   {
    "duration": 7,
    "start_time": "2023-12-10T14:17:55.010Z"
   },
   {
    "duration": 9,
    "start_time": "2023-12-10T14:17:55.019Z"
   },
   {
    "duration": 408,
    "start_time": "2023-12-10T14:19:39.316Z"
   },
   {
    "duration": 622,
    "start_time": "2023-12-10T14:19:39.726Z"
   },
   {
    "duration": 15,
    "start_time": "2023-12-10T14:19:40.350Z"
   },
   {
    "duration": 11,
    "start_time": "2023-12-10T14:19:40.367Z"
   },
   {
    "duration": 14,
    "start_time": "2023-12-10T14:19:40.380Z"
   },
   {
    "duration": 4,
    "start_time": "2023-12-10T14:19:40.396Z"
   },
   {
    "duration": 19,
    "start_time": "2023-12-10T14:19:40.402Z"
   },
   {
    "duration": 30,
    "start_time": "2023-12-10T14:19:40.423Z"
   },
   {
    "duration": 7,
    "start_time": "2023-12-10T14:19:40.455Z"
   },
   {
    "duration": 18,
    "start_time": "2023-12-10T14:19:40.464Z"
   },
   {
    "duration": 7,
    "start_time": "2023-12-10T14:19:40.484Z"
   },
   {
    "duration": 14,
    "start_time": "2023-12-10T14:19:40.492Z"
   },
   {
    "duration": 14,
    "start_time": "2023-12-10T14:19:40.507Z"
   },
   {
    "duration": 50,
    "start_time": "2023-12-10T14:19:40.523Z"
   },
   {
    "duration": 8,
    "start_time": "2023-12-10T14:19:40.575Z"
   },
   {
    "duration": 84,
    "start_time": "2023-12-10T14:19:40.584Z"
   },
   {
    "duration": 49,
    "start_time": "2023-12-10T14:19:40.670Z"
   },
   {
    "duration": 116,
    "start_time": "2023-12-10T14:19:40.720Z"
   },
   {
    "duration": 43,
    "start_time": "2023-12-10T14:19:40.837Z"
   },
   {
    "duration": 51,
    "start_time": "2023-12-10T14:19:40.881Z"
   },
   {
    "duration": 22,
    "start_time": "2023-12-10T14:19:40.933Z"
   },
   {
    "duration": 13,
    "start_time": "2023-12-10T14:19:40.956Z"
   },
   {
    "duration": 10,
    "start_time": "2023-12-10T14:19:40.970Z"
   },
   {
    "duration": 7,
    "start_time": "2023-12-10T14:19:40.981Z"
   },
   {
    "duration": 7,
    "start_time": "2023-12-10T14:19:40.989Z"
   },
   {
    "duration": 10,
    "start_time": "2023-12-10T14:20:11.334Z"
   },
   {
    "duration": 407,
    "start_time": "2023-12-10T14:20:56.427Z"
   },
   {
    "duration": 621,
    "start_time": "2023-12-10T14:20:56.836Z"
   },
   {
    "duration": 13,
    "start_time": "2023-12-10T14:20:57.459Z"
   },
   {
    "duration": 9,
    "start_time": "2023-12-10T14:20:57.473Z"
   },
   {
    "duration": 4,
    "start_time": "2023-12-10T14:20:57.484Z"
   },
   {
    "duration": 8,
    "start_time": "2023-12-10T14:20:57.489Z"
   },
   {
    "duration": 11,
    "start_time": "2023-12-10T14:20:57.498Z"
   },
   {
    "duration": 8,
    "start_time": "2023-12-10T14:20:57.511Z"
   },
   {
    "duration": 32,
    "start_time": "2023-12-10T14:20:57.521Z"
   },
   {
    "duration": 27,
    "start_time": "2023-12-10T14:20:57.554Z"
   },
   {
    "duration": 6,
    "start_time": "2023-12-10T14:20:57.583Z"
   },
   {
    "duration": 6,
    "start_time": "2023-12-10T14:20:57.590Z"
   },
   {
    "duration": 13,
    "start_time": "2023-12-10T14:20:57.598Z"
   },
   {
    "duration": 50,
    "start_time": "2023-12-10T14:20:57.613Z"
   },
   {
    "duration": 9,
    "start_time": "2023-12-10T14:20:57.664Z"
   },
   {
    "duration": 79,
    "start_time": "2023-12-10T14:20:57.674Z"
   },
   {
    "duration": 269,
    "start_time": "2023-12-10T14:20:57.754Z"
   },
   {
    "duration": 96,
    "start_time": "2023-12-10T14:20:58.025Z"
   },
   {
    "duration": 51,
    "start_time": "2023-12-10T14:20:58.123Z"
   },
   {
    "duration": 82,
    "start_time": "2023-12-10T14:20:58.176Z"
   },
   {
    "duration": 7,
    "start_time": "2023-12-10T14:20:58.259Z"
   },
   {
    "duration": 38,
    "start_time": "2023-12-10T14:20:58.267Z"
   },
   {
    "duration": 24,
    "start_time": "2023-12-10T14:20:58.306Z"
   },
   {
    "duration": 22,
    "start_time": "2023-12-10T14:20:58.331Z"
   },
   {
    "duration": 8,
    "start_time": "2023-12-10T14:20:58.354Z"
   },
   {
    "duration": 77,
    "start_time": "2023-12-10T15:14:58.940Z"
   },
   {
    "duration": 6,
    "start_time": "2023-12-10T15:16:25.208Z"
   },
   {
    "duration": 65,
    "start_time": "2023-12-10T15:17:56.037Z"
   },
   {
    "duration": 1228,
    "start_time": "2023-12-10T15:18:14.686Z"
   },
   {
    "duration": 6,
    "start_time": "2023-12-10T15:18:22.786Z"
   },
   {
    "duration": 5,
    "start_time": "2023-12-10T15:40:51.929Z"
   },
   {
    "duration": 5,
    "start_time": "2023-12-10T15:41:08.823Z"
   },
   {
    "duration": 24,
    "start_time": "2023-12-10T15:46:32.952Z"
   },
   {
    "duration": 9,
    "start_time": "2023-12-10T15:48:40.743Z"
   },
   {
    "duration": 413,
    "start_time": "2023-12-10T15:51:13.978Z"
   },
   {
    "duration": 638,
    "start_time": "2023-12-10T15:51:14.393Z"
   },
   {
    "duration": 16,
    "start_time": "2023-12-10T15:51:15.033Z"
   },
   {
    "duration": 28,
    "start_time": "2023-12-10T15:51:15.051Z"
   },
   {
    "duration": 21,
    "start_time": "2023-12-10T15:51:15.080Z"
   },
   {
    "duration": 5,
    "start_time": "2023-12-10T15:51:15.103Z"
   },
   {
    "duration": 18,
    "start_time": "2023-12-10T15:51:15.110Z"
   },
   {
    "duration": 12,
    "start_time": "2023-12-10T15:51:15.130Z"
   },
   {
    "duration": 11,
    "start_time": "2023-12-10T15:51:15.144Z"
   },
   {
    "duration": 35,
    "start_time": "2023-12-10T15:51:15.159Z"
   },
   {
    "duration": 7,
    "start_time": "2023-12-10T15:51:15.195Z"
   },
   {
    "duration": 13,
    "start_time": "2023-12-10T15:51:15.203Z"
   },
   {
    "duration": 14,
    "start_time": "2023-12-10T15:51:15.217Z"
   },
   {
    "duration": 38,
    "start_time": "2023-12-10T15:51:15.233Z"
   },
   {
    "duration": 8,
    "start_time": "2023-12-10T15:51:15.273Z"
   },
   {
    "duration": 78,
    "start_time": "2023-12-10T15:51:15.283Z"
   },
   {
    "duration": 296,
    "start_time": "2023-12-10T15:51:15.363Z"
   },
   {
    "duration": 105,
    "start_time": "2023-12-10T15:51:15.661Z"
   },
   {
    "duration": 42,
    "start_time": "2023-12-10T15:51:15.767Z"
   },
   {
    "duration": 70,
    "start_time": "2023-12-10T15:51:15.810Z"
   },
   {
    "duration": 6,
    "start_time": "2023-12-10T15:51:15.881Z"
   },
   {
    "duration": 15,
    "start_time": "2023-12-10T15:51:15.889Z"
   },
   {
    "duration": 12,
    "start_time": "2023-12-10T15:51:15.905Z"
   },
   {
    "duration": 6,
    "start_time": "2023-12-10T15:51:15.918Z"
   },
   {
    "duration": 27,
    "start_time": "2023-12-10T15:51:15.925Z"
   },
   {
    "duration": 10,
    "start_time": "2023-12-10T15:51:15.954Z"
   },
   {
    "duration": 96,
    "start_time": "2023-12-10T15:51:15.965Z"
   },
   {
    "duration": 0,
    "start_time": "2023-12-10T15:51:16.063Z"
   },
   {
    "duration": 31,
    "start_time": "2023-12-10T15:51:37.907Z"
   },
   {
    "duration": 13,
    "start_time": "2023-12-10T15:51:40.059Z"
   },
   {
    "duration": 29,
    "start_time": "2023-12-10T15:52:22.167Z"
   },
   {
    "duration": 25,
    "start_time": "2023-12-10T15:52:24.417Z"
   },
   {
    "duration": 24,
    "start_time": "2023-12-10T15:52:55.916Z"
   },
   {
    "duration": 7,
    "start_time": "2023-12-10T16:11:38.671Z"
   },
   {
    "duration": 150,
    "start_time": "2023-12-10T16:12:17.280Z"
   },
   {
    "duration": 26,
    "start_time": "2023-12-10T16:13:17.574Z"
   },
   {
    "duration": 124,
    "start_time": "2023-12-10T16:13:19.463Z"
   },
   {
    "duration": 17,
    "start_time": "2023-12-10T16:14:03.058Z"
   },
   {
    "duration": 4,
    "start_time": "2023-12-10T16:19:01.738Z"
   },
   {
    "duration": 10,
    "start_time": "2023-12-10T16:28:20.494Z"
   },
   {
    "duration": 13,
    "start_time": "2023-12-10T16:29:27.628Z"
   },
   {
    "duration": 12,
    "start_time": "2023-12-10T16:29:50.125Z"
   },
   {
    "duration": 9,
    "start_time": "2023-12-10T16:30:07.274Z"
   },
   {
    "duration": 3,
    "start_time": "2023-12-10T16:30:41.684Z"
   },
   {
    "duration": 4,
    "start_time": "2023-12-10T16:32:13.792Z"
   },
   {
    "duration": 11,
    "start_time": "2023-12-10T17:09:59.741Z"
   },
   {
    "duration": 7,
    "start_time": "2023-12-10T17:10:08.532Z"
   },
   {
    "duration": 7,
    "start_time": "2023-12-10T17:12:50.077Z"
   },
   {
    "duration": 13,
    "start_time": "2023-12-10T17:17:28.054Z"
   },
   {
    "duration": 7,
    "start_time": "2023-12-10T17:18:32.789Z"
   },
   {
    "duration": 115,
    "start_time": "2023-12-10T17:18:50.659Z"
   },
   {
    "duration": 9,
    "start_time": "2023-12-10T17:24:24.723Z"
   },
   {
    "duration": 401,
    "start_time": "2023-12-10T17:25:07.881Z"
   },
   {
    "duration": 644,
    "start_time": "2023-12-10T17:25:08.284Z"
   },
   {
    "duration": 14,
    "start_time": "2023-12-10T17:25:08.930Z"
   },
   {
    "duration": 19,
    "start_time": "2023-12-10T17:25:08.946Z"
   },
   {
    "duration": 15,
    "start_time": "2023-12-10T17:25:08.967Z"
   },
   {
    "duration": 22,
    "start_time": "2023-12-10T17:25:08.983Z"
   },
   {
    "duration": 26,
    "start_time": "2023-12-10T17:25:09.007Z"
   },
   {
    "duration": 20,
    "start_time": "2023-12-10T17:25:09.036Z"
   },
   {
    "duration": 11,
    "start_time": "2023-12-10T17:25:09.058Z"
   },
   {
    "duration": 24,
    "start_time": "2023-12-10T17:25:09.070Z"
   },
   {
    "duration": 16,
    "start_time": "2023-12-10T17:25:09.096Z"
   },
   {
    "duration": 32,
    "start_time": "2023-12-10T17:25:09.115Z"
   },
   {
    "duration": 25,
    "start_time": "2023-12-10T17:25:09.149Z"
   },
   {
    "duration": 29,
    "start_time": "2023-12-10T17:25:09.178Z"
   },
   {
    "duration": 10,
    "start_time": "2023-12-10T17:25:09.209Z"
   },
   {
    "duration": 104,
    "start_time": "2023-12-10T17:25:09.221Z"
   },
   {
    "duration": 289,
    "start_time": "2023-12-10T17:25:09.327Z"
   },
   {
    "duration": 102,
    "start_time": "2023-12-10T17:25:09.618Z"
   },
   {
    "duration": 53,
    "start_time": "2023-12-10T17:25:09.721Z"
   },
   {
    "duration": 59,
    "start_time": "2023-12-10T17:25:09.775Z"
   },
   {
    "duration": 18,
    "start_time": "2023-12-10T17:25:09.835Z"
   },
   {
    "duration": 20,
    "start_time": "2023-12-10T17:25:09.855Z"
   },
   {
    "duration": 15,
    "start_time": "2023-12-10T17:25:09.877Z"
   },
   {
    "duration": 6,
    "start_time": "2023-12-10T17:25:09.893Z"
   },
   {
    "duration": 22,
    "start_time": "2023-12-10T17:25:09.901Z"
   },
   {
    "duration": 6,
    "start_time": "2023-12-10T17:25:09.925Z"
   },
   {
    "duration": 43,
    "start_time": "2023-12-10T17:25:09.932Z"
   },
   {
    "duration": 25,
    "start_time": "2023-12-10T17:25:09.977Z"
   },
   {
    "duration": 156,
    "start_time": "2023-12-10T17:25:10.004Z"
   },
   {
    "duration": 19,
    "start_time": "2023-12-10T17:25:10.162Z"
   },
   {
    "duration": 10,
    "start_time": "2023-12-10T17:25:10.183Z"
   },
   {
    "duration": 17,
    "start_time": "2023-12-10T17:25:10.195Z"
   },
   {
    "duration": 22,
    "start_time": "2023-12-10T17:25:10.213Z"
   },
   {
    "duration": 16,
    "start_time": "2023-12-10T17:25:10.237Z"
   },
   {
    "duration": 12,
    "start_time": "2023-12-10T17:25:10.255Z"
   },
   {
    "duration": 138,
    "start_time": "2023-12-10T17:25:10.269Z"
   },
   {
    "duration": 9,
    "start_time": "2023-12-10T17:25:10.409Z"
   },
   {
    "duration": 5,
    "start_time": "2023-12-10T17:39:07.333Z"
   },
   {
    "duration": 4,
    "start_time": "2023-12-10T17:41:03.306Z"
   },
   {
    "duration": 5,
    "start_time": "2023-12-10T17:41:26.569Z"
   },
   {
    "duration": 19,
    "start_time": "2023-12-10T17:50:09.330Z"
   },
   {
    "duration": 478,
    "start_time": "2023-12-10T17:51:28.865Z"
   },
   {
    "duration": 634,
    "start_time": "2023-12-10T17:51:29.345Z"
   },
   {
    "duration": 13,
    "start_time": "2023-12-10T17:51:29.980Z"
   },
   {
    "duration": 9,
    "start_time": "2023-12-10T17:51:29.995Z"
   },
   {
    "duration": 37,
    "start_time": "2023-12-10T17:51:30.005Z"
   },
   {
    "duration": 58,
    "start_time": "2023-12-10T17:51:30.044Z"
   },
   {
    "duration": 37,
    "start_time": "2023-12-10T17:51:30.103Z"
   },
   {
    "duration": 27,
    "start_time": "2023-12-10T17:51:30.141Z"
   },
   {
    "duration": 21,
    "start_time": "2023-12-10T17:51:30.169Z"
   },
   {
    "duration": 37,
    "start_time": "2023-12-10T17:51:30.193Z"
   },
   {
    "duration": 19,
    "start_time": "2023-12-10T17:51:30.232Z"
   },
   {
    "duration": 10,
    "start_time": "2023-12-10T17:51:30.253Z"
   },
   {
    "duration": 30,
    "start_time": "2023-12-10T17:51:30.264Z"
   },
   {
    "duration": 108,
    "start_time": "2023-12-10T17:51:30.296Z"
   },
   {
    "duration": 11,
    "start_time": "2023-12-10T17:51:30.406Z"
   },
   {
    "duration": 103,
    "start_time": "2023-12-10T17:51:30.419Z"
   },
   {
    "duration": 298,
    "start_time": "2023-12-10T17:51:30.524Z"
   },
   {
    "duration": 99,
    "start_time": "2023-12-10T17:51:30.823Z"
   },
   {
    "duration": 58,
    "start_time": "2023-12-10T17:51:30.924Z"
   },
   {
    "duration": 74,
    "start_time": "2023-12-10T17:51:30.984Z"
   },
   {
    "duration": 7,
    "start_time": "2023-12-10T17:51:31.059Z"
   },
   {
    "duration": 109,
    "start_time": "2023-12-10T17:51:31.068Z"
   },
   {
    "duration": 51,
    "start_time": "2023-12-10T17:51:31.178Z"
   },
   {
    "duration": 41,
    "start_time": "2023-12-10T17:51:31.231Z"
   },
   {
    "duration": 51,
    "start_time": "2023-12-10T17:51:31.273Z"
   },
   {
    "duration": 109,
    "start_time": "2023-12-10T17:51:31.325Z"
   },
   {
    "duration": 65,
    "start_time": "2023-12-10T17:51:31.436Z"
   },
   {
    "duration": 32,
    "start_time": "2023-12-10T17:51:31.504Z"
   },
   {
    "duration": 160,
    "start_time": "2023-12-10T17:51:31.537Z"
   },
   {
    "duration": 16,
    "start_time": "2023-12-10T17:51:31.699Z"
   },
   {
    "duration": 14,
    "start_time": "2023-12-10T17:51:31.716Z"
   },
   {
    "duration": 58,
    "start_time": "2023-12-10T17:51:31.732Z"
   },
   {
    "duration": 39,
    "start_time": "2023-12-10T17:51:31.791Z"
   },
   {
    "duration": 25,
    "start_time": "2023-12-10T17:51:31.832Z"
   },
   {
    "duration": 51,
    "start_time": "2023-12-10T17:51:31.858Z"
   },
   {
    "duration": 111,
    "start_time": "2023-12-10T17:51:31.911Z"
   },
   {
    "duration": 15,
    "start_time": "2023-12-10T17:51:32.023Z"
   },
   {
    "duration": 34,
    "start_time": "2023-12-10T17:51:32.040Z"
   },
   {
    "duration": 44,
    "start_time": "2023-12-10T17:51:32.076Z"
   },
   {
    "duration": 63,
    "start_time": "2023-12-10T17:51:58.191Z"
   },
   {
    "duration": 391,
    "start_time": "2023-12-10T17:52:17.731Z"
   },
   {
    "duration": 61,
    "start_time": "2023-12-10T17:53:05.616Z"
   },
   {
    "duration": 57,
    "start_time": "2023-12-10T17:53:15.587Z"
   },
   {
    "duration": 59,
    "start_time": "2023-12-10T17:57:09.695Z"
   },
   {
    "duration": 7,
    "start_time": "2023-12-10T17:57:25.237Z"
   },
   {
    "duration": 485,
    "start_time": "2023-12-10T18:00:05.344Z"
   },
   {
    "duration": 643,
    "start_time": "2023-12-10T18:00:05.830Z"
   },
   {
    "duration": 14,
    "start_time": "2023-12-10T18:00:06.474Z"
   },
   {
    "duration": 11,
    "start_time": "2023-12-10T18:00:06.490Z"
   },
   {
    "duration": 13,
    "start_time": "2023-12-10T18:00:06.503Z"
   },
   {
    "duration": 7,
    "start_time": "2023-12-10T18:00:06.517Z"
   },
   {
    "duration": 15,
    "start_time": "2023-12-10T18:00:06.526Z"
   },
   {
    "duration": 31,
    "start_time": "2023-12-10T18:00:06.543Z"
   },
   {
    "duration": 8,
    "start_time": "2023-12-10T18:00:06.576Z"
   },
   {
    "duration": 20,
    "start_time": "2023-12-10T18:00:06.586Z"
   },
   {
    "duration": 13,
    "start_time": "2023-12-10T18:00:06.607Z"
   },
   {
    "duration": 8,
    "start_time": "2023-12-10T18:00:06.621Z"
   },
   {
    "duration": 22,
    "start_time": "2023-12-10T18:00:06.630Z"
   },
   {
    "duration": 27,
    "start_time": "2023-12-10T18:00:06.654Z"
   },
   {
    "duration": 21,
    "start_time": "2023-12-10T18:00:06.683Z"
   },
   {
    "duration": 77,
    "start_time": "2023-12-10T18:00:06.706Z"
   },
   {
    "duration": 288,
    "start_time": "2023-12-10T18:00:06.785Z"
   },
   {
    "duration": 109,
    "start_time": "2023-12-10T18:00:07.075Z"
   },
   {
    "duration": 44,
    "start_time": "2023-12-10T18:00:07.186Z"
   },
   {
    "duration": 83,
    "start_time": "2023-12-10T18:00:07.232Z"
   },
   {
    "duration": 8,
    "start_time": "2023-12-10T18:00:07.317Z"
   },
   {
    "duration": 26,
    "start_time": "2023-12-10T18:00:07.326Z"
   },
   {
    "duration": 36,
    "start_time": "2023-12-10T18:00:07.354Z"
   },
   {
    "duration": 60,
    "start_time": "2023-12-10T18:00:07.392Z"
   },
   {
    "duration": 112,
    "start_time": "2023-12-10T18:00:07.453Z"
   },
   {
    "duration": 104,
    "start_time": "2023-12-10T18:00:07.566Z"
   },
   {
    "duration": 55,
    "start_time": "2023-12-10T18:00:07.672Z"
   },
   {
    "duration": 24,
    "start_time": "2023-12-10T18:00:07.730Z"
   },
   {
    "duration": 129,
    "start_time": "2023-12-10T18:00:07.755Z"
   },
   {
    "duration": 16,
    "start_time": "2023-12-10T18:00:07.885Z"
   },
   {
    "duration": 8,
    "start_time": "2023-12-10T18:00:07.903Z"
   },
   {
    "duration": 16,
    "start_time": "2023-12-10T18:00:07.912Z"
   },
   {
    "duration": 23,
    "start_time": "2023-12-10T18:00:07.929Z"
   },
   {
    "duration": 8,
    "start_time": "2023-12-10T18:00:07.953Z"
   },
   {
    "duration": 10,
    "start_time": "2023-12-10T18:00:07.962Z"
   },
   {
    "duration": 93,
    "start_time": "2023-12-10T18:00:07.974Z"
   },
   {
    "duration": 8,
    "start_time": "2023-12-10T18:00:08.068Z"
   },
   {
    "duration": 16,
    "start_time": "2023-12-10T18:00:08.077Z"
   },
   {
    "duration": 17,
    "start_time": "2023-12-10T18:00:08.094Z"
   },
   {
    "duration": 394,
    "start_time": "2023-12-10T18:00:08.113Z"
   },
   {
    "duration": 7,
    "start_time": "2023-12-10T18:00:08.509Z"
   },
   {
    "duration": 505,
    "start_time": "2023-12-10T18:05:58.037Z"
   },
   {
    "duration": 644,
    "start_time": "2023-12-10T18:05:58.544Z"
   },
   {
    "duration": 14,
    "start_time": "2023-12-10T18:05:59.190Z"
   },
   {
    "duration": 10,
    "start_time": "2023-12-10T18:05:59.206Z"
   },
   {
    "duration": 6,
    "start_time": "2023-12-10T18:05:59.217Z"
   },
   {
    "duration": 7,
    "start_time": "2023-12-10T18:05:59.224Z"
   },
   {
    "duration": 24,
    "start_time": "2023-12-10T18:05:59.232Z"
   },
   {
    "duration": 22,
    "start_time": "2023-12-10T18:05:59.257Z"
   },
   {
    "duration": 13,
    "start_time": "2023-12-10T18:05:59.281Z"
   },
   {
    "duration": 23,
    "start_time": "2023-12-10T18:05:59.296Z"
   },
   {
    "duration": 8,
    "start_time": "2023-12-10T18:05:59.320Z"
   },
   {
    "duration": 8,
    "start_time": "2023-12-10T18:05:59.329Z"
   },
   {
    "duration": 15,
    "start_time": "2023-12-10T18:05:59.338Z"
   },
   {
    "duration": 23,
    "start_time": "2023-12-10T18:05:59.355Z"
   },
   {
    "duration": 8,
    "start_time": "2023-12-10T18:05:59.380Z"
   },
   {
    "duration": 81,
    "start_time": "2023-12-10T18:05:59.389Z"
   },
   {
    "duration": 265,
    "start_time": "2023-12-10T18:05:59.471Z"
   },
   {
    "duration": 98,
    "start_time": "2023-12-10T18:05:59.737Z"
   },
   {
    "duration": 49,
    "start_time": "2023-12-10T18:05:59.836Z"
   },
   {
    "duration": 60,
    "start_time": "2023-12-10T18:05:59.886Z"
   },
   {
    "duration": 9,
    "start_time": "2023-12-10T18:05:59.948Z"
   },
   {
    "duration": 11,
    "start_time": "2023-12-10T18:05:59.958Z"
   },
   {
    "duration": 10,
    "start_time": "2023-12-10T18:05:59.971Z"
   },
   {
    "duration": 6,
    "start_time": "2023-12-10T18:05:59.983Z"
   },
   {
    "duration": 9,
    "start_time": "2023-12-10T18:05:59.990Z"
   },
   {
    "duration": 17,
    "start_time": "2023-12-10T18:06:00.000Z"
   },
   {
    "duration": 65,
    "start_time": "2023-12-10T18:06:00.019Z"
   },
   {
    "duration": 35,
    "start_time": "2023-12-10T18:06:00.087Z"
   },
   {
    "duration": 150,
    "start_time": "2023-12-10T18:06:00.123Z"
   },
   {
    "duration": 18,
    "start_time": "2023-12-10T18:06:00.275Z"
   },
   {
    "duration": 9,
    "start_time": "2023-12-10T18:06:00.295Z"
   },
   {
    "duration": 22,
    "start_time": "2023-12-10T18:06:00.306Z"
   },
   {
    "duration": 58,
    "start_time": "2023-12-10T18:06:00.329Z"
   },
   {
    "duration": 16,
    "start_time": "2023-12-10T18:06:00.389Z"
   },
   {
    "duration": 31,
    "start_time": "2023-12-10T18:06:00.407Z"
   },
   {
    "duration": 96,
    "start_time": "2023-12-10T18:06:00.440Z"
   },
   {
    "duration": 10,
    "start_time": "2023-12-10T18:06:00.538Z"
   },
   {
    "duration": 38,
    "start_time": "2023-12-10T18:06:00.549Z"
   },
   {
    "duration": 48,
    "start_time": "2023-12-10T18:06:00.589Z"
   },
   {
    "duration": 402,
    "start_time": "2023-12-10T18:06:00.638Z"
   },
   {
    "duration": 7,
    "start_time": "2023-12-10T18:06:01.041Z"
   },
   {
    "duration": 480,
    "start_time": "2023-12-10T18:07:25.617Z"
   },
   {
    "duration": 509,
    "start_time": "2023-12-10T18:08:35.051Z"
   },
   {
    "duration": 632,
    "start_time": "2023-12-10T18:08:35.562Z"
   },
   {
    "duration": 14,
    "start_time": "2023-12-10T18:08:36.196Z"
   },
   {
    "duration": 11,
    "start_time": "2023-12-10T18:08:36.212Z"
   },
   {
    "duration": 5,
    "start_time": "2023-12-10T18:08:36.224Z"
   },
   {
    "duration": 4,
    "start_time": "2023-12-10T18:08:36.230Z"
   },
   {
    "duration": 26,
    "start_time": "2023-12-10T18:08:36.236Z"
   },
   {
    "duration": 8,
    "start_time": "2023-12-10T18:08:36.264Z"
   },
   {
    "duration": 11,
    "start_time": "2023-12-10T18:08:36.274Z"
   },
   {
    "duration": 20,
    "start_time": "2023-12-10T18:08:36.288Z"
   },
   {
    "duration": 8,
    "start_time": "2023-12-10T18:08:36.310Z"
   },
   {
    "duration": 8,
    "start_time": "2023-12-10T18:08:36.352Z"
   },
   {
    "duration": 16,
    "start_time": "2023-12-10T18:08:36.362Z"
   },
   {
    "duration": 27,
    "start_time": "2023-12-10T18:08:36.380Z"
   },
   {
    "duration": 10,
    "start_time": "2023-12-10T18:08:36.408Z"
   },
   {
    "duration": 97,
    "start_time": "2023-12-10T18:08:36.419Z"
   },
   {
    "duration": 279,
    "start_time": "2023-12-10T18:08:36.518Z"
   },
   {
    "duration": 98,
    "start_time": "2023-12-10T18:08:36.799Z"
   },
   {
    "duration": 58,
    "start_time": "2023-12-10T18:08:36.899Z"
   },
   {
    "duration": 62,
    "start_time": "2023-12-10T18:08:36.959Z"
   },
   {
    "duration": 8,
    "start_time": "2023-12-10T18:08:37.023Z"
   },
   {
    "duration": 26,
    "start_time": "2023-12-10T18:08:37.033Z"
   },
   {
    "duration": 10,
    "start_time": "2023-12-10T18:08:37.061Z"
   },
   {
    "duration": 13,
    "start_time": "2023-12-10T18:08:37.073Z"
   },
   {
    "duration": 8,
    "start_time": "2023-12-10T18:08:37.087Z"
   },
   {
    "duration": 5,
    "start_time": "2023-12-10T18:08:37.096Z"
   },
   {
    "duration": 66,
    "start_time": "2023-12-10T18:08:37.103Z"
   },
   {
    "duration": 25,
    "start_time": "2023-12-10T18:08:37.173Z"
   },
   {
    "duration": 147,
    "start_time": "2023-12-10T18:08:37.199Z"
   },
   {
    "duration": 26,
    "start_time": "2023-12-10T18:08:37.348Z"
   },
   {
    "duration": 11,
    "start_time": "2023-12-10T18:08:37.375Z"
   },
   {
    "duration": 5,
    "start_time": "2023-12-10T18:08:37.388Z"
   },
   {
    "duration": 12,
    "start_time": "2023-12-10T18:08:37.394Z"
   },
   {
    "duration": 5,
    "start_time": "2023-12-10T18:08:37.408Z"
   },
   {
    "duration": 40,
    "start_time": "2023-12-10T18:08:37.415Z"
   },
   {
    "duration": 67,
    "start_time": "2023-12-10T18:08:37.456Z"
   },
   {
    "duration": 7,
    "start_time": "2023-12-10T18:08:37.525Z"
   },
   {
    "duration": 19,
    "start_time": "2023-12-10T18:08:37.534Z"
   },
   {
    "duration": 13,
    "start_time": "2023-12-10T18:08:37.555Z"
   },
   {
    "duration": 25,
    "start_time": "2023-12-10T18:08:37.569Z"
   },
   {
    "duration": 358,
    "start_time": "2023-12-10T18:08:37.596Z"
   },
   {
    "duration": 6,
    "start_time": "2023-12-10T18:08:37.956Z"
   },
   {
    "duration": 574,
    "start_time": "2023-12-10T18:08:37.963Z"
   },
   {
    "duration": 428,
    "start_time": "2023-12-10T18:10:47.564Z"
   },
   {
    "duration": 448,
    "start_time": "2023-12-10T18:11:17.420Z"
   },
   {
    "duration": 475,
    "start_time": "2023-12-10T18:11:29.622Z"
   },
   {
    "duration": 442,
    "start_time": "2023-12-10T18:11:50.319Z"
   },
   {
    "duration": 457,
    "start_time": "2023-12-10T18:12:00.943Z"
   },
   {
    "duration": 474,
    "start_time": "2023-12-10T18:13:38.278Z"
   },
   {
    "duration": 463,
    "start_time": "2023-12-10T18:13:50.944Z"
   },
   {
    "duration": 917,
    "start_time": "2023-12-10T18:21:12.641Z"
   },
   {
    "duration": 602,
    "start_time": "2023-12-10T18:21:13.561Z"
   },
   {
    "duration": 12,
    "start_time": "2023-12-10T18:21:14.165Z"
   },
   {
    "duration": 9,
    "start_time": "2023-12-10T18:21:14.180Z"
   },
   {
    "duration": 4,
    "start_time": "2023-12-10T18:21:14.191Z"
   },
   {
    "duration": 7,
    "start_time": "2023-12-10T18:21:14.197Z"
   },
   {
    "duration": 12,
    "start_time": "2023-12-10T18:21:14.206Z"
   },
   {
    "duration": 37,
    "start_time": "2023-12-10T18:21:14.219Z"
   },
   {
    "duration": 8,
    "start_time": "2023-12-10T18:21:14.258Z"
   },
   {
    "duration": 20,
    "start_time": "2023-12-10T18:21:14.268Z"
   },
   {
    "duration": 11,
    "start_time": "2023-12-10T18:21:14.289Z"
   },
   {
    "duration": 7,
    "start_time": "2023-12-10T18:21:14.305Z"
   },
   {
    "duration": 42,
    "start_time": "2023-12-10T18:21:14.314Z"
   },
   {
    "duration": 36,
    "start_time": "2023-12-10T18:21:14.357Z"
   },
   {
    "duration": 11,
    "start_time": "2023-12-10T18:21:14.395Z"
   },
   {
    "duration": 95,
    "start_time": "2023-12-10T18:21:14.408Z"
   },
   {
    "duration": 277,
    "start_time": "2023-12-10T18:21:14.505Z"
   },
   {
    "duration": 106,
    "start_time": "2023-12-10T18:21:14.784Z"
   },
   {
    "duration": 42,
    "start_time": "2023-12-10T18:21:14.892Z"
   },
   {
    "duration": 65,
    "start_time": "2023-12-10T18:21:14.935Z"
   },
   {
    "duration": 7,
    "start_time": "2023-12-10T18:21:15.001Z"
   },
   {
    "duration": 96,
    "start_time": "2023-12-10T18:21:15.009Z"
   },
   {
    "duration": 39,
    "start_time": "2023-12-10T18:21:15.107Z"
   },
   {
    "duration": 13,
    "start_time": "2023-12-10T18:21:15.147Z"
   },
   {
    "duration": 16,
    "start_time": "2023-12-10T18:21:15.161Z"
   },
   {
    "duration": 13,
    "start_time": "2023-12-10T18:21:15.178Z"
   },
   {
    "duration": 53,
    "start_time": "2023-12-10T18:21:15.193Z"
   },
   {
    "duration": 25,
    "start_time": "2023-12-10T18:21:15.249Z"
   },
   {
    "duration": 126,
    "start_time": "2023-12-10T18:21:15.275Z"
   },
   {
    "duration": 18,
    "start_time": "2023-12-10T18:21:15.403Z"
   },
   {
    "duration": 26,
    "start_time": "2023-12-10T18:21:15.422Z"
   },
   {
    "duration": 11,
    "start_time": "2023-12-10T18:21:15.449Z"
   },
   {
    "duration": 23,
    "start_time": "2023-12-10T18:21:15.462Z"
   },
   {
    "duration": 6,
    "start_time": "2023-12-10T18:21:15.487Z"
   },
   {
    "duration": 25,
    "start_time": "2023-12-10T18:21:15.494Z"
   },
   {
    "duration": 85,
    "start_time": "2023-12-10T18:21:15.521Z"
   },
   {
    "duration": 8,
    "start_time": "2023-12-10T18:21:15.608Z"
   },
   {
    "duration": 4,
    "start_time": "2023-12-10T18:21:15.617Z"
   },
   {
    "duration": 5,
    "start_time": "2023-12-10T18:21:15.622Z"
   },
   {
    "duration": 39,
    "start_time": "2023-12-10T18:21:15.628Z"
   },
   {
    "duration": 405,
    "start_time": "2023-12-10T18:21:15.668Z"
   },
   {
    "duration": 6,
    "start_time": "2023-12-10T18:21:16.074Z"
   },
   {
    "duration": 487,
    "start_time": "2023-12-10T18:21:16.081Z"
   },
   {
    "duration": 770,
    "start_time": "2023-12-10T18:21:50.397Z"
   },
   {
    "duration": 416,
    "start_time": "2023-12-10T18:25:24.398Z"
   },
   {
    "duration": 432,
    "start_time": "2023-12-10T18:25:47.424Z"
   },
   {
    "duration": 507,
    "start_time": "2023-12-10T18:26:06.983Z"
   },
   {
    "duration": 12,
    "start_time": "2023-12-10T18:36:16.926Z"
   },
   {
    "duration": 9,
    "start_time": "2023-12-10T18:38:37.226Z"
   },
   {
    "duration": 41,
    "start_time": "2023-12-10T18:39:37.594Z"
   },
   {
    "duration": 10,
    "start_time": "2023-12-10T18:39:53.665Z"
   },
   {
    "duration": 438,
    "start_time": "2023-12-10T18:43:58.681Z"
   },
   {
    "duration": 466,
    "start_time": "2023-12-10T18:44:42.920Z"
   },
   {
    "duration": 530,
    "start_time": "2023-12-10T18:45:46.518Z"
   },
   {
    "duration": 700,
    "start_time": "2023-12-10T18:46:00.279Z"
   },
   {
    "duration": 636,
    "start_time": "2023-12-10T18:46:00.981Z"
   },
   {
    "duration": 14,
    "start_time": "2023-12-10T18:46:01.619Z"
   },
   {
    "duration": 45,
    "start_time": "2023-12-10T18:46:01.635Z"
   },
   {
    "duration": 34,
    "start_time": "2023-12-10T18:46:01.682Z"
   },
   {
    "duration": 50,
    "start_time": "2023-12-10T18:46:01.718Z"
   },
   {
    "duration": 73,
    "start_time": "2023-12-10T18:46:01.770Z"
   },
   {
    "duration": 176,
    "start_time": "2023-12-10T18:46:01.845Z"
   },
   {
    "duration": 97,
    "start_time": "2023-12-10T18:46:02.023Z"
   },
   {
    "duration": 131,
    "start_time": "2023-12-10T18:46:02.123Z"
   },
   {
    "duration": 44,
    "start_time": "2023-12-10T18:46:02.256Z"
   },
   {
    "duration": 19,
    "start_time": "2023-12-10T18:46:02.301Z"
   },
   {
    "duration": 35,
    "start_time": "2023-12-10T18:46:02.321Z"
   },
   {
    "duration": 70,
    "start_time": "2023-12-10T18:46:02.357Z"
   },
   {
    "duration": 30,
    "start_time": "2023-12-10T18:46:02.428Z"
   },
   {
    "duration": 103,
    "start_time": "2023-12-10T18:46:02.460Z"
   },
   {
    "duration": 280,
    "start_time": "2023-12-10T18:46:02.564Z"
   },
   {
    "duration": 112,
    "start_time": "2023-12-10T18:46:02.846Z"
   },
   {
    "duration": 42,
    "start_time": "2023-12-10T18:46:02.959Z"
   },
   {
    "duration": 72,
    "start_time": "2023-12-10T18:46:03.003Z"
   },
   {
    "duration": 6,
    "start_time": "2023-12-10T18:46:03.077Z"
   },
   {
    "duration": 15,
    "start_time": "2023-12-10T18:46:03.085Z"
   },
   {
    "duration": 30,
    "start_time": "2023-12-10T18:46:03.102Z"
   },
   {
    "duration": 19,
    "start_time": "2023-12-10T18:46:03.133Z"
   },
   {
    "duration": 27,
    "start_time": "2023-12-10T18:46:03.153Z"
   },
   {
    "duration": 13,
    "start_time": "2023-12-10T18:46:03.182Z"
   },
   {
    "duration": 39,
    "start_time": "2023-12-10T18:46:03.196Z"
   },
   {
    "duration": 26,
    "start_time": "2023-12-10T18:46:03.240Z"
   },
   {
    "duration": 128,
    "start_time": "2023-12-10T18:46:03.267Z"
   },
   {
    "duration": 17,
    "start_time": "2023-12-10T18:46:03.397Z"
   },
   {
    "duration": 9,
    "start_time": "2023-12-10T18:46:03.416Z"
   },
   {
    "duration": 12,
    "start_time": "2023-12-10T18:46:03.426Z"
   },
   {
    "duration": 17,
    "start_time": "2023-12-10T18:46:03.452Z"
   },
   {
    "duration": 16,
    "start_time": "2023-12-10T18:46:03.470Z"
   },
   {
    "duration": 23,
    "start_time": "2023-12-10T18:46:03.487Z"
   },
   {
    "duration": 97,
    "start_time": "2023-12-10T18:46:03.512Z"
   },
   {
    "duration": 8,
    "start_time": "2023-12-10T18:46:03.611Z"
   },
   {
    "duration": 12,
    "start_time": "2023-12-10T18:46:03.620Z"
   },
   {
    "duration": 10,
    "start_time": "2023-12-10T18:46:03.633Z"
   },
   {
    "duration": 32,
    "start_time": "2023-12-10T18:46:03.644Z"
   },
   {
    "duration": 408,
    "start_time": "2023-12-10T18:46:03.678Z"
   },
   {
    "duration": 6,
    "start_time": "2023-12-10T18:46:04.087Z"
   },
   {
    "duration": 485,
    "start_time": "2023-12-10T18:46:04.095Z"
   },
   {
    "duration": 11,
    "start_time": "2023-12-10T18:46:04.582Z"
   },
   {
    "duration": 558,
    "start_time": "2023-12-10T18:46:04.594Z"
   },
   {
    "duration": 444,
    "start_time": "2023-12-10T18:46:20.663Z"
   },
   {
    "duration": 409,
    "start_time": "2023-12-10T18:46:55.115Z"
   },
   {
    "duration": 20,
    "start_time": "2023-12-10T18:56:30.663Z"
   },
   {
    "duration": 29,
    "start_time": "2023-12-10T18:57:10.674Z"
   },
   {
    "duration": 744,
    "start_time": "2023-12-10T18:58:17.658Z"
   },
   {
    "duration": 656,
    "start_time": "2023-12-10T18:58:18.404Z"
   },
   {
    "duration": 13,
    "start_time": "2023-12-10T18:58:19.062Z"
   },
   {
    "duration": 10,
    "start_time": "2023-12-10T18:58:19.076Z"
   },
   {
    "duration": 5,
    "start_time": "2023-12-10T18:58:19.087Z"
   },
   {
    "duration": 6,
    "start_time": "2023-12-10T18:58:19.094Z"
   },
   {
    "duration": 51,
    "start_time": "2023-12-10T18:58:19.101Z"
   },
   {
    "duration": 10,
    "start_time": "2023-12-10T18:58:19.154Z"
   },
   {
    "duration": 12,
    "start_time": "2023-12-10T18:58:19.166Z"
   },
   {
    "duration": 19,
    "start_time": "2023-12-10T18:58:19.181Z"
   },
   {
    "duration": 6,
    "start_time": "2023-12-10T18:58:19.202Z"
   },
   {
    "duration": 46,
    "start_time": "2023-12-10T18:58:19.210Z"
   },
   {
    "duration": 17,
    "start_time": "2023-12-10T18:58:19.258Z"
   },
   {
    "duration": 27,
    "start_time": "2023-12-10T18:58:19.276Z"
   },
   {
    "duration": 9,
    "start_time": "2023-12-10T18:58:19.305Z"
   },
   {
    "duration": 116,
    "start_time": "2023-12-10T18:58:19.315Z"
   },
   {
    "duration": 312,
    "start_time": "2023-12-10T18:58:19.432Z"
   },
   {
    "duration": 133,
    "start_time": "2023-12-10T18:58:19.746Z"
   },
   {
    "duration": 41,
    "start_time": "2023-12-10T18:58:19.881Z"
   },
   {
    "duration": 92,
    "start_time": "2023-12-10T18:58:19.923Z"
   },
   {
    "duration": 7,
    "start_time": "2023-12-10T18:58:20.017Z"
   },
   {
    "duration": 15,
    "start_time": "2023-12-10T18:58:20.026Z"
   },
   {
    "duration": 11,
    "start_time": "2023-12-10T18:58:20.052Z"
   },
   {
    "duration": 6,
    "start_time": "2023-12-10T18:58:20.066Z"
   },
   {
    "duration": 19,
    "start_time": "2023-12-10T18:58:20.074Z"
   },
   {
    "duration": 13,
    "start_time": "2023-12-10T18:58:20.094Z"
   },
   {
    "duration": 43,
    "start_time": "2023-12-10T18:58:20.108Z"
   },
   {
    "duration": 31,
    "start_time": "2023-12-10T18:58:20.157Z"
   },
   {
    "duration": 135,
    "start_time": "2023-12-10T18:58:20.189Z"
   },
   {
    "duration": 16,
    "start_time": "2023-12-10T18:58:20.325Z"
   },
   {
    "duration": 17,
    "start_time": "2023-12-10T18:58:20.352Z"
   },
   {
    "duration": 5,
    "start_time": "2023-12-10T18:58:20.371Z"
   },
   {
    "duration": 13,
    "start_time": "2023-12-10T18:58:20.377Z"
   },
   {
    "duration": 5,
    "start_time": "2023-12-10T18:58:20.391Z"
   },
   {
    "duration": 11,
    "start_time": "2023-12-10T18:58:20.397Z"
   },
   {
    "duration": 111,
    "start_time": "2023-12-10T18:58:20.410Z"
   },
   {
    "duration": 8,
    "start_time": "2023-12-10T18:58:20.523Z"
   },
   {
    "duration": 27,
    "start_time": "2023-12-10T18:58:20.533Z"
   },
   {
    "duration": 4,
    "start_time": "2023-12-10T18:58:20.562Z"
   },
   {
    "duration": 21,
    "start_time": "2023-12-10T18:58:20.568Z"
   },
   {
    "duration": 18,
    "start_time": "2023-12-10T18:58:20.590Z"
   },
   {
    "duration": 454,
    "start_time": "2023-12-10T18:58:20.609Z"
   },
   {
    "duration": 10,
    "start_time": "2023-12-10T18:58:21.065Z"
   },
   {
    "duration": 565,
    "start_time": "2023-12-10T18:58:21.078Z"
   },
   {
    "duration": 18,
    "start_time": "2023-12-10T18:58:21.644Z"
   },
   {
    "duration": 573,
    "start_time": "2023-12-10T18:58:21.664Z"
   },
   {
    "duration": 50,
    "start_time": "2023-12-10T18:58:22.238Z"
   },
   {
    "duration": 736,
    "start_time": "2023-12-10T18:59:26.045Z"
   },
   {
    "duration": 609,
    "start_time": "2023-12-10T18:59:26.783Z"
   },
   {
    "duration": 11,
    "start_time": "2023-12-10T18:59:27.394Z"
   },
   {
    "duration": 9,
    "start_time": "2023-12-10T18:59:27.407Z"
   },
   {
    "duration": 6,
    "start_time": "2023-12-10T18:59:27.417Z"
   },
   {
    "duration": 7,
    "start_time": "2023-12-10T18:59:27.424Z"
   },
   {
    "duration": 20,
    "start_time": "2023-12-10T18:59:27.433Z"
   },
   {
    "duration": 8,
    "start_time": "2023-12-10T18:59:27.455Z"
   },
   {
    "duration": 8,
    "start_time": "2023-12-10T18:59:27.464Z"
   },
   {
    "duration": 19,
    "start_time": "2023-12-10T18:59:27.474Z"
   },
   {
    "duration": 6,
    "start_time": "2023-12-10T18:59:27.495Z"
   },
   {
    "duration": 8,
    "start_time": "2023-12-10T18:59:27.503Z"
   },
   {
    "duration": 51,
    "start_time": "2023-12-10T18:59:27.512Z"
   },
   {
    "duration": 27,
    "start_time": "2023-12-10T18:59:27.565Z"
   },
   {
    "duration": 8,
    "start_time": "2023-12-10T18:59:27.594Z"
   },
   {
    "duration": 91,
    "start_time": "2023-12-10T18:59:27.603Z"
   },
   {
    "duration": 281,
    "start_time": "2023-12-10T18:59:27.695Z"
   },
   {
    "duration": 97,
    "start_time": "2023-12-10T18:59:27.977Z"
   },
   {
    "duration": 80,
    "start_time": "2023-12-10T18:59:28.075Z"
   },
   {
    "duration": 104,
    "start_time": "2023-12-10T18:59:28.157Z"
   },
   {
    "duration": 7,
    "start_time": "2023-12-10T18:59:28.262Z"
   },
   {
    "duration": 14,
    "start_time": "2023-12-10T18:59:28.270Z"
   },
   {
    "duration": 9,
    "start_time": "2023-12-10T18:59:28.285Z"
   },
   {
    "duration": 60,
    "start_time": "2023-12-10T18:59:28.295Z"
   },
   {
    "duration": 7,
    "start_time": "2023-12-10T18:59:28.357Z"
   },
   {
    "duration": 5,
    "start_time": "2023-12-10T18:59:28.365Z"
   },
   {
    "duration": 81,
    "start_time": "2023-12-10T18:59:28.371Z"
   },
   {
    "duration": 26,
    "start_time": "2023-12-10T18:59:28.455Z"
   },
   {
    "duration": 279,
    "start_time": "2023-12-10T18:59:28.482Z"
   },
   {
    "duration": 16,
    "start_time": "2023-12-10T18:59:28.762Z"
   },
   {
    "duration": 8,
    "start_time": "2023-12-10T18:59:28.779Z"
   },
   {
    "duration": 4,
    "start_time": "2023-12-10T18:59:28.788Z"
   },
   {
    "duration": 73,
    "start_time": "2023-12-10T18:59:28.794Z"
   },
   {
    "duration": 7,
    "start_time": "2023-12-10T18:59:28.868Z"
   },
   {
    "duration": 12,
    "start_time": "2023-12-10T18:59:28.876Z"
   },
   {
    "duration": 196,
    "start_time": "2023-12-10T18:59:28.890Z"
   },
   {
    "duration": 10,
    "start_time": "2023-12-10T18:59:29.088Z"
   },
   {
    "duration": 5,
    "start_time": "2023-12-10T18:59:29.152Z"
   },
   {
    "duration": 3,
    "start_time": "2023-12-10T18:59:29.159Z"
   },
   {
    "duration": 22,
    "start_time": "2023-12-10T18:59:29.163Z"
   },
   {
    "duration": 69,
    "start_time": "2023-12-10T18:59:29.186Z"
   },
   {
    "duration": 602,
    "start_time": "2023-12-10T18:59:29.257Z"
   },
   {
    "duration": 7,
    "start_time": "2023-12-10T18:59:29.860Z"
   },
   {
    "duration": 503,
    "start_time": "2023-12-10T18:59:29.868Z"
   },
   {
    "duration": 12,
    "start_time": "2023-12-10T18:59:30.372Z"
   },
   {
    "duration": 515,
    "start_time": "2023-12-10T18:59:30.386Z"
   },
   {
    "duration": 52,
    "start_time": "2023-12-10T18:59:30.903Z"
   },
   {
    "duration": 727,
    "start_time": "2023-12-10T19:00:55.092Z"
   },
   {
    "duration": 599,
    "start_time": "2023-12-10T19:00:55.821Z"
   },
   {
    "duration": 12,
    "start_time": "2023-12-10T19:00:56.423Z"
   },
   {
    "duration": 9,
    "start_time": "2023-12-10T19:00:56.437Z"
   },
   {
    "duration": 10,
    "start_time": "2023-12-10T19:00:56.451Z"
   },
   {
    "duration": 5,
    "start_time": "2023-12-10T19:00:56.462Z"
   },
   {
    "duration": 12,
    "start_time": "2023-12-10T19:00:56.468Z"
   },
   {
    "duration": 7,
    "start_time": "2023-12-10T19:00:56.482Z"
   },
   {
    "duration": 15,
    "start_time": "2023-12-10T19:00:56.491Z"
   },
   {
    "duration": 25,
    "start_time": "2023-12-10T19:00:56.508Z"
   },
   {
    "duration": 22,
    "start_time": "2023-12-10T19:00:56.535Z"
   },
   {
    "duration": 6,
    "start_time": "2023-12-10T19:00:56.558Z"
   },
   {
    "duration": 12,
    "start_time": "2023-12-10T19:00:56.567Z"
   },
   {
    "duration": 34,
    "start_time": "2023-12-10T19:00:56.581Z"
   },
   {
    "duration": 9,
    "start_time": "2023-12-10T19:00:56.616Z"
   },
   {
    "duration": 89,
    "start_time": "2023-12-10T19:00:56.626Z"
   },
   {
    "duration": 280,
    "start_time": "2023-12-10T19:00:56.716Z"
   },
   {
    "duration": 99,
    "start_time": "2023-12-10T19:00:56.997Z"
   },
   {
    "duration": 59,
    "start_time": "2023-12-10T19:00:57.097Z"
   },
   {
    "duration": 56,
    "start_time": "2023-12-10T19:00:57.158Z"
   },
   {
    "duration": 7,
    "start_time": "2023-12-10T19:00:57.215Z"
   },
   {
    "duration": 29,
    "start_time": "2023-12-10T19:00:57.223Z"
   },
   {
    "duration": 13,
    "start_time": "2023-12-10T19:00:57.253Z"
   },
   {
    "duration": 19,
    "start_time": "2023-12-10T19:00:57.267Z"
   },
   {
    "duration": 26,
    "start_time": "2023-12-10T19:00:57.287Z"
   },
   {
    "duration": 6,
    "start_time": "2023-12-10T19:00:57.314Z"
   },
   {
    "duration": 29,
    "start_time": "2023-12-10T19:00:57.321Z"
   },
   {
    "duration": 26,
    "start_time": "2023-12-10T19:00:57.352Z"
   },
   {
    "duration": 136,
    "start_time": "2023-12-10T19:00:57.380Z"
   },
   {
    "duration": 17,
    "start_time": "2023-12-10T19:00:57.517Z"
   },
   {
    "duration": 17,
    "start_time": "2023-12-10T19:00:57.535Z"
   },
   {
    "duration": 18,
    "start_time": "2023-12-10T19:00:57.553Z"
   },
   {
    "duration": 13,
    "start_time": "2023-12-10T19:00:57.572Z"
   },
   {
    "duration": 6,
    "start_time": "2023-12-10T19:00:57.586Z"
   },
   {
    "duration": 15,
    "start_time": "2023-12-10T19:00:57.593Z"
   },
   {
    "duration": 101,
    "start_time": "2023-12-10T19:00:57.610Z"
   },
   {
    "duration": 8,
    "start_time": "2023-12-10T19:00:57.712Z"
   },
   {
    "duration": 4,
    "start_time": "2023-12-10T19:00:57.722Z"
   },
   {
    "duration": 22,
    "start_time": "2023-12-10T19:00:57.727Z"
   },
   {
    "duration": 16,
    "start_time": "2023-12-10T19:00:57.752Z"
   },
   {
    "duration": 16,
    "start_time": "2023-12-10T19:00:57.770Z"
   },
   {
    "duration": 447,
    "start_time": "2023-12-10T19:00:57.787Z"
   },
   {
    "duration": 7,
    "start_time": "2023-12-10T19:00:58.236Z"
   },
   {
    "duration": 516,
    "start_time": "2023-12-10T19:00:58.244Z"
   },
   {
    "duration": 11,
    "start_time": "2023-12-10T19:00:58.761Z"
   },
   {
    "duration": 519,
    "start_time": "2023-12-10T19:00:58.774Z"
   },
   {
    "duration": 59,
    "start_time": "2023-12-10T19:00:59.295Z"
   },
   {
    "duration": 17,
    "start_time": "2023-12-10T19:02:02.805Z"
   },
   {
    "duration": 696,
    "start_time": "2023-12-10T19:06:20.199Z"
   },
   {
    "duration": 653,
    "start_time": "2023-12-10T19:06:20.897Z"
   },
   {
    "duration": 12,
    "start_time": "2023-12-10T19:06:21.552Z"
   },
   {
    "duration": 27,
    "start_time": "2023-12-10T19:06:21.567Z"
   },
   {
    "duration": 11,
    "start_time": "2023-12-10T19:06:21.596Z"
   },
   {
    "duration": 5,
    "start_time": "2023-12-10T19:06:21.608Z"
   },
   {
    "duration": 13,
    "start_time": "2023-12-10T19:06:21.614Z"
   },
   {
    "duration": 30,
    "start_time": "2023-12-10T19:06:21.629Z"
   },
   {
    "duration": 8,
    "start_time": "2023-12-10T19:06:21.660Z"
   },
   {
    "duration": 23,
    "start_time": "2023-12-10T19:06:21.670Z"
   },
   {
    "duration": 6,
    "start_time": "2023-12-10T19:06:21.694Z"
   },
   {
    "duration": 8,
    "start_time": "2023-12-10T19:06:21.701Z"
   },
   {
    "duration": 60,
    "start_time": "2023-12-10T19:06:21.711Z"
   },
   {
    "duration": 27,
    "start_time": "2023-12-10T19:06:21.773Z"
   },
   {
    "duration": 9,
    "start_time": "2023-12-10T19:06:21.803Z"
   },
   {
    "duration": 95,
    "start_time": "2023-12-10T19:06:21.814Z"
   },
   {
    "duration": 319,
    "start_time": "2023-12-10T19:06:21.911Z"
   },
   {
    "duration": 108,
    "start_time": "2023-12-10T19:06:22.232Z"
   },
   {
    "duration": 51,
    "start_time": "2023-12-10T19:06:22.342Z"
   },
   {
    "duration": 70,
    "start_time": "2023-12-10T19:06:22.395Z"
   },
   {
    "duration": 7,
    "start_time": "2023-12-10T19:06:22.467Z"
   },
   {
    "duration": 14,
    "start_time": "2023-12-10T19:06:22.476Z"
   },
   {
    "duration": 10,
    "start_time": "2023-12-10T19:06:22.492Z"
   },
   {
    "duration": 6,
    "start_time": "2023-12-10T19:06:22.503Z"
   },
   {
    "duration": 44,
    "start_time": "2023-12-10T19:06:22.511Z"
   },
   {
    "duration": 7,
    "start_time": "2023-12-10T19:06:22.556Z"
   },
   {
    "duration": 31,
    "start_time": "2023-12-10T19:06:22.564Z"
   },
   {
    "duration": 24,
    "start_time": "2023-12-10T19:06:22.599Z"
   },
   {
    "duration": 165,
    "start_time": "2023-12-10T19:06:22.624Z"
   },
   {
    "duration": 18,
    "start_time": "2023-12-10T19:06:22.791Z"
   },
   {
    "duration": 8,
    "start_time": "2023-12-10T19:06:22.811Z"
   },
   {
    "duration": 4,
    "start_time": "2023-12-10T19:06:22.821Z"
   },
   {
    "duration": 34,
    "start_time": "2023-12-10T19:06:22.827Z"
   },
   {
    "duration": 6,
    "start_time": "2023-12-10T19:06:22.863Z"
   },
   {
    "duration": 27,
    "start_time": "2023-12-10T19:06:22.870Z"
   },
   {
    "duration": 99,
    "start_time": "2023-12-10T19:06:22.899Z"
   },
   {
    "duration": 9,
    "start_time": "2023-12-10T19:06:23.000Z"
   },
   {
    "duration": 16,
    "start_time": "2023-12-10T19:06:23.010Z"
   },
   {
    "duration": 6,
    "start_time": "2023-12-10T19:06:23.028Z"
   },
   {
    "duration": 21,
    "start_time": "2023-12-10T19:06:23.054Z"
   },
   {
    "duration": 21,
    "start_time": "2023-12-10T19:06:23.077Z"
   },
   {
    "duration": 440,
    "start_time": "2023-12-10T19:06:23.099Z"
   },
   {
    "duration": 12,
    "start_time": "2023-12-10T19:06:23.541Z"
   },
   {
    "duration": 484,
    "start_time": "2023-12-10T19:06:23.554Z"
   },
   {
    "duration": 21,
    "start_time": "2023-12-10T19:06:24.040Z"
   },
   {
    "duration": 535,
    "start_time": "2023-12-10T19:06:24.063Z"
   },
   {
    "duration": 58,
    "start_time": "2023-12-10T19:06:24.600Z"
   },
   {
    "duration": 8,
    "start_time": "2023-12-10T19:06:24.660Z"
   },
   {
    "duration": 25,
    "start_time": "2023-12-10T19:06:24.670Z"
   },
   {
    "duration": 5,
    "start_time": "2023-12-10T19:06:24.696Z"
   },
   {
    "duration": 50,
    "start_time": "2023-12-10T19:06:24.702Z"
   },
   {
    "duration": 27,
    "start_time": "2023-12-10T19:08:02.004Z"
   },
   {
    "duration": 7,
    "start_time": "2023-12-10T19:09:15.618Z"
   },
   {
    "duration": 691,
    "start_time": "2023-12-10T19:10:46.613Z"
   },
   {
    "duration": 626,
    "start_time": "2023-12-10T19:10:47.306Z"
   },
   {
    "duration": 13,
    "start_time": "2023-12-10T19:10:47.934Z"
   },
   {
    "duration": 11,
    "start_time": "2023-12-10T19:10:47.949Z"
   },
   {
    "duration": 8,
    "start_time": "2023-12-10T19:10:47.961Z"
   },
   {
    "duration": 14,
    "start_time": "2023-12-10T19:10:47.971Z"
   },
   {
    "duration": 13,
    "start_time": "2023-12-10T19:10:47.987Z"
   },
   {
    "duration": 18,
    "start_time": "2023-12-10T19:10:48.001Z"
   },
   {
    "duration": 9,
    "start_time": "2023-12-10T19:10:48.021Z"
   },
   {
    "duration": 21,
    "start_time": "2023-12-10T19:10:48.051Z"
   },
   {
    "duration": 12,
    "start_time": "2023-12-10T19:10:48.074Z"
   },
   {
    "duration": 35,
    "start_time": "2023-12-10T19:10:48.088Z"
   },
   {
    "duration": 18,
    "start_time": "2023-12-10T19:10:48.124Z"
   },
   {
    "duration": 37,
    "start_time": "2023-12-10T19:10:48.144Z"
   },
   {
    "duration": 8,
    "start_time": "2023-12-10T19:10:48.182Z"
   },
   {
    "duration": 82,
    "start_time": "2023-12-10T19:10:48.192Z"
   },
   {
    "duration": 303,
    "start_time": "2023-12-10T19:10:48.275Z"
   },
   {
    "duration": 102,
    "start_time": "2023-12-10T19:10:48.579Z"
   },
   {
    "duration": 44,
    "start_time": "2023-12-10T19:10:48.682Z"
   },
   {
    "duration": 77,
    "start_time": "2023-12-10T19:10:48.728Z"
   },
   {
    "duration": 7,
    "start_time": "2023-12-10T19:10:48.807Z"
   },
   {
    "duration": 37,
    "start_time": "2023-12-10T19:10:48.816Z"
   },
   {
    "duration": 20,
    "start_time": "2023-12-10T19:10:48.854Z"
   },
   {
    "duration": 7,
    "start_time": "2023-12-10T19:10:48.875Z"
   },
   {
    "duration": 8,
    "start_time": "2023-12-10T19:10:48.883Z"
   },
   {
    "duration": 8,
    "start_time": "2023-12-10T19:10:48.892Z"
   },
   {
    "duration": 57,
    "start_time": "2023-12-10T19:10:48.901Z"
   },
   {
    "duration": 26,
    "start_time": "2023-12-10T19:10:48.962Z"
   },
   {
    "duration": 145,
    "start_time": "2023-12-10T19:10:48.990Z"
   },
   {
    "duration": 35,
    "start_time": "2023-12-10T19:10:49.138Z"
   },
   {
    "duration": 14,
    "start_time": "2023-12-10T19:10:49.175Z"
   },
   {
    "duration": 6,
    "start_time": "2023-12-10T19:10:49.191Z"
   },
   {
    "duration": 27,
    "start_time": "2023-12-10T19:10:49.199Z"
   },
   {
    "duration": 24,
    "start_time": "2023-12-10T19:10:49.228Z"
   },
   {
    "duration": 14,
    "start_time": "2023-12-10T19:10:49.254Z"
   },
   {
    "duration": 102,
    "start_time": "2023-12-10T19:10:49.270Z"
   },
   {
    "duration": 8,
    "start_time": "2023-12-10T19:10:49.373Z"
   },
   {
    "duration": 4,
    "start_time": "2023-12-10T19:10:49.383Z"
   },
   {
    "duration": 12,
    "start_time": "2023-12-10T19:10:49.388Z"
   },
   {
    "duration": 30,
    "start_time": "2023-12-10T19:10:49.402Z"
   },
   {
    "duration": 33,
    "start_time": "2023-12-10T19:10:49.434Z"
   },
   {
    "duration": 419,
    "start_time": "2023-12-10T19:10:49.468Z"
   },
   {
    "duration": 7,
    "start_time": "2023-12-10T19:10:49.888Z"
   },
   {
    "duration": 527,
    "start_time": "2023-12-10T19:10:49.897Z"
   },
   {
    "duration": 11,
    "start_time": "2023-12-10T19:10:50.425Z"
   },
   {
    "duration": 500,
    "start_time": "2023-12-10T19:10:50.452Z"
   },
   {
    "duration": 29,
    "start_time": "2023-12-10T19:10:50.953Z"
   },
   {
    "duration": 8,
    "start_time": "2023-12-10T19:10:50.983Z"
   },
   {
    "duration": 63,
    "start_time": "2023-12-10T19:10:50.992Z"
   },
   {
    "duration": 5,
    "start_time": "2023-12-10T19:10:51.057Z"
   },
   {
    "duration": 27,
    "start_time": "2023-12-10T19:10:51.064Z"
   },
   {
    "duration": 7,
    "start_time": "2023-12-10T19:10:51.093Z"
   },
   {
    "duration": 26,
    "start_time": "2023-12-10T19:14:38.361Z"
   },
   {
    "duration": 1191,
    "start_time": "2023-12-10T19:48:11.521Z"
   },
   {
    "duration": 587,
    "start_time": "2023-12-10T19:48:12.714Z"
   },
   {
    "duration": 11,
    "start_time": "2023-12-10T19:48:13.302Z"
   },
   {
    "duration": 9,
    "start_time": "2023-12-10T19:48:13.315Z"
   },
   {
    "duration": 11,
    "start_time": "2023-12-10T19:48:13.325Z"
   },
   {
    "duration": 5,
    "start_time": "2023-12-10T19:48:13.337Z"
   },
   {
    "duration": 15,
    "start_time": "2023-12-10T19:48:13.344Z"
   },
   {
    "duration": 8,
    "start_time": "2023-12-10T19:48:13.361Z"
   },
   {
    "duration": 15,
    "start_time": "2023-12-10T19:48:13.371Z"
   },
   {
    "duration": 21,
    "start_time": "2023-12-10T19:48:13.388Z"
   },
   {
    "duration": 7,
    "start_time": "2023-12-10T19:48:13.411Z"
   },
   {
    "duration": 37,
    "start_time": "2023-12-10T19:48:13.420Z"
   },
   {
    "duration": 15,
    "start_time": "2023-12-10T19:48:13.459Z"
   },
   {
    "duration": 26,
    "start_time": "2023-12-10T19:48:13.476Z"
   },
   {
    "duration": 8,
    "start_time": "2023-12-10T19:48:13.503Z"
   },
   {
    "duration": 99,
    "start_time": "2023-12-10T19:48:13.512Z"
   },
   {
    "duration": 316,
    "start_time": "2023-12-10T19:48:13.614Z"
   },
   {
    "duration": 100,
    "start_time": "2023-12-10T19:48:13.932Z"
   },
   {
    "duration": 50,
    "start_time": "2023-12-10T19:48:14.033Z"
   },
   {
    "duration": 68,
    "start_time": "2023-12-10T19:48:14.085Z"
   },
   {
    "duration": 7,
    "start_time": "2023-12-10T19:48:14.154Z"
   },
   {
    "duration": 12,
    "start_time": "2023-12-10T19:48:14.162Z"
   },
   {
    "duration": 10,
    "start_time": "2023-12-10T19:48:14.176Z"
   },
   {
    "duration": 7,
    "start_time": "2023-12-10T19:48:14.188Z"
   },
   {
    "duration": 9,
    "start_time": "2023-12-10T19:48:14.197Z"
   },
   {
    "duration": 5,
    "start_time": "2023-12-10T19:48:14.209Z"
   },
   {
    "duration": 31,
    "start_time": "2023-12-10T19:48:14.252Z"
   },
   {
    "duration": 31,
    "start_time": "2023-12-10T19:48:14.286Z"
   },
   {
    "duration": 151,
    "start_time": "2023-12-10T19:48:14.319Z"
   },
   {
    "duration": 16,
    "start_time": "2023-12-10T19:48:14.472Z"
   },
   {
    "duration": 9,
    "start_time": "2023-12-10T19:48:14.490Z"
   },
   {
    "duration": 6,
    "start_time": "2023-12-10T19:48:14.500Z"
   },
   {
    "duration": 45,
    "start_time": "2023-12-10T19:48:14.507Z"
   },
   {
    "duration": 7,
    "start_time": "2023-12-10T19:48:14.554Z"
   },
   {
    "duration": 15,
    "start_time": "2023-12-10T19:48:14.563Z"
   },
   {
    "duration": 106,
    "start_time": "2023-12-10T19:48:14.580Z"
   },
   {
    "duration": 11,
    "start_time": "2023-12-10T19:48:14.687Z"
   },
   {
    "duration": 8,
    "start_time": "2023-12-10T19:48:14.700Z"
   },
   {
    "duration": 12,
    "start_time": "2023-12-10T19:48:14.710Z"
   },
   {
    "duration": 21,
    "start_time": "2023-12-10T19:48:14.723Z"
   },
   {
    "duration": 19,
    "start_time": "2023-12-10T19:48:14.752Z"
   },
   {
    "duration": 430,
    "start_time": "2023-12-10T19:48:14.773Z"
   },
   {
    "duration": 7,
    "start_time": "2023-12-10T19:48:15.204Z"
   },
   {
    "duration": 559,
    "start_time": "2023-12-10T19:48:15.213Z"
   },
   {
    "duration": 10,
    "start_time": "2023-12-10T19:48:15.773Z"
   },
   {
    "duration": 467,
    "start_time": "2023-12-10T19:48:15.785Z"
   },
   {
    "duration": 30,
    "start_time": "2023-12-10T19:48:16.253Z"
   },
   {
    "duration": 483,
    "start_time": "2023-12-10T19:48:46.793Z"
   },
   {
    "duration": 1191,
    "start_time": "2023-12-10T20:03:46.322Z"
   },
   {
    "duration": 591,
    "start_time": "2023-12-10T20:03:47.515Z"
   },
   {
    "duration": 17,
    "start_time": "2023-12-10T20:03:48.108Z"
   },
   {
    "duration": 9,
    "start_time": "2023-12-10T20:03:48.127Z"
   },
   {
    "duration": 9,
    "start_time": "2023-12-10T20:03:48.137Z"
   },
   {
    "duration": 8,
    "start_time": "2023-12-10T20:03:48.147Z"
   },
   {
    "duration": 35,
    "start_time": "2023-12-10T20:03:48.156Z"
   },
   {
    "duration": 9,
    "start_time": "2023-12-10T20:03:48.193Z"
   },
   {
    "duration": 20,
    "start_time": "2023-12-10T20:03:48.204Z"
   },
   {
    "duration": 34,
    "start_time": "2023-12-10T20:03:48.226Z"
   },
   {
    "duration": 8,
    "start_time": "2023-12-10T20:03:48.261Z"
   },
   {
    "duration": 11,
    "start_time": "2023-12-10T20:03:48.270Z"
   },
   {
    "duration": 16,
    "start_time": "2023-12-10T20:03:48.282Z"
   },
   {
    "duration": 34,
    "start_time": "2023-12-10T20:03:48.299Z"
   },
   {
    "duration": 19,
    "start_time": "2023-12-10T20:03:48.334Z"
   },
   {
    "duration": 67,
    "start_time": "2023-12-10T20:03:48.355Z"
   },
   {
    "duration": 286,
    "start_time": "2023-12-10T20:03:48.424Z"
   },
   {
    "duration": 106,
    "start_time": "2023-12-10T20:03:48.711Z"
   },
   {
    "duration": 56,
    "start_time": "2023-12-10T20:03:48.818Z"
   },
   {
    "duration": 59,
    "start_time": "2023-12-10T20:03:48.876Z"
   },
   {
    "duration": 7,
    "start_time": "2023-12-10T20:03:48.936Z"
   },
   {
    "duration": 28,
    "start_time": "2023-12-10T20:03:48.951Z"
   },
   {
    "duration": 62,
    "start_time": "2023-12-10T20:03:48.980Z"
   },
   {
    "duration": 37,
    "start_time": "2023-12-10T20:03:49.043Z"
   },
   {
    "duration": 30,
    "start_time": "2023-12-10T20:03:49.082Z"
   },
   {
    "duration": 17,
    "start_time": "2023-12-10T20:03:49.113Z"
   },
   {
    "duration": 33,
    "start_time": "2023-12-10T20:03:49.132Z"
   },
   {
    "duration": 31,
    "start_time": "2023-12-10T20:03:49.169Z"
   },
   {
    "duration": 136,
    "start_time": "2023-12-10T20:03:49.202Z"
   },
   {
    "duration": 24,
    "start_time": "2023-12-10T20:03:49.339Z"
   },
   {
    "duration": 9,
    "start_time": "2023-12-10T20:03:49.364Z"
   },
   {
    "duration": 5,
    "start_time": "2023-12-10T20:03:49.374Z"
   },
   {
    "duration": 15,
    "start_time": "2023-12-10T20:03:49.380Z"
   },
   {
    "duration": 5,
    "start_time": "2023-12-10T20:03:49.397Z"
   },
   {
    "duration": 11,
    "start_time": "2023-12-10T20:03:49.404Z"
   },
   {
    "duration": 102,
    "start_time": "2023-12-10T20:03:49.417Z"
   },
   {
    "duration": 8,
    "start_time": "2023-12-10T20:03:49.520Z"
   },
   {
    "duration": 23,
    "start_time": "2023-12-10T20:03:49.530Z"
   },
   {
    "duration": 3,
    "start_time": "2023-12-10T20:03:49.555Z"
   },
   {
    "duration": 31,
    "start_time": "2023-12-10T20:03:49.560Z"
   },
   {
    "duration": 21,
    "start_time": "2023-12-10T20:03:49.592Z"
   },
   {
    "duration": 399,
    "start_time": "2023-12-10T20:03:49.615Z"
   },
   {
    "duration": 6,
    "start_time": "2023-12-10T20:03:50.015Z"
   },
   {
    "duration": 598,
    "start_time": "2023-12-10T20:03:50.022Z"
   },
   {
    "duration": 11,
    "start_time": "2023-12-10T20:03:50.622Z"
   },
   {
    "duration": 450,
    "start_time": "2023-12-10T20:03:50.634Z"
   },
   {
    "duration": 183,
    "start_time": "2023-12-10T20:03:51.085Z"
   },
   {
    "duration": 1180,
    "start_time": "2023-12-10T20:04:35.219Z"
   },
   {
    "duration": 580,
    "start_time": "2023-12-10T20:04:36.401Z"
   },
   {
    "duration": 13,
    "start_time": "2023-12-10T20:04:36.982Z"
   },
   {
    "duration": 11,
    "start_time": "2023-12-10T20:04:36.996Z"
   },
   {
    "duration": 34,
    "start_time": "2023-12-10T20:04:37.009Z"
   },
   {
    "duration": 14,
    "start_time": "2023-12-10T20:04:37.044Z"
   },
   {
    "duration": 21,
    "start_time": "2023-12-10T20:04:37.059Z"
   },
   {
    "duration": 17,
    "start_time": "2023-12-10T20:04:37.082Z"
   },
   {
    "duration": 57,
    "start_time": "2023-12-10T20:04:37.100Z"
   },
   {
    "duration": 37,
    "start_time": "2023-12-10T20:04:37.158Z"
   },
   {
    "duration": 7,
    "start_time": "2023-12-10T20:04:37.196Z"
   },
   {
    "duration": 41,
    "start_time": "2023-12-10T20:04:37.204Z"
   },
   {
    "duration": 23,
    "start_time": "2023-12-10T20:04:37.246Z"
   },
   {
    "duration": 42,
    "start_time": "2023-12-10T20:04:37.272Z"
   },
   {
    "duration": 12,
    "start_time": "2023-12-10T20:04:37.316Z"
   },
   {
    "duration": 97,
    "start_time": "2023-12-10T20:04:37.329Z"
   },
   {
    "duration": 270,
    "start_time": "2023-12-10T20:04:37.428Z"
   },
   {
    "duration": 101,
    "start_time": "2023-12-10T20:04:37.699Z"
   },
   {
    "duration": 51,
    "start_time": "2023-12-10T20:04:37.801Z"
   },
   {
    "duration": 51,
    "start_time": "2023-12-10T20:04:37.854Z"
   },
   {
    "duration": 6,
    "start_time": "2023-12-10T20:04:37.907Z"
   },
   {
    "duration": 11,
    "start_time": "2023-12-10T20:04:37.915Z"
   },
   {
    "duration": 28,
    "start_time": "2023-12-10T20:04:37.928Z"
   },
   {
    "duration": 6,
    "start_time": "2023-12-10T20:04:37.958Z"
   },
   {
    "duration": 7,
    "start_time": "2023-12-10T20:04:37.966Z"
   },
   {
    "duration": 5,
    "start_time": "2023-12-10T20:04:37.975Z"
   },
   {
    "duration": 44,
    "start_time": "2023-12-10T20:04:37.981Z"
   },
   {
    "duration": 49,
    "start_time": "2023-12-10T20:04:38.026Z"
   },
   {
    "duration": 130,
    "start_time": "2023-12-10T20:04:38.077Z"
   },
   {
    "duration": 17,
    "start_time": "2023-12-10T20:04:38.208Z"
   },
   {
    "duration": 9,
    "start_time": "2023-12-10T20:04:38.226Z"
   },
   {
    "duration": 16,
    "start_time": "2023-12-10T20:04:38.237Z"
   },
   {
    "duration": 14,
    "start_time": "2023-12-10T20:04:38.255Z"
   },
   {
    "duration": 11,
    "start_time": "2023-12-10T20:04:38.271Z"
   },
   {
    "duration": 10,
    "start_time": "2023-12-10T20:04:38.284Z"
   },
   {
    "duration": 94,
    "start_time": "2023-12-10T20:04:38.295Z"
   },
   {
    "duration": 8,
    "start_time": "2023-12-10T20:04:38.391Z"
   },
   {
    "duration": 3,
    "start_time": "2023-12-10T20:04:38.401Z"
   },
   {
    "duration": 4,
    "start_time": "2023-12-10T20:04:38.406Z"
   },
   {
    "duration": 41,
    "start_time": "2023-12-10T20:04:38.411Z"
   },
   {
    "duration": 17,
    "start_time": "2023-12-10T20:04:38.456Z"
   },
   {
    "duration": 354,
    "start_time": "2023-12-10T20:04:38.475Z"
   },
   {
    "duration": 6,
    "start_time": "2023-12-10T20:04:38.831Z"
   },
   {
    "duration": 589,
    "start_time": "2023-12-10T20:04:38.838Z"
   },
   {
    "duration": 10,
    "start_time": "2023-12-10T20:04:39.429Z"
   },
   {
    "duration": 447,
    "start_time": "2023-12-10T20:04:39.452Z"
   },
   {
    "duration": 206,
    "start_time": "2023-12-10T20:04:39.901Z"
   },
   {
    "duration": 1185,
    "start_time": "2023-12-10T20:05:17.833Z"
   },
   {
    "duration": 616,
    "start_time": "2023-12-10T20:05:19.020Z"
   },
   {
    "duration": 12,
    "start_time": "2023-12-10T20:05:19.638Z"
   },
   {
    "duration": 9,
    "start_time": "2023-12-10T20:05:19.652Z"
   },
   {
    "duration": 27,
    "start_time": "2023-12-10T20:05:19.663Z"
   },
   {
    "duration": 9,
    "start_time": "2023-12-10T20:05:19.692Z"
   },
   {
    "duration": 12,
    "start_time": "2023-12-10T20:05:19.703Z"
   },
   {
    "duration": 11,
    "start_time": "2023-12-10T20:05:19.716Z"
   },
   {
    "duration": 12,
    "start_time": "2023-12-10T20:05:19.729Z"
   },
   {
    "duration": 29,
    "start_time": "2023-12-10T20:05:19.744Z"
   },
   {
    "duration": 7,
    "start_time": "2023-12-10T20:05:19.775Z"
   },
   {
    "duration": 7,
    "start_time": "2023-12-10T20:05:19.784Z"
   },
   {
    "duration": 24,
    "start_time": "2023-12-10T20:05:19.793Z"
   },
   {
    "duration": 41,
    "start_time": "2023-12-10T20:05:19.818Z"
   },
   {
    "duration": 8,
    "start_time": "2023-12-10T20:05:19.861Z"
   },
   {
    "duration": 67,
    "start_time": "2023-12-10T20:05:19.871Z"
   },
   {
    "duration": 270,
    "start_time": "2023-12-10T20:05:19.952Z"
   },
   {
    "duration": 99,
    "start_time": "2023-12-10T20:05:20.223Z"
   },
   {
    "duration": 53,
    "start_time": "2023-12-10T20:05:20.323Z"
   },
   {
    "duration": 55,
    "start_time": "2023-12-10T20:05:20.377Z"
   },
   {
    "duration": 19,
    "start_time": "2023-12-10T20:05:20.433Z"
   },
   {
    "duration": 11,
    "start_time": "2023-12-10T20:05:20.453Z"
   },
   {
    "duration": 17,
    "start_time": "2023-12-10T20:05:20.466Z"
   },
   {
    "duration": 12,
    "start_time": "2023-12-10T20:05:20.484Z"
   },
   {
    "duration": 18,
    "start_time": "2023-12-10T20:05:20.497Z"
   },
   {
    "duration": 5,
    "start_time": "2023-12-10T20:05:20.516Z"
   },
   {
    "duration": 46,
    "start_time": "2023-12-10T20:05:20.523Z"
   },
   {
    "duration": 25,
    "start_time": "2023-12-10T20:05:20.572Z"
   },
   {
    "duration": 134,
    "start_time": "2023-12-10T20:05:20.599Z"
   },
   {
    "duration": 25,
    "start_time": "2023-12-10T20:05:20.734Z"
   },
   {
    "duration": 9,
    "start_time": "2023-12-10T20:05:20.760Z"
   },
   {
    "duration": 5,
    "start_time": "2023-12-10T20:05:20.771Z"
   },
   {
    "duration": 25,
    "start_time": "2023-12-10T20:05:20.777Z"
   },
   {
    "duration": 6,
    "start_time": "2023-12-10T20:05:20.803Z"
   },
   {
    "duration": 17,
    "start_time": "2023-12-10T20:05:20.810Z"
   },
   {
    "duration": 91,
    "start_time": "2023-12-10T20:05:20.828Z"
   },
   {
    "duration": 8,
    "start_time": "2023-12-10T20:05:20.920Z"
   },
   {
    "duration": 4,
    "start_time": "2023-12-10T20:05:20.930Z"
   },
   {
    "duration": 4,
    "start_time": "2023-12-10T20:05:20.952Z"
   },
   {
    "duration": 22,
    "start_time": "2023-12-10T20:05:20.957Z"
   },
   {
    "duration": 27,
    "start_time": "2023-12-10T20:05:20.980Z"
   },
   {
    "duration": 389,
    "start_time": "2023-12-10T20:05:21.009Z"
   },
   {
    "duration": 6,
    "start_time": "2023-12-10T20:05:21.400Z"
   },
   {
    "duration": 563,
    "start_time": "2023-12-10T20:05:21.407Z"
   },
   {
    "duration": 11,
    "start_time": "2023-12-10T20:05:21.971Z"
   },
   {
    "duration": 457,
    "start_time": "2023-12-10T20:05:21.984Z"
   },
   {
    "duration": 40,
    "start_time": "2023-12-10T20:05:22.443Z"
   },
   {
    "duration": 1111,
    "start_time": "2023-12-10T20:06:01.198Z"
   },
   {
    "duration": 586,
    "start_time": "2023-12-10T20:06:02.311Z"
   },
   {
    "duration": 14,
    "start_time": "2023-12-10T20:06:02.898Z"
   },
   {
    "duration": 14,
    "start_time": "2023-12-10T20:06:02.915Z"
   },
   {
    "duration": 6,
    "start_time": "2023-12-10T20:06:02.931Z"
   },
   {
    "duration": 17,
    "start_time": "2023-12-10T20:06:02.939Z"
   },
   {
    "duration": 15,
    "start_time": "2023-12-10T20:06:02.959Z"
   },
   {
    "duration": 19,
    "start_time": "2023-12-10T20:06:02.975Z"
   },
   {
    "duration": 20,
    "start_time": "2023-12-10T20:06:02.995Z"
   },
   {
    "duration": 22,
    "start_time": "2023-12-10T20:06:03.017Z"
   },
   {
    "duration": 7,
    "start_time": "2023-12-10T20:06:03.040Z"
   },
   {
    "duration": 29,
    "start_time": "2023-12-10T20:06:03.048Z"
   },
   {
    "duration": 25,
    "start_time": "2023-12-10T20:06:03.078Z"
   },
   {
    "duration": 58,
    "start_time": "2023-12-10T20:06:03.104Z"
   },
   {
    "duration": 9,
    "start_time": "2023-12-10T20:06:03.164Z"
   },
   {
    "duration": 68,
    "start_time": "2023-12-10T20:06:03.175Z"
   },
   {
    "duration": 276,
    "start_time": "2023-12-10T20:06:03.251Z"
   },
   {
    "duration": 95,
    "start_time": "2023-12-10T20:06:03.529Z"
   },
   {
    "duration": 52,
    "start_time": "2023-12-10T20:06:03.626Z"
   },
   {
    "duration": 59,
    "start_time": "2023-12-10T20:06:03.680Z"
   },
   {
    "duration": 14,
    "start_time": "2023-12-10T20:06:03.741Z"
   },
   {
    "duration": 14,
    "start_time": "2023-12-10T20:06:03.757Z"
   },
   {
    "duration": 13,
    "start_time": "2023-12-10T20:06:03.773Z"
   },
   {
    "duration": 6,
    "start_time": "2023-12-10T20:06:03.787Z"
   },
   {
    "duration": 6,
    "start_time": "2023-12-10T20:06:03.795Z"
   },
   {
    "duration": 5,
    "start_time": "2023-12-10T20:06:03.802Z"
   },
   {
    "duration": 59,
    "start_time": "2023-12-10T20:06:03.808Z"
   },
   {
    "duration": 25,
    "start_time": "2023-12-10T20:06:03.870Z"
   },
   {
    "duration": 131,
    "start_time": "2023-12-10T20:06:03.897Z"
   },
   {
    "duration": 24,
    "start_time": "2023-12-10T20:06:04.030Z"
   },
   {
    "duration": 9,
    "start_time": "2023-12-10T20:06:04.055Z"
   },
   {
    "duration": 4,
    "start_time": "2023-12-10T20:06:04.065Z"
   },
   {
    "duration": 14,
    "start_time": "2023-12-10T20:06:04.071Z"
   },
   {
    "duration": 5,
    "start_time": "2023-12-10T20:06:04.087Z"
   },
   {
    "duration": 11,
    "start_time": "2023-12-10T20:06:04.093Z"
   },
   {
    "duration": 116,
    "start_time": "2023-12-10T20:06:04.105Z"
   },
   {
    "duration": 8,
    "start_time": "2023-12-10T20:06:04.222Z"
   },
   {
    "duration": 21,
    "start_time": "2023-12-10T20:06:04.231Z"
   },
   {
    "duration": 3,
    "start_time": "2023-12-10T20:06:04.254Z"
   },
   {
    "duration": 20,
    "start_time": "2023-12-10T20:06:04.258Z"
   },
   {
    "duration": 22,
    "start_time": "2023-12-10T20:06:04.279Z"
   },
   {
    "duration": 383,
    "start_time": "2023-12-10T20:06:04.302Z"
   },
   {
    "duration": 6,
    "start_time": "2023-12-10T20:06:04.687Z"
   },
   {
    "duration": 597,
    "start_time": "2023-12-10T20:06:04.695Z"
   },
   {
    "duration": 11,
    "start_time": "2023-12-10T20:06:05.294Z"
   },
   {
    "duration": 450,
    "start_time": "2023-12-10T20:06:05.306Z"
   },
   {
    "duration": 36,
    "start_time": "2023-12-10T20:06:05.758Z"
   },
   {
    "duration": 6,
    "start_time": "2023-12-10T20:14:31.471Z"
   },
   {
    "duration": 1272,
    "start_time": "2023-12-10T20:14:55.619Z"
   },
   {
    "duration": 13,
    "start_time": "2023-12-10T20:15:39.948Z"
   },
   {
    "duration": 1126,
    "start_time": "2023-12-10T20:16:06.086Z"
   },
   {
    "duration": 624,
    "start_time": "2023-12-10T20:16:07.214Z"
   },
   {
    "duration": 11,
    "start_time": "2023-12-10T20:16:07.840Z"
   },
   {
    "duration": 9,
    "start_time": "2023-12-10T20:16:07.853Z"
   },
   {
    "duration": 8,
    "start_time": "2023-12-10T20:16:07.864Z"
   },
   {
    "duration": 3,
    "start_time": "2023-12-10T20:16:07.874Z"
   },
   {
    "duration": 16,
    "start_time": "2023-12-10T20:16:07.879Z"
   },
   {
    "duration": 8,
    "start_time": "2023-12-10T20:16:07.897Z"
   },
   {
    "duration": 12,
    "start_time": "2023-12-10T20:16:07.906Z"
   },
   {
    "duration": 39,
    "start_time": "2023-12-10T20:16:07.920Z"
   },
   {
    "duration": 7,
    "start_time": "2023-12-10T20:16:07.960Z"
   },
   {
    "duration": 6,
    "start_time": "2023-12-10T20:16:07.968Z"
   },
   {
    "duration": 16,
    "start_time": "2023-12-10T20:16:07.975Z"
   },
   {
    "duration": 28,
    "start_time": "2023-12-10T20:16:07.993Z"
   },
   {
    "duration": 31,
    "start_time": "2023-12-10T20:16:08.022Z"
   },
   {
    "duration": 67,
    "start_time": "2023-12-10T20:16:08.055Z"
   },
   {
    "duration": 278,
    "start_time": "2023-12-10T20:16:08.124Z"
   },
   {
    "duration": 104,
    "start_time": "2023-12-10T20:16:08.403Z"
   },
   {
    "duration": 46,
    "start_time": "2023-12-10T20:16:08.509Z"
   },
   {
    "duration": 58,
    "start_time": "2023-12-10T20:16:08.557Z"
   },
   {
    "duration": 7,
    "start_time": "2023-12-10T20:16:08.617Z"
   },
   {
    "duration": 27,
    "start_time": "2023-12-10T20:16:08.625Z"
   },
   {
    "duration": 9,
    "start_time": "2023-12-10T20:16:08.653Z"
   },
   {
    "duration": 6,
    "start_time": "2023-12-10T20:16:08.663Z"
   },
   {
    "duration": 16,
    "start_time": "2023-12-10T20:16:08.670Z"
   },
   {
    "duration": 5,
    "start_time": "2023-12-10T20:16:08.688Z"
   },
   {
    "duration": 34,
    "start_time": "2023-12-10T20:16:08.694Z"
   },
   {
    "duration": 27,
    "start_time": "2023-12-10T20:16:08.752Z"
   },
   {
    "duration": 131,
    "start_time": "2023-12-10T20:16:08.781Z"
   },
   {
    "duration": 17,
    "start_time": "2023-12-10T20:16:08.914Z"
   },
   {
    "duration": 20,
    "start_time": "2023-12-10T20:16:08.933Z"
   },
   {
    "duration": 5,
    "start_time": "2023-12-10T20:16:08.954Z"
   },
   {
    "duration": 14,
    "start_time": "2023-12-10T20:16:08.960Z"
   },
   {
    "duration": 6,
    "start_time": "2023-12-10T20:16:08.975Z"
   },
   {
    "duration": 11,
    "start_time": "2023-12-10T20:16:08.982Z"
   },
   {
    "duration": 98,
    "start_time": "2023-12-10T20:16:08.994Z"
   },
   {
    "duration": 7,
    "start_time": "2023-12-10T20:16:09.094Z"
   },
   {
    "duration": 4,
    "start_time": "2023-12-10T20:16:09.102Z"
   },
   {
    "duration": 5,
    "start_time": "2023-12-10T20:16:09.107Z"
   },
   {
    "duration": 19,
    "start_time": "2023-12-10T20:16:09.113Z"
   },
   {
    "duration": 34,
    "start_time": "2023-12-10T20:16:09.134Z"
   },
   {
    "duration": 363,
    "start_time": "2023-12-10T20:16:09.169Z"
   },
   {
    "duration": 7,
    "start_time": "2023-12-10T20:16:09.533Z"
   },
   {
    "duration": 569,
    "start_time": "2023-12-10T20:16:09.541Z"
   },
   {
    "duration": 11,
    "start_time": "2023-12-10T20:16:10.112Z"
   },
   {
    "duration": 452,
    "start_time": "2023-12-10T20:16:10.124Z"
   },
   {
    "duration": 37,
    "start_time": "2023-12-10T20:16:10.577Z"
   },
   {
    "duration": 38,
    "start_time": "2023-12-10T20:16:10.615Z"
   },
   {
    "duration": 153,
    "start_time": "2023-12-10T20:16:10.655Z"
   },
   {
    "duration": 1373,
    "start_time": "2023-12-10T20:17:18.390Z"
   },
   {
    "duration": 985,
    "start_time": "2023-12-10T20:17:19.765Z"
   },
   {
    "duration": 11,
    "start_time": "2023-12-10T20:17:20.751Z"
   },
   {
    "duration": 26,
    "start_time": "2023-12-10T20:17:20.764Z"
   },
   {
    "duration": 14,
    "start_time": "2023-12-10T20:17:20.791Z"
   },
   {
    "duration": 15,
    "start_time": "2023-12-10T20:17:20.806Z"
   },
   {
    "duration": 16,
    "start_time": "2023-12-10T20:17:20.822Z"
   },
   {
    "duration": 8,
    "start_time": "2023-12-10T20:17:20.839Z"
   },
   {
    "duration": 26,
    "start_time": "2023-12-10T20:17:20.848Z"
   },
   {
    "duration": 26,
    "start_time": "2023-12-10T20:17:20.876Z"
   },
   {
    "duration": 6,
    "start_time": "2023-12-10T20:17:20.903Z"
   },
   {
    "duration": 17,
    "start_time": "2023-12-10T20:17:20.911Z"
   },
   {
    "duration": 15,
    "start_time": "2023-12-10T20:17:20.930Z"
   },
   {
    "duration": 51,
    "start_time": "2023-12-10T20:17:20.947Z"
   },
   {
    "duration": 8,
    "start_time": "2023-12-10T20:17:21.000Z"
   },
   {
    "duration": 68,
    "start_time": "2023-12-10T20:17:21.009Z"
   },
   {
    "duration": 273,
    "start_time": "2023-12-10T20:17:21.079Z"
   },
   {
    "duration": 101,
    "start_time": "2023-12-10T20:17:21.353Z"
   },
   {
    "duration": 41,
    "start_time": "2023-12-10T20:17:21.456Z"
   },
   {
    "duration": 67,
    "start_time": "2023-12-10T20:17:21.498Z"
   },
   {
    "duration": 7,
    "start_time": "2023-12-10T20:17:21.567Z"
   },
   {
    "duration": 27,
    "start_time": "2023-12-10T20:17:21.575Z"
   },
   {
    "duration": 25,
    "start_time": "2023-12-10T20:17:21.604Z"
   },
   {
    "duration": 18,
    "start_time": "2023-12-10T20:17:21.631Z"
   },
   {
    "duration": 29,
    "start_time": "2023-12-10T20:17:21.651Z"
   },
   {
    "duration": 14,
    "start_time": "2023-12-10T20:17:21.682Z"
   },
   {
    "duration": 28,
    "start_time": "2023-12-10T20:17:21.698Z"
   },
   {
    "duration": 24,
    "start_time": "2023-12-10T20:17:21.729Z"
   },
   {
    "duration": 126,
    "start_time": "2023-12-10T20:17:21.755Z"
   },
   {
    "duration": 16,
    "start_time": "2023-12-10T20:17:21.883Z"
   },
   {
    "duration": 26,
    "start_time": "2023-12-10T20:17:21.900Z"
   },
   {
    "duration": 30,
    "start_time": "2023-12-10T20:17:21.928Z"
   },
   {
    "duration": 40,
    "start_time": "2023-12-10T20:17:21.960Z"
   },
   {
    "duration": 22,
    "start_time": "2023-12-10T20:17:22.002Z"
   },
   {
    "duration": 27,
    "start_time": "2023-12-10T20:17:22.026Z"
   },
   {
    "duration": 68,
    "start_time": "2023-12-10T20:17:22.055Z"
   },
   {
    "duration": 8,
    "start_time": "2023-12-10T20:17:22.125Z"
   },
   {
    "duration": 20,
    "start_time": "2023-12-10T20:17:22.134Z"
   },
   {
    "duration": 45,
    "start_time": "2023-12-10T20:17:22.156Z"
   },
   {
    "duration": 22,
    "start_time": "2023-12-10T20:17:22.203Z"
   },
   {
    "duration": 41,
    "start_time": "2023-12-10T20:17:22.226Z"
   },
   {
    "duration": 370,
    "start_time": "2023-12-10T20:17:22.268Z"
   },
   {
    "duration": 8,
    "start_time": "2023-12-10T20:17:22.639Z"
   },
   {
    "duration": 603,
    "start_time": "2023-12-10T20:17:22.649Z"
   },
   {
    "duration": 12,
    "start_time": "2023-12-10T20:17:23.253Z"
   },
   {
    "duration": 464,
    "start_time": "2023-12-10T20:17:23.266Z"
   },
   {
    "duration": 52,
    "start_time": "2023-12-10T20:17:23.732Z"
   },
   {
    "duration": 6,
    "start_time": "2023-12-10T20:17:23.786Z"
   },
   {
    "duration": 38,
    "start_time": "2023-12-10T20:17:23.794Z"
   },
   {
    "duration": 1134,
    "start_time": "2023-12-10T20:20:23.466Z"
   },
   {
    "duration": 621,
    "start_time": "2023-12-10T20:20:24.603Z"
   },
   {
    "duration": 12,
    "start_time": "2023-12-10T20:20:25.225Z"
   },
   {
    "duration": 9,
    "start_time": "2023-12-10T20:20:25.239Z"
   },
   {
    "duration": 5,
    "start_time": "2023-12-10T20:20:25.249Z"
   },
   {
    "duration": 4,
    "start_time": "2023-12-10T20:20:25.256Z"
   },
   {
    "duration": 18,
    "start_time": "2023-12-10T20:20:25.262Z"
   },
   {
    "duration": 22,
    "start_time": "2023-12-10T20:20:25.281Z"
   },
   {
    "duration": 12,
    "start_time": "2023-12-10T20:20:25.304Z"
   },
   {
    "duration": 32,
    "start_time": "2023-12-10T20:20:25.319Z"
   },
   {
    "duration": 6,
    "start_time": "2023-12-10T20:20:25.353Z"
   },
   {
    "duration": 7,
    "start_time": "2023-12-10T20:20:25.361Z"
   },
   {
    "duration": 63,
    "start_time": "2023-12-10T20:20:25.369Z"
   },
   {
    "duration": 104,
    "start_time": "2023-12-10T20:20:25.433Z"
   },
   {
    "duration": 8,
    "start_time": "2023-12-10T20:20:25.538Z"
   },
   {
    "duration": 86,
    "start_time": "2023-12-10T20:20:25.547Z"
   },
   {
    "duration": 262,
    "start_time": "2023-12-10T20:20:25.635Z"
   },
   {
    "duration": 100,
    "start_time": "2023-12-10T20:20:25.899Z"
   },
   {
    "duration": 52,
    "start_time": "2023-12-10T20:20:26.000Z"
   },
   {
    "duration": 52,
    "start_time": "2023-12-10T20:20:26.054Z"
   },
   {
    "duration": 7,
    "start_time": "2023-12-10T20:20:26.107Z"
   },
   {
    "duration": 13,
    "start_time": "2023-12-10T20:20:26.115Z"
   },
   {
    "duration": 28,
    "start_time": "2023-12-10T20:20:26.129Z"
   },
   {
    "duration": 6,
    "start_time": "2023-12-10T20:20:26.158Z"
   },
   {
    "duration": 15,
    "start_time": "2023-12-10T20:20:26.165Z"
   },
   {
    "duration": 9,
    "start_time": "2023-12-10T20:20:26.181Z"
   },
   {
    "duration": 32,
    "start_time": "2023-12-10T20:20:26.191Z"
   },
   {
    "duration": 40,
    "start_time": "2023-12-10T20:20:26.226Z"
   },
   {
    "duration": 140,
    "start_time": "2023-12-10T20:20:26.267Z"
   },
   {
    "duration": 16,
    "start_time": "2023-12-10T20:20:26.409Z"
   },
   {
    "duration": 8,
    "start_time": "2023-12-10T20:20:26.427Z"
   },
   {
    "duration": 16,
    "start_time": "2023-12-10T20:20:26.437Z"
   },
   {
    "duration": 14,
    "start_time": "2023-12-10T20:20:26.455Z"
   },
   {
    "duration": 6,
    "start_time": "2023-12-10T20:20:26.471Z"
   },
   {
    "duration": 10,
    "start_time": "2023-12-10T20:20:26.479Z"
   },
   {
    "duration": 103,
    "start_time": "2023-12-10T20:20:26.490Z"
   },
   {
    "duration": 8,
    "start_time": "2023-12-10T20:20:26.595Z"
   },
   {
    "duration": 4,
    "start_time": "2023-12-10T20:20:26.605Z"
   },
   {
    "duration": 3,
    "start_time": "2023-12-10T20:20:26.611Z"
   },
   {
    "duration": 43,
    "start_time": "2023-12-10T20:20:26.615Z"
   },
   {
    "duration": 17,
    "start_time": "2023-12-10T20:20:26.660Z"
   },
   {
    "duration": 366,
    "start_time": "2023-12-10T20:20:26.679Z"
   },
   {
    "duration": 6,
    "start_time": "2023-12-10T20:20:27.047Z"
   },
   {
    "duration": 582,
    "start_time": "2023-12-10T20:20:27.055Z"
   },
   {
    "duration": 18,
    "start_time": "2023-12-10T20:20:27.639Z"
   },
   {
    "duration": 451,
    "start_time": "2023-12-10T20:20:27.658Z"
   },
   {
    "duration": 61,
    "start_time": "2023-12-10T20:20:28.110Z"
   },
   {
    "duration": 184,
    "start_time": "2023-12-10T20:20:28.173Z"
   },
   {
    "duration": 6,
    "start_time": "2023-12-10T20:20:28.359Z"
   },
   {
    "duration": 18,
    "start_time": "2023-12-10T20:20:28.367Z"
   },
   {
    "duration": 15,
    "start_time": "2023-12-10T20:21:49.660Z"
   },
   {
    "duration": 1114,
    "start_time": "2023-12-10T20:22:30.885Z"
   },
   {
    "duration": 585,
    "start_time": "2023-12-10T20:22:32.001Z"
   },
   {
    "duration": 12,
    "start_time": "2023-12-10T20:22:32.587Z"
   },
   {
    "duration": 22,
    "start_time": "2023-12-10T20:22:32.600Z"
   },
   {
    "duration": 8,
    "start_time": "2023-12-10T20:22:32.625Z"
   },
   {
    "duration": 23,
    "start_time": "2023-12-10T20:22:32.635Z"
   },
   {
    "duration": 24,
    "start_time": "2023-12-10T20:22:32.659Z"
   },
   {
    "duration": 36,
    "start_time": "2023-12-10T20:22:32.685Z"
   },
   {
    "duration": 35,
    "start_time": "2023-12-10T20:22:32.723Z"
   },
   {
    "duration": 29,
    "start_time": "2023-12-10T20:22:32.760Z"
   },
   {
    "duration": 9,
    "start_time": "2023-12-10T20:22:32.791Z"
   },
   {
    "duration": 27,
    "start_time": "2023-12-10T20:22:32.801Z"
   },
   {
    "duration": 22,
    "start_time": "2023-12-10T20:22:32.830Z"
   },
   {
    "duration": 50,
    "start_time": "2023-12-10T20:22:32.855Z"
   },
   {
    "duration": 8,
    "start_time": "2023-12-10T20:22:32.907Z"
   },
   {
    "duration": 80,
    "start_time": "2023-12-10T20:22:32.917Z"
   },
   {
    "duration": 279,
    "start_time": "2023-12-10T20:22:32.999Z"
   },
   {
    "duration": 101,
    "start_time": "2023-12-10T20:22:33.279Z"
   },
   {
    "duration": 42,
    "start_time": "2023-12-10T20:22:33.381Z"
   },
   {
    "duration": 76,
    "start_time": "2023-12-10T20:22:33.425Z"
   },
   {
    "duration": 7,
    "start_time": "2023-12-10T20:22:33.503Z"
   },
   {
    "duration": 27,
    "start_time": "2023-12-10T20:22:33.512Z"
   },
   {
    "duration": 12,
    "start_time": "2023-12-10T20:22:33.541Z"
   },
   {
    "duration": 7,
    "start_time": "2023-12-10T20:22:33.555Z"
   },
   {
    "duration": 7,
    "start_time": "2023-12-10T20:22:33.564Z"
   },
   {
    "duration": 22,
    "start_time": "2023-12-10T20:22:33.573Z"
   },
   {
    "duration": 30,
    "start_time": "2023-12-10T20:22:33.597Z"
   },
   {
    "duration": 35,
    "start_time": "2023-12-10T20:22:33.628Z"
   },
   {
    "duration": 130,
    "start_time": "2023-12-10T20:22:33.664Z"
   },
   {
    "duration": 16,
    "start_time": "2023-12-10T20:22:33.795Z"
   },
   {
    "duration": 9,
    "start_time": "2023-12-10T20:22:33.812Z"
   },
   {
    "duration": 9,
    "start_time": "2023-12-10T20:22:33.822Z"
   },
   {
    "duration": 34,
    "start_time": "2023-12-10T20:22:33.833Z"
   },
   {
    "duration": 6,
    "start_time": "2023-12-10T20:22:33.869Z"
   },
   {
    "duration": 11,
    "start_time": "2023-12-10T20:22:33.876Z"
   },
   {
    "duration": 97,
    "start_time": "2023-12-10T20:22:33.889Z"
   },
   {
    "duration": 8,
    "start_time": "2023-12-10T20:22:33.987Z"
   },
   {
    "duration": 5,
    "start_time": "2023-12-10T20:22:33.996Z"
   },
   {
    "duration": 6,
    "start_time": "2023-12-10T20:22:34.002Z"
   },
   {
    "duration": 23,
    "start_time": "2023-12-10T20:22:34.009Z"
   },
   {
    "duration": 18,
    "start_time": "2023-12-10T20:22:34.051Z"
   },
   {
    "duration": 360,
    "start_time": "2023-12-10T20:22:34.070Z"
   },
   {
    "duration": 6,
    "start_time": "2023-12-10T20:22:34.432Z"
   },
   {
    "duration": 551,
    "start_time": "2023-12-10T20:22:34.439Z"
   },
   {
    "duration": 11,
    "start_time": "2023-12-10T20:22:34.991Z"
   },
   {
    "duration": 471,
    "start_time": "2023-12-10T20:22:35.004Z"
   },
   {
    "duration": 39,
    "start_time": "2023-12-10T20:22:35.476Z"
   },
   {
    "duration": 47,
    "start_time": "2023-12-10T20:22:35.516Z"
   },
   {
    "duration": 14,
    "start_time": "2023-12-10T20:22:35.564Z"
   },
   {
    "duration": 73,
    "start_time": "2023-12-10T20:22:35.579Z"
   },
   {
    "duration": 1132,
    "start_time": "2023-12-10T20:28:03.670Z"
   },
   {
    "duration": 601,
    "start_time": "2023-12-10T20:28:04.803Z"
   },
   {
    "duration": 13,
    "start_time": "2023-12-10T20:28:05.405Z"
   },
   {
    "duration": 9,
    "start_time": "2023-12-10T20:28:05.419Z"
   },
   {
    "duration": 7,
    "start_time": "2023-12-10T20:28:05.430Z"
   },
   {
    "duration": 5,
    "start_time": "2023-12-10T20:28:05.438Z"
   },
   {
    "duration": 19,
    "start_time": "2023-12-10T20:28:05.444Z"
   },
   {
    "duration": 19,
    "start_time": "2023-12-10T20:28:05.464Z"
   },
   {
    "duration": 39,
    "start_time": "2023-12-10T20:28:05.484Z"
   },
   {
    "duration": 41,
    "start_time": "2023-12-10T20:28:05.525Z"
   },
   {
    "duration": 9,
    "start_time": "2023-12-10T20:28:05.567Z"
   },
   {
    "duration": 37,
    "start_time": "2023-12-10T20:28:05.577Z"
   },
   {
    "duration": 32,
    "start_time": "2023-12-10T20:28:05.616Z"
   },
   {
    "duration": 40,
    "start_time": "2023-12-10T20:28:05.650Z"
   },
   {
    "duration": 8,
    "start_time": "2023-12-10T20:28:05.692Z"
   },
   {
    "duration": 83,
    "start_time": "2023-12-10T20:28:05.701Z"
   },
   {
    "duration": 254,
    "start_time": "2023-12-10T20:28:05.786Z"
   },
   {
    "duration": 113,
    "start_time": "2023-12-10T20:28:06.041Z"
   },
   {
    "duration": 39,
    "start_time": "2023-12-10T20:28:06.156Z"
   },
   {
    "duration": 64,
    "start_time": "2023-12-10T20:28:06.196Z"
   },
   {
    "duration": 7,
    "start_time": "2023-12-10T20:28:06.261Z"
   },
   {
    "duration": 15,
    "start_time": "2023-12-10T20:28:06.269Z"
   },
   {
    "duration": 9,
    "start_time": "2023-12-10T20:28:06.285Z"
   },
   {
    "duration": 6,
    "start_time": "2023-12-10T20:28:06.295Z"
   },
   {
    "duration": 36,
    "start_time": "2023-12-10T20:28:06.302Z"
   },
   {
    "duration": 5,
    "start_time": "2023-12-10T20:28:06.340Z"
   },
   {
    "duration": 31,
    "start_time": "2023-12-10T20:28:06.347Z"
   },
   {
    "duration": 25,
    "start_time": "2023-12-10T20:28:06.379Z"
   },
   {
    "duration": 142,
    "start_time": "2023-12-10T20:28:06.405Z"
   },
   {
    "duration": 18,
    "start_time": "2023-12-10T20:28:06.551Z"
   },
   {
    "duration": 12,
    "start_time": "2023-12-10T20:28:06.570Z"
   },
   {
    "duration": 17,
    "start_time": "2023-12-10T20:28:06.584Z"
   },
   {
    "duration": 23,
    "start_time": "2023-12-10T20:28:06.603Z"
   },
   {
    "duration": 6,
    "start_time": "2023-12-10T20:28:06.627Z"
   },
   {
    "duration": 8,
    "start_time": "2023-12-10T20:28:06.635Z"
   },
   {
    "duration": 73,
    "start_time": "2023-12-10T20:28:06.652Z"
   },
   {
    "duration": 8,
    "start_time": "2023-12-10T20:28:06.726Z"
   },
   {
    "duration": 18,
    "start_time": "2023-12-10T20:28:06.735Z"
   },
   {
    "duration": 3,
    "start_time": "2023-12-10T20:28:06.755Z"
   },
   {
    "duration": 24,
    "start_time": "2023-12-10T20:28:06.759Z"
   },
   {
    "duration": 24,
    "start_time": "2023-12-10T20:28:06.787Z"
   },
   {
    "duration": 384,
    "start_time": "2023-12-10T20:28:06.812Z"
   },
   {
    "duration": 7,
    "start_time": "2023-12-10T20:28:07.198Z"
   },
   {
    "duration": 579,
    "start_time": "2023-12-10T20:28:07.207Z"
   },
   {
    "duration": 11,
    "start_time": "2023-12-10T20:28:07.788Z"
   },
   {
    "duration": 467,
    "start_time": "2023-12-10T20:28:07.800Z"
   },
   {
    "duration": 39,
    "start_time": "2023-12-10T20:28:08.268Z"
   },
   {
    "duration": 56,
    "start_time": "2023-12-10T20:28:08.309Z"
   },
   {
    "duration": 61,
    "start_time": "2023-12-10T20:28:08.367Z"
   },
   {
    "duration": 22,
    "start_time": "2023-12-10T20:28:08.430Z"
   },
   {
    "duration": 61,
    "start_time": "2023-12-10T20:28:08.453Z"
   },
   {
    "duration": 1130,
    "start_time": "2023-12-10T20:28:35.971Z"
   },
   {
    "duration": 611,
    "start_time": "2023-12-10T20:28:37.103Z"
   },
   {
    "duration": 12,
    "start_time": "2023-12-10T20:28:37.717Z"
   },
   {
    "duration": 27,
    "start_time": "2023-12-10T20:28:37.730Z"
   },
   {
    "duration": 23,
    "start_time": "2023-12-10T20:28:37.758Z"
   },
   {
    "duration": 16,
    "start_time": "2023-12-10T20:28:37.782Z"
   },
   {
    "duration": 13,
    "start_time": "2023-12-10T20:28:37.799Z"
   },
   {
    "duration": 8,
    "start_time": "2023-12-10T20:28:37.813Z"
   },
   {
    "duration": 7,
    "start_time": "2023-12-10T20:28:37.823Z"
   },
   {
    "duration": 21,
    "start_time": "2023-12-10T20:28:37.831Z"
   },
   {
    "duration": 6,
    "start_time": "2023-12-10T20:28:37.854Z"
   },
   {
    "duration": 19,
    "start_time": "2023-12-10T20:28:37.861Z"
   },
   {
    "duration": 17,
    "start_time": "2023-12-10T20:28:37.881Z"
   },
   {
    "duration": 29,
    "start_time": "2023-12-10T20:28:37.900Z"
   },
   {
    "duration": 8,
    "start_time": "2023-12-10T20:28:37.930Z"
   },
   {
    "duration": 89,
    "start_time": "2023-12-10T20:28:37.939Z"
   },
   {
    "duration": 288,
    "start_time": "2023-12-10T20:28:38.029Z"
   },
   {
    "duration": 100,
    "start_time": "2023-12-10T20:28:38.319Z"
   },
   {
    "duration": 51,
    "start_time": "2023-12-10T20:28:38.421Z"
   },
   {
    "duration": 65,
    "start_time": "2023-12-10T20:28:38.474Z"
   },
   {
    "duration": 8,
    "start_time": "2023-12-10T20:28:38.540Z"
   },
   {
    "duration": 21,
    "start_time": "2023-12-10T20:28:38.552Z"
   },
   {
    "duration": 17,
    "start_time": "2023-12-10T20:28:38.575Z"
   },
   {
    "duration": 6,
    "start_time": "2023-12-10T20:28:38.594Z"
   },
   {
    "duration": 6,
    "start_time": "2023-12-10T20:28:38.602Z"
   },
   {
    "duration": 4,
    "start_time": "2023-12-10T20:28:38.610Z"
   },
   {
    "duration": 51,
    "start_time": "2023-12-10T20:28:38.617Z"
   },
   {
    "duration": 23,
    "start_time": "2023-12-10T20:28:38.669Z"
   },
   {
    "duration": 130,
    "start_time": "2023-12-10T20:28:38.693Z"
   },
   {
    "duration": 16,
    "start_time": "2023-12-10T20:28:38.824Z"
   },
   {
    "duration": 16,
    "start_time": "2023-12-10T20:28:38.841Z"
   },
   {
    "duration": 5,
    "start_time": "2023-12-10T20:28:38.859Z"
   },
   {
    "duration": 14,
    "start_time": "2023-12-10T20:28:38.865Z"
   },
   {
    "duration": 6,
    "start_time": "2023-12-10T20:28:38.880Z"
   },
   {
    "duration": 12,
    "start_time": "2023-12-10T20:28:38.887Z"
   },
   {
    "duration": 102,
    "start_time": "2023-12-10T20:28:38.901Z"
   },
   {
    "duration": 8,
    "start_time": "2023-12-10T20:28:39.004Z"
   },
   {
    "duration": 13,
    "start_time": "2023-12-10T20:28:39.014Z"
   },
   {
    "duration": 8,
    "start_time": "2023-12-10T20:28:39.029Z"
   },
   {
    "duration": 30,
    "start_time": "2023-12-10T20:28:39.038Z"
   },
   {
    "duration": 18,
    "start_time": "2023-12-10T20:28:39.070Z"
   },
   {
    "duration": 384,
    "start_time": "2023-12-10T20:28:39.089Z"
   },
   {
    "duration": 7,
    "start_time": "2023-12-10T20:28:39.474Z"
   },
   {
    "duration": 552,
    "start_time": "2023-12-10T20:28:39.482Z"
   },
   {
    "duration": 18,
    "start_time": "2023-12-10T20:28:40.035Z"
   },
   {
    "duration": 454,
    "start_time": "2023-12-10T20:28:40.054Z"
   },
   {
    "duration": 61,
    "start_time": "2023-12-10T20:28:40.510Z"
   },
   {
    "duration": 16,
    "start_time": "2023-12-10T20:28:40.573Z"
   },
   {
    "duration": 24,
    "start_time": "2023-12-10T20:28:40.591Z"
   },
   {
    "duration": 38,
    "start_time": "2023-12-10T20:28:40.617Z"
   },
   {
    "duration": 61,
    "start_time": "2023-12-10T20:28:40.657Z"
   },
   {
    "duration": 1168,
    "start_time": "2023-12-10T20:30:00.447Z"
   },
   {
    "duration": 615,
    "start_time": "2023-12-10T20:30:01.617Z"
   },
   {
    "duration": 13,
    "start_time": "2023-12-10T20:30:02.233Z"
   },
   {
    "duration": 75,
    "start_time": "2023-12-10T20:30:02.248Z"
   },
   {
    "duration": 74,
    "start_time": "2023-12-10T20:30:02.325Z"
   },
   {
    "duration": 37,
    "start_time": "2023-12-10T20:30:02.400Z"
   },
   {
    "duration": 61,
    "start_time": "2023-12-10T20:30:02.439Z"
   },
   {
    "duration": 27,
    "start_time": "2023-12-10T20:30:02.501Z"
   },
   {
    "duration": 26,
    "start_time": "2023-12-10T20:30:02.530Z"
   },
   {
    "duration": 48,
    "start_time": "2023-12-10T20:30:02.559Z"
   },
   {
    "duration": 9,
    "start_time": "2023-12-10T20:30:02.608Z"
   },
   {
    "duration": 25,
    "start_time": "2023-12-10T20:30:02.619Z"
   },
   {
    "duration": 53,
    "start_time": "2023-12-10T20:30:02.646Z"
   },
   {
    "duration": 65,
    "start_time": "2023-12-10T20:30:02.701Z"
   },
   {
    "duration": 9,
    "start_time": "2023-12-10T20:30:02.767Z"
   },
   {
    "duration": 87,
    "start_time": "2023-12-10T20:30:02.778Z"
   },
   {
    "duration": 295,
    "start_time": "2023-12-10T20:30:02.867Z"
   },
   {
    "duration": 104,
    "start_time": "2023-12-10T20:30:03.163Z"
   },
   {
    "duration": 41,
    "start_time": "2023-12-10T20:30:03.269Z"
   },
   {
    "duration": 70,
    "start_time": "2023-12-10T20:30:03.312Z"
   },
   {
    "duration": 7,
    "start_time": "2023-12-10T20:30:03.383Z"
   },
   {
    "duration": 42,
    "start_time": "2023-12-10T20:30:03.392Z"
   },
   {
    "duration": 20,
    "start_time": "2023-12-10T20:30:03.436Z"
   },
   {
    "duration": 23,
    "start_time": "2023-12-10T20:30:03.458Z"
   },
   {
    "duration": 33,
    "start_time": "2023-12-10T20:30:03.482Z"
   },
   {
    "duration": 33,
    "start_time": "2023-12-10T20:30:03.517Z"
   },
   {
    "duration": 52,
    "start_time": "2023-12-10T20:30:03.551Z"
   },
   {
    "duration": 23,
    "start_time": "2023-12-10T20:30:03.607Z"
   },
   {
    "duration": 145,
    "start_time": "2023-12-10T20:30:03.632Z"
   },
   {
    "duration": 17,
    "start_time": "2023-12-10T20:30:03.778Z"
   },
   {
    "duration": 34,
    "start_time": "2023-12-10T20:30:03.796Z"
   },
   {
    "duration": 48,
    "start_time": "2023-12-10T20:30:03.832Z"
   },
   {
    "duration": 66,
    "start_time": "2023-12-10T20:30:03.882Z"
   },
   {
    "duration": 12,
    "start_time": "2023-12-10T20:30:03.950Z"
   },
   {
    "duration": 22,
    "start_time": "2023-12-10T20:30:03.964Z"
   },
   {
    "duration": 87,
    "start_time": "2023-12-10T20:30:03.987Z"
   },
   {
    "duration": 9,
    "start_time": "2023-12-10T20:30:04.075Z"
   },
   {
    "duration": 9,
    "start_time": "2023-12-10T20:30:04.085Z"
   },
   {
    "duration": 26,
    "start_time": "2023-12-10T20:30:04.096Z"
   },
   {
    "duration": 28,
    "start_time": "2023-12-10T20:30:04.123Z"
   },
   {
    "duration": 20,
    "start_time": "2023-12-10T20:30:04.153Z"
   },
   {
    "duration": 394,
    "start_time": "2023-12-10T20:30:04.175Z"
   },
   {
    "duration": 8,
    "start_time": "2023-12-10T20:30:04.571Z"
   },
   {
    "duration": 661,
    "start_time": "2023-12-10T20:30:04.581Z"
   },
   {
    "duration": 16,
    "start_time": "2023-12-10T20:30:05.244Z"
   },
   {
    "duration": 466,
    "start_time": "2023-12-10T20:30:05.262Z"
   },
   {
    "duration": 50,
    "start_time": "2023-12-10T20:30:05.729Z"
   },
   {
    "duration": 15,
    "start_time": "2023-12-10T20:30:05.780Z"
   },
   {
    "duration": 57,
    "start_time": "2023-12-10T20:30:05.796Z"
   },
   {
    "duration": 6,
    "start_time": "2023-12-10T20:30:05.854Z"
   },
   {
    "duration": 74,
    "start_time": "2023-12-10T20:30:05.861Z"
   },
   {
    "duration": 1106,
    "start_time": "2023-12-10T20:39:28.684Z"
   },
   {
    "duration": 581,
    "start_time": "2023-12-10T20:39:29.792Z"
   },
   {
    "duration": 13,
    "start_time": "2023-12-10T20:39:30.374Z"
   },
   {
    "duration": 43,
    "start_time": "2023-12-10T20:39:30.388Z"
   },
   {
    "duration": 65,
    "start_time": "2023-12-10T20:39:30.432Z"
   },
   {
    "duration": 40,
    "start_time": "2023-12-10T20:39:30.500Z"
   },
   {
    "duration": 52,
    "start_time": "2023-12-10T20:39:30.542Z"
   },
   {
    "duration": 45,
    "start_time": "2023-12-10T20:39:30.596Z"
   },
   {
    "duration": 51,
    "start_time": "2023-12-10T20:39:30.642Z"
   },
   {
    "duration": 61,
    "start_time": "2023-12-10T20:39:30.695Z"
   },
   {
    "duration": 31,
    "start_time": "2023-12-10T20:39:30.758Z"
   },
   {
    "duration": 57,
    "start_time": "2023-12-10T20:39:30.791Z"
   },
   {
    "duration": 51,
    "start_time": "2023-12-10T20:39:30.850Z"
   },
   {
    "duration": 70,
    "start_time": "2023-12-10T20:39:30.903Z"
   },
   {
    "duration": 77,
    "start_time": "2023-12-10T20:39:30.975Z"
   },
   {
    "duration": 116,
    "start_time": "2023-12-10T20:39:31.054Z"
   },
   {
    "duration": 282,
    "start_time": "2023-12-10T20:39:31.171Z"
   },
   {
    "duration": 103,
    "start_time": "2023-12-10T20:39:31.454Z"
   },
   {
    "duration": 66,
    "start_time": "2023-12-10T20:39:31.559Z"
   },
   {
    "duration": 110,
    "start_time": "2023-12-10T20:39:31.627Z"
   },
   {
    "duration": 7,
    "start_time": "2023-12-10T20:39:31.738Z"
   },
   {
    "duration": 47,
    "start_time": "2023-12-10T20:39:31.746Z"
   },
   {
    "duration": 32,
    "start_time": "2023-12-10T20:39:31.794Z"
   },
   {
    "duration": 32,
    "start_time": "2023-12-10T20:39:31.828Z"
   },
   {
    "duration": 30,
    "start_time": "2023-12-10T20:39:31.861Z"
   },
   {
    "duration": 20,
    "start_time": "2023-12-10T20:39:31.892Z"
   },
   {
    "duration": 41,
    "start_time": "2023-12-10T20:39:31.913Z"
   },
   {
    "duration": 23,
    "start_time": "2023-12-10T20:39:31.957Z"
   },
   {
    "duration": 151,
    "start_time": "2023-12-10T20:39:31.982Z"
   },
   {
    "duration": 19,
    "start_time": "2023-12-10T20:39:32.134Z"
   },
   {
    "duration": 14,
    "start_time": "2023-12-10T20:39:32.155Z"
   },
   {
    "duration": 5,
    "start_time": "2023-12-10T20:39:32.170Z"
   },
   {
    "duration": 26,
    "start_time": "2023-12-10T20:39:32.177Z"
   },
   {
    "duration": 6,
    "start_time": "2023-12-10T20:39:32.204Z"
   },
   {
    "duration": 24,
    "start_time": "2023-12-10T20:39:32.211Z"
   },
   {
    "duration": 73,
    "start_time": "2023-12-10T20:39:32.237Z"
   },
   {
    "duration": 8,
    "start_time": "2023-12-10T20:39:32.312Z"
   },
   {
    "duration": 16,
    "start_time": "2023-12-10T20:39:32.321Z"
   },
   {
    "duration": 14,
    "start_time": "2023-12-10T20:39:32.338Z"
   },
   {
    "duration": 32,
    "start_time": "2023-12-10T20:39:32.354Z"
   },
   {
    "duration": 34,
    "start_time": "2023-12-10T20:39:32.387Z"
   },
   {
    "duration": 347,
    "start_time": "2023-12-10T20:39:32.422Z"
   },
   {
    "duration": 7,
    "start_time": "2023-12-10T20:39:32.770Z"
   },
   {
    "duration": 715,
    "start_time": "2023-12-10T20:39:32.778Z"
   },
   {
    "duration": 66,
    "start_time": "2023-12-10T20:39:33.494Z"
   },
   {
    "duration": 834,
    "start_time": "2023-12-10T20:39:33.562Z"
   },
   {
    "duration": 87,
    "start_time": "2023-12-10T20:39:34.398Z"
   },
   {
    "duration": 14,
    "start_time": "2023-12-10T20:39:34.486Z"
   },
   {
    "duration": 69,
    "start_time": "2023-12-10T20:39:34.502Z"
   },
   {
    "duration": 6,
    "start_time": "2023-12-10T20:39:34.573Z"
   },
   {
    "duration": 59,
    "start_time": "2023-12-10T20:39:34.580Z"
   },
   {
    "duration": 1161,
    "start_time": "2023-12-11T17:56:39.598Z"
   },
   {
    "duration": 569,
    "start_time": "2023-12-11T17:56:40.761Z"
   },
   {
    "duration": 11,
    "start_time": "2023-12-11T17:56:41.331Z"
   },
   {
    "duration": 9,
    "start_time": "2023-12-11T17:56:41.343Z"
   },
   {
    "duration": 12,
    "start_time": "2023-12-11T17:56:41.353Z"
   },
   {
    "duration": 23,
    "start_time": "2023-12-11T17:56:41.367Z"
   },
   {
    "duration": 26,
    "start_time": "2023-12-11T17:56:41.391Z"
   },
   {
    "duration": 9,
    "start_time": "2023-12-11T17:56:41.419Z"
   },
   {
    "duration": 13,
    "start_time": "2023-12-11T17:56:41.429Z"
   },
   {
    "duration": 30,
    "start_time": "2023-12-11T17:56:41.444Z"
   },
   {
    "duration": 9,
    "start_time": "2023-12-11T17:56:41.475Z"
   },
   {
    "duration": 18,
    "start_time": "2023-12-11T17:56:41.485Z"
   },
   {
    "duration": 19,
    "start_time": "2023-12-11T17:56:41.504Z"
   },
   {
    "duration": 34,
    "start_time": "2023-12-11T17:56:41.524Z"
   },
   {
    "duration": 7,
    "start_time": "2023-12-11T17:56:41.560Z"
   },
   {
    "duration": 70,
    "start_time": "2023-12-11T17:56:41.569Z"
   },
   {
    "duration": 287,
    "start_time": "2023-12-11T17:56:41.641Z"
   },
   {
    "duration": 108,
    "start_time": "2023-12-11T17:56:41.929Z"
   },
   {
    "duration": 42,
    "start_time": "2023-12-11T17:56:42.038Z"
   },
   {
    "duration": 68,
    "start_time": "2023-12-11T17:56:42.081Z"
   },
   {
    "duration": 6,
    "start_time": "2023-12-11T17:56:42.150Z"
   },
   {
    "duration": 16,
    "start_time": "2023-12-11T17:56:42.158Z"
   },
   {
    "duration": 23,
    "start_time": "2023-12-11T17:56:42.176Z"
   },
   {
    "duration": 7,
    "start_time": "2023-12-11T17:56:42.200Z"
   },
   {
    "duration": 11,
    "start_time": "2023-12-11T17:56:42.211Z"
   },
   {
    "duration": 6,
    "start_time": "2023-12-11T17:56:42.223Z"
   },
   {
    "duration": 26,
    "start_time": "2023-12-11T17:56:42.230Z"
   },
   {
    "duration": 22,
    "start_time": "2023-12-11T17:56:42.259Z"
   },
   {
    "duration": 132,
    "start_time": "2023-12-11T17:56:42.283Z"
   },
   {
    "duration": 16,
    "start_time": "2023-12-11T17:56:42.417Z"
   },
   {
    "duration": 8,
    "start_time": "2023-12-11T17:56:42.434Z"
   },
   {
    "duration": 18,
    "start_time": "2023-12-11T17:56:42.444Z"
   },
   {
    "duration": 22,
    "start_time": "2023-12-11T17:56:42.463Z"
   },
   {
    "duration": 5,
    "start_time": "2023-12-11T17:56:42.487Z"
   },
   {
    "duration": 17,
    "start_time": "2023-12-11T17:56:42.494Z"
   },
   {
    "duration": 67,
    "start_time": "2023-12-11T17:56:42.513Z"
   },
   {
    "duration": 8,
    "start_time": "2023-12-11T17:56:42.582Z"
   },
   {
    "duration": 5,
    "start_time": "2023-12-11T17:56:42.610Z"
   },
   {
    "duration": 8,
    "start_time": "2023-12-11T17:56:42.616Z"
   },
   {
    "duration": 17,
    "start_time": "2023-12-11T17:56:42.625Z"
   },
   {
    "duration": 17,
    "start_time": "2023-12-11T17:56:42.643Z"
   },
   {
    "duration": 647,
    "start_time": "2023-12-11T17:56:42.661Z"
   },
   {
    "duration": 6,
    "start_time": "2023-12-11T17:56:43.309Z"
   },
   {
    "duration": 552,
    "start_time": "2023-12-11T17:56:43.317Z"
   },
   {
    "duration": 12,
    "start_time": "2023-12-11T17:56:43.870Z"
   },
   {
    "duration": 447,
    "start_time": "2023-12-11T17:56:43.884Z"
   },
   {
    "duration": 36,
    "start_time": "2023-12-11T17:56:44.332Z"
   },
   {
    "duration": 54,
    "start_time": "2023-12-11T17:56:44.370Z"
   },
   {
    "duration": 21,
    "start_time": "2023-12-11T17:56:44.426Z"
   },
   {
    "duration": 5,
    "start_time": "2023-12-11T17:56:44.449Z"
   },
   {
    "duration": 72,
    "start_time": "2023-12-11T17:56:44.456Z"
   },
   {
    "duration": 1222,
    "start_time": "2023-12-11T18:45:57.311Z"
   },
   {
    "duration": 930,
    "start_time": "2023-12-11T18:45:58.535Z"
   },
   {
    "duration": 12,
    "start_time": "2023-12-11T18:45:59.467Z"
   },
   {
    "duration": 9,
    "start_time": "2023-12-11T18:45:59.481Z"
   },
   {
    "duration": 6,
    "start_time": "2023-12-11T18:45:59.493Z"
   },
   {
    "duration": 5,
    "start_time": "2023-12-11T18:45:59.500Z"
   },
   {
    "duration": 11,
    "start_time": "2023-12-11T18:45:59.506Z"
   },
   {
    "duration": 9,
    "start_time": "2023-12-11T18:45:59.519Z"
   },
   {
    "duration": 7,
    "start_time": "2023-12-11T18:45:59.529Z"
   },
   {
    "duration": 54,
    "start_time": "2023-12-11T18:45:59.538Z"
   },
   {
    "duration": 7,
    "start_time": "2023-12-11T18:45:59.594Z"
   },
   {
    "duration": 8,
    "start_time": "2023-12-11T18:45:59.602Z"
   },
   {
    "duration": 21,
    "start_time": "2023-12-11T18:45:59.611Z"
   },
   {
    "duration": 48,
    "start_time": "2023-12-11T18:45:59.634Z"
   },
   {
    "duration": 9,
    "start_time": "2023-12-11T18:45:59.684Z"
   },
   {
    "duration": 88,
    "start_time": "2023-12-11T18:45:59.694Z"
   },
   {
    "duration": 277,
    "start_time": "2023-12-11T18:45:59.784Z"
   },
   {
    "duration": 109,
    "start_time": "2023-12-11T18:46:00.062Z"
   },
   {
    "duration": 51,
    "start_time": "2023-12-11T18:46:00.172Z"
   },
   {
    "duration": 72,
    "start_time": "2023-12-11T18:46:00.224Z"
   },
   {
    "duration": 7,
    "start_time": "2023-12-11T18:46:00.298Z"
   },
   {
    "duration": 38,
    "start_time": "2023-12-11T18:46:00.306Z"
   },
   {
    "duration": 37,
    "start_time": "2023-12-11T18:46:00.345Z"
   },
   {
    "duration": 20,
    "start_time": "2023-12-11T18:46:00.384Z"
   },
   {
    "duration": 23,
    "start_time": "2023-12-11T18:46:00.405Z"
   },
   {
    "duration": 48,
    "start_time": "2023-12-11T18:46:00.430Z"
   },
   {
    "duration": 5,
    "start_time": "2023-12-11T18:46:00.480Z"
   },
   {
    "duration": 69,
    "start_time": "2023-12-11T18:46:00.486Z"
   },
   {
    "duration": 31,
    "start_time": "2023-12-11T18:46:00.557Z"
   },
   {
    "duration": 133,
    "start_time": "2023-12-11T18:46:00.589Z"
   },
   {
    "duration": 17,
    "start_time": "2023-12-11T18:46:00.724Z"
   },
   {
    "duration": 25,
    "start_time": "2023-12-11T18:46:00.743Z"
   },
   {
    "duration": 50,
    "start_time": "2023-12-11T18:46:00.770Z"
   },
   {
    "duration": 32,
    "start_time": "2023-12-11T18:46:00.821Z"
   },
   {
    "duration": 27,
    "start_time": "2023-12-11T18:46:00.855Z"
   },
   {
    "duration": 37,
    "start_time": "2023-12-11T18:46:00.883Z"
   },
   {
    "duration": 133,
    "start_time": "2023-12-11T18:46:00.921Z"
   },
   {
    "duration": 13,
    "start_time": "2023-12-11T18:46:01.056Z"
   },
   {
    "duration": 25,
    "start_time": "2023-12-11T18:46:01.070Z"
   },
   {
    "duration": 43,
    "start_time": "2023-12-11T18:46:01.097Z"
   },
   {
    "duration": 40,
    "start_time": "2023-12-11T18:46:01.143Z"
   },
   {
    "duration": 43,
    "start_time": "2023-12-11T18:46:01.184Z"
   },
   {
    "duration": 358,
    "start_time": "2023-12-11T18:46:01.229Z"
   },
   {
    "duration": 7,
    "start_time": "2023-12-11T18:46:01.588Z"
   },
   {
    "duration": 909,
    "start_time": "2023-12-11T18:46:01.596Z"
   },
   {
    "duration": 14,
    "start_time": "2023-12-11T18:46:02.507Z"
   },
   {
    "duration": 822,
    "start_time": "2023-12-11T18:46:02.522Z"
   },
   {
    "duration": 53,
    "start_time": "2023-12-11T18:46:03.345Z"
   },
   {
    "duration": 13,
    "start_time": "2023-12-11T18:46:03.400Z"
   },
   {
    "duration": 27,
    "start_time": "2023-12-11T18:46:03.414Z"
   },
   {
    "duration": 6,
    "start_time": "2023-12-11T18:46:03.443Z"
   },
   {
    "duration": 81,
    "start_time": "2023-12-11T18:46:03.450Z"
   },
   {
    "duration": 1195,
    "start_time": "2023-12-11T18:46:21.085Z"
   },
   {
    "duration": 571,
    "start_time": "2023-12-11T18:46:22.281Z"
   },
   {
    "duration": 12,
    "start_time": "2023-12-11T18:46:22.853Z"
   },
   {
    "duration": 10,
    "start_time": "2023-12-11T18:46:22.866Z"
   },
   {
    "duration": 6,
    "start_time": "2023-12-11T18:46:22.877Z"
   },
   {
    "duration": 5,
    "start_time": "2023-12-11T18:46:22.884Z"
   },
   {
    "duration": 21,
    "start_time": "2023-12-11T18:46:22.890Z"
   },
   {
    "duration": 8,
    "start_time": "2023-12-11T18:46:22.912Z"
   },
   {
    "duration": 6,
    "start_time": "2023-12-11T18:46:22.921Z"
   },
   {
    "duration": 17,
    "start_time": "2023-12-11T18:46:22.929Z"
   },
   {
    "duration": 9,
    "start_time": "2023-12-11T18:46:22.948Z"
   },
   {
    "duration": 24,
    "start_time": "2023-12-11T18:46:22.958Z"
   },
   {
    "duration": 14,
    "start_time": "2023-12-11T18:46:22.984Z"
   },
   {
    "duration": 24,
    "start_time": "2023-12-11T18:46:23.000Z"
   },
   {
    "duration": 8,
    "start_time": "2023-12-11T18:46:23.026Z"
   },
   {
    "duration": 92,
    "start_time": "2023-12-11T18:46:23.036Z"
   },
   {
    "duration": 291,
    "start_time": "2023-12-11T18:46:23.129Z"
   },
   {
    "duration": 199,
    "start_time": "2023-12-11T18:46:23.422Z"
   },
   {
    "duration": 96,
    "start_time": "2023-12-11T18:46:23.623Z"
   },
   {
    "duration": 110,
    "start_time": "2023-12-11T18:46:23.721Z"
   },
   {
    "duration": 7,
    "start_time": "2023-12-11T18:46:23.882Z"
   },
   {
    "duration": 12,
    "start_time": "2023-12-11T18:46:23.891Z"
   },
   {
    "duration": 18,
    "start_time": "2023-12-11T18:46:23.904Z"
   },
   {
    "duration": 7,
    "start_time": "2023-12-11T18:46:23.923Z"
   },
   {
    "duration": 52,
    "start_time": "2023-12-11T18:46:23.931Z"
   },
   {
    "duration": 28,
    "start_time": "2023-12-11T18:46:23.984Z"
   },
   {
    "duration": 4,
    "start_time": "2023-12-11T18:46:24.014Z"
   },
   {
    "duration": 84,
    "start_time": "2023-12-11T18:46:24.021Z"
   },
   {
    "duration": 76,
    "start_time": "2023-12-11T18:46:24.107Z"
   },
   {
    "duration": 220,
    "start_time": "2023-12-11T18:46:24.184Z"
   },
   {
    "duration": 18,
    "start_time": "2023-12-11T18:46:24.405Z"
   },
   {
    "duration": 64,
    "start_time": "2023-12-11T18:46:24.424Z"
   },
   {
    "duration": 4,
    "start_time": "2023-12-11T18:46:24.490Z"
   },
   {
    "duration": 16,
    "start_time": "2023-12-11T18:46:24.496Z"
   },
   {
    "duration": 8,
    "start_time": "2023-12-11T18:46:24.514Z"
   },
   {
    "duration": 62,
    "start_time": "2023-12-11T18:46:24.523Z"
   },
   {
    "duration": 132,
    "start_time": "2023-12-11T18:46:24.587Z"
   },
   {
    "duration": 66,
    "start_time": "2023-12-11T18:46:24.721Z"
   },
   {
    "duration": 4,
    "start_time": "2023-12-11T18:46:24.788Z"
   },
   {
    "duration": 5,
    "start_time": "2023-12-11T18:46:24.794Z"
   },
   {
    "duration": 19,
    "start_time": "2023-12-11T18:46:24.800Z"
   },
   {
    "duration": 17,
    "start_time": "2023-12-11T18:46:24.820Z"
   },
   {
    "duration": 370,
    "start_time": "2023-12-11T18:46:24.838Z"
   },
   {
    "duration": 7,
    "start_time": "2023-12-11T18:46:25.209Z"
   },
   {
    "duration": 544,
    "start_time": "2023-12-11T18:46:25.218Z"
   },
   {
    "duration": 20,
    "start_time": "2023-12-11T18:46:25.763Z"
   },
   {
    "duration": 442,
    "start_time": "2023-12-11T18:46:25.785Z"
   },
   {
    "duration": 63,
    "start_time": "2023-12-11T18:46:26.229Z"
   },
   {
    "duration": 14,
    "start_time": "2023-12-11T18:46:26.293Z"
   },
   {
    "duration": 27,
    "start_time": "2023-12-11T18:46:26.309Z"
   },
   {
    "duration": 6,
    "start_time": "2023-12-11T18:46:26.337Z"
   },
   {
    "duration": 74,
    "start_time": "2023-12-11T18:46:26.345Z"
   },
   {
    "duration": 1099,
    "start_time": "2023-12-11T18:48:35.806Z"
   },
   {
    "duration": 583,
    "start_time": "2023-12-11T18:48:36.907Z"
   },
   {
    "duration": 14,
    "start_time": "2023-12-11T18:48:37.491Z"
   },
   {
    "duration": 16,
    "start_time": "2023-12-11T18:48:37.507Z"
   },
   {
    "duration": 7,
    "start_time": "2023-12-11T18:48:37.524Z"
   },
   {
    "duration": 7,
    "start_time": "2023-12-11T18:48:37.532Z"
   },
   {
    "duration": 16,
    "start_time": "2023-12-11T18:48:37.540Z"
   },
   {
    "duration": 26,
    "start_time": "2023-12-11T18:48:37.557Z"
   },
   {
    "duration": 11,
    "start_time": "2023-12-11T18:48:37.585Z"
   },
   {
    "duration": 33,
    "start_time": "2023-12-11T18:48:37.599Z"
   },
   {
    "duration": 9,
    "start_time": "2023-12-11T18:48:37.634Z"
   },
   {
    "duration": 12,
    "start_time": "2023-12-11T18:48:37.644Z"
   },
   {
    "duration": 15,
    "start_time": "2023-12-11T18:48:37.681Z"
   },
   {
    "duration": 35,
    "start_time": "2023-12-11T18:48:37.697Z"
   },
   {
    "duration": 9,
    "start_time": "2023-12-11T18:48:37.734Z"
   },
   {
    "duration": 90,
    "start_time": "2023-12-11T18:48:37.744Z"
   },
   {
    "duration": 294,
    "start_time": "2023-12-11T18:48:37.836Z"
   },
   {
    "duration": 189,
    "start_time": "2023-12-11T18:48:38.132Z"
   },
   {
    "duration": 94,
    "start_time": "2023-12-11T18:48:38.323Z"
   },
   {
    "duration": 109,
    "start_time": "2023-12-11T18:48:38.419Z"
   },
   {
    "duration": 8,
    "start_time": "2023-12-11T18:48:38.582Z"
   },
   {
    "duration": 12,
    "start_time": "2023-12-11T18:48:38.591Z"
   },
   {
    "duration": 9,
    "start_time": "2023-12-11T18:48:38.605Z"
   },
   {
    "duration": 6,
    "start_time": "2023-12-11T18:48:38.615Z"
   },
   {
    "duration": 61,
    "start_time": "2023-12-11T18:48:38.622Z"
   },
   {
    "duration": 39,
    "start_time": "2023-12-11T18:48:38.684Z"
   },
   {
    "duration": 5,
    "start_time": "2023-12-11T18:48:38.725Z"
   },
   {
    "duration": 73,
    "start_time": "2023-12-11T18:48:38.734Z"
   },
   {
    "duration": 277,
    "start_time": "2023-12-11T18:48:38.808Z"
   },
   {
    "duration": 19,
    "start_time": "2023-12-11T18:48:39.086Z"
   },
   {
    "duration": 10,
    "start_time": "2023-12-11T18:48:39.106Z"
   },
   {
    "duration": 4,
    "start_time": "2023-12-11T18:48:39.118Z"
   },
   {
    "duration": 68,
    "start_time": "2023-12-11T18:48:39.124Z"
   },
   {
    "duration": 6,
    "start_time": "2023-12-11T18:48:39.193Z"
   },
   {
    "duration": 9,
    "start_time": "2023-12-11T18:48:39.201Z"
   },
   {
    "duration": 170,
    "start_time": "2023-12-11T18:48:39.212Z"
   },
   {
    "duration": 8,
    "start_time": "2023-12-11T18:48:39.384Z"
   },
   {
    "duration": 4,
    "start_time": "2023-12-11T18:48:39.394Z"
   },
   {
    "duration": 6,
    "start_time": "2023-12-11T18:48:39.399Z"
   },
   {
    "duration": 17,
    "start_time": "2023-12-11T18:48:39.406Z"
   },
   {
    "duration": 69,
    "start_time": "2023-12-11T18:48:39.424Z"
   },
   {
    "duration": 556,
    "start_time": "2023-12-11T18:48:39.495Z"
   },
   {
    "duration": 6,
    "start_time": "2023-12-11T18:48:40.053Z"
   },
   {
    "duration": 578,
    "start_time": "2023-12-11T18:48:40.061Z"
   },
   {
    "duration": 11,
    "start_time": "2023-12-11T18:48:40.641Z"
   },
   {
    "duration": 512,
    "start_time": "2023-12-11T18:48:40.653Z"
   },
   {
    "duration": 47,
    "start_time": "2023-12-11T18:48:41.167Z"
   },
   {
    "duration": 15,
    "start_time": "2023-12-11T18:48:41.216Z"
   },
   {
    "duration": 63,
    "start_time": "2023-12-11T18:48:41.232Z"
   },
   {
    "duration": 6,
    "start_time": "2023-12-11T18:48:41.297Z"
   },
   {
    "duration": 57,
    "start_time": "2023-12-11T18:48:41.305Z"
   },
   {
    "duration": 1188,
    "start_time": "2023-12-11T18:50:38.567Z"
   },
   {
    "duration": 1137,
    "start_time": "2023-12-11T18:50:39.757Z"
   },
   {
    "duration": 12,
    "start_time": "2023-12-11T18:50:40.895Z"
   },
   {
    "duration": 9,
    "start_time": "2023-12-11T18:50:40.908Z"
   },
   {
    "duration": 7,
    "start_time": "2023-12-11T18:50:40.919Z"
   },
   {
    "duration": 56,
    "start_time": "2023-12-11T18:50:40.928Z"
   },
   {
    "duration": 13,
    "start_time": "2023-12-11T18:50:40.986Z"
   },
   {
    "duration": 8,
    "start_time": "2023-12-11T18:50:41.001Z"
   },
   {
    "duration": 9,
    "start_time": "2023-12-11T18:50:41.011Z"
   },
   {
    "duration": 75,
    "start_time": "2023-12-11T18:50:41.022Z"
   },
   {
    "duration": 6,
    "start_time": "2023-12-11T18:50:41.099Z"
   },
   {
    "duration": 12,
    "start_time": "2023-12-11T18:50:41.107Z"
   },
   {
    "duration": 62,
    "start_time": "2023-12-11T18:50:41.120Z"
   },
   {
    "duration": 26,
    "start_time": "2023-12-11T18:50:41.185Z"
   },
   {
    "duration": 9,
    "start_time": "2023-12-11T18:50:41.212Z"
   },
   {
    "duration": 181,
    "start_time": "2023-12-11T18:50:41.223Z"
   },
   {
    "duration": 258,
    "start_time": "2023-12-11T18:50:41.405Z"
   },
   {
    "duration": 102,
    "start_time": "2023-12-11T18:50:41.665Z"
   },
   {
    "duration": 66,
    "start_time": "2023-12-11T18:50:41.768Z"
   },
   {
    "duration": 81,
    "start_time": "2023-12-11T18:50:41.836Z"
   },
   {
    "duration": 7,
    "start_time": "2023-12-11T18:50:41.918Z"
   },
   {
    "duration": 13,
    "start_time": "2023-12-11T18:50:41.927Z"
   },
   {
    "duration": 11,
    "start_time": "2023-12-11T18:50:41.942Z"
   },
   {
    "duration": 7,
    "start_time": "2023-12-11T18:50:41.954Z"
   },
   {
    "duration": 25,
    "start_time": "2023-12-11T18:50:41.962Z"
   },
   {
    "duration": 33,
    "start_time": "2023-12-11T18:50:41.989Z"
   },
   {
    "duration": 4,
    "start_time": "2023-12-11T18:50:42.024Z"
   },
   {
    "duration": 25,
    "start_time": "2023-12-11T18:50:42.029Z"
   },
   {
    "duration": 33,
    "start_time": "2023-12-11T18:50:42.056Z"
   },
   {
    "duration": 127,
    "start_time": "2023-12-11T18:50:42.090Z"
   },
   {
    "duration": 18,
    "start_time": "2023-12-11T18:50:42.219Z"
   },
   {
    "duration": 9,
    "start_time": "2023-12-11T18:50:42.239Z"
   },
   {
    "duration": 5,
    "start_time": "2023-12-11T18:50:42.250Z"
   },
   {
    "duration": 39,
    "start_time": "2023-12-11T18:50:42.256Z"
   },
   {
    "duration": 6,
    "start_time": "2023-12-11T18:50:42.297Z"
   },
   {
    "duration": 10,
    "start_time": "2023-12-11T18:50:42.304Z"
   },
   {
    "duration": 76,
    "start_time": "2023-12-11T18:50:42.316Z"
   },
   {
    "duration": 8,
    "start_time": "2023-12-11T18:50:42.394Z"
   },
   {
    "duration": 7,
    "start_time": "2023-12-11T18:50:42.404Z"
   },
   {
    "duration": 4,
    "start_time": "2023-12-11T18:50:42.412Z"
   },
   {
    "duration": 19,
    "start_time": "2023-12-11T18:50:42.419Z"
   },
   {
    "duration": 23,
    "start_time": "2023-12-11T18:50:42.439Z"
   },
   {
    "duration": 357,
    "start_time": "2023-12-11T18:50:42.482Z"
   },
   {
    "duration": 6,
    "start_time": "2023-12-11T18:50:42.841Z"
   },
   {
    "duration": 544,
    "start_time": "2023-12-11T18:50:42.848Z"
   },
   {
    "duration": 10,
    "start_time": "2023-12-11T18:50:43.394Z"
   },
   {
    "duration": 438,
    "start_time": "2023-12-11T18:50:43.405Z"
   },
   {
    "duration": 53,
    "start_time": "2023-12-11T18:50:43.845Z"
   },
   {
    "duration": 13,
    "start_time": "2023-12-11T18:50:43.900Z"
   },
   {
    "duration": 21,
    "start_time": "2023-12-11T18:50:43.915Z"
   },
   {
    "duration": 6,
    "start_time": "2023-12-11T18:50:43.938Z"
   },
   {
    "duration": 101,
    "start_time": "2023-12-11T18:50:43.945Z"
   },
   {
    "duration": 5,
    "start_time": "2023-12-11T18:51:14.715Z"
   },
   {
    "duration": 1167,
    "start_time": "2023-12-11T18:56:08.850Z"
   },
   {
    "duration": 552,
    "start_time": "2023-12-11T18:56:10.019Z"
   },
   {
    "duration": 10,
    "start_time": "2023-12-11T18:56:10.573Z"
   },
   {
    "duration": 8,
    "start_time": "2023-12-11T18:56:10.585Z"
   },
   {
    "duration": 8,
    "start_time": "2023-12-11T18:56:10.595Z"
   },
   {
    "duration": 5,
    "start_time": "2023-12-11T18:56:10.604Z"
   },
   {
    "duration": 12,
    "start_time": "2023-12-11T18:56:10.611Z"
   },
   {
    "duration": 9,
    "start_time": "2023-12-11T18:56:10.624Z"
   },
   {
    "duration": 9,
    "start_time": "2023-12-11T18:56:10.634Z"
   },
   {
    "duration": 43,
    "start_time": "2023-12-11T18:56:10.646Z"
   },
   {
    "duration": 8,
    "start_time": "2023-12-11T18:56:10.691Z"
   },
   {
    "duration": 8,
    "start_time": "2023-12-11T18:56:10.700Z"
   },
   {
    "duration": 15,
    "start_time": "2023-12-11T18:56:10.709Z"
   },
   {
    "duration": 57,
    "start_time": "2023-12-11T18:56:10.726Z"
   },
   {
    "duration": 8,
    "start_time": "2023-12-11T18:56:10.785Z"
   },
   {
    "duration": 78,
    "start_time": "2023-12-11T18:56:10.794Z"
   },
   {
    "duration": 247,
    "start_time": "2023-12-11T18:56:10.881Z"
   },
   {
    "duration": 96,
    "start_time": "2023-12-11T18:56:11.129Z"
   },
   {
    "duration": 55,
    "start_time": "2023-12-11T18:56:11.227Z"
   },
   {
    "duration": 52,
    "start_time": "2023-12-11T18:56:11.284Z"
   },
   {
    "duration": 7,
    "start_time": "2023-12-11T18:56:11.337Z"
   },
   {
    "duration": 21,
    "start_time": "2023-12-11T18:56:11.345Z"
   },
   {
    "duration": 18,
    "start_time": "2023-12-11T18:56:11.367Z"
   },
   {
    "duration": 6,
    "start_time": "2023-12-11T18:56:11.386Z"
   },
   {
    "duration": 7,
    "start_time": "2023-12-11T18:56:11.394Z"
   },
   {
    "duration": 32,
    "start_time": "2023-12-11T18:56:11.403Z"
   },
   {
    "duration": 4,
    "start_time": "2023-12-11T18:56:11.438Z"
   },
   {
    "duration": 63,
    "start_time": "2023-12-11T18:56:11.447Z"
   },
   {
    "duration": 5,
    "start_time": "2023-12-11T18:56:11.511Z"
   },
   {
    "duration": 10,
    "start_time": "2023-12-11T18:56:11.517Z"
   },
   {
    "duration": 120,
    "start_time": "2023-12-11T18:56:11.528Z"
   },
   {
    "duration": 15,
    "start_time": "2023-12-11T18:56:11.649Z"
   },
   {
    "duration": 16,
    "start_time": "2023-12-11T18:56:11.666Z"
   },
   {
    "duration": 4,
    "start_time": "2023-12-11T18:56:11.683Z"
   },
   {
    "duration": 14,
    "start_time": "2023-12-11T18:56:11.688Z"
   },
   {
    "duration": 6,
    "start_time": "2023-12-11T18:56:11.703Z"
   },
   {
    "duration": 10,
    "start_time": "2023-12-11T18:56:11.710Z"
   },
   {
    "duration": 93,
    "start_time": "2023-12-11T18:56:11.722Z"
   },
   {
    "duration": 8,
    "start_time": "2023-12-11T18:56:11.817Z"
   },
   {
    "duration": 4,
    "start_time": "2023-12-11T18:56:11.827Z"
   },
   {
    "duration": 3,
    "start_time": "2023-12-11T18:56:11.833Z"
   },
   {
    "duration": 45,
    "start_time": "2023-12-11T18:56:11.838Z"
   },
   {
    "duration": 18,
    "start_time": "2023-12-11T18:56:11.884Z"
   },
   {
    "duration": 383,
    "start_time": "2023-12-11T18:56:11.903Z"
   },
   {
    "duration": 6,
    "start_time": "2023-12-11T18:56:12.287Z"
   },
   {
    "duration": 558,
    "start_time": "2023-12-11T18:56:12.295Z"
   },
   {
    "duration": 28,
    "start_time": "2023-12-11T18:56:12.854Z"
   },
   {
    "duration": 426,
    "start_time": "2023-12-11T18:56:12.884Z"
   },
   {
    "duration": 36,
    "start_time": "2023-12-11T18:56:13.312Z"
   },
   {
    "duration": 45,
    "start_time": "2023-12-11T18:56:13.349Z"
   },
   {
    "duration": 21,
    "start_time": "2023-12-11T18:56:13.396Z"
   },
   {
    "duration": 6,
    "start_time": "2023-12-11T18:56:13.419Z"
   },
   {
    "duration": 82,
    "start_time": "2023-12-11T18:56:13.427Z"
   },
   {
    "duration": 76,
    "start_time": "2023-12-11T18:56:38.272Z"
   },
   {
    "duration": 1795,
    "start_time": "2023-12-11T18:58:22.725Z"
   },
   {
    "duration": 1005,
    "start_time": "2023-12-11T18:58:24.522Z"
   },
   {
    "duration": 54,
    "start_time": "2023-12-11T18:58:25.529Z"
   },
   {
    "duration": 9,
    "start_time": "2023-12-11T18:58:25.585Z"
   },
   {
    "duration": 9,
    "start_time": "2023-12-11T18:58:25.596Z"
   },
   {
    "duration": 6,
    "start_time": "2023-12-11T18:58:25.606Z"
   },
   {
    "duration": 12,
    "start_time": "2023-12-11T18:58:25.613Z"
   },
   {
    "duration": 61,
    "start_time": "2023-12-11T18:58:25.626Z"
   },
   {
    "duration": 18,
    "start_time": "2023-12-11T18:58:25.688Z"
   },
   {
    "duration": 18,
    "start_time": "2023-12-11T18:58:25.708Z"
   },
   {
    "duration": 56,
    "start_time": "2023-12-11T18:58:25.727Z"
   },
   {
    "duration": 7,
    "start_time": "2023-12-11T18:58:25.784Z"
   },
   {
    "duration": 20,
    "start_time": "2023-12-11T18:58:25.792Z"
   },
   {
    "duration": 76,
    "start_time": "2023-12-11T18:58:25.813Z"
   },
   {
    "duration": 7,
    "start_time": "2023-12-11T18:58:25.891Z"
   },
   {
    "duration": 129,
    "start_time": "2023-12-11T18:58:25.899Z"
   },
   {
    "duration": 305,
    "start_time": "2023-12-11T18:58:26.029Z"
   },
   {
    "duration": 98,
    "start_time": "2023-12-11T18:58:26.336Z"
   },
   {
    "duration": 49,
    "start_time": "2023-12-11T18:58:26.435Z"
   },
   {
    "duration": 50,
    "start_time": "2023-12-11T18:58:26.486Z"
   },
   {
    "duration": 7,
    "start_time": "2023-12-11T18:58:26.537Z"
   },
   {
    "duration": 24,
    "start_time": "2023-12-11T18:58:26.545Z"
   },
   {
    "duration": 19,
    "start_time": "2023-12-11T18:58:26.570Z"
   },
   {
    "duration": 6,
    "start_time": "2023-12-11T18:58:26.590Z"
   },
   {
    "duration": 7,
    "start_time": "2023-12-11T18:58:26.597Z"
   },
   {
    "duration": 28,
    "start_time": "2023-12-11T18:58:26.606Z"
   },
   {
    "duration": 5,
    "start_time": "2023-12-11T18:58:26.636Z"
   },
   {
    "duration": 50,
    "start_time": "2023-12-11T18:58:26.645Z"
   },
   {
    "duration": 5,
    "start_time": "2023-12-11T18:58:26.697Z"
   },
   {
    "duration": 8,
    "start_time": "2023-12-11T18:58:26.703Z"
   },
   {
    "duration": 137,
    "start_time": "2023-12-11T18:58:26.713Z"
   },
   {
    "duration": 16,
    "start_time": "2023-12-11T18:58:26.851Z"
   },
   {
    "duration": 18,
    "start_time": "2023-12-11T18:58:26.869Z"
   },
   {
    "duration": 9,
    "start_time": "2023-12-11T18:58:26.889Z"
   },
   {
    "duration": 17,
    "start_time": "2023-12-11T18:58:26.899Z"
   },
   {
    "duration": 7,
    "start_time": "2023-12-11T18:58:26.917Z"
   },
   {
    "duration": 15,
    "start_time": "2023-12-11T18:58:26.926Z"
   },
   {
    "duration": 79,
    "start_time": "2023-12-11T18:58:26.942Z"
   },
   {
    "duration": 8,
    "start_time": "2023-12-11T18:58:27.023Z"
   },
   {
    "duration": 4,
    "start_time": "2023-12-11T18:58:27.032Z"
   },
   {
    "duration": 4,
    "start_time": "2023-12-11T18:58:27.037Z"
   },
   {
    "duration": 16,
    "start_time": "2023-12-11T18:58:27.042Z"
   },
   {
    "duration": 17,
    "start_time": "2023-12-11T18:58:27.082Z"
   },
   {
    "duration": 361,
    "start_time": "2023-12-11T18:58:27.100Z"
   },
   {
    "duration": 7,
    "start_time": "2023-12-11T18:58:27.462Z"
   },
   {
    "duration": 572,
    "start_time": "2023-12-11T18:58:27.470Z"
   },
   {
    "duration": 10,
    "start_time": "2023-12-11T18:58:28.044Z"
   },
   {
    "duration": 421,
    "start_time": "2023-12-11T18:58:28.056Z"
   },
   {
    "duration": 37,
    "start_time": "2023-12-11T18:58:28.482Z"
   },
   {
    "duration": 14,
    "start_time": "2023-12-11T18:58:28.520Z"
   },
   {
    "duration": 61,
    "start_time": "2023-12-11T18:58:28.535Z"
   },
   {
    "duration": 8,
    "start_time": "2023-12-11T18:58:28.597Z"
   },
   {
    "duration": 55,
    "start_time": "2023-12-11T18:58:28.606Z"
   },
   {
    "duration": 10,
    "start_time": "2023-12-11T19:08:06.092Z"
   },
   {
    "duration": 1118,
    "start_time": "2023-12-11T19:09:06.812Z"
   },
   {
    "duration": 1140,
    "start_time": "2023-12-11T19:09:07.983Z"
   },
   {
    "duration": 11,
    "start_time": "2023-12-11T19:09:09.125Z"
   },
   {
    "duration": 15,
    "start_time": "2023-12-11T19:09:09.137Z"
   },
   {
    "duration": 29,
    "start_time": "2023-12-11T19:09:09.155Z"
   },
   {
    "duration": 7,
    "start_time": "2023-12-11T19:09:09.186Z"
   },
   {
    "duration": 13,
    "start_time": "2023-12-11T19:09:09.194Z"
   },
   {
    "duration": 8,
    "start_time": "2023-12-11T19:09:09.208Z"
   },
   {
    "duration": 15,
    "start_time": "2023-12-11T19:09:09.218Z"
   },
   {
    "duration": 44,
    "start_time": "2023-12-11T19:09:09.235Z"
   },
   {
    "duration": 6,
    "start_time": "2023-12-11T19:09:09.280Z"
   },
   {
    "duration": 10,
    "start_time": "2023-12-11T19:09:09.288Z"
   },
   {
    "duration": 14,
    "start_time": "2023-12-11T19:09:09.300Z"
   },
   {
    "duration": 28,
    "start_time": "2023-12-11T19:09:09.316Z"
   },
   {
    "duration": 8,
    "start_time": "2023-12-11T19:09:09.346Z"
   },
   {
    "duration": 87,
    "start_time": "2023-12-11T19:09:09.355Z"
   },
   {
    "duration": 258,
    "start_time": "2023-12-11T19:09:09.443Z"
   },
   {
    "duration": 103,
    "start_time": "2023-12-11T19:09:09.703Z"
   },
   {
    "duration": 46,
    "start_time": "2023-12-11T19:09:09.807Z"
   },
   {
    "duration": 70,
    "start_time": "2023-12-11T19:09:09.855Z"
   },
   {
    "duration": 6,
    "start_time": "2023-12-11T19:09:09.927Z"
   },
   {
    "duration": 12,
    "start_time": "2023-12-11T19:09:09.934Z"
   },
   {
    "duration": 9,
    "start_time": "2023-12-11T19:09:09.947Z"
   },
   {
    "duration": 26,
    "start_time": "2023-12-11T19:09:09.957Z"
   },
   {
    "duration": 11,
    "start_time": "2023-12-11T19:09:09.984Z"
   },
   {
    "duration": 29,
    "start_time": "2023-12-11T19:09:09.996Z"
   },
   {
    "duration": 10,
    "start_time": "2023-12-11T19:09:10.027Z"
   },
   {
    "duration": 38,
    "start_time": "2023-12-11T19:09:10.038Z"
   },
   {
    "duration": 6,
    "start_time": "2023-12-11T19:09:10.077Z"
   },
   {
    "duration": 13,
    "start_time": "2023-12-11T19:09:10.084Z"
   },
   {
    "duration": 125,
    "start_time": "2023-12-11T19:09:10.098Z"
   },
   {
    "duration": 17,
    "start_time": "2023-12-11T19:09:10.224Z"
   },
   {
    "duration": 9,
    "start_time": "2023-12-11T19:09:10.242Z"
   },
   {
    "duration": 5,
    "start_time": "2023-12-11T19:09:10.252Z"
   },
   {
    "duration": 39,
    "start_time": "2023-12-11T19:09:10.259Z"
   },
   {
    "duration": 11,
    "start_time": "2023-12-11T19:09:10.300Z"
   },
   {
    "duration": 6,
    "start_time": "2023-12-11T19:09:10.312Z"
   },
   {
    "duration": 12,
    "start_time": "2023-12-11T19:09:10.319Z"
   },
   {
    "duration": 91,
    "start_time": "2023-12-11T19:09:10.332Z"
   },
   {
    "duration": 8,
    "start_time": "2023-12-11T19:09:10.424Z"
   },
   {
    "duration": 4,
    "start_time": "2023-12-11T19:09:10.435Z"
   },
   {
    "duration": 17,
    "start_time": "2023-12-11T19:09:10.441Z"
   },
   {
    "duration": 27,
    "start_time": "2023-12-11T19:09:10.460Z"
   },
   {
    "duration": 18,
    "start_time": "2023-12-11T19:09:10.488Z"
   },
   {
    "duration": 344,
    "start_time": "2023-12-11T19:09:10.507Z"
   },
   {
    "duration": 7,
    "start_time": "2023-12-11T19:09:10.853Z"
   },
   {
    "duration": 571,
    "start_time": "2023-12-11T19:09:10.861Z"
   },
   {
    "duration": 14,
    "start_time": "2023-12-11T19:09:11.433Z"
   },
   {
    "duration": 459,
    "start_time": "2023-12-11T19:09:11.449Z"
   },
   {
    "duration": 34,
    "start_time": "2023-12-11T19:09:11.910Z"
   },
   {
    "duration": 37,
    "start_time": "2023-12-11T19:09:11.945Z"
   },
   {
    "duration": 22,
    "start_time": "2023-12-11T19:09:11.983Z"
   },
   {
    "duration": 7,
    "start_time": "2023-12-11T19:09:12.006Z"
   },
   {
    "duration": 107,
    "start_time": "2023-12-11T19:09:12.015Z"
   },
   {
    "duration": 5,
    "start_time": "2023-12-11T19:09:38.290Z"
   },
   {
    "duration": 13,
    "start_time": "2023-12-11T19:10:51.490Z"
   },
   {
    "duration": 11,
    "start_time": "2023-12-11T19:11:33.935Z"
   },
   {
    "duration": 1151,
    "start_time": "2023-12-11T19:13:16.463Z"
   },
   {
    "duration": 570,
    "start_time": "2023-12-11T19:13:17.615Z"
   },
   {
    "duration": 12,
    "start_time": "2023-12-11T19:13:18.186Z"
   },
   {
    "duration": 11,
    "start_time": "2023-12-11T19:13:18.200Z"
   },
   {
    "duration": 5,
    "start_time": "2023-12-11T19:13:18.212Z"
   },
   {
    "duration": 6,
    "start_time": "2023-12-11T19:13:18.219Z"
   },
   {
    "duration": 13,
    "start_time": "2023-12-11T19:13:18.226Z"
   },
   {
    "duration": 9,
    "start_time": "2023-12-11T19:13:18.240Z"
   },
   {
    "duration": 35,
    "start_time": "2023-12-11T19:13:18.250Z"
   },
   {
    "duration": 22,
    "start_time": "2023-12-11T19:13:18.287Z"
   },
   {
    "duration": 8,
    "start_time": "2023-12-11T19:13:18.311Z"
   },
   {
    "duration": 18,
    "start_time": "2023-12-11T19:13:18.321Z"
   },
   {
    "duration": 21,
    "start_time": "2023-12-11T19:13:18.341Z"
   },
   {
    "duration": 37,
    "start_time": "2023-12-11T19:13:18.363Z"
   },
   {
    "duration": 7,
    "start_time": "2023-12-11T19:13:18.402Z"
   },
   {
    "duration": 75,
    "start_time": "2023-12-11T19:13:18.411Z"
   },
   {
    "duration": 285,
    "start_time": "2023-12-11T19:13:18.487Z"
   },
   {
    "duration": 110,
    "start_time": "2023-12-11T19:13:18.774Z"
   },
   {
    "duration": 44,
    "start_time": "2023-12-11T19:13:18.885Z"
   },
   {
    "duration": 62,
    "start_time": "2023-12-11T19:13:18.930Z"
   },
   {
    "duration": 6,
    "start_time": "2023-12-11T19:13:18.994Z"
   },
   {
    "duration": 10,
    "start_time": "2023-12-11T19:13:19.001Z"
   },
   {
    "duration": 20,
    "start_time": "2023-12-11T19:13:19.012Z"
   },
   {
    "duration": 6,
    "start_time": "2023-12-11T19:13:19.033Z"
   },
   {
    "duration": 20,
    "start_time": "2023-12-11T19:13:19.040Z"
   },
   {
    "duration": 40,
    "start_time": "2023-12-11T19:13:19.061Z"
   },
   {
    "duration": 4,
    "start_time": "2023-12-11T19:13:19.103Z"
   },
   {
    "duration": 23,
    "start_time": "2023-12-11T19:13:19.110Z"
   },
   {
    "duration": 5,
    "start_time": "2023-12-11T19:13:19.134Z"
   },
   {
    "duration": 15,
    "start_time": "2023-12-11T19:13:19.141Z"
   },
   {
    "duration": 132,
    "start_time": "2023-12-11T19:13:19.158Z"
   },
   {
    "duration": 15,
    "start_time": "2023-12-11T19:13:19.292Z"
   },
   {
    "duration": 9,
    "start_time": "2023-12-11T19:13:19.308Z"
   },
   {
    "duration": 21,
    "start_time": "2023-12-11T19:13:19.318Z"
   },
   {
    "duration": 16,
    "start_time": "2023-12-11T19:13:19.340Z"
   },
   {
    "duration": 11,
    "start_time": "2023-12-11T19:13:19.357Z"
   },
   {
    "duration": 16,
    "start_time": "2023-12-11T19:13:19.369Z"
   },
   {
    "duration": 20,
    "start_time": "2023-12-11T19:13:19.387Z"
   },
   {
    "duration": 91,
    "start_time": "2023-12-11T19:13:19.409Z"
   },
   {
    "duration": 9,
    "start_time": "2023-12-11T19:13:19.501Z"
   },
   {
    "duration": 4,
    "start_time": "2023-12-11T19:13:19.512Z"
   },
   {
    "duration": 13,
    "start_time": "2023-12-11T19:13:19.518Z"
   },
   {
    "duration": 18,
    "start_time": "2023-12-11T19:13:19.532Z"
   },
   {
    "duration": 32,
    "start_time": "2023-12-11T19:13:19.551Z"
   },
   {
    "duration": 380,
    "start_time": "2023-12-11T19:13:19.584Z"
   },
   {
    "duration": 6,
    "start_time": "2023-12-11T19:13:19.965Z"
   },
   {
    "duration": 524,
    "start_time": "2023-12-11T19:13:19.972Z"
   },
   {
    "duration": 11,
    "start_time": "2023-12-11T19:13:20.497Z"
   },
   {
    "duration": 429,
    "start_time": "2023-12-11T19:13:20.509Z"
   },
   {
    "duration": 64,
    "start_time": "2023-12-11T19:13:20.939Z"
   },
   {
    "duration": 14,
    "start_time": "2023-12-11T19:13:21.004Z"
   },
   {
    "duration": 20,
    "start_time": "2023-12-11T19:13:21.019Z"
   },
   {
    "duration": 6,
    "start_time": "2023-12-11T19:13:21.041Z"
   },
   {
    "duration": 78,
    "start_time": "2023-12-11T19:13:21.049Z"
   },
   {
    "duration": 1121,
    "start_time": "2023-12-11T19:13:39.118Z"
   },
   {
    "duration": 869,
    "start_time": "2023-12-11T19:13:40.241Z"
   },
   {
    "duration": 12,
    "start_time": "2023-12-11T19:13:41.111Z"
   },
   {
    "duration": 61,
    "start_time": "2023-12-11T19:13:41.125Z"
   },
   {
    "duration": 8,
    "start_time": "2023-12-11T19:13:41.188Z"
   },
   {
    "duration": 12,
    "start_time": "2023-12-11T19:13:41.198Z"
   },
   {
    "duration": 22,
    "start_time": "2023-12-11T19:13:41.212Z"
   },
   {
    "duration": 52,
    "start_time": "2023-12-11T19:13:41.236Z"
   },
   {
    "duration": 7,
    "start_time": "2023-12-11T19:13:41.289Z"
   },
   {
    "duration": 19,
    "start_time": "2023-12-11T19:13:41.298Z"
   },
   {
    "duration": 6,
    "start_time": "2023-12-11T19:13:41.318Z"
   },
   {
    "duration": 7,
    "start_time": "2023-12-11T19:13:41.382Z"
   },
   {
    "duration": 14,
    "start_time": "2023-12-11T19:13:41.390Z"
   },
   {
    "duration": 83,
    "start_time": "2023-12-11T19:13:41.405Z"
   },
   {
    "duration": 8,
    "start_time": "2023-12-11T19:13:41.490Z"
   },
   {
    "duration": 123,
    "start_time": "2023-12-11T19:13:41.499Z"
   },
   {
    "duration": 590,
    "start_time": "2023-12-11T19:13:41.624Z"
   },
   {
    "duration": 176,
    "start_time": "2023-12-11T19:13:42.215Z"
   },
   {
    "duration": 42,
    "start_time": "2023-12-11T19:13:42.393Z"
   },
   {
    "duration": 67,
    "start_time": "2023-12-11T19:13:42.436Z"
   },
   {
    "duration": 9,
    "start_time": "2023-12-11T19:13:42.504Z"
   },
   {
    "duration": 17,
    "start_time": "2023-12-11T19:13:42.515Z"
   },
   {
    "duration": 12,
    "start_time": "2023-12-11T19:13:42.533Z"
   },
   {
    "duration": 8,
    "start_time": "2023-12-11T19:13:42.547Z"
   },
   {
    "duration": 9,
    "start_time": "2023-12-11T19:13:42.582Z"
   },
   {
    "duration": 39,
    "start_time": "2023-12-11T19:13:42.593Z"
   },
   {
    "duration": 5,
    "start_time": "2023-12-11T19:13:42.633Z"
   },
   {
    "duration": 41,
    "start_time": "2023-12-11T19:13:42.642Z"
   },
   {
    "duration": 6,
    "start_time": "2023-12-11T19:13:42.684Z"
   },
   {
    "duration": 9,
    "start_time": "2023-12-11T19:13:42.691Z"
   },
   {
    "duration": 129,
    "start_time": "2023-12-11T19:13:42.701Z"
   },
   {
    "duration": 15,
    "start_time": "2023-12-11T19:13:42.832Z"
   },
   {
    "duration": 8,
    "start_time": "2023-12-11T19:13:42.848Z"
   },
   {
    "duration": 25,
    "start_time": "2023-12-11T19:13:42.857Z"
   },
   {
    "duration": 25,
    "start_time": "2023-12-11T19:13:42.883Z"
   },
   {
    "duration": 11,
    "start_time": "2023-12-11T19:13:42.910Z"
   },
   {
    "duration": 7,
    "start_time": "2023-12-11T19:13:42.922Z"
   },
   {
    "duration": 10,
    "start_time": "2023-12-11T19:13:42.930Z"
   },
   {
    "duration": 99,
    "start_time": "2023-12-11T19:13:42.941Z"
   },
   {
    "duration": 12,
    "start_time": "2023-12-11T19:13:43.041Z"
   },
   {
    "duration": 4,
    "start_time": "2023-12-11T19:13:43.054Z"
   },
   {
    "duration": 24,
    "start_time": "2023-12-11T19:13:43.060Z"
   },
   {
    "duration": 19,
    "start_time": "2023-12-11T19:13:43.086Z"
   },
   {
    "duration": 27,
    "start_time": "2023-12-11T19:13:43.106Z"
   },
   {
    "duration": 397,
    "start_time": "2023-12-11T19:13:43.134Z"
   },
   {
    "duration": 6,
    "start_time": "2023-12-11T19:13:43.533Z"
   },
   {
    "duration": 537,
    "start_time": "2023-12-11T19:13:43.541Z"
   },
   {
    "duration": 11,
    "start_time": "2023-12-11T19:13:44.081Z"
   },
   {
    "duration": 430,
    "start_time": "2023-12-11T19:13:44.094Z"
   },
   {
    "duration": 62,
    "start_time": "2023-12-11T19:13:44.526Z"
   },
   {
    "duration": 14,
    "start_time": "2023-12-11T19:13:44.590Z"
   },
   {
    "duration": 22,
    "start_time": "2023-12-11T19:13:44.605Z"
   },
   {
    "duration": 6,
    "start_time": "2023-12-11T19:13:44.629Z"
   },
   {
    "duration": 82,
    "start_time": "2023-12-11T19:13:44.636Z"
   },
   {
    "duration": 1216,
    "start_time": "2023-12-11T19:14:00.708Z"
   },
   {
    "duration": 581,
    "start_time": "2023-12-11T19:14:01.926Z"
   },
   {
    "duration": 13,
    "start_time": "2023-12-11T19:14:02.509Z"
   },
   {
    "duration": 10,
    "start_time": "2023-12-11T19:14:02.523Z"
   },
   {
    "duration": 5,
    "start_time": "2023-12-11T19:14:02.536Z"
   },
   {
    "duration": 6,
    "start_time": "2023-12-11T19:14:02.543Z"
   },
   {
    "duration": 31,
    "start_time": "2023-12-11T19:14:02.551Z"
   },
   {
    "duration": 9,
    "start_time": "2023-12-11T19:14:02.584Z"
   },
   {
    "duration": 8,
    "start_time": "2023-12-11T19:14:02.595Z"
   },
   {
    "duration": 31,
    "start_time": "2023-12-11T19:14:02.605Z"
   },
   {
    "duration": 9,
    "start_time": "2023-12-11T19:14:02.637Z"
   },
   {
    "duration": 36,
    "start_time": "2023-12-11T19:14:02.647Z"
   },
   {
    "duration": 12,
    "start_time": "2023-12-11T19:14:02.685Z"
   },
   {
    "duration": 24,
    "start_time": "2023-12-11T19:14:02.699Z"
   },
   {
    "duration": 7,
    "start_time": "2023-12-11T19:14:02.724Z"
   },
   {
    "duration": 91,
    "start_time": "2023-12-11T19:14:02.733Z"
   },
   {
    "duration": 255,
    "start_time": "2023-12-11T19:14:02.826Z"
   },
   {
    "duration": 108,
    "start_time": "2023-12-11T19:14:03.082Z"
   },
   {
    "duration": 41,
    "start_time": "2023-12-11T19:14:03.192Z"
   },
   {
    "duration": 76,
    "start_time": "2023-12-11T19:14:03.235Z"
   },
   {
    "duration": 7,
    "start_time": "2023-12-11T19:14:03.312Z"
   },
   {
    "duration": 62,
    "start_time": "2023-12-11T19:14:03.320Z"
   },
   {
    "duration": 15,
    "start_time": "2023-12-11T19:14:03.384Z"
   },
   {
    "duration": 6,
    "start_time": "2023-12-11T19:14:03.401Z"
   },
   {
    "duration": 9,
    "start_time": "2023-12-11T19:14:03.408Z"
   },
   {
    "duration": 85,
    "start_time": "2023-12-11T19:14:03.418Z"
   },
   {
    "duration": 7,
    "start_time": "2023-12-11T19:14:03.504Z"
   },
   {
    "duration": 78,
    "start_time": "2023-12-11T19:14:03.512Z"
   },
   {
    "duration": 5,
    "start_time": "2023-12-11T19:14:03.591Z"
   },
   {
    "duration": 32,
    "start_time": "2023-12-11T19:14:03.598Z"
   },
   {
    "duration": 266,
    "start_time": "2023-12-11T19:14:03.632Z"
   },
   {
    "duration": 16,
    "start_time": "2023-12-11T19:14:03.900Z"
   },
   {
    "duration": 64,
    "start_time": "2023-12-11T19:14:03.918Z"
   },
   {
    "duration": 5,
    "start_time": "2023-12-11T19:14:03.983Z"
   },
   {
    "duration": 31,
    "start_time": "2023-12-11T19:14:03.989Z"
   },
   {
    "duration": 72,
    "start_time": "2023-12-11T19:14:04.022Z"
   },
   {
    "duration": 10,
    "start_time": "2023-12-11T19:14:04.096Z"
   },
   {
    "duration": 6,
    "start_time": "2023-12-11T19:14:04.107Z"
   },
   {
    "duration": 9,
    "start_time": "2023-12-11T19:14:04.114Z"
   },
   {
    "duration": 176,
    "start_time": "2023-12-11T19:14:04.124Z"
   },
   {
    "duration": 8,
    "start_time": "2023-12-11T19:14:04.303Z"
   },
   {
    "duration": 4,
    "start_time": "2023-12-11T19:14:04.313Z"
   },
   {
    "duration": 6,
    "start_time": "2023-12-11T19:14:04.318Z"
   },
   {
    "duration": 68,
    "start_time": "2023-12-11T19:14:04.325Z"
   },
   {
    "duration": 25,
    "start_time": "2023-12-11T19:14:04.395Z"
   },
   {
    "duration": 545,
    "start_time": "2023-12-11T19:14:04.422Z"
   },
   {
    "duration": 6,
    "start_time": "2023-12-11T19:14:04.968Z"
   },
   {
    "duration": 530,
    "start_time": "2023-12-11T19:14:04.976Z"
   },
   {
    "duration": 11,
    "start_time": "2023-12-11T19:14:05.508Z"
   },
   {
    "duration": 442,
    "start_time": "2023-12-11T19:14:05.520Z"
   },
   {
    "duration": 43,
    "start_time": "2023-12-11T19:14:05.963Z"
   },
   {
    "duration": 14,
    "start_time": "2023-12-11T19:14:06.007Z"
   },
   {
    "duration": 27,
    "start_time": "2023-12-11T19:14:06.022Z"
   },
   {
    "duration": 33,
    "start_time": "2023-12-11T19:14:06.051Z"
   },
   {
    "duration": 64,
    "start_time": "2023-12-11T19:14:06.086Z"
   },
   {
    "duration": 1167,
    "start_time": "2023-12-11T19:16:12.666Z"
   },
   {
    "duration": 552,
    "start_time": "2023-12-11T19:16:13.835Z"
   },
   {
    "duration": 11,
    "start_time": "2023-12-11T19:16:14.389Z"
   },
   {
    "duration": 15,
    "start_time": "2023-12-11T19:16:14.402Z"
   },
   {
    "duration": 13,
    "start_time": "2023-12-11T19:16:14.419Z"
   },
   {
    "duration": 4,
    "start_time": "2023-12-11T19:16:14.433Z"
   },
   {
    "duration": 14,
    "start_time": "2023-12-11T19:16:14.438Z"
   },
   {
    "duration": 7,
    "start_time": "2023-12-11T19:16:14.453Z"
   },
   {
    "duration": 22,
    "start_time": "2023-12-11T19:16:14.462Z"
   },
   {
    "duration": 27,
    "start_time": "2023-12-11T19:16:14.486Z"
   },
   {
    "duration": 16,
    "start_time": "2023-12-11T19:16:14.514Z"
   },
   {
    "duration": 14,
    "start_time": "2023-12-11T19:16:14.531Z"
   },
   {
    "duration": 12,
    "start_time": "2023-12-11T19:16:14.547Z"
   },
   {
    "duration": 28,
    "start_time": "2023-12-11T19:16:14.561Z"
   },
   {
    "duration": 8,
    "start_time": "2023-12-11T19:16:14.591Z"
   },
   {
    "duration": 92,
    "start_time": "2023-12-11T19:16:14.600Z"
   },
   {
    "duration": 258,
    "start_time": "2023-12-11T19:16:14.693Z"
   },
   {
    "duration": 98,
    "start_time": "2023-12-11T19:16:14.953Z"
   },
   {
    "duration": 51,
    "start_time": "2023-12-11T19:16:15.053Z"
   },
   {
    "duration": 72,
    "start_time": "2023-12-11T19:16:15.105Z"
   },
   {
    "duration": 6,
    "start_time": "2023-12-11T19:16:15.179Z"
   },
   {
    "duration": 10,
    "start_time": "2023-12-11T19:16:15.186Z"
   },
   {
    "duration": 10,
    "start_time": "2023-12-11T19:16:15.197Z"
   },
   {
    "duration": 8,
    "start_time": "2023-12-11T19:16:15.209Z"
   },
   {
    "duration": 14,
    "start_time": "2023-12-11T19:16:15.219Z"
   },
   {
    "duration": 31,
    "start_time": "2023-12-11T19:16:15.234Z"
   },
   {
    "duration": 5,
    "start_time": "2023-12-11T19:16:15.282Z"
   },
   {
    "duration": 28,
    "start_time": "2023-12-11T19:16:15.290Z"
   },
   {
    "duration": 5,
    "start_time": "2023-12-11T19:16:15.320Z"
   },
   {
    "duration": 12,
    "start_time": "2023-12-11T19:16:15.326Z"
   },
   {
    "duration": 123,
    "start_time": "2023-12-11T19:16:15.340Z"
   },
   {
    "duration": 22,
    "start_time": "2023-12-11T19:16:15.464Z"
   },
   {
    "duration": 9,
    "start_time": "2023-12-11T19:16:15.488Z"
   },
   {
    "duration": 5,
    "start_time": "2023-12-11T19:16:15.498Z"
   },
   {
    "duration": 17,
    "start_time": "2023-12-11T19:16:15.504Z"
   },
   {
    "duration": 22,
    "start_time": "2023-12-11T19:16:15.523Z"
   },
   {
    "duration": 36,
    "start_time": "2023-12-11T19:16:15.546Z"
   },
   {
    "duration": 6,
    "start_time": "2023-12-11T19:16:15.583Z"
   },
   {
    "duration": 5,
    "start_time": "2023-12-11T19:16:15.591Z"
   },
   {
    "duration": 72,
    "start_time": "2023-12-11T19:16:15.598Z"
   },
   {
    "duration": 16,
    "start_time": "2023-12-11T19:16:15.671Z"
   },
   {
    "duration": 5,
    "start_time": "2023-12-11T19:16:15.689Z"
   },
   {
    "duration": 3,
    "start_time": "2023-12-11T19:16:15.695Z"
   },
   {
    "duration": 17,
    "start_time": "2023-12-11T19:16:15.699Z"
   },
   {
    "duration": 14,
    "start_time": "2023-12-11T19:16:15.718Z"
   },
   {
    "duration": 390,
    "start_time": "2023-12-11T19:16:15.733Z"
   },
   {
    "duration": 7,
    "start_time": "2023-12-11T19:16:16.124Z"
   },
   {
    "duration": 433,
    "start_time": "2023-12-11T19:16:16.132Z"
   },
   {
    "duration": 17,
    "start_time": "2023-12-11T19:16:16.566Z"
   },
   {
    "duration": 338,
    "start_time": "2023-12-11T19:16:16.584Z"
   },
   {
    "duration": 72,
    "start_time": "2023-12-11T19:16:16.923Z"
   },
   {
    "duration": 13,
    "start_time": "2023-12-11T19:16:16.996Z"
   },
   {
    "duration": 19,
    "start_time": "2023-12-11T19:16:17.010Z"
   },
   {
    "duration": 7,
    "start_time": "2023-12-11T19:16:17.031Z"
   },
   {
    "duration": 76,
    "start_time": "2023-12-11T19:16:17.039Z"
   },
   {
    "duration": 1156,
    "start_time": "2023-12-11T19:18:50.171Z"
   },
   {
    "duration": 594,
    "start_time": "2023-12-11T19:18:51.328Z"
   },
   {
    "duration": 11,
    "start_time": "2023-12-11T19:18:51.926Z"
   },
   {
    "duration": 9,
    "start_time": "2023-12-11T19:18:51.939Z"
   },
   {
    "duration": 8,
    "start_time": "2023-12-11T19:18:51.949Z"
   },
   {
    "duration": 29,
    "start_time": "2023-12-11T19:18:51.958Z"
   },
   {
    "duration": 23,
    "start_time": "2023-12-11T19:18:51.988Z"
   },
   {
    "duration": 15,
    "start_time": "2023-12-11T19:18:52.012Z"
   },
   {
    "duration": 14,
    "start_time": "2023-12-11T19:18:52.030Z"
   },
   {
    "duration": 31,
    "start_time": "2023-12-11T19:18:52.045Z"
   },
   {
    "duration": 7,
    "start_time": "2023-12-11T19:18:52.077Z"
   },
   {
    "duration": 10,
    "start_time": "2023-12-11T19:18:52.085Z"
   },
   {
    "duration": 15,
    "start_time": "2023-12-11T19:18:52.097Z"
   },
   {
    "duration": 38,
    "start_time": "2023-12-11T19:18:52.114Z"
   },
   {
    "duration": 29,
    "start_time": "2023-12-11T19:18:52.154Z"
   },
   {
    "duration": 72,
    "start_time": "2023-12-11T19:18:52.184Z"
   },
   {
    "duration": 270,
    "start_time": "2023-12-11T19:18:52.257Z"
   },
   {
    "duration": 105,
    "start_time": "2023-12-11T19:18:52.529Z"
   },
   {
    "duration": 49,
    "start_time": "2023-12-11T19:18:52.636Z"
   },
   {
    "duration": 55,
    "start_time": "2023-12-11T19:18:52.686Z"
   },
   {
    "duration": 7,
    "start_time": "2023-12-11T19:18:52.743Z"
   },
   {
    "duration": 33,
    "start_time": "2023-12-11T19:18:52.752Z"
   },
   {
    "duration": 10,
    "start_time": "2023-12-11T19:18:52.786Z"
   },
   {
    "duration": 6,
    "start_time": "2023-12-11T19:18:52.797Z"
   },
   {
    "duration": 12,
    "start_time": "2023-12-11T19:18:52.804Z"
   },
   {
    "duration": 32,
    "start_time": "2023-12-11T19:18:52.818Z"
   },
   {
    "duration": 4,
    "start_time": "2023-12-11T19:18:52.853Z"
   },
   {
    "duration": 26,
    "start_time": "2023-12-11T19:18:52.882Z"
   },
   {
    "duration": 5,
    "start_time": "2023-12-11T19:18:52.909Z"
   },
   {
    "duration": 11,
    "start_time": "2023-12-11T19:18:52.915Z"
   },
   {
    "duration": 128,
    "start_time": "2023-12-11T19:18:52.928Z"
   },
   {
    "duration": 17,
    "start_time": "2023-12-11T19:18:53.057Z"
   },
   {
    "duration": 17,
    "start_time": "2023-12-11T19:18:53.076Z"
   },
   {
    "duration": 5,
    "start_time": "2023-12-11T19:18:53.094Z"
   },
   {
    "duration": 15,
    "start_time": "2023-12-11T19:18:53.101Z"
   },
   {
    "duration": 22,
    "start_time": "2023-12-11T19:18:53.118Z"
   },
   {
    "duration": 6,
    "start_time": "2023-12-11T19:18:53.142Z"
   },
   {
    "duration": 35,
    "start_time": "2023-12-11T19:18:53.152Z"
   },
   {
    "duration": 78,
    "start_time": "2023-12-11T19:18:53.188Z"
   },
   {
    "duration": 20,
    "start_time": "2023-12-11T19:18:53.268Z"
   },
   {
    "duration": 4,
    "start_time": "2023-12-11T19:18:53.289Z"
   },
   {
    "duration": 12,
    "start_time": "2023-12-11T19:18:53.294Z"
   },
   {
    "duration": 18,
    "start_time": "2023-12-11T19:18:53.307Z"
   },
   {
    "duration": 15,
    "start_time": "2023-12-11T19:18:53.326Z"
   },
   {
    "duration": 363,
    "start_time": "2023-12-11T19:18:53.342Z"
   },
   {
    "duration": 6,
    "start_time": "2023-12-11T19:18:53.707Z"
   },
   {
    "duration": 501,
    "start_time": "2023-12-11T19:18:53.715Z"
   },
   {
    "duration": 65,
    "start_time": "2023-12-11T19:18:54.218Z"
   },
   {
    "duration": 614,
    "start_time": "2023-12-11T19:18:54.285Z"
   },
   {
    "duration": 91,
    "start_time": "2023-12-11T19:18:54.900Z"
   },
   {
    "duration": 13,
    "start_time": "2023-12-11T19:18:54.992Z"
   },
   {
    "duration": 79,
    "start_time": "2023-12-11T19:18:55.006Z"
   },
   {
    "duration": 7,
    "start_time": "2023-12-11T19:18:55.086Z"
   },
   {
    "duration": 101,
    "start_time": "2023-12-11T19:18:55.095Z"
   },
   {
    "duration": 19,
    "start_time": "2023-12-11T19:19:55.234Z"
   },
   {
    "duration": 6,
    "start_time": "2023-12-11T19:20:44.758Z"
   },
   {
    "duration": 1588,
    "start_time": "2023-12-11T19:22:16.501Z"
   },
   {
    "duration": 1114,
    "start_time": "2023-12-11T19:22:18.091Z"
   },
   {
    "duration": 10,
    "start_time": "2023-12-11T19:22:19.207Z"
   },
   {
    "duration": 8,
    "start_time": "2023-12-11T19:22:19.219Z"
   },
   {
    "duration": 54,
    "start_time": "2023-12-11T19:22:19.229Z"
   },
   {
    "duration": 4,
    "start_time": "2023-12-11T19:22:19.284Z"
   },
   {
    "duration": 12,
    "start_time": "2023-12-11T19:22:19.289Z"
   },
   {
    "duration": 7,
    "start_time": "2023-12-11T19:22:19.303Z"
   },
   {
    "duration": 11,
    "start_time": "2023-12-11T19:22:19.311Z"
   },
   {
    "duration": 66,
    "start_time": "2023-12-11T19:22:19.324Z"
   },
   {
    "duration": 6,
    "start_time": "2023-12-11T19:22:19.392Z"
   },
   {
    "duration": 7,
    "start_time": "2023-12-11T19:22:19.400Z"
   },
   {
    "duration": 14,
    "start_time": "2023-12-11T19:22:19.408Z"
   },
   {
    "duration": 25,
    "start_time": "2023-12-11T19:22:19.481Z"
   },
   {
    "duration": 8,
    "start_time": "2023-12-11T19:22:19.507Z"
   },
   {
    "duration": 186,
    "start_time": "2023-12-11T19:22:19.516Z"
   },
   {
    "duration": 320,
    "start_time": "2023-12-11T19:22:19.703Z"
   },
   {
    "duration": 97,
    "start_time": "2023-12-11T19:22:20.024Z"
   },
   {
    "duration": 42,
    "start_time": "2023-12-11T19:22:20.122Z"
   },
   {
    "duration": 87,
    "start_time": "2023-12-11T19:22:20.165Z"
   },
   {
    "duration": 6,
    "start_time": "2023-12-11T19:22:20.254Z"
   },
   {
    "duration": 46,
    "start_time": "2023-12-11T19:22:20.261Z"
   },
   {
    "duration": 25,
    "start_time": "2023-12-11T19:22:20.309Z"
   },
   {
    "duration": 16,
    "start_time": "2023-12-11T19:22:20.335Z"
   },
   {
    "duration": 63,
    "start_time": "2023-12-11T19:22:20.352Z"
   },
   {
    "duration": 43,
    "start_time": "2023-12-11T19:22:20.416Z"
   },
   {
    "duration": 5,
    "start_time": "2023-12-11T19:22:20.460Z"
   },
   {
    "duration": 38,
    "start_time": "2023-12-11T19:22:20.466Z"
   },
   {
    "duration": 11,
    "start_time": "2023-12-11T19:22:20.505Z"
   },
   {
    "duration": 52,
    "start_time": "2023-12-11T19:22:20.517Z"
   },
   {
    "duration": 134,
    "start_time": "2023-12-11T19:22:20.571Z"
   },
   {
    "duration": 17,
    "start_time": "2023-12-11T19:22:20.706Z"
   },
   {
    "duration": 37,
    "start_time": "2023-12-11T19:22:20.724Z"
   },
   {
    "duration": 12,
    "start_time": "2023-12-11T19:22:20.762Z"
   },
   {
    "duration": 14,
    "start_time": "2023-12-11T19:22:20.775Z"
   },
   {
    "duration": 19,
    "start_time": "2023-12-11T19:22:20.791Z"
   },
   {
    "duration": 5,
    "start_time": "2023-12-11T19:22:20.812Z"
   },
   {
    "duration": 8,
    "start_time": "2023-12-11T19:22:20.819Z"
   },
   {
    "duration": 15,
    "start_time": "2023-12-11T19:22:20.828Z"
   },
   {
    "duration": 81,
    "start_time": "2023-12-11T19:22:20.845Z"
   },
   {
    "duration": 7,
    "start_time": "2023-12-11T19:22:20.930Z"
   },
   {
    "duration": 18,
    "start_time": "2023-12-11T19:22:20.938Z"
   },
   {
    "duration": 20,
    "start_time": "2023-12-11T19:22:20.957Z"
   },
   {
    "duration": 19,
    "start_time": "2023-12-11T19:22:20.978Z"
   },
   {
    "duration": 30,
    "start_time": "2023-12-11T19:22:20.999Z"
   },
   {
    "duration": 360,
    "start_time": "2023-12-11T19:22:21.030Z"
   },
   {
    "duration": 7,
    "start_time": "2023-12-11T19:22:21.391Z"
   },
   {
    "duration": 505,
    "start_time": "2023-12-11T19:22:21.399Z"
   },
   {
    "duration": 10,
    "start_time": "2023-12-11T19:22:21.905Z"
   },
   {
    "duration": 326,
    "start_time": "2023-12-11T19:22:21.916Z"
   },
   {
    "duration": 55,
    "start_time": "2023-12-11T19:22:22.243Z"
   },
   {
    "duration": 11,
    "start_time": "2023-12-11T19:22:22.300Z"
   },
   {
    "duration": 18,
    "start_time": "2023-12-11T19:22:22.313Z"
   },
   {
    "duration": 6,
    "start_time": "2023-12-11T19:22:22.332Z"
   },
   {
    "duration": 68,
    "start_time": "2023-12-11T19:22:22.339Z"
   },
   {
    "duration": 1098,
    "start_time": "2023-12-11T19:25:01.539Z"
   },
   {
    "duration": 887,
    "start_time": "2023-12-11T19:25:02.638Z"
   },
   {
    "duration": 56,
    "start_time": "2023-12-11T19:25:03.527Z"
   },
   {
    "duration": 10,
    "start_time": "2023-12-11T19:25:03.584Z"
   },
   {
    "duration": 4,
    "start_time": "2023-12-11T19:25:03.596Z"
   },
   {
    "duration": 7,
    "start_time": "2023-12-11T19:25:03.601Z"
   },
   {
    "duration": 11,
    "start_time": "2023-12-11T19:25:03.609Z"
   },
   {
    "duration": 7,
    "start_time": "2023-12-11T19:25:03.621Z"
   },
   {
    "duration": 7,
    "start_time": "2023-12-11T19:25:03.682Z"
   },
   {
    "duration": 20,
    "start_time": "2023-12-11T19:25:03.690Z"
   },
   {
    "duration": 7,
    "start_time": "2023-12-11T19:25:03.711Z"
   },
   {
    "duration": 11,
    "start_time": "2023-12-11T19:25:03.719Z"
   },
   {
    "duration": 13,
    "start_time": "2023-12-11T19:25:03.782Z"
   },
   {
    "duration": 25,
    "start_time": "2023-12-11T19:25:03.798Z"
   },
   {
    "duration": 59,
    "start_time": "2023-12-11T19:25:03.824Z"
   },
   {
    "duration": 117,
    "start_time": "2023-12-11T19:25:03.885Z"
   },
   {
    "duration": 418,
    "start_time": "2023-12-11T19:25:04.003Z"
   },
   {
    "duration": 100,
    "start_time": "2023-12-11T19:25:04.422Z"
   },
   {
    "duration": 38,
    "start_time": "2023-12-11T19:25:04.523Z"
   },
   {
    "duration": 80,
    "start_time": "2023-12-11T19:25:04.563Z"
   },
   {
    "duration": 8,
    "start_time": "2023-12-11T19:25:04.645Z"
   },
   {
    "duration": 13,
    "start_time": "2023-12-11T19:25:04.655Z"
   },
   {
    "duration": 25,
    "start_time": "2023-12-11T19:25:04.681Z"
   },
   {
    "duration": 7,
    "start_time": "2023-12-11T19:25:04.708Z"
   },
   {
    "duration": 12,
    "start_time": "2023-12-11T19:25:04.717Z"
   },
   {
    "duration": 33,
    "start_time": "2023-12-11T19:25:04.731Z"
   },
   {
    "duration": 5,
    "start_time": "2023-12-11T19:25:04.765Z"
   },
   {
    "duration": 30,
    "start_time": "2023-12-11T19:25:04.772Z"
   },
   {
    "duration": 12,
    "start_time": "2023-12-11T19:25:04.803Z"
   },
   {
    "duration": 31,
    "start_time": "2023-12-11T19:25:04.817Z"
   },
   {
    "duration": 118,
    "start_time": "2023-12-11T19:25:04.850Z"
   },
   {
    "duration": 17,
    "start_time": "2023-12-11T19:25:04.969Z"
   },
   {
    "duration": 11,
    "start_time": "2023-12-11T19:25:04.988Z"
   },
   {
    "duration": 21,
    "start_time": "2023-12-11T19:25:05.000Z"
   },
   {
    "duration": 25,
    "start_time": "2023-12-11T19:25:05.023Z"
   },
   {
    "duration": 16,
    "start_time": "2023-12-11T19:25:05.049Z"
   },
   {
    "duration": 11,
    "start_time": "2023-12-11T19:25:05.067Z"
   },
   {
    "duration": 14,
    "start_time": "2023-12-11T19:25:05.079Z"
   },
   {
    "duration": 15,
    "start_time": "2023-12-11T19:25:05.094Z"
   },
   {
    "duration": 67,
    "start_time": "2023-12-11T19:25:05.110Z"
   },
   {
    "duration": 7,
    "start_time": "2023-12-11T19:25:05.180Z"
   },
   {
    "duration": 15,
    "start_time": "2023-12-11T19:25:05.188Z"
   },
   {
    "duration": 6,
    "start_time": "2023-12-11T19:25:05.205Z"
   },
   {
    "duration": 14,
    "start_time": "2023-12-11T19:25:05.212Z"
   },
   {
    "duration": 14,
    "start_time": "2023-12-11T19:25:05.227Z"
   },
   {
    "duration": 363,
    "start_time": "2023-12-11T19:25:05.242Z"
   },
   {
    "duration": 6,
    "start_time": "2023-12-11T19:25:05.606Z"
   },
   {
    "duration": 453,
    "start_time": "2023-12-11T19:25:05.614Z"
   },
   {
    "duration": 13,
    "start_time": "2023-12-11T19:25:06.069Z"
   },
   {
    "duration": 327,
    "start_time": "2023-12-11T19:25:06.084Z"
   },
   {
    "duration": 38,
    "start_time": "2023-12-11T19:25:06.413Z"
   },
   {
    "duration": 39,
    "start_time": "2023-12-11T19:25:06.452Z"
   },
   {
    "duration": 19,
    "start_time": "2023-12-11T19:25:06.493Z"
   },
   {
    "duration": 6,
    "start_time": "2023-12-11T19:25:06.514Z"
   },
   {
    "duration": 69,
    "start_time": "2023-12-11T19:25:06.521Z"
   },
   {
    "duration": 1142,
    "start_time": "2023-12-11T19:25:38.036Z"
   },
   {
    "duration": 624,
    "start_time": "2023-12-11T19:25:39.180Z"
   },
   {
    "duration": 12,
    "start_time": "2023-12-11T19:25:39.806Z"
   },
   {
    "duration": 11,
    "start_time": "2023-12-11T19:25:39.819Z"
   },
   {
    "duration": 5,
    "start_time": "2023-12-11T19:25:39.833Z"
   },
   {
    "duration": 5,
    "start_time": "2023-12-11T19:25:39.840Z"
   },
   {
    "duration": 41,
    "start_time": "2023-12-11T19:25:39.847Z"
   },
   {
    "duration": 11,
    "start_time": "2023-12-11T19:25:39.890Z"
   },
   {
    "duration": 9,
    "start_time": "2023-12-11T19:25:39.903Z"
   },
   {
    "duration": 22,
    "start_time": "2023-12-11T19:25:39.914Z"
   },
   {
    "duration": 50,
    "start_time": "2023-12-11T19:25:39.938Z"
   },
   {
    "duration": 7,
    "start_time": "2023-12-11T19:25:39.990Z"
   },
   {
    "duration": 15,
    "start_time": "2023-12-11T19:25:39.998Z"
   },
   {
    "duration": 84,
    "start_time": "2023-12-11T19:25:40.016Z"
   },
   {
    "duration": 9,
    "start_time": "2023-12-11T19:25:40.101Z"
   },
   {
    "duration": 179,
    "start_time": "2023-12-11T19:25:40.111Z"
   },
   {
    "duration": 591,
    "start_time": "2023-12-11T19:25:40.292Z"
   },
   {
    "duration": 213,
    "start_time": "2023-12-11T19:25:40.884Z"
   },
   {
    "duration": 94,
    "start_time": "2023-12-11T19:25:41.098Z"
   },
   {
    "duration": 102,
    "start_time": "2023-12-11T19:25:41.193Z"
   },
   {
    "duration": 6,
    "start_time": "2023-12-11T19:25:41.296Z"
   },
   {
    "duration": 11,
    "start_time": "2023-12-11T19:25:41.303Z"
   },
   {
    "duration": 16,
    "start_time": "2023-12-11T19:25:41.315Z"
   },
   {
    "duration": 6,
    "start_time": "2023-12-11T19:25:41.382Z"
   },
   {
    "duration": 8,
    "start_time": "2023-12-11T19:25:41.389Z"
   },
   {
    "duration": 29,
    "start_time": "2023-12-11T19:25:41.398Z"
   },
   {
    "duration": 53,
    "start_time": "2023-12-11T19:25:41.429Z"
   },
   {
    "duration": 23,
    "start_time": "2023-12-11T19:25:41.483Z"
   },
   {
    "duration": 5,
    "start_time": "2023-12-11T19:25:41.508Z"
   },
   {
    "duration": 9,
    "start_time": "2023-12-11T19:25:41.514Z"
   },
   {
    "duration": 150,
    "start_time": "2023-12-11T19:25:41.524Z"
   },
   {
    "duration": 20,
    "start_time": "2023-12-11T19:25:41.676Z"
   },
   {
    "duration": 13,
    "start_time": "2023-12-11T19:25:41.698Z"
   },
   {
    "duration": 6,
    "start_time": "2023-12-11T19:25:41.713Z"
   },
   {
    "duration": 16,
    "start_time": "2023-12-11T19:25:41.721Z"
   },
   {
    "duration": 12,
    "start_time": "2023-12-11T19:25:41.738Z"
   },
   {
    "duration": 32,
    "start_time": "2023-12-11T19:25:41.752Z"
   },
   {
    "duration": 7,
    "start_time": "2023-12-11T19:25:41.786Z"
   },
   {
    "duration": 8,
    "start_time": "2023-12-11T19:25:41.794Z"
   },
   {
    "duration": 99,
    "start_time": "2023-12-11T19:25:41.804Z"
   },
   {
    "duration": 8,
    "start_time": "2023-12-11T19:25:41.907Z"
   },
   {
    "duration": 23,
    "start_time": "2023-12-11T19:25:41.917Z"
   },
   {
    "duration": 18,
    "start_time": "2023-12-11T19:25:41.942Z"
   },
   {
    "duration": 10,
    "start_time": "2023-12-11T19:25:41.962Z"
   },
   {
    "duration": 16,
    "start_time": "2023-12-11T19:25:41.974Z"
   },
   {
    "duration": 379,
    "start_time": "2023-12-11T19:25:41.991Z"
   },
   {
    "duration": 6,
    "start_time": "2023-12-11T19:25:42.372Z"
   },
   {
    "duration": 432,
    "start_time": "2023-12-11T19:25:42.379Z"
   },
   {
    "duration": 11,
    "start_time": "2023-12-11T19:25:42.812Z"
   },
   {
    "duration": 338,
    "start_time": "2023-12-11T19:25:42.824Z"
   },
   {
    "duration": 44,
    "start_time": "2023-12-11T19:25:43.164Z"
   },
   {
    "duration": 12,
    "start_time": "2023-12-11T19:25:43.210Z"
   },
   {
    "duration": 19,
    "start_time": "2023-12-11T19:25:43.223Z"
   },
   {
    "duration": 7,
    "start_time": "2023-12-11T19:25:43.281Z"
   },
   {
    "duration": 46,
    "start_time": "2023-12-11T19:25:43.289Z"
   },
   {
    "duration": 1202,
    "start_time": "2023-12-11T19:31:59.150Z"
   },
   {
    "duration": 657,
    "start_time": "2023-12-11T19:32:00.355Z"
   },
   {
    "duration": 13,
    "start_time": "2023-12-11T19:32:01.013Z"
   },
   {
    "duration": 57,
    "start_time": "2023-12-11T19:32:01.028Z"
   },
   {
    "duration": 51,
    "start_time": "2023-12-11T19:32:01.087Z"
   },
   {
    "duration": 35,
    "start_time": "2023-12-11T19:32:01.139Z"
   },
   {
    "duration": 51,
    "start_time": "2023-12-11T19:32:01.175Z"
   },
   {
    "duration": 26,
    "start_time": "2023-12-11T19:32:01.227Z"
   },
   {
    "duration": 46,
    "start_time": "2023-12-11T19:32:01.254Z"
   },
   {
    "duration": 47,
    "start_time": "2023-12-11T19:32:01.302Z"
   },
   {
    "duration": 26,
    "start_time": "2023-12-11T19:32:01.350Z"
   },
   {
    "duration": 33,
    "start_time": "2023-12-11T19:32:01.377Z"
   },
   {
    "duration": 44,
    "start_time": "2023-12-11T19:32:01.412Z"
   },
   {
    "duration": 53,
    "start_time": "2023-12-11T19:32:01.457Z"
   },
   {
    "duration": 17,
    "start_time": "2023-12-11T19:32:01.512Z"
   },
   {
    "duration": 94,
    "start_time": "2023-12-11T19:32:01.530Z"
   },
   {
    "duration": 258,
    "start_time": "2023-12-11T19:32:01.625Z"
   },
   {
    "duration": 104,
    "start_time": "2023-12-11T19:32:01.885Z"
   },
   {
    "duration": 40,
    "start_time": "2023-12-11T19:32:01.991Z"
   },
   {
    "duration": 65,
    "start_time": "2023-12-11T19:32:02.032Z"
   },
   {
    "duration": 6,
    "start_time": "2023-12-11T19:32:02.099Z"
   },
   {
    "duration": 17,
    "start_time": "2023-12-11T19:32:02.106Z"
   },
   {
    "duration": 38,
    "start_time": "2023-12-11T19:32:02.124Z"
   },
   {
    "duration": 26,
    "start_time": "2023-12-11T19:32:02.163Z"
   },
   {
    "duration": 50,
    "start_time": "2023-12-11T19:32:02.190Z"
   },
   {
    "duration": 36,
    "start_time": "2023-12-11T19:32:02.241Z"
   },
   {
    "duration": 4,
    "start_time": "2023-12-11T19:32:02.279Z"
   },
   {
    "duration": 33,
    "start_time": "2023-12-11T19:32:02.287Z"
   },
   {
    "duration": 24,
    "start_time": "2023-12-11T19:32:02.321Z"
   },
   {
    "duration": 33,
    "start_time": "2023-12-11T19:32:02.346Z"
   },
   {
    "duration": 119,
    "start_time": "2023-12-11T19:32:02.380Z"
   },
   {
    "duration": 23,
    "start_time": "2023-12-11T19:32:02.500Z"
   },
   {
    "duration": 12,
    "start_time": "2023-12-11T19:32:02.525Z"
   },
   {
    "duration": 13,
    "start_time": "2023-12-11T19:32:02.539Z"
   },
   {
    "duration": 27,
    "start_time": "2023-12-11T19:32:02.553Z"
   },
   {
    "duration": 11,
    "start_time": "2023-12-11T19:32:02.581Z"
   },
   {
    "duration": 68,
    "start_time": "2023-12-11T19:32:02.593Z"
   },
   {
    "duration": 10,
    "start_time": "2023-12-11T19:32:02.662Z"
   },
   {
    "duration": 12,
    "start_time": "2023-12-11T19:32:02.673Z"
   },
   {
    "duration": 80,
    "start_time": "2023-12-11T19:32:02.687Z"
   },
   {
    "duration": 8,
    "start_time": "2023-12-11T19:32:02.769Z"
   },
   {
    "duration": 4,
    "start_time": "2023-12-11T19:32:02.778Z"
   },
   {
    "duration": 39,
    "start_time": "2023-12-11T19:32:02.783Z"
   },
   {
    "duration": 15,
    "start_time": "2023-12-11T19:32:02.823Z"
   },
   {
    "duration": 23,
    "start_time": "2023-12-11T19:32:02.840Z"
   },
   {
    "duration": 376,
    "start_time": "2023-12-11T19:32:02.864Z"
   },
   {
    "duration": 7,
    "start_time": "2023-12-11T19:32:03.241Z"
   },
   {
    "duration": 434,
    "start_time": "2023-12-11T19:32:03.249Z"
   },
   {
    "duration": 10,
    "start_time": "2023-12-11T19:32:03.685Z"
   },
   {
    "duration": 344,
    "start_time": "2023-12-11T19:32:03.696Z"
   },
   {
    "duration": 57,
    "start_time": "2023-12-11T19:32:04.042Z"
   },
   {
    "duration": 12,
    "start_time": "2023-12-11T19:32:04.100Z"
   },
   {
    "duration": 18,
    "start_time": "2023-12-11T19:32:04.114Z"
   },
   {
    "duration": 6,
    "start_time": "2023-12-11T19:32:04.134Z"
   },
   {
    "duration": 67,
    "start_time": "2023-12-11T19:32:04.141Z"
   },
   {
    "duration": 1162,
    "start_time": "2023-12-11T19:34:57.683Z"
   },
   {
    "duration": 632,
    "start_time": "2023-12-11T19:34:58.847Z"
   },
   {
    "duration": 14,
    "start_time": "2023-12-11T19:34:59.480Z"
   },
   {
    "duration": 11,
    "start_time": "2023-12-11T19:34:59.496Z"
   },
   {
    "duration": 6,
    "start_time": "2023-12-11T19:34:59.508Z"
   },
   {
    "duration": 5,
    "start_time": "2023-12-11T19:34:59.515Z"
   },
   {
    "duration": 13,
    "start_time": "2023-12-11T19:34:59.521Z"
   },
   {
    "duration": 11,
    "start_time": "2023-12-11T19:34:59.536Z"
   },
   {
    "duration": 35,
    "start_time": "2023-12-11T19:34:59.549Z"
   },
   {
    "duration": 20,
    "start_time": "2023-12-11T19:34:59.586Z"
   },
   {
    "duration": 7,
    "start_time": "2023-12-11T19:34:59.607Z"
   },
   {
    "duration": 10,
    "start_time": "2023-12-11T19:34:59.615Z"
   },
   {
    "duration": 15,
    "start_time": "2023-12-11T19:34:59.626Z"
   },
   {
    "duration": 58,
    "start_time": "2023-12-11T19:34:59.642Z"
   },
   {
    "duration": 9,
    "start_time": "2023-12-11T19:34:59.701Z"
   },
   {
    "duration": 87,
    "start_time": "2023-12-11T19:34:59.711Z"
   },
   {
    "duration": 302,
    "start_time": "2023-12-11T19:34:59.799Z"
   },
   {
    "duration": 105,
    "start_time": "2023-12-11T19:35:00.102Z"
   },
   {
    "duration": 118,
    "start_time": "2023-12-11T19:35:00.208Z"
   },
   {
    "duration": 144,
    "start_time": "2023-12-11T19:35:00.328Z"
   },
   {
    "duration": 7,
    "start_time": "2023-12-11T19:35:00.474Z"
   },
   {
    "duration": 39,
    "start_time": "2023-12-11T19:35:00.483Z"
   },
   {
    "duration": 56,
    "start_time": "2023-12-11T19:35:00.523Z"
   },
   {
    "duration": 43,
    "start_time": "2023-12-11T19:35:00.581Z"
   },
   {
    "duration": 122,
    "start_time": "2023-12-11T19:35:00.625Z"
   },
   {
    "duration": 184,
    "start_time": "2023-12-11T19:35:00.749Z"
   },
   {
    "duration": 38,
    "start_time": "2023-12-11T19:35:00.935Z"
   },
   {
    "duration": 138,
    "start_time": "2023-12-11T19:35:00.977Z"
   },
   {
    "duration": 69,
    "start_time": "2023-12-11T19:35:01.117Z"
   },
   {
    "duration": 54,
    "start_time": "2023-12-11T19:35:01.187Z"
   },
   {
    "duration": 277,
    "start_time": "2023-12-11T19:35:01.243Z"
   },
   {
    "duration": 73,
    "start_time": "2023-12-11T19:35:01.521Z"
   },
   {
    "duration": 168,
    "start_time": "2023-12-11T19:35:01.595Z"
   },
   {
    "duration": 53,
    "start_time": "2023-12-11T19:35:01.764Z"
   },
   {
    "duration": 71,
    "start_time": "2023-12-11T19:35:01.818Z"
   },
   {
    "duration": 32,
    "start_time": "2023-12-11T19:35:01.891Z"
   },
   {
    "duration": 24,
    "start_time": "2023-12-11T19:35:01.924Z"
   },
   {
    "duration": 6,
    "start_time": "2023-12-11T19:35:01.982Z"
   },
   {
    "duration": 22,
    "start_time": "2023-12-11T19:35:01.989Z"
   },
   {
    "duration": 134,
    "start_time": "2023-12-11T19:35:02.012Z"
   },
   {
    "duration": 8,
    "start_time": "2023-12-11T19:35:02.147Z"
   },
   {
    "duration": 18,
    "start_time": "2023-12-11T19:35:02.156Z"
   },
   {
    "duration": 22,
    "start_time": "2023-12-11T19:35:02.182Z"
   },
   {
    "duration": 24,
    "start_time": "2023-12-11T19:35:02.206Z"
   },
   {
    "duration": 26,
    "start_time": "2023-12-11T19:35:02.231Z"
   },
   {
    "duration": 356,
    "start_time": "2023-12-11T19:35:02.259Z"
   },
   {
    "duration": 6,
    "start_time": "2023-12-11T19:35:02.617Z"
   },
   {
    "duration": 442,
    "start_time": "2023-12-11T19:35:02.624Z"
   },
   {
    "duration": 21,
    "start_time": "2023-12-11T19:35:03.067Z"
   },
   {
    "duration": 339,
    "start_time": "2023-12-11T19:35:03.089Z"
   },
   {
    "duration": 60,
    "start_time": "2023-12-11T19:35:03.429Z"
   },
   {
    "duration": 15,
    "start_time": "2023-12-11T19:35:03.491Z"
   },
   {
    "duration": 21,
    "start_time": "2023-12-11T19:35:03.508Z"
   },
   {
    "duration": 13,
    "start_time": "2023-12-11T19:35:03.530Z"
   },
   {
    "duration": 73,
    "start_time": "2023-12-11T19:35:03.544Z"
   },
   {
    "duration": 1115,
    "start_time": "2023-12-11T19:49:30.602Z"
   },
   {
    "duration": 576,
    "start_time": "2023-12-11T19:49:31.719Z"
   },
   {
    "duration": 11,
    "start_time": "2023-12-11T19:49:32.296Z"
   },
   {
    "duration": 12,
    "start_time": "2023-12-11T19:49:32.309Z"
   },
   {
    "duration": 9,
    "start_time": "2023-12-11T19:49:32.323Z"
   },
   {
    "duration": 8,
    "start_time": "2023-12-11T19:49:32.333Z"
   },
   {
    "duration": 11,
    "start_time": "2023-12-11T19:49:32.343Z"
   },
   {
    "duration": 8,
    "start_time": "2023-12-11T19:49:32.355Z"
   },
   {
    "duration": 7,
    "start_time": "2023-12-11T19:49:32.382Z"
   },
   {
    "duration": 19,
    "start_time": "2023-12-11T19:49:32.392Z"
   },
   {
    "duration": 7,
    "start_time": "2023-12-11T19:49:32.413Z"
   },
   {
    "duration": 13,
    "start_time": "2023-12-11T19:49:32.421Z"
   },
   {
    "duration": 12,
    "start_time": "2023-12-11T19:49:32.436Z"
   },
   {
    "duration": 52,
    "start_time": "2023-12-11T19:49:32.450Z"
   },
   {
    "duration": 9,
    "start_time": "2023-12-11T19:49:32.503Z"
   },
   {
    "duration": 95,
    "start_time": "2023-12-11T19:49:32.514Z"
   },
   {
    "duration": 249,
    "start_time": "2023-12-11T19:49:32.610Z"
   },
   {
    "duration": 96,
    "start_time": "2023-12-11T19:49:32.860Z"
   },
   {
    "duration": 47,
    "start_time": "2023-12-11T19:49:32.958Z"
   },
   {
    "duration": 52,
    "start_time": "2023-12-11T19:49:33.006Z"
   },
   {
    "duration": 7,
    "start_time": "2023-12-11T19:49:33.060Z"
   },
   {
    "duration": 13,
    "start_time": "2023-12-11T19:49:33.082Z"
   },
   {
    "duration": 9,
    "start_time": "2023-12-11T19:49:33.096Z"
   },
   {
    "duration": 7,
    "start_time": "2023-12-11T19:49:33.106Z"
   },
   {
    "duration": 8,
    "start_time": "2023-12-11T19:49:33.115Z"
   },
   {
    "duration": 68,
    "start_time": "2023-12-11T19:49:33.124Z"
   },
   {
    "duration": 5,
    "start_time": "2023-12-11T19:49:33.193Z"
   },
   {
    "duration": 23,
    "start_time": "2023-12-11T19:49:33.202Z"
   },
   {
    "duration": 5,
    "start_time": "2023-12-11T19:49:33.227Z"
   },
   {
    "duration": 9,
    "start_time": "2023-12-11T19:49:33.234Z"
   },
   {
    "duration": 150,
    "start_time": "2023-12-11T19:49:33.244Z"
   },
   {
    "duration": 16,
    "start_time": "2023-12-11T19:49:33.395Z"
   },
   {
    "duration": 9,
    "start_time": "2023-12-11T19:49:33.413Z"
   },
   {
    "duration": 5,
    "start_time": "2023-12-11T19:49:33.423Z"
   },
   {
    "duration": 14,
    "start_time": "2023-12-11T19:49:33.429Z"
   },
   {
    "duration": 11,
    "start_time": "2023-12-11T19:49:33.444Z"
   },
   {
    "duration": 27,
    "start_time": "2023-12-11T19:49:33.456Z"
   },
   {
    "duration": 6,
    "start_time": "2023-12-11T19:49:33.485Z"
   },
   {
    "duration": 6,
    "start_time": "2023-12-11T19:49:33.492Z"
   },
   {
    "duration": 92,
    "start_time": "2023-12-11T19:49:33.499Z"
   },
   {
    "duration": 8,
    "start_time": "2023-12-11T19:49:33.593Z"
   },
   {
    "duration": 4,
    "start_time": "2023-12-11T19:49:33.602Z"
   },
   {
    "duration": 3,
    "start_time": "2023-12-11T19:49:33.608Z"
   },
   {
    "duration": 6,
    "start_time": "2023-12-11T19:49:33.612Z"
   },
   {
    "duration": 15,
    "start_time": "2023-12-11T19:49:33.619Z"
   },
   {
    "duration": 383,
    "start_time": "2023-12-11T19:49:33.635Z"
   },
   {
    "duration": 6,
    "start_time": "2023-12-11T19:49:34.020Z"
   },
   {
    "duration": 461,
    "start_time": "2023-12-11T19:49:34.028Z"
   },
   {
    "duration": 14,
    "start_time": "2023-12-11T19:49:34.491Z"
   },
   {
    "duration": 595,
    "start_time": "2023-12-11T19:49:34.506Z"
   },
   {
    "duration": 88,
    "start_time": "2023-12-11T19:49:35.103Z"
   },
   {
    "duration": 12,
    "start_time": "2023-12-11T19:49:35.192Z"
   },
   {
    "duration": 19,
    "start_time": "2023-12-11T19:49:35.205Z"
   },
   {
    "duration": 58,
    "start_time": "2023-12-11T19:49:35.225Z"
   },
   {
    "duration": 36,
    "start_time": "2023-12-11T19:49:35.284Z"
   },
   {
    "duration": 1135,
    "start_time": "2023-12-11T19:55:14.079Z"
   },
   {
    "duration": 593,
    "start_time": "2023-12-11T19:55:15.216Z"
   },
   {
    "duration": 12,
    "start_time": "2023-12-11T19:55:15.810Z"
   },
   {
    "duration": 9,
    "start_time": "2023-12-11T19:55:15.823Z"
   },
   {
    "duration": 4,
    "start_time": "2023-12-11T19:55:15.834Z"
   },
   {
    "duration": 5,
    "start_time": "2023-12-11T19:55:15.839Z"
   },
   {
    "duration": 14,
    "start_time": "2023-12-11T19:55:15.846Z"
   },
   {
    "duration": 25,
    "start_time": "2023-12-11T19:55:15.862Z"
   },
   {
    "duration": 7,
    "start_time": "2023-12-11T19:55:15.888Z"
   },
   {
    "duration": 18,
    "start_time": "2023-12-11T19:55:15.898Z"
   },
   {
    "duration": 6,
    "start_time": "2023-12-11T19:55:15.918Z"
   },
   {
    "duration": 8,
    "start_time": "2023-12-11T19:55:15.925Z"
   },
   {
    "duration": 12,
    "start_time": "2023-12-11T19:55:15.934Z"
   },
   {
    "duration": 55,
    "start_time": "2023-12-11T19:55:15.948Z"
   },
   {
    "duration": 8,
    "start_time": "2023-12-11T19:55:16.005Z"
   },
   {
    "duration": 81,
    "start_time": "2023-12-11T19:55:16.014Z"
   },
   {
    "duration": 254,
    "start_time": "2023-12-11T19:55:16.096Z"
   },
   {
    "duration": 101,
    "start_time": "2023-12-11T19:55:16.351Z"
   },
   {
    "duration": 49,
    "start_time": "2023-12-11T19:55:16.453Z"
   },
   {
    "duration": 53,
    "start_time": "2023-12-11T19:55:16.503Z"
   },
   {
    "duration": 6,
    "start_time": "2023-12-11T19:55:16.558Z"
   },
   {
    "duration": 26,
    "start_time": "2023-12-11T19:55:16.565Z"
   },
   {
    "duration": 14,
    "start_time": "2023-12-11T19:55:16.592Z"
   },
   {
    "duration": 6,
    "start_time": "2023-12-11T19:55:16.608Z"
   },
   {
    "duration": 12,
    "start_time": "2023-12-11T19:55:16.615Z"
   },
   {
    "duration": 28,
    "start_time": "2023-12-11T19:55:16.628Z"
   },
   {
    "duration": 26,
    "start_time": "2023-12-11T19:55:16.658Z"
   },
   {
    "duration": 24,
    "start_time": "2023-12-11T19:55:16.687Z"
   },
   {
    "duration": 7,
    "start_time": "2023-12-11T19:55:16.712Z"
   },
   {
    "duration": 9,
    "start_time": "2023-12-11T19:55:16.720Z"
   },
   {
    "duration": 143,
    "start_time": "2023-12-11T19:55:16.731Z"
   },
   {
    "duration": 18,
    "start_time": "2023-12-11T19:55:16.876Z"
   },
   {
    "duration": 9,
    "start_time": "2023-12-11T19:55:16.896Z"
   },
   {
    "duration": 4,
    "start_time": "2023-12-11T19:55:16.907Z"
   },
   {
    "duration": 10,
    "start_time": "2023-12-11T19:55:16.913Z"
   },
   {
    "duration": 12,
    "start_time": "2023-12-11T19:55:16.925Z"
   },
   {
    "duration": 7,
    "start_time": "2023-12-11T19:55:16.938Z"
   },
   {
    "duration": 39,
    "start_time": "2023-12-11T19:55:16.946Z"
   },
   {
    "duration": 6,
    "start_time": "2023-12-11T19:55:16.987Z"
   },
   {
    "duration": 131,
    "start_time": "2023-12-11T19:55:16.994Z"
   },
   {
    "duration": 63,
    "start_time": "2023-12-11T19:55:17.126Z"
   },
   {
    "duration": 4,
    "start_time": "2023-12-11T19:55:17.190Z"
   },
   {
    "duration": 5,
    "start_time": "2023-12-11T19:55:17.195Z"
   },
   {
    "duration": 8,
    "start_time": "2023-12-11T19:55:17.201Z"
   },
   {
    "duration": 14,
    "start_time": "2023-12-11T19:55:17.210Z"
   },
   {
    "duration": 717,
    "start_time": "2023-12-11T19:55:17.225Z"
   },
   {
    "duration": 43,
    "start_time": "2023-12-11T19:55:17.943Z"
   },
   {
    "duration": 646,
    "start_time": "2023-12-11T19:55:17.987Z"
   },
   {
    "duration": 11,
    "start_time": "2023-12-11T19:55:18.634Z"
   },
   {
    "duration": 351,
    "start_time": "2023-12-11T19:55:18.647Z"
   },
   {
    "duration": 35,
    "start_time": "2023-12-11T19:55:18.999Z"
   },
   {
    "duration": 13,
    "start_time": "2023-12-11T19:55:19.036Z"
   },
   {
    "duration": 21,
    "start_time": "2023-12-11T19:55:19.082Z"
   },
   {
    "duration": 6,
    "start_time": "2023-12-11T19:55:19.105Z"
   },
   {
    "duration": 37,
    "start_time": "2023-12-11T19:55:19.112Z"
   },
   {
    "duration": 37,
    "start_time": "2023-12-11T19:55:45.278Z"
   },
   {
    "duration": 33,
    "start_time": "2023-12-11T19:55:55.487Z"
   },
   {
    "duration": 1161,
    "start_time": "2023-12-11T20:12:33.163Z"
   },
   {
    "duration": 589,
    "start_time": "2023-12-11T20:12:34.326Z"
   },
   {
    "duration": 11,
    "start_time": "2023-12-11T20:12:34.916Z"
   },
   {
    "duration": 16,
    "start_time": "2023-12-11T20:12:34.928Z"
   },
   {
    "duration": 6,
    "start_time": "2023-12-11T20:12:34.946Z"
   },
   {
    "duration": 5,
    "start_time": "2023-12-11T20:12:34.953Z"
   },
   {
    "duration": 28,
    "start_time": "2023-12-11T20:12:34.959Z"
   },
   {
    "duration": 9,
    "start_time": "2023-12-11T20:12:34.988Z"
   },
   {
    "duration": 14,
    "start_time": "2023-12-11T20:12:34.998Z"
   },
   {
    "duration": 71,
    "start_time": "2023-12-11T20:12:35.013Z"
   },
   {
    "duration": 7,
    "start_time": "2023-12-11T20:12:35.085Z"
   },
   {
    "duration": 9,
    "start_time": "2023-12-11T20:12:35.093Z"
   },
   {
    "duration": 16,
    "start_time": "2023-12-11T20:12:35.103Z"
   },
   {
    "duration": 80,
    "start_time": "2023-12-11T20:12:35.122Z"
   },
   {
    "duration": 11,
    "start_time": "2023-12-11T20:12:35.204Z"
   },
   {
    "duration": 180,
    "start_time": "2023-12-11T20:12:35.216Z"
   },
   {
    "duration": 526,
    "start_time": "2023-12-11T20:12:35.397Z"
   },
   {
    "duration": 204,
    "start_time": "2023-12-11T20:12:35.924Z"
   },
   {
    "duration": 42,
    "start_time": "2023-12-11T20:12:36.183Z"
   },
   {
    "duration": 105,
    "start_time": "2023-12-11T20:12:36.226Z"
   },
   {
    "duration": 7,
    "start_time": "2023-12-11T20:12:36.382Z"
   },
   {
    "duration": 12,
    "start_time": "2023-12-11T20:12:36.390Z"
   },
   {
    "duration": 11,
    "start_time": "2023-12-11T20:12:36.404Z"
   },
   {
    "duration": 6,
    "start_time": "2023-12-11T20:12:36.417Z"
   },
   {
    "duration": 9,
    "start_time": "2023-12-11T20:12:36.424Z"
   },
   {
    "duration": 52,
    "start_time": "2023-12-11T20:12:36.434Z"
   },
   {
    "duration": 6,
    "start_time": "2023-12-11T20:12:36.487Z"
   },
   {
    "duration": 26,
    "start_time": "2023-12-11T20:12:36.494Z"
   },
   {
    "duration": 7,
    "start_time": "2023-12-11T20:12:36.521Z"
   },
   {
    "duration": 14,
    "start_time": "2023-12-11T20:12:36.529Z"
   },
   {
    "duration": 132,
    "start_time": "2023-12-11T20:12:36.544Z"
   },
   {
    "duration": 18,
    "start_time": "2023-12-11T20:12:36.677Z"
   },
   {
    "duration": 8,
    "start_time": "2023-12-11T20:12:36.696Z"
   },
   {
    "duration": 4,
    "start_time": "2023-12-11T20:12:36.705Z"
   },
   {
    "duration": 14,
    "start_time": "2023-12-11T20:12:36.711Z"
   },
   {
    "duration": 12,
    "start_time": "2023-12-11T20:12:36.727Z"
   },
   {
    "duration": 10,
    "start_time": "2023-12-11T20:12:36.740Z"
   },
   {
    "duration": 33,
    "start_time": "2023-12-11T20:12:36.751Z"
   },
   {
    "duration": 6,
    "start_time": "2023-12-11T20:12:36.786Z"
   },
   {
    "duration": 83,
    "start_time": "2023-12-11T20:12:36.793Z"
   },
   {
    "duration": 7,
    "start_time": "2023-12-11T20:12:36.879Z"
   },
   {
    "duration": 9,
    "start_time": "2023-12-11T20:12:36.888Z"
   },
   {
    "duration": 5,
    "start_time": "2023-12-11T20:12:36.898Z"
   },
   {
    "duration": 14,
    "start_time": "2023-12-11T20:12:36.904Z"
   },
   {
    "duration": 26,
    "start_time": "2023-12-11T20:12:36.919Z"
   },
   {
    "duration": 361,
    "start_time": "2023-12-11T20:12:36.946Z"
   },
   {
    "duration": 7,
    "start_time": "2023-12-11T20:12:37.308Z"
   },
   {
    "duration": 501,
    "start_time": "2023-12-11T20:12:37.316Z"
   },
   {
    "duration": 12,
    "start_time": "2023-12-11T20:12:37.819Z"
   },
   {
    "duration": 388,
    "start_time": "2023-12-11T20:12:37.832Z"
   },
   {
    "duration": 67,
    "start_time": "2023-12-11T20:12:38.221Z"
   },
   {
    "duration": 14,
    "start_time": "2023-12-11T20:12:38.289Z"
   },
   {
    "duration": 33,
    "start_time": "2023-12-11T20:12:38.304Z"
   },
   {
    "duration": 7,
    "start_time": "2023-12-11T20:12:38.338Z"
   },
   {
    "duration": 54,
    "start_time": "2023-12-11T20:12:38.346Z"
   },
   {
    "duration": 17,
    "start_time": "2023-12-11T20:23:13.420Z"
   },
   {
    "duration": 1258,
    "start_time": "2023-12-11T20:27:35.285Z"
   },
   {
    "duration": 1155,
    "start_time": "2023-12-11T20:28:08.557Z"
   },
   {
    "duration": 616,
    "start_time": "2023-12-11T20:28:09.714Z"
   },
   {
    "duration": 17,
    "start_time": "2023-12-11T20:28:10.381Z"
   },
   {
    "duration": 13,
    "start_time": "2023-12-11T20:28:10.400Z"
   },
   {
    "duration": 5,
    "start_time": "2023-12-11T20:28:10.416Z"
   },
   {
    "duration": 5,
    "start_time": "2023-12-11T20:28:10.422Z"
   },
   {
    "duration": 15,
    "start_time": "2023-12-11T20:28:10.482Z"
   },
   {
    "duration": 19,
    "start_time": "2023-12-11T20:28:10.498Z"
   },
   {
    "duration": 11,
    "start_time": "2023-12-11T20:28:10.519Z"
   },
   {
    "duration": 78,
    "start_time": "2023-12-11T20:28:10.532Z"
   },
   {
    "duration": 9,
    "start_time": "2023-12-11T20:28:10.612Z"
   },
   {
    "duration": 64,
    "start_time": "2023-12-11T20:28:10.623Z"
   },
   {
    "duration": 18,
    "start_time": "2023-12-11T20:28:10.689Z"
   },
   {
    "duration": 74,
    "start_time": "2023-12-11T20:28:10.710Z"
   },
   {
    "duration": 9,
    "start_time": "2023-12-11T20:28:10.785Z"
   },
   {
    "duration": 121,
    "start_time": "2023-12-11T20:28:10.796Z"
   },
   {
    "duration": 566,
    "start_time": "2023-12-11T20:28:10.918Z"
   },
   {
    "duration": 200,
    "start_time": "2023-12-11T20:28:11.486Z"
   },
   {
    "duration": 41,
    "start_time": "2023-12-11T20:28:11.687Z"
   },
   {
    "duration": 96,
    "start_time": "2023-12-11T20:28:11.730Z"
   },
   {
    "duration": 7,
    "start_time": "2023-12-11T20:28:11.828Z"
   },
   {
    "duration": 13,
    "start_time": "2023-12-11T20:28:11.837Z"
   },
   {
    "duration": 32,
    "start_time": "2023-12-11T20:28:11.852Z"
   },
   {
    "duration": 6,
    "start_time": "2023-12-11T20:28:11.885Z"
   },
   {
    "duration": 10,
    "start_time": "2023-12-11T20:28:11.893Z"
   },
   {
    "duration": 46,
    "start_time": "2023-12-11T20:28:11.904Z"
   },
   {
    "duration": 4,
    "start_time": "2023-12-11T20:28:11.952Z"
   },
   {
    "duration": 47,
    "start_time": "2023-12-11T20:28:11.958Z"
   },
   {
    "duration": 6,
    "start_time": "2023-12-11T20:28:12.007Z"
   },
   {
    "duration": 9,
    "start_time": "2023-12-11T20:28:12.015Z"
   },
   {
    "duration": 169,
    "start_time": "2023-12-11T20:28:12.026Z"
   },
   {
    "duration": 16,
    "start_time": "2023-12-11T20:28:12.196Z"
   },
   {
    "duration": 10,
    "start_time": "2023-12-11T20:28:12.213Z"
   },
   {
    "duration": 58,
    "start_time": "2023-12-11T20:28:12.224Z"
   },
   {
    "duration": 10,
    "start_time": "2023-12-11T20:28:12.284Z"
   },
   {
    "duration": 10,
    "start_time": "2023-12-11T20:28:12.295Z"
   },
   {
    "duration": 5,
    "start_time": "2023-12-11T20:28:12.307Z"
   },
   {
    "duration": 6,
    "start_time": "2023-12-11T20:28:12.314Z"
   },
   {
    "duration": 65,
    "start_time": "2023-12-11T20:28:12.321Z"
   },
   {
    "duration": 195,
    "start_time": "2023-12-11T20:28:12.387Z"
   },
   {
    "duration": 8,
    "start_time": "2023-12-11T20:28:12.587Z"
   },
   {
    "duration": 1315,
    "start_time": "2023-12-11T20:28:12.597Z"
   },
   {
    "duration": 0,
    "start_time": "2023-12-11T20:28:13.914Z"
   },
   {
    "duration": 0,
    "start_time": "2023-12-11T20:28:13.915Z"
   },
   {
    "duration": 0,
    "start_time": "2023-12-11T20:28:13.916Z"
   },
   {
    "duration": 0,
    "start_time": "2023-12-11T20:28:13.917Z"
   },
   {
    "duration": 0,
    "start_time": "2023-12-11T20:28:13.918Z"
   },
   {
    "duration": 0,
    "start_time": "2023-12-11T20:28:13.919Z"
   },
   {
    "duration": 0,
    "start_time": "2023-12-11T20:28:13.920Z"
   },
   {
    "duration": 0,
    "start_time": "2023-12-11T20:28:13.921Z"
   },
   {
    "duration": 0,
    "start_time": "2023-12-11T20:28:13.923Z"
   },
   {
    "duration": 0,
    "start_time": "2023-12-11T20:28:13.924Z"
   },
   {
    "duration": 0,
    "start_time": "2023-12-11T20:28:13.925Z"
   },
   {
    "duration": 0,
    "start_time": "2023-12-11T20:28:13.926Z"
   },
   {
    "duration": 0,
    "start_time": "2023-12-11T20:28:13.927Z"
   },
   {
    "duration": 0,
    "start_time": "2023-12-11T20:28:13.928Z"
   },
   {
    "duration": 17,
    "start_time": "2023-12-11T20:29:06.432Z"
   },
   {
    "duration": 1190,
    "start_time": "2023-12-11T20:29:29.526Z"
   },
   {
    "duration": 606,
    "start_time": "2023-12-11T20:29:30.718Z"
   },
   {
    "duration": 12,
    "start_time": "2023-12-11T20:29:31.325Z"
   },
   {
    "duration": 25,
    "start_time": "2023-12-11T20:29:31.338Z"
   },
   {
    "duration": 19,
    "start_time": "2023-12-11T20:29:31.365Z"
   },
   {
    "duration": 51,
    "start_time": "2023-12-11T20:29:31.386Z"
   },
   {
    "duration": 34,
    "start_time": "2023-12-11T20:29:31.438Z"
   },
   {
    "duration": 39,
    "start_time": "2023-12-11T20:29:31.473Z"
   },
   {
    "duration": 19,
    "start_time": "2023-12-11T20:29:31.514Z"
   },
   {
    "duration": 26,
    "start_time": "2023-12-11T20:29:31.535Z"
   },
   {
    "duration": 12,
    "start_time": "2023-12-11T20:29:31.563Z"
   },
   {
    "duration": 24,
    "start_time": "2023-12-11T20:29:31.577Z"
   },
   {
    "duration": 15,
    "start_time": "2023-12-11T20:29:31.602Z"
   },
   {
    "duration": 33,
    "start_time": "2023-12-11T20:29:31.620Z"
   },
   {
    "duration": 8,
    "start_time": "2023-12-11T20:29:31.654Z"
   },
   {
    "duration": 88,
    "start_time": "2023-12-11T20:29:31.663Z"
   },
   {
    "duration": 257,
    "start_time": "2023-12-11T20:29:31.753Z"
   },
   {
    "duration": 96,
    "start_time": "2023-12-11T20:29:32.012Z"
   },
   {
    "duration": 40,
    "start_time": "2023-12-11T20:29:32.109Z"
   },
   {
    "duration": 70,
    "start_time": "2023-12-11T20:29:32.150Z"
   },
   {
    "duration": 6,
    "start_time": "2023-12-11T20:29:32.222Z"
   },
   {
    "duration": 35,
    "start_time": "2023-12-11T20:29:32.230Z"
   },
   {
    "duration": 22,
    "start_time": "2023-12-11T20:29:32.266Z"
   },
   {
    "duration": 6,
    "start_time": "2023-12-11T20:29:32.290Z"
   },
   {
    "duration": 10,
    "start_time": "2023-12-11T20:29:32.298Z"
   },
   {
    "duration": 26,
    "start_time": "2023-12-11T20:29:32.309Z"
   },
   {
    "duration": 4,
    "start_time": "2023-12-11T20:29:32.337Z"
   },
   {
    "duration": 47,
    "start_time": "2023-12-11T20:29:32.342Z"
   },
   {
    "duration": 5,
    "start_time": "2023-12-11T20:29:32.390Z"
   },
   {
    "duration": 9,
    "start_time": "2023-12-11T20:29:32.397Z"
   },
   {
    "duration": 140,
    "start_time": "2023-12-11T20:29:32.407Z"
   },
   {
    "duration": 16,
    "start_time": "2023-12-11T20:29:32.581Z"
   },
   {
    "duration": 8,
    "start_time": "2023-12-11T20:29:32.599Z"
   },
   {
    "duration": 5,
    "start_time": "2023-12-11T20:29:32.609Z"
   },
   {
    "duration": 66,
    "start_time": "2023-12-11T20:29:32.616Z"
   },
   {
    "duration": 11,
    "start_time": "2023-12-11T20:29:32.684Z"
   },
   {
    "duration": 6,
    "start_time": "2023-12-11T20:29:32.696Z"
   },
   {
    "duration": 7,
    "start_time": "2023-12-11T20:29:32.703Z"
   },
   {
    "duration": 14,
    "start_time": "2023-12-11T20:29:32.711Z"
   },
   {
    "duration": 168,
    "start_time": "2023-12-11T20:29:32.727Z"
   },
   {
    "duration": 8,
    "start_time": "2023-12-11T20:29:32.898Z"
   },
   {
    "duration": 78,
    "start_time": "2023-12-11T20:29:32.907Z"
   },
   {
    "duration": 33,
    "start_time": "2023-12-11T20:29:32.987Z"
   },
   {
    "duration": 61,
    "start_time": "2023-12-11T20:29:33.022Z"
   },
   {
    "duration": 5,
    "start_time": "2023-12-11T20:29:33.085Z"
   },
   {
    "duration": 8,
    "start_time": "2023-12-11T20:29:33.092Z"
   },
   {
    "duration": 21,
    "start_time": "2023-12-11T20:29:33.102Z"
   },
   {
    "duration": 867,
    "start_time": "2023-12-11T20:29:33.125Z"
   },
   {
    "duration": 8,
    "start_time": "2023-12-11T20:29:33.994Z"
   },
   {
    "duration": 768,
    "start_time": "2023-12-11T20:29:34.004Z"
   },
   {
    "duration": 16,
    "start_time": "2023-12-11T20:29:34.773Z"
   },
   {
    "duration": 378,
    "start_time": "2023-12-11T20:29:34.791Z"
   },
   {
    "duration": 41,
    "start_time": "2023-12-11T20:29:35.171Z"
   },
   {
    "duration": 26,
    "start_time": "2023-12-11T20:29:35.214Z"
   },
   {
    "duration": 53,
    "start_time": "2023-12-11T20:29:35.242Z"
   },
   {
    "duration": 7,
    "start_time": "2023-12-11T20:29:35.297Z"
   },
   {
    "duration": 39,
    "start_time": "2023-12-11T20:29:35.305Z"
   },
   {
    "duration": 22,
    "start_time": "2023-12-11T20:32:38.278Z"
   },
   {
    "duration": 1164,
    "start_time": "2023-12-11T20:34:01.457Z"
   },
   {
    "duration": 601,
    "start_time": "2023-12-11T20:34:02.623Z"
   },
   {
    "duration": 12,
    "start_time": "2023-12-11T20:34:03.225Z"
   },
   {
    "duration": 28,
    "start_time": "2023-12-11T20:34:03.239Z"
   },
   {
    "duration": 24,
    "start_time": "2023-12-11T20:34:03.270Z"
   },
   {
    "duration": 5,
    "start_time": "2023-12-11T20:34:03.295Z"
   },
   {
    "duration": 17,
    "start_time": "2023-12-11T20:34:03.302Z"
   },
   {
    "duration": 28,
    "start_time": "2023-12-11T20:34:03.320Z"
   },
   {
    "duration": 10,
    "start_time": "2023-12-11T20:34:03.350Z"
   },
   {
    "duration": 21,
    "start_time": "2023-12-11T20:34:03.362Z"
   },
   {
    "duration": 7,
    "start_time": "2023-12-11T20:34:03.384Z"
   },
   {
    "duration": 7,
    "start_time": "2023-12-11T20:34:03.392Z"
   },
   {
    "duration": 14,
    "start_time": "2023-12-11T20:34:03.400Z"
   },
   {
    "duration": 25,
    "start_time": "2023-12-11T20:34:03.416Z"
   },
   {
    "duration": 8,
    "start_time": "2023-12-11T20:34:03.442Z"
   },
   {
    "duration": 93,
    "start_time": "2023-12-11T20:34:03.451Z"
   },
   {
    "duration": 258,
    "start_time": "2023-12-11T20:34:03.546Z"
   },
   {
    "duration": 112,
    "start_time": "2023-12-11T20:34:03.805Z"
   },
   {
    "duration": 47,
    "start_time": "2023-12-11T20:34:03.919Z"
   },
   {
    "duration": 55,
    "start_time": "2023-12-11T20:34:03.982Z"
   },
   {
    "duration": 7,
    "start_time": "2023-12-11T20:34:04.038Z"
   },
   {
    "duration": 22,
    "start_time": "2023-12-11T20:34:04.047Z"
   },
   {
    "duration": 21,
    "start_time": "2023-12-11T20:34:04.070Z"
   },
   {
    "duration": 7,
    "start_time": "2023-12-11T20:34:04.092Z"
   },
   {
    "duration": 8,
    "start_time": "2023-12-11T20:34:04.100Z"
   },
   {
    "duration": 32,
    "start_time": "2023-12-11T20:34:04.110Z"
   },
   {
    "duration": 4,
    "start_time": "2023-12-11T20:34:04.143Z"
   },
   {
    "duration": 49,
    "start_time": "2023-12-11T20:34:04.151Z"
   },
   {
    "duration": 6,
    "start_time": "2023-12-11T20:34:04.201Z"
   },
   {
    "duration": 10,
    "start_time": "2023-12-11T20:34:04.208Z"
   },
   {
    "duration": 139,
    "start_time": "2023-12-11T20:34:04.219Z"
   },
   {
    "duration": 23,
    "start_time": "2023-12-11T20:34:04.360Z"
   },
   {
    "duration": 9,
    "start_time": "2023-12-11T20:34:04.384Z"
   },
   {
    "duration": 4,
    "start_time": "2023-12-11T20:34:04.394Z"
   },
   {
    "duration": 15,
    "start_time": "2023-12-11T20:34:04.399Z"
   },
   {
    "duration": 11,
    "start_time": "2023-12-11T20:34:04.415Z"
   },
   {
    "duration": 6,
    "start_time": "2023-12-11T20:34:04.427Z"
   },
   {
    "duration": 6,
    "start_time": "2023-12-11T20:34:04.435Z"
   },
   {
    "duration": 45,
    "start_time": "2023-12-11T20:34:04.442Z"
   },
   {
    "duration": 66,
    "start_time": "2023-12-11T20:34:04.488Z"
   },
   {
    "duration": 26,
    "start_time": "2023-12-11T20:34:04.556Z"
   },
   {
    "duration": 99,
    "start_time": "2023-12-11T20:34:04.584Z"
   },
   {
    "duration": 0,
    "start_time": "2023-12-11T20:34:04.684Z"
   },
   {
    "duration": 0,
    "start_time": "2023-12-11T20:34:04.685Z"
   },
   {
    "duration": 0,
    "start_time": "2023-12-11T20:34:04.686Z"
   },
   {
    "duration": 0,
    "start_time": "2023-12-11T20:34:04.687Z"
   },
   {
    "duration": 0,
    "start_time": "2023-12-11T20:34:04.688Z"
   },
   {
    "duration": 0,
    "start_time": "2023-12-11T20:34:04.689Z"
   },
   {
    "duration": 0,
    "start_time": "2023-12-11T20:34:04.690Z"
   },
   {
    "duration": 0,
    "start_time": "2023-12-11T20:34:04.691Z"
   },
   {
    "duration": 0,
    "start_time": "2023-12-11T20:34:04.692Z"
   },
   {
    "duration": 0,
    "start_time": "2023-12-11T20:34:04.693Z"
   },
   {
    "duration": 0,
    "start_time": "2023-12-11T20:34:04.694Z"
   },
   {
    "duration": 0,
    "start_time": "2023-12-11T20:34:04.695Z"
   },
   {
    "duration": 0,
    "start_time": "2023-12-11T20:34:04.696Z"
   },
   {
    "duration": 0,
    "start_time": "2023-12-11T20:34:04.697Z"
   },
   {
    "duration": 0,
    "start_time": "2023-12-11T20:34:04.697Z"
   },
   {
    "duration": 1662,
    "start_time": "2023-12-11T20:35:30.245Z"
   },
   {
    "duration": 1109,
    "start_time": "2023-12-11T20:35:31.909Z"
   },
   {
    "duration": 11,
    "start_time": "2023-12-11T20:35:33.020Z"
   },
   {
    "duration": 50,
    "start_time": "2023-12-11T20:35:33.033Z"
   },
   {
    "duration": 9,
    "start_time": "2023-12-11T20:35:33.085Z"
   },
   {
    "duration": 8,
    "start_time": "2023-12-11T20:35:33.096Z"
   },
   {
    "duration": 36,
    "start_time": "2023-12-11T20:35:33.106Z"
   },
   {
    "duration": 12,
    "start_time": "2023-12-11T20:35:33.181Z"
   },
   {
    "duration": 10,
    "start_time": "2023-12-11T20:35:33.194Z"
   },
   {
    "duration": 22,
    "start_time": "2023-12-11T20:35:33.206Z"
   },
   {
    "duration": 54,
    "start_time": "2023-12-11T20:35:33.230Z"
   },
   {
    "duration": 8,
    "start_time": "2023-12-11T20:35:33.286Z"
   },
   {
    "duration": 28,
    "start_time": "2023-12-11T20:35:33.296Z"
   },
   {
    "duration": 91,
    "start_time": "2023-12-11T20:35:33.326Z"
   },
   {
    "duration": 8,
    "start_time": "2023-12-11T20:35:33.419Z"
   },
   {
    "duration": 174,
    "start_time": "2023-12-11T20:35:33.428Z"
   },
   {
    "duration": 337,
    "start_time": "2023-12-11T20:35:33.604Z"
   },
   {
    "duration": 103,
    "start_time": "2023-12-11T20:35:33.943Z"
   },
   {
    "duration": 48,
    "start_time": "2023-12-11T20:35:34.047Z"
   },
   {
    "duration": 63,
    "start_time": "2023-12-11T20:35:34.097Z"
   },
   {
    "duration": 7,
    "start_time": "2023-12-11T20:35:34.161Z"
   },
   {
    "duration": 36,
    "start_time": "2023-12-11T20:35:34.169Z"
   },
   {
    "duration": 40,
    "start_time": "2023-12-11T20:35:34.207Z"
   },
   {
    "duration": 25,
    "start_time": "2023-12-11T20:35:34.249Z"
   },
   {
    "duration": 20,
    "start_time": "2023-12-11T20:35:34.275Z"
   },
   {
    "duration": 28,
    "start_time": "2023-12-11T20:35:34.297Z"
   },
   {
    "duration": 4,
    "start_time": "2023-12-11T20:35:34.327Z"
   },
   {
    "duration": 30,
    "start_time": "2023-12-11T20:35:34.336Z"
   },
   {
    "duration": 6,
    "start_time": "2023-12-11T20:35:34.368Z"
   },
   {
    "duration": 19,
    "start_time": "2023-12-11T20:35:34.381Z"
   },
   {
    "duration": 139,
    "start_time": "2023-12-11T20:35:34.402Z"
   },
   {
    "duration": 16,
    "start_time": "2023-12-11T20:35:34.543Z"
   },
   {
    "duration": 22,
    "start_time": "2023-12-11T20:35:34.561Z"
   },
   {
    "duration": 5,
    "start_time": "2023-12-11T20:35:34.585Z"
   },
   {
    "duration": 108,
    "start_time": "2023-12-11T20:35:34.592Z"
   },
   {
    "duration": 14,
    "start_time": "2023-12-11T20:35:34.702Z"
   },
   {
    "duration": 10,
    "start_time": "2023-12-11T20:35:34.718Z"
   },
   {
    "duration": 23,
    "start_time": "2023-12-11T20:35:34.730Z"
   },
   {
    "duration": 10,
    "start_time": "2023-12-11T20:35:34.755Z"
   },
   {
    "duration": 100,
    "start_time": "2023-12-11T20:35:34.766Z"
   },
   {
    "duration": 9,
    "start_time": "2023-12-11T20:35:34.867Z"
   },
   {
    "duration": 25,
    "start_time": "2023-12-11T20:35:34.877Z"
   },
   {
    "duration": 18,
    "start_time": "2023-12-11T20:35:34.903Z"
   },
   {
    "duration": 3,
    "start_time": "2023-12-11T20:35:34.923Z"
   },
   {
    "duration": 7,
    "start_time": "2023-12-11T20:35:34.927Z"
   },
   {
    "duration": 15,
    "start_time": "2023-12-11T20:35:34.935Z"
   },
   {
    "duration": 14,
    "start_time": "2023-12-11T20:35:34.951Z"
   },
   {
    "duration": 355,
    "start_time": "2023-12-11T20:35:34.967Z"
   },
   {
    "duration": 6,
    "start_time": "2023-12-11T20:35:35.324Z"
   },
   {
    "duration": 446,
    "start_time": "2023-12-11T20:35:35.331Z"
   },
   {
    "duration": 11,
    "start_time": "2023-12-11T20:35:35.779Z"
   },
   {
    "duration": 341,
    "start_time": "2023-12-11T20:35:35.791Z"
   },
   {
    "duration": 57,
    "start_time": "2023-12-11T20:35:36.134Z"
   },
   {
    "duration": 13,
    "start_time": "2023-12-11T20:35:36.192Z"
   },
   {
    "duration": 30,
    "start_time": "2023-12-11T20:35:36.206Z"
   },
   {
    "duration": 21,
    "start_time": "2023-12-11T20:35:36.237Z"
   },
   {
    "duration": 59,
    "start_time": "2023-12-11T20:35:36.259Z"
   },
   {
    "duration": 146,
    "start_time": "2023-12-11T20:37:25.955Z"
   },
   {
    "duration": 14,
    "start_time": "2023-12-11T20:37:44.701Z"
   },
   {
    "duration": 19,
    "start_time": "2023-12-11T20:56:12.377Z"
   },
   {
    "duration": 1159,
    "start_time": "2023-12-11T20:56:40.558Z"
   },
   {
    "duration": 633,
    "start_time": "2023-12-11T20:56:41.718Z"
   },
   {
    "duration": 13,
    "start_time": "2023-12-11T20:56:42.352Z"
   },
   {
    "duration": 10,
    "start_time": "2023-12-11T20:56:42.366Z"
   },
   {
    "duration": 5,
    "start_time": "2023-12-11T20:56:42.378Z"
   },
   {
    "duration": 5,
    "start_time": "2023-12-11T20:56:42.385Z"
   },
   {
    "duration": 12,
    "start_time": "2023-12-11T20:56:42.392Z"
   },
   {
    "duration": 8,
    "start_time": "2023-12-11T20:56:42.406Z"
   },
   {
    "duration": 10,
    "start_time": "2023-12-11T20:56:42.415Z"
   },
   {
    "duration": 24,
    "start_time": "2023-12-11T20:56:42.426Z"
   },
   {
    "duration": 8,
    "start_time": "2023-12-11T20:56:42.482Z"
   },
   {
    "duration": 22,
    "start_time": "2023-12-11T20:56:42.491Z"
   },
   {
    "duration": 17,
    "start_time": "2023-12-11T20:56:42.515Z"
   },
   {
    "duration": 33,
    "start_time": "2023-12-11T20:56:42.535Z"
   },
   {
    "duration": 19,
    "start_time": "2023-12-11T20:56:42.569Z"
   },
   {
    "duration": 83,
    "start_time": "2023-12-11T20:56:42.590Z"
   },
   {
    "duration": 249,
    "start_time": "2023-12-11T20:56:42.675Z"
   },
   {
    "duration": 101,
    "start_time": "2023-12-11T20:56:42.925Z"
   },
   {
    "duration": 41,
    "start_time": "2023-12-11T20:56:43.027Z"
   },
   {
    "duration": 53,
    "start_time": "2023-12-11T20:56:43.082Z"
   },
   {
    "duration": 7,
    "start_time": "2023-12-11T20:56:43.136Z"
   },
   {
    "duration": 25,
    "start_time": "2023-12-11T20:56:43.144Z"
   },
   {
    "duration": 15,
    "start_time": "2023-12-11T20:56:43.170Z"
   },
   {
    "duration": 6,
    "start_time": "2023-12-11T20:56:43.186Z"
   },
   {
    "duration": 10,
    "start_time": "2023-12-11T20:56:43.194Z"
   },
   {
    "duration": 44,
    "start_time": "2023-12-11T20:56:43.206Z"
   },
   {
    "duration": 4,
    "start_time": "2023-12-11T20:56:43.251Z"
   },
   {
    "duration": 48,
    "start_time": "2023-12-11T20:56:43.257Z"
   },
   {
    "duration": 6,
    "start_time": "2023-12-11T20:56:43.307Z"
   },
   {
    "duration": 9,
    "start_time": "2023-12-11T20:56:43.315Z"
   },
   {
    "duration": 136,
    "start_time": "2023-12-11T20:56:43.326Z"
   },
   {
    "duration": 22,
    "start_time": "2023-12-11T20:56:43.463Z"
   },
   {
    "duration": 9,
    "start_time": "2023-12-11T20:56:43.486Z"
   },
   {
    "duration": 5,
    "start_time": "2023-12-11T20:56:43.496Z"
   },
   {
    "duration": 22,
    "start_time": "2023-12-11T20:56:43.502Z"
   },
   {
    "duration": 11,
    "start_time": "2023-12-11T20:56:43.525Z"
   },
   {
    "duration": 5,
    "start_time": "2023-12-11T20:56:43.537Z"
   },
   {
    "duration": 6,
    "start_time": "2023-12-11T20:56:43.543Z"
   },
   {
    "duration": 9,
    "start_time": "2023-12-11T20:56:43.550Z"
   },
   {
    "duration": 84,
    "start_time": "2023-12-11T20:56:43.560Z"
   },
   {
    "duration": 8,
    "start_time": "2023-12-11T20:56:43.647Z"
   },
   {
    "duration": 27,
    "start_time": "2023-12-11T20:56:43.656Z"
   },
   {
    "duration": 19,
    "start_time": "2023-12-11T20:56:43.685Z"
   },
   {
    "duration": 4,
    "start_time": "2023-12-11T20:56:43.705Z"
   },
   {
    "duration": 6,
    "start_time": "2023-12-11T20:56:43.710Z"
   },
   {
    "duration": 6,
    "start_time": "2023-12-11T20:56:43.717Z"
   },
   {
    "duration": 20,
    "start_time": "2023-12-11T20:56:43.724Z"
   },
   {
    "duration": 387,
    "start_time": "2023-12-11T20:56:43.746Z"
   },
   {
    "duration": 6,
    "start_time": "2023-12-11T20:56:44.134Z"
   },
   {
    "duration": 443,
    "start_time": "2023-12-11T20:56:44.142Z"
   },
   {
    "duration": 10,
    "start_time": "2023-12-11T20:56:44.587Z"
   },
   {
    "duration": 323,
    "start_time": "2023-12-11T20:56:44.598Z"
   },
   {
    "duration": 33,
    "start_time": "2023-12-11T20:56:44.923Z"
   },
   {
    "duration": 13,
    "start_time": "2023-12-11T20:56:44.982Z"
   },
   {
    "duration": 20,
    "start_time": "2023-12-11T20:56:44.997Z"
   },
   {
    "duration": 64,
    "start_time": "2023-12-11T20:56:45.019Z"
   },
   {
    "duration": 59,
    "start_time": "2023-12-11T20:56:45.085Z"
   },
   {
    "duration": 4,
    "start_time": "2023-12-11T20:57:09.385Z"
   },
   {
    "duration": 1153,
    "start_time": "2023-12-11T20:57:28.063Z"
   },
   {
    "duration": 874,
    "start_time": "2023-12-11T20:57:29.218Z"
   },
   {
    "duration": 11,
    "start_time": "2023-12-11T20:57:30.094Z"
   },
   {
    "duration": 21,
    "start_time": "2023-12-11T20:57:30.106Z"
   },
   {
    "duration": 54,
    "start_time": "2023-12-11T20:57:30.128Z"
   },
   {
    "duration": 4,
    "start_time": "2023-12-11T20:57:30.183Z"
   },
   {
    "duration": 27,
    "start_time": "2023-12-11T20:57:30.188Z"
   },
   {
    "duration": 66,
    "start_time": "2023-12-11T20:57:30.216Z"
   },
   {
    "duration": 8,
    "start_time": "2023-12-11T20:57:30.283Z"
   },
   {
    "duration": 54,
    "start_time": "2023-12-11T20:57:30.293Z"
   },
   {
    "duration": 14,
    "start_time": "2023-12-11T20:57:30.381Z"
   },
   {
    "duration": 33,
    "start_time": "2023-12-11T20:57:30.397Z"
   },
   {
    "duration": 62,
    "start_time": "2023-12-11T20:57:30.432Z"
   },
   {
    "duration": 92,
    "start_time": "2023-12-11T20:57:30.495Z"
   },
   {
    "duration": 7,
    "start_time": "2023-12-11T20:57:30.589Z"
   },
   {
    "duration": 130,
    "start_time": "2023-12-11T20:57:30.598Z"
   },
   {
    "duration": 305,
    "start_time": "2023-12-11T20:57:30.730Z"
   },
   {
    "duration": 98,
    "start_time": "2023-12-11T20:57:31.037Z"
   },
   {
    "duration": 63,
    "start_time": "2023-12-11T20:57:31.137Z"
   },
   {
    "duration": 115,
    "start_time": "2023-12-11T20:57:31.202Z"
   },
   {
    "duration": 6,
    "start_time": "2023-12-11T20:57:31.319Z"
   },
   {
    "duration": 67,
    "start_time": "2023-12-11T20:57:31.326Z"
   },
   {
    "duration": 47,
    "start_time": "2023-12-11T20:57:31.395Z"
   },
   {
    "duration": 52,
    "start_time": "2023-12-11T20:57:31.444Z"
   },
   {
    "duration": 50,
    "start_time": "2023-12-11T20:57:31.498Z"
   },
   {
    "duration": 67,
    "start_time": "2023-12-11T20:57:31.549Z"
   },
   {
    "duration": 13,
    "start_time": "2023-12-11T20:57:31.618Z"
   },
   {
    "duration": 34,
    "start_time": "2023-12-11T20:57:31.635Z"
   },
   {
    "duration": 17,
    "start_time": "2023-12-11T20:57:31.671Z"
   },
   {
    "duration": 27,
    "start_time": "2023-12-11T20:57:31.689Z"
   },
   {
    "duration": 134,
    "start_time": "2023-12-11T20:57:31.718Z"
   },
   {
    "duration": 18,
    "start_time": "2023-12-11T20:57:31.853Z"
   },
   {
    "duration": 15,
    "start_time": "2023-12-11T20:57:31.872Z"
   },
   {
    "duration": 25,
    "start_time": "2023-12-11T20:57:31.888Z"
   },
   {
    "duration": 20,
    "start_time": "2023-12-11T20:57:31.914Z"
   },
   {
    "duration": 11,
    "start_time": "2023-12-11T20:57:31.936Z"
   },
   {
    "duration": 6,
    "start_time": "2023-12-11T20:57:31.948Z"
   },
   {
    "duration": 6,
    "start_time": "2023-12-11T20:57:31.955Z"
   },
   {
    "duration": 5,
    "start_time": "2023-12-11T20:57:31.962Z"
   },
   {
    "duration": 69,
    "start_time": "2023-12-11T20:57:31.982Z"
   },
   {
    "duration": 8,
    "start_time": "2023-12-11T20:57:32.052Z"
   },
   {
    "duration": 28,
    "start_time": "2023-12-11T20:57:32.062Z"
   },
   {
    "duration": 4,
    "start_time": "2023-12-11T20:57:32.091Z"
   },
   {
    "duration": 31,
    "start_time": "2023-12-11T20:57:32.097Z"
   },
   {
    "duration": 3,
    "start_time": "2023-12-11T20:57:32.129Z"
   },
   {
    "duration": 9,
    "start_time": "2023-12-11T20:57:32.133Z"
   },
   {
    "duration": 16,
    "start_time": "2023-12-11T20:57:32.143Z"
   },
   {
    "duration": 17,
    "start_time": "2023-12-11T20:57:32.160Z"
   },
   {
    "duration": 358,
    "start_time": "2023-12-11T20:57:32.178Z"
   },
   {
    "duration": 8,
    "start_time": "2023-12-11T20:57:32.538Z"
   },
   {
    "duration": 443,
    "start_time": "2023-12-11T20:57:32.548Z"
   },
   {
    "duration": 10,
    "start_time": "2023-12-11T20:57:32.993Z"
   },
   {
    "duration": 343,
    "start_time": "2023-12-11T20:57:33.004Z"
   },
   {
    "duration": 51,
    "start_time": "2023-12-11T20:57:33.348Z"
   },
   {
    "duration": 13,
    "start_time": "2023-12-11T20:57:33.400Z"
   },
   {
    "duration": 24,
    "start_time": "2023-12-11T20:57:33.414Z"
   },
   {
    "duration": 6,
    "start_time": "2023-12-11T20:57:33.439Z"
   },
   {
    "duration": 63,
    "start_time": "2023-12-11T20:57:33.447Z"
   },
   {
    "duration": 1157,
    "start_time": "2023-12-11T20:57:58.999Z"
   },
   {
    "duration": 660,
    "start_time": "2023-12-11T20:58:00.158Z"
   },
   {
    "duration": 14,
    "start_time": "2023-12-11T20:58:00.819Z"
   },
   {
    "duration": 53,
    "start_time": "2023-12-11T20:58:00.835Z"
   },
   {
    "duration": 63,
    "start_time": "2023-12-11T20:58:00.890Z"
   },
   {
    "duration": 30,
    "start_time": "2023-12-11T20:58:00.954Z"
   },
   {
    "duration": 82,
    "start_time": "2023-12-11T20:58:00.986Z"
   },
   {
    "duration": 46,
    "start_time": "2023-12-11T20:58:01.070Z"
   },
   {
    "duration": 33,
    "start_time": "2023-12-11T20:58:01.118Z"
   },
   {
    "duration": 40,
    "start_time": "2023-12-11T20:58:01.153Z"
   },
   {
    "duration": 16,
    "start_time": "2023-12-11T20:58:01.195Z"
   },
   {
    "duration": 39,
    "start_time": "2023-12-11T20:58:01.213Z"
   },
   {
    "duration": 29,
    "start_time": "2023-12-11T20:58:01.253Z"
   },
   {
    "duration": 51,
    "start_time": "2023-12-11T20:58:01.283Z"
   },
   {
    "duration": 9,
    "start_time": "2023-12-11T20:58:01.335Z"
   },
   {
    "duration": 116,
    "start_time": "2023-12-11T20:58:01.345Z"
   },
   {
    "duration": 330,
    "start_time": "2023-12-11T20:58:01.463Z"
   },
   {
    "duration": 205,
    "start_time": "2023-12-11T20:58:01.794Z"
   },
   {
    "duration": 95,
    "start_time": "2023-12-11T20:58:02.000Z"
   },
   {
    "duration": 186,
    "start_time": "2023-12-11T20:58:02.097Z"
   },
   {
    "duration": 7,
    "start_time": "2023-12-11T20:58:02.284Z"
   },
   {
    "duration": 33,
    "start_time": "2023-12-11T20:58:02.292Z"
   },
   {
    "duration": 63,
    "start_time": "2023-12-11T20:58:02.326Z"
   },
   {
    "duration": 7,
    "start_time": "2023-12-11T20:58:02.390Z"
   },
   {
    "duration": 19,
    "start_time": "2023-12-11T20:58:02.399Z"
   },
   {
    "duration": 86,
    "start_time": "2023-12-11T20:58:02.420Z"
   },
   {
    "duration": 6,
    "start_time": "2023-12-11T20:58:02.508Z"
   },
   {
    "duration": 80,
    "start_time": "2023-12-11T20:58:02.518Z"
   },
   {
    "duration": 5,
    "start_time": "2023-12-11T20:58:02.599Z"
   },
   {
    "duration": 17,
    "start_time": "2023-12-11T20:58:02.605Z"
   },
   {
    "duration": 279,
    "start_time": "2023-12-11T20:58:02.623Z"
   },
   {
    "duration": 16,
    "start_time": "2023-12-11T20:58:02.903Z"
   },
   {
    "duration": 8,
    "start_time": "2023-12-11T20:58:02.921Z"
   },
   {
    "duration": 5,
    "start_time": "2023-12-11T20:58:02.982Z"
   },
   {
    "duration": 16,
    "start_time": "2023-12-11T20:58:02.988Z"
   },
   {
    "duration": 13,
    "start_time": "2023-12-11T20:58:03.005Z"
   },
   {
    "duration": 5,
    "start_time": "2023-12-11T20:58:03.020Z"
   },
   {
    "duration": 6,
    "start_time": "2023-12-11T20:58:03.027Z"
   },
   {
    "duration": 13,
    "start_time": "2023-12-11T20:58:03.034Z"
   },
   {
    "duration": 88,
    "start_time": "2023-12-11T20:58:03.048Z"
   },
   {
    "duration": 9,
    "start_time": "2023-12-11T20:58:03.137Z"
   },
   {
    "duration": 8,
    "start_time": "2023-12-11T20:58:03.148Z"
   },
   {
    "duration": 25,
    "start_time": "2023-12-11T20:58:03.158Z"
   },
   {
    "duration": 23,
    "start_time": "2023-12-11T20:58:03.184Z"
   },
   {
    "duration": 3,
    "start_time": "2023-12-11T20:58:03.208Z"
   },
   {
    "duration": 7,
    "start_time": "2023-12-11T20:58:03.213Z"
   },
   {
    "duration": 13,
    "start_time": "2023-12-11T20:58:03.221Z"
   },
   {
    "duration": 15,
    "start_time": "2023-12-11T20:58:03.235Z"
   },
   {
    "duration": 365,
    "start_time": "2023-12-11T20:58:03.251Z"
   },
   {
    "duration": 8,
    "start_time": "2023-12-11T20:58:03.617Z"
   },
   {
    "duration": 466,
    "start_time": "2023-12-11T20:58:03.626Z"
   },
   {
    "duration": 11,
    "start_time": "2023-12-11T20:58:04.093Z"
   },
   {
    "duration": 380,
    "start_time": "2023-12-11T20:58:04.105Z"
   },
   {
    "duration": 34,
    "start_time": "2023-12-11T20:58:04.486Z"
   },
   {
    "duration": 12,
    "start_time": "2023-12-11T20:58:04.521Z"
   },
   {
    "duration": 53,
    "start_time": "2023-12-11T20:58:04.534Z"
   },
   {
    "duration": 6,
    "start_time": "2023-12-11T20:58:04.588Z"
   },
   {
    "duration": 44,
    "start_time": "2023-12-11T20:58:04.596Z"
   },
   {
    "duration": 17,
    "start_time": "2023-12-11T20:58:53.571Z"
   },
   {
    "duration": 9,
    "start_time": "2023-12-11T21:00:12.658Z"
   },
   {
    "duration": 6,
    "start_time": "2023-12-11T21:00:26.994Z"
   },
   {
    "duration": 7,
    "start_time": "2023-12-11T21:00:40.380Z"
   },
   {
    "duration": 1113,
    "start_time": "2023-12-11T21:03:43.317Z"
   },
   {
    "duration": 581,
    "start_time": "2023-12-11T21:03:44.432Z"
   },
   {
    "duration": 12,
    "start_time": "2023-12-11T21:03:45.014Z"
   },
   {
    "duration": 22,
    "start_time": "2023-12-11T21:03:45.028Z"
   },
   {
    "duration": 24,
    "start_time": "2023-12-11T21:03:45.052Z"
   },
   {
    "duration": 20,
    "start_time": "2023-12-11T21:03:45.078Z"
   },
   {
    "duration": 16,
    "start_time": "2023-12-11T21:03:45.099Z"
   },
   {
    "duration": 23,
    "start_time": "2023-12-11T21:03:45.117Z"
   },
   {
    "duration": 29,
    "start_time": "2023-12-11T21:03:45.141Z"
   },
   {
    "duration": 27,
    "start_time": "2023-12-11T21:03:45.172Z"
   },
   {
    "duration": 6,
    "start_time": "2023-12-11T21:03:45.200Z"
   },
   {
    "duration": 18,
    "start_time": "2023-12-11T21:03:45.208Z"
   },
   {
    "duration": 34,
    "start_time": "2023-12-11T21:03:45.228Z"
   },
   {
    "duration": 27,
    "start_time": "2023-12-11T21:03:45.263Z"
   },
   {
    "duration": 7,
    "start_time": "2023-12-11T21:03:45.292Z"
   },
   {
    "duration": 85,
    "start_time": "2023-12-11T21:03:45.301Z"
   },
   {
    "duration": 415,
    "start_time": "2023-12-11T21:03:45.388Z"
   },
   {
    "duration": 197,
    "start_time": "2023-12-11T21:03:45.805Z"
   },
   {
    "duration": 98,
    "start_time": "2023-12-11T21:03:46.004Z"
   },
   {
    "duration": 103,
    "start_time": "2023-12-11T21:03:46.103Z"
   },
   {
    "duration": 7,
    "start_time": "2023-12-11T21:03:46.207Z"
   },
   {
    "duration": 11,
    "start_time": "2023-12-11T21:03:46.215Z"
   },
   {
    "duration": 61,
    "start_time": "2023-12-11T21:03:46.227Z"
   },
   {
    "duration": 6,
    "start_time": "2023-12-11T21:03:46.290Z"
   },
   {
    "duration": 7,
    "start_time": "2023-12-11T21:03:46.298Z"
   },
   {
    "duration": 81,
    "start_time": "2023-12-11T21:03:46.306Z"
   },
   {
    "duration": 5,
    "start_time": "2023-12-11T21:03:46.388Z"
   },
   {
    "duration": 23,
    "start_time": "2023-12-11T21:03:46.396Z"
   },
   {
    "duration": 62,
    "start_time": "2023-12-11T21:03:46.420Z"
   },
   {
    "duration": 12,
    "start_time": "2023-12-11T21:03:46.484Z"
   },
   {
    "duration": 222,
    "start_time": "2023-12-11T21:03:46.498Z"
   },
   {
    "duration": 67,
    "start_time": "2023-12-11T21:03:46.722Z"
   },
   {
    "duration": 9,
    "start_time": "2023-12-11T21:03:46.790Z"
   },
   {
    "duration": 4,
    "start_time": "2023-12-11T21:03:46.800Z"
   },
   {
    "duration": 14,
    "start_time": "2023-12-11T21:03:46.806Z"
   },
   {
    "duration": 66,
    "start_time": "2023-12-11T21:03:46.822Z"
   },
   {
    "duration": 5,
    "start_time": "2023-12-11T21:03:46.890Z"
   },
   {
    "duration": 6,
    "start_time": "2023-12-11T21:03:46.896Z"
   },
   {
    "duration": 5,
    "start_time": "2023-12-11T21:03:46.903Z"
   },
   {
    "duration": 127,
    "start_time": "2023-12-11T21:03:46.909Z"
   },
   {
    "duration": 48,
    "start_time": "2023-12-11T21:03:47.037Z"
   },
   {
    "duration": 14,
    "start_time": "2023-12-11T21:03:47.087Z"
   },
   {
    "duration": 3,
    "start_time": "2023-12-11T21:03:47.103Z"
   },
   {
    "duration": 5,
    "start_time": "2023-12-11T21:03:47.107Z"
   },
   {
    "duration": 33,
    "start_time": "2023-12-11T21:03:47.114Z"
   },
   {
    "duration": 19,
    "start_time": "2023-12-11T21:03:47.148Z"
   },
   {
    "duration": 342,
    "start_time": "2023-12-11T21:03:47.168Z"
   },
   {
    "duration": 6,
    "start_time": "2023-12-11T21:03:47.511Z"
   },
   {
    "duration": 459,
    "start_time": "2023-12-11T21:03:47.519Z"
   },
   {
    "duration": 10,
    "start_time": "2023-12-11T21:03:47.981Z"
   },
   {
    "duration": 344,
    "start_time": "2023-12-11T21:03:47.993Z"
   },
   {
    "duration": 67,
    "start_time": "2023-12-11T21:03:48.338Z"
   },
   {
    "duration": 13,
    "start_time": "2023-12-11T21:03:48.407Z"
   },
   {
    "duration": 20,
    "start_time": "2023-12-11T21:03:48.422Z"
   },
   {
    "duration": 41,
    "start_time": "2023-12-11T21:03:48.444Z"
   },
   {
    "duration": 36,
    "start_time": "2023-12-11T21:03:48.487Z"
   },
   {
    "duration": 1141,
    "start_time": "2023-12-11T21:04:26.749Z"
   },
   {
    "duration": 921,
    "start_time": "2023-12-11T21:04:27.892Z"
   },
   {
    "duration": 11,
    "start_time": "2023-12-11T21:04:28.814Z"
   },
   {
    "duration": 60,
    "start_time": "2023-12-11T21:04:28.826Z"
   },
   {
    "duration": 5,
    "start_time": "2023-12-11T21:04:28.887Z"
   },
   {
    "duration": 4,
    "start_time": "2023-12-11T21:04:28.894Z"
   },
   {
    "duration": 20,
    "start_time": "2023-12-11T21:04:28.900Z"
   },
   {
    "duration": 62,
    "start_time": "2023-12-11T21:04:28.922Z"
   },
   {
    "duration": 18,
    "start_time": "2023-12-11T21:04:28.986Z"
   },
   {
    "duration": 22,
    "start_time": "2023-12-11T21:04:29.007Z"
   },
   {
    "duration": 53,
    "start_time": "2023-12-11T21:04:29.030Z"
   },
   {
    "duration": 6,
    "start_time": "2023-12-11T21:04:29.084Z"
   },
   {
    "duration": 24,
    "start_time": "2023-12-11T21:04:29.091Z"
   },
   {
    "duration": 77,
    "start_time": "2023-12-11T21:04:29.116Z"
   },
   {
    "duration": 8,
    "start_time": "2023-12-11T21:04:29.194Z"
   },
   {
    "duration": 117,
    "start_time": "2023-12-11T21:04:29.203Z"
   },
   {
    "duration": 317,
    "start_time": "2023-12-11T21:04:29.321Z"
   },
   {
    "duration": 98,
    "start_time": "2023-12-11T21:04:29.640Z"
   },
   {
    "duration": 49,
    "start_time": "2023-12-11T21:04:29.739Z"
   },
   {
    "duration": 56,
    "start_time": "2023-12-11T21:04:29.789Z"
   },
   {
    "duration": 7,
    "start_time": "2023-12-11T21:04:29.846Z"
   },
   {
    "duration": 28,
    "start_time": "2023-12-11T21:04:29.854Z"
   },
   {
    "duration": 13,
    "start_time": "2023-12-11T21:04:29.884Z"
   },
   {
    "duration": 6,
    "start_time": "2023-12-11T21:04:29.899Z"
   },
   {
    "duration": 8,
    "start_time": "2023-12-11T21:04:29.906Z"
   },
   {
    "duration": 27,
    "start_time": "2023-12-11T21:04:29.916Z"
   },
   {
    "duration": 4,
    "start_time": "2023-12-11T21:04:29.944Z"
   },
   {
    "duration": 50,
    "start_time": "2023-12-11T21:04:29.952Z"
   },
   {
    "duration": 6,
    "start_time": "2023-12-11T21:04:30.003Z"
   },
   {
    "duration": 48,
    "start_time": "2023-12-11T21:04:30.010Z"
   },
   {
    "duration": 150,
    "start_time": "2023-12-11T21:04:30.059Z"
   },
   {
    "duration": 16,
    "start_time": "2023-12-11T21:04:30.210Z"
   },
   {
    "duration": 58,
    "start_time": "2023-12-11T21:04:30.228Z"
   },
   {
    "duration": 37,
    "start_time": "2023-12-11T21:04:30.287Z"
   },
   {
    "duration": 66,
    "start_time": "2023-12-11T21:04:30.326Z"
   },
   {
    "duration": 36,
    "start_time": "2023-12-11T21:04:30.393Z"
   },
   {
    "duration": 41,
    "start_time": "2023-12-11T21:04:30.430Z"
   },
   {
    "duration": 73,
    "start_time": "2023-12-11T21:04:30.473Z"
   },
   {
    "duration": 32,
    "start_time": "2023-12-11T21:04:30.547Z"
   },
   {
    "duration": 118,
    "start_time": "2023-12-11T21:04:30.580Z"
   },
   {
    "duration": 9,
    "start_time": "2023-12-11T21:04:30.699Z"
   },
   {
    "duration": 122,
    "start_time": "2023-12-11T21:04:30.709Z"
   },
   {
    "duration": 0,
    "start_time": "2023-12-11T21:04:30.833Z"
   },
   {
    "duration": 0,
    "start_time": "2023-12-11T21:04:30.834Z"
   },
   {
    "duration": 0,
    "start_time": "2023-12-11T21:04:30.835Z"
   },
   {
    "duration": 0,
    "start_time": "2023-12-11T21:04:30.836Z"
   },
   {
    "duration": 0,
    "start_time": "2023-12-11T21:04:30.837Z"
   },
   {
    "duration": 0,
    "start_time": "2023-12-11T21:04:30.837Z"
   },
   {
    "duration": 0,
    "start_time": "2023-12-11T21:04:30.838Z"
   },
   {
    "duration": 0,
    "start_time": "2023-12-11T21:04:30.839Z"
   },
   {
    "duration": 0,
    "start_time": "2023-12-11T21:04:30.840Z"
   },
   {
    "duration": 0,
    "start_time": "2023-12-11T21:04:30.841Z"
   },
   {
    "duration": 0,
    "start_time": "2023-12-11T21:04:30.842Z"
   },
   {
    "duration": 0,
    "start_time": "2023-12-11T21:04:30.842Z"
   },
   {
    "duration": 0,
    "start_time": "2023-12-11T21:04:30.843Z"
   },
   {
    "duration": 0,
    "start_time": "2023-12-11T21:04:30.845Z"
   },
   {
    "duration": 1154,
    "start_time": "2023-12-11T21:08:55.162Z"
   },
   {
    "duration": 575,
    "start_time": "2023-12-11T21:08:56.318Z"
   },
   {
    "duration": 11,
    "start_time": "2023-12-11T21:08:56.895Z"
   },
   {
    "duration": 10,
    "start_time": "2023-12-11T21:08:56.907Z"
   },
   {
    "duration": 16,
    "start_time": "2023-12-11T21:08:56.918Z"
   },
   {
    "duration": 15,
    "start_time": "2023-12-11T21:08:56.935Z"
   },
   {
    "duration": 18,
    "start_time": "2023-12-11T21:08:56.952Z"
   },
   {
    "duration": 10,
    "start_time": "2023-12-11T21:08:56.972Z"
   },
   {
    "duration": 7,
    "start_time": "2023-12-11T21:08:56.984Z"
   },
   {
    "duration": 17,
    "start_time": "2023-12-11T21:08:56.993Z"
   },
   {
    "duration": 6,
    "start_time": "2023-12-11T21:08:57.011Z"
   },
   {
    "duration": 13,
    "start_time": "2023-12-11T21:08:57.019Z"
   },
   {
    "duration": 13,
    "start_time": "2023-12-11T21:08:57.033Z"
   },
   {
    "duration": 52,
    "start_time": "2023-12-11T21:08:57.048Z"
   },
   {
    "duration": 8,
    "start_time": "2023-12-11T21:08:57.101Z"
   },
   {
    "duration": 75,
    "start_time": "2023-12-11T21:08:57.110Z"
   },
   {
    "duration": 244,
    "start_time": "2023-12-11T21:08:57.187Z"
   },
   {
    "duration": 95,
    "start_time": "2023-12-11T21:08:57.432Z"
   },
   {
    "duration": 68,
    "start_time": "2023-12-11T21:08:57.528Z"
   },
   {
    "duration": 103,
    "start_time": "2023-12-11T21:08:57.597Z"
   },
   {
    "duration": 7,
    "start_time": "2023-12-11T21:08:57.701Z"
   },
   {
    "duration": 20,
    "start_time": "2023-12-11T21:08:57.709Z"
   },
   {
    "duration": 59,
    "start_time": "2023-12-11T21:08:57.730Z"
   },
   {
    "duration": 6,
    "start_time": "2023-12-11T21:08:57.791Z"
   },
   {
    "duration": 16,
    "start_time": "2023-12-11T21:08:57.798Z"
   },
   {
    "duration": 82,
    "start_time": "2023-12-11T21:08:57.815Z"
   },
   {
    "duration": 4,
    "start_time": "2023-12-11T21:08:57.899Z"
   },
   {
    "duration": 92,
    "start_time": "2023-12-11T21:08:57.906Z"
   },
   {
    "duration": 5,
    "start_time": "2023-12-11T21:08:58.000Z"
   },
   {
    "duration": 32,
    "start_time": "2023-12-11T21:08:58.006Z"
   },
   {
    "duration": 218,
    "start_time": "2023-12-11T21:08:58.082Z"
   },
   {
    "duration": 15,
    "start_time": "2023-12-11T21:08:58.302Z"
   },
   {
    "duration": 64,
    "start_time": "2023-12-11T21:08:58.318Z"
   },
   {
    "duration": 6,
    "start_time": "2023-12-11T21:08:58.383Z"
   },
   {
    "duration": 23,
    "start_time": "2023-12-11T21:08:58.390Z"
   },
   {
    "duration": 12,
    "start_time": "2023-12-11T21:08:58.415Z"
   },
   {
    "duration": 57,
    "start_time": "2023-12-11T21:08:58.428Z"
   },
   {
    "duration": 6,
    "start_time": "2023-12-11T21:08:58.487Z"
   },
   {
    "duration": 20,
    "start_time": "2023-12-11T21:08:58.494Z"
   },
   {
    "duration": 166,
    "start_time": "2023-12-11T21:08:58.516Z"
   },
   {
    "duration": 9,
    "start_time": "2023-12-11T21:08:58.684Z"
   },
   {
    "duration": 208,
    "start_time": "2023-12-11T21:08:58.695Z"
   },
   {
    "duration": 0,
    "start_time": "2023-12-11T21:08:58.905Z"
   },
   {
    "duration": 0,
    "start_time": "2023-12-11T21:08:58.906Z"
   },
   {
    "duration": 0,
    "start_time": "2023-12-11T21:08:58.907Z"
   },
   {
    "duration": 0,
    "start_time": "2023-12-11T21:08:58.908Z"
   },
   {
    "duration": 0,
    "start_time": "2023-12-11T21:08:58.909Z"
   },
   {
    "duration": 0,
    "start_time": "2023-12-11T21:08:58.910Z"
   },
   {
    "duration": 0,
    "start_time": "2023-12-11T21:08:58.911Z"
   },
   {
    "duration": 0,
    "start_time": "2023-12-11T21:08:58.912Z"
   },
   {
    "duration": 0,
    "start_time": "2023-12-11T21:08:58.913Z"
   },
   {
    "duration": 0,
    "start_time": "2023-12-11T21:08:58.914Z"
   },
   {
    "duration": 0,
    "start_time": "2023-12-11T21:08:58.915Z"
   },
   {
    "duration": 0,
    "start_time": "2023-12-11T21:08:58.916Z"
   },
   {
    "duration": 0,
    "start_time": "2023-12-11T21:08:58.917Z"
   },
   {
    "duration": 0,
    "start_time": "2023-12-11T21:08:58.918Z"
   },
   {
    "duration": 1141,
    "start_time": "2023-12-11T21:11:06.375Z"
   },
   {
    "duration": 579,
    "start_time": "2023-12-11T21:11:07.517Z"
   },
   {
    "duration": 11,
    "start_time": "2023-12-11T21:11:08.098Z"
   },
   {
    "duration": 9,
    "start_time": "2023-12-11T21:11:08.110Z"
   },
   {
    "duration": 5,
    "start_time": "2023-12-11T21:11:08.121Z"
   },
   {
    "duration": 4,
    "start_time": "2023-12-11T21:11:08.127Z"
   },
   {
    "duration": 12,
    "start_time": "2023-12-11T21:11:08.133Z"
   },
   {
    "duration": 14,
    "start_time": "2023-12-11T21:11:08.146Z"
   },
   {
    "duration": 7,
    "start_time": "2023-12-11T21:11:08.182Z"
   },
   {
    "duration": 25,
    "start_time": "2023-12-11T21:11:08.192Z"
   },
   {
    "duration": 12,
    "start_time": "2023-12-11T21:11:08.218Z"
   },
   {
    "duration": 25,
    "start_time": "2023-12-11T21:11:08.231Z"
   },
   {
    "duration": 40,
    "start_time": "2023-12-11T21:11:08.257Z"
   },
   {
    "duration": 29,
    "start_time": "2023-12-11T21:11:08.299Z"
   },
   {
    "duration": 8,
    "start_time": "2023-12-11T21:11:08.329Z"
   },
   {
    "duration": 70,
    "start_time": "2023-12-11T21:11:08.338Z"
   },
   {
    "duration": 254,
    "start_time": "2023-12-11T21:11:08.410Z"
   },
   {
    "duration": 98,
    "start_time": "2023-12-11T21:11:08.665Z"
   },
   {
    "duration": 51,
    "start_time": "2023-12-11T21:11:08.764Z"
   },
   {
    "duration": 59,
    "start_time": "2023-12-11T21:11:08.816Z"
   },
   {
    "duration": 9,
    "start_time": "2023-12-11T21:11:08.876Z"
   },
   {
    "duration": 27,
    "start_time": "2023-12-11T21:11:08.886Z"
   },
   {
    "duration": 15,
    "start_time": "2023-12-11T21:11:08.915Z"
   },
   {
    "duration": 19,
    "start_time": "2023-12-11T21:11:08.932Z"
   },
   {
    "duration": 18,
    "start_time": "2023-12-11T21:11:08.952Z"
   },
   {
    "duration": 43,
    "start_time": "2023-12-11T21:11:08.972Z"
   },
   {
    "duration": 4,
    "start_time": "2023-12-11T21:11:09.017Z"
   },
   {
    "duration": 30,
    "start_time": "2023-12-11T21:11:09.024Z"
   },
   {
    "duration": 13,
    "start_time": "2023-12-11T21:11:09.055Z"
   },
   {
    "duration": 23,
    "start_time": "2023-12-11T21:11:09.070Z"
   },
   {
    "duration": 129,
    "start_time": "2023-12-11T21:11:09.095Z"
   },
   {
    "duration": 16,
    "start_time": "2023-12-11T21:11:09.226Z"
   },
   {
    "duration": 11,
    "start_time": "2023-12-11T21:11:09.243Z"
   },
   {
    "duration": 5,
    "start_time": "2023-12-11T21:11:09.282Z"
   },
   {
    "duration": 30,
    "start_time": "2023-12-11T21:11:09.288Z"
   },
   {
    "duration": 15,
    "start_time": "2023-12-11T21:11:09.319Z"
   },
   {
    "duration": 50,
    "start_time": "2023-12-11T21:11:09.335Z"
   },
   {
    "duration": 6,
    "start_time": "2023-12-11T21:11:09.387Z"
   },
   {
    "duration": 8,
    "start_time": "2023-12-11T21:11:09.394Z"
   },
   {
    "duration": 179,
    "start_time": "2023-12-11T21:11:09.403Z"
   },
   {
    "duration": 10,
    "start_time": "2023-12-11T21:11:09.583Z"
   },
   {
    "duration": 189,
    "start_time": "2023-12-11T21:11:09.594Z"
   },
   {
    "duration": 0,
    "start_time": "2023-12-11T21:11:09.784Z"
   },
   {
    "duration": 0,
    "start_time": "2023-12-11T21:11:09.785Z"
   },
   {
    "duration": 0,
    "start_time": "2023-12-11T21:11:09.786Z"
   },
   {
    "duration": 0,
    "start_time": "2023-12-11T21:11:09.787Z"
   },
   {
    "duration": 0,
    "start_time": "2023-12-11T21:11:09.788Z"
   },
   {
    "duration": 0,
    "start_time": "2023-12-11T21:11:09.789Z"
   },
   {
    "duration": 0,
    "start_time": "2023-12-11T21:11:09.790Z"
   },
   {
    "duration": 0,
    "start_time": "2023-12-11T21:11:09.791Z"
   },
   {
    "duration": 0,
    "start_time": "2023-12-11T21:11:09.792Z"
   },
   {
    "duration": 0,
    "start_time": "2023-12-11T21:11:09.793Z"
   },
   {
    "duration": 0,
    "start_time": "2023-12-11T21:11:09.794Z"
   },
   {
    "duration": 0,
    "start_time": "2023-12-11T21:11:09.795Z"
   },
   {
    "duration": 0,
    "start_time": "2023-12-11T21:11:09.796Z"
   },
   {
    "duration": 0,
    "start_time": "2023-12-11T21:11:09.797Z"
   },
   {
    "duration": 1139,
    "start_time": "2023-12-11T21:11:56.872Z"
   },
   {
    "duration": 772,
    "start_time": "2023-12-11T21:11:58.013Z"
   },
   {
    "duration": 12,
    "start_time": "2023-12-11T21:11:58.787Z"
   },
   {
    "duration": 11,
    "start_time": "2023-12-11T21:11:58.801Z"
   },
   {
    "duration": 10,
    "start_time": "2023-12-11T21:11:58.813Z"
   },
   {
    "duration": 59,
    "start_time": "2023-12-11T21:11:58.824Z"
   },
   {
    "duration": 12,
    "start_time": "2023-12-11T21:11:58.885Z"
   },
   {
    "duration": 11,
    "start_time": "2023-12-11T21:11:58.899Z"
   },
   {
    "duration": 11,
    "start_time": "2023-12-11T21:11:58.912Z"
   },
   {
    "duration": 72,
    "start_time": "2023-12-11T21:11:58.925Z"
   },
   {
    "duration": 6,
    "start_time": "2023-12-11T21:11:58.999Z"
   },
   {
    "duration": 7,
    "start_time": "2023-12-11T21:11:59.006Z"
   },
   {
    "duration": 73,
    "start_time": "2023-12-11T21:11:59.015Z"
   },
   {
    "duration": 28,
    "start_time": "2023-12-11T21:11:59.089Z"
   },
   {
    "duration": 9,
    "start_time": "2023-12-11T21:11:59.118Z"
   },
   {
    "duration": 143,
    "start_time": "2023-12-11T21:11:59.181Z"
   },
   {
    "duration": 607,
    "start_time": "2023-12-11T21:11:59.326Z"
   },
   {
    "duration": 136,
    "start_time": "2023-12-11T21:11:59.934Z"
   },
   {
    "duration": 60,
    "start_time": "2023-12-11T21:12:00.072Z"
   },
   {
    "duration": 66,
    "start_time": "2023-12-11T21:12:00.134Z"
   },
   {
    "duration": 7,
    "start_time": "2023-12-11T21:12:00.202Z"
   },
   {
    "duration": 24,
    "start_time": "2023-12-11T21:12:00.211Z"
   },
   {
    "duration": 35,
    "start_time": "2023-12-11T21:12:00.237Z"
   },
   {
    "duration": 22,
    "start_time": "2023-12-11T21:12:00.274Z"
   },
   {
    "duration": 38,
    "start_time": "2023-12-11T21:12:00.297Z"
   },
   {
    "duration": 45,
    "start_time": "2023-12-11T21:12:00.336Z"
   },
   {
    "duration": 5,
    "start_time": "2023-12-11T21:12:00.383Z"
   },
   {
    "duration": 53,
    "start_time": "2023-12-11T21:12:00.391Z"
   },
   {
    "duration": 18,
    "start_time": "2023-12-11T21:12:00.446Z"
   },
   {
    "duration": 41,
    "start_time": "2023-12-11T21:12:00.465Z"
   },
   {
    "duration": 160,
    "start_time": "2023-12-11T21:12:00.508Z"
   },
   {
    "duration": 24,
    "start_time": "2023-12-11T21:12:00.670Z"
   },
   {
    "duration": 19,
    "start_time": "2023-12-11T21:12:00.696Z"
   },
   {
    "duration": 35,
    "start_time": "2023-12-11T21:12:00.716Z"
   },
   {
    "duration": 65,
    "start_time": "2023-12-11T21:12:00.753Z"
   },
   {
    "duration": 36,
    "start_time": "2023-12-11T21:12:00.821Z"
   },
   {
    "duration": 20,
    "start_time": "2023-12-11T21:12:00.859Z"
   },
   {
    "duration": 32,
    "start_time": "2023-12-11T21:12:00.881Z"
   },
   {
    "duration": 34,
    "start_time": "2023-12-11T21:12:00.915Z"
   },
   {
    "duration": 146,
    "start_time": "2023-12-11T21:12:00.950Z"
   },
   {
    "duration": 31,
    "start_time": "2023-12-11T21:12:01.097Z"
   },
   {
    "duration": 158,
    "start_time": "2023-12-11T21:12:01.130Z"
   },
   {
    "duration": 0,
    "start_time": "2023-12-11T21:12:01.289Z"
   },
   {
    "duration": 0,
    "start_time": "2023-12-11T21:12:01.291Z"
   },
   {
    "duration": 0,
    "start_time": "2023-12-11T21:12:01.292Z"
   },
   {
    "duration": 0,
    "start_time": "2023-12-11T21:12:01.293Z"
   },
   {
    "duration": 0,
    "start_time": "2023-12-11T21:12:01.294Z"
   },
   {
    "duration": 0,
    "start_time": "2023-12-11T21:12:01.295Z"
   },
   {
    "duration": 0,
    "start_time": "2023-12-11T21:12:01.296Z"
   },
   {
    "duration": 0,
    "start_time": "2023-12-11T21:12:01.297Z"
   },
   {
    "duration": 0,
    "start_time": "2023-12-11T21:12:01.298Z"
   },
   {
    "duration": 0,
    "start_time": "2023-12-11T21:12:01.299Z"
   },
   {
    "duration": 0,
    "start_time": "2023-12-11T21:12:01.300Z"
   },
   {
    "duration": 0,
    "start_time": "2023-12-11T21:12:01.301Z"
   },
   {
    "duration": 0,
    "start_time": "2023-12-11T21:12:01.302Z"
   },
   {
    "duration": 0,
    "start_time": "2023-12-11T21:12:01.302Z"
   },
   {
    "duration": 1103,
    "start_time": "2023-12-11T21:30:35.123Z"
   },
   {
    "duration": 879,
    "start_time": "2023-12-11T21:30:36.228Z"
   },
   {
    "duration": 11,
    "start_time": "2023-12-11T21:30:37.108Z"
   },
   {
    "duration": 15,
    "start_time": "2023-12-11T21:30:37.121Z"
   },
   {
    "duration": 47,
    "start_time": "2023-12-11T21:30:37.137Z"
   },
   {
    "duration": 15,
    "start_time": "2023-12-11T21:30:37.186Z"
   },
   {
    "duration": 24,
    "start_time": "2023-12-11T21:30:37.202Z"
   },
   {
    "duration": 7,
    "start_time": "2023-12-11T21:30:37.227Z"
   },
   {
    "duration": 50,
    "start_time": "2023-12-11T21:30:37.236Z"
   },
   {
    "duration": 18,
    "start_time": "2023-12-11T21:30:37.288Z"
   },
   {
    "duration": 8,
    "start_time": "2023-12-11T21:30:37.308Z"
   },
   {
    "duration": 14,
    "start_time": "2023-12-11T21:30:37.318Z"
   },
   {
    "duration": 61,
    "start_time": "2023-12-11T21:30:37.334Z"
   },
   {
    "duration": 88,
    "start_time": "2023-12-11T21:30:37.396Z"
   },
   {
    "duration": 8,
    "start_time": "2023-12-11T21:30:37.486Z"
   },
   {
    "duration": 126,
    "start_time": "2023-12-11T21:30:37.495Z"
   },
   {
    "duration": 503,
    "start_time": "2023-12-11T21:30:37.623Z"
   },
   {
    "duration": 112,
    "start_time": "2023-12-11T21:30:38.127Z"
   },
   {
    "duration": 51,
    "start_time": "2023-12-11T21:30:38.241Z"
   },
   {
    "duration": 63,
    "start_time": "2023-12-11T21:30:38.293Z"
   },
   {
    "duration": 7,
    "start_time": "2023-12-11T21:30:38.357Z"
   },
   {
    "duration": 26,
    "start_time": "2023-12-11T21:30:38.366Z"
   },
   {
    "duration": 11,
    "start_time": "2023-12-11T21:30:38.394Z"
   },
   {
    "duration": 7,
    "start_time": "2023-12-11T21:30:38.406Z"
   },
   {
    "duration": 18,
    "start_time": "2023-12-11T21:30:38.414Z"
   },
   {
    "duration": 59,
    "start_time": "2023-12-11T21:30:38.433Z"
   },
   {
    "duration": 6,
    "start_time": "2023-12-11T21:30:38.493Z"
   },
   {
    "duration": 26,
    "start_time": "2023-12-11T21:30:38.503Z"
   },
   {
    "duration": 7,
    "start_time": "2023-12-11T21:30:38.531Z"
   },
   {
    "duration": 43,
    "start_time": "2023-12-11T21:30:38.540Z"
   },
   {
    "duration": 133,
    "start_time": "2023-12-11T21:30:38.585Z"
   },
   {
    "duration": 18,
    "start_time": "2023-12-11T21:30:38.720Z"
   },
   {
    "duration": 9,
    "start_time": "2023-12-11T21:30:38.740Z"
   },
   {
    "duration": 5,
    "start_time": "2023-12-11T21:30:38.751Z"
   },
   {
    "duration": 31,
    "start_time": "2023-12-11T21:30:38.758Z"
   },
   {
    "duration": 12,
    "start_time": "2023-12-11T21:30:38.791Z"
   },
   {
    "duration": 6,
    "start_time": "2023-12-11T21:30:38.805Z"
   },
   {
    "duration": 8,
    "start_time": "2023-12-11T21:30:38.812Z"
   },
   {
    "duration": 5,
    "start_time": "2023-12-11T21:30:38.821Z"
   },
   {
    "duration": 108,
    "start_time": "2023-12-11T21:30:38.828Z"
   },
   {
    "duration": 10,
    "start_time": "2023-12-11T21:30:38.938Z"
   },
   {
    "duration": 121,
    "start_time": "2023-12-11T21:30:38.950Z"
   },
   {
    "duration": 0,
    "start_time": "2023-12-11T21:30:39.073Z"
   },
   {
    "duration": 0,
    "start_time": "2023-12-11T21:30:39.074Z"
   },
   {
    "duration": 0,
    "start_time": "2023-12-11T21:30:39.081Z"
   },
   {
    "duration": 0,
    "start_time": "2023-12-11T21:30:39.082Z"
   },
   {
    "duration": 0,
    "start_time": "2023-12-11T21:30:39.084Z"
   },
   {
    "duration": 0,
    "start_time": "2023-12-11T21:30:39.086Z"
   },
   {
    "duration": 0,
    "start_time": "2023-12-11T21:30:39.087Z"
   },
   {
    "duration": 0,
    "start_time": "2023-12-11T21:30:39.088Z"
   },
   {
    "duration": 0,
    "start_time": "2023-12-11T21:30:39.090Z"
   },
   {
    "duration": 0,
    "start_time": "2023-12-11T21:30:39.091Z"
   },
   {
    "duration": 0,
    "start_time": "2023-12-11T21:30:39.093Z"
   },
   {
    "duration": 0,
    "start_time": "2023-12-11T21:30:39.094Z"
   },
   {
    "duration": 0,
    "start_time": "2023-12-11T21:30:39.095Z"
   },
   {
    "duration": 0,
    "start_time": "2023-12-11T21:30:39.097Z"
   },
   {
    "duration": 1743,
    "start_time": "2023-12-11T21:30:58.576Z"
   },
   {
    "duration": 809,
    "start_time": "2023-12-11T21:31:00.321Z"
   },
   {
    "duration": 13,
    "start_time": "2023-12-11T21:31:01.132Z"
   },
   {
    "duration": 43,
    "start_time": "2023-12-11T21:31:01.146Z"
   },
   {
    "duration": 72,
    "start_time": "2023-12-11T21:31:01.191Z"
   },
   {
    "duration": 47,
    "start_time": "2023-12-11T21:31:01.264Z"
   },
   {
    "duration": 49,
    "start_time": "2023-12-11T21:31:01.313Z"
   },
   {
    "duration": 60,
    "start_time": "2023-12-11T21:31:01.364Z"
   },
   {
    "duration": 27,
    "start_time": "2023-12-11T21:31:01.425Z"
   },
   {
    "duration": 65,
    "start_time": "2023-12-11T21:31:01.454Z"
   },
   {
    "duration": 45,
    "start_time": "2023-12-11T21:31:01.520Z"
   },
   {
    "duration": 30,
    "start_time": "2023-12-11T21:31:01.566Z"
   },
   {
    "duration": 37,
    "start_time": "2023-12-11T21:31:01.598Z"
   },
   {
    "duration": 84,
    "start_time": "2023-12-11T21:31:01.637Z"
   },
   {
    "duration": 19,
    "start_time": "2023-12-11T21:31:01.722Z"
   },
   {
    "duration": 122,
    "start_time": "2023-12-11T21:31:01.742Z"
   },
   {
    "duration": 254,
    "start_time": "2023-12-11T21:31:01.866Z"
   },
   {
    "duration": 99,
    "start_time": "2023-12-11T21:31:02.121Z"
   },
   {
    "duration": 41,
    "start_time": "2023-12-11T21:31:02.222Z"
   },
   {
    "duration": 52,
    "start_time": "2023-12-11T21:31:02.282Z"
   },
   {
    "duration": 6,
    "start_time": "2023-12-11T21:31:02.336Z"
   },
   {
    "duration": 26,
    "start_time": "2023-12-11T21:31:02.344Z"
   },
   {
    "duration": 36,
    "start_time": "2023-12-11T21:31:02.372Z"
   },
   {
    "duration": 16,
    "start_time": "2023-12-11T21:31:02.410Z"
   },
   {
    "duration": 20,
    "start_time": "2023-12-11T21:31:02.427Z"
   },
   {
    "duration": 47,
    "start_time": "2023-12-11T21:31:02.449Z"
   },
   {
    "duration": 10,
    "start_time": "2023-12-11T21:31:02.497Z"
   },
   {
    "duration": 44,
    "start_time": "2023-12-11T21:31:02.509Z"
   },
   {
    "duration": 7,
    "start_time": "2023-12-11T21:31:02.554Z"
   },
   {
    "duration": 24,
    "start_time": "2023-12-11T21:31:02.562Z"
   },
   {
    "duration": 124,
    "start_time": "2023-12-11T21:31:02.588Z"
   },
   {
    "duration": 16,
    "start_time": "2023-12-11T21:31:02.713Z"
   },
   {
    "duration": 12,
    "start_time": "2023-12-11T21:31:02.731Z"
   },
   {
    "duration": 18,
    "start_time": "2023-12-11T21:31:02.744Z"
   },
   {
    "duration": 45,
    "start_time": "2023-12-11T21:31:02.763Z"
   },
   {
    "duration": 13,
    "start_time": "2023-12-11T21:31:02.810Z"
   },
   {
    "duration": 24,
    "start_time": "2023-12-11T21:31:02.825Z"
   },
   {
    "duration": 8,
    "start_time": "2023-12-11T21:31:02.850Z"
   },
   {
    "duration": 9,
    "start_time": "2023-12-11T21:31:02.859Z"
   },
   {
    "duration": 76,
    "start_time": "2023-12-11T21:31:02.870Z"
   },
   {
    "duration": 8,
    "start_time": "2023-12-11T21:31:02.950Z"
   },
   {
    "duration": 14,
    "start_time": "2023-12-11T21:31:02.959Z"
   },
   {
    "duration": 0,
    "start_time": "2023-12-11T21:31:02.975Z"
   },
   {
    "duration": 0,
    "start_time": "2023-12-11T21:31:02.981Z"
   },
   {
    "duration": 0,
    "start_time": "2023-12-11T21:31:02.982Z"
   },
   {
    "duration": 0,
    "start_time": "2023-12-11T21:31:02.983Z"
   },
   {
    "duration": 0,
    "start_time": "2023-12-11T21:31:02.985Z"
   },
   {
    "duration": 0,
    "start_time": "2023-12-11T21:31:02.986Z"
   },
   {
    "duration": 0,
    "start_time": "2023-12-11T21:31:02.987Z"
   },
   {
    "duration": 0,
    "start_time": "2023-12-11T21:31:02.989Z"
   },
   {
    "duration": 0,
    "start_time": "2023-12-11T21:31:02.990Z"
   },
   {
    "duration": 0,
    "start_time": "2023-12-11T21:31:02.992Z"
   },
   {
    "duration": 0,
    "start_time": "2023-12-11T21:31:02.993Z"
   },
   {
    "duration": 0,
    "start_time": "2023-12-11T21:31:02.995Z"
   },
   {
    "duration": 0,
    "start_time": "2023-12-11T21:31:02.996Z"
   },
   {
    "duration": 0,
    "start_time": "2023-12-11T21:31:02.998Z"
   },
   {
    "duration": 1138,
    "start_time": "2023-12-11T21:31:16.076Z"
   },
   {
    "duration": 564,
    "start_time": "2023-12-11T21:31:17.216Z"
   },
   {
    "duration": 12,
    "start_time": "2023-12-11T21:31:17.782Z"
   },
   {
    "duration": 8,
    "start_time": "2023-12-11T21:31:17.796Z"
   },
   {
    "duration": 7,
    "start_time": "2023-12-11T21:31:17.806Z"
   },
   {
    "duration": 15,
    "start_time": "2023-12-11T21:31:17.815Z"
   },
   {
    "duration": 12,
    "start_time": "2023-12-11T21:31:17.831Z"
   },
   {
    "duration": 12,
    "start_time": "2023-12-11T21:31:17.844Z"
   },
   {
    "duration": 28,
    "start_time": "2023-12-11T21:31:17.857Z"
   },
   {
    "duration": 28,
    "start_time": "2023-12-11T21:31:17.887Z"
   },
   {
    "duration": 25,
    "start_time": "2023-12-11T21:31:17.916Z"
   },
   {
    "duration": 11,
    "start_time": "2023-12-11T21:31:17.942Z"
   },
   {
    "duration": 19,
    "start_time": "2023-12-11T21:31:17.954Z"
   },
   {
    "duration": 23,
    "start_time": "2023-12-11T21:31:17.975Z"
   },
   {
    "duration": 7,
    "start_time": "2023-12-11T21:31:17.999Z"
   },
   {
    "duration": 80,
    "start_time": "2023-12-11T21:31:18.008Z"
   },
   {
    "duration": 253,
    "start_time": "2023-12-11T21:31:18.090Z"
   },
   {
    "duration": 105,
    "start_time": "2023-12-11T21:31:18.345Z"
   },
   {
    "duration": 49,
    "start_time": "2023-12-11T21:31:18.452Z"
   },
   {
    "duration": 54,
    "start_time": "2023-12-11T21:31:18.502Z"
   },
   {
    "duration": 24,
    "start_time": "2023-12-11T21:31:18.558Z"
   },
   {
    "duration": 13,
    "start_time": "2023-12-11T21:31:18.584Z"
   },
   {
    "duration": 27,
    "start_time": "2023-12-11T21:31:18.598Z"
   },
   {
    "duration": 9,
    "start_time": "2023-12-11T21:31:18.626Z"
   },
   {
    "duration": 12,
    "start_time": "2023-12-11T21:31:18.637Z"
   },
   {
    "duration": 42,
    "start_time": "2023-12-11T21:31:18.651Z"
   },
   {
    "duration": 5,
    "start_time": "2023-12-11T21:31:18.694Z"
   },
   {
    "duration": 26,
    "start_time": "2023-12-11T21:31:18.702Z"
   },
   {
    "duration": 6,
    "start_time": "2023-12-11T21:31:18.729Z"
   },
   {
    "duration": 9,
    "start_time": "2023-12-11T21:31:18.736Z"
   },
   {
    "duration": 142,
    "start_time": "2023-12-11T21:31:18.746Z"
   },
   {
    "duration": 16,
    "start_time": "2023-12-11T21:31:18.889Z"
   },
   {
    "duration": 8,
    "start_time": "2023-12-11T21:31:18.907Z"
   },
   {
    "duration": 6,
    "start_time": "2023-12-11T21:31:18.917Z"
   },
   {
    "duration": 14,
    "start_time": "2023-12-11T21:31:18.924Z"
   },
   {
    "duration": 11,
    "start_time": "2023-12-11T21:31:18.940Z"
   },
   {
    "duration": 30,
    "start_time": "2023-12-11T21:31:18.952Z"
   },
   {
    "duration": 6,
    "start_time": "2023-12-11T21:31:18.984Z"
   },
   {
    "duration": 7,
    "start_time": "2023-12-11T21:31:18.992Z"
   },
   {
    "duration": 89,
    "start_time": "2023-12-11T21:31:19.001Z"
   },
   {
    "duration": 9,
    "start_time": "2023-12-11T21:31:19.091Z"
   },
   {
    "duration": 191,
    "start_time": "2023-12-11T21:31:19.102Z"
   },
   {
    "duration": 0,
    "start_time": "2023-12-11T21:31:19.294Z"
   },
   {
    "duration": 0,
    "start_time": "2023-12-11T21:31:19.295Z"
   },
   {
    "duration": 0,
    "start_time": "2023-12-11T21:31:19.296Z"
   },
   {
    "duration": 0,
    "start_time": "2023-12-11T21:31:19.297Z"
   },
   {
    "duration": 0,
    "start_time": "2023-12-11T21:31:19.298Z"
   },
   {
    "duration": 0,
    "start_time": "2023-12-11T21:31:19.299Z"
   },
   {
    "duration": 0,
    "start_time": "2023-12-11T21:31:19.300Z"
   },
   {
    "duration": 0,
    "start_time": "2023-12-11T21:31:19.301Z"
   },
   {
    "duration": 0,
    "start_time": "2023-12-11T21:31:19.302Z"
   },
   {
    "duration": 0,
    "start_time": "2023-12-11T21:31:19.303Z"
   },
   {
    "duration": 0,
    "start_time": "2023-12-11T21:31:19.304Z"
   },
   {
    "duration": 0,
    "start_time": "2023-12-11T21:31:19.305Z"
   },
   {
    "duration": 0,
    "start_time": "2023-12-11T21:31:19.306Z"
   },
   {
    "duration": 0,
    "start_time": "2023-12-11T21:31:19.306Z"
   },
   {
    "duration": 1171,
    "start_time": "2023-12-11T21:33:53.847Z"
   },
   {
    "duration": 588,
    "start_time": "2023-12-11T21:33:55.020Z"
   },
   {
    "duration": 12,
    "start_time": "2023-12-11T21:33:55.609Z"
   },
   {
    "duration": 9,
    "start_time": "2023-12-11T21:33:55.622Z"
   },
   {
    "duration": 13,
    "start_time": "2023-12-11T21:33:55.633Z"
   },
   {
    "duration": 16,
    "start_time": "2023-12-11T21:33:55.647Z"
   },
   {
    "duration": 16,
    "start_time": "2023-12-11T21:33:55.664Z"
   },
   {
    "duration": 15,
    "start_time": "2023-12-11T21:33:55.682Z"
   },
   {
    "duration": 11,
    "start_time": "2023-12-11T21:33:55.698Z"
   },
   {
    "duration": 18,
    "start_time": "2023-12-11T21:33:55.711Z"
   },
   {
    "duration": 7,
    "start_time": "2023-12-11T21:33:55.730Z"
   },
   {
    "duration": 8,
    "start_time": "2023-12-11T21:33:55.739Z"
   },
   {
    "duration": 14,
    "start_time": "2023-12-11T21:33:55.748Z"
   },
   {
    "duration": 25,
    "start_time": "2023-12-11T21:33:55.781Z"
   },
   {
    "duration": 8,
    "start_time": "2023-12-11T21:33:55.807Z"
   },
   {
    "duration": 96,
    "start_time": "2023-12-11T21:33:55.817Z"
   },
   {
    "duration": 262,
    "start_time": "2023-12-11T21:33:55.914Z"
   },
   {
    "duration": 105,
    "start_time": "2023-12-11T21:33:56.177Z"
   },
   {
    "duration": 41,
    "start_time": "2023-12-11T21:33:56.283Z"
   },
   {
    "duration": 63,
    "start_time": "2023-12-11T21:33:56.326Z"
   },
   {
    "duration": 7,
    "start_time": "2023-12-11T21:33:56.390Z"
   },
   {
    "duration": 21,
    "start_time": "2023-12-11T21:33:56.398Z"
   },
   {
    "duration": 65,
    "start_time": "2023-12-11T21:33:56.420Z"
   },
   {
    "duration": 7,
    "start_time": "2023-12-11T21:33:56.486Z"
   },
   {
    "duration": 15,
    "start_time": "2023-12-11T21:33:56.494Z"
   },
   {
    "duration": 86,
    "start_time": "2023-12-11T21:33:56.510Z"
   },
   {
    "duration": 4,
    "start_time": "2023-12-11T21:33:56.598Z"
   },
   {
    "duration": 79,
    "start_time": "2023-12-11T21:33:56.603Z"
   },
   {
    "duration": 6,
    "start_time": "2023-12-11T21:33:56.684Z"
   },
   {
    "duration": 21,
    "start_time": "2023-12-11T21:33:56.691Z"
   },
   {
    "duration": 211,
    "start_time": "2023-12-11T21:33:56.713Z"
   },
   {
    "duration": 70,
    "start_time": "2023-12-11T21:33:56.926Z"
   },
   {
    "duration": 8,
    "start_time": "2023-12-11T21:33:56.997Z"
   },
   {
    "duration": 5,
    "start_time": "2023-12-11T21:33:57.006Z"
   },
   {
    "duration": 12,
    "start_time": "2023-12-11T21:33:57.012Z"
   },
   {
    "duration": 61,
    "start_time": "2023-12-11T21:33:57.026Z"
   },
   {
    "duration": 5,
    "start_time": "2023-12-11T21:33:57.088Z"
   },
   {
    "duration": 8,
    "start_time": "2023-12-11T21:33:57.094Z"
   },
   {
    "duration": 5,
    "start_time": "2023-12-11T21:33:57.103Z"
   },
   {
    "duration": 173,
    "start_time": "2023-12-11T21:33:57.109Z"
   },
   {
    "duration": 8,
    "start_time": "2023-12-11T21:33:57.286Z"
   },
   {
    "duration": 193,
    "start_time": "2023-12-11T21:33:57.295Z"
   },
   {
    "duration": 0,
    "start_time": "2023-12-11T21:33:57.489Z"
   },
   {
    "duration": 0,
    "start_time": "2023-12-11T21:33:57.490Z"
   },
   {
    "duration": 0,
    "start_time": "2023-12-11T21:33:57.491Z"
   },
   {
    "duration": 0,
    "start_time": "2023-12-11T21:33:57.492Z"
   },
   {
    "duration": 0,
    "start_time": "2023-12-11T21:33:57.493Z"
   },
   {
    "duration": 0,
    "start_time": "2023-12-11T21:33:57.494Z"
   },
   {
    "duration": 0,
    "start_time": "2023-12-11T21:33:57.495Z"
   },
   {
    "duration": 0,
    "start_time": "2023-12-11T21:33:57.496Z"
   },
   {
    "duration": 0,
    "start_time": "2023-12-11T21:33:57.497Z"
   },
   {
    "duration": 0,
    "start_time": "2023-12-11T21:33:57.498Z"
   },
   {
    "duration": 0,
    "start_time": "2023-12-11T21:33:57.498Z"
   },
   {
    "duration": 0,
    "start_time": "2023-12-11T21:33:57.500Z"
   },
   {
    "duration": 1,
    "start_time": "2023-12-11T21:33:57.500Z"
   },
   {
    "duration": 0,
    "start_time": "2023-12-11T21:33:57.501Z"
   },
   {
    "duration": 1139,
    "start_time": "2023-12-11T21:35:13.870Z"
   },
   {
    "duration": 585,
    "start_time": "2023-12-11T21:35:15.011Z"
   },
   {
    "duration": 12,
    "start_time": "2023-12-11T21:35:15.597Z"
   },
   {
    "duration": 28,
    "start_time": "2023-12-11T21:35:15.611Z"
   },
   {
    "duration": 24,
    "start_time": "2023-12-11T21:35:15.641Z"
   },
   {
    "duration": 13,
    "start_time": "2023-12-11T21:35:15.667Z"
   },
   {
    "duration": 17,
    "start_time": "2023-12-11T21:35:15.682Z"
   },
   {
    "duration": 22,
    "start_time": "2023-12-11T21:35:15.700Z"
   },
   {
    "duration": 16,
    "start_time": "2023-12-11T21:35:15.723Z"
   },
   {
    "duration": 18,
    "start_time": "2023-12-11T21:35:15.742Z"
   },
   {
    "duration": 20,
    "start_time": "2023-12-11T21:35:15.762Z"
   },
   {
    "duration": 32,
    "start_time": "2023-12-11T21:35:15.784Z"
   },
   {
    "duration": 42,
    "start_time": "2023-12-11T21:35:15.817Z"
   },
   {
    "duration": 31,
    "start_time": "2023-12-11T21:35:15.860Z"
   },
   {
    "duration": 8,
    "start_time": "2023-12-11T21:35:15.894Z"
   },
   {
    "duration": 103,
    "start_time": "2023-12-11T21:35:15.904Z"
   },
   {
    "duration": 574,
    "start_time": "2023-12-11T21:35:16.009Z"
   },
   {
    "duration": 142,
    "start_time": "2023-12-11T21:35:16.584Z"
   },
   {
    "duration": 40,
    "start_time": "2023-12-11T21:35:16.782Z"
   },
   {
    "duration": 104,
    "start_time": "2023-12-11T21:35:16.824Z"
   },
   {
    "duration": 58,
    "start_time": "2023-12-11T21:35:16.930Z"
   },
   {
    "duration": 22,
    "start_time": "2023-12-11T21:35:16.989Z"
   },
   {
    "duration": 71,
    "start_time": "2023-12-11T21:35:17.012Z"
   },
   {
    "duration": 9,
    "start_time": "2023-12-11T21:35:17.084Z"
   },
   {
    "duration": 13,
    "start_time": "2023-12-11T21:35:17.095Z"
   },
   {
    "duration": 89,
    "start_time": "2023-12-11T21:35:17.109Z"
   },
   {
    "duration": 4,
    "start_time": "2023-12-11T21:35:17.200Z"
   },
   {
    "duration": 81,
    "start_time": "2023-12-11T21:35:17.208Z"
   },
   {
    "duration": 6,
    "start_time": "2023-12-11T21:35:17.290Z"
   },
   {
    "duration": 30,
    "start_time": "2023-12-11T21:35:17.297Z"
   },
   {
    "duration": 155,
    "start_time": "2023-12-11T21:35:17.328Z"
   },
   {
    "duration": 16,
    "start_time": "2023-12-11T21:35:17.484Z"
   },
   {
    "duration": 8,
    "start_time": "2023-12-11T21:35:17.502Z"
   },
   {
    "duration": 5,
    "start_time": "2023-12-11T21:35:17.511Z"
   },
   {
    "duration": 11,
    "start_time": "2023-12-11T21:35:17.518Z"
   },
   {
    "duration": 10,
    "start_time": "2023-12-11T21:35:17.531Z"
   },
   {
    "duration": 41,
    "start_time": "2023-12-11T21:35:17.542Z"
   },
   {
    "duration": 7,
    "start_time": "2023-12-11T21:35:17.585Z"
   },
   {
    "duration": 7,
    "start_time": "2023-12-11T21:35:17.594Z"
   },
   {
    "duration": 90,
    "start_time": "2023-12-11T21:35:17.603Z"
   },
   {
    "duration": 9,
    "start_time": "2023-12-11T21:35:17.694Z"
   },
   {
    "duration": 100,
    "start_time": "2023-12-11T21:35:17.705Z"
   },
   {
    "duration": 0,
    "start_time": "2023-12-11T21:35:17.806Z"
   },
   {
    "duration": 0,
    "start_time": "2023-12-11T21:35:17.807Z"
   },
   {
    "duration": 0,
    "start_time": "2023-12-11T21:35:17.808Z"
   },
   {
    "duration": 0,
    "start_time": "2023-12-11T21:35:17.809Z"
   },
   {
    "duration": 0,
    "start_time": "2023-12-11T21:35:17.810Z"
   },
   {
    "duration": 0,
    "start_time": "2023-12-11T21:35:17.811Z"
   },
   {
    "duration": 0,
    "start_time": "2023-12-11T21:35:17.812Z"
   },
   {
    "duration": 0,
    "start_time": "2023-12-11T21:35:17.813Z"
   },
   {
    "duration": 0,
    "start_time": "2023-12-11T21:35:17.814Z"
   },
   {
    "duration": 0,
    "start_time": "2023-12-11T21:35:17.815Z"
   },
   {
    "duration": 0,
    "start_time": "2023-12-11T21:35:17.816Z"
   },
   {
    "duration": 0,
    "start_time": "2023-12-11T21:35:17.817Z"
   },
   {
    "duration": 0,
    "start_time": "2023-12-11T21:35:17.818Z"
   },
   {
    "duration": 0,
    "start_time": "2023-12-11T21:35:17.819Z"
   },
   {
    "duration": 1269,
    "start_time": "2023-12-11T21:36:18.850Z"
   },
   {
    "duration": 1113,
    "start_time": "2023-12-11T21:36:20.120Z"
   },
   {
    "duration": 12,
    "start_time": "2023-12-11T21:36:21.234Z"
   },
   {
    "duration": 11,
    "start_time": "2023-12-11T21:36:21.247Z"
   },
   {
    "duration": 5,
    "start_time": "2023-12-11T21:36:21.259Z"
   },
   {
    "duration": 8,
    "start_time": "2023-12-11T21:36:21.265Z"
   },
   {
    "duration": 18,
    "start_time": "2023-12-11T21:36:21.274Z"
   },
   {
    "duration": 19,
    "start_time": "2023-12-11T21:36:21.293Z"
   },
   {
    "duration": 14,
    "start_time": "2023-12-11T21:36:21.314Z"
   },
   {
    "duration": 18,
    "start_time": "2023-12-11T21:36:21.330Z"
   },
   {
    "duration": 6,
    "start_time": "2023-12-11T21:36:21.350Z"
   },
   {
    "duration": 14,
    "start_time": "2023-12-11T21:36:21.357Z"
   },
   {
    "duration": 23,
    "start_time": "2023-12-11T21:36:21.372Z"
   },
   {
    "duration": 29,
    "start_time": "2023-12-11T21:36:21.397Z"
   },
   {
    "duration": 8,
    "start_time": "2023-12-11T21:36:21.428Z"
   },
   {
    "duration": 86,
    "start_time": "2023-12-11T21:36:21.438Z"
   },
   {
    "duration": 280,
    "start_time": "2023-12-11T21:36:21.526Z"
   },
   {
    "duration": 108,
    "start_time": "2023-12-11T21:36:21.808Z"
   },
   {
    "duration": 65,
    "start_time": "2023-12-11T21:36:21.918Z"
   },
   {
    "duration": 63,
    "start_time": "2023-12-11T21:36:21.984Z"
   },
   {
    "duration": 7,
    "start_time": "2023-12-11T21:36:22.048Z"
   },
   {
    "duration": 21,
    "start_time": "2023-12-11T21:36:22.056Z"
   },
   {
    "duration": 14,
    "start_time": "2023-12-11T21:36:22.078Z"
   },
   {
    "duration": 6,
    "start_time": "2023-12-11T21:36:22.093Z"
   },
   {
    "duration": 8,
    "start_time": "2023-12-11T21:36:22.100Z"
   },
   {
    "duration": 30,
    "start_time": "2023-12-11T21:36:22.109Z"
   },
   {
    "duration": 4,
    "start_time": "2023-12-11T21:36:22.140Z"
   },
   {
    "duration": 39,
    "start_time": "2023-12-11T21:36:22.147Z"
   },
   {
    "duration": 4,
    "start_time": "2023-12-11T21:36:22.188Z"
   },
   {
    "duration": 23,
    "start_time": "2023-12-11T21:36:22.193Z"
   },
   {
    "duration": 117,
    "start_time": "2023-12-11T21:36:22.217Z"
   },
   {
    "duration": 15,
    "start_time": "2023-12-11T21:36:22.335Z"
   },
   {
    "duration": 8,
    "start_time": "2023-12-11T21:36:22.352Z"
   },
   {
    "duration": 12,
    "start_time": "2023-12-11T21:36:22.361Z"
   },
   {
    "duration": 17,
    "start_time": "2023-12-11T21:36:22.374Z"
   },
   {
    "duration": 18,
    "start_time": "2023-12-11T21:36:22.392Z"
   },
   {
    "duration": 5,
    "start_time": "2023-12-11T21:36:22.412Z"
   },
   {
    "duration": 9,
    "start_time": "2023-12-11T21:36:22.419Z"
   },
   {
    "duration": 13,
    "start_time": "2023-12-11T21:36:22.429Z"
   },
   {
    "duration": 92,
    "start_time": "2023-12-11T21:36:22.443Z"
   },
   {
    "duration": 8,
    "start_time": "2023-12-11T21:36:22.537Z"
   },
   {
    "duration": 110,
    "start_time": "2023-12-11T21:36:22.547Z"
   },
   {
    "duration": 0,
    "start_time": "2023-12-11T21:36:22.659Z"
   },
   {
    "duration": 0,
    "start_time": "2023-12-11T21:36:22.660Z"
   },
   {
    "duration": 0,
    "start_time": "2023-12-11T21:36:22.662Z"
   },
   {
    "duration": 0,
    "start_time": "2023-12-11T21:36:22.663Z"
   },
   {
    "duration": 0,
    "start_time": "2023-12-11T21:36:22.664Z"
   },
   {
    "duration": 0,
    "start_time": "2023-12-11T21:36:22.666Z"
   },
   {
    "duration": 0,
    "start_time": "2023-12-11T21:36:22.681Z"
   },
   {
    "duration": 0,
    "start_time": "2023-12-11T21:36:22.682Z"
   },
   {
    "duration": 0,
    "start_time": "2023-12-11T21:36:22.684Z"
   },
   {
    "duration": 1,
    "start_time": "2023-12-11T21:36:22.685Z"
   },
   {
    "duration": 0,
    "start_time": "2023-12-11T21:36:22.687Z"
   },
   {
    "duration": 0,
    "start_time": "2023-12-11T21:36:22.688Z"
   },
   {
    "duration": 0,
    "start_time": "2023-12-11T21:36:22.690Z"
   },
   {
    "duration": 0,
    "start_time": "2023-12-11T21:36:22.691Z"
   },
   {
    "duration": 1203,
    "start_time": "2023-12-11T21:36:37.634Z"
   },
   {
    "duration": 631,
    "start_time": "2023-12-11T21:36:38.839Z"
   },
   {
    "duration": 14,
    "start_time": "2023-12-11T21:36:39.472Z"
   },
   {
    "duration": 19,
    "start_time": "2023-12-11T21:36:39.488Z"
   },
   {
    "duration": 11,
    "start_time": "2023-12-11T21:36:39.510Z"
   },
   {
    "duration": 18,
    "start_time": "2023-12-11T21:36:39.522Z"
   },
   {
    "duration": 35,
    "start_time": "2023-12-11T21:36:39.541Z"
   },
   {
    "duration": 20,
    "start_time": "2023-12-11T21:36:39.578Z"
   },
   {
    "duration": 13,
    "start_time": "2023-12-11T21:36:39.599Z"
   },
   {
    "duration": 19,
    "start_time": "2023-12-11T21:36:39.614Z"
   },
   {
    "duration": 7,
    "start_time": "2023-12-11T21:36:39.635Z"
   },
   {
    "duration": 21,
    "start_time": "2023-12-11T21:36:39.643Z"
   },
   {
    "duration": 18,
    "start_time": "2023-12-11T21:36:39.666Z"
   },
   {
    "duration": 26,
    "start_time": "2023-12-11T21:36:39.686Z"
   },
   {
    "duration": 8,
    "start_time": "2023-12-11T21:36:39.713Z"
   },
   {
    "duration": 87,
    "start_time": "2023-12-11T21:36:39.722Z"
   },
   {
    "duration": 489,
    "start_time": "2023-12-11T21:36:39.811Z"
   },
   {
    "duration": 206,
    "start_time": "2023-12-11T21:36:40.301Z"
   },
   {
    "duration": 92,
    "start_time": "2023-12-11T21:36:40.508Z"
   },
   {
    "duration": 109,
    "start_time": "2023-12-11T21:36:40.601Z"
   },
   {
    "duration": 7,
    "start_time": "2023-12-11T21:36:40.712Z"
   },
   {
    "duration": 66,
    "start_time": "2023-12-11T21:36:40.721Z"
   },
   {
    "duration": 10,
    "start_time": "2023-12-11T21:36:40.789Z"
   },
   {
    "duration": 10,
    "start_time": "2023-12-11T21:36:40.800Z"
   },
   {
    "duration": 13,
    "start_time": "2023-12-11T21:36:40.812Z"
   },
   {
    "duration": 86,
    "start_time": "2023-12-11T21:36:40.826Z"
   },
   {
    "duration": 4,
    "start_time": "2023-12-11T21:36:40.914Z"
   },
   {
    "duration": 83,
    "start_time": "2023-12-11T21:36:40.920Z"
   },
   {
    "duration": 21,
    "start_time": "2023-12-11T21:36:41.004Z"
   },
   {
    "duration": 61,
    "start_time": "2023-12-11T21:36:41.026Z"
   },
   {
    "duration": 230,
    "start_time": "2023-12-11T21:36:41.088Z"
   },
   {
    "duration": 76,
    "start_time": "2023-12-11T21:36:41.319Z"
   },
   {
    "duration": 11,
    "start_time": "2023-12-11T21:36:41.397Z"
   },
   {
    "duration": 5,
    "start_time": "2023-12-11T21:36:41.409Z"
   },
   {
    "duration": 13,
    "start_time": "2023-12-11T21:36:41.416Z"
   },
   {
    "duration": 60,
    "start_time": "2023-12-11T21:36:41.430Z"
   },
   {
    "duration": 6,
    "start_time": "2023-12-11T21:36:41.492Z"
   },
   {
    "duration": 6,
    "start_time": "2023-12-11T21:36:41.500Z"
   },
   {
    "duration": 9,
    "start_time": "2023-12-11T21:36:41.507Z"
   },
   {
    "duration": 91,
    "start_time": "2023-12-11T21:36:41.518Z"
   },
   {
    "duration": 7,
    "start_time": "2023-12-11T21:36:41.613Z"
   },
   {
    "duration": 8,
    "start_time": "2023-12-11T21:36:41.621Z"
   },
   {
    "duration": 6,
    "start_time": "2023-12-11T21:36:41.630Z"
   },
   {
    "duration": 3,
    "start_time": "2023-12-11T21:36:41.637Z"
   },
   {
    "duration": 15,
    "start_time": "2023-12-11T21:36:41.641Z"
   },
   {
    "duration": 30,
    "start_time": "2023-12-11T21:36:41.658Z"
   },
   {
    "duration": 381,
    "start_time": "2023-12-11T21:36:41.690Z"
   },
   {
    "duration": 7,
    "start_time": "2023-12-11T21:36:42.072Z"
   },
   {
    "duration": 504,
    "start_time": "2023-12-11T21:36:42.080Z"
   },
   {
    "duration": 10,
    "start_time": "2023-12-11T21:36:42.586Z"
   },
   {
    "duration": 323,
    "start_time": "2023-12-11T21:36:42.598Z"
   },
   {
    "duration": 33,
    "start_time": "2023-12-11T21:36:42.923Z"
   },
   {
    "duration": 14,
    "start_time": "2023-12-11T21:36:42.982Z"
   },
   {
    "duration": 20,
    "start_time": "2023-12-11T21:36:42.997Z"
   },
   {
    "duration": 10,
    "start_time": "2023-12-11T21:36:43.019Z"
   },
   {
    "duration": 60,
    "start_time": "2023-12-11T21:36:43.031Z"
   },
   {
    "duration": 1153,
    "start_time": "2023-12-11T21:39:54.651Z"
   },
   {
    "duration": 586,
    "start_time": "2023-12-11T21:39:55.806Z"
   },
   {
    "duration": 12,
    "start_time": "2023-12-11T21:39:56.393Z"
   },
   {
    "duration": 9,
    "start_time": "2023-12-11T21:39:56.406Z"
   },
   {
    "duration": 5,
    "start_time": "2023-12-11T21:39:56.417Z"
   },
   {
    "duration": 21,
    "start_time": "2023-12-11T21:39:56.423Z"
   },
   {
    "duration": 15,
    "start_time": "2023-12-11T21:39:56.446Z"
   },
   {
    "duration": 21,
    "start_time": "2023-12-11T21:39:56.463Z"
   },
   {
    "duration": 8,
    "start_time": "2023-12-11T21:39:56.485Z"
   },
   {
    "duration": 18,
    "start_time": "2023-12-11T21:39:56.496Z"
   },
   {
    "duration": 7,
    "start_time": "2023-12-11T21:39:56.515Z"
   },
   {
    "duration": 7,
    "start_time": "2023-12-11T21:39:56.523Z"
   },
   {
    "duration": 14,
    "start_time": "2023-12-11T21:39:56.531Z"
   },
   {
    "duration": 54,
    "start_time": "2023-12-11T21:39:56.546Z"
   },
   {
    "duration": 8,
    "start_time": "2023-12-11T21:39:56.601Z"
   },
   {
    "duration": 80,
    "start_time": "2023-12-11T21:39:56.610Z"
   },
   {
    "duration": 256,
    "start_time": "2023-12-11T21:39:56.691Z"
   },
   {
    "duration": 99,
    "start_time": "2023-12-11T21:39:56.948Z"
   },
   {
    "duration": 48,
    "start_time": "2023-12-11T21:39:57.048Z"
   },
   {
    "duration": 56,
    "start_time": "2023-12-11T21:39:57.097Z"
   },
   {
    "duration": 6,
    "start_time": "2023-12-11T21:39:57.154Z"
   },
   {
    "duration": 27,
    "start_time": "2023-12-11T21:39:57.162Z"
   },
   {
    "duration": 9,
    "start_time": "2023-12-11T21:39:57.191Z"
   },
   {
    "duration": 7,
    "start_time": "2023-12-11T21:39:57.201Z"
   },
   {
    "duration": 8,
    "start_time": "2023-12-11T21:39:57.209Z"
   },
   {
    "duration": 30,
    "start_time": "2023-12-11T21:39:57.218Z"
   },
   {
    "duration": 5,
    "start_time": "2023-12-11T21:39:57.249Z"
   },
   {
    "duration": 49,
    "start_time": "2023-12-11T21:39:57.257Z"
   },
   {
    "duration": 10,
    "start_time": "2023-12-11T21:39:57.307Z"
   },
   {
    "duration": 14,
    "start_time": "2023-12-11T21:39:57.318Z"
   },
   {
    "duration": 121,
    "start_time": "2023-12-11T21:39:57.334Z"
   },
   {
    "duration": 16,
    "start_time": "2023-12-11T21:39:57.456Z"
   },
   {
    "duration": 9,
    "start_time": "2023-12-11T21:39:57.482Z"
   },
   {
    "duration": 5,
    "start_time": "2023-12-11T21:39:57.492Z"
   },
   {
    "duration": 23,
    "start_time": "2023-12-11T21:39:57.499Z"
   },
   {
    "duration": 14,
    "start_time": "2023-12-11T21:39:57.523Z"
   },
   {
    "duration": 18,
    "start_time": "2023-12-11T21:39:57.538Z"
   },
   {
    "duration": 10,
    "start_time": "2023-12-11T21:39:57.558Z"
   },
   {
    "duration": 9,
    "start_time": "2023-12-11T21:39:57.570Z"
   },
   {
    "duration": 69,
    "start_time": "2023-12-11T21:39:57.581Z"
   },
   {
    "duration": 9,
    "start_time": "2023-12-11T21:39:57.651Z"
   },
   {
    "duration": 10,
    "start_time": "2023-12-11T21:39:57.662Z"
   },
   {
    "duration": 10,
    "start_time": "2023-12-11T21:39:57.682Z"
   },
   {
    "duration": 6,
    "start_time": "2023-12-11T21:39:57.694Z"
   },
   {
    "duration": 5,
    "start_time": "2023-12-11T21:39:57.701Z"
   },
   {
    "duration": 10,
    "start_time": "2023-12-11T21:39:57.707Z"
   },
   {
    "duration": 17,
    "start_time": "2023-12-11T21:39:57.718Z"
   },
   {
    "duration": 385,
    "start_time": "2023-12-11T21:39:57.737Z"
   },
   {
    "duration": 6,
    "start_time": "2023-12-11T21:39:58.123Z"
   },
   {
    "duration": 564,
    "start_time": "2023-12-11T21:39:58.130Z"
   },
   {
    "duration": 11,
    "start_time": "2023-12-11T21:39:58.695Z"
   },
   {
    "duration": 706,
    "start_time": "2023-12-11T21:39:58.707Z"
   },
   {
    "duration": 92,
    "start_time": "2023-12-11T21:39:59.415Z"
   },
   {
    "duration": 13,
    "start_time": "2023-12-11T21:39:59.508Z"
   },
   {
    "duration": 74,
    "start_time": "2023-12-11T21:39:59.522Z"
   },
   {
    "duration": 6,
    "start_time": "2023-12-11T21:39:59.598Z"
   },
   {
    "duration": 90,
    "start_time": "2023-12-11T21:39:59.606Z"
   },
   {
    "duration": 1155,
    "start_time": "2023-12-11T21:40:45.764Z"
   },
   {
    "duration": 555,
    "start_time": "2023-12-11T21:40:46.921Z"
   },
   {
    "duration": 11,
    "start_time": "2023-12-11T21:40:47.478Z"
   },
   {
    "duration": 13,
    "start_time": "2023-12-11T21:40:47.491Z"
   },
   {
    "duration": 5,
    "start_time": "2023-12-11T21:40:47.505Z"
   },
   {
    "duration": 11,
    "start_time": "2023-12-11T21:40:47.511Z"
   },
   {
    "duration": 12,
    "start_time": "2023-12-11T21:40:47.523Z"
   },
   {
    "duration": 17,
    "start_time": "2023-12-11T21:40:47.536Z"
   },
   {
    "duration": 14,
    "start_time": "2023-12-11T21:40:47.554Z"
   },
   {
    "duration": 24,
    "start_time": "2023-12-11T21:40:47.570Z"
   },
   {
    "duration": 6,
    "start_time": "2023-12-11T21:40:47.595Z"
   },
   {
    "duration": 5,
    "start_time": "2023-12-11T21:40:47.603Z"
   },
   {
    "duration": 12,
    "start_time": "2023-12-11T21:40:47.610Z"
   },
   {
    "duration": 28,
    "start_time": "2023-12-11T21:40:47.623Z"
   },
   {
    "duration": 7,
    "start_time": "2023-12-11T21:40:47.652Z"
   },
   {
    "duration": 82,
    "start_time": "2023-12-11T21:40:47.661Z"
   },
   {
    "duration": 269,
    "start_time": "2023-12-11T21:40:47.744Z"
   },
   {
    "duration": 95,
    "start_time": "2023-12-11T21:40:48.015Z"
   },
   {
    "duration": 39,
    "start_time": "2023-12-11T21:40:48.112Z"
   },
   {
    "duration": 68,
    "start_time": "2023-12-11T21:40:48.152Z"
   },
   {
    "duration": 6,
    "start_time": "2023-12-11T21:40:48.222Z"
   },
   {
    "duration": 11,
    "start_time": "2023-12-11T21:40:48.230Z"
   },
   {
    "duration": 9,
    "start_time": "2023-12-11T21:40:48.243Z"
   },
   {
    "duration": 28,
    "start_time": "2023-12-11T21:40:48.254Z"
   },
   {
    "duration": 6,
    "start_time": "2023-12-11T21:40:48.284Z"
   },
   {
    "duration": 45,
    "start_time": "2023-12-11T21:40:48.291Z"
   },
   {
    "duration": 5,
    "start_time": "2023-12-11T21:40:48.337Z"
   },
   {
    "duration": 21,
    "start_time": "2023-12-11T21:40:48.345Z"
   },
   {
    "duration": 5,
    "start_time": "2023-12-11T21:40:48.367Z"
   },
   {
    "duration": 10,
    "start_time": "2023-12-11T21:40:48.373Z"
   },
   {
    "duration": 118,
    "start_time": "2023-12-11T21:40:48.384Z"
   },
   {
    "duration": 15,
    "start_time": "2023-12-11T21:40:48.504Z"
   },
   {
    "duration": 8,
    "start_time": "2023-12-11T21:40:48.521Z"
   },
   {
    "duration": 10,
    "start_time": "2023-12-11T21:40:48.530Z"
   },
   {
    "duration": 22,
    "start_time": "2023-12-11T21:40:48.541Z"
   },
   {
    "duration": 22,
    "start_time": "2023-12-11T21:40:48.565Z"
   },
   {
    "duration": 5,
    "start_time": "2023-12-11T21:40:48.588Z"
   },
   {
    "duration": 8,
    "start_time": "2023-12-11T21:40:48.595Z"
   },
   {
    "duration": 5,
    "start_time": "2023-12-11T21:40:48.604Z"
   },
   {
    "duration": 80,
    "start_time": "2023-12-11T21:40:48.611Z"
   },
   {
    "duration": 8,
    "start_time": "2023-12-11T21:40:48.693Z"
   },
   {
    "duration": 4,
    "start_time": "2023-12-11T21:40:48.702Z"
   },
   {
    "duration": 10,
    "start_time": "2023-12-11T21:40:48.707Z"
   },
   {
    "duration": 3,
    "start_time": "2023-12-11T21:40:48.718Z"
   },
   {
    "duration": 5,
    "start_time": "2023-12-11T21:40:48.722Z"
   },
   {
    "duration": 7,
    "start_time": "2023-12-11T21:40:48.728Z"
   },
   {
    "duration": 14,
    "start_time": "2023-12-11T21:40:48.736Z"
   },
   {
    "duration": 407,
    "start_time": "2023-12-11T21:40:48.782Z"
   },
   {
    "duration": 7,
    "start_time": "2023-12-11T21:40:49.191Z"
   },
   {
    "duration": 804,
    "start_time": "2023-12-11T21:40:49.200Z"
   },
   {
    "duration": 11,
    "start_time": "2023-12-11T21:40:50.005Z"
   },
   {
    "duration": 607,
    "start_time": "2023-12-11T21:40:50.018Z"
   },
   {
    "duration": 58,
    "start_time": "2023-12-11T21:40:50.626Z"
   },
   {
    "duration": 13,
    "start_time": "2023-12-11T21:40:50.685Z"
   },
   {
    "duration": 26,
    "start_time": "2023-12-11T21:40:50.699Z"
   },
   {
    "duration": 6,
    "start_time": "2023-12-11T21:40:50.727Z"
   },
   {
    "duration": 52,
    "start_time": "2023-12-11T21:40:50.735Z"
   },
   {
    "duration": 1125,
    "start_time": "2023-12-11T21:44:55.401Z"
   },
   {
    "duration": 573,
    "start_time": "2023-12-11T21:44:56.527Z"
   },
   {
    "duration": 11,
    "start_time": "2023-12-11T21:44:57.101Z"
   },
   {
    "duration": 8,
    "start_time": "2023-12-11T21:44:57.113Z"
   },
   {
    "duration": 11,
    "start_time": "2023-12-11T21:44:57.123Z"
   },
   {
    "duration": 15,
    "start_time": "2023-12-11T21:44:57.136Z"
   },
   {
    "duration": 11,
    "start_time": "2023-12-11T21:44:57.152Z"
   },
   {
    "duration": 11,
    "start_time": "2023-12-11T21:44:57.164Z"
   },
   {
    "duration": 7,
    "start_time": "2023-12-11T21:44:57.182Z"
   },
   {
    "duration": 27,
    "start_time": "2023-12-11T21:44:57.190Z"
   },
   {
    "duration": 10,
    "start_time": "2023-12-11T21:44:57.218Z"
   },
   {
    "duration": 12,
    "start_time": "2023-12-11T21:44:57.229Z"
   },
   {
    "duration": 13,
    "start_time": "2023-12-11T21:44:57.242Z"
   },
   {
    "duration": 43,
    "start_time": "2023-12-11T21:44:57.257Z"
   },
   {
    "duration": 8,
    "start_time": "2023-12-11T21:44:57.301Z"
   },
   {
    "duration": 74,
    "start_time": "2023-12-11T21:44:57.310Z"
   },
   {
    "duration": 256,
    "start_time": "2023-12-11T21:44:57.386Z"
   },
   {
    "duration": 101,
    "start_time": "2023-12-11T21:44:57.644Z"
   },
   {
    "duration": 54,
    "start_time": "2023-12-11T21:44:57.746Z"
   },
   {
    "duration": 74,
    "start_time": "2023-12-11T21:44:57.801Z"
   },
   {
    "duration": 7,
    "start_time": "2023-12-11T21:44:57.876Z"
   },
   {
    "duration": 11,
    "start_time": "2023-12-11T21:44:57.884Z"
   },
   {
    "duration": 8,
    "start_time": "2023-12-11T21:44:57.896Z"
   },
   {
    "duration": 12,
    "start_time": "2023-12-11T21:44:57.905Z"
   },
   {
    "duration": 15,
    "start_time": "2023-12-11T21:44:57.918Z"
   },
   {
    "duration": 40,
    "start_time": "2023-12-11T21:44:57.934Z"
   },
   {
    "duration": 4,
    "start_time": "2023-12-11T21:44:57.975Z"
   },
   {
    "duration": 21,
    "start_time": "2023-12-11T21:44:57.982Z"
   },
   {
    "duration": 5,
    "start_time": "2023-12-11T21:44:58.004Z"
   },
   {
    "duration": 7,
    "start_time": "2023-12-11T21:44:58.011Z"
   },
   {
    "duration": 132,
    "start_time": "2023-12-11T21:44:58.019Z"
   },
   {
    "duration": 15,
    "start_time": "2023-12-11T21:44:58.153Z"
   },
   {
    "duration": 17,
    "start_time": "2023-12-11T21:44:58.169Z"
   },
   {
    "duration": 5,
    "start_time": "2023-12-11T21:44:58.187Z"
   },
   {
    "duration": 14,
    "start_time": "2023-12-11T21:44:58.193Z"
   },
   {
    "duration": 11,
    "start_time": "2023-12-11T21:44:58.208Z"
   },
   {
    "duration": 28,
    "start_time": "2023-12-11T21:44:58.220Z"
   },
   {
    "duration": 60,
    "start_time": "2023-12-11T21:44:58.250Z"
   },
   {
    "duration": 8,
    "start_time": "2023-12-11T21:44:58.311Z"
   },
   {
    "duration": 72,
    "start_time": "2023-12-11T21:44:58.320Z"
   },
   {
    "duration": 7,
    "start_time": "2023-12-11T21:44:58.395Z"
   },
   {
    "duration": 4,
    "start_time": "2023-12-11T21:44:58.404Z"
   },
   {
    "duration": 13,
    "start_time": "2023-12-11T21:44:58.409Z"
   },
   {
    "duration": 10,
    "start_time": "2023-12-11T21:44:58.423Z"
   },
   {
    "duration": 27,
    "start_time": "2023-12-11T21:44:58.434Z"
   },
   {
    "duration": 31,
    "start_time": "2023-12-11T21:44:58.462Z"
   },
   {
    "duration": 42,
    "start_time": "2023-12-11T21:44:58.494Z"
   },
   {
    "duration": 349,
    "start_time": "2023-12-11T21:44:58.538Z"
   },
   {
    "duration": 7,
    "start_time": "2023-12-11T21:44:58.888Z"
   },
   {
    "duration": 501,
    "start_time": "2023-12-11T21:44:58.896Z"
   },
   {
    "duration": 11,
    "start_time": "2023-12-11T21:44:59.399Z"
   },
   {
    "duration": 362,
    "start_time": "2023-12-11T21:44:59.412Z"
   },
   {
    "duration": 38,
    "start_time": "2023-12-11T21:44:59.776Z"
   },
   {
    "duration": 17,
    "start_time": "2023-12-11T21:44:59.815Z"
   },
   {
    "duration": 62,
    "start_time": "2023-12-11T21:44:59.833Z"
   },
   {
    "duration": 7,
    "start_time": "2023-12-11T21:44:59.897Z"
   },
   {
    "duration": 43,
    "start_time": "2023-12-11T21:44:59.905Z"
   },
   {
    "duration": 1535,
    "start_time": "2023-12-11T21:45:28.963Z"
   },
   {
    "duration": 776,
    "start_time": "2023-12-11T21:45:30.500Z"
   },
   {
    "duration": 11,
    "start_time": "2023-12-11T21:45:31.277Z"
   },
   {
    "duration": 22,
    "start_time": "2023-12-11T21:45:31.289Z"
   },
   {
    "duration": 25,
    "start_time": "2023-12-11T21:45:31.312Z"
   },
   {
    "duration": 38,
    "start_time": "2023-12-11T21:45:31.339Z"
   },
   {
    "duration": 27,
    "start_time": "2023-12-11T21:45:31.378Z"
   },
   {
    "duration": 29,
    "start_time": "2023-12-11T21:45:31.406Z"
   },
   {
    "duration": 34,
    "start_time": "2023-12-11T21:45:31.436Z"
   },
   {
    "duration": 40,
    "start_time": "2023-12-11T21:45:31.472Z"
   },
   {
    "duration": 15,
    "start_time": "2023-12-11T21:45:31.514Z"
   },
   {
    "duration": 39,
    "start_time": "2023-12-11T21:45:31.530Z"
   },
   {
    "duration": 15,
    "start_time": "2023-12-11T21:45:31.570Z"
   },
   {
    "duration": 38,
    "start_time": "2023-12-11T21:45:31.587Z"
   },
   {
    "duration": 9,
    "start_time": "2023-12-11T21:45:31.626Z"
   },
   {
    "duration": 72,
    "start_time": "2023-12-11T21:45:31.636Z"
   },
   {
    "duration": 256,
    "start_time": "2023-12-11T21:45:31.709Z"
   },
   {
    "duration": 96,
    "start_time": "2023-12-11T21:45:31.966Z"
   },
   {
    "duration": 47,
    "start_time": "2023-12-11T21:45:32.064Z"
   },
   {
    "duration": 74,
    "start_time": "2023-12-11T21:45:32.113Z"
   },
   {
    "duration": 5,
    "start_time": "2023-12-11T21:45:32.189Z"
   },
   {
    "duration": 26,
    "start_time": "2023-12-11T21:45:32.195Z"
   },
   {
    "duration": 8,
    "start_time": "2023-12-11T21:45:32.222Z"
   },
   {
    "duration": 16,
    "start_time": "2023-12-11T21:45:32.231Z"
   },
   {
    "duration": 31,
    "start_time": "2023-12-11T21:45:32.248Z"
   },
   {
    "duration": 27,
    "start_time": "2023-12-11T21:45:32.281Z"
   },
   {
    "duration": 4,
    "start_time": "2023-12-11T21:45:32.309Z"
   },
   {
    "duration": 22,
    "start_time": "2023-12-11T21:45:32.316Z"
   },
   {
    "duration": 5,
    "start_time": "2023-12-11T21:45:32.340Z"
   },
   {
    "duration": 20,
    "start_time": "2023-12-11T21:45:32.346Z"
   },
   {
    "duration": 124,
    "start_time": "2023-12-11T21:45:32.382Z"
   },
   {
    "duration": 20,
    "start_time": "2023-12-11T21:45:32.508Z"
   },
   {
    "duration": 11,
    "start_time": "2023-12-11T21:45:32.529Z"
   },
   {
    "duration": 5,
    "start_time": "2023-12-11T21:45:32.542Z"
   },
   {
    "duration": 37,
    "start_time": "2023-12-11T21:45:32.549Z"
   },
   {
    "duration": 12,
    "start_time": "2023-12-11T21:45:32.588Z"
   },
   {
    "duration": 6,
    "start_time": "2023-12-11T21:45:32.602Z"
   },
   {
    "duration": 6,
    "start_time": "2023-12-11T21:45:32.609Z"
   },
   {
    "duration": 5,
    "start_time": "2023-12-11T21:45:32.616Z"
   },
   {
    "duration": 98,
    "start_time": "2023-12-11T21:45:32.622Z"
   },
   {
    "duration": 8,
    "start_time": "2023-12-11T21:45:32.721Z"
   },
   {
    "duration": 10,
    "start_time": "2023-12-11T21:45:32.731Z"
   },
   {
    "duration": 10,
    "start_time": "2023-12-11T21:45:32.742Z"
   },
   {
    "duration": 4,
    "start_time": "2023-12-11T21:45:32.754Z"
   },
   {
    "duration": 22,
    "start_time": "2023-12-11T21:45:32.760Z"
   },
   {
    "duration": 7,
    "start_time": "2023-12-11T21:45:32.783Z"
   },
   {
    "duration": 15,
    "start_time": "2023-12-11T21:45:32.791Z"
   },
   {
    "duration": 374,
    "start_time": "2023-12-11T21:45:32.808Z"
   },
   {
    "duration": 6,
    "start_time": "2023-12-11T21:45:33.184Z"
   },
   {
    "duration": 439,
    "start_time": "2023-12-11T21:45:33.191Z"
   },
   {
    "duration": 10,
    "start_time": "2023-12-11T21:45:33.631Z"
   },
   {
    "duration": 353,
    "start_time": "2023-12-11T21:45:33.642Z"
   },
   {
    "duration": 34,
    "start_time": "2023-12-11T21:45:33.997Z"
   },
   {
    "duration": 20,
    "start_time": "2023-12-11T21:45:34.032Z"
   },
   {
    "duration": 40,
    "start_time": "2023-12-11T21:45:34.054Z"
   },
   {
    "duration": 16,
    "start_time": "2023-12-11T21:45:34.095Z"
   },
   {
    "duration": 41,
    "start_time": "2023-12-11T21:45:34.113Z"
   },
   {
    "duration": 1089,
    "start_time": "2023-12-11T21:45:44.931Z"
   },
   {
    "duration": 575,
    "start_time": "2023-12-11T21:45:46.021Z"
   },
   {
    "duration": 11,
    "start_time": "2023-12-11T21:45:46.597Z"
   },
   {
    "duration": 9,
    "start_time": "2023-12-11T21:45:46.610Z"
   },
   {
    "duration": 6,
    "start_time": "2023-12-11T21:45:46.620Z"
   },
   {
    "duration": 28,
    "start_time": "2023-12-11T21:45:46.627Z"
   },
   {
    "duration": 14,
    "start_time": "2023-12-11T21:45:46.656Z"
   },
   {
    "duration": 9,
    "start_time": "2023-12-11T21:45:46.671Z"
   },
   {
    "duration": 9,
    "start_time": "2023-12-11T21:45:46.681Z"
   },
   {
    "duration": 17,
    "start_time": "2023-12-11T21:45:46.692Z"
   },
   {
    "duration": 8,
    "start_time": "2023-12-11T21:45:46.710Z"
   },
   {
    "duration": 7,
    "start_time": "2023-12-11T21:45:46.719Z"
   },
   {
    "duration": 15,
    "start_time": "2023-12-11T21:45:46.727Z"
   },
   {
    "duration": 47,
    "start_time": "2023-12-11T21:45:46.743Z"
   },
   {
    "duration": 7,
    "start_time": "2023-12-11T21:45:46.792Z"
   },
   {
    "duration": 68,
    "start_time": "2023-12-11T21:45:46.800Z"
   },
   {
    "duration": 261,
    "start_time": "2023-12-11T21:45:46.881Z"
   },
   {
    "duration": 96,
    "start_time": "2023-12-11T21:45:47.143Z"
   },
   {
    "duration": 50,
    "start_time": "2023-12-11T21:45:47.240Z"
   },
   {
    "duration": 61,
    "start_time": "2023-12-11T21:45:47.291Z"
   },
   {
    "duration": 7,
    "start_time": "2023-12-11T21:45:47.353Z"
   },
   {
    "duration": 15,
    "start_time": "2023-12-11T21:45:47.361Z"
   },
   {
    "duration": 11,
    "start_time": "2023-12-11T21:45:47.377Z"
   },
   {
    "duration": 5,
    "start_time": "2023-12-11T21:45:47.390Z"
   },
   {
    "duration": 10,
    "start_time": "2023-12-11T21:45:47.396Z"
   },
   {
    "duration": 43,
    "start_time": "2023-12-11T21:45:47.407Z"
   },
   {
    "duration": 4,
    "start_time": "2023-12-11T21:45:47.452Z"
   },
   {
    "duration": 34,
    "start_time": "2023-12-11T21:45:47.459Z"
   },
   {
    "duration": 5,
    "start_time": "2023-12-11T21:45:47.494Z"
   },
   {
    "duration": 13,
    "start_time": "2023-12-11T21:45:47.500Z"
   },
   {
    "duration": 127,
    "start_time": "2023-12-11T21:45:47.514Z"
   },
   {
    "duration": 16,
    "start_time": "2023-12-11T21:45:47.643Z"
   },
   {
    "duration": 11,
    "start_time": "2023-12-11T21:45:47.660Z"
   },
   {
    "duration": 5,
    "start_time": "2023-12-11T21:45:47.682Z"
   },
   {
    "duration": 13,
    "start_time": "2023-12-11T21:45:47.688Z"
   },
   {
    "duration": 10,
    "start_time": "2023-12-11T21:45:47.703Z"
   },
   {
    "duration": 5,
    "start_time": "2023-12-11T21:45:47.714Z"
   },
   {
    "duration": 5,
    "start_time": "2023-12-11T21:45:47.721Z"
   },
   {
    "duration": 5,
    "start_time": "2023-12-11T21:45:47.728Z"
   },
   {
    "duration": 155,
    "start_time": "2023-12-11T21:45:47.734Z"
   },
   {
    "duration": 8,
    "start_time": "2023-12-11T21:45:47.891Z"
   },
   {
    "duration": 5,
    "start_time": "2023-12-11T21:45:47.900Z"
   },
   {
    "duration": 77,
    "start_time": "2023-12-11T21:45:47.906Z"
   },
   {
    "duration": 4,
    "start_time": "2023-12-11T21:45:47.984Z"
   },
   {
    "duration": 6,
    "start_time": "2023-12-11T21:45:47.989Z"
   },
   {
    "duration": 12,
    "start_time": "2023-12-11T21:45:47.997Z"
   },
   {
    "duration": 21,
    "start_time": "2023-12-11T21:45:48.010Z"
   },
   {
    "duration": 652,
    "start_time": "2023-12-11T21:45:48.082Z"
   },
   {
    "duration": 47,
    "start_time": "2023-12-11T21:45:48.736Z"
   },
   {
    "duration": 640,
    "start_time": "2023-12-11T21:45:48.785Z"
   },
   {
    "duration": 10,
    "start_time": "2023-12-11T21:45:49.427Z"
   },
   {
    "duration": 349,
    "start_time": "2023-12-11T21:45:49.439Z"
   },
   {
    "duration": 37,
    "start_time": "2023-12-11T21:45:49.789Z"
   },
   {
    "duration": 17,
    "start_time": "2023-12-11T21:45:49.827Z"
   },
   {
    "duration": 55,
    "start_time": "2023-12-11T21:45:49.846Z"
   },
   {
    "duration": 6,
    "start_time": "2023-12-11T21:45:49.903Z"
   },
   {
    "duration": 35,
    "start_time": "2023-12-11T21:45:49.910Z"
   },
   {
    "duration": 1173,
    "start_time": "2023-12-11T21:46:09.174Z"
   },
   {
    "duration": 592,
    "start_time": "2023-12-11T21:46:10.349Z"
   },
   {
    "duration": 12,
    "start_time": "2023-12-11T21:46:10.943Z"
   },
   {
    "duration": 9,
    "start_time": "2023-12-11T21:46:10.957Z"
   },
   {
    "duration": 12,
    "start_time": "2023-12-11T21:46:10.968Z"
   },
   {
    "duration": 24,
    "start_time": "2023-12-11T21:46:10.982Z"
   },
   {
    "duration": 12,
    "start_time": "2023-12-11T21:46:11.007Z"
   },
   {
    "duration": 9,
    "start_time": "2023-12-11T21:46:11.021Z"
   },
   {
    "duration": 8,
    "start_time": "2023-12-11T21:46:11.031Z"
   },
   {
    "duration": 24,
    "start_time": "2023-12-11T21:46:11.041Z"
   },
   {
    "duration": 7,
    "start_time": "2023-12-11T21:46:11.067Z"
   },
   {
    "duration": 11,
    "start_time": "2023-12-11T21:46:11.075Z"
   },
   {
    "duration": 14,
    "start_time": "2023-12-11T21:46:11.087Z"
   },
   {
    "duration": 29,
    "start_time": "2023-12-11T21:46:11.103Z"
   },
   {
    "duration": 9,
    "start_time": "2023-12-11T21:46:11.133Z"
   },
   {
    "duration": 90,
    "start_time": "2023-12-11T21:46:11.143Z"
   },
   {
    "duration": 323,
    "start_time": "2023-12-11T21:46:11.235Z"
   },
   {
    "duration": 107,
    "start_time": "2023-12-11T21:46:11.560Z"
   },
   {
    "duration": 50,
    "start_time": "2023-12-11T21:46:11.668Z"
   },
   {
    "duration": 85,
    "start_time": "2023-12-11T21:46:11.719Z"
   },
   {
    "duration": 7,
    "start_time": "2023-12-11T21:46:11.805Z"
   },
   {
    "duration": 73,
    "start_time": "2023-12-11T21:46:11.814Z"
   },
   {
    "duration": 12,
    "start_time": "2023-12-11T21:46:11.888Z"
   },
   {
    "duration": 7,
    "start_time": "2023-12-11T21:46:11.902Z"
   },
   {
    "duration": 12,
    "start_time": "2023-12-11T21:46:11.910Z"
   },
   {
    "duration": 84,
    "start_time": "2023-12-11T21:46:11.923Z"
   },
   {
    "duration": 5,
    "start_time": "2023-12-11T21:46:12.008Z"
   },
   {
    "duration": 75,
    "start_time": "2023-12-11T21:46:12.016Z"
   },
   {
    "duration": 6,
    "start_time": "2023-12-11T21:46:12.093Z"
   },
   {
    "duration": 22,
    "start_time": "2023-12-11T21:46:12.100Z"
   },
   {
    "duration": 270,
    "start_time": "2023-12-11T21:46:12.124Z"
   },
   {
    "duration": 16,
    "start_time": "2023-12-11T21:46:12.395Z"
   },
   {
    "duration": 8,
    "start_time": "2023-12-11T21:46:12.413Z"
   },
   {
    "duration": 60,
    "start_time": "2023-12-11T21:46:12.423Z"
   },
   {
    "duration": 18,
    "start_time": "2023-12-11T21:46:12.484Z"
   },
   {
    "duration": 11,
    "start_time": "2023-12-11T21:46:12.503Z"
   },
   {
    "duration": 6,
    "start_time": "2023-12-11T21:46:12.516Z"
   },
   {
    "duration": 59,
    "start_time": "2023-12-11T21:46:12.523Z"
   },
   {
    "duration": 5,
    "start_time": "2023-12-11T21:46:12.584Z"
   },
   {
    "duration": 128,
    "start_time": "2023-12-11T21:46:12.590Z"
   },
   {
    "duration": 9,
    "start_time": "2023-12-11T21:46:12.719Z"
   },
   {
    "duration": 55,
    "start_time": "2023-12-11T21:46:12.729Z"
   },
   {
    "duration": 12,
    "start_time": "2023-12-11T21:46:12.786Z"
   },
   {
    "duration": 4,
    "start_time": "2023-12-11T21:46:12.799Z"
   },
   {
    "duration": 12,
    "start_time": "2023-12-11T21:46:12.804Z"
   },
   {
    "duration": 8,
    "start_time": "2023-12-11T21:46:12.817Z"
   },
   {
    "duration": 67,
    "start_time": "2023-12-11T21:46:12.827Z"
   },
   {
    "duration": 551,
    "start_time": "2023-12-11T21:46:12.895Z"
   },
   {
    "duration": 7,
    "start_time": "2023-12-11T21:46:13.447Z"
   },
   {
    "duration": 468,
    "start_time": "2023-12-11T21:46:13.456Z"
   },
   {
    "duration": 10,
    "start_time": "2023-12-11T21:46:13.926Z"
   },
   {
    "duration": 334,
    "start_time": "2023-12-11T21:46:13.937Z"
   },
   {
    "duration": 39,
    "start_time": "2023-12-11T21:46:14.273Z"
   },
   {
    "duration": 14,
    "start_time": "2023-12-11T21:46:14.313Z"
   },
   {
    "duration": 58,
    "start_time": "2023-12-11T21:46:14.328Z"
   },
   {
    "duration": 6,
    "start_time": "2023-12-11T21:46:14.388Z"
   },
   {
    "duration": 37,
    "start_time": "2023-12-11T21:46:14.395Z"
   },
   {
    "duration": 1121,
    "start_time": "2023-12-11T21:52:19.945Z"
   },
   {
    "duration": 591,
    "start_time": "2023-12-11T21:52:21.069Z"
   },
   {
    "duration": 13,
    "start_time": "2023-12-11T21:52:21.662Z"
   },
   {
    "duration": 17,
    "start_time": "2023-12-11T21:52:21.677Z"
   },
   {
    "duration": 22,
    "start_time": "2023-12-11T21:52:21.696Z"
   },
   {
    "duration": 12,
    "start_time": "2023-12-11T21:52:21.720Z"
   },
   {
    "duration": 23,
    "start_time": "2023-12-11T21:52:21.734Z"
   },
   {
    "duration": 19,
    "start_time": "2023-12-11T21:52:21.759Z"
   },
   {
    "duration": 26,
    "start_time": "2023-12-11T21:52:21.781Z"
   },
   {
    "duration": 33,
    "start_time": "2023-12-11T21:52:21.809Z"
   },
   {
    "duration": 10,
    "start_time": "2023-12-11T21:52:21.844Z"
   },
   {
    "duration": 15,
    "start_time": "2023-12-11T21:52:21.855Z"
   },
   {
    "duration": 25,
    "start_time": "2023-12-11T21:52:21.871Z"
   },
   {
    "duration": 55,
    "start_time": "2023-12-11T21:52:21.898Z"
   },
   {
    "duration": 9,
    "start_time": "2023-12-11T21:52:21.955Z"
   },
   {
    "duration": 125,
    "start_time": "2023-12-11T21:52:21.965Z"
   },
   {
    "duration": 513,
    "start_time": "2023-12-11T21:52:22.092Z"
   },
   {
    "duration": 202,
    "start_time": "2023-12-11T21:52:22.607Z"
   },
   {
    "duration": 95,
    "start_time": "2023-12-11T21:52:22.811Z"
   },
   {
    "duration": 107,
    "start_time": "2023-12-11T21:52:22.908Z"
   },
   {
    "duration": 6,
    "start_time": "2023-12-11T21:52:23.017Z"
   },
   {
    "duration": 64,
    "start_time": "2023-12-11T21:52:23.024Z"
   },
   {
    "duration": 8,
    "start_time": "2023-12-11T21:52:23.090Z"
   },
   {
    "duration": 7,
    "start_time": "2023-12-11T21:52:23.099Z"
   },
   {
    "duration": 17,
    "start_time": "2023-12-11T21:52:23.107Z"
   },
   {
    "duration": 81,
    "start_time": "2023-12-11T21:52:23.125Z"
   },
   {
    "duration": 4,
    "start_time": "2023-12-11T21:52:23.210Z"
   },
   {
    "duration": 79,
    "start_time": "2023-12-11T21:52:23.215Z"
   },
   {
    "duration": 5,
    "start_time": "2023-12-11T21:52:23.296Z"
   },
   {
    "duration": 13,
    "start_time": "2023-12-11T21:52:23.303Z"
   },
   {
    "duration": 198,
    "start_time": "2023-12-11T21:52:23.318Z"
   },
   {
    "duration": 16,
    "start_time": "2023-12-11T21:52:23.517Z"
   },
   {
    "duration": 35,
    "start_time": "2023-12-11T21:52:23.534Z"
   },
   {
    "duration": 55,
    "start_time": "2023-12-11T21:52:23.570Z"
   },
   {
    "duration": 27,
    "start_time": "2023-12-11T21:52:23.626Z"
   },
   {
    "duration": 25,
    "start_time": "2023-12-11T21:52:23.655Z"
   },
   {
    "duration": 6,
    "start_time": "2023-12-11T21:52:23.682Z"
   },
   {
    "duration": 6,
    "start_time": "2023-12-11T21:52:23.689Z"
   },
   {
    "duration": 6,
    "start_time": "2023-12-11T21:52:23.696Z"
   },
   {
    "duration": 84,
    "start_time": "2023-12-11T21:52:23.703Z"
   },
   {
    "duration": 8,
    "start_time": "2023-12-11T21:52:23.788Z"
   },
   {
    "duration": 1187,
    "start_time": "2023-12-11T21:52:23.797Z"
   },
   {
    "duration": 0,
    "start_time": "2023-12-11T21:52:24.986Z"
   },
   {
    "duration": 0,
    "start_time": "2023-12-11T21:52:24.987Z"
   },
   {
    "duration": 0,
    "start_time": "2023-12-11T21:52:24.989Z"
   },
   {
    "duration": 0,
    "start_time": "2023-12-11T21:52:24.990Z"
   },
   {
    "duration": 0,
    "start_time": "2023-12-11T21:52:24.992Z"
   },
   {
    "duration": 0,
    "start_time": "2023-12-11T21:52:24.993Z"
   },
   {
    "duration": 0,
    "start_time": "2023-12-11T21:52:24.994Z"
   },
   {
    "duration": 0,
    "start_time": "2023-12-11T21:52:24.996Z"
   },
   {
    "duration": 0,
    "start_time": "2023-12-11T21:52:24.997Z"
   },
   {
    "duration": 0,
    "start_time": "2023-12-11T21:52:24.998Z"
   },
   {
    "duration": 0,
    "start_time": "2023-12-11T21:52:24.999Z"
   },
   {
    "duration": 0,
    "start_time": "2023-12-11T21:52:25.001Z"
   },
   {
    "duration": 0,
    "start_time": "2023-12-11T21:52:25.002Z"
   },
   {
    "duration": 0,
    "start_time": "2023-12-11T21:52:25.004Z"
   },
   {
    "duration": 0,
    "start_time": "2023-12-11T21:52:25.006Z"
   },
   {
    "duration": 0,
    "start_time": "2023-12-11T21:52:25.007Z"
   },
   {
    "duration": 1161,
    "start_time": "2023-12-11T21:52:35.791Z"
   },
   {
    "duration": 583,
    "start_time": "2023-12-11T21:52:36.954Z"
   },
   {
    "duration": 13,
    "start_time": "2023-12-11T21:52:37.538Z"
   },
   {
    "duration": 10,
    "start_time": "2023-12-11T21:52:37.553Z"
   },
   {
    "duration": 4,
    "start_time": "2023-12-11T21:52:37.565Z"
   },
   {
    "duration": 15,
    "start_time": "2023-12-11T21:52:37.570Z"
   },
   {
    "duration": 18,
    "start_time": "2023-12-11T21:52:37.586Z"
   },
   {
    "duration": 12,
    "start_time": "2023-12-11T21:52:37.605Z"
   },
   {
    "duration": 11,
    "start_time": "2023-12-11T21:52:37.619Z"
   },
   {
    "duration": 25,
    "start_time": "2023-12-11T21:52:37.632Z"
   },
   {
    "duration": 7,
    "start_time": "2023-12-11T21:52:37.681Z"
   },
   {
    "duration": 9,
    "start_time": "2023-12-11T21:52:37.690Z"
   },
   {
    "duration": 16,
    "start_time": "2023-12-11T21:52:37.700Z"
   },
   {
    "duration": 82,
    "start_time": "2023-12-11T21:52:37.719Z"
   },
   {
    "duration": 9,
    "start_time": "2023-12-11T21:52:37.802Z"
   },
   {
    "duration": 180,
    "start_time": "2023-12-11T21:52:37.812Z"
   },
   {
    "duration": 609,
    "start_time": "2023-12-11T21:52:37.994Z"
   },
   {
    "duration": 209,
    "start_time": "2023-12-11T21:52:38.605Z"
   },
   {
    "duration": 101,
    "start_time": "2023-12-11T21:52:38.815Z"
   },
   {
    "duration": 168,
    "start_time": "2023-12-11T21:52:38.918Z"
   },
   {
    "duration": 8,
    "start_time": "2023-12-11T21:52:39.088Z"
   },
   {
    "duration": 36,
    "start_time": "2023-12-11T21:52:39.098Z"
   },
   {
    "duration": 54,
    "start_time": "2023-12-11T21:52:39.135Z"
   },
   {
    "duration": 7,
    "start_time": "2023-12-11T21:52:39.190Z"
   },
   {
    "duration": 12,
    "start_time": "2023-12-11T21:52:39.198Z"
   },
   {
    "duration": 47,
    "start_time": "2023-12-11T21:52:39.211Z"
   },
   {
    "duration": 5,
    "start_time": "2023-12-11T21:52:39.259Z"
   },
   {
    "duration": 32,
    "start_time": "2023-12-11T21:52:39.265Z"
   },
   {
    "duration": 6,
    "start_time": "2023-12-11T21:52:39.299Z"
   },
   {
    "duration": 10,
    "start_time": "2023-12-11T21:52:39.306Z"
   },
   {
    "duration": 139,
    "start_time": "2023-12-11T21:52:39.318Z"
   },
   {
    "duration": 24,
    "start_time": "2023-12-11T21:52:39.459Z"
   },
   {
    "duration": 9,
    "start_time": "2023-12-11T21:52:39.485Z"
   },
   {
    "duration": 5,
    "start_time": "2023-12-11T21:52:39.496Z"
   },
   {
    "duration": 15,
    "start_time": "2023-12-11T21:52:39.503Z"
   },
   {
    "duration": 13,
    "start_time": "2023-12-11T21:52:39.519Z"
   },
   {
    "duration": 6,
    "start_time": "2023-12-11T21:52:39.533Z"
   },
   {
    "duration": 42,
    "start_time": "2023-12-11T21:52:39.541Z"
   },
   {
    "duration": 7,
    "start_time": "2023-12-11T21:52:39.584Z"
   },
   {
    "duration": 77,
    "start_time": "2023-12-11T21:52:39.592Z"
   },
   {
    "duration": 14,
    "start_time": "2023-12-11T21:52:39.673Z"
   },
   {
    "duration": 14,
    "start_time": "2023-12-11T21:52:39.689Z"
   },
   {
    "duration": 4,
    "start_time": "2023-12-11T21:52:39.704Z"
   },
   {
    "duration": 13,
    "start_time": "2023-12-11T21:52:39.710Z"
   },
   {
    "duration": 4,
    "start_time": "2023-12-11T21:52:39.725Z"
   },
   {
    "duration": 12,
    "start_time": "2023-12-11T21:52:39.730Z"
   },
   {
    "duration": 10,
    "start_time": "2023-12-11T21:52:39.744Z"
   },
   {
    "duration": 40,
    "start_time": "2023-12-11T21:52:39.756Z"
   },
   {
    "duration": 386,
    "start_time": "2023-12-11T21:52:39.797Z"
   },
   {
    "duration": 6,
    "start_time": "2023-12-11T21:52:40.184Z"
   },
   {
    "duration": 512,
    "start_time": "2023-12-11T21:52:40.191Z"
   },
   {
    "duration": 12,
    "start_time": "2023-12-11T21:52:40.705Z"
   },
   {
    "duration": 414,
    "start_time": "2023-12-11T21:52:40.718Z"
   },
   {
    "duration": 68,
    "start_time": "2023-12-11T21:52:41.134Z"
   },
   {
    "duration": 14,
    "start_time": "2023-12-11T21:52:41.203Z"
   },
   {
    "duration": 20,
    "start_time": "2023-12-11T21:52:41.218Z"
   },
   {
    "duration": 6,
    "start_time": "2023-12-11T21:52:41.239Z"
   },
   {
    "duration": 62,
    "start_time": "2023-12-11T21:52:41.246Z"
   },
   {
    "duration": 1144,
    "start_time": "2023-12-11T21:54:14.672Z"
   },
   {
    "duration": 569,
    "start_time": "2023-12-11T21:54:15.817Z"
   },
   {
    "duration": 11,
    "start_time": "2023-12-11T21:54:16.387Z"
   },
   {
    "duration": 13,
    "start_time": "2023-12-11T21:54:16.400Z"
   },
   {
    "duration": 6,
    "start_time": "2023-12-11T21:54:16.414Z"
   },
   {
    "duration": 9,
    "start_time": "2023-12-11T21:54:16.421Z"
   },
   {
    "duration": 38,
    "start_time": "2023-12-11T21:54:16.432Z"
   },
   {
    "duration": 19,
    "start_time": "2023-12-11T21:54:16.472Z"
   },
   {
    "duration": 7,
    "start_time": "2023-12-11T21:54:16.493Z"
   },
   {
    "duration": 22,
    "start_time": "2023-12-11T21:54:16.504Z"
   },
   {
    "duration": 8,
    "start_time": "2023-12-11T21:54:16.527Z"
   },
   {
    "duration": 20,
    "start_time": "2023-12-11T21:54:16.536Z"
   },
   {
    "duration": 18,
    "start_time": "2023-12-11T21:54:16.558Z"
   },
   {
    "duration": 24,
    "start_time": "2023-12-11T21:54:16.582Z"
   },
   {
    "duration": 8,
    "start_time": "2023-12-11T21:54:16.608Z"
   },
   {
    "duration": 88,
    "start_time": "2023-12-11T21:54:16.617Z"
   },
   {
    "duration": 257,
    "start_time": "2023-12-11T21:54:16.707Z"
   },
   {
    "duration": 99,
    "start_time": "2023-12-11T21:54:16.966Z"
   },
   {
    "duration": 52,
    "start_time": "2023-12-11T21:54:17.067Z"
   },
   {
    "duration": 64,
    "start_time": "2023-12-11T21:54:17.120Z"
   },
   {
    "duration": 7,
    "start_time": "2023-12-11T21:54:17.186Z"
   },
   {
    "duration": 11,
    "start_time": "2023-12-11T21:54:17.194Z"
   },
   {
    "duration": 8,
    "start_time": "2023-12-11T21:54:17.206Z"
   },
   {
    "duration": 5,
    "start_time": "2023-12-11T21:54:17.216Z"
   },
   {
    "duration": 7,
    "start_time": "2023-12-11T21:54:17.223Z"
   },
   {
    "duration": 65,
    "start_time": "2023-12-11T21:54:17.231Z"
   },
   {
    "duration": 5,
    "start_time": "2023-12-11T21:54:17.297Z"
   },
   {
    "duration": 22,
    "start_time": "2023-12-11T21:54:17.305Z"
   },
   {
    "duration": 5,
    "start_time": "2023-12-11T21:54:17.328Z"
   },
   {
    "duration": 18,
    "start_time": "2023-12-11T21:54:17.335Z"
   },
   {
    "duration": 121,
    "start_time": "2023-12-11T21:54:17.354Z"
   },
   {
    "duration": 19,
    "start_time": "2023-12-11T21:54:17.476Z"
   },
   {
    "duration": 8,
    "start_time": "2023-12-11T21:54:17.496Z"
   },
   {
    "duration": 4,
    "start_time": "2023-12-11T21:54:17.506Z"
   },
   {
    "duration": 23,
    "start_time": "2023-12-11T21:54:17.512Z"
   },
   {
    "duration": 11,
    "start_time": "2023-12-11T21:54:17.536Z"
   },
   {
    "duration": 6,
    "start_time": "2023-12-11T21:54:17.548Z"
   },
   {
    "duration": 6,
    "start_time": "2023-12-11T21:54:17.555Z"
   },
   {
    "duration": 5,
    "start_time": "2023-12-11T21:54:17.581Z"
   },
   {
    "duration": 62,
    "start_time": "2023-12-11T21:54:17.588Z"
   },
   {
    "duration": 30,
    "start_time": "2023-12-11T21:54:17.652Z"
   },
   {
    "duration": 13,
    "start_time": "2023-12-11T21:54:17.683Z"
   },
   {
    "duration": 7,
    "start_time": "2023-12-11T21:54:17.698Z"
   },
   {
    "duration": 4,
    "start_time": "2023-12-11T21:54:17.706Z"
   },
   {
    "duration": 9,
    "start_time": "2023-12-11T21:54:17.712Z"
   },
   {
    "duration": 4,
    "start_time": "2023-12-11T21:54:17.722Z"
   },
   {
    "duration": 3,
    "start_time": "2023-12-11T21:54:17.728Z"
   },
   {
    "duration": 6,
    "start_time": "2023-12-11T21:54:17.733Z"
   },
   {
    "duration": 17,
    "start_time": "2023-12-11T21:54:17.782Z"
   },
   {
    "duration": 486,
    "start_time": "2023-12-11T21:54:17.801Z"
   },
   {
    "duration": 7,
    "start_time": "2023-12-11T21:54:18.288Z"
   },
   {
    "duration": 788,
    "start_time": "2023-12-11T21:54:18.297Z"
   },
   {
    "duration": 11,
    "start_time": "2023-12-11T21:54:19.086Z"
   },
   {
    "duration": 545,
    "start_time": "2023-12-11T21:54:19.099Z"
   },
   {
    "duration": 54,
    "start_time": "2023-12-11T21:54:19.646Z"
   },
   {
    "duration": 14,
    "start_time": "2023-12-11T21:54:19.702Z"
   },
   {
    "duration": 22,
    "start_time": "2023-12-11T21:54:19.717Z"
   },
   {
    "duration": 7,
    "start_time": "2023-12-11T21:54:19.741Z"
   },
   {
    "duration": 68,
    "start_time": "2023-12-11T21:54:19.749Z"
   },
   {
    "duration": 1130,
    "start_time": "2023-12-11T21:55:16.182Z"
   },
   {
    "duration": 593,
    "start_time": "2023-12-11T21:55:17.314Z"
   },
   {
    "duration": 11,
    "start_time": "2023-12-11T21:55:17.908Z"
   },
   {
    "duration": 18,
    "start_time": "2023-12-11T21:55:17.920Z"
   },
   {
    "duration": 23,
    "start_time": "2023-12-11T21:55:17.939Z"
   },
   {
    "duration": 40,
    "start_time": "2023-12-11T21:55:17.963Z"
   },
   {
    "duration": 25,
    "start_time": "2023-12-11T21:55:18.004Z"
   },
   {
    "duration": 29,
    "start_time": "2023-12-11T21:55:18.030Z"
   },
   {
    "duration": 20,
    "start_time": "2023-12-11T21:55:18.060Z"
   },
   {
    "duration": 32,
    "start_time": "2023-12-11T21:55:18.083Z"
   },
   {
    "duration": 24,
    "start_time": "2023-12-11T21:55:18.116Z"
   },
   {
    "duration": 18,
    "start_time": "2023-12-11T21:55:18.141Z"
   },
   {
    "duration": 28,
    "start_time": "2023-12-11T21:55:18.160Z"
   },
   {
    "duration": 36,
    "start_time": "2023-12-11T21:55:18.189Z"
   },
   {
    "duration": 8,
    "start_time": "2023-12-11T21:55:18.226Z"
   },
   {
    "duration": 77,
    "start_time": "2023-12-11T21:55:18.236Z"
   },
   {
    "duration": 247,
    "start_time": "2023-12-11T21:55:18.315Z"
   },
   {
    "duration": 98,
    "start_time": "2023-12-11T21:55:18.564Z"
   },
   {
    "duration": 59,
    "start_time": "2023-12-11T21:55:18.663Z"
   },
   {
    "duration": 82,
    "start_time": "2023-12-11T21:55:18.725Z"
   },
   {
    "duration": 6,
    "start_time": "2023-12-11T21:55:18.808Z"
   },
   {
    "duration": 26,
    "start_time": "2023-12-11T21:55:18.816Z"
   },
   {
    "duration": 20,
    "start_time": "2023-12-11T21:55:18.843Z"
   },
   {
    "duration": 24,
    "start_time": "2023-12-11T21:55:18.864Z"
   },
   {
    "duration": 17,
    "start_time": "2023-12-11T21:55:18.889Z"
   },
   {
    "duration": 31,
    "start_time": "2023-12-11T21:55:18.907Z"
   },
   {
    "duration": 4,
    "start_time": "2023-12-11T21:55:18.939Z"
   },
   {
    "duration": 29,
    "start_time": "2023-12-11T21:55:18.947Z"
   },
   {
    "duration": 6,
    "start_time": "2023-12-11T21:55:18.978Z"
   },
   {
    "duration": 22,
    "start_time": "2023-12-11T21:55:18.986Z"
   },
   {
    "duration": 129,
    "start_time": "2023-12-11T21:55:19.009Z"
   },
   {
    "duration": 15,
    "start_time": "2023-12-11T21:55:19.140Z"
   },
   {
    "duration": 8,
    "start_time": "2023-12-11T21:55:19.157Z"
   },
   {
    "duration": 22,
    "start_time": "2023-12-11T21:55:19.166Z"
   },
   {
    "duration": 26,
    "start_time": "2023-12-11T21:55:19.189Z"
   },
   {
    "duration": 12,
    "start_time": "2023-12-11T21:55:19.216Z"
   },
   {
    "duration": 7,
    "start_time": "2023-12-11T21:55:19.229Z"
   },
   {
    "duration": 19,
    "start_time": "2023-12-11T21:55:19.237Z"
   },
   {
    "duration": 17,
    "start_time": "2023-12-11T21:55:19.257Z"
   },
   {
    "duration": 78,
    "start_time": "2023-12-11T21:55:19.275Z"
   },
   {
    "duration": 10,
    "start_time": "2023-12-11T21:55:19.355Z"
   },
   {
    "duration": 12,
    "start_time": "2023-12-11T21:55:19.366Z"
   },
   {
    "duration": 24,
    "start_time": "2023-12-11T21:55:19.380Z"
   },
   {
    "duration": 19,
    "start_time": "2023-12-11T21:55:19.406Z"
   },
   {
    "duration": 10,
    "start_time": "2023-12-11T21:55:19.427Z"
   },
   {
    "duration": 14,
    "start_time": "2023-12-11T21:55:19.439Z"
   },
   {
    "duration": 11,
    "start_time": "2023-12-11T21:55:19.455Z"
   },
   {
    "duration": 23,
    "start_time": "2023-12-11T21:55:19.467Z"
   },
   {
    "duration": 365,
    "start_time": "2023-12-11T21:55:19.492Z"
   },
   {
    "duration": 8,
    "start_time": "2023-12-11T21:55:19.859Z"
   },
   {
    "duration": 473,
    "start_time": "2023-12-11T21:55:19.869Z"
   },
   {
    "duration": 10,
    "start_time": "2023-12-11T21:55:20.344Z"
   },
   {
    "duration": 333,
    "start_time": "2023-12-11T21:55:20.356Z"
   },
   {
    "duration": 36,
    "start_time": "2023-12-11T21:55:20.690Z"
   },
   {
    "duration": 14,
    "start_time": "2023-12-11T21:55:20.727Z"
   },
   {
    "duration": 55,
    "start_time": "2023-12-11T21:55:20.742Z"
   },
   {
    "duration": 18,
    "start_time": "2023-12-11T21:55:20.799Z"
   },
   {
    "duration": 80,
    "start_time": "2023-12-11T21:55:20.818Z"
   },
   {
    "duration": 1085,
    "start_time": "2023-12-11T22:01:25.534Z"
   },
   {
    "duration": 579,
    "start_time": "2023-12-11T22:01:26.621Z"
   },
   {
    "duration": 12,
    "start_time": "2023-12-11T22:01:27.201Z"
   },
   {
    "duration": 9,
    "start_time": "2023-12-11T22:01:27.214Z"
   },
   {
    "duration": 5,
    "start_time": "2023-12-11T22:01:27.225Z"
   },
   {
    "duration": 5,
    "start_time": "2023-12-11T22:01:27.231Z"
   },
   {
    "duration": 11,
    "start_time": "2023-12-11T22:01:27.237Z"
   },
   {
    "duration": 33,
    "start_time": "2023-12-11T22:01:27.250Z"
   },
   {
    "duration": 7,
    "start_time": "2023-12-11T22:01:27.284Z"
   },
   {
    "duration": 18,
    "start_time": "2023-12-11T22:01:27.292Z"
   },
   {
    "duration": 6,
    "start_time": "2023-12-11T22:01:27.312Z"
   },
   {
    "duration": 10,
    "start_time": "2023-12-11T22:01:27.319Z"
   },
   {
    "duration": 13,
    "start_time": "2023-12-11T22:01:27.330Z"
   },
   {
    "duration": 49,
    "start_time": "2023-12-11T22:01:27.346Z"
   },
   {
    "duration": 8,
    "start_time": "2023-12-11T22:01:27.397Z"
   },
   {
    "duration": 82,
    "start_time": "2023-12-11T22:01:27.407Z"
   },
   {
    "duration": 253,
    "start_time": "2023-12-11T22:01:27.491Z"
   },
   {
    "duration": 98,
    "start_time": "2023-12-11T22:01:27.746Z"
   },
   {
    "duration": 48,
    "start_time": "2023-12-11T22:01:27.846Z"
   },
   {
    "duration": 60,
    "start_time": "2023-12-11T22:01:27.897Z"
   },
   {
    "duration": 23,
    "start_time": "2023-12-11T22:01:27.958Z"
   },
   {
    "duration": 11,
    "start_time": "2023-12-11T22:01:27.982Z"
   },
   {
    "duration": 60,
    "start_time": "2023-12-11T22:01:27.995Z"
   },
   {
    "duration": 6,
    "start_time": "2023-12-11T22:01:28.057Z"
   },
   {
    "duration": 8,
    "start_time": "2023-12-11T22:01:28.064Z"
   },
   {
    "duration": 31,
    "start_time": "2023-12-11T22:01:28.073Z"
   },
   {
    "duration": 5,
    "start_time": "2023-12-11T22:01:28.105Z"
   },
   {
    "duration": 23,
    "start_time": "2023-12-11T22:01:28.111Z"
   },
   {
    "duration": 6,
    "start_time": "2023-12-11T22:01:28.135Z"
   },
   {
    "duration": 10,
    "start_time": "2023-12-11T22:01:28.142Z"
   },
   {
    "duration": 135,
    "start_time": "2023-12-11T22:01:28.153Z"
   },
   {
    "duration": 16,
    "start_time": "2023-12-11T22:01:28.290Z"
   },
   {
    "duration": 9,
    "start_time": "2023-12-11T22:01:28.307Z"
   },
   {
    "duration": 9,
    "start_time": "2023-12-11T22:01:28.317Z"
   },
   {
    "duration": 23,
    "start_time": "2023-12-11T22:01:28.327Z"
   },
   {
    "duration": 19,
    "start_time": "2023-12-11T22:01:28.352Z"
   },
   {
    "duration": 10,
    "start_time": "2023-12-11T22:01:28.372Z"
   },
   {
    "duration": 18,
    "start_time": "2023-12-11T22:01:28.383Z"
   },
   {
    "duration": 9,
    "start_time": "2023-12-11T22:01:28.403Z"
   },
   {
    "duration": 76,
    "start_time": "2023-12-11T22:01:28.414Z"
   },
   {
    "duration": 8,
    "start_time": "2023-12-11T22:01:28.495Z"
   },
   {
    "duration": 14,
    "start_time": "2023-12-11T22:01:28.504Z"
   },
   {
    "duration": 5,
    "start_time": "2023-12-11T22:01:28.519Z"
   },
   {
    "duration": 12,
    "start_time": "2023-12-11T22:01:28.526Z"
   },
   {
    "duration": 12,
    "start_time": "2023-12-11T22:01:28.540Z"
   },
   {
    "duration": 4,
    "start_time": "2023-12-11T22:01:28.554Z"
   },
   {
    "duration": 4,
    "start_time": "2023-12-11T22:01:28.581Z"
   },
   {
    "duration": 18,
    "start_time": "2023-12-11T22:01:28.587Z"
   },
   {
    "duration": 361,
    "start_time": "2023-12-11T22:01:28.607Z"
   },
   {
    "duration": 7,
    "start_time": "2023-12-11T22:01:28.969Z"
   },
   {
    "duration": 436,
    "start_time": "2023-12-11T22:01:28.977Z"
   },
   {
    "duration": 10,
    "start_time": "2023-12-11T22:01:29.414Z"
   },
   {
    "duration": 322,
    "start_time": "2023-12-11T22:01:29.425Z"
   },
   {
    "duration": 53,
    "start_time": "2023-12-11T22:01:29.749Z"
   },
   {
    "duration": 12,
    "start_time": "2023-12-11T22:01:29.804Z"
   },
   {
    "duration": 20,
    "start_time": "2023-12-11T22:01:29.818Z"
   },
   {
    "duration": 6,
    "start_time": "2023-12-11T22:01:29.840Z"
   },
   {
    "duration": 60,
    "start_time": "2023-12-11T22:01:29.847Z"
   },
   {
    "duration": 1221,
    "start_time": "2023-12-11T22:06:13.215Z"
   },
   {
    "duration": 1291,
    "start_time": "2023-12-11T22:06:14.438Z"
   },
   {
    "duration": 12,
    "start_time": "2023-12-11T22:06:15.730Z"
   },
   {
    "duration": 54,
    "start_time": "2023-12-11T22:06:15.743Z"
   },
   {
    "duration": 27,
    "start_time": "2023-12-11T22:06:15.801Z"
   },
   {
    "duration": 55,
    "start_time": "2023-12-11T22:06:15.830Z"
   },
   {
    "duration": 24,
    "start_time": "2023-12-11T22:06:15.887Z"
   },
   {
    "duration": 8,
    "start_time": "2023-12-11T22:06:15.913Z"
   },
   {
    "duration": 14,
    "start_time": "2023-12-11T22:06:15.922Z"
   },
   {
    "duration": 26,
    "start_time": "2023-12-11T22:06:15.981Z"
   },
   {
    "duration": 9,
    "start_time": "2023-12-11T22:06:16.009Z"
   },
   {
    "duration": 8,
    "start_time": "2023-12-11T22:06:16.019Z"
   },
   {
    "duration": 83,
    "start_time": "2023-12-11T22:06:16.028Z"
   },
   {
    "duration": 91,
    "start_time": "2023-12-11T22:06:16.115Z"
   },
   {
    "duration": 11,
    "start_time": "2023-12-11T22:06:16.208Z"
   },
   {
    "duration": 165,
    "start_time": "2023-12-11T22:06:16.220Z"
   },
   {
    "duration": 313,
    "start_time": "2023-12-11T22:06:16.387Z"
   },
   {
    "duration": 108,
    "start_time": "2023-12-11T22:06:16.702Z"
   },
   {
    "duration": 41,
    "start_time": "2023-12-11T22:06:16.811Z"
   },
   {
    "duration": 83,
    "start_time": "2023-12-11T22:06:16.853Z"
   },
   {
    "duration": 7,
    "start_time": "2023-12-11T22:06:16.937Z"
   },
   {
    "duration": 14,
    "start_time": "2023-12-11T22:06:16.945Z"
   },
   {
    "duration": 26,
    "start_time": "2023-12-11T22:06:16.961Z"
   },
   {
    "duration": 10,
    "start_time": "2023-12-11T22:06:16.989Z"
   },
   {
    "duration": 10,
    "start_time": "2023-12-11T22:06:17.001Z"
   },
   {
    "duration": 31,
    "start_time": "2023-12-11T22:06:17.012Z"
   },
   {
    "duration": 4,
    "start_time": "2023-12-11T22:06:17.044Z"
   },
   {
    "duration": 55,
    "start_time": "2023-12-11T22:06:17.050Z"
   },
   {
    "duration": 7,
    "start_time": "2023-12-11T22:06:17.106Z"
   },
   {
    "duration": 14,
    "start_time": "2023-12-11T22:06:17.115Z"
   },
   {
    "duration": 160,
    "start_time": "2023-12-11T22:06:17.131Z"
   },
   {
    "duration": 20,
    "start_time": "2023-12-11T22:06:17.292Z"
   },
   {
    "duration": 10,
    "start_time": "2023-12-11T22:06:17.314Z"
   },
   {
    "duration": 5,
    "start_time": "2023-12-11T22:06:17.325Z"
   },
   {
    "duration": 20,
    "start_time": "2023-12-11T22:06:17.332Z"
   },
   {
    "duration": 39,
    "start_time": "2023-12-11T22:06:17.353Z"
   },
   {
    "duration": 8,
    "start_time": "2023-12-11T22:06:17.394Z"
   },
   {
    "duration": 10,
    "start_time": "2023-12-11T22:06:17.404Z"
   },
   {
    "duration": 13,
    "start_time": "2023-12-11T22:06:17.415Z"
   },
   {
    "duration": 101,
    "start_time": "2023-12-11T22:06:17.430Z"
   },
   {
    "duration": 7,
    "start_time": "2023-12-11T22:06:17.535Z"
   },
   {
    "duration": 9,
    "start_time": "2023-12-11T22:06:17.544Z"
   },
   {
    "duration": 28,
    "start_time": "2023-12-11T22:06:17.554Z"
   },
   {
    "duration": 11,
    "start_time": "2023-12-11T22:06:17.584Z"
   },
   {
    "duration": 7,
    "start_time": "2023-12-11T22:06:17.597Z"
   },
   {
    "duration": 16,
    "start_time": "2023-12-11T22:06:17.605Z"
   },
   {
    "duration": 19,
    "start_time": "2023-12-11T22:06:17.623Z"
   },
   {
    "duration": 6,
    "start_time": "2023-12-11T22:06:17.644Z"
   },
   {
    "duration": 35,
    "start_time": "2023-12-11T22:06:17.652Z"
   },
   {
    "duration": 408,
    "start_time": "2023-12-11T22:06:17.688Z"
   },
   {
    "duration": 12,
    "start_time": "2023-12-11T22:06:18.099Z"
   },
   {
    "duration": 549,
    "start_time": "2023-12-11T22:06:18.113Z"
   },
   {
    "duration": 20,
    "start_time": "2023-12-11T22:06:18.664Z"
   },
   {
    "duration": 355,
    "start_time": "2023-12-11T22:06:18.686Z"
   },
   {
    "duration": 62,
    "start_time": "2023-12-11T22:06:19.043Z"
   },
   {
    "duration": 22,
    "start_time": "2023-12-11T22:06:19.107Z"
   },
   {
    "duration": 22,
    "start_time": "2023-12-11T22:06:19.131Z"
   },
   {
    "duration": 33,
    "start_time": "2023-12-11T22:06:19.155Z"
   },
   {
    "duration": 56,
    "start_time": "2023-12-11T22:06:19.190Z"
   },
   {
    "duration": 2093,
    "start_time": "2023-12-11T22:06:40.189Z"
   },
   {
    "duration": 1343,
    "start_time": "2023-12-11T22:06:42.285Z"
   },
   {
    "duration": 52,
    "start_time": "2023-12-11T22:06:43.630Z"
   },
   {
    "duration": 14,
    "start_time": "2023-12-11T22:06:43.685Z"
   },
   {
    "duration": 14,
    "start_time": "2023-12-11T22:06:43.701Z"
   },
   {
    "duration": 13,
    "start_time": "2023-12-11T22:06:43.717Z"
   },
   {
    "duration": 68,
    "start_time": "2023-12-11T22:06:43.733Z"
   },
   {
    "duration": 16,
    "start_time": "2023-12-11T22:06:43.803Z"
   },
   {
    "duration": 14,
    "start_time": "2023-12-11T22:06:43.821Z"
   },
   {
    "duration": 28,
    "start_time": "2023-12-11T22:06:43.884Z"
   },
   {
    "duration": 7,
    "start_time": "2023-12-11T22:06:43.914Z"
   },
   {
    "duration": 61,
    "start_time": "2023-12-11T22:06:43.922Z"
   },
   {
    "duration": 18,
    "start_time": "2023-12-11T22:06:43.984Z"
   },
   {
    "duration": 85,
    "start_time": "2023-12-11T22:06:44.005Z"
   },
   {
    "duration": 11,
    "start_time": "2023-12-11T22:06:44.091Z"
   },
   {
    "duration": 178,
    "start_time": "2023-12-11T22:06:44.104Z"
   },
   {
    "duration": 450,
    "start_time": "2023-12-11T22:06:44.284Z"
   },
   {
    "duration": 117,
    "start_time": "2023-12-11T22:06:44.736Z"
   },
   {
    "duration": 69,
    "start_time": "2023-12-11T22:06:44.855Z"
   },
   {
    "duration": 94,
    "start_time": "2023-12-11T22:06:44.925Z"
   },
   {
    "duration": 7,
    "start_time": "2023-12-11T22:06:45.020Z"
   },
   {
    "duration": 52,
    "start_time": "2023-12-11T22:06:45.028Z"
   },
   {
    "duration": 26,
    "start_time": "2023-12-11T22:06:45.081Z"
   },
   {
    "duration": 20,
    "start_time": "2023-12-11T22:06:45.109Z"
   },
   {
    "duration": 8,
    "start_time": "2023-12-11T22:06:45.130Z"
   },
   {
    "duration": 29,
    "start_time": "2023-12-11T22:06:45.140Z"
   },
   {
    "duration": 4,
    "start_time": "2023-12-11T22:06:45.171Z"
   },
   {
    "duration": 31,
    "start_time": "2023-12-11T22:06:45.178Z"
   },
   {
    "duration": 8,
    "start_time": "2023-12-11T22:06:45.210Z"
   },
   {
    "duration": 14,
    "start_time": "2023-12-11T22:06:45.220Z"
   },
   {
    "duration": 138,
    "start_time": "2023-12-11T22:06:45.236Z"
   },
   {
    "duration": 23,
    "start_time": "2023-12-11T22:06:45.375Z"
   },
   {
    "duration": 13,
    "start_time": "2023-12-11T22:06:45.399Z"
   },
   {
    "duration": 4,
    "start_time": "2023-12-11T22:06:45.414Z"
   },
   {
    "duration": 15,
    "start_time": "2023-12-11T22:06:45.420Z"
   },
   {
    "duration": 11,
    "start_time": "2023-12-11T22:06:45.436Z"
   },
   {
    "duration": 6,
    "start_time": "2023-12-11T22:06:45.448Z"
   },
   {
    "duration": 32,
    "start_time": "2023-12-11T22:06:45.456Z"
   },
   {
    "duration": 7,
    "start_time": "2023-12-11T22:06:45.490Z"
   },
   {
    "duration": 87,
    "start_time": "2023-12-11T22:06:45.499Z"
   },
   {
    "duration": 11,
    "start_time": "2023-12-11T22:06:45.587Z"
   },
   {
    "duration": 17,
    "start_time": "2023-12-11T22:06:45.600Z"
   },
   {
    "duration": 6,
    "start_time": "2023-12-11T22:06:45.619Z"
   },
   {
    "duration": 29,
    "start_time": "2023-12-11T22:06:45.627Z"
   },
   {
    "duration": 14,
    "start_time": "2023-12-11T22:06:45.657Z"
   },
   {
    "duration": 6,
    "start_time": "2023-12-11T22:06:45.672Z"
   },
   {
    "duration": 5,
    "start_time": "2023-12-11T22:06:45.683Z"
   },
   {
    "duration": 6,
    "start_time": "2023-12-11T22:06:45.690Z"
   },
   {
    "duration": 16,
    "start_time": "2023-12-11T22:06:45.698Z"
   },
   {
    "duration": 389,
    "start_time": "2023-12-11T22:06:45.715Z"
   },
   {
    "duration": 11,
    "start_time": "2023-12-11T22:06:46.107Z"
   },
   {
    "duration": 533,
    "start_time": "2023-12-11T22:06:46.120Z"
   },
   {
    "duration": 33,
    "start_time": "2023-12-11T22:06:46.654Z"
   },
   {
    "duration": 385,
    "start_time": "2023-12-11T22:06:46.688Z"
   },
   {
    "duration": 59,
    "start_time": "2023-12-11T22:06:47.074Z"
   },
   {
    "duration": 56,
    "start_time": "2023-12-11T22:06:47.134Z"
   },
   {
    "duration": 34,
    "start_time": "2023-12-11T22:06:47.193Z"
   },
   {
    "duration": 9,
    "start_time": "2023-12-11T22:06:47.229Z"
   },
   {
    "duration": 57,
    "start_time": "2023-12-11T22:06:47.241Z"
   },
   {
    "duration": 1273,
    "start_time": "2023-12-11T22:09:11.221Z"
   },
   {
    "duration": 706,
    "start_time": "2023-12-11T22:09:12.496Z"
   },
   {
    "duration": 13,
    "start_time": "2023-12-11T22:09:13.204Z"
   },
   {
    "duration": 14,
    "start_time": "2023-12-11T22:09:13.219Z"
   },
   {
    "duration": 11,
    "start_time": "2023-12-11T22:09:13.235Z"
   },
   {
    "duration": 9,
    "start_time": "2023-12-11T22:09:13.248Z"
   },
   {
    "duration": 34,
    "start_time": "2023-12-11T22:09:13.258Z"
   },
   {
    "duration": 12,
    "start_time": "2023-12-11T22:09:13.294Z"
   },
   {
    "duration": 9,
    "start_time": "2023-12-11T22:09:13.308Z"
   },
   {
    "duration": 19,
    "start_time": "2023-12-11T22:09:13.320Z"
   },
   {
    "duration": 8,
    "start_time": "2023-12-11T22:09:13.341Z"
   },
   {
    "duration": 33,
    "start_time": "2023-12-11T22:09:13.351Z"
   },
   {
    "duration": 19,
    "start_time": "2023-12-11T22:09:13.386Z"
   },
   {
    "duration": 26,
    "start_time": "2023-12-11T22:09:13.407Z"
   },
   {
    "duration": 8,
    "start_time": "2023-12-11T22:09:13.434Z"
   },
   {
    "duration": 103,
    "start_time": "2023-12-11T22:09:13.443Z"
   },
   {
    "duration": 273,
    "start_time": "2023-12-11T22:09:13.547Z"
   },
   {
    "duration": 120,
    "start_time": "2023-12-11T22:09:13.822Z"
   },
   {
    "duration": 66,
    "start_time": "2023-12-11T22:09:13.943Z"
   },
   {
    "duration": 56,
    "start_time": "2023-12-11T22:09:14.011Z"
   },
   {
    "duration": 10,
    "start_time": "2023-12-11T22:09:14.087Z"
   },
   {
    "duration": 18,
    "start_time": "2023-12-11T22:09:14.099Z"
   },
   {
    "duration": 16,
    "start_time": "2023-12-11T22:09:14.118Z"
   },
   {
    "duration": 7,
    "start_time": "2023-12-11T22:09:14.136Z"
   },
   {
    "duration": 20,
    "start_time": "2023-12-11T22:09:14.145Z"
   },
   {
    "duration": 49,
    "start_time": "2023-12-11T22:09:14.167Z"
   },
   {
    "duration": 4,
    "start_time": "2023-12-11T22:09:14.218Z"
   },
   {
    "duration": 23,
    "start_time": "2023-12-11T22:09:14.225Z"
   },
   {
    "duration": 6,
    "start_time": "2023-12-11T22:09:14.250Z"
   },
   {
    "duration": 14,
    "start_time": "2023-12-11T22:09:14.282Z"
   },
   {
    "duration": 149,
    "start_time": "2023-12-11T22:09:14.298Z"
   },
   {
    "duration": 16,
    "start_time": "2023-12-11T22:09:14.449Z"
   },
   {
    "duration": 27,
    "start_time": "2023-12-11T22:09:14.467Z"
   },
   {
    "duration": 17,
    "start_time": "2023-12-11T22:09:14.496Z"
   },
   {
    "duration": 20,
    "start_time": "2023-12-11T22:09:14.515Z"
   },
   {
    "duration": 21,
    "start_time": "2023-12-11T22:09:14.537Z"
   },
   {
    "duration": 15,
    "start_time": "2023-12-11T22:09:14.560Z"
   },
   {
    "duration": 11,
    "start_time": "2023-12-11T22:09:14.581Z"
   },
   {
    "duration": 11,
    "start_time": "2023-12-11T22:09:14.594Z"
   },
   {
    "duration": 92,
    "start_time": "2023-12-11T22:09:14.607Z"
   },
   {
    "duration": 10,
    "start_time": "2023-12-11T22:09:14.701Z"
   },
   {
    "duration": 14,
    "start_time": "2023-12-11T22:09:14.712Z"
   },
   {
    "duration": 4,
    "start_time": "2023-12-11T22:09:14.728Z"
   },
   {
    "duration": 10,
    "start_time": "2023-12-11T22:09:14.733Z"
   },
   {
    "duration": 8,
    "start_time": "2023-12-11T22:09:14.744Z"
   },
   {
    "duration": 33,
    "start_time": "2023-12-11T22:09:14.754Z"
   },
   {
    "duration": 4,
    "start_time": "2023-12-11T22:09:14.789Z"
   },
   {
    "duration": 20,
    "start_time": "2023-12-11T22:09:14.794Z"
   },
   {
    "duration": 407,
    "start_time": "2023-12-11T22:09:14.816Z"
   },
   {
    "duration": 6,
    "start_time": "2023-12-11T22:09:15.225Z"
   },
   {
    "duration": 494,
    "start_time": "2023-12-11T22:09:15.232Z"
   },
   {
    "duration": 10,
    "start_time": "2023-12-11T22:09:15.728Z"
   },
   {
    "duration": 354,
    "start_time": "2023-12-11T22:09:15.740Z"
   },
   {
    "duration": 52,
    "start_time": "2023-12-11T22:09:16.096Z"
   },
   {
    "duration": 42,
    "start_time": "2023-12-11T22:09:16.150Z"
   },
   {
    "duration": 23,
    "start_time": "2023-12-11T22:09:16.193Z"
   },
   {
    "duration": 7,
    "start_time": "2023-12-11T22:09:16.218Z"
   },
   {
    "duration": 65,
    "start_time": "2023-12-11T22:09:16.226Z"
   },
   {
    "duration": 1319,
    "start_time": "2023-12-11T22:10:02.782Z"
   },
   {
    "duration": 639,
    "start_time": "2023-12-11T22:10:04.104Z"
   },
   {
    "duration": 11,
    "start_time": "2023-12-11T22:10:04.744Z"
   },
   {
    "duration": 9,
    "start_time": "2023-12-11T22:10:04.757Z"
   },
   {
    "duration": 4,
    "start_time": "2023-12-11T22:10:04.768Z"
   },
   {
    "duration": 4,
    "start_time": "2023-12-11T22:10:04.781Z"
   },
   {
    "duration": 23,
    "start_time": "2023-12-11T22:10:04.788Z"
   },
   {
    "duration": 29,
    "start_time": "2023-12-11T22:10:04.813Z"
   },
   {
    "duration": 8,
    "start_time": "2023-12-11T22:10:04.844Z"
   },
   {
    "duration": 29,
    "start_time": "2023-12-11T22:10:04.854Z"
   },
   {
    "duration": 13,
    "start_time": "2023-12-11T22:10:04.885Z"
   },
   {
    "duration": 11,
    "start_time": "2023-12-11T22:10:04.901Z"
   },
   {
    "duration": 16,
    "start_time": "2023-12-11T22:10:04.914Z"
   },
   {
    "duration": 51,
    "start_time": "2023-12-11T22:10:04.932Z"
   },
   {
    "duration": 11,
    "start_time": "2023-12-11T22:10:04.984Z"
   },
   {
    "duration": 87,
    "start_time": "2023-12-11T22:10:04.996Z"
   },
   {
    "duration": 313,
    "start_time": "2023-12-11T22:10:05.085Z"
   },
   {
    "duration": 139,
    "start_time": "2023-12-11T22:10:05.400Z"
   },
   {
    "duration": 78,
    "start_time": "2023-12-11T22:10:05.540Z"
   },
   {
    "duration": 122,
    "start_time": "2023-12-11T22:10:05.620Z"
   },
   {
    "duration": 7,
    "start_time": "2023-12-11T22:10:05.744Z"
   },
   {
    "duration": 40,
    "start_time": "2023-12-11T22:10:05.753Z"
   },
   {
    "duration": 16,
    "start_time": "2023-12-11T22:10:05.797Z"
   },
   {
    "duration": 10,
    "start_time": "2023-12-11T22:10:05.816Z"
   },
   {
    "duration": 14,
    "start_time": "2023-12-11T22:10:05.828Z"
   },
   {
    "duration": 37,
    "start_time": "2023-12-11T22:10:05.843Z"
   },
   {
    "duration": 9,
    "start_time": "2023-12-11T22:10:05.882Z"
   },
   {
    "duration": 64,
    "start_time": "2023-12-11T22:10:05.892Z"
   },
   {
    "duration": 5,
    "start_time": "2023-12-11T22:10:05.958Z"
   },
   {
    "duration": 21,
    "start_time": "2023-12-11T22:10:05.965Z"
   },
   {
    "duration": 173,
    "start_time": "2023-12-11T22:10:05.988Z"
   },
   {
    "duration": 16,
    "start_time": "2023-12-11T22:10:06.163Z"
   },
   {
    "duration": 13,
    "start_time": "2023-12-11T22:10:06.181Z"
   },
   {
    "duration": 16,
    "start_time": "2023-12-11T22:10:06.197Z"
   },
   {
    "duration": 27,
    "start_time": "2023-12-11T22:10:06.215Z"
   },
   {
    "duration": 22,
    "start_time": "2023-12-11T22:10:06.243Z"
   },
   {
    "duration": 10,
    "start_time": "2023-12-11T22:10:06.266Z"
   },
   {
    "duration": 24,
    "start_time": "2023-12-11T22:10:06.277Z"
   },
   {
    "duration": 12,
    "start_time": "2023-12-11T22:10:06.306Z"
   },
   {
    "duration": 112,
    "start_time": "2023-12-11T22:10:06.320Z"
   },
   {
    "duration": 7,
    "start_time": "2023-12-11T22:10:06.436Z"
   },
   {
    "duration": 15,
    "start_time": "2023-12-11T22:10:06.445Z"
   },
   {
    "duration": 14,
    "start_time": "2023-12-11T22:10:06.461Z"
   },
   {
    "duration": 32,
    "start_time": "2023-12-11T22:10:06.477Z"
   },
   {
    "duration": 8,
    "start_time": "2023-12-11T22:10:06.511Z"
   },
   {
    "duration": 16,
    "start_time": "2023-12-11T22:10:06.520Z"
   },
   {
    "duration": 14,
    "start_time": "2023-12-11T22:10:06.537Z"
   },
   {
    "duration": 16,
    "start_time": "2023-12-11T22:10:06.552Z"
   },
   {
    "duration": 569,
    "start_time": "2023-12-11T22:10:06.569Z"
   },
   {
    "duration": 6,
    "start_time": "2023-12-11T22:10:07.140Z"
   },
   {
    "duration": 706,
    "start_time": "2023-12-11T22:10:07.147Z"
   },
   {
    "duration": 12,
    "start_time": "2023-12-11T22:10:07.854Z"
   },
   {
    "duration": 365,
    "start_time": "2023-12-11T22:10:07.882Z"
   },
   {
    "duration": 56,
    "start_time": "2023-12-11T22:10:08.249Z"
   },
   {
    "duration": 14,
    "start_time": "2023-12-11T22:10:08.307Z"
   },
   {
    "duration": 65,
    "start_time": "2023-12-11T22:10:08.323Z"
   },
   {
    "duration": 9,
    "start_time": "2023-12-11T22:10:08.391Z"
   },
   {
    "duration": 83,
    "start_time": "2023-12-11T22:10:08.402Z"
   },
   {
    "duration": 1200,
    "start_time": "2023-12-12T14:44:19.343Z"
   },
   {
    "duration": 781,
    "start_time": "2023-12-12T14:44:20.545Z"
   },
   {
    "duration": 11,
    "start_time": "2023-12-12T14:44:21.327Z"
   },
   {
    "duration": 9,
    "start_time": "2023-12-12T14:44:21.340Z"
   },
   {
    "duration": 3,
    "start_time": "2023-12-12T14:44:21.350Z"
   },
   {
    "duration": 12,
    "start_time": "2023-12-12T14:44:21.354Z"
   },
   {
    "duration": 11,
    "start_time": "2023-12-12T14:44:21.367Z"
   },
   {
    "duration": 16,
    "start_time": "2023-12-12T14:44:21.379Z"
   },
   {
    "duration": 8,
    "start_time": "2023-12-12T14:44:21.397Z"
   },
   {
    "duration": 17,
    "start_time": "2023-12-12T14:44:21.407Z"
   },
   {
    "duration": 12,
    "start_time": "2023-12-12T14:44:21.425Z"
   },
   {
    "duration": 6,
    "start_time": "2023-12-12T14:44:21.438Z"
   },
   {
    "duration": 10,
    "start_time": "2023-12-12T14:44:21.445Z"
   },
   {
    "duration": 20,
    "start_time": "2023-12-12T14:44:21.456Z"
   },
   {
    "duration": 7,
    "start_time": "2023-12-12T14:44:21.477Z"
   },
   {
    "duration": 61,
    "start_time": "2023-12-12T14:44:21.485Z"
   },
   {
    "duration": 205,
    "start_time": "2023-12-12T14:44:21.547Z"
   },
   {
    "duration": 86,
    "start_time": "2023-12-12T14:44:21.753Z"
   },
   {
    "duration": 29,
    "start_time": "2023-12-12T14:44:21.841Z"
   },
   {
    "duration": 61,
    "start_time": "2023-12-12T14:44:21.871Z"
   },
   {
    "duration": 6,
    "start_time": "2023-12-12T14:44:21.933Z"
   },
   {
    "duration": 17,
    "start_time": "2023-12-12T14:44:21.940Z"
   },
   {
    "duration": 12,
    "start_time": "2023-12-12T14:44:21.959Z"
   },
   {
    "duration": 5,
    "start_time": "2023-12-12T14:44:21.972Z"
   },
   {
    "duration": 7,
    "start_time": "2023-12-12T14:44:21.978Z"
   },
   {
    "duration": 36,
    "start_time": "2023-12-12T14:44:21.986Z"
   },
   {
    "duration": 3,
    "start_time": "2023-12-12T14:44:22.023Z"
   },
   {
    "duration": 19,
    "start_time": "2023-12-12T14:44:22.029Z"
   },
   {
    "duration": 5,
    "start_time": "2023-12-12T14:44:22.049Z"
   },
   {
    "duration": 11,
    "start_time": "2023-12-12T14:44:22.055Z"
   },
   {
    "duration": 115,
    "start_time": "2023-12-12T14:44:22.067Z"
   },
   {
    "duration": 14,
    "start_time": "2023-12-12T14:44:22.183Z"
   },
   {
    "duration": 7,
    "start_time": "2023-12-12T14:44:22.198Z"
   },
   {
    "duration": 10,
    "start_time": "2023-12-12T14:44:22.207Z"
   },
   {
    "duration": 12,
    "start_time": "2023-12-12T14:44:22.218Z"
   },
   {
    "duration": 10,
    "start_time": "2023-12-12T14:44:22.231Z"
   },
   {
    "duration": 6,
    "start_time": "2023-12-12T14:44:22.242Z"
   },
   {
    "duration": 5,
    "start_time": "2023-12-12T14:44:22.249Z"
   },
   {
    "duration": 4,
    "start_time": "2023-12-12T14:44:22.255Z"
   },
   {
    "duration": 79,
    "start_time": "2023-12-12T14:44:22.260Z"
   },
   {
    "duration": 6,
    "start_time": "2023-12-12T14:44:22.341Z"
   },
   {
    "duration": 7,
    "start_time": "2023-12-12T14:44:22.349Z"
   },
   {
    "duration": 3,
    "start_time": "2023-12-12T14:44:22.357Z"
   },
   {
    "duration": 14,
    "start_time": "2023-12-12T14:44:22.361Z"
   },
   {
    "duration": 4,
    "start_time": "2023-12-12T14:44:22.377Z"
   },
   {
    "duration": 6,
    "start_time": "2023-12-12T14:44:22.382Z"
   },
   {
    "duration": 26,
    "start_time": "2023-12-12T14:44:22.389Z"
   },
   {
    "duration": 12,
    "start_time": "2023-12-12T14:44:22.416Z"
   },
   {
    "duration": 723,
    "start_time": "2023-12-12T14:44:22.430Z"
   },
   {
    "duration": 5,
    "start_time": "2023-12-12T14:44:23.154Z"
   },
   {
    "duration": 431,
    "start_time": "2023-12-12T14:44:23.161Z"
   },
   {
    "duration": 21,
    "start_time": "2023-12-12T14:44:23.594Z"
   },
   {
    "duration": 310,
    "start_time": "2023-12-12T14:44:23.616Z"
   },
   {
    "duration": 31,
    "start_time": "2023-12-12T14:44:23.927Z"
   },
   {
    "duration": 12,
    "start_time": "2023-12-12T14:44:23.959Z"
   },
   {
    "duration": 54,
    "start_time": "2023-12-12T14:44:23.972Z"
   },
   {
    "duration": 5,
    "start_time": "2023-12-12T14:44:24.027Z"
   },
   {
    "duration": 33,
    "start_time": "2023-12-12T14:44:24.033Z"
   },
   {
    "duration": 1352,
    "start_time": "2023-12-12T19:27:15.378Z"
   },
   {
    "duration": 1361,
    "start_time": "2023-12-12T19:27:16.732Z"
   },
   {
    "duration": 12,
    "start_time": "2023-12-12T19:27:18.095Z"
   },
   {
    "duration": 10,
    "start_time": "2023-12-12T19:27:18.108Z"
   },
   {
    "duration": 4,
    "start_time": "2023-12-12T19:27:18.165Z"
   },
   {
    "duration": 9,
    "start_time": "2023-12-12T19:27:18.170Z"
   },
   {
    "duration": 35,
    "start_time": "2023-12-12T19:27:18.181Z"
   },
   {
    "duration": 53,
    "start_time": "2023-12-12T19:27:18.217Z"
   },
   {
    "duration": 10,
    "start_time": "2023-12-12T19:27:18.272Z"
   },
   {
    "duration": 21,
    "start_time": "2023-12-12T19:27:18.285Z"
   },
   {
    "duration": 63,
    "start_time": "2023-12-12T19:27:18.308Z"
   },
   {
    "duration": 16,
    "start_time": "2023-12-12T19:27:18.373Z"
   },
   {
    "duration": 14,
    "start_time": "2023-12-12T19:27:18.390Z"
   },
   {
    "duration": 25,
    "start_time": "2023-12-12T19:27:18.405Z"
   },
   {
    "duration": 8,
    "start_time": "2023-12-12T19:27:18.465Z"
   },
   {
    "duration": 69,
    "start_time": "2023-12-12T19:27:18.475Z"
   },
   {
    "duration": 267,
    "start_time": "2023-12-12T19:27:18.545Z"
   },
   {
    "duration": 102,
    "start_time": "2023-12-12T19:27:18.813Z"
   },
   {
    "duration": 52,
    "start_time": "2023-12-12T19:27:18.916Z"
   },
   {
    "duration": 58,
    "start_time": "2023-12-12T19:27:18.970Z"
   },
   {
    "duration": 7,
    "start_time": "2023-12-12T19:27:19.029Z"
   },
   {
    "duration": 30,
    "start_time": "2023-12-12T19:27:19.037Z"
   },
   {
    "duration": 27,
    "start_time": "2023-12-12T19:27:19.068Z"
   },
   {
    "duration": 6,
    "start_time": "2023-12-12T19:27:19.097Z"
   },
   {
    "duration": 20,
    "start_time": "2023-12-12T19:27:19.104Z"
   },
   {
    "duration": 60,
    "start_time": "2023-12-12T19:27:19.126Z"
   },
   {
    "duration": 26,
    "start_time": "2023-12-12T19:27:19.188Z"
   },
   {
    "duration": 56,
    "start_time": "2023-12-12T19:27:19.218Z"
   },
   {
    "duration": 11,
    "start_time": "2023-12-12T19:27:19.276Z"
   },
   {
    "duration": 15,
    "start_time": "2023-12-12T19:27:19.289Z"
   },
   {
    "duration": 143,
    "start_time": "2023-12-12T19:27:19.306Z"
   },
   {
    "duration": 24,
    "start_time": "2023-12-12T19:27:19.451Z"
   },
   {
    "duration": 30,
    "start_time": "2023-12-12T19:27:19.477Z"
   },
   {
    "duration": 11,
    "start_time": "2023-12-12T19:27:19.509Z"
   },
   {
    "duration": 26,
    "start_time": "2023-12-12T19:27:19.522Z"
   },
   {
    "duration": 12,
    "start_time": "2023-12-12T19:27:19.549Z"
   },
   {
    "duration": 6,
    "start_time": "2023-12-12T19:27:19.562Z"
   },
   {
    "duration": 13,
    "start_time": "2023-12-12T19:27:19.569Z"
   },
   {
    "duration": 10,
    "start_time": "2023-12-12T19:27:19.583Z"
   },
   {
    "duration": 73,
    "start_time": "2023-12-12T19:27:19.595Z"
   },
   {
    "duration": 8,
    "start_time": "2023-12-12T19:27:19.670Z"
   },
   {
    "duration": 40,
    "start_time": "2023-12-12T19:27:19.680Z"
   },
   {
    "duration": 42,
    "start_time": "2023-12-12T19:27:19.722Z"
   },
   {
    "duration": 35,
    "start_time": "2023-12-12T19:27:19.765Z"
   },
   {
    "duration": 13,
    "start_time": "2023-12-12T19:27:19.802Z"
   },
   {
    "duration": 6,
    "start_time": "2023-12-12T19:27:19.816Z"
   },
   {
    "duration": 38,
    "start_time": "2023-12-12T19:27:19.823Z"
   },
   {
    "duration": 42,
    "start_time": "2023-12-12T19:27:19.862Z"
   },
   {
    "duration": 39,
    "start_time": "2023-12-12T19:27:19.905Z"
   },
   {
    "duration": 364,
    "start_time": "2023-12-12T19:27:19.945Z"
   },
   {
    "duration": 7,
    "start_time": "2023-12-12T19:27:20.310Z"
   },
   {
    "duration": 462,
    "start_time": "2023-12-12T19:27:20.318Z"
   },
   {
    "duration": 11,
    "start_time": "2023-12-12T19:27:20.781Z"
   },
   {
    "duration": 370,
    "start_time": "2023-12-12T19:27:20.794Z"
   },
   {
    "duration": 35,
    "start_time": "2023-12-12T19:27:21.165Z"
   },
   {
    "duration": 38,
    "start_time": "2023-12-12T19:27:21.201Z"
   },
   {
    "duration": 26,
    "start_time": "2023-12-12T19:27:21.240Z"
   },
   {
    "duration": 18,
    "start_time": "2023-12-12T19:27:21.268Z"
   },
   {
    "duration": 51,
    "start_time": "2023-12-12T19:27:21.288Z"
   },
   {
    "duration": 5,
    "start_time": "2023-12-12T19:28:28.309Z"
   },
   {
    "duration": 1159,
    "start_time": "2023-12-12T19:29:05.943Z"
   },
   {
    "duration": 568,
    "start_time": "2023-12-12T19:29:07.103Z"
   },
   {
    "duration": 12,
    "start_time": "2023-12-12T19:29:07.672Z"
   },
   {
    "duration": 21,
    "start_time": "2023-12-12T19:29:07.686Z"
   },
   {
    "duration": 12,
    "start_time": "2023-12-12T19:29:07.708Z"
   },
   {
    "duration": 8,
    "start_time": "2023-12-12T19:29:07.721Z"
   },
   {
    "duration": 20,
    "start_time": "2023-12-12T19:29:07.730Z"
   },
   {
    "duration": 14,
    "start_time": "2023-12-12T19:29:07.752Z"
   },
   {
    "duration": 14,
    "start_time": "2023-12-12T19:29:07.767Z"
   },
   {
    "duration": 22,
    "start_time": "2023-12-12T19:29:07.783Z"
   },
   {
    "duration": 7,
    "start_time": "2023-12-12T19:29:07.806Z"
   },
   {
    "duration": 14,
    "start_time": "2023-12-12T19:29:07.814Z"
   },
   {
    "duration": 16,
    "start_time": "2023-12-12T19:29:07.830Z"
   },
   {
    "duration": 32,
    "start_time": "2023-12-12T19:29:07.848Z"
   },
   {
    "duration": 8,
    "start_time": "2023-12-12T19:29:07.881Z"
   },
   {
    "duration": 83,
    "start_time": "2023-12-12T19:29:07.890Z"
   },
   {
    "duration": 280,
    "start_time": "2023-12-12T19:29:07.975Z"
   },
   {
    "duration": 96,
    "start_time": "2023-12-12T19:29:08.256Z"
   },
   {
    "duration": 48,
    "start_time": "2023-12-12T19:29:08.353Z"
   },
   {
    "duration": 81,
    "start_time": "2023-12-12T19:29:08.402Z"
   },
   {
    "duration": 6,
    "start_time": "2023-12-12T19:29:08.484Z"
   },
   {
    "duration": 42,
    "start_time": "2023-12-12T19:29:08.491Z"
   },
   {
    "duration": 27,
    "start_time": "2023-12-12T19:29:08.535Z"
   },
   {
    "duration": 29,
    "start_time": "2023-12-12T19:29:08.563Z"
   },
   {
    "duration": 21,
    "start_time": "2023-12-12T19:29:08.594Z"
   },
   {
    "duration": 43,
    "start_time": "2023-12-12T19:29:08.616Z"
   },
   {
    "duration": 5,
    "start_time": "2023-12-12T19:29:08.661Z"
   },
   {
    "duration": 42,
    "start_time": "2023-12-12T19:29:08.669Z"
   },
   {
    "duration": 22,
    "start_time": "2023-12-12T19:29:08.712Z"
   },
   {
    "duration": 34,
    "start_time": "2023-12-12T19:29:08.735Z"
   },
   {
    "duration": 221,
    "start_time": "2023-12-12T19:29:08.771Z"
   },
   {
    "duration": 16,
    "start_time": "2023-12-12T19:29:08.994Z"
   },
   {
    "duration": 61,
    "start_time": "2023-12-12T19:29:09.011Z"
   },
   {
    "duration": 30,
    "start_time": "2023-12-12T19:29:09.074Z"
   },
   {
    "duration": 67,
    "start_time": "2023-12-12T19:29:09.106Z"
   },
   {
    "duration": 17,
    "start_time": "2023-12-12T19:29:09.175Z"
   },
   {
    "duration": 16,
    "start_time": "2023-12-12T19:29:09.193Z"
   },
   {
    "duration": 58,
    "start_time": "2023-12-12T19:29:09.211Z"
   },
   {
    "duration": 5,
    "start_time": "2023-12-12T19:29:09.271Z"
   },
   {
    "duration": 200,
    "start_time": "2023-12-12T19:29:09.277Z"
   },
   {
    "duration": 9,
    "start_time": "2023-12-12T19:29:09.478Z"
   },
   {
    "duration": 20,
    "start_time": "2023-12-12T19:29:09.488Z"
   },
   {
    "duration": 57,
    "start_time": "2023-12-12T19:29:09.510Z"
   },
   {
    "duration": 47,
    "start_time": "2023-12-12T19:29:09.569Z"
   },
   {
    "duration": 48,
    "start_time": "2023-12-12T19:29:09.618Z"
   },
   {
    "duration": 6,
    "start_time": "2023-12-12T19:29:09.668Z"
   },
   {
    "duration": 28,
    "start_time": "2023-12-12T19:29:09.675Z"
   },
   {
    "duration": 60,
    "start_time": "2023-12-12T19:29:09.705Z"
   },
   {
    "duration": 24,
    "start_time": "2023-12-12T19:29:09.767Z"
   },
   {
    "duration": 477,
    "start_time": "2023-12-12T19:29:09.792Z"
   },
   {
    "duration": 6,
    "start_time": "2023-12-12T19:29:10.271Z"
   },
   {
    "duration": 500,
    "start_time": "2023-12-12T19:29:10.278Z"
   },
   {
    "duration": 11,
    "start_time": "2023-12-12T19:29:10.779Z"
   },
   {
    "duration": 335,
    "start_time": "2023-12-12T19:29:10.792Z"
   },
   {
    "duration": 58,
    "start_time": "2023-12-12T19:29:11.129Z"
   },
   {
    "duration": 12,
    "start_time": "2023-12-12T19:29:11.188Z"
   },
   {
    "duration": 38,
    "start_time": "2023-12-12T19:29:11.201Z"
   },
   {
    "duration": 21,
    "start_time": "2023-12-12T19:29:11.241Z"
   },
   {
    "duration": 76,
    "start_time": "2023-12-12T19:29:11.265Z"
   },
   {
    "duration": 1100,
    "start_time": "2023-12-12T19:29:50.307Z"
   },
   {
    "duration": 576,
    "start_time": "2023-12-12T19:29:51.408Z"
   },
   {
    "duration": 12,
    "start_time": "2023-12-12T19:29:51.985Z"
   },
   {
    "duration": 10,
    "start_time": "2023-12-12T19:29:51.998Z"
   },
   {
    "duration": 18,
    "start_time": "2023-12-12T19:29:52.011Z"
   },
   {
    "duration": 19,
    "start_time": "2023-12-12T19:29:52.030Z"
   },
   {
    "duration": 19,
    "start_time": "2023-12-12T19:29:52.051Z"
   },
   {
    "duration": 21,
    "start_time": "2023-12-12T19:29:52.071Z"
   },
   {
    "duration": 28,
    "start_time": "2023-12-12T19:29:52.094Z"
   },
   {
    "duration": 37,
    "start_time": "2023-12-12T19:29:52.123Z"
   },
   {
    "duration": 9,
    "start_time": "2023-12-12T19:29:52.162Z"
   },
   {
    "duration": 16,
    "start_time": "2023-12-12T19:29:52.173Z"
   },
   {
    "duration": 23,
    "start_time": "2023-12-12T19:29:52.190Z"
   },
   {
    "duration": 57,
    "start_time": "2023-12-12T19:29:52.216Z"
   },
   {
    "duration": 8,
    "start_time": "2023-12-12T19:29:52.274Z"
   },
   {
    "duration": 76,
    "start_time": "2023-12-12T19:29:52.283Z"
   },
   {
    "duration": 252,
    "start_time": "2023-12-12T19:29:52.361Z"
   },
   {
    "duration": 102,
    "start_time": "2023-12-12T19:29:52.615Z"
   },
   {
    "duration": 56,
    "start_time": "2023-12-12T19:29:52.718Z"
   },
   {
    "duration": 114,
    "start_time": "2023-12-12T19:29:52.776Z"
   },
   {
    "duration": 7,
    "start_time": "2023-12-12T19:29:52.891Z"
   },
   {
    "duration": 76,
    "start_time": "2023-12-12T19:29:52.899Z"
   },
   {
    "duration": 38,
    "start_time": "2023-12-12T19:29:52.976Z"
   },
   {
    "duration": 13,
    "start_time": "2023-12-12T19:29:53.016Z"
   },
   {
    "duration": 7,
    "start_time": "2023-12-12T19:29:53.066Z"
   },
   {
    "duration": 51,
    "start_time": "2023-12-12T19:29:53.074Z"
   },
   {
    "duration": 5,
    "start_time": "2023-12-12T19:29:53.165Z"
   },
   {
    "duration": 101,
    "start_time": "2023-12-12T19:29:53.171Z"
   },
   {
    "duration": 42,
    "start_time": "2023-12-12T19:29:53.273Z"
   },
   {
    "duration": 58,
    "start_time": "2023-12-12T19:29:53.316Z"
   },
   {
    "duration": 216,
    "start_time": "2023-12-12T19:29:53.376Z"
   },
   {
    "duration": 16,
    "start_time": "2023-12-12T19:29:53.594Z"
   },
   {
    "duration": 59,
    "start_time": "2023-12-12T19:29:53.611Z"
   },
   {
    "duration": 5,
    "start_time": "2023-12-12T19:29:53.672Z"
   },
   {
    "duration": 89,
    "start_time": "2023-12-12T19:29:53.678Z"
   },
   {
    "duration": 11,
    "start_time": "2023-12-12T19:29:53.768Z"
   },
   {
    "duration": 13,
    "start_time": "2023-12-12T19:29:53.781Z"
   },
   {
    "duration": 31,
    "start_time": "2023-12-12T19:29:53.795Z"
   },
   {
    "duration": 8,
    "start_time": "2023-12-12T19:29:53.866Z"
   },
   {
    "duration": 128,
    "start_time": "2023-12-12T19:29:53.876Z"
   },
   {
    "duration": 8,
    "start_time": "2023-12-12T19:29:54.008Z"
   },
   {
    "duration": 29,
    "start_time": "2023-12-12T19:29:54.017Z"
   },
   {
    "duration": 4,
    "start_time": "2023-12-12T19:29:54.047Z"
   },
   {
    "duration": 13,
    "start_time": "2023-12-12T19:29:54.053Z"
   },
   {
    "duration": 42,
    "start_time": "2023-12-12T19:29:54.068Z"
   },
   {
    "duration": 17,
    "start_time": "2023-12-12T19:29:54.112Z"
   },
   {
    "duration": 41,
    "start_time": "2023-12-12T19:29:54.131Z"
   },
   {
    "duration": 29,
    "start_time": "2023-12-12T19:29:54.173Z"
   },
   {
    "duration": 22,
    "start_time": "2023-12-12T19:29:54.203Z"
   },
   {
    "duration": 338,
    "start_time": "2023-12-12T19:29:54.226Z"
   },
   {
    "duration": 7,
    "start_time": "2023-12-12T19:29:54.565Z"
   },
   {
    "duration": 439,
    "start_time": "2023-12-12T19:29:54.573Z"
   },
   {
    "duration": 11,
    "start_time": "2023-12-12T19:29:55.014Z"
   },
   {
    "duration": 326,
    "start_time": "2023-12-12T19:29:55.026Z"
   },
   {
    "duration": 42,
    "start_time": "2023-12-12T19:29:55.353Z"
   },
   {
    "duration": 12,
    "start_time": "2023-12-12T19:29:55.396Z"
   },
   {
    "duration": 20,
    "start_time": "2023-12-12T19:29:55.410Z"
   },
   {
    "duration": 6,
    "start_time": "2023-12-12T19:29:55.465Z"
   },
   {
    "duration": 40,
    "start_time": "2023-12-12T19:29:55.472Z"
   },
   {
    "duration": 1117,
    "start_time": "2023-12-12T19:30:10.700Z"
   },
   {
    "duration": 590,
    "start_time": "2023-12-12T19:30:11.819Z"
   },
   {
    "duration": 12,
    "start_time": "2023-12-12T19:30:12.411Z"
   },
   {
    "duration": 10,
    "start_time": "2023-12-12T19:30:12.425Z"
   },
   {
    "duration": 11,
    "start_time": "2023-12-12T19:30:12.436Z"
   },
   {
    "duration": 12,
    "start_time": "2023-12-12T19:30:12.448Z"
   },
   {
    "duration": 16,
    "start_time": "2023-12-12T19:30:12.461Z"
   },
   {
    "duration": 13,
    "start_time": "2023-12-12T19:30:12.479Z"
   },
   {
    "duration": 9,
    "start_time": "2023-12-12T19:30:12.493Z"
   },
   {
    "duration": 20,
    "start_time": "2023-12-12T19:30:12.504Z"
   },
   {
    "duration": 16,
    "start_time": "2023-12-12T19:30:12.525Z"
   },
   {
    "duration": 26,
    "start_time": "2023-12-12T19:30:12.543Z"
   },
   {
    "duration": 14,
    "start_time": "2023-12-12T19:30:12.571Z"
   },
   {
    "duration": 27,
    "start_time": "2023-12-12T19:30:12.586Z"
   },
   {
    "duration": 13,
    "start_time": "2023-12-12T19:30:12.615Z"
   },
   {
    "duration": 79,
    "start_time": "2023-12-12T19:30:12.630Z"
   },
   {
    "duration": 285,
    "start_time": "2023-12-12T19:30:12.711Z"
   },
   {
    "duration": 114,
    "start_time": "2023-12-12T19:30:12.998Z"
   },
   {
    "duration": 55,
    "start_time": "2023-12-12T19:30:13.114Z"
   },
   {
    "duration": 56,
    "start_time": "2023-12-12T19:30:13.170Z"
   },
   {
    "duration": 6,
    "start_time": "2023-12-12T19:30:13.227Z"
   },
   {
    "duration": 42,
    "start_time": "2023-12-12T19:30:13.235Z"
   },
   {
    "duration": 35,
    "start_time": "2023-12-12T19:30:13.279Z"
   },
   {
    "duration": 18,
    "start_time": "2023-12-12T19:30:13.315Z"
   },
   {
    "duration": 26,
    "start_time": "2023-12-12T19:30:13.334Z"
   },
   {
    "duration": 47,
    "start_time": "2023-12-12T19:30:13.362Z"
   },
   {
    "duration": 5,
    "start_time": "2023-12-12T19:30:13.410Z"
   },
   {
    "duration": 41,
    "start_time": "2023-12-12T19:30:13.418Z"
   },
   {
    "duration": 26,
    "start_time": "2023-12-12T19:30:13.461Z"
   },
   {
    "duration": 32,
    "start_time": "2023-12-12T19:30:13.489Z"
   },
   {
    "duration": 152,
    "start_time": "2023-12-12T19:30:13.523Z"
   },
   {
    "duration": 16,
    "start_time": "2023-12-12T19:30:13.677Z"
   },
   {
    "duration": 20,
    "start_time": "2023-12-12T19:30:13.694Z"
   },
   {
    "duration": 5,
    "start_time": "2023-12-12T19:30:13.716Z"
   },
   {
    "duration": 30,
    "start_time": "2023-12-12T19:30:13.722Z"
   },
   {
    "duration": 13,
    "start_time": "2023-12-12T19:30:13.754Z"
   },
   {
    "duration": 6,
    "start_time": "2023-12-12T19:30:13.768Z"
   },
   {
    "duration": 6,
    "start_time": "2023-12-12T19:30:13.775Z"
   },
   {
    "duration": 18,
    "start_time": "2023-12-12T19:30:13.782Z"
   },
   {
    "duration": 79,
    "start_time": "2023-12-12T19:30:13.801Z"
   },
   {
    "duration": 9,
    "start_time": "2023-12-12T19:30:13.882Z"
   },
   {
    "duration": 22,
    "start_time": "2023-12-12T19:30:13.893Z"
   },
   {
    "duration": 5,
    "start_time": "2023-12-12T19:30:13.917Z"
   },
   {
    "duration": 24,
    "start_time": "2023-12-12T19:30:13.924Z"
   },
   {
    "duration": 29,
    "start_time": "2023-12-12T19:30:13.950Z"
   },
   {
    "duration": 8,
    "start_time": "2023-12-12T19:30:13.980Z"
   },
   {
    "duration": 25,
    "start_time": "2023-12-12T19:30:13.990Z"
   },
   {
    "duration": 22,
    "start_time": "2023-12-12T19:30:14.017Z"
   },
   {
    "duration": 42,
    "start_time": "2023-12-12T19:30:14.040Z"
   },
   {
    "duration": 687,
    "start_time": "2023-12-12T19:30:14.084Z"
   },
   {
    "duration": 6,
    "start_time": "2023-12-12T19:30:14.772Z"
   },
   {
    "duration": 747,
    "start_time": "2023-12-12T19:30:14.780Z"
   },
   {
    "duration": 45,
    "start_time": "2023-12-12T19:30:15.528Z"
   },
   {
    "duration": 354,
    "start_time": "2023-12-12T19:30:15.574Z"
   },
   {
    "duration": 59,
    "start_time": "2023-12-12T19:30:15.931Z"
   },
   {
    "duration": 11,
    "start_time": "2023-12-12T19:30:15.992Z"
   },
   {
    "duration": 18,
    "start_time": "2023-12-12T19:30:16.005Z"
   },
   {
    "duration": 8,
    "start_time": "2023-12-12T19:30:16.025Z"
   },
   {
    "duration": 60,
    "start_time": "2023-12-12T19:30:16.034Z"
   },
   {
    "duration": 1092,
    "start_time": "2023-12-12T19:30:47.830Z"
   },
   {
    "duration": 582,
    "start_time": "2023-12-12T19:30:48.924Z"
   },
   {
    "duration": 11,
    "start_time": "2023-12-12T19:30:49.507Z"
   },
   {
    "duration": 17,
    "start_time": "2023-12-12T19:30:49.520Z"
   },
   {
    "duration": 31,
    "start_time": "2023-12-12T19:30:49.538Z"
   },
   {
    "duration": 26,
    "start_time": "2023-12-12T19:30:49.570Z"
   },
   {
    "duration": 31,
    "start_time": "2023-12-12T19:30:49.597Z"
   },
   {
    "duration": 20,
    "start_time": "2023-12-12T19:30:49.630Z"
   },
   {
    "duration": 17,
    "start_time": "2023-12-12T19:30:49.652Z"
   },
   {
    "duration": 41,
    "start_time": "2023-12-12T19:30:49.672Z"
   },
   {
    "duration": 12,
    "start_time": "2023-12-12T19:30:49.714Z"
   },
   {
    "duration": 8,
    "start_time": "2023-12-12T19:30:49.727Z"
   },
   {
    "duration": 28,
    "start_time": "2023-12-12T19:30:49.736Z"
   },
   {
    "duration": 32,
    "start_time": "2023-12-12T19:30:49.766Z"
   },
   {
    "duration": 7,
    "start_time": "2023-12-12T19:30:49.800Z"
   },
   {
    "duration": 72,
    "start_time": "2023-12-12T19:30:49.808Z"
   },
   {
    "duration": 422,
    "start_time": "2023-12-12T19:30:49.881Z"
   },
   {
    "duration": 193,
    "start_time": "2023-12-12T19:30:50.305Z"
   },
   {
    "duration": 94,
    "start_time": "2023-12-12T19:30:50.499Z"
   },
   {
    "duration": 110,
    "start_time": "2023-12-12T19:30:50.594Z"
   },
   {
    "duration": 7,
    "start_time": "2023-12-12T19:30:50.705Z"
   },
   {
    "duration": 17,
    "start_time": "2023-12-12T19:30:50.765Z"
   },
   {
    "duration": 14,
    "start_time": "2023-12-12T19:30:50.783Z"
   },
   {
    "duration": 7,
    "start_time": "2023-12-12T19:30:50.799Z"
   },
   {
    "duration": 61,
    "start_time": "2023-12-12T19:30:50.807Z"
   },
   {
    "duration": 40,
    "start_time": "2023-12-12T19:30:50.870Z"
   },
   {
    "duration": 56,
    "start_time": "2023-12-12T19:30:50.912Z"
   },
   {
    "duration": 39,
    "start_time": "2023-12-12T19:30:50.971Z"
   },
   {
    "duration": 6,
    "start_time": "2023-12-12T19:30:51.011Z"
   },
   {
    "duration": 48,
    "start_time": "2023-12-12T19:30:51.018Z"
   },
   {
    "duration": 218,
    "start_time": "2023-12-12T19:30:51.067Z"
   },
   {
    "duration": 16,
    "start_time": "2023-12-12T19:30:51.287Z"
   },
   {
    "duration": 61,
    "start_time": "2023-12-12T19:30:51.304Z"
   },
   {
    "duration": 5,
    "start_time": "2023-12-12T19:30:51.367Z"
   },
   {
    "duration": 22,
    "start_time": "2023-12-12T19:30:51.373Z"
   },
   {
    "duration": 10,
    "start_time": "2023-12-12T19:30:51.397Z"
   },
   {
    "duration": 5,
    "start_time": "2023-12-12T19:30:51.408Z"
   },
   {
    "duration": 10,
    "start_time": "2023-12-12T19:30:51.415Z"
   },
   {
    "duration": 53,
    "start_time": "2023-12-12T19:30:51.426Z"
   },
   {
    "duration": 81,
    "start_time": "2023-12-12T19:30:51.480Z"
   },
   {
    "duration": 9,
    "start_time": "2023-12-12T19:30:51.562Z"
   },
   {
    "duration": 18,
    "start_time": "2023-12-12T19:30:51.572Z"
   },
   {
    "duration": 6,
    "start_time": "2023-12-12T19:30:51.592Z"
   },
   {
    "duration": 24,
    "start_time": "2023-12-12T19:30:51.599Z"
   },
   {
    "duration": 37,
    "start_time": "2023-12-12T19:30:51.625Z"
   },
   {
    "duration": 7,
    "start_time": "2023-12-12T19:30:51.664Z"
   },
   {
    "duration": 14,
    "start_time": "2023-12-12T19:30:51.672Z"
   },
   {
    "duration": 14,
    "start_time": "2023-12-12T19:30:51.688Z"
   },
   {
    "duration": 28,
    "start_time": "2023-12-12T19:30:51.704Z"
   },
   {
    "duration": 338,
    "start_time": "2023-12-12T19:30:51.734Z"
   },
   {
    "duration": 6,
    "start_time": "2023-12-12T19:30:52.074Z"
   },
   {
    "duration": 475,
    "start_time": "2023-12-12T19:30:52.082Z"
   },
   {
    "duration": 16,
    "start_time": "2023-12-12T19:30:52.559Z"
   },
   {
    "duration": 330,
    "start_time": "2023-12-12T19:30:52.577Z"
   },
   {
    "duration": 59,
    "start_time": "2023-12-12T19:30:52.908Z"
   },
   {
    "duration": 13,
    "start_time": "2023-12-12T19:30:52.969Z"
   },
   {
    "duration": 34,
    "start_time": "2023-12-12T19:30:52.983Z"
   },
   {
    "duration": 9,
    "start_time": "2023-12-12T19:30:53.019Z"
   },
   {
    "duration": 45,
    "start_time": "2023-12-12T19:30:53.029Z"
   },
   {
    "duration": 1270,
    "start_time": "2023-12-12T19:32:05.921Z"
   },
   {
    "duration": 1132,
    "start_time": "2023-12-12T19:32:07.193Z"
   },
   {
    "duration": 12,
    "start_time": "2023-12-12T19:32:08.326Z"
   },
   {
    "duration": 21,
    "start_time": "2023-12-12T19:32:08.340Z"
   },
   {
    "duration": 31,
    "start_time": "2023-12-12T19:32:08.362Z"
   },
   {
    "duration": 24,
    "start_time": "2023-12-12T19:32:08.395Z"
   },
   {
    "duration": 37,
    "start_time": "2023-12-12T19:32:08.421Z"
   },
   {
    "duration": 25,
    "start_time": "2023-12-12T19:32:08.460Z"
   },
   {
    "duration": 28,
    "start_time": "2023-12-12T19:32:08.486Z"
   },
   {
    "duration": 25,
    "start_time": "2023-12-12T19:32:08.517Z"
   },
   {
    "duration": 17,
    "start_time": "2023-12-12T19:32:08.544Z"
   },
   {
    "duration": 27,
    "start_time": "2023-12-12T19:32:08.562Z"
   },
   {
    "duration": 36,
    "start_time": "2023-12-12T19:32:08.591Z"
   },
   {
    "duration": 57,
    "start_time": "2023-12-12T19:32:08.628Z"
   },
   {
    "duration": 9,
    "start_time": "2023-12-12T19:32:08.686Z"
   },
   {
    "duration": 87,
    "start_time": "2023-12-12T19:32:08.696Z"
   },
   {
    "duration": 274,
    "start_time": "2023-12-12T19:32:08.784Z"
   },
   {
    "duration": 107,
    "start_time": "2023-12-12T19:32:09.060Z"
   },
   {
    "duration": 40,
    "start_time": "2023-12-12T19:32:09.168Z"
   },
   {
    "duration": 64,
    "start_time": "2023-12-12T19:32:09.210Z"
   },
   {
    "duration": 6,
    "start_time": "2023-12-12T19:32:09.276Z"
   },
   {
    "duration": 12,
    "start_time": "2023-12-12T19:32:09.283Z"
   },
   {
    "duration": 26,
    "start_time": "2023-12-12T19:32:09.297Z"
   },
   {
    "duration": 6,
    "start_time": "2023-12-12T19:32:09.325Z"
   },
   {
    "duration": 10,
    "start_time": "2023-12-12T19:32:09.332Z"
   },
   {
    "duration": 37,
    "start_time": "2023-12-12T19:32:09.343Z"
   },
   {
    "duration": 3,
    "start_time": "2023-12-12T19:32:09.382Z"
   },
   {
    "duration": 27,
    "start_time": "2023-12-12T19:32:09.388Z"
   },
   {
    "duration": 5,
    "start_time": "2023-12-12T19:32:09.417Z"
   },
   {
    "duration": 12,
    "start_time": "2023-12-12T19:32:09.423Z"
   },
   {
    "duration": 128,
    "start_time": "2023-12-12T19:32:09.437Z"
   },
   {
    "duration": 18,
    "start_time": "2023-12-12T19:32:09.567Z"
   },
   {
    "duration": 9,
    "start_time": "2023-12-12T19:32:09.587Z"
   },
   {
    "duration": 5,
    "start_time": "2023-12-12T19:32:09.598Z"
   },
   {
    "duration": 16,
    "start_time": "2023-12-12T19:32:09.605Z"
   },
   {
    "duration": 11,
    "start_time": "2023-12-12T19:32:09.623Z"
   },
   {
    "duration": 30,
    "start_time": "2023-12-12T19:32:09.636Z"
   },
   {
    "duration": 13,
    "start_time": "2023-12-12T19:32:09.667Z"
   },
   {
    "duration": 6,
    "start_time": "2023-12-12T19:32:09.681Z"
   },
   {
    "duration": 87,
    "start_time": "2023-12-12T19:32:09.689Z"
   },
   {
    "duration": 9,
    "start_time": "2023-12-12T19:32:09.778Z"
   },
   {
    "duration": 8,
    "start_time": "2023-12-12T19:32:09.789Z"
   },
   {
    "duration": 13,
    "start_time": "2023-12-12T19:32:09.799Z"
   },
   {
    "duration": 12,
    "start_time": "2023-12-12T19:32:09.814Z"
   },
   {
    "duration": 25,
    "start_time": "2023-12-12T19:32:09.828Z"
   },
   {
    "duration": 14,
    "start_time": "2023-12-12T19:32:09.854Z"
   },
   {
    "duration": 9,
    "start_time": "2023-12-12T19:32:09.870Z"
   },
   {
    "duration": 17,
    "start_time": "2023-12-12T19:32:09.880Z"
   },
   {
    "duration": 25,
    "start_time": "2023-12-12T19:32:09.899Z"
   },
   {
    "duration": 351,
    "start_time": "2023-12-12T19:32:09.925Z"
   },
   {
    "duration": 6,
    "start_time": "2023-12-12T19:32:10.278Z"
   },
   {
    "duration": 449,
    "start_time": "2023-12-12T19:32:10.285Z"
   },
   {
    "duration": 11,
    "start_time": "2023-12-12T19:32:10.735Z"
   },
   {
    "duration": 345,
    "start_time": "2023-12-12T19:32:10.767Z"
   },
   {
    "duration": 58,
    "start_time": "2023-12-12T19:32:11.114Z"
   },
   {
    "duration": 13,
    "start_time": "2023-12-12T19:32:11.174Z"
   },
   {
    "duration": 20,
    "start_time": "2023-12-12T19:32:11.188Z"
   },
   {
    "duration": 6,
    "start_time": "2023-12-12T19:32:11.210Z"
   },
   {
    "duration": 61,
    "start_time": "2023-12-12T19:32:11.218Z"
   },
   {
    "duration": 1087,
    "start_time": "2023-12-12T19:32:38.420Z"
   },
   {
    "duration": 585,
    "start_time": "2023-12-12T19:32:39.509Z"
   },
   {
    "duration": 12,
    "start_time": "2023-12-12T19:32:40.095Z"
   },
   {
    "duration": 9,
    "start_time": "2023-12-12T19:32:40.109Z"
   },
   {
    "duration": 11,
    "start_time": "2023-12-12T19:32:40.119Z"
   },
   {
    "duration": 7,
    "start_time": "2023-12-12T19:32:40.132Z"
   },
   {
    "duration": 14,
    "start_time": "2023-12-12T19:32:40.140Z"
   },
   {
    "duration": 11,
    "start_time": "2023-12-12T19:32:40.156Z"
   },
   {
    "duration": 15,
    "start_time": "2023-12-12T19:32:40.169Z"
   },
   {
    "duration": 23,
    "start_time": "2023-12-12T19:32:40.187Z"
   },
   {
    "duration": 6,
    "start_time": "2023-12-12T19:32:40.211Z"
   },
   {
    "duration": 12,
    "start_time": "2023-12-12T19:32:40.219Z"
   },
   {
    "duration": 15,
    "start_time": "2023-12-12T19:32:40.232Z"
   },
   {
    "duration": 37,
    "start_time": "2023-12-12T19:32:40.249Z"
   },
   {
    "duration": 8,
    "start_time": "2023-12-12T19:32:40.288Z"
   },
   {
    "duration": 87,
    "start_time": "2023-12-12T19:32:40.298Z"
   },
   {
    "duration": 271,
    "start_time": "2023-12-12T19:32:40.386Z"
   },
   {
    "duration": 106,
    "start_time": "2023-12-12T19:32:40.659Z"
   },
   {
    "duration": 42,
    "start_time": "2023-12-12T19:32:40.767Z"
   },
   {
    "duration": 75,
    "start_time": "2023-12-12T19:32:40.811Z"
   },
   {
    "duration": 9,
    "start_time": "2023-12-12T19:32:40.888Z"
   },
   {
    "duration": 19,
    "start_time": "2023-12-12T19:32:40.899Z"
   },
   {
    "duration": 10,
    "start_time": "2023-12-12T19:32:40.919Z"
   },
   {
    "duration": 6,
    "start_time": "2023-12-12T19:32:40.931Z"
   },
   {
    "duration": 8,
    "start_time": "2023-12-12T19:32:40.964Z"
   },
   {
    "duration": 30,
    "start_time": "2023-12-12T19:32:40.974Z"
   },
   {
    "duration": 4,
    "start_time": "2023-12-12T19:32:41.006Z"
   },
   {
    "duration": 23,
    "start_time": "2023-12-12T19:32:41.013Z"
   },
   {
    "duration": 28,
    "start_time": "2023-12-12T19:32:41.038Z"
   },
   {
    "duration": 20,
    "start_time": "2023-12-12T19:32:41.067Z"
   },
   {
    "duration": 113,
    "start_time": "2023-12-12T19:32:41.089Z"
   },
   {
    "duration": 16,
    "start_time": "2023-12-12T19:32:41.203Z"
   },
   {
    "duration": 8,
    "start_time": "2023-12-12T19:32:41.220Z"
   },
   {
    "duration": 6,
    "start_time": "2023-12-12T19:32:41.230Z"
   },
   {
    "duration": 28,
    "start_time": "2023-12-12T19:32:41.237Z"
   },
   {
    "duration": 11,
    "start_time": "2023-12-12T19:32:41.267Z"
   },
   {
    "duration": 6,
    "start_time": "2023-12-12T19:32:41.279Z"
   },
   {
    "duration": 7,
    "start_time": "2023-12-12T19:32:41.286Z"
   },
   {
    "duration": 13,
    "start_time": "2023-12-12T19:32:41.294Z"
   },
   {
    "duration": 88,
    "start_time": "2023-12-12T19:32:41.308Z"
   },
   {
    "duration": 8,
    "start_time": "2023-12-12T19:32:41.398Z"
   },
   {
    "duration": 8,
    "start_time": "2023-12-12T19:32:41.408Z"
   },
   {
    "duration": 4,
    "start_time": "2023-12-12T19:32:41.418Z"
   },
   {
    "duration": 7,
    "start_time": "2023-12-12T19:32:41.423Z"
   },
   {
    "duration": 110,
    "start_time": "2023-12-12T19:32:41.432Z"
   },
   {
    "duration": 0,
    "start_time": "2023-12-12T19:32:41.543Z"
   },
   {
    "duration": 0,
    "start_time": "2023-12-12T19:32:41.544Z"
   },
   {
    "duration": 0,
    "start_time": "2023-12-12T19:32:41.546Z"
   },
   {
    "duration": 0,
    "start_time": "2023-12-12T19:32:41.547Z"
   },
   {
    "duration": 0,
    "start_time": "2023-12-12T19:32:41.547Z"
   },
   {
    "duration": 0,
    "start_time": "2023-12-12T19:32:41.549Z"
   },
   {
    "duration": 0,
    "start_time": "2023-12-12T19:32:41.565Z"
   },
   {
    "duration": 0,
    "start_time": "2023-12-12T19:32:41.566Z"
   },
   {
    "duration": 0,
    "start_time": "2023-12-12T19:32:41.567Z"
   },
   {
    "duration": 0,
    "start_time": "2023-12-12T19:32:41.568Z"
   },
   {
    "duration": 0,
    "start_time": "2023-12-12T19:32:41.569Z"
   },
   {
    "duration": 0,
    "start_time": "2023-12-12T19:32:41.570Z"
   },
   {
    "duration": 0,
    "start_time": "2023-12-12T19:32:41.571Z"
   },
   {
    "duration": 0,
    "start_time": "2023-12-12T19:32:41.573Z"
   },
   {
    "duration": 1157,
    "start_time": "2023-12-12T19:33:14.139Z"
   },
   {
    "duration": 594,
    "start_time": "2023-12-12T19:33:15.298Z"
   },
   {
    "duration": 15,
    "start_time": "2023-12-12T19:33:15.893Z"
   },
   {
    "duration": 37,
    "start_time": "2023-12-12T19:33:15.910Z"
   },
   {
    "duration": 19,
    "start_time": "2023-12-12T19:33:15.948Z"
   },
   {
    "duration": 27,
    "start_time": "2023-12-12T19:33:15.969Z"
   },
   {
    "duration": 30,
    "start_time": "2023-12-12T19:33:15.997Z"
   },
   {
    "duration": 32,
    "start_time": "2023-12-12T19:33:16.028Z"
   },
   {
    "duration": 39,
    "start_time": "2023-12-12T19:33:16.062Z"
   },
   {
    "duration": 29,
    "start_time": "2023-12-12T19:33:16.104Z"
   },
   {
    "duration": 21,
    "start_time": "2023-12-12T19:33:16.135Z"
   },
   {
    "duration": 23,
    "start_time": "2023-12-12T19:33:16.158Z"
   },
   {
    "duration": 34,
    "start_time": "2023-12-12T19:33:16.182Z"
   },
   {
    "duration": 49,
    "start_time": "2023-12-12T19:33:16.217Z"
   },
   {
    "duration": 8,
    "start_time": "2023-12-12T19:33:16.268Z"
   },
   {
    "duration": 88,
    "start_time": "2023-12-12T19:33:16.278Z"
   },
   {
    "duration": 346,
    "start_time": "2023-12-12T19:33:16.367Z"
   },
   {
    "duration": 200,
    "start_time": "2023-12-12T19:33:16.766Z"
   },
   {
    "duration": 102,
    "start_time": "2023-12-12T19:33:16.967Z"
   },
   {
    "duration": 109,
    "start_time": "2023-12-12T19:33:17.071Z"
   },
   {
    "duration": 6,
    "start_time": "2023-12-12T19:33:17.181Z"
   },
   {
    "duration": 80,
    "start_time": "2023-12-12T19:33:17.189Z"
   },
   {
    "duration": 26,
    "start_time": "2023-12-12T19:33:17.270Z"
   },
   {
    "duration": 9,
    "start_time": "2023-12-12T19:33:17.297Z"
   },
   {
    "duration": 60,
    "start_time": "2023-12-12T19:33:17.307Z"
   },
   {
    "duration": 48,
    "start_time": "2023-12-12T19:33:17.368Z"
   },
   {
    "duration": 48,
    "start_time": "2023-12-12T19:33:17.418Z"
   },
   {
    "duration": 24,
    "start_time": "2023-12-12T19:33:17.469Z"
   },
   {
    "duration": 74,
    "start_time": "2023-12-12T19:33:17.494Z"
   },
   {
    "duration": 26,
    "start_time": "2023-12-12T19:33:17.569Z"
   },
   {
    "duration": 276,
    "start_time": "2023-12-12T19:33:17.596Z"
   },
   {
    "duration": 17,
    "start_time": "2023-12-12T19:33:17.874Z"
   },
   {
    "duration": 12,
    "start_time": "2023-12-12T19:33:17.892Z"
   },
   {
    "duration": 65,
    "start_time": "2023-12-12T19:33:17.906Z"
   },
   {
    "duration": 44,
    "start_time": "2023-12-12T19:33:17.973Z"
   },
   {
    "duration": 18,
    "start_time": "2023-12-12T19:33:18.019Z"
   },
   {
    "duration": 16,
    "start_time": "2023-12-12T19:33:18.038Z"
   },
   {
    "duration": 22,
    "start_time": "2023-12-12T19:33:18.055Z"
   },
   {
    "duration": 18,
    "start_time": "2023-12-12T19:33:18.078Z"
   },
   {
    "duration": 95,
    "start_time": "2023-12-12T19:33:18.097Z"
   },
   {
    "duration": 8,
    "start_time": "2023-12-12T19:33:18.194Z"
   },
   {
    "duration": 46,
    "start_time": "2023-12-12T19:33:18.204Z"
   },
   {
    "duration": 13,
    "start_time": "2023-12-12T19:33:18.251Z"
   },
   {
    "duration": 19,
    "start_time": "2023-12-12T19:33:18.265Z"
   },
   {
    "duration": 22,
    "start_time": "2023-12-12T19:33:18.285Z"
   },
   {
    "duration": 19,
    "start_time": "2023-12-12T19:33:18.308Z"
   },
   {
    "duration": 25,
    "start_time": "2023-12-12T19:33:18.328Z"
   },
   {
    "duration": 28,
    "start_time": "2023-12-12T19:33:18.354Z"
   },
   {
    "duration": 32,
    "start_time": "2023-12-12T19:33:18.384Z"
   },
   {
    "duration": 359,
    "start_time": "2023-12-12T19:33:18.417Z"
   },
   {
    "duration": 6,
    "start_time": "2023-12-12T19:33:18.778Z"
   },
   {
    "duration": 468,
    "start_time": "2023-12-12T19:33:18.785Z"
   },
   {
    "duration": 18,
    "start_time": "2023-12-12T19:33:19.255Z"
   },
   {
    "duration": 331,
    "start_time": "2023-12-12T19:33:19.275Z"
   },
   {
    "duration": 57,
    "start_time": "2023-12-12T19:33:19.608Z"
   },
   {
    "duration": 12,
    "start_time": "2023-12-12T19:33:19.667Z"
   },
   {
    "duration": 37,
    "start_time": "2023-12-12T19:33:19.680Z"
   },
   {
    "duration": 26,
    "start_time": "2023-12-12T19:33:19.719Z"
   },
   {
    "duration": 63,
    "start_time": "2023-12-12T19:33:19.746Z"
   },
   {
    "duration": 1084,
    "start_time": "2023-12-12T19:35:34.421Z"
   },
   {
    "duration": 624,
    "start_time": "2023-12-12T19:35:35.507Z"
   },
   {
    "duration": 11,
    "start_time": "2023-12-12T19:35:36.133Z"
   },
   {
    "duration": 14,
    "start_time": "2023-12-12T19:35:36.146Z"
   },
   {
    "duration": 54,
    "start_time": "2023-12-12T19:35:36.162Z"
   },
   {
    "duration": 19,
    "start_time": "2023-12-12T19:35:36.218Z"
   },
   {
    "duration": 26,
    "start_time": "2023-12-12T19:35:36.238Z"
   },
   {
    "duration": 10,
    "start_time": "2023-12-12T19:35:36.266Z"
   },
   {
    "duration": 40,
    "start_time": "2023-12-12T19:35:36.278Z"
   },
   {
    "duration": 41,
    "start_time": "2023-12-12T19:35:36.320Z"
   },
   {
    "duration": 19,
    "start_time": "2023-12-12T19:35:36.363Z"
   },
   {
    "duration": 18,
    "start_time": "2023-12-12T19:35:36.384Z"
   },
   {
    "duration": 21,
    "start_time": "2023-12-12T19:35:36.404Z"
   },
   {
    "duration": 46,
    "start_time": "2023-12-12T19:35:36.427Z"
   },
   {
    "duration": 8,
    "start_time": "2023-12-12T19:35:36.475Z"
   },
   {
    "duration": 120,
    "start_time": "2023-12-12T19:35:36.484Z"
   },
   {
    "duration": 407,
    "start_time": "2023-12-12T19:35:36.605Z"
   },
   {
    "duration": 142,
    "start_time": "2023-12-12T19:35:37.065Z"
   },
   {
    "duration": 92,
    "start_time": "2023-12-12T19:35:37.208Z"
   },
   {
    "duration": 112,
    "start_time": "2023-12-12T19:35:37.302Z"
   },
   {
    "duration": 7,
    "start_time": "2023-12-12T19:35:37.466Z"
   },
   {
    "duration": 58,
    "start_time": "2023-12-12T19:35:37.474Z"
   },
   {
    "duration": 61,
    "start_time": "2023-12-12T19:35:37.533Z"
   },
   {
    "duration": 15,
    "start_time": "2023-12-12T19:35:37.595Z"
   },
   {
    "duration": 23,
    "start_time": "2023-12-12T19:35:37.611Z"
   },
   {
    "duration": 67,
    "start_time": "2023-12-12T19:35:37.635Z"
   },
   {
    "duration": 8,
    "start_time": "2023-12-12T19:35:37.703Z"
   },
   {
    "duration": 70,
    "start_time": "2023-12-12T19:35:37.715Z"
   },
   {
    "duration": 5,
    "start_time": "2023-12-12T19:35:37.787Z"
   },
   {
    "duration": 19,
    "start_time": "2023-12-12T19:35:37.794Z"
   },
   {
    "duration": 274,
    "start_time": "2023-12-12T19:35:37.814Z"
   },
   {
    "duration": 15,
    "start_time": "2023-12-12T19:35:38.089Z"
   },
   {
    "duration": 8,
    "start_time": "2023-12-12T19:35:38.106Z"
   },
   {
    "duration": 8,
    "start_time": "2023-12-12T19:35:38.116Z"
   },
   {
    "duration": 50,
    "start_time": "2023-12-12T19:35:38.125Z"
   },
   {
    "duration": 41,
    "start_time": "2023-12-12T19:35:38.176Z"
   },
   {
    "duration": 6,
    "start_time": "2023-12-12T19:35:38.218Z"
   },
   {
    "duration": 14,
    "start_time": "2023-12-12T19:35:38.226Z"
   },
   {
    "duration": 20,
    "start_time": "2023-12-12T19:35:38.241Z"
   },
   {
    "duration": 81,
    "start_time": "2023-12-12T19:35:38.262Z"
   },
   {
    "duration": 9,
    "start_time": "2023-12-12T19:35:38.345Z"
   },
   {
    "duration": 54,
    "start_time": "2023-12-12T19:35:38.355Z"
   },
   {
    "duration": 17,
    "start_time": "2023-12-12T19:35:38.411Z"
   },
   {
    "duration": 16,
    "start_time": "2023-12-12T19:35:38.429Z"
   },
   {
    "duration": 17,
    "start_time": "2023-12-12T19:35:38.446Z"
   },
   {
    "duration": 12,
    "start_time": "2023-12-12T19:35:38.464Z"
   },
   {
    "duration": 4,
    "start_time": "2023-12-12T19:35:38.477Z"
   },
   {
    "duration": 24,
    "start_time": "2023-12-12T19:35:38.482Z"
   },
   {
    "duration": 33,
    "start_time": "2023-12-12T19:35:38.508Z"
   },
   {
    "duration": 336,
    "start_time": "2023-12-12T19:35:38.543Z"
   },
   {
    "duration": 7,
    "start_time": "2023-12-12T19:35:38.880Z"
   },
   {
    "duration": 448,
    "start_time": "2023-12-12T19:35:38.888Z"
   },
   {
    "duration": 10,
    "start_time": "2023-12-12T19:35:39.338Z"
   },
   {
    "duration": 327,
    "start_time": "2023-12-12T19:35:39.349Z"
   },
   {
    "duration": 35,
    "start_time": "2023-12-12T19:35:39.677Z"
   },
   {
    "duration": 12,
    "start_time": "2023-12-12T19:35:39.713Z"
   },
   {
    "duration": 52,
    "start_time": "2023-12-12T19:35:39.726Z"
   },
   {
    "duration": 13,
    "start_time": "2023-12-12T19:35:39.779Z"
   },
   {
    "duration": 58,
    "start_time": "2023-12-12T19:35:39.793Z"
   },
   {
    "duration": 1156,
    "start_time": "2023-12-12T19:36:29.348Z"
   },
   {
    "duration": 1196,
    "start_time": "2023-12-12T19:36:30.506Z"
   },
   {
    "duration": 12,
    "start_time": "2023-12-12T19:36:31.704Z"
   },
   {
    "duration": 87,
    "start_time": "2023-12-12T19:36:31.718Z"
   },
   {
    "duration": 67,
    "start_time": "2023-12-12T19:36:31.807Z"
   },
   {
    "duration": 40,
    "start_time": "2023-12-12T19:36:31.876Z"
   },
   {
    "duration": 30,
    "start_time": "2023-12-12T19:36:31.917Z"
   },
   {
    "duration": 42,
    "start_time": "2023-12-12T19:36:31.949Z"
   },
   {
    "duration": 26,
    "start_time": "2023-12-12T19:36:31.992Z"
   },
   {
    "duration": 37,
    "start_time": "2023-12-12T19:36:32.021Z"
   },
   {
    "duration": 30,
    "start_time": "2023-12-12T19:36:32.059Z"
   },
   {
    "duration": 56,
    "start_time": "2023-12-12T19:36:32.091Z"
   },
   {
    "duration": 36,
    "start_time": "2023-12-12T19:36:32.149Z"
   },
   {
    "duration": 134,
    "start_time": "2023-12-12T19:36:32.186Z"
   },
   {
    "duration": 24,
    "start_time": "2023-12-12T19:36:32.322Z"
   },
   {
    "duration": 75,
    "start_time": "2023-12-12T19:36:32.348Z"
   },
   {
    "duration": 279,
    "start_time": "2023-12-12T19:36:32.424Z"
   },
   {
    "duration": 100,
    "start_time": "2023-12-12T19:36:32.704Z"
   },
   {
    "duration": 69,
    "start_time": "2023-12-12T19:36:32.806Z"
   },
   {
    "duration": 75,
    "start_time": "2023-12-12T19:36:32.876Z"
   },
   {
    "duration": 8,
    "start_time": "2023-12-12T19:36:32.953Z"
   },
   {
    "duration": 37,
    "start_time": "2023-12-12T19:36:32.962Z"
   },
   {
    "duration": 35,
    "start_time": "2023-12-12T19:36:33.000Z"
   },
   {
    "duration": 49,
    "start_time": "2023-12-12T19:36:33.037Z"
   },
   {
    "duration": 37,
    "start_time": "2023-12-12T19:36:33.088Z"
   },
   {
    "duration": 61,
    "start_time": "2023-12-12T19:36:33.127Z"
   },
   {
    "duration": 23,
    "start_time": "2023-12-12T19:36:33.190Z"
   },
   {
    "duration": 48,
    "start_time": "2023-12-12T19:36:33.216Z"
   },
   {
    "duration": 25,
    "start_time": "2023-12-12T19:36:33.266Z"
   },
   {
    "duration": 23,
    "start_time": "2023-12-12T19:36:33.292Z"
   },
   {
    "duration": 128,
    "start_time": "2023-12-12T19:36:33.316Z"
   },
   {
    "duration": 20,
    "start_time": "2023-12-12T19:36:33.446Z"
   },
   {
    "duration": 15,
    "start_time": "2023-12-12T19:36:33.468Z"
   },
   {
    "duration": 28,
    "start_time": "2023-12-12T19:36:33.484Z"
   },
   {
    "duration": 52,
    "start_time": "2023-12-12T19:36:33.513Z"
   },
   {
    "duration": 12,
    "start_time": "2023-12-12T19:36:33.567Z"
   },
   {
    "duration": 33,
    "start_time": "2023-12-12T19:36:33.580Z"
   },
   {
    "duration": 54,
    "start_time": "2023-12-12T19:36:33.615Z"
   },
   {
    "duration": 63,
    "start_time": "2023-12-12T19:36:33.671Z"
   },
   {
    "duration": 153,
    "start_time": "2023-12-12T19:36:33.735Z"
   },
   {
    "duration": 9,
    "start_time": "2023-12-12T19:36:33.889Z"
   },
   {
    "duration": 72,
    "start_time": "2023-12-12T19:36:33.899Z"
   },
   {
    "duration": 9,
    "start_time": "2023-12-12T19:36:33.972Z"
   },
   {
    "duration": 47,
    "start_time": "2023-12-12T19:36:33.982Z"
   },
   {
    "duration": 45,
    "start_time": "2023-12-12T19:36:34.031Z"
   },
   {
    "duration": 23,
    "start_time": "2023-12-12T19:36:34.077Z"
   },
   {
    "duration": 26,
    "start_time": "2023-12-12T19:36:34.102Z"
   },
   {
    "duration": 51,
    "start_time": "2023-12-12T19:36:34.130Z"
   },
   {
    "duration": 55,
    "start_time": "2023-12-12T19:36:34.183Z"
   },
   {
    "duration": 514,
    "start_time": "2023-12-12T19:36:34.266Z"
   },
   {
    "duration": 7,
    "start_time": "2023-12-12T19:36:34.781Z"
   },
   {
    "duration": 443,
    "start_time": "2023-12-12T19:36:34.789Z"
   },
   {
    "duration": 11,
    "start_time": "2023-12-12T19:36:35.234Z"
   },
   {
    "duration": 456,
    "start_time": "2023-12-12T19:36:35.246Z"
   },
   {
    "duration": 73,
    "start_time": "2023-12-12T19:36:35.704Z"
   },
   {
    "duration": 15,
    "start_time": "2023-12-12T19:36:35.779Z"
   },
   {
    "duration": 23,
    "start_time": "2023-12-12T19:36:35.796Z"
   },
   {
    "duration": 6,
    "start_time": "2023-12-12T19:36:35.821Z"
   },
   {
    "duration": 94,
    "start_time": "2023-12-12T19:36:35.829Z"
   },
   {
    "duration": 1213,
    "start_time": "2023-12-12T19:39:14.576Z"
   },
   {
    "duration": 606,
    "start_time": "2023-12-12T19:39:15.791Z"
   },
   {
    "duration": 11,
    "start_time": "2023-12-12T19:39:16.398Z"
   },
   {
    "duration": 52,
    "start_time": "2023-12-12T19:39:16.411Z"
   },
   {
    "duration": 17,
    "start_time": "2023-12-12T19:39:16.465Z"
   },
   {
    "duration": 88,
    "start_time": "2023-12-12T19:39:16.484Z"
   },
   {
    "duration": 39,
    "start_time": "2023-12-12T19:39:16.573Z"
   },
   {
    "duration": 31,
    "start_time": "2023-12-12T19:39:16.613Z"
   },
   {
    "duration": 56,
    "start_time": "2023-12-12T19:39:16.646Z"
   },
   {
    "duration": 50,
    "start_time": "2023-12-12T19:39:16.705Z"
   },
   {
    "duration": 29,
    "start_time": "2023-12-12T19:39:16.757Z"
   },
   {
    "duration": 22,
    "start_time": "2023-12-12T19:39:16.788Z"
   },
   {
    "duration": 44,
    "start_time": "2023-12-12T19:39:16.812Z"
   },
   {
    "duration": 40,
    "start_time": "2023-12-12T19:39:16.858Z"
   },
   {
    "duration": 8,
    "start_time": "2023-12-12T19:39:16.899Z"
   },
   {
    "duration": 88,
    "start_time": "2023-12-12T19:39:16.909Z"
   },
   {
    "duration": 269,
    "start_time": "2023-12-12T19:39:16.999Z"
   },
   {
    "duration": 110,
    "start_time": "2023-12-12T19:39:17.269Z"
   },
   {
    "duration": 40,
    "start_time": "2023-12-12T19:39:17.381Z"
   },
   {
    "duration": 78,
    "start_time": "2023-12-12T19:39:17.423Z"
   },
   {
    "duration": 7,
    "start_time": "2023-12-12T19:39:17.502Z"
   },
   {
    "duration": 29,
    "start_time": "2023-12-12T19:39:17.510Z"
   },
   {
    "duration": 25,
    "start_time": "2023-12-12T19:39:17.541Z"
   },
   {
    "duration": 34,
    "start_time": "2023-12-12T19:39:17.567Z"
   },
   {
    "duration": 31,
    "start_time": "2023-12-12T19:39:17.603Z"
   },
   {
    "duration": 43,
    "start_time": "2023-12-12T19:39:17.635Z"
   },
   {
    "duration": 9,
    "start_time": "2023-12-12T19:39:17.680Z"
   },
   {
    "duration": 43,
    "start_time": "2023-12-12T19:39:17.692Z"
   },
   {
    "duration": 24,
    "start_time": "2023-12-12T19:39:17.736Z"
   },
   {
    "duration": 23,
    "start_time": "2023-12-12T19:39:17.762Z"
   },
   {
    "duration": 155,
    "start_time": "2023-12-12T19:39:17.787Z"
   },
   {
    "duration": 22,
    "start_time": "2023-12-12T19:39:17.944Z"
   },
   {
    "duration": 10,
    "start_time": "2023-12-12T19:39:17.967Z"
   },
   {
    "duration": 11,
    "start_time": "2023-12-12T19:39:17.978Z"
   },
   {
    "duration": 47,
    "start_time": "2023-12-12T19:39:17.990Z"
   },
   {
    "duration": 25,
    "start_time": "2023-12-12T19:39:18.038Z"
   },
   {
    "duration": 13,
    "start_time": "2023-12-12T19:39:18.064Z"
   },
   {
    "duration": 20,
    "start_time": "2023-12-12T19:39:18.079Z"
   },
   {
    "duration": 20,
    "start_time": "2023-12-12T19:39:18.101Z"
   },
   {
    "duration": 98,
    "start_time": "2023-12-12T19:39:18.123Z"
   },
   {
    "duration": 10,
    "start_time": "2023-12-12T19:39:18.223Z"
   },
   {
    "duration": 31,
    "start_time": "2023-12-12T19:39:18.235Z"
   },
   {
    "duration": 13,
    "start_time": "2023-12-12T19:39:18.268Z"
   },
   {
    "duration": 16,
    "start_time": "2023-12-12T19:39:18.283Z"
   },
   {
    "duration": 46,
    "start_time": "2023-12-12T19:39:18.300Z"
   },
   {
    "duration": 7,
    "start_time": "2023-12-12T19:39:18.348Z"
   },
   {
    "duration": 46,
    "start_time": "2023-12-12T19:39:18.356Z"
   },
   {
    "duration": 33,
    "start_time": "2023-12-12T19:39:18.403Z"
   },
   {
    "duration": 31,
    "start_time": "2023-12-12T19:39:18.438Z"
   },
   {
    "duration": 382,
    "start_time": "2023-12-12T19:39:18.470Z"
   },
   {
    "duration": 7,
    "start_time": "2023-12-12T19:39:18.853Z"
   },
   {
    "duration": 644,
    "start_time": "2023-12-12T19:39:18.861Z"
   },
   {
    "duration": 65,
    "start_time": "2023-12-12T19:39:19.507Z"
   },
   {
    "duration": 631,
    "start_time": "2023-12-12T19:39:19.573Z"
   },
   {
    "duration": 104,
    "start_time": "2023-12-12T19:39:20.206Z"
   },
   {
    "duration": 66,
    "start_time": "2023-12-12T19:39:20.312Z"
   },
   {
    "duration": 40,
    "start_time": "2023-12-12T19:39:20.379Z"
   },
   {
    "duration": 51,
    "start_time": "2023-12-12T19:39:20.420Z"
   },
   {
    "duration": 76,
    "start_time": "2023-12-12T19:39:20.473Z"
   },
   {
    "duration": 1140,
    "start_time": "2023-12-12T20:02:29.392Z"
   },
   {
    "duration": 632,
    "start_time": "2023-12-12T20:02:30.534Z"
   },
   {
    "duration": 17,
    "start_time": "2023-12-12T20:02:31.168Z"
   },
   {
    "duration": 51,
    "start_time": "2023-12-12T20:02:31.188Z"
   },
   {
    "duration": 51,
    "start_time": "2023-12-12T20:02:31.240Z"
   },
   {
    "duration": 55,
    "start_time": "2023-12-12T20:02:31.293Z"
   },
   {
    "duration": 88,
    "start_time": "2023-12-12T20:02:31.349Z"
   },
   {
    "duration": 36,
    "start_time": "2023-12-12T20:02:31.438Z"
   },
   {
    "duration": 25,
    "start_time": "2023-12-12T20:02:31.476Z"
   },
   {
    "duration": 37,
    "start_time": "2023-12-12T20:02:31.503Z"
   },
   {
    "duration": 38,
    "start_time": "2023-12-12T20:02:31.542Z"
   },
   {
    "duration": 14,
    "start_time": "2023-12-12T20:02:31.582Z"
   },
   {
    "duration": 62,
    "start_time": "2023-12-12T20:02:31.598Z"
   },
   {
    "duration": 50,
    "start_time": "2023-12-12T20:02:31.661Z"
   },
   {
    "duration": 11,
    "start_time": "2023-12-12T20:02:31.713Z"
   },
   {
    "duration": 107,
    "start_time": "2023-12-12T20:02:31.725Z"
   },
   {
    "duration": 281,
    "start_time": "2023-12-12T20:02:31.833Z"
   },
   {
    "duration": 112,
    "start_time": "2023-12-12T20:02:32.115Z"
   },
   {
    "duration": 62,
    "start_time": "2023-12-12T20:02:32.229Z"
   },
   {
    "duration": 57,
    "start_time": "2023-12-12T20:02:32.292Z"
   },
   {
    "duration": 21,
    "start_time": "2023-12-12T20:02:32.350Z"
   },
   {
    "duration": 18,
    "start_time": "2023-12-12T20:02:32.372Z"
   },
   {
    "duration": 10,
    "start_time": "2023-12-12T20:02:32.392Z"
   },
   {
    "duration": 11,
    "start_time": "2023-12-12T20:02:32.404Z"
   },
   {
    "duration": 36,
    "start_time": "2023-12-12T20:02:32.417Z"
   },
   {
    "duration": 32,
    "start_time": "2023-12-12T20:02:32.455Z"
   },
   {
    "duration": 6,
    "start_time": "2023-12-12T20:02:32.488Z"
   },
   {
    "duration": 23,
    "start_time": "2023-12-12T20:02:32.498Z"
   },
   {
    "duration": 5,
    "start_time": "2023-12-12T20:02:32.523Z"
   },
   {
    "duration": 20,
    "start_time": "2023-12-12T20:02:32.529Z"
   },
   {
    "duration": 144,
    "start_time": "2023-12-12T20:02:32.565Z"
   },
   {
    "duration": 72,
    "start_time": "2023-12-12T20:02:32.710Z"
   },
   {
    "duration": 16,
    "start_time": "2023-12-12T20:02:32.784Z"
   },
   {
    "duration": 65,
    "start_time": "2023-12-12T20:02:32.802Z"
   },
   {
    "duration": 17,
    "start_time": "2023-12-12T20:02:32.868Z"
   },
   {
    "duration": 25,
    "start_time": "2023-12-12T20:02:32.887Z"
   },
   {
    "duration": 7,
    "start_time": "2023-12-12T20:02:32.914Z"
   },
   {
    "duration": 9,
    "start_time": "2023-12-12T20:02:32.965Z"
   },
   {
    "duration": 11,
    "start_time": "2023-12-12T20:02:32.977Z"
   },
   {
    "duration": 118,
    "start_time": "2023-12-12T20:02:32.990Z"
   },
   {
    "duration": 63,
    "start_time": "2023-12-12T20:02:33.109Z"
   },
   {
    "duration": 12,
    "start_time": "2023-12-12T20:02:33.175Z"
   },
   {
    "duration": 7,
    "start_time": "2023-12-12T20:02:33.188Z"
   },
   {
    "duration": 4,
    "start_time": "2023-12-12T20:02:33.196Z"
   },
   {
    "duration": 72,
    "start_time": "2023-12-12T20:02:33.201Z"
   },
   {
    "duration": 7,
    "start_time": "2023-12-12T20:02:33.275Z"
   },
   {
    "duration": 13,
    "start_time": "2023-12-12T20:02:33.284Z"
   },
   {
    "duration": 11,
    "start_time": "2023-12-12T20:02:33.299Z"
   },
   {
    "duration": 58,
    "start_time": "2023-12-12T20:02:33.312Z"
   },
   {
    "duration": 832,
    "start_time": "2023-12-12T20:02:33.372Z"
   },
   {
    "duration": 6,
    "start_time": "2023-12-12T20:02:34.205Z"
   },
   {
    "duration": 522,
    "start_time": "2023-12-12T20:02:34.213Z"
   },
   {
    "duration": 31,
    "start_time": "2023-12-12T20:02:34.736Z"
   },
   {
    "duration": 321,
    "start_time": "2023-12-12T20:02:34.769Z"
   },
   {
    "duration": 76,
    "start_time": "2023-12-12T20:02:35.092Z"
   },
   {
    "duration": 14,
    "start_time": "2023-12-12T20:02:35.170Z"
   },
   {
    "duration": 21,
    "start_time": "2023-12-12T20:02:35.185Z"
   },
   {
    "duration": 8,
    "start_time": "2023-12-12T20:02:35.208Z"
   },
   {
    "duration": 61,
    "start_time": "2023-12-12T20:02:35.218Z"
   },
   {
    "duration": 1203,
    "start_time": "2023-12-12T20:05:29.619Z"
   },
   {
    "duration": 674,
    "start_time": "2023-12-12T20:05:30.824Z"
   },
   {
    "duration": 12,
    "start_time": "2023-12-12T20:05:31.499Z"
   },
   {
    "duration": 38,
    "start_time": "2023-12-12T20:05:31.513Z"
   },
   {
    "duration": 27,
    "start_time": "2023-12-12T20:05:31.553Z"
   },
   {
    "duration": 28,
    "start_time": "2023-12-12T20:05:31.581Z"
   },
   {
    "duration": 67,
    "start_time": "2023-12-12T20:05:31.611Z"
   },
   {
    "duration": 35,
    "start_time": "2023-12-12T20:05:31.680Z"
   },
   {
    "duration": 41,
    "start_time": "2023-12-12T20:05:31.718Z"
   },
   {
    "duration": 57,
    "start_time": "2023-12-12T20:05:31.761Z"
   },
   {
    "duration": 49,
    "start_time": "2023-12-12T20:05:31.819Z"
   },
   {
    "duration": 9,
    "start_time": "2023-12-12T20:05:31.870Z"
   },
   {
    "duration": 39,
    "start_time": "2023-12-12T20:05:31.881Z"
   },
   {
    "duration": 40,
    "start_time": "2023-12-12T20:05:31.966Z"
   },
   {
    "duration": 63,
    "start_time": "2023-12-12T20:05:32.008Z"
   },
   {
    "duration": 193,
    "start_time": "2023-12-12T20:05:32.073Z"
   },
   {
    "duration": 613,
    "start_time": "2023-12-12T20:05:32.268Z"
   },
   {
    "duration": 204,
    "start_time": "2023-12-12T20:05:32.883Z"
   },
   {
    "duration": 106,
    "start_time": "2023-12-12T20:05:33.089Z"
   },
   {
    "duration": 109,
    "start_time": "2023-12-12T20:05:33.196Z"
   },
   {
    "duration": 7,
    "start_time": "2023-12-12T20:05:33.307Z"
   },
   {
    "duration": 14,
    "start_time": "2023-12-12T20:05:33.316Z"
   },
   {
    "duration": 59,
    "start_time": "2023-12-12T20:05:33.332Z"
   },
   {
    "duration": 17,
    "start_time": "2023-12-12T20:05:33.392Z"
   },
   {
    "duration": 13,
    "start_time": "2023-12-12T20:05:33.411Z"
   },
   {
    "duration": 79,
    "start_time": "2023-12-12T20:05:33.426Z"
   },
   {
    "duration": 4,
    "start_time": "2023-12-12T20:05:33.506Z"
   },
   {
    "duration": 39,
    "start_time": "2023-12-12T20:05:33.514Z"
   },
   {
    "duration": 6,
    "start_time": "2023-12-12T20:05:33.554Z"
   },
   {
    "duration": 14,
    "start_time": "2023-12-12T20:05:33.561Z"
   },
   {
    "duration": 120,
    "start_time": "2023-12-12T20:05:33.576Z"
   },
   {
    "duration": 16,
    "start_time": "2023-12-12T20:05:33.698Z"
   },
   {
    "duration": 13,
    "start_time": "2023-12-12T20:05:33.715Z"
   },
   {
    "duration": 10,
    "start_time": "2023-12-12T20:05:33.730Z"
   },
   {
    "duration": 42,
    "start_time": "2023-12-12T20:05:33.741Z"
   },
   {
    "duration": 12,
    "start_time": "2023-12-12T20:05:33.785Z"
   },
   {
    "duration": 6,
    "start_time": "2023-12-12T20:05:33.798Z"
   },
   {
    "duration": 6,
    "start_time": "2023-12-12T20:05:33.806Z"
   },
   {
    "duration": 10,
    "start_time": "2023-12-12T20:05:33.813Z"
   },
   {
    "duration": 90,
    "start_time": "2023-12-12T20:05:33.824Z"
   },
   {
    "duration": 8,
    "start_time": "2023-12-12T20:05:33.916Z"
   },
   {
    "duration": 26,
    "start_time": "2023-12-12T20:05:33.925Z"
   },
   {
    "duration": 15,
    "start_time": "2023-12-12T20:05:33.952Z"
   },
   {
    "duration": 17,
    "start_time": "2023-12-12T20:05:33.969Z"
   },
   {
    "duration": 18,
    "start_time": "2023-12-12T20:05:33.988Z"
   },
   {
    "duration": 36,
    "start_time": "2023-12-12T20:05:34.007Z"
   },
   {
    "duration": 11,
    "start_time": "2023-12-12T20:05:34.045Z"
   },
   {
    "duration": 21,
    "start_time": "2023-12-12T20:05:34.058Z"
   },
   {
    "duration": 36,
    "start_time": "2023-12-12T20:05:34.081Z"
   },
   {
    "duration": 379,
    "start_time": "2023-12-12T20:05:34.118Z"
   },
   {
    "duration": 6,
    "start_time": "2023-12-12T20:05:34.499Z"
   },
   {
    "duration": 450,
    "start_time": "2023-12-12T20:05:34.506Z"
   },
   {
    "duration": 16,
    "start_time": "2023-12-12T20:05:34.957Z"
   },
   {
    "duration": 365,
    "start_time": "2023-12-12T20:05:34.975Z"
   },
   {
    "duration": 48,
    "start_time": "2023-12-12T20:05:35.342Z"
   },
   {
    "duration": 42,
    "start_time": "2023-12-12T20:05:35.392Z"
   },
   {
    "duration": 53,
    "start_time": "2023-12-12T20:05:35.435Z"
   },
   {
    "duration": 80,
    "start_time": "2023-12-12T20:05:35.490Z"
   },
   {
    "duration": 68,
    "start_time": "2023-12-12T20:05:35.573Z"
   },
   {
    "duration": 1187,
    "start_time": "2023-12-12T20:10:47.841Z"
   },
   {
    "duration": 594,
    "start_time": "2023-12-12T20:10:49.030Z"
   },
   {
    "duration": 13,
    "start_time": "2023-12-12T20:10:49.625Z"
   },
   {
    "duration": 140,
    "start_time": "2023-12-12T20:10:49.639Z"
   },
   {
    "duration": 215,
    "start_time": "2023-12-12T20:10:49.781Z"
   },
   {
    "duration": 148,
    "start_time": "2023-12-12T20:10:49.998Z"
   },
   {
    "duration": 40,
    "start_time": "2023-12-12T20:10:50.148Z"
   },
   {
    "duration": 10,
    "start_time": "2023-12-12T20:10:50.189Z"
   },
   {
    "duration": 29,
    "start_time": "2023-12-12T20:10:50.201Z"
   },
   {
    "duration": 19,
    "start_time": "2023-12-12T20:10:50.267Z"
   },
   {
    "duration": 9,
    "start_time": "2023-12-12T20:10:50.287Z"
   },
   {
    "duration": 13,
    "start_time": "2023-12-12T20:10:50.297Z"
   },
   {
    "duration": 65,
    "start_time": "2023-12-12T20:10:50.311Z"
   },
   {
    "duration": 40,
    "start_time": "2023-12-12T20:10:50.377Z"
   },
   {
    "duration": 54,
    "start_time": "2023-12-12T20:10:50.418Z"
   },
   {
    "duration": 124,
    "start_time": "2023-12-12T20:10:50.474Z"
   },
   {
    "duration": 579,
    "start_time": "2023-12-12T20:10:50.600Z"
   },
   {
    "duration": 122,
    "start_time": "2023-12-12T20:10:51.180Z"
   },
   {
    "duration": 41,
    "start_time": "2023-12-12T20:10:51.303Z"
   },
   {
    "duration": 66,
    "start_time": "2023-12-12T20:10:51.345Z"
   },
   {
    "duration": 6,
    "start_time": "2023-12-12T20:10:51.413Z"
   },
   {
    "duration": 17,
    "start_time": "2023-12-12T20:10:51.420Z"
   },
   {
    "duration": 18,
    "start_time": "2023-12-12T20:10:51.439Z"
   },
   {
    "duration": 13,
    "start_time": "2023-12-12T20:10:51.458Z"
   },
   {
    "duration": 13,
    "start_time": "2023-12-12T20:10:51.472Z"
   },
   {
    "duration": 43,
    "start_time": "2023-12-12T20:10:51.486Z"
   },
   {
    "duration": 5,
    "start_time": "2023-12-12T20:10:51.530Z"
   },
   {
    "duration": 23,
    "start_time": "2023-12-12T20:10:51.538Z"
   },
   {
    "duration": 11,
    "start_time": "2023-12-12T20:10:51.565Z"
   },
   {
    "duration": 18,
    "start_time": "2023-12-12T20:10:51.577Z"
   },
   {
    "duration": 119,
    "start_time": "2023-12-12T20:10:51.596Z"
   },
   {
    "duration": 15,
    "start_time": "2023-12-12T20:10:51.717Z"
   },
   {
    "duration": 9,
    "start_time": "2023-12-12T20:10:51.734Z"
   },
   {
    "duration": 23,
    "start_time": "2023-12-12T20:10:51.744Z"
   },
   {
    "duration": 27,
    "start_time": "2023-12-12T20:10:51.768Z"
   },
   {
    "duration": 11,
    "start_time": "2023-12-12T20:10:51.796Z"
   },
   {
    "duration": 23,
    "start_time": "2023-12-12T20:10:51.809Z"
   },
   {
    "duration": 8,
    "start_time": "2023-12-12T20:10:51.833Z"
   },
   {
    "duration": 26,
    "start_time": "2023-12-12T20:10:51.842Z"
   },
   {
    "duration": 91,
    "start_time": "2023-12-12T20:10:51.869Z"
   },
   {
    "duration": 7,
    "start_time": "2023-12-12T20:10:51.962Z"
   },
   {
    "duration": 8,
    "start_time": "2023-12-12T20:10:51.971Z"
   },
   {
    "duration": 5,
    "start_time": "2023-12-12T20:10:51.981Z"
   },
   {
    "duration": 5,
    "start_time": "2023-12-12T20:10:51.988Z"
   },
   {
    "duration": 22,
    "start_time": "2023-12-12T20:10:51.994Z"
   },
   {
    "duration": 6,
    "start_time": "2023-12-12T20:10:52.017Z"
   },
   {
    "duration": 14,
    "start_time": "2023-12-12T20:10:52.025Z"
   },
   {
    "duration": 17,
    "start_time": "2023-12-12T20:10:52.040Z"
   },
   {
    "duration": 15,
    "start_time": "2023-12-12T20:10:52.065Z"
   },
   {
    "duration": 359,
    "start_time": "2023-12-12T20:10:52.082Z"
   },
   {
    "duration": 6,
    "start_time": "2023-12-12T20:10:52.442Z"
   },
   {
    "duration": 452,
    "start_time": "2023-12-12T20:10:52.449Z"
   },
   {
    "duration": 11,
    "start_time": "2023-12-12T20:10:52.902Z"
   },
   {
    "duration": 353,
    "start_time": "2023-12-12T20:10:52.915Z"
   },
   {
    "duration": 13,
    "start_time": "2023-12-12T20:10:53.270Z"
   },
   {
    "duration": 44,
    "start_time": "2023-12-12T20:10:53.285Z"
   },
   {
    "duration": 35,
    "start_time": "2023-12-12T20:10:53.331Z"
   },
   {
    "duration": 25,
    "start_time": "2023-12-12T20:10:53.368Z"
   },
   {
    "duration": 15,
    "start_time": "2023-12-12T20:10:53.395Z"
   },
   {
    "duration": 71,
    "start_time": "2023-12-12T20:10:53.412Z"
   },
   {
    "duration": 1248,
    "start_time": "2023-12-12T20:11:10.978Z"
   },
   {
    "duration": 782,
    "start_time": "2023-12-12T20:11:12.227Z"
   },
   {
    "duration": 13,
    "start_time": "2023-12-12T20:11:13.010Z"
   },
   {
    "duration": 8,
    "start_time": "2023-12-12T20:11:13.026Z"
   },
   {
    "duration": 19,
    "start_time": "2023-12-12T20:11:13.036Z"
   },
   {
    "duration": 6,
    "start_time": "2023-12-12T20:11:13.057Z"
   },
   {
    "duration": 13,
    "start_time": "2023-12-12T20:11:13.064Z"
   },
   {
    "duration": 19,
    "start_time": "2023-12-12T20:11:13.079Z"
   },
   {
    "duration": 26,
    "start_time": "2023-12-12T20:11:13.099Z"
   },
   {
    "duration": 27,
    "start_time": "2023-12-12T20:11:13.128Z"
   },
   {
    "duration": 8,
    "start_time": "2023-12-12T20:11:13.156Z"
   },
   {
    "duration": 22,
    "start_time": "2023-12-12T20:11:13.165Z"
   },
   {
    "duration": 17,
    "start_time": "2023-12-12T20:11:13.189Z"
   },
   {
    "duration": 31,
    "start_time": "2023-12-12T20:11:13.208Z"
   },
   {
    "duration": 9,
    "start_time": "2023-12-12T20:11:13.240Z"
   },
   {
    "duration": 72,
    "start_time": "2023-12-12T20:11:13.250Z"
   },
   {
    "duration": 284,
    "start_time": "2023-12-12T20:11:13.323Z"
   },
   {
    "duration": 99,
    "start_time": "2023-12-12T20:11:13.609Z"
   },
   {
    "duration": 56,
    "start_time": "2023-12-12T20:11:13.710Z"
   },
   {
    "duration": 52,
    "start_time": "2023-12-12T20:11:13.768Z"
   },
   {
    "duration": 7,
    "start_time": "2023-12-12T20:11:13.821Z"
   },
   {
    "duration": 22,
    "start_time": "2023-12-12T20:11:13.829Z"
   },
   {
    "duration": 20,
    "start_time": "2023-12-12T20:11:13.853Z"
   },
   {
    "duration": 7,
    "start_time": "2023-12-12T20:11:13.874Z"
   },
   {
    "duration": 8,
    "start_time": "2023-12-12T20:11:13.882Z"
   },
   {
    "duration": 38,
    "start_time": "2023-12-12T20:11:13.891Z"
   },
   {
    "duration": 4,
    "start_time": "2023-12-12T20:11:13.930Z"
   },
   {
    "duration": 43,
    "start_time": "2023-12-12T20:11:13.938Z"
   },
   {
    "duration": 6,
    "start_time": "2023-12-12T20:11:13.982Z"
   },
   {
    "duration": 20,
    "start_time": "2023-12-12T20:11:13.989Z"
   },
   {
    "duration": 123,
    "start_time": "2023-12-12T20:11:14.010Z"
   },
   {
    "duration": 16,
    "start_time": "2023-12-12T20:11:14.135Z"
   },
   {
    "duration": 19,
    "start_time": "2023-12-12T20:11:14.152Z"
   },
   {
    "duration": 5,
    "start_time": "2023-12-12T20:11:14.172Z"
   },
   {
    "duration": 15,
    "start_time": "2023-12-12T20:11:14.179Z"
   },
   {
    "duration": 12,
    "start_time": "2023-12-12T20:11:14.196Z"
   },
   {
    "duration": 7,
    "start_time": "2023-12-12T20:11:14.210Z"
   },
   {
    "duration": 15,
    "start_time": "2023-12-12T20:11:14.218Z"
   },
   {
    "duration": 19,
    "start_time": "2023-12-12T20:11:14.235Z"
   },
   {
    "duration": 72,
    "start_time": "2023-12-12T20:11:14.266Z"
   },
   {
    "duration": 8,
    "start_time": "2023-12-12T20:11:14.340Z"
   },
   {
    "duration": 34,
    "start_time": "2023-12-12T20:11:14.350Z"
   },
   {
    "duration": 7,
    "start_time": "2023-12-12T20:11:14.386Z"
   },
   {
    "duration": 9,
    "start_time": "2023-12-12T20:11:14.394Z"
   },
   {
    "duration": 21,
    "start_time": "2023-12-12T20:11:14.405Z"
   },
   {
    "duration": 5,
    "start_time": "2023-12-12T20:11:14.427Z"
   },
   {
    "duration": 28,
    "start_time": "2023-12-12T20:11:14.434Z"
   },
   {
    "duration": 22,
    "start_time": "2023-12-12T20:11:14.463Z"
   },
   {
    "duration": 60,
    "start_time": "2023-12-12T20:11:14.487Z"
   },
   {
    "duration": 358,
    "start_time": "2023-12-12T20:11:14.549Z"
   },
   {
    "duration": 6,
    "start_time": "2023-12-12T20:11:14.908Z"
   },
   {
    "duration": 442,
    "start_time": "2023-12-12T20:11:14.916Z"
   },
   {
    "duration": 13,
    "start_time": "2023-12-12T20:11:15.360Z"
   },
   {
    "duration": 331,
    "start_time": "2023-12-12T20:11:15.374Z"
   },
   {
    "duration": 18,
    "start_time": "2023-12-12T20:11:15.706Z"
   },
   {
    "duration": 61,
    "start_time": "2023-12-12T20:11:15.726Z"
   },
   {
    "duration": 44,
    "start_time": "2023-12-12T20:11:15.788Z"
   },
   {
    "duration": 32,
    "start_time": "2023-12-12T20:11:15.834Z"
   },
   {
    "duration": 39,
    "start_time": "2023-12-12T20:11:15.868Z"
   },
   {
    "duration": 71,
    "start_time": "2023-12-12T20:11:15.909Z"
   },
   {
    "duration": 1182,
    "start_time": "2023-12-12T20:15:27.533Z"
   },
   {
    "duration": 607,
    "start_time": "2023-12-12T20:15:28.717Z"
   },
   {
    "duration": 12,
    "start_time": "2023-12-12T20:15:29.325Z"
   },
   {
    "duration": 23,
    "start_time": "2023-12-12T20:15:29.339Z"
   },
   {
    "duration": 32,
    "start_time": "2023-12-12T20:15:29.363Z"
   },
   {
    "duration": 30,
    "start_time": "2023-12-12T20:15:29.397Z"
   },
   {
    "duration": 30,
    "start_time": "2023-12-12T20:15:29.428Z"
   },
   {
    "duration": 25,
    "start_time": "2023-12-12T20:15:29.460Z"
   },
   {
    "duration": 22,
    "start_time": "2023-12-12T20:15:29.486Z"
   },
   {
    "duration": 37,
    "start_time": "2023-12-12T20:15:29.510Z"
   },
   {
    "duration": 6,
    "start_time": "2023-12-12T20:15:29.549Z"
   },
   {
    "duration": 27,
    "start_time": "2023-12-12T20:15:29.556Z"
   },
   {
    "duration": 32,
    "start_time": "2023-12-12T20:15:29.584Z"
   },
   {
    "duration": 34,
    "start_time": "2023-12-12T20:15:29.617Z"
   },
   {
    "duration": 16,
    "start_time": "2023-12-12T20:15:29.652Z"
   },
   {
    "duration": 87,
    "start_time": "2023-12-12T20:15:29.669Z"
   },
   {
    "duration": 253,
    "start_time": "2023-12-12T20:15:29.758Z"
   },
   {
    "duration": 105,
    "start_time": "2023-12-12T20:15:30.012Z"
   },
   {
    "duration": 154,
    "start_time": "2023-12-12T20:15:30.118Z"
   },
   {
    "duration": 141,
    "start_time": "2023-12-12T20:15:30.274Z"
   },
   {
    "duration": 10,
    "start_time": "2023-12-12T20:15:30.417Z"
   },
   {
    "duration": 66,
    "start_time": "2023-12-12T20:15:30.429Z"
   },
   {
    "duration": 44,
    "start_time": "2023-12-12T20:15:30.497Z"
   },
   {
    "duration": 51,
    "start_time": "2023-12-12T20:15:30.542Z"
   },
   {
    "duration": 48,
    "start_time": "2023-12-12T20:15:30.595Z"
   },
   {
    "duration": 100,
    "start_time": "2023-12-12T20:15:30.645Z"
   },
   {
    "duration": 103,
    "start_time": "2023-12-12T20:15:30.747Z"
   },
   {
    "duration": 106,
    "start_time": "2023-12-12T20:15:30.854Z"
   },
   {
    "duration": 83,
    "start_time": "2023-12-12T20:15:30.962Z"
   },
   {
    "duration": 141,
    "start_time": "2023-12-12T20:15:31.047Z"
   },
   {
    "duration": 237,
    "start_time": "2023-12-12T20:15:31.189Z"
   },
   {
    "duration": 16,
    "start_time": "2023-12-12T20:15:31.427Z"
   },
   {
    "duration": 208,
    "start_time": "2023-12-12T20:15:31.444Z"
   },
   {
    "duration": 53,
    "start_time": "2023-12-12T20:15:31.653Z"
   },
   {
    "duration": 53,
    "start_time": "2023-12-12T20:15:31.708Z"
   },
   {
    "duration": 43,
    "start_time": "2023-12-12T20:15:31.762Z"
   },
   {
    "duration": 12,
    "start_time": "2023-12-12T20:15:31.807Z"
   },
   {
    "duration": 44,
    "start_time": "2023-12-12T20:15:31.820Z"
   },
   {
    "duration": 27,
    "start_time": "2023-12-12T20:15:31.865Z"
   },
   {
    "duration": 92,
    "start_time": "2023-12-12T20:15:31.894Z"
   },
   {
    "duration": 7,
    "start_time": "2023-12-12T20:15:31.987Z"
   },
   {
    "duration": 16,
    "start_time": "2023-12-12T20:15:31.996Z"
   },
   {
    "duration": 31,
    "start_time": "2023-12-12T20:15:32.013Z"
   },
   {
    "duration": 18,
    "start_time": "2023-12-12T20:15:32.046Z"
   },
   {
    "duration": 24,
    "start_time": "2023-12-12T20:15:32.065Z"
   },
   {
    "duration": 6,
    "start_time": "2023-12-12T20:15:32.090Z"
   },
   {
    "duration": 21,
    "start_time": "2023-12-12T20:15:32.097Z"
   },
   {
    "duration": 8,
    "start_time": "2023-12-12T20:15:32.119Z"
   },
   {
    "duration": 18,
    "start_time": "2023-12-12T20:15:32.129Z"
   },
   {
    "duration": 385,
    "start_time": "2023-12-12T20:15:32.148Z"
   },
   {
    "duration": 6,
    "start_time": "2023-12-12T20:15:32.534Z"
   },
   {
    "duration": 454,
    "start_time": "2023-12-12T20:15:32.542Z"
   },
   {
    "duration": 11,
    "start_time": "2023-12-12T20:15:32.998Z"
   },
   {
    "duration": 326,
    "start_time": "2023-12-12T20:15:33.011Z"
   },
   {
    "duration": 32,
    "start_time": "2023-12-12T20:15:33.339Z"
   },
   {
    "duration": 35,
    "start_time": "2023-12-12T20:15:33.372Z"
   },
   {
    "duration": 13,
    "start_time": "2023-12-12T20:15:33.409Z"
   },
   {
    "duration": 52,
    "start_time": "2023-12-12T20:15:33.423Z"
   },
   {
    "duration": 6,
    "start_time": "2023-12-12T20:15:33.477Z"
   },
   {
    "duration": 50,
    "start_time": "2023-12-12T20:15:33.484Z"
   },
   {
    "duration": 1243,
    "start_time": "2023-12-12T20:15:58.160Z"
   },
   {
    "duration": 1113,
    "start_time": "2023-12-12T20:15:59.405Z"
   },
   {
    "duration": 12,
    "start_time": "2023-12-12T20:16:00.519Z"
   },
   {
    "duration": 511,
    "start_time": "2023-12-12T20:16:00.533Z"
   },
   {
    "duration": 244,
    "start_time": "2023-12-12T20:16:01.045Z"
   },
   {
    "duration": 297,
    "start_time": "2023-12-12T20:16:01.291Z"
   },
   {
    "duration": 243,
    "start_time": "2023-12-12T20:16:01.589Z"
   },
   {
    "duration": 71,
    "start_time": "2023-12-12T20:16:01.833Z"
   },
   {
    "duration": 115,
    "start_time": "2023-12-12T20:16:01.905Z"
   },
   {
    "duration": 80,
    "start_time": "2023-12-12T20:16:02.023Z"
   },
   {
    "duration": 48,
    "start_time": "2023-12-12T20:16:02.104Z"
   },
   {
    "duration": 67,
    "start_time": "2023-12-12T20:16:02.153Z"
   },
   {
    "duration": 41,
    "start_time": "2023-12-12T20:16:02.222Z"
   },
   {
    "duration": 47,
    "start_time": "2023-12-12T20:16:02.265Z"
   },
   {
    "duration": 24,
    "start_time": "2023-12-12T20:16:02.314Z"
   },
   {
    "duration": 82,
    "start_time": "2023-12-12T20:16:02.340Z"
   },
   {
    "duration": 286,
    "start_time": "2023-12-12T20:16:02.424Z"
   },
   {
    "duration": 101,
    "start_time": "2023-12-12T20:16:02.711Z"
   },
   {
    "duration": 53,
    "start_time": "2023-12-12T20:16:02.813Z"
   },
   {
    "duration": 81,
    "start_time": "2023-12-12T20:16:02.868Z"
   },
   {
    "duration": 7,
    "start_time": "2023-12-12T20:16:02.950Z"
   },
   {
    "duration": 34,
    "start_time": "2023-12-12T20:16:02.959Z"
   },
   {
    "duration": 19,
    "start_time": "2023-12-12T20:16:02.995Z"
   },
   {
    "duration": 24,
    "start_time": "2023-12-12T20:16:03.016Z"
   },
   {
    "duration": 36,
    "start_time": "2023-12-12T20:16:03.041Z"
   },
   {
    "duration": 54,
    "start_time": "2023-12-12T20:16:03.078Z"
   },
   {
    "duration": 4,
    "start_time": "2023-12-12T20:16:03.133Z"
   },
   {
    "duration": 51,
    "start_time": "2023-12-12T20:16:03.140Z"
   },
   {
    "duration": 21,
    "start_time": "2023-12-12T20:16:03.193Z"
   },
   {
    "duration": 31,
    "start_time": "2023-12-12T20:16:03.215Z"
   },
   {
    "duration": 139,
    "start_time": "2023-12-12T20:16:03.247Z"
   },
   {
    "duration": 16,
    "start_time": "2023-12-12T20:16:03.387Z"
   },
   {
    "duration": 15,
    "start_time": "2023-12-12T20:16:03.404Z"
   },
   {
    "duration": 31,
    "start_time": "2023-12-12T20:16:03.420Z"
   },
   {
    "duration": 40,
    "start_time": "2023-12-12T20:16:03.452Z"
   },
   {
    "duration": 19,
    "start_time": "2023-12-12T20:16:03.494Z"
   },
   {
    "duration": 17,
    "start_time": "2023-12-12T20:16:03.515Z"
   },
   {
    "duration": 26,
    "start_time": "2023-12-12T20:16:03.533Z"
   },
   {
    "duration": 9,
    "start_time": "2023-12-12T20:16:03.560Z"
   },
   {
    "duration": 94,
    "start_time": "2023-12-12T20:16:03.571Z"
   },
   {
    "duration": 8,
    "start_time": "2023-12-12T20:16:03.666Z"
   },
   {
    "duration": 20,
    "start_time": "2023-12-12T20:16:03.675Z"
   },
   {
    "duration": 24,
    "start_time": "2023-12-12T20:16:03.696Z"
   },
   {
    "duration": 16,
    "start_time": "2023-12-12T20:16:03.722Z"
   },
   {
    "duration": 32,
    "start_time": "2023-12-12T20:16:03.740Z"
   },
   {
    "duration": 5,
    "start_time": "2023-12-12T20:16:03.774Z"
   },
   {
    "duration": 21,
    "start_time": "2023-12-12T20:16:03.781Z"
   },
   {
    "duration": 4,
    "start_time": "2023-12-12T20:16:03.804Z"
   },
   {
    "duration": 18,
    "start_time": "2023-12-12T20:16:03.809Z"
   },
   {
    "duration": 349,
    "start_time": "2023-12-12T20:16:03.828Z"
   },
   {
    "duration": 6,
    "start_time": "2023-12-12T20:16:04.179Z"
   },
   {
    "duration": 438,
    "start_time": "2023-12-12T20:16:04.187Z"
   },
   {
    "duration": 11,
    "start_time": "2023-12-12T20:16:04.626Z"
   },
   {
    "duration": 327,
    "start_time": "2023-12-12T20:16:04.638Z"
   },
   {
    "duration": 18,
    "start_time": "2023-12-12T20:16:04.967Z"
   },
   {
    "duration": 33,
    "start_time": "2023-12-12T20:16:04.987Z"
   },
   {
    "duration": 48,
    "start_time": "2023-12-12T20:16:05.022Z"
   },
   {
    "duration": 18,
    "start_time": "2023-12-12T20:16:05.072Z"
   },
   {
    "duration": 6,
    "start_time": "2023-12-12T20:16:05.092Z"
   },
   {
    "duration": 53,
    "start_time": "2023-12-12T20:16:05.099Z"
   },
   {
    "duration": 1111,
    "start_time": "2023-12-12T20:16:22.694Z"
   },
   {
    "duration": 560,
    "start_time": "2023-12-12T20:16:23.807Z"
   },
   {
    "duration": 11,
    "start_time": "2023-12-12T20:16:24.369Z"
   },
   {
    "duration": 17,
    "start_time": "2023-12-12T20:16:24.381Z"
   },
   {
    "duration": 8,
    "start_time": "2023-12-12T20:16:24.400Z"
   },
   {
    "duration": 9,
    "start_time": "2023-12-12T20:16:24.409Z"
   },
   {
    "duration": 13,
    "start_time": "2023-12-12T20:16:24.420Z"
   },
   {
    "duration": 7,
    "start_time": "2023-12-12T20:16:24.434Z"
   },
   {
    "duration": 24,
    "start_time": "2023-12-12T20:16:24.442Z"
   },
   {
    "duration": 30,
    "start_time": "2023-12-12T20:16:24.468Z"
   },
   {
    "duration": 23,
    "start_time": "2023-12-12T20:16:24.500Z"
   },
   {
    "duration": 24,
    "start_time": "2023-12-12T20:16:24.524Z"
   },
   {
    "duration": 27,
    "start_time": "2023-12-12T20:16:24.549Z"
   },
   {
    "duration": 54,
    "start_time": "2023-12-12T20:16:24.580Z"
   },
   {
    "duration": 12,
    "start_time": "2023-12-12T20:16:24.635Z"
   },
   {
    "duration": 75,
    "start_time": "2023-12-12T20:16:24.649Z"
   },
   {
    "duration": 262,
    "start_time": "2023-12-12T20:16:24.725Z"
   },
   {
    "duration": 98,
    "start_time": "2023-12-12T20:16:24.988Z"
   },
   {
    "duration": 45,
    "start_time": "2023-12-12T20:16:25.087Z"
   },
   {
    "duration": 63,
    "start_time": "2023-12-12T20:16:25.133Z"
   },
   {
    "duration": 7,
    "start_time": "2023-12-12T20:16:25.197Z"
   },
   {
    "duration": 26,
    "start_time": "2023-12-12T20:16:25.206Z"
   },
   {
    "duration": 21,
    "start_time": "2023-12-12T20:16:25.234Z"
   },
   {
    "duration": 24,
    "start_time": "2023-12-12T20:16:25.256Z"
   },
   {
    "duration": 17,
    "start_time": "2023-12-12T20:16:25.281Z"
   },
   {
    "duration": 55,
    "start_time": "2023-12-12T20:16:25.299Z"
   },
   {
    "duration": 5,
    "start_time": "2023-12-12T20:16:25.355Z"
   },
   {
    "duration": 43,
    "start_time": "2023-12-12T20:16:25.361Z"
   },
   {
    "duration": 25,
    "start_time": "2023-12-12T20:16:25.406Z"
   },
   {
    "duration": 28,
    "start_time": "2023-12-12T20:16:25.432Z"
   },
   {
    "duration": 144,
    "start_time": "2023-12-12T20:16:25.461Z"
   },
   {
    "duration": 16,
    "start_time": "2023-12-12T20:16:25.607Z"
   },
   {
    "duration": 29,
    "start_time": "2023-12-12T20:16:25.625Z"
   },
   {
    "duration": 7,
    "start_time": "2023-12-12T20:16:25.656Z"
   },
   {
    "duration": 25,
    "start_time": "2023-12-12T20:16:25.664Z"
   },
   {
    "duration": 25,
    "start_time": "2023-12-12T20:16:25.691Z"
   },
   {
    "duration": 7,
    "start_time": "2023-12-12T20:16:25.718Z"
   },
   {
    "duration": 18,
    "start_time": "2023-12-12T20:16:25.727Z"
   },
   {
    "duration": 12,
    "start_time": "2023-12-12T20:16:25.746Z"
   },
   {
    "duration": 116,
    "start_time": "2023-12-12T20:16:25.759Z"
   },
   {
    "duration": 8,
    "start_time": "2023-12-12T20:16:25.879Z"
   },
   {
    "duration": 28,
    "start_time": "2023-12-12T20:16:25.889Z"
   },
   {
    "duration": 21,
    "start_time": "2023-12-12T20:16:25.918Z"
   },
   {
    "duration": 11,
    "start_time": "2023-12-12T20:16:25.941Z"
   },
   {
    "duration": 32,
    "start_time": "2023-12-12T20:16:25.954Z"
   },
   {
    "duration": 5,
    "start_time": "2023-12-12T20:16:25.988Z"
   },
   {
    "duration": 26,
    "start_time": "2023-12-12T20:16:25.994Z"
   },
   {
    "duration": 19,
    "start_time": "2023-12-12T20:16:26.021Z"
   },
   {
    "duration": 43,
    "start_time": "2023-12-12T20:16:26.041Z"
   },
   {
    "duration": 363,
    "start_time": "2023-12-12T20:16:26.085Z"
   },
   {
    "duration": 6,
    "start_time": "2023-12-12T20:16:26.450Z"
   },
   {
    "duration": 433,
    "start_time": "2023-12-12T20:16:26.457Z"
   },
   {
    "duration": 11,
    "start_time": "2023-12-12T20:16:26.892Z"
   },
   {
    "duration": 326,
    "start_time": "2023-12-12T20:16:26.905Z"
   },
   {
    "duration": 35,
    "start_time": "2023-12-12T20:16:27.233Z"
   },
   {
    "duration": 35,
    "start_time": "2023-12-12T20:16:27.270Z"
   },
   {
    "duration": 13,
    "start_time": "2023-12-12T20:16:27.306Z"
   },
   {
    "duration": 53,
    "start_time": "2023-12-12T20:16:27.321Z"
   },
   {
    "duration": 8,
    "start_time": "2023-12-12T20:16:27.376Z"
   },
   {
    "duration": 70,
    "start_time": "2023-12-12T20:16:27.386Z"
   },
   {
    "duration": 1132,
    "start_time": "2023-12-12T20:19:34.902Z"
   },
   {
    "duration": 588,
    "start_time": "2023-12-12T20:19:36.036Z"
   },
   {
    "duration": 11,
    "start_time": "2023-12-12T20:19:36.625Z"
   },
   {
    "duration": 39,
    "start_time": "2023-12-12T20:19:36.638Z"
   },
   {
    "duration": 40,
    "start_time": "2023-12-12T20:19:36.679Z"
   },
   {
    "duration": 26,
    "start_time": "2023-12-12T20:19:36.721Z"
   },
   {
    "duration": 15,
    "start_time": "2023-12-12T20:19:36.748Z"
   },
   {
    "duration": 34,
    "start_time": "2023-12-12T20:19:36.764Z"
   },
   {
    "duration": 20,
    "start_time": "2023-12-12T20:19:36.799Z"
   },
   {
    "duration": 22,
    "start_time": "2023-12-12T20:19:36.821Z"
   },
   {
    "duration": 8,
    "start_time": "2023-12-12T20:19:36.844Z"
   },
   {
    "duration": 36,
    "start_time": "2023-12-12T20:19:36.854Z"
   },
   {
    "duration": 14,
    "start_time": "2023-12-12T20:19:36.892Z"
   },
   {
    "duration": 37,
    "start_time": "2023-12-12T20:19:36.908Z"
   },
   {
    "duration": 23,
    "start_time": "2023-12-12T20:19:36.947Z"
   },
   {
    "duration": 63,
    "start_time": "2023-12-12T20:19:36.972Z"
   },
   {
    "duration": 271,
    "start_time": "2023-12-12T20:19:37.037Z"
   },
   {
    "duration": 98,
    "start_time": "2023-12-12T20:19:37.309Z"
   },
   {
    "duration": 50,
    "start_time": "2023-12-12T20:19:37.408Z"
   },
   {
    "duration": 65,
    "start_time": "2023-12-12T20:19:37.459Z"
   },
   {
    "duration": 6,
    "start_time": "2023-12-12T20:19:37.526Z"
   },
   {
    "duration": 35,
    "start_time": "2023-12-12T20:19:37.533Z"
   },
   {
    "duration": 24,
    "start_time": "2023-12-12T20:19:37.570Z"
   },
   {
    "duration": 36,
    "start_time": "2023-12-12T20:19:37.596Z"
   },
   {
    "duration": 30,
    "start_time": "2023-12-12T20:19:37.633Z"
   },
   {
    "duration": 44,
    "start_time": "2023-12-12T20:19:37.664Z"
   },
   {
    "duration": 4,
    "start_time": "2023-12-12T20:19:37.709Z"
   },
   {
    "duration": 60,
    "start_time": "2023-12-12T20:19:37.717Z"
   },
   {
    "duration": 6,
    "start_time": "2023-12-12T20:19:37.778Z"
   },
   {
    "duration": 10,
    "start_time": "2023-12-12T20:19:37.785Z"
   },
   {
    "duration": 146,
    "start_time": "2023-12-12T20:19:37.797Z"
   },
   {
    "duration": 24,
    "start_time": "2023-12-12T20:19:37.945Z"
   },
   {
    "duration": 18,
    "start_time": "2023-12-12T20:19:37.970Z"
   },
   {
    "duration": 77,
    "start_time": "2023-12-12T20:19:37.989Z"
   },
   {
    "duration": 28,
    "start_time": "2023-12-12T20:19:38.067Z"
   },
   {
    "duration": 13,
    "start_time": "2023-12-12T20:19:38.096Z"
   },
   {
    "duration": 7,
    "start_time": "2023-12-12T20:19:38.110Z"
   },
   {
    "duration": 50,
    "start_time": "2023-12-12T20:19:38.118Z"
   },
   {
    "duration": 5,
    "start_time": "2023-12-12T20:19:38.170Z"
   },
   {
    "duration": 193,
    "start_time": "2023-12-12T20:19:38.176Z"
   },
   {
    "duration": 10,
    "start_time": "2023-12-12T20:19:38.370Z"
   },
   {
    "duration": 10,
    "start_time": "2023-12-12T20:19:38.381Z"
   },
   {
    "duration": 3,
    "start_time": "2023-12-12T20:19:38.393Z"
   },
   {
    "duration": 8,
    "start_time": "2023-12-12T20:19:38.398Z"
   },
   {
    "duration": 71,
    "start_time": "2023-12-12T20:19:38.407Z"
   },
   {
    "duration": 5,
    "start_time": "2023-12-12T20:19:38.480Z"
   },
   {
    "duration": 8,
    "start_time": "2023-12-12T20:19:38.486Z"
   },
   {
    "duration": 17,
    "start_time": "2023-12-12T20:19:38.495Z"
   },
   {
    "duration": 62,
    "start_time": "2023-12-12T20:19:38.513Z"
   },
   {
    "duration": 695,
    "start_time": "2023-12-12T20:19:38.576Z"
   },
   {
    "duration": 7,
    "start_time": "2023-12-12T20:19:39.273Z"
   },
   {
    "duration": 485,
    "start_time": "2023-12-12T20:19:39.281Z"
   },
   {
    "duration": 10,
    "start_time": "2023-12-12T20:19:39.768Z"
   },
   {
    "duration": 330,
    "start_time": "2023-12-12T20:19:39.779Z"
   },
   {
    "duration": 55,
    "start_time": "2023-12-12T20:19:40.111Z"
   },
   {
    "duration": 34,
    "start_time": "2023-12-12T20:19:40.168Z"
   },
   {
    "duration": 13,
    "start_time": "2023-12-12T20:19:40.204Z"
   },
   {
    "duration": 47,
    "start_time": "2023-12-12T20:19:40.218Z"
   },
   {
    "duration": 6,
    "start_time": "2023-12-12T20:19:40.267Z"
   },
   {
    "duration": 40,
    "start_time": "2023-12-12T20:19:40.274Z"
   },
   {
    "duration": 1175,
    "start_time": "2023-12-12T20:20:32.937Z"
   },
   {
    "duration": 598,
    "start_time": "2023-12-12T20:20:34.114Z"
   },
   {
    "duration": 12,
    "start_time": "2023-12-12T20:20:34.714Z"
   },
   {
    "duration": 25,
    "start_time": "2023-12-12T20:20:34.728Z"
   },
   {
    "duration": 9,
    "start_time": "2023-12-12T20:20:34.755Z"
   },
   {
    "duration": 27,
    "start_time": "2023-12-12T20:20:34.765Z"
   },
   {
    "duration": 38,
    "start_time": "2023-12-12T20:20:34.794Z"
   },
   {
    "duration": 13,
    "start_time": "2023-12-12T20:20:34.834Z"
   },
   {
    "duration": 15,
    "start_time": "2023-12-12T20:20:34.848Z"
   },
   {
    "duration": 21,
    "start_time": "2023-12-12T20:20:34.866Z"
   },
   {
    "duration": 15,
    "start_time": "2023-12-12T20:20:34.888Z"
   },
   {
    "duration": 10,
    "start_time": "2023-12-12T20:20:34.904Z"
   },
   {
    "duration": 19,
    "start_time": "2023-12-12T20:20:34.915Z"
   },
   {
    "duration": 36,
    "start_time": "2023-12-12T20:20:34.935Z"
   },
   {
    "duration": 8,
    "start_time": "2023-12-12T20:20:34.972Z"
   },
   {
    "duration": 65,
    "start_time": "2023-12-12T20:20:34.982Z"
   },
   {
    "duration": 272,
    "start_time": "2023-12-12T20:20:35.049Z"
   },
   {
    "duration": 97,
    "start_time": "2023-12-12T20:20:35.322Z"
   },
   {
    "duration": 52,
    "start_time": "2023-12-12T20:20:35.420Z"
   },
   {
    "duration": 64,
    "start_time": "2023-12-12T20:20:35.474Z"
   },
   {
    "duration": 6,
    "start_time": "2023-12-12T20:20:35.540Z"
   },
   {
    "duration": 16,
    "start_time": "2023-12-12T20:20:35.547Z"
   },
   {
    "duration": 17,
    "start_time": "2023-12-12T20:20:35.564Z"
   },
   {
    "duration": 8,
    "start_time": "2023-12-12T20:20:35.583Z"
   },
   {
    "duration": 30,
    "start_time": "2023-12-12T20:20:35.592Z"
   },
   {
    "duration": 59,
    "start_time": "2023-12-12T20:20:35.624Z"
   },
   {
    "duration": 4,
    "start_time": "2023-12-12T20:20:35.684Z"
   },
   {
    "duration": 48,
    "start_time": "2023-12-12T20:20:35.692Z"
   },
   {
    "duration": 11,
    "start_time": "2023-12-12T20:20:35.742Z"
   },
   {
    "duration": 41,
    "start_time": "2023-12-12T20:20:35.755Z"
   },
   {
    "duration": 161,
    "start_time": "2023-12-12T20:20:35.798Z"
   },
   {
    "duration": 15,
    "start_time": "2023-12-12T20:20:35.961Z"
   },
   {
    "duration": 20,
    "start_time": "2023-12-12T20:20:35.978Z"
   },
   {
    "duration": 11,
    "start_time": "2023-12-12T20:20:36.000Z"
   },
   {
    "duration": 57,
    "start_time": "2023-12-12T20:20:36.013Z"
   },
   {
    "duration": 35,
    "start_time": "2023-12-12T20:20:36.071Z"
   },
   {
    "duration": 6,
    "start_time": "2023-12-12T20:20:36.108Z"
   },
   {
    "duration": 44,
    "start_time": "2023-12-12T20:20:36.115Z"
   },
   {
    "duration": 55,
    "start_time": "2023-12-12T20:20:36.161Z"
   },
   {
    "duration": 102,
    "start_time": "2023-12-12T20:20:36.218Z"
   },
   {
    "duration": 9,
    "start_time": "2023-12-12T20:20:36.321Z"
   },
   {
    "duration": 27,
    "start_time": "2023-12-12T20:20:36.332Z"
   },
   {
    "duration": 8,
    "start_time": "2023-12-12T20:20:36.361Z"
   },
   {
    "duration": 13,
    "start_time": "2023-12-12T20:20:36.371Z"
   },
   {
    "duration": 35,
    "start_time": "2023-12-12T20:20:36.385Z"
   },
   {
    "duration": 8,
    "start_time": "2023-12-12T20:20:36.421Z"
   },
   {
    "duration": 27,
    "start_time": "2023-12-12T20:20:36.430Z"
   },
   {
    "duration": 52,
    "start_time": "2023-12-12T20:20:36.458Z"
   },
   {
    "duration": 20,
    "start_time": "2023-12-12T20:20:36.512Z"
   },
   {
    "duration": 641,
    "start_time": "2023-12-12T20:20:36.533Z"
   },
   {
    "duration": 8,
    "start_time": "2023-12-12T20:20:37.176Z"
   },
   {
    "duration": 794,
    "start_time": "2023-12-12T20:20:37.185Z"
   },
   {
    "duration": 11,
    "start_time": "2023-12-12T20:20:37.980Z"
   },
   {
    "duration": 450,
    "start_time": "2023-12-12T20:20:37.993Z"
   },
   {
    "duration": 35,
    "start_time": "2023-12-12T20:20:38.445Z"
   },
   {
    "duration": 34,
    "start_time": "2023-12-12T20:20:38.481Z"
   },
   {
    "duration": 53,
    "start_time": "2023-12-12T20:20:38.516Z"
   },
   {
    "duration": 19,
    "start_time": "2023-12-12T20:20:38.571Z"
   },
   {
    "duration": 6,
    "start_time": "2023-12-12T20:20:38.592Z"
   },
   {
    "duration": 54,
    "start_time": "2023-12-12T20:20:38.599Z"
   },
   {
    "duration": 1094,
    "start_time": "2023-12-12T20:22:41.215Z"
   },
   {
    "duration": 589,
    "start_time": "2023-12-12T20:22:42.310Z"
   },
   {
    "duration": 12,
    "start_time": "2023-12-12T20:22:42.901Z"
   },
   {
    "duration": 28,
    "start_time": "2023-12-12T20:22:42.915Z"
   },
   {
    "duration": 33,
    "start_time": "2023-12-12T20:22:42.944Z"
   },
   {
    "duration": 22,
    "start_time": "2023-12-12T20:22:42.979Z"
   },
   {
    "duration": 45,
    "start_time": "2023-12-12T20:22:43.002Z"
   },
   {
    "duration": 24,
    "start_time": "2023-12-12T20:22:43.048Z"
   },
   {
    "duration": 25,
    "start_time": "2023-12-12T20:22:43.073Z"
   },
   {
    "duration": 40,
    "start_time": "2023-12-12T20:22:43.100Z"
   },
   {
    "duration": 27,
    "start_time": "2023-12-12T20:22:43.141Z"
   },
   {
    "duration": 26,
    "start_time": "2023-12-12T20:22:43.169Z"
   },
   {
    "duration": 25,
    "start_time": "2023-12-12T20:22:43.196Z"
   },
   {
    "duration": 38,
    "start_time": "2023-12-12T20:22:43.223Z"
   },
   {
    "duration": 19,
    "start_time": "2023-12-12T20:22:43.263Z"
   },
   {
    "duration": 82,
    "start_time": "2023-12-12T20:22:43.283Z"
   },
   {
    "duration": 264,
    "start_time": "2023-12-12T20:22:43.367Z"
   },
   {
    "duration": 98,
    "start_time": "2023-12-12T20:22:43.632Z"
   },
   {
    "duration": 54,
    "start_time": "2023-12-12T20:22:43.732Z"
   },
   {
    "duration": 62,
    "start_time": "2023-12-12T20:22:43.787Z"
   },
   {
    "duration": 6,
    "start_time": "2023-12-12T20:22:43.851Z"
   },
   {
    "duration": 28,
    "start_time": "2023-12-12T20:22:43.859Z"
   },
   {
    "duration": 27,
    "start_time": "2023-12-12T20:22:43.888Z"
   },
   {
    "duration": 14,
    "start_time": "2023-12-12T20:22:43.916Z"
   },
   {
    "duration": 11,
    "start_time": "2023-12-12T20:22:43.931Z"
   },
   {
    "duration": 35,
    "start_time": "2023-12-12T20:22:43.943Z"
   },
   {
    "duration": 4,
    "start_time": "2023-12-12T20:22:43.980Z"
   },
   {
    "duration": 34,
    "start_time": "2023-12-12T20:22:43.988Z"
   },
   {
    "duration": 9,
    "start_time": "2023-12-12T20:22:44.024Z"
   },
   {
    "duration": 14,
    "start_time": "2023-12-12T20:22:44.034Z"
   },
   {
    "duration": 133,
    "start_time": "2023-12-12T20:22:44.050Z"
   },
   {
    "duration": 23,
    "start_time": "2023-12-12T20:22:44.184Z"
   },
   {
    "duration": 9,
    "start_time": "2023-12-12T20:22:44.209Z"
   },
   {
    "duration": 12,
    "start_time": "2023-12-12T20:22:44.220Z"
   },
   {
    "duration": 16,
    "start_time": "2023-12-12T20:22:44.233Z"
   },
   {
    "duration": 28,
    "start_time": "2023-12-12T20:22:44.250Z"
   },
   {
    "duration": 14,
    "start_time": "2023-12-12T20:22:44.279Z"
   },
   {
    "duration": 7,
    "start_time": "2023-12-12T20:22:44.294Z"
   },
   {
    "duration": 23,
    "start_time": "2023-12-12T20:22:44.302Z"
   },
   {
    "duration": 109,
    "start_time": "2023-12-12T20:22:44.327Z"
   },
   {
    "duration": 7,
    "start_time": "2023-12-12T20:22:44.438Z"
   },
   {
    "duration": 20,
    "start_time": "2023-12-12T20:22:44.446Z"
   },
   {
    "duration": 8,
    "start_time": "2023-12-12T20:22:44.467Z"
   },
   {
    "duration": 8,
    "start_time": "2023-12-12T20:22:44.476Z"
   },
   {
    "duration": 20,
    "start_time": "2023-12-12T20:22:44.485Z"
   },
   {
    "duration": 5,
    "start_time": "2023-12-12T20:22:44.507Z"
   },
   {
    "duration": 13,
    "start_time": "2023-12-12T20:22:44.513Z"
   },
   {
    "duration": 5,
    "start_time": "2023-12-12T20:22:44.528Z"
   },
   {
    "duration": 37,
    "start_time": "2023-12-12T20:22:44.534Z"
   },
   {
    "duration": 399,
    "start_time": "2023-12-12T20:22:44.572Z"
   },
   {
    "duration": 7,
    "start_time": "2023-12-12T20:22:44.972Z"
   },
   {
    "duration": 815,
    "start_time": "2023-12-12T20:22:44.980Z"
   },
   {
    "duration": 12,
    "start_time": "2023-12-12T20:22:45.797Z"
   },
   {
    "duration": 665,
    "start_time": "2023-12-12T20:22:45.810Z"
   },
   {
    "duration": 24,
    "start_time": "2023-12-12T20:22:46.476Z"
   },
   {
    "duration": 69,
    "start_time": "2023-12-12T20:22:46.501Z"
   },
   {
    "duration": 14,
    "start_time": "2023-12-12T20:22:46.572Z"
   },
   {
    "duration": 20,
    "start_time": "2023-12-12T20:22:46.587Z"
   },
   {
    "duration": 6,
    "start_time": "2023-12-12T20:22:46.608Z"
   },
   {
    "duration": 64,
    "start_time": "2023-12-12T20:22:46.616Z"
   },
   {
    "duration": 1136,
    "start_time": "2023-12-12T20:23:14.992Z"
   },
   {
    "duration": 600,
    "start_time": "2023-12-12T20:23:16.130Z"
   },
   {
    "duration": 13,
    "start_time": "2023-12-12T20:23:16.731Z"
   },
   {
    "duration": 10,
    "start_time": "2023-12-12T20:23:16.745Z"
   },
   {
    "duration": 10,
    "start_time": "2023-12-12T20:23:16.756Z"
   },
   {
    "duration": 4,
    "start_time": "2023-12-12T20:23:16.768Z"
   },
   {
    "duration": 13,
    "start_time": "2023-12-12T20:23:16.773Z"
   },
   {
    "duration": 9,
    "start_time": "2023-12-12T20:23:16.787Z"
   },
   {
    "duration": 8,
    "start_time": "2023-12-12T20:23:16.797Z"
   },
   {
    "duration": 21,
    "start_time": "2023-12-12T20:23:16.808Z"
   },
   {
    "duration": 11,
    "start_time": "2023-12-12T20:23:16.830Z"
   },
   {
    "duration": 32,
    "start_time": "2023-12-12T20:23:16.843Z"
   },
   {
    "duration": 26,
    "start_time": "2023-12-12T20:23:16.877Z"
   },
   {
    "duration": 27,
    "start_time": "2023-12-12T20:23:16.905Z"
   },
   {
    "duration": 8,
    "start_time": "2023-12-12T20:23:16.933Z"
   },
   {
    "duration": 78,
    "start_time": "2023-12-12T20:23:16.943Z"
   },
   {
    "duration": 275,
    "start_time": "2023-12-12T20:23:17.022Z"
   },
   {
    "duration": 97,
    "start_time": "2023-12-12T20:23:17.299Z"
   },
   {
    "duration": 43,
    "start_time": "2023-12-12T20:23:17.397Z"
   },
   {
    "duration": 70,
    "start_time": "2023-12-12T20:23:17.442Z"
   },
   {
    "duration": 7,
    "start_time": "2023-12-12T20:23:17.514Z"
   },
   {
    "duration": 22,
    "start_time": "2023-12-12T20:23:17.523Z"
   },
   {
    "duration": 8,
    "start_time": "2023-12-12T20:23:17.546Z"
   },
   {
    "duration": 6,
    "start_time": "2023-12-12T20:23:17.565Z"
   },
   {
    "duration": 11,
    "start_time": "2023-12-12T20:23:17.573Z"
   },
   {
    "duration": 32,
    "start_time": "2023-12-12T20:23:17.585Z"
   },
   {
    "duration": 4,
    "start_time": "2023-12-12T20:23:17.618Z"
   },
   {
    "duration": 51,
    "start_time": "2023-12-12T20:23:17.626Z"
   },
   {
    "duration": 6,
    "start_time": "2023-12-12T20:23:17.678Z"
   },
   {
    "duration": 20,
    "start_time": "2023-12-12T20:23:17.685Z"
   },
   {
    "duration": 122,
    "start_time": "2023-12-12T20:23:17.706Z"
   },
   {
    "duration": 18,
    "start_time": "2023-12-12T20:23:17.829Z"
   },
   {
    "duration": 25,
    "start_time": "2023-12-12T20:23:17.848Z"
   },
   {
    "duration": 16,
    "start_time": "2023-12-12T20:23:17.875Z"
   },
   {
    "duration": 29,
    "start_time": "2023-12-12T20:23:17.893Z"
   },
   {
    "duration": 52,
    "start_time": "2023-12-12T20:23:17.923Z"
   },
   {
    "duration": 23,
    "start_time": "2023-12-12T20:23:17.976Z"
   },
   {
    "duration": 7,
    "start_time": "2023-12-12T20:23:18.000Z"
   },
   {
    "duration": 7,
    "start_time": "2023-12-12T20:23:18.008Z"
   },
   {
    "duration": 171,
    "start_time": "2023-12-12T20:23:18.016Z"
   },
   {
    "duration": 9,
    "start_time": "2023-12-12T20:23:18.189Z"
   },
   {
    "duration": 8,
    "start_time": "2023-12-12T20:23:18.199Z"
   },
   {
    "duration": 58,
    "start_time": "2023-12-12T20:23:18.208Z"
   },
   {
    "duration": 4,
    "start_time": "2023-12-12T20:23:18.268Z"
   },
   {
    "duration": 17,
    "start_time": "2023-12-12T20:23:18.273Z"
   },
   {
    "duration": 6,
    "start_time": "2023-12-12T20:23:18.291Z"
   },
   {
    "duration": 6,
    "start_time": "2023-12-12T20:23:18.298Z"
   },
   {
    "duration": 3,
    "start_time": "2023-12-12T20:23:18.306Z"
   },
   {
    "duration": 16,
    "start_time": "2023-12-12T20:23:18.365Z"
   },
   {
    "duration": 785,
    "start_time": "2023-12-12T20:23:18.383Z"
   },
   {
    "duration": 6,
    "start_time": "2023-12-12T20:23:19.170Z"
   },
   {
    "duration": 534,
    "start_time": "2023-12-12T20:23:19.177Z"
   },
   {
    "duration": 11,
    "start_time": "2023-12-12T20:23:19.713Z"
   },
   {
    "duration": 323,
    "start_time": "2023-12-12T20:23:19.725Z"
   },
   {
    "duration": 39,
    "start_time": "2023-12-12T20:23:20.050Z"
   },
   {
    "duration": 76,
    "start_time": "2023-12-12T20:23:20.092Z"
   },
   {
    "duration": 18,
    "start_time": "2023-12-12T20:23:20.170Z"
   },
   {
    "duration": 26,
    "start_time": "2023-12-12T20:23:20.190Z"
   },
   {
    "duration": 13,
    "start_time": "2023-12-12T20:23:20.217Z"
   },
   {
    "duration": 57,
    "start_time": "2023-12-12T20:23:20.231Z"
   },
   {
    "duration": 1164,
    "start_time": "2023-12-12T20:24:11.045Z"
   },
   {
    "duration": 618,
    "start_time": "2023-12-12T20:24:12.211Z"
   },
   {
    "duration": 12,
    "start_time": "2023-12-12T20:24:12.830Z"
   },
   {
    "duration": 17,
    "start_time": "2023-12-12T20:24:12.844Z"
   },
   {
    "duration": 18,
    "start_time": "2023-12-12T20:24:12.863Z"
   },
   {
    "duration": 9,
    "start_time": "2023-12-12T20:24:12.883Z"
   },
   {
    "duration": 16,
    "start_time": "2023-12-12T20:24:12.894Z"
   },
   {
    "duration": 15,
    "start_time": "2023-12-12T20:24:12.911Z"
   },
   {
    "duration": 13,
    "start_time": "2023-12-12T20:24:12.927Z"
   },
   {
    "duration": 28,
    "start_time": "2023-12-12T20:24:12.942Z"
   },
   {
    "duration": 8,
    "start_time": "2023-12-12T20:24:12.971Z"
   },
   {
    "duration": 8,
    "start_time": "2023-12-12T20:24:12.980Z"
   },
   {
    "duration": 19,
    "start_time": "2023-12-12T20:24:12.989Z"
   },
   {
    "duration": 27,
    "start_time": "2023-12-12T20:24:13.009Z"
   },
   {
    "duration": 29,
    "start_time": "2023-12-12T20:24:13.038Z"
   },
   {
    "duration": 68,
    "start_time": "2023-12-12T20:24:13.069Z"
   },
   {
    "duration": 271,
    "start_time": "2023-12-12T20:24:13.139Z"
   },
   {
    "duration": 103,
    "start_time": "2023-12-12T20:24:13.412Z"
   },
   {
    "duration": 52,
    "start_time": "2023-12-12T20:24:13.517Z"
   },
   {
    "duration": 75,
    "start_time": "2023-12-12T20:24:13.570Z"
   },
   {
    "duration": 7,
    "start_time": "2023-12-12T20:24:13.647Z"
   },
   {
    "duration": 52,
    "start_time": "2023-12-12T20:24:13.656Z"
   },
   {
    "duration": 24,
    "start_time": "2023-12-12T20:24:13.709Z"
   },
   {
    "duration": 16,
    "start_time": "2023-12-12T20:24:13.735Z"
   },
   {
    "duration": 10,
    "start_time": "2023-12-12T20:24:13.753Z"
   },
   {
    "duration": 31,
    "start_time": "2023-12-12T20:24:13.765Z"
   },
   {
    "duration": 5,
    "start_time": "2023-12-12T20:24:13.798Z"
   },
   {
    "duration": 34,
    "start_time": "2023-12-12T20:24:13.806Z"
   },
   {
    "duration": 7,
    "start_time": "2023-12-12T20:24:13.841Z"
   },
   {
    "duration": 20,
    "start_time": "2023-12-12T20:24:13.850Z"
   },
   {
    "duration": 120,
    "start_time": "2023-12-12T20:24:13.872Z"
   },
   {
    "duration": 15,
    "start_time": "2023-12-12T20:24:13.994Z"
   },
   {
    "duration": 8,
    "start_time": "2023-12-12T20:24:14.011Z"
   },
   {
    "duration": 5,
    "start_time": "2023-12-12T20:24:14.020Z"
   },
   {
    "duration": 11,
    "start_time": "2023-12-12T20:24:14.027Z"
   },
   {
    "duration": 31,
    "start_time": "2023-12-12T20:24:14.040Z"
   },
   {
    "duration": 6,
    "start_time": "2023-12-12T20:24:14.073Z"
   },
   {
    "duration": 20,
    "start_time": "2023-12-12T20:24:14.080Z"
   },
   {
    "duration": 8,
    "start_time": "2023-12-12T20:24:14.101Z"
   },
   {
    "duration": 83,
    "start_time": "2023-12-12T20:24:14.110Z"
   },
   {
    "duration": 8,
    "start_time": "2023-12-12T20:24:14.195Z"
   },
   {
    "duration": 10,
    "start_time": "2023-12-12T20:24:14.204Z"
   },
   {
    "duration": 9,
    "start_time": "2023-12-12T20:24:14.215Z"
   },
   {
    "duration": 4,
    "start_time": "2023-12-12T20:24:14.225Z"
   },
   {
    "duration": 16,
    "start_time": "2023-12-12T20:24:14.231Z"
   },
   {
    "duration": 5,
    "start_time": "2023-12-12T20:24:14.248Z"
   },
   {
    "duration": 6,
    "start_time": "2023-12-12T20:24:14.255Z"
   },
   {
    "duration": 5,
    "start_time": "2023-12-12T20:24:14.263Z"
   },
   {
    "duration": 15,
    "start_time": "2023-12-12T20:24:14.269Z"
   },
   {
    "duration": 366,
    "start_time": "2023-12-12T20:24:14.285Z"
   },
   {
    "duration": 6,
    "start_time": "2023-12-12T20:24:14.652Z"
   },
   {
    "duration": 731,
    "start_time": "2023-12-12T20:24:14.660Z"
   },
   {
    "duration": 11,
    "start_time": "2023-12-12T20:24:15.392Z"
   },
   {
    "duration": 662,
    "start_time": "2023-12-12T20:24:15.405Z"
   },
   {
    "duration": 24,
    "start_time": "2023-12-12T20:24:16.069Z"
   },
   {
    "duration": 90,
    "start_time": "2023-12-12T20:24:16.094Z"
   },
   {
    "duration": 15,
    "start_time": "2023-12-12T20:24:16.185Z"
   },
   {
    "duration": 74,
    "start_time": "2023-12-12T20:24:16.202Z"
   },
   {
    "duration": 6,
    "start_time": "2023-12-12T20:24:16.278Z"
   },
   {
    "duration": 100,
    "start_time": "2023-12-12T20:24:16.286Z"
   },
   {
    "duration": 1145,
    "start_time": "2023-12-12T20:24:32.762Z"
   },
   {
    "duration": 582,
    "start_time": "2023-12-12T20:24:33.908Z"
   },
   {
    "duration": 12,
    "start_time": "2023-12-12T20:24:34.491Z"
   },
   {
    "duration": 11,
    "start_time": "2023-12-12T20:24:34.505Z"
   },
   {
    "duration": 17,
    "start_time": "2023-12-12T20:24:34.518Z"
   },
   {
    "duration": 18,
    "start_time": "2023-12-12T20:24:34.537Z"
   },
   {
    "duration": 33,
    "start_time": "2023-12-12T20:24:34.556Z"
   },
   {
    "duration": 24,
    "start_time": "2023-12-12T20:24:34.591Z"
   },
   {
    "duration": 15,
    "start_time": "2023-12-12T20:24:34.617Z"
   },
   {
    "duration": 42,
    "start_time": "2023-12-12T20:24:34.634Z"
   },
   {
    "duration": 14,
    "start_time": "2023-12-12T20:24:34.678Z"
   },
   {
    "duration": 22,
    "start_time": "2023-12-12T20:24:34.693Z"
   },
   {
    "duration": 36,
    "start_time": "2023-12-12T20:24:34.717Z"
   },
   {
    "duration": 46,
    "start_time": "2023-12-12T20:24:34.757Z"
   },
   {
    "duration": 9,
    "start_time": "2023-12-12T20:24:34.805Z"
   },
   {
    "duration": 79,
    "start_time": "2023-12-12T20:24:34.816Z"
   },
   {
    "duration": 315,
    "start_time": "2023-12-12T20:24:34.896Z"
   },
   {
    "duration": 143,
    "start_time": "2023-12-12T20:24:35.266Z"
   },
   {
    "duration": 97,
    "start_time": "2023-12-12T20:24:35.410Z"
   },
   {
    "duration": 166,
    "start_time": "2023-12-12T20:24:35.509Z"
   },
   {
    "duration": 7,
    "start_time": "2023-12-12T20:24:35.677Z"
   },
   {
    "duration": 81,
    "start_time": "2023-12-12T20:24:35.685Z"
   },
   {
    "duration": 41,
    "start_time": "2023-12-12T20:24:35.768Z"
   },
   {
    "duration": 59,
    "start_time": "2023-12-12T20:24:35.811Z"
   },
   {
    "duration": 57,
    "start_time": "2023-12-12T20:24:35.872Z"
   },
   {
    "duration": 61,
    "start_time": "2023-12-12T20:24:35.931Z"
   },
   {
    "duration": 4,
    "start_time": "2023-12-12T20:24:35.994Z"
   },
   {
    "duration": 80,
    "start_time": "2023-12-12T20:24:35.999Z"
   },
   {
    "duration": 5,
    "start_time": "2023-12-12T20:24:36.080Z"
   },
   {
    "duration": 31,
    "start_time": "2023-12-12T20:24:36.087Z"
   },
   {
    "duration": 279,
    "start_time": "2023-12-12T20:24:36.120Z"
   },
   {
    "duration": 16,
    "start_time": "2023-12-12T20:24:36.400Z"
   },
   {
    "duration": 30,
    "start_time": "2023-12-12T20:24:36.417Z"
   },
   {
    "duration": 17,
    "start_time": "2023-12-12T20:24:36.448Z"
   },
   {
    "duration": 53,
    "start_time": "2023-12-12T20:24:36.466Z"
   },
   {
    "duration": 27,
    "start_time": "2023-12-12T20:24:36.520Z"
   },
   {
    "duration": 32,
    "start_time": "2023-12-12T20:24:36.548Z"
   },
   {
    "duration": 36,
    "start_time": "2023-12-12T20:24:36.581Z"
   },
   {
    "duration": 30,
    "start_time": "2023-12-12T20:24:36.619Z"
   },
   {
    "duration": 99,
    "start_time": "2023-12-12T20:24:36.650Z"
   },
   {
    "duration": 8,
    "start_time": "2023-12-12T20:24:36.752Z"
   },
   {
    "duration": 24,
    "start_time": "2023-12-12T20:24:36.761Z"
   },
   {
    "duration": 7,
    "start_time": "2023-12-12T20:24:36.787Z"
   },
   {
    "duration": 23,
    "start_time": "2023-12-12T20:24:36.795Z"
   },
   {
    "duration": 40,
    "start_time": "2023-12-12T20:24:36.820Z"
   },
   {
    "duration": 6,
    "start_time": "2023-12-12T20:24:36.861Z"
   },
   {
    "duration": 32,
    "start_time": "2023-12-12T20:24:36.868Z"
   },
   {
    "duration": 35,
    "start_time": "2023-12-12T20:24:36.902Z"
   },
   {
    "duration": 32,
    "start_time": "2023-12-12T20:24:36.939Z"
   },
   {
    "duration": 366,
    "start_time": "2023-12-12T20:24:36.973Z"
   },
   {
    "duration": 8,
    "start_time": "2023-12-12T20:24:37.340Z"
   },
   {
    "duration": 433,
    "start_time": "2023-12-12T20:24:37.349Z"
   },
   {
    "duration": 10,
    "start_time": "2023-12-12T20:24:37.784Z"
   },
   {
    "duration": 325,
    "start_time": "2023-12-12T20:24:37.795Z"
   },
   {
    "duration": 47,
    "start_time": "2023-12-12T20:24:38.121Z"
   },
   {
    "duration": 33,
    "start_time": "2023-12-12T20:24:38.170Z"
   },
   {
    "duration": 12,
    "start_time": "2023-12-12T20:24:38.205Z"
   },
   {
    "duration": 45,
    "start_time": "2023-12-12T20:24:38.218Z"
   },
   {
    "duration": 12,
    "start_time": "2023-12-12T20:24:38.265Z"
   },
   {
    "duration": 58,
    "start_time": "2023-12-12T20:24:38.278Z"
   },
   {
    "duration": 1168,
    "start_time": "2023-12-12T20:26:38.043Z"
   },
   {
    "duration": 590,
    "start_time": "2023-12-12T20:26:39.212Z"
   },
   {
    "duration": 12,
    "start_time": "2023-12-12T20:26:39.804Z"
   },
   {
    "duration": 14,
    "start_time": "2023-12-12T20:26:39.818Z"
   },
   {
    "duration": 26,
    "start_time": "2023-12-12T20:26:39.834Z"
   },
   {
    "duration": 8,
    "start_time": "2023-12-12T20:26:39.861Z"
   },
   {
    "duration": 17,
    "start_time": "2023-12-12T20:26:39.870Z"
   },
   {
    "duration": 20,
    "start_time": "2023-12-12T20:26:39.889Z"
   },
   {
    "duration": 8,
    "start_time": "2023-12-12T20:26:39.911Z"
   },
   {
    "duration": 20,
    "start_time": "2023-12-12T20:26:39.922Z"
   },
   {
    "duration": 7,
    "start_time": "2023-12-12T20:26:39.944Z"
   },
   {
    "duration": 14,
    "start_time": "2023-12-12T20:26:39.952Z"
   },
   {
    "duration": 14,
    "start_time": "2023-12-12T20:26:39.967Z"
   },
   {
    "duration": 56,
    "start_time": "2023-12-12T20:26:39.982Z"
   },
   {
    "duration": 15,
    "start_time": "2023-12-12T20:26:40.040Z"
   },
   {
    "duration": 72,
    "start_time": "2023-12-12T20:26:40.056Z"
   },
   {
    "duration": 265,
    "start_time": "2023-12-12T20:26:40.129Z"
   },
   {
    "duration": 191,
    "start_time": "2023-12-12T20:26:40.395Z"
   },
   {
    "duration": 93,
    "start_time": "2023-12-12T20:26:40.588Z"
   },
   {
    "duration": 114,
    "start_time": "2023-12-12T20:26:40.683Z"
   },
   {
    "duration": 7,
    "start_time": "2023-12-12T20:26:40.798Z"
   },
   {
    "duration": 65,
    "start_time": "2023-12-12T20:26:40.806Z"
   },
   {
    "duration": 8,
    "start_time": "2023-12-12T20:26:40.873Z"
   },
   {
    "duration": 6,
    "start_time": "2023-12-12T20:26:40.882Z"
   },
   {
    "duration": 10,
    "start_time": "2023-12-12T20:26:40.890Z"
   },
   {
    "duration": 83,
    "start_time": "2023-12-12T20:26:40.901Z"
   },
   {
    "duration": 4,
    "start_time": "2023-12-12T20:26:40.986Z"
   },
   {
    "duration": 80,
    "start_time": "2023-12-12T20:26:40.993Z"
   },
   {
    "duration": 6,
    "start_time": "2023-12-12T20:26:41.074Z"
   },
   {
    "duration": 18,
    "start_time": "2023-12-12T20:26:41.081Z"
   },
   {
    "duration": 277,
    "start_time": "2023-12-12T20:26:41.100Z"
   },
   {
    "duration": 17,
    "start_time": "2023-12-12T20:26:41.378Z"
   },
   {
    "duration": 9,
    "start_time": "2023-12-12T20:26:41.397Z"
   },
   {
    "duration": 59,
    "start_time": "2023-12-12T20:26:41.407Z"
   },
   {
    "duration": 10,
    "start_time": "2023-12-12T20:26:41.468Z"
   },
   {
    "duration": 11,
    "start_time": "2023-12-12T20:26:41.480Z"
   },
   {
    "duration": 6,
    "start_time": "2023-12-12T20:26:41.492Z"
   },
   {
    "duration": 6,
    "start_time": "2023-12-12T20:26:41.500Z"
   },
   {
    "duration": 60,
    "start_time": "2023-12-12T20:26:41.507Z"
   },
   {
    "duration": 130,
    "start_time": "2023-12-12T20:26:41.568Z"
   },
   {
    "duration": 9,
    "start_time": "2023-12-12T20:26:41.700Z"
   },
   {
    "duration": 59,
    "start_time": "2023-12-12T20:26:41.711Z"
   },
   {
    "duration": 5,
    "start_time": "2023-12-12T20:26:41.772Z"
   },
   {
    "duration": 13,
    "start_time": "2023-12-12T20:26:41.779Z"
   },
   {
    "duration": 72,
    "start_time": "2023-12-12T20:26:41.794Z"
   },
   {
    "duration": 6,
    "start_time": "2023-12-12T20:26:41.867Z"
   },
   {
    "duration": 6,
    "start_time": "2023-12-12T20:26:41.874Z"
   },
   {
    "duration": 4,
    "start_time": "2023-12-12T20:26:41.882Z"
   },
   {
    "duration": 26,
    "start_time": "2023-12-12T20:26:41.888Z"
   },
   {
    "duration": 390,
    "start_time": "2023-12-12T20:26:41.916Z"
   },
   {
    "duration": 6,
    "start_time": "2023-12-12T20:26:42.307Z"
   },
   {
    "duration": 432,
    "start_time": "2023-12-12T20:26:42.315Z"
   },
   {
    "duration": 26,
    "start_time": "2023-12-12T20:26:42.749Z"
   },
   {
    "duration": 332,
    "start_time": "2023-12-12T20:26:42.776Z"
   },
   {
    "duration": 24,
    "start_time": "2023-12-12T20:26:43.109Z"
   },
   {
    "duration": 44,
    "start_time": "2023-12-12T20:26:43.134Z"
   },
   {
    "duration": 43,
    "start_time": "2023-12-12T20:26:43.180Z"
   },
   {
    "duration": 12,
    "start_time": "2023-12-12T20:26:43.224Z"
   },
   {
    "duration": 33,
    "start_time": "2023-12-12T20:26:43.238Z"
   },
   {
    "duration": 11,
    "start_time": "2023-12-12T20:26:43.272Z"
   },
   {
    "duration": 67,
    "start_time": "2023-12-12T20:26:43.284Z"
   },
   {
    "duration": 78,
    "start_time": "2023-12-12T20:41:18.695Z"
   },
   {
    "duration": 1287,
    "start_time": "2023-12-12T20:42:01.974Z"
   },
   {
    "duration": 628,
    "start_time": "2023-12-12T20:42:03.263Z"
   },
   {
    "duration": 11,
    "start_time": "2023-12-12T20:42:03.893Z"
   },
   {
    "duration": 10,
    "start_time": "2023-12-12T20:42:03.906Z"
   },
   {
    "duration": 7,
    "start_time": "2023-12-12T20:42:03.918Z"
   },
   {
    "duration": 46,
    "start_time": "2023-12-12T20:42:03.926Z"
   },
   {
    "duration": 31,
    "start_time": "2023-12-12T20:42:03.974Z"
   },
   {
    "duration": 17,
    "start_time": "2023-12-12T20:42:04.007Z"
   },
   {
    "duration": 13,
    "start_time": "2023-12-12T20:42:04.025Z"
   },
   {
    "duration": 19,
    "start_time": "2023-12-12T20:42:04.041Z"
   },
   {
    "duration": 11,
    "start_time": "2023-12-12T20:42:04.062Z"
   },
   {
    "duration": 10,
    "start_time": "2023-12-12T20:42:04.075Z"
   },
   {
    "duration": 29,
    "start_time": "2023-12-12T20:42:04.086Z"
   },
   {
    "duration": 36,
    "start_time": "2023-12-12T20:42:04.116Z"
   },
   {
    "duration": 9,
    "start_time": "2023-12-12T20:42:04.153Z"
   },
   {
    "duration": 82,
    "start_time": "2023-12-12T20:42:04.163Z"
   },
   {
    "duration": 285,
    "start_time": "2023-12-12T20:42:04.246Z"
   },
   {
    "duration": 108,
    "start_time": "2023-12-12T20:42:04.532Z"
   },
   {
    "duration": 59,
    "start_time": "2023-12-12T20:42:04.642Z"
   },
   {
    "duration": 64,
    "start_time": "2023-12-12T20:42:04.703Z"
   },
   {
    "duration": 8,
    "start_time": "2023-12-12T20:42:04.769Z"
   },
   {
    "duration": 18,
    "start_time": "2023-12-12T20:42:04.778Z"
   },
   {
    "duration": 9,
    "start_time": "2023-12-12T20:42:04.798Z"
   },
   {
    "duration": 25,
    "start_time": "2023-12-12T20:42:04.809Z"
   },
   {
    "duration": 7,
    "start_time": "2023-12-12T20:42:04.836Z"
   },
   {
    "duration": 39,
    "start_time": "2023-12-12T20:42:04.844Z"
   },
   {
    "duration": 5,
    "start_time": "2023-12-12T20:42:04.884Z"
   },
   {
    "duration": 24,
    "start_time": "2023-12-12T20:42:04.893Z"
   },
   {
    "duration": 6,
    "start_time": "2023-12-12T20:42:04.918Z"
   },
   {
    "duration": 15,
    "start_time": "2023-12-12T20:42:04.925Z"
   },
   {
    "duration": 154,
    "start_time": "2023-12-12T20:42:04.941Z"
   },
   {
    "duration": 19,
    "start_time": "2023-12-12T20:42:05.096Z"
   },
   {
    "duration": 10,
    "start_time": "2023-12-12T20:42:05.117Z"
   },
   {
    "duration": 9,
    "start_time": "2023-12-12T20:42:05.128Z"
   },
   {
    "duration": 34,
    "start_time": "2023-12-12T20:42:05.138Z"
   },
   {
    "duration": 12,
    "start_time": "2023-12-12T20:42:05.173Z"
   },
   {
    "duration": 7,
    "start_time": "2023-12-12T20:42:05.187Z"
   },
   {
    "duration": 14,
    "start_time": "2023-12-12T20:42:05.195Z"
   },
   {
    "duration": 24,
    "start_time": "2023-12-12T20:42:05.211Z"
   },
   {
    "duration": 95,
    "start_time": "2023-12-12T20:42:05.237Z"
   },
   {
    "duration": 7,
    "start_time": "2023-12-12T20:42:05.334Z"
   },
   {
    "duration": 24,
    "start_time": "2023-12-12T20:42:05.342Z"
   },
   {
    "duration": 3,
    "start_time": "2023-12-12T20:42:05.368Z"
   },
   {
    "duration": 16,
    "start_time": "2023-12-12T20:42:05.373Z"
   },
   {
    "duration": 30,
    "start_time": "2023-12-12T20:42:05.391Z"
   },
   {
    "duration": 6,
    "start_time": "2023-12-12T20:42:05.423Z"
   },
   {
    "duration": 5,
    "start_time": "2023-12-12T20:42:05.430Z"
   },
   {
    "duration": 6,
    "start_time": "2023-12-12T20:42:05.436Z"
   },
   {
    "duration": 28,
    "start_time": "2023-12-12T20:42:05.443Z"
   },
   {
    "duration": 376,
    "start_time": "2023-12-12T20:42:05.472Z"
   },
   {
    "duration": 7,
    "start_time": "2023-12-12T20:42:05.849Z"
   },
   {
    "duration": 497,
    "start_time": "2023-12-12T20:42:05.858Z"
   },
   {
    "duration": 16,
    "start_time": "2023-12-12T20:42:06.356Z"
   },
   {
    "duration": 410,
    "start_time": "2023-12-12T20:42:06.373Z"
   },
   {
    "duration": 24,
    "start_time": "2023-12-12T20:42:06.784Z"
   },
   {
    "duration": 74,
    "start_time": "2023-12-12T20:42:06.809Z"
   },
   {
    "duration": 93,
    "start_time": "2023-12-12T20:42:06.884Z"
   },
   {
    "duration": 13,
    "start_time": "2023-12-12T20:42:06.978Z"
   },
   {
    "duration": 21,
    "start_time": "2023-12-12T20:42:06.992Z"
   },
   {
    "duration": 7,
    "start_time": "2023-12-12T20:42:07.066Z"
   },
   {
    "duration": 102,
    "start_time": "2023-12-12T20:42:07.074Z"
   },
   {
    "duration": 1147,
    "start_time": "2023-12-12T20:43:48.091Z"
   },
   {
    "duration": 613,
    "start_time": "2023-12-12T20:43:49.240Z"
   },
   {
    "duration": 12,
    "start_time": "2023-12-12T20:43:49.855Z"
   },
   {
    "duration": 27,
    "start_time": "2023-12-12T20:43:49.869Z"
   },
   {
    "duration": 20,
    "start_time": "2023-12-12T20:43:49.898Z"
   },
   {
    "duration": 5,
    "start_time": "2023-12-12T20:43:49.919Z"
   },
   {
    "duration": 12,
    "start_time": "2023-12-12T20:43:49.926Z"
   },
   {
    "duration": 18,
    "start_time": "2023-12-12T20:43:49.940Z"
   },
   {
    "duration": 13,
    "start_time": "2023-12-12T20:43:49.959Z"
   },
   {
    "duration": 24,
    "start_time": "2023-12-12T20:43:49.975Z"
   },
   {
    "duration": 7,
    "start_time": "2023-12-12T20:43:50.001Z"
   },
   {
    "duration": 35,
    "start_time": "2023-12-12T20:43:50.009Z"
   },
   {
    "duration": 28,
    "start_time": "2023-12-12T20:43:50.046Z"
   },
   {
    "duration": 90,
    "start_time": "2023-12-12T20:43:50.076Z"
   },
   {
    "duration": 8,
    "start_time": "2023-12-12T20:43:50.167Z"
   },
   {
    "duration": 93,
    "start_time": "2023-12-12T20:43:50.177Z"
   },
   {
    "duration": 282,
    "start_time": "2023-12-12T20:43:50.272Z"
   },
   {
    "duration": 101,
    "start_time": "2023-12-12T20:43:50.556Z"
   },
   {
    "duration": 48,
    "start_time": "2023-12-12T20:43:50.665Z"
   },
   {
    "duration": 66,
    "start_time": "2023-12-12T20:43:50.714Z"
   },
   {
    "duration": 7,
    "start_time": "2023-12-12T20:43:50.781Z"
   },
   {
    "duration": 19,
    "start_time": "2023-12-12T20:43:50.790Z"
   },
   {
    "duration": 10,
    "start_time": "2023-12-12T20:43:50.810Z"
   },
   {
    "duration": 13,
    "start_time": "2023-12-12T20:43:50.822Z"
   },
   {
    "duration": 41,
    "start_time": "2023-12-12T20:43:50.837Z"
   },
   {
    "duration": 41,
    "start_time": "2023-12-12T20:43:50.880Z"
   },
   {
    "duration": 5,
    "start_time": "2023-12-12T20:43:50.922Z"
   },
   {
    "duration": 32,
    "start_time": "2023-12-12T20:43:50.930Z"
   },
   {
    "duration": 6,
    "start_time": "2023-12-12T20:43:50.963Z"
   },
   {
    "duration": 19,
    "start_time": "2023-12-12T20:43:50.970Z"
   },
   {
    "duration": 131,
    "start_time": "2023-12-12T20:43:50.991Z"
   },
   {
    "duration": 15,
    "start_time": "2023-12-12T20:43:51.124Z"
   },
   {
    "duration": 9,
    "start_time": "2023-12-12T20:43:51.141Z"
   },
   {
    "duration": 19,
    "start_time": "2023-12-12T20:43:51.151Z"
   },
   {
    "duration": 18,
    "start_time": "2023-12-12T20:43:51.172Z"
   },
   {
    "duration": 12,
    "start_time": "2023-12-12T20:43:51.192Z"
   },
   {
    "duration": 45,
    "start_time": "2023-12-12T20:43:51.206Z"
   },
   {
    "duration": 7,
    "start_time": "2023-12-12T20:43:51.253Z"
   },
   {
    "duration": 12,
    "start_time": "2023-12-12T20:43:51.262Z"
   },
   {
    "duration": 102,
    "start_time": "2023-12-12T20:43:51.276Z"
   },
   {
    "duration": 8,
    "start_time": "2023-12-12T20:43:51.380Z"
   },
   {
    "duration": 27,
    "start_time": "2023-12-12T20:43:51.390Z"
   },
   {
    "duration": 6,
    "start_time": "2023-12-12T20:43:51.418Z"
   },
   {
    "duration": 22,
    "start_time": "2023-12-12T20:43:51.425Z"
   },
   {
    "duration": 30,
    "start_time": "2023-12-12T20:43:51.448Z"
   },
   {
    "duration": 6,
    "start_time": "2023-12-12T20:43:51.480Z"
   },
   {
    "duration": 38,
    "start_time": "2023-12-12T20:43:51.487Z"
   },
   {
    "duration": 46,
    "start_time": "2023-12-12T20:43:51.527Z"
   },
   {
    "duration": 44,
    "start_time": "2023-12-12T20:43:51.575Z"
   },
   {
    "duration": 369,
    "start_time": "2023-12-12T20:43:51.620Z"
   },
   {
    "duration": 7,
    "start_time": "2023-12-12T20:43:51.990Z"
   },
   {
    "duration": 464,
    "start_time": "2023-12-12T20:43:51.998Z"
   },
   {
    "duration": 12,
    "start_time": "2023-12-12T20:43:52.466Z"
   },
   {
    "duration": 353,
    "start_time": "2023-12-12T20:43:52.479Z"
   },
   {
    "duration": 40,
    "start_time": "2023-12-12T20:43:52.833Z"
   },
   {
    "duration": 20,
    "start_time": "2023-12-12T20:43:52.875Z"
   },
   {
    "duration": 42,
    "start_time": "2023-12-12T20:43:52.897Z"
   },
   {
    "duration": 35,
    "start_time": "2023-12-12T20:43:52.940Z"
   },
   {
    "duration": 30,
    "start_time": "2023-12-12T20:43:52.976Z"
   },
   {
    "duration": 7,
    "start_time": "2023-12-12T20:43:53.008Z"
   },
   {
    "duration": 54,
    "start_time": "2023-12-12T20:43:53.016Z"
   },
   {
    "duration": 413,
    "start_time": "2023-12-13T19:16:26.816Z"
   },
   {
    "duration": 7300,
    "start_time": "2023-12-13T19:16:37.024Z"
   },
   {
    "duration": 5601,
    "start_time": "2023-12-13T19:16:44.416Z"
   },
   {
    "duration": 201,
    "start_time": "2023-12-13T19:16:50.018Z"
   },
   {
    "duration": 101,
    "start_time": "2023-12-13T19:16:50.315Z"
   },
   {
    "duration": 104,
    "start_time": "2023-12-13T19:16:50.418Z"
   },
   {
    "duration": 193,
    "start_time": "2023-12-13T19:16:50.523Z"
   },
   {
    "duration": 199,
    "start_time": "2023-12-13T19:16:50.717Z"
   },
   {
    "duration": 204,
    "start_time": "2023-12-13T19:16:50.918Z"
   },
   {
    "duration": 96,
    "start_time": "2023-12-13T19:16:51.124Z"
   },
   {
    "duration": 199,
    "start_time": "2023-12-13T19:16:51.223Z"
   },
   {
    "duration": 198,
    "start_time": "2023-12-13T19:16:51.423Z"
   },
   {
    "duration": 293,
    "start_time": "2023-12-13T19:16:51.623Z"
   },
   {
    "duration": 497,
    "start_time": "2023-12-13T19:16:51.918Z"
   },
   {
    "duration": 299,
    "start_time": "2023-12-13T19:16:52.417Z"
   },
   {
    "duration": 8,
    "start_time": "2023-12-13T19:16:52.717Z"
   },
   {
    "duration": 909,
    "start_time": "2023-12-13T19:16:52.815Z"
   },
   {
    "duration": 2699,
    "start_time": "2023-12-13T19:16:53.816Z"
   },
   {
    "duration": 1198,
    "start_time": "2023-12-13T19:16:56.517Z"
   },
   {
    "duration": 400,
    "start_time": "2023-12-13T19:16:57.716Z"
   },
   {
    "duration": 500,
    "start_time": "2023-12-13T19:16:58.117Z"
   },
   {
    "duration": 98,
    "start_time": "2023-12-13T19:16:58.719Z"
   },
   {
    "duration": 295,
    "start_time": "2023-12-13T19:16:58.819Z"
   },
   {
    "duration": 100,
    "start_time": "2023-12-13T19:16:59.116Z"
   },
   {
    "duration": 102,
    "start_time": "2023-12-13T19:16:59.217Z"
   },
   {
    "duration": 104,
    "start_time": "2023-12-13T19:16:59.320Z"
   },
   {
    "duration": 299,
    "start_time": "2023-12-13T19:16:59.515Z"
   },
   {
    "duration": 5,
    "start_time": "2023-12-13T19:16:59.816Z"
   },
   {
    "duration": 301,
    "start_time": "2023-12-13T19:16:59.823Z"
   },
   {
    "duration": 8,
    "start_time": "2023-12-13T19:17:00.216Z"
   },
   {
    "duration": 101,
    "start_time": "2023-12-13T19:17:00.315Z"
   },
   {
    "duration": 1498,
    "start_time": "2023-12-13T19:17:00.417Z"
   },
   {
    "duration": 301,
    "start_time": "2023-12-13T19:17:01.917Z"
   },
   {
    "duration": 95,
    "start_time": "2023-12-13T19:17:02.220Z"
   },
   {
    "duration": 103,
    "start_time": "2023-12-13T19:17:02.321Z"
   },
   {
    "duration": 407,
    "start_time": "2023-12-13T19:17:02.515Z"
   },
   {
    "duration": 290,
    "start_time": "2023-12-13T19:17:02.926Z"
   },
   {
    "duration": 98,
    "start_time": "2023-12-13T19:17:03.217Z"
   },
   {
    "duration": 106,
    "start_time": "2023-12-13T19:17:03.316Z"
   },
   {
    "duration": 192,
    "start_time": "2023-12-13T19:17:03.423Z"
   },
   {
    "duration": 807,
    "start_time": "2023-12-13T19:17:03.617Z"
   },
   {
    "duration": 98,
    "start_time": "2023-12-13T19:17:04.519Z"
   },
   {
    "duration": 196,
    "start_time": "2023-12-13T19:17:04.618Z"
   },
   {
    "duration": 104,
    "start_time": "2023-12-13T19:17:04.820Z"
   },
   {
    "duration": 4,
    "start_time": "2023-12-13T19:17:05.016Z"
   },
   {
    "duration": 297,
    "start_time": "2023-12-13T19:17:05.021Z"
   },
   {
    "duration": 100,
    "start_time": "2023-12-13T19:17:05.319Z"
   },
   {
    "duration": 101,
    "start_time": "2023-12-13T19:17:05.421Z"
   },
   {
    "duration": 94,
    "start_time": "2023-12-13T19:17:05.523Z"
   },
   {
    "duration": 201,
    "start_time": "2023-12-13T19:17:05.622Z"
   },
   {
    "duration": 3797,
    "start_time": "2023-12-13T19:17:05.825Z"
   },
   {
    "duration": 192,
    "start_time": "2023-12-13T19:17:09.623Z"
   },
   {
    "duration": 3907,
    "start_time": "2023-12-13T19:17:09.817Z"
   },
   {
    "duration": 100,
    "start_time": "2023-12-13T19:17:13.816Z"
   },
   {
    "duration": 3104,
    "start_time": "2023-12-13T19:17:13.917Z"
   },
   {
    "duration": 291,
    "start_time": "2023-12-13T19:17:17.023Z"
   },
   {
    "duration": 399,
    "start_time": "2023-12-13T19:17:17.316Z"
   },
   {
    "duration": 504,
    "start_time": "2023-12-13T19:17:17.717Z"
   },
   {
    "duration": 291,
    "start_time": "2023-12-13T19:17:18.223Z"
   },
   {
    "duration": 198,
    "start_time": "2023-12-13T19:17:18.518Z"
   },
   {
    "duration": 98,
    "start_time": "2023-12-13T19:17:18.717Z"
   },
   {
    "duration": 494,
    "start_time": "2023-12-13T19:17:18.820Z"
   },
   {
    "duration": 1264,
    "start_time": "2024-01-21T14:55:16.575Z"
   },
   {
    "duration": 1000,
    "start_time": "2024-01-21T14:55:17.841Z"
   },
   {
    "duration": 13,
    "start_time": "2024-01-21T14:55:18.843Z"
   },
   {
    "duration": 11,
    "start_time": "2024-01-21T14:55:18.858Z"
   },
   {
    "duration": 12,
    "start_time": "2024-01-21T14:55:18.870Z"
   },
   {
    "duration": 36,
    "start_time": "2024-01-21T14:55:18.884Z"
   },
   {
    "duration": 17,
    "start_time": "2024-01-21T14:55:18.922Z"
   },
   {
    "duration": 18,
    "start_time": "2024-01-21T14:55:18.941Z"
   },
   {
    "duration": 11,
    "start_time": "2024-01-21T14:55:18.961Z"
   },
   {
    "duration": 44,
    "start_time": "2024-01-21T14:55:18.974Z"
   },
   {
    "duration": 7,
    "start_time": "2024-01-21T14:55:19.020Z"
   },
   {
    "duration": 12,
    "start_time": "2024-01-21T14:55:19.029Z"
   },
   {
    "duration": 23,
    "start_time": "2024-01-21T14:55:19.043Z"
   },
   {
    "duration": 28,
    "start_time": "2024-01-21T14:55:19.068Z"
   },
   {
    "duration": 9,
    "start_time": "2024-01-21T14:55:19.098Z"
   },
   {
    "duration": 101,
    "start_time": "2024-01-21T14:55:19.108Z"
   },
   {
    "duration": 334,
    "start_time": "2024-01-21T14:55:19.210Z"
   },
   {
    "duration": 119,
    "start_time": "2024-01-21T14:55:19.545Z"
   },
   {
    "duration": 46,
    "start_time": "2024-01-21T14:55:19.666Z"
   },
   {
    "duration": 74,
    "start_time": "2024-01-21T14:55:19.713Z"
   },
   {
    "duration": 7,
    "start_time": "2024-01-21T14:55:19.789Z"
   },
   {
    "duration": 13,
    "start_time": "2024-01-21T14:55:19.798Z"
   },
   {
    "duration": 12,
    "start_time": "2024-01-21T14:55:19.812Z"
   },
   {
    "duration": 7,
    "start_time": "2024-01-21T14:55:19.825Z"
   },
   {
    "duration": 30,
    "start_time": "2024-01-21T14:55:19.834Z"
   },
   {
    "duration": 37,
    "start_time": "2024-01-21T14:55:19.865Z"
   },
   {
    "duration": 5,
    "start_time": "2024-01-21T14:55:19.903Z"
   },
   {
    "duration": 54,
    "start_time": "2024-01-21T14:55:19.913Z"
   },
   {
    "duration": 7,
    "start_time": "2024-01-21T14:55:19.969Z"
   },
   {
    "duration": 13,
    "start_time": "2024-01-21T14:55:19.978Z"
   },
   {
    "duration": 169,
    "start_time": "2024-01-21T14:55:19.992Z"
   },
   {
    "duration": 19,
    "start_time": "2024-01-21T14:55:20.162Z"
   },
   {
    "duration": 10,
    "start_time": "2024-01-21T14:55:20.182Z"
   },
   {
    "duration": 6,
    "start_time": "2024-01-21T14:55:20.194Z"
   },
   {
    "duration": 14,
    "start_time": "2024-01-21T14:55:20.202Z"
   },
   {
    "duration": 41,
    "start_time": "2024-01-21T14:55:20.218Z"
   },
   {
    "duration": 7,
    "start_time": "2024-01-21T14:55:20.261Z"
   },
   {
    "duration": 16,
    "start_time": "2024-01-21T14:55:20.270Z"
   },
   {
    "duration": 16,
    "start_time": "2024-01-21T14:55:20.288Z"
   },
   {
    "duration": 104,
    "start_time": "2024-01-21T14:55:20.306Z"
   },
   {
    "duration": 10,
    "start_time": "2024-01-21T14:55:20.412Z"
   },
   {
    "duration": 12,
    "start_time": "2024-01-21T14:55:20.424Z"
   },
   {
    "duration": 6,
    "start_time": "2024-01-21T14:55:20.457Z"
   },
   {
    "duration": 7,
    "start_time": "2024-01-21T14:55:20.465Z"
   },
   {
    "duration": 23,
    "start_time": "2024-01-21T14:55:20.473Z"
   },
   {
    "duration": 8,
    "start_time": "2024-01-21T14:55:20.498Z"
   },
   {
    "duration": 5,
    "start_time": "2024-01-21T14:55:20.508Z"
   },
   {
    "duration": 45,
    "start_time": "2024-01-21T14:55:20.515Z"
   },
   {
    "duration": 20,
    "start_time": "2024-01-21T14:55:20.561Z"
   },
   {
    "duration": 483,
    "start_time": "2024-01-21T14:55:20.582Z"
   },
   {
    "duration": 1,
    "start_time": "2024-01-21T14:55:21.066Z"
   },
   {
    "duration": 0,
    "start_time": "2024-01-21T14:55:21.068Z"
   },
   {
    "duration": 0,
    "start_time": "2024-01-21T14:55:21.068Z"
   },
   {
    "duration": 0,
    "start_time": "2024-01-21T14:55:21.070Z"
   },
   {
    "duration": 0,
    "start_time": "2024-01-21T14:55:21.071Z"
   },
   {
    "duration": 0,
    "start_time": "2024-01-21T14:55:21.072Z"
   },
   {
    "duration": 0,
    "start_time": "2024-01-21T14:55:21.073Z"
   },
   {
    "duration": 0,
    "start_time": "2024-01-21T14:55:21.074Z"
   },
   {
    "duration": 0,
    "start_time": "2024-01-21T14:55:21.075Z"
   },
   {
    "duration": 0,
    "start_time": "2024-01-21T14:55:21.076Z"
   },
   {
    "duration": 0,
    "start_time": "2024-01-21T14:55:21.077Z"
   },
   {
    "duration": 6903,
    "start_time": "2024-01-21T14:57:17.061Z"
   },
   {
    "duration": 1331,
    "start_time": "2024-01-21T14:57:23.966Z"
   },
   {
    "duration": 649,
    "start_time": "2024-01-21T14:57:25.298Z"
   },
   {
    "duration": 15,
    "start_time": "2024-01-21T14:57:25.949Z"
   },
   {
    "duration": 20,
    "start_time": "2024-01-21T14:57:25.965Z"
   },
   {
    "duration": 17,
    "start_time": "2024-01-21T14:57:25.987Z"
   },
   {
    "duration": 38,
    "start_time": "2024-01-21T14:57:26.006Z"
   },
   {
    "duration": 22,
    "start_time": "2024-01-21T14:57:26.046Z"
   },
   {
    "duration": 37,
    "start_time": "2024-01-21T14:57:26.070Z"
   },
   {
    "duration": 29,
    "start_time": "2024-01-21T14:57:26.110Z"
   },
   {
    "duration": 22,
    "start_time": "2024-01-21T14:57:26.141Z"
   },
   {
    "duration": 12,
    "start_time": "2024-01-21T14:57:26.165Z"
   },
   {
    "duration": 21,
    "start_time": "2024-01-21T14:57:26.179Z"
   },
   {
    "duration": 29,
    "start_time": "2024-01-21T14:57:26.201Z"
   },
   {
    "duration": 37,
    "start_time": "2024-01-21T14:57:26.232Z"
   },
   {
    "duration": 9,
    "start_time": "2024-01-21T14:57:26.271Z"
   },
   {
    "duration": 96,
    "start_time": "2024-01-21T14:57:26.281Z"
   },
   {
    "duration": 310,
    "start_time": "2024-01-21T14:57:26.378Z"
   },
   {
    "duration": 105,
    "start_time": "2024-01-21T14:57:26.689Z"
   },
   {
    "duration": 63,
    "start_time": "2024-01-21T14:57:26.796Z"
   },
   {
    "duration": 62,
    "start_time": "2024-01-21T14:57:26.861Z"
   },
   {
    "duration": 9,
    "start_time": "2024-01-21T14:57:26.925Z"
   },
   {
    "duration": 50,
    "start_time": "2024-01-21T14:57:26.935Z"
   },
   {
    "duration": 29,
    "start_time": "2024-01-21T14:57:26.988Z"
   },
   {
    "duration": 7,
    "start_time": "2024-01-21T14:57:27.019Z"
   },
   {
    "duration": 25,
    "start_time": "2024-01-21T14:57:27.027Z"
   },
   {
    "duration": 52,
    "start_time": "2024-01-21T14:57:27.053Z"
   },
   {
    "duration": 4,
    "start_time": "2024-01-21T14:57:27.109Z"
   },
   {
    "duration": 78,
    "start_time": "2024-01-21T14:57:27.115Z"
   },
   {
    "duration": 23,
    "start_time": "2024-01-21T14:57:27.195Z"
   },
   {
    "duration": 37,
    "start_time": "2024-01-21T14:57:27.219Z"
   },
   {
    "duration": 151,
    "start_time": "2024-01-21T14:57:27.257Z"
   },
   {
    "duration": 20,
    "start_time": "2024-01-21T14:57:27.410Z"
   },
   {
    "duration": 31,
    "start_time": "2024-01-21T14:57:27.432Z"
   },
   {
    "duration": 6,
    "start_time": "2024-01-21T14:57:27.465Z"
   },
   {
    "duration": 15,
    "start_time": "2024-01-21T14:57:27.473Z"
   },
   {
    "duration": 13,
    "start_time": "2024-01-21T14:57:27.489Z"
   },
   {
    "duration": 14,
    "start_time": "2024-01-21T14:57:27.504Z"
   },
   {
    "duration": 9,
    "start_time": "2024-01-21T14:57:27.519Z"
   },
   {
    "duration": 31,
    "start_time": "2024-01-21T14:57:27.529Z"
   },
   {
    "duration": 105,
    "start_time": "2024-01-21T14:57:27.562Z"
   },
   {
    "duration": 9,
    "start_time": "2024-01-21T14:57:27.669Z"
   },
   {
    "duration": 19,
    "start_time": "2024-01-21T14:57:27.679Z"
   },
   {
    "duration": 6,
    "start_time": "2024-01-21T14:57:27.700Z"
   },
   {
    "duration": 13,
    "start_time": "2024-01-21T14:57:27.708Z"
   },
   {
    "duration": 43,
    "start_time": "2024-01-21T14:57:27.723Z"
   },
   {
    "duration": 6,
    "start_time": "2024-01-21T14:57:27.768Z"
   },
   {
    "duration": 4,
    "start_time": "2024-01-21T14:57:27.776Z"
   },
   {
    "duration": 9,
    "start_time": "2024-01-21T14:57:27.782Z"
   },
   {
    "duration": 20,
    "start_time": "2024-01-21T14:57:27.792Z"
   },
   {
    "duration": 1281,
    "start_time": "2024-01-21T14:57:27.814Z"
   },
   {
    "duration": 11,
    "start_time": "2024-01-21T14:57:29.098Z"
   },
   {
    "duration": 663,
    "start_time": "2024-01-21T14:57:29.111Z"
   },
   {
    "duration": 13,
    "start_time": "2024-01-21T14:57:29.775Z"
   },
   {
    "duration": 526,
    "start_time": "2024-01-21T14:57:29.789Z"
   },
   {
    "duration": 57,
    "start_time": "2024-01-21T14:57:30.317Z"
   },
   {
    "duration": 110,
    "start_time": "2024-01-21T14:57:30.376Z"
   },
   {
    "duration": 229,
    "start_time": "2024-01-21T14:57:30.488Z"
   },
   {
    "duration": 41,
    "start_time": "2024-01-21T14:57:30.718Z"
   },
   {
    "duration": 27,
    "start_time": "2024-01-21T14:57:30.761Z"
   },
   {
    "duration": 27,
    "start_time": "2024-01-21T14:57:30.791Z"
   },
   {
    "duration": 109,
    "start_time": "2024-01-21T14:57:30.819Z"
   },
   {
    "duration": 2853,
    "start_time": "2024-01-21T14:58:49.938Z"
   },
   {
    "duration": 1316,
    "start_time": "2024-01-21T14:58:52.793Z"
   },
   {
    "duration": 673,
    "start_time": "2024-01-21T14:58:54.111Z"
   },
   {
    "duration": 14,
    "start_time": "2024-01-21T14:58:54.786Z"
   },
   {
    "duration": 9,
    "start_time": "2024-01-21T14:58:54.802Z"
   },
   {
    "duration": 5,
    "start_time": "2024-01-21T14:58:54.814Z"
   },
   {
    "duration": 19,
    "start_time": "2024-01-21T14:58:54.820Z"
   },
   {
    "duration": 20,
    "start_time": "2024-01-21T14:58:54.841Z"
   },
   {
    "duration": 18,
    "start_time": "2024-01-21T14:58:54.863Z"
   },
   {
    "duration": 11,
    "start_time": "2024-01-21T14:58:54.884Z"
   },
   {
    "duration": 29,
    "start_time": "2024-01-21T14:58:54.897Z"
   },
   {
    "duration": 7,
    "start_time": "2024-01-21T14:58:54.928Z"
   },
   {
    "duration": 23,
    "start_time": "2024-01-21T14:58:54.936Z"
   },
   {
    "duration": 16,
    "start_time": "2024-01-21T14:58:54.961Z"
   },
   {
    "duration": 38,
    "start_time": "2024-01-21T14:58:54.979Z"
   },
   {
    "duration": 9,
    "start_time": "2024-01-21T14:58:55.018Z"
   },
   {
    "duration": 98,
    "start_time": "2024-01-21T14:58:55.029Z"
   },
   {
    "duration": 329,
    "start_time": "2024-01-21T14:58:55.129Z"
   },
   {
    "duration": 120,
    "start_time": "2024-01-21T14:58:55.460Z"
   },
   {
    "duration": 47,
    "start_time": "2024-01-21T14:58:55.581Z"
   },
   {
    "duration": 72,
    "start_time": "2024-01-21T14:58:55.629Z"
   },
   {
    "duration": 8,
    "start_time": "2024-01-21T14:58:55.702Z"
   },
   {
    "duration": 16,
    "start_time": "2024-01-21T14:58:55.711Z"
   },
   {
    "duration": 15,
    "start_time": "2024-01-21T14:58:55.729Z"
   },
   {
    "duration": 7,
    "start_time": "2024-01-21T14:58:55.759Z"
   },
   {
    "duration": 8,
    "start_time": "2024-01-21T14:58:55.768Z"
   },
   {
    "duration": 37,
    "start_time": "2024-01-21T14:58:55.778Z"
   },
   {
    "duration": 5,
    "start_time": "2024-01-21T14:58:55.820Z"
   },
   {
    "duration": 54,
    "start_time": "2024-01-21T14:58:55.826Z"
   },
   {
    "duration": 6,
    "start_time": "2024-01-21T14:58:55.881Z"
   },
   {
    "duration": 10,
    "start_time": "2024-01-21T14:58:55.889Z"
   },
   {
    "duration": 170,
    "start_time": "2024-01-21T14:58:55.901Z"
   },
   {
    "duration": 21,
    "start_time": "2024-01-21T14:58:56.072Z"
   },
   {
    "duration": 11,
    "start_time": "2024-01-21T14:58:56.095Z"
   },
   {
    "duration": 15,
    "start_time": "2024-01-21T14:58:56.107Z"
   },
   {
    "duration": 34,
    "start_time": "2024-01-21T14:58:56.124Z"
   },
   {
    "duration": 14,
    "start_time": "2024-01-21T14:58:56.161Z"
   },
   {
    "duration": 15,
    "start_time": "2024-01-21T14:58:56.177Z"
   },
   {
    "duration": 13,
    "start_time": "2024-01-21T14:58:56.194Z"
   },
   {
    "duration": 11,
    "start_time": "2024-01-21T14:58:56.209Z"
   },
   {
    "duration": 107,
    "start_time": "2024-01-21T14:58:56.222Z"
   },
   {
    "duration": 9,
    "start_time": "2024-01-21T14:58:56.331Z"
   },
   {
    "duration": 24,
    "start_time": "2024-01-21T14:58:56.342Z"
   },
   {
    "duration": 8,
    "start_time": "2024-01-21T14:58:56.367Z"
   },
   {
    "duration": 8,
    "start_time": "2024-01-21T14:58:56.376Z"
   },
   {
    "duration": 23,
    "start_time": "2024-01-21T14:58:56.385Z"
   },
   {
    "duration": 6,
    "start_time": "2024-01-21T14:58:56.410Z"
   },
   {
    "duration": 15,
    "start_time": "2024-01-21T14:58:56.418Z"
   },
   {
    "duration": 26,
    "start_time": "2024-01-21T14:58:56.435Z"
   },
   {
    "duration": 41,
    "start_time": "2024-01-21T14:58:56.462Z"
   },
   {
    "duration": 308,
    "start_time": "2024-01-21T14:58:56.505Z"
   },
   {
    "duration": 10,
    "start_time": "2024-01-21T14:58:56.814Z"
   },
   {
    "duration": 483,
    "start_time": "2024-01-21T14:58:56.826Z"
   },
   {
    "duration": 12,
    "start_time": "2024-01-21T14:58:57.311Z"
   },
   {
    "duration": 281,
    "start_time": "2024-01-21T14:58:57.325Z"
   },
   {
    "duration": 27,
    "start_time": "2024-01-21T14:58:57.608Z"
   },
   {
    "duration": 41,
    "start_time": "2024-01-21T14:58:57.637Z"
   },
   {
    "duration": 39,
    "start_time": "2024-01-21T14:58:57.680Z"
   },
   {
    "duration": 38,
    "start_time": "2024-01-21T14:58:57.720Z"
   },
   {
    "duration": 24,
    "start_time": "2024-01-21T14:58:57.760Z"
   },
   {
    "duration": 7,
    "start_time": "2024-01-21T14:58:57.786Z"
   },
   {
    "duration": 45,
    "start_time": "2024-01-21T14:58:57.795Z"
   },
   {
    "duration": 2940,
    "start_time": "2024-01-21T17:16:28.708Z"
   },
   {
    "duration": 1370,
    "start_time": "2024-01-21T17:16:31.651Z"
   },
   {
    "duration": 672,
    "start_time": "2024-01-21T17:16:33.025Z"
   },
   {
    "duration": 14,
    "start_time": "2024-01-21T17:16:33.699Z"
   },
   {
    "duration": 11,
    "start_time": "2024-01-21T17:16:33.715Z"
   },
   {
    "duration": 9,
    "start_time": "2024-01-21T17:16:33.729Z"
   },
   {
    "duration": 20,
    "start_time": "2024-01-21T17:16:33.740Z"
   },
   {
    "duration": 18,
    "start_time": "2024-01-21T17:16:33.762Z"
   },
   {
    "duration": 10,
    "start_time": "2024-01-21T17:16:33.784Z"
   },
   {
    "duration": 14,
    "start_time": "2024-01-21T17:16:33.796Z"
   },
   {
    "duration": 48,
    "start_time": "2024-01-21T17:16:33.812Z"
   },
   {
    "duration": 9,
    "start_time": "2024-01-21T17:16:33.862Z"
   },
   {
    "duration": 16,
    "start_time": "2024-01-21T17:16:33.873Z"
   },
   {
    "duration": 36,
    "start_time": "2024-01-21T17:16:33.891Z"
   },
   {
    "duration": 79,
    "start_time": "2024-01-21T17:16:33.928Z"
   },
   {
    "duration": 13,
    "start_time": "2024-01-21T17:16:34.009Z"
   },
   {
    "duration": 87,
    "start_time": "2024-01-21T17:16:34.024Z"
   },
   {
    "duration": 320,
    "start_time": "2024-01-21T17:16:34.113Z"
   },
   {
    "duration": 114,
    "start_time": "2024-01-21T17:16:34.435Z"
   },
   {
    "duration": 49,
    "start_time": "2024-01-21T17:16:34.551Z"
   },
   {
    "duration": 71,
    "start_time": "2024-01-21T17:16:34.602Z"
   },
   {
    "duration": 7,
    "start_time": "2024-01-21T17:16:34.675Z"
   },
   {
    "duration": 14,
    "start_time": "2024-01-21T17:16:34.683Z"
   },
   {
    "duration": 10,
    "start_time": "2024-01-21T17:16:34.699Z"
   },
   {
    "duration": 6,
    "start_time": "2024-01-21T17:16:34.711Z"
   },
   {
    "duration": 40,
    "start_time": "2024-01-21T17:16:34.719Z"
   },
   {
    "duration": 35,
    "start_time": "2024-01-21T17:16:34.764Z"
   },
   {
    "duration": 5,
    "start_time": "2024-01-21T17:16:34.800Z"
   },
   {
    "duration": 26,
    "start_time": "2024-01-21T17:16:34.806Z"
   },
   {
    "duration": 27,
    "start_time": "2024-01-21T17:16:34.834Z"
   },
   {
    "duration": 14,
    "start_time": "2024-01-21T17:16:34.863Z"
   },
   {
    "duration": 164,
    "start_time": "2024-01-21T17:16:34.879Z"
   },
   {
    "duration": 30,
    "start_time": "2024-01-21T17:16:35.045Z"
   },
   {
    "duration": 14,
    "start_time": "2024-01-21T17:16:35.077Z"
   },
   {
    "duration": 9,
    "start_time": "2024-01-21T17:16:35.093Z"
   },
   {
    "duration": 16,
    "start_time": "2024-01-21T17:16:35.104Z"
   },
   {
    "duration": 40,
    "start_time": "2024-01-21T17:16:35.122Z"
   },
   {
    "duration": 7,
    "start_time": "2024-01-21T17:16:35.164Z"
   },
   {
    "duration": 7,
    "start_time": "2024-01-21T17:16:35.173Z"
   },
   {
    "duration": 8,
    "start_time": "2024-01-21T17:16:35.182Z"
   },
   {
    "duration": 117,
    "start_time": "2024-01-21T17:16:35.192Z"
   },
   {
    "duration": 10,
    "start_time": "2024-01-21T17:16:35.311Z"
   },
   {
    "duration": 17,
    "start_time": "2024-01-21T17:16:35.323Z"
   },
   {
    "duration": 19,
    "start_time": "2024-01-21T17:16:35.342Z"
   },
   {
    "duration": 5,
    "start_time": "2024-01-21T17:16:35.363Z"
   },
   {
    "duration": 20,
    "start_time": "2024-01-21T17:16:35.370Z"
   },
   {
    "duration": 7,
    "start_time": "2024-01-21T17:16:35.391Z"
   },
   {
    "duration": 5,
    "start_time": "2024-01-21T17:16:35.400Z"
   },
   {
    "duration": 5,
    "start_time": "2024-01-21T17:16:35.406Z"
   },
   {
    "duration": 58,
    "start_time": "2024-01-21T17:16:35.412Z"
   },
   {
    "duration": 1246,
    "start_time": "2024-01-21T17:16:35.472Z"
   },
   {
    "duration": 10,
    "start_time": "2024-01-21T17:16:36.720Z"
   },
   {
    "duration": 676,
    "start_time": "2024-01-21T17:16:36.732Z"
   },
   {
    "duration": 56,
    "start_time": "2024-01-21T17:16:37.410Z"
   },
   {
    "duration": 439,
    "start_time": "2024-01-21T17:16:37.468Z"
   },
   {
    "duration": 75,
    "start_time": "2024-01-21T17:16:37.909Z"
   },
   {
    "duration": 29,
    "start_time": "2024-01-21T17:16:37.986Z"
   },
   {
    "duration": 172,
    "start_time": "2024-01-21T17:16:38.017Z"
   },
   {
    "duration": 16,
    "start_time": "2024-01-21T17:16:38.259Z"
   },
   {
    "duration": 32,
    "start_time": "2024-01-21T17:16:38.277Z"
   },
   {
    "duration": 30,
    "start_time": "2024-01-21T17:16:38.312Z"
   },
   {
    "duration": 77,
    "start_time": "2024-01-21T17:16:38.344Z"
   },
   {
    "duration": 3131,
    "start_time": "2024-01-21T17:27:00.154Z"
   },
   {
    "duration": 1386,
    "start_time": "2024-01-21T17:27:03.287Z"
   },
   {
    "duration": 741,
    "start_time": "2024-01-21T17:27:04.676Z"
   },
   {
    "duration": 13,
    "start_time": "2024-01-21T17:27:05.420Z"
   },
   {
    "duration": 11,
    "start_time": "2024-01-21T17:27:05.435Z"
   },
   {
    "duration": 18,
    "start_time": "2024-01-21T17:27:05.448Z"
   },
   {
    "duration": 5,
    "start_time": "2024-01-21T17:27:05.471Z"
   },
   {
    "duration": 17,
    "start_time": "2024-01-21T17:27:05.478Z"
   },
   {
    "duration": 11,
    "start_time": "2024-01-21T17:27:05.497Z"
   },
   {
    "duration": 9,
    "start_time": "2024-01-21T17:27:05.511Z"
   },
   {
    "duration": 58,
    "start_time": "2024-01-21T17:27:05.522Z"
   },
   {
    "duration": 8,
    "start_time": "2024-01-21T17:27:05.581Z"
   },
   {
    "duration": 7,
    "start_time": "2024-01-21T17:27:05.590Z"
   },
   {
    "duration": 16,
    "start_time": "2024-01-21T17:27:05.599Z"
   },
   {
    "duration": 69,
    "start_time": "2024-01-21T17:27:05.617Z"
   },
   {
    "duration": 9,
    "start_time": "2024-01-21T17:27:05.688Z"
   },
   {
    "duration": 92,
    "start_time": "2024-01-21T17:27:05.699Z"
   },
   {
    "duration": 335,
    "start_time": "2024-01-21T17:27:05.793Z"
   },
   {
    "duration": 112,
    "start_time": "2024-01-21T17:27:06.130Z"
   },
   {
    "duration": 57,
    "start_time": "2024-01-21T17:27:06.244Z"
   },
   {
    "duration": 76,
    "start_time": "2024-01-21T17:27:06.303Z"
   },
   {
    "duration": 8,
    "start_time": "2024-01-21T17:27:06.380Z"
   },
   {
    "duration": 14,
    "start_time": "2024-01-21T17:27:06.390Z"
   },
   {
    "duration": 12,
    "start_time": "2024-01-21T17:27:06.406Z"
   },
   {
    "duration": 13,
    "start_time": "2024-01-21T17:27:06.419Z"
   },
   {
    "duration": 32,
    "start_time": "2024-01-21T17:27:06.434Z"
   },
   {
    "duration": 63,
    "start_time": "2024-01-21T17:27:06.468Z"
   },
   {
    "duration": 4,
    "start_time": "2024-01-21T17:27:06.536Z"
   },
   {
    "duration": 45,
    "start_time": "2024-01-21T17:27:06.542Z"
   },
   {
    "duration": 8,
    "start_time": "2024-01-21T17:27:06.588Z"
   },
   {
    "duration": 19,
    "start_time": "2024-01-21T17:27:06.598Z"
   },
   {
    "duration": 163,
    "start_time": "2024-01-21T17:27:06.619Z"
   },
   {
    "duration": 20,
    "start_time": "2024-01-21T17:27:06.784Z"
   },
   {
    "duration": 11,
    "start_time": "2024-01-21T17:27:06.806Z"
   },
   {
    "duration": 8,
    "start_time": "2024-01-21T17:27:06.819Z"
   },
   {
    "duration": 33,
    "start_time": "2024-01-21T17:27:06.828Z"
   },
   {
    "duration": 17,
    "start_time": "2024-01-21T17:27:06.864Z"
   },
   {
    "duration": 6,
    "start_time": "2024-01-21T17:27:06.883Z"
   },
   {
    "duration": 9,
    "start_time": "2024-01-21T17:27:06.891Z"
   },
   {
    "duration": 8,
    "start_time": "2024-01-21T17:27:06.902Z"
   },
   {
    "duration": 136,
    "start_time": "2024-01-21T17:27:06.912Z"
   },
   {
    "duration": 23,
    "start_time": "2024-01-21T17:27:07.050Z"
   },
   {
    "duration": 12,
    "start_time": "2024-01-21T17:27:07.075Z"
   },
   {
    "duration": 6,
    "start_time": "2024-01-21T17:27:07.089Z"
   },
   {
    "duration": 5,
    "start_time": "2024-01-21T17:27:07.097Z"
   },
   {
    "duration": 60,
    "start_time": "2024-01-21T17:27:07.103Z"
   },
   {
    "duration": 10,
    "start_time": "2024-01-21T17:27:07.169Z"
   },
   {
    "duration": 10,
    "start_time": "2024-01-21T17:27:07.181Z"
   },
   {
    "duration": 6,
    "start_time": "2024-01-21T17:27:07.193Z"
   },
   {
    "duration": 22,
    "start_time": "2024-01-21T17:27:07.200Z"
   },
   {
    "duration": 1274,
    "start_time": "2024-01-21T17:27:07.224Z"
   },
   {
    "duration": 10,
    "start_time": "2024-01-21T17:27:08.500Z"
   },
   {
    "duration": 679,
    "start_time": "2024-01-21T17:27:08.511Z"
   },
   {
    "duration": 12,
    "start_time": "2024-01-21T17:27:09.192Z"
   },
   {
    "duration": 554,
    "start_time": "2024-01-21T17:27:09.205Z"
   },
   {
    "duration": 33,
    "start_time": "2024-01-21T17:27:09.762Z"
   },
   {
    "duration": 23,
    "start_time": "2024-01-21T17:27:09.796Z"
   },
   {
    "duration": 196,
    "start_time": "2024-01-21T17:27:09.820Z"
   },
   {
    "duration": 14,
    "start_time": "2024-01-21T17:27:10.018Z"
   },
   {
    "duration": 51,
    "start_time": "2024-01-21T17:27:10.034Z"
   },
   {
    "duration": 8,
    "start_time": "2024-01-21T17:27:10.087Z"
   },
   {
    "duration": 44,
    "start_time": "2024-01-21T17:27:10.096Z"
   }
  ],
  "kernelspec": {
   "display_name": "Python 3 (ipykernel)",
   "language": "python",
   "name": "python3"
  },
  "language_info": {
   "codemirror_mode": {
    "name": "ipython",
    "version": 3
   },
   "file_extension": ".py",
   "mimetype": "text/x-python",
   "name": "python",
   "nbconvert_exporter": "python",
   "pygments_lexer": "ipython3",
   "version": "3.9.5"
  },
  "toc": {
   "base_numbering": 1,
   "nav_menu": {},
   "number_sections": true,
   "sideBar": true,
   "skip_h1_title": true,
   "title_cell": "Оценка корректности проведения A/B теста на примере данных интернет-магазина",
   "title_sidebar": "Contents",
   "toc_cell": true,
   "toc_position": {
    "height": "950px",
    "left": "52px",
    "top": "111.86px",
    "width": "559.668px"
   },
   "toc_section_display": true,
   "toc_window_display": true
  }
 },
 "nbformat": 4,
 "nbformat_minor": 2
}
