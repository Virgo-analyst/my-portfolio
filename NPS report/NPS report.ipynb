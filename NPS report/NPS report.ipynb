{
 "cells": [
  {
   "cell_type": "markdown",
   "id": "deb020af",
   "metadata": {
    "toc": true
   },
   "source": [
    "<h1>Table of Contents<span class=\"tocSkip\"></span></h1>\n",
    "<div class=\"toc\"><ul class=\"toc-item\"><li><span><a href=\"#Введение\" data-toc-modified-id=\"Введение-1\"><span class=\"toc-item-num\">1&nbsp;&nbsp;</span>Введение</a></span></li><li><span><a href=\"#Цель-исследования\" data-toc-modified-id=\"Цель-исследования-2\"><span class=\"toc-item-num\">2&nbsp;&nbsp;</span>Цель исследования</a></span></li><li><span><a href=\"#План-работы\" data-toc-modified-id=\"План-работы-3\"><span class=\"toc-item-num\">3&nbsp;&nbsp;</span>План работы</a></span></li><li><span><a href=\"#Описание-выгруженной-таблицы\" data-toc-modified-id=\"Описание-выгруженной-таблицы-4\"><span class=\"toc-item-num\">4&nbsp;&nbsp;</span>Описание выгруженной таблицы</a></span></li><li><span><a href=\"#Шаг-1-Подключение-к-базе-данных\" data-toc-modified-id=\"Шаг-1-Подключение-к-базе-данных-5\"><span class=\"toc-item-num\">5&nbsp;&nbsp;</span>Шаг 1 Подключение к базе данных</a></span></li><li><span><a href=\"#Шаг-2-Выгрузка-данных\" data-toc-modified-id=\"Шаг-2-Выгрузка-данных-6\"><span class=\"toc-item-num\">6&nbsp;&nbsp;</span>Шаг 2 Выгрузка данных</a></span><ul class=\"toc-item\"><li><span><a href=\"#Формирование-SQL-запроса\" data-toc-modified-id=\"Формирование-SQL-запроса-6.1\"><span class=\"toc-item-num\">6.1&nbsp;&nbsp;</span>Формирование SQL-запроса</a></span></li><li><span><a href=\"#Выгрузка-данных-в-формате-csv\" data-toc-modified-id=\"Выгрузка-данных-в-формате-csv-6.2\"><span class=\"toc-item-num\">6.2&nbsp;&nbsp;</span>Выгрузка данных в формате csv</a></span></li></ul></li><li><span><a href=\"#Дашборд\" data-toc-modified-id=\"Дашборд-7\"><span class=\"toc-item-num\">7&nbsp;&nbsp;</span>Дашборд</a></span></li><li><span><a href=\"#Презентация\" data-toc-modified-id=\"Презентация-8\"><span class=\"toc-item-num\">8&nbsp;&nbsp;</span>Презентация</a></span></li><li><span><a href=\"#Общий-вывод-по-исследованию\" data-toc-modified-id=\"Общий-вывод-по-исследованию-9\"><span class=\"toc-item-num\">9&nbsp;&nbsp;</span>Общий вывод по исследованию</a></span></li></ul></div>"
   ]
  },
  {
   "cell_type": "markdown",
   "id": "e03da37b",
   "metadata": {},
   "source": [
    "# Оценка текущего уровня лояльности клиентов телекоммуникационной компании"
   ]
  },
  {
   "cell_type": "markdown",
   "id": "d36d6003",
   "metadata": {},
   "source": [
    "## Введение\n",
    "\n",
    "Заказчик этого исследования — большая телекоммуникационная компания, которая оказывает услуги на территории всего СНГ. Перед компанией стоит задача определить текущий уровень потребительской лояльности, или NPS (от англ. Net Promoter Score), среди клиентов из России. \n",
    "Чтобы определить уровень лояльности, клиентам задавали классический вопрос: «Оцените по шкале от 1 до 10 вероятность того, что вы порекомендуете компанию друзьям и знакомым»."
   ]
  },
  {
   "cell_type": "markdown",
   "id": "2ada32c7",
   "metadata": {},
   "source": [
    "## Цель исследования\n",
    "\n",
    "По ответам пользователей подготовить дашборд для определения текущего уровня потребильской лояльности. Для оценки результатов опроса клиенты были разделены на три группы согласно европейским стандартам:\n",
    "9-10 баллов — «cторонники» (англ. promoters);\n",
    "7-8 баллов — «нейтралы» (англ. passives);\n",
    "0-6 баллов — «критики» (англ. detractors).\n",
    "Итоговое значение NPS рассчитывается по формуле: `% «сторонников»` - `% «критиков»`."
   ]
  },
  {
   "cell_type": "markdown",
   "id": "825b9a2d",
   "metadata": {},
   "source": [
    "## План работы\n",
    "\n",
    "1. Подключиться к базе данных с результатами опроса;\n",
    "2. Выгрузить нужные данные;\n",
    "3. Создать интерактивный дашборд в Tableau;\n",
    "4. При помощи дашборда ответить на следующие вопросы заказчика: Как распределены участники опроса по возрасту, полу и возрасту? Каких пользователей больше: новых или старых? Пользователи из каких городов активнее участвовали в опросе? Какие группы пользователей наиболее лояльны к сервису? Какие менее? Какой общий NPS среди всех опрошенных? Как можно описать клиентов, которые относятся к группе cторонников (англ. promoters)?\n",
    "5. Подготовить презентацию для заказчика с овтетами на вопросы;\n",
    "6. Написать общий вывод."
   ]
  },
  {
   "cell_type": "markdown",
   "id": "3cd8907c",
   "metadata": {},
   "source": [
    "## Описание выгруженной таблицы\n",
    "\n",
    "1. `user_id` - Идентификатор клиента;\n",
    "2. `lt_day` - Количество дней «жизни» клиента;\n",
    "3. `is_new` - Поле хранит информацию о том, является ли клиент новым;\n",
    "4. `age` - Возраст;\n",
    "5. `gender_segment` - Пол;\n",
    "6. `os_name` - Тип операционной системы;\n",
    "7. `cpe_type_name` - Тип устройства;\n",
    "8. `country` - Страна проживания;\n",
    "9. `city` - Город проживания;\n",
    "10. `age_segment` - Возрастной сегмент;\n",
    "11. `traffic_segment` - Сегмент по объёму потребляемого трафика;\n",
    "12. `lifetime_segment` - Сегмент по количеству дней «жизни»;\n",
    "13. `nps_score` - Оценка клиента в NPS-опросе;\n",
    "14. `nps_group` - Поле хранит информацию о том, к какой группе относится оценка клиента в опросе;\n"
   ]
  },
  {
   "cell_type": "markdown",
   "id": "36d97f53",
   "metadata": {},
   "source": [
    "## Шаг 1 Подключение к базе данных"
   ]
  },
  {
   "cell_type": "code",
   "execution_count": 1,
   "id": "1a7e7af1",
   "metadata": {},
   "outputs": [],
   "source": [
    "# Основные библиотеки, которые нам необходимы:\n",
    "import os\n",
    "import pandas as pd\n",
    "import numpy as np\n",
    "\n",
    "from sqlalchemy import create_engine"
   ]
  },
  {
   "cell_type": "code",
   "execution_count": 2,
   "id": "7415948f",
   "metadata": {},
   "outputs": [],
   "source": [
    "# путь к БД на вашем компьютере (например, в той же папке, что и тетрадь)\n",
    "path_to_db_local = 'C:/Users/MSI/Desktop/NPS report/telecomm_csi.db'\n",
    "# путь к БД на платформе\n",
    "path_to_db_platform = '/datasets/telecomm_csi.db'\n",
    "# итоговый путь к БД\n",
    "path_to_db = None\n",
    "\n",
    "if os.path.exists(path_to_db_local):\n",
    "    path_to_db = path_to_db_local\n",
    "elif os.path.exists(path_to_db_platform):\n",
    "    path_to_db = path_to_db_platform\n",
    "else:\n",
    "    raise Exception('Файл с базой данных SQLite не найден!')\n",
    "\n",
    "if path_to_db:\n",
    "    engine = create_engine(f'sqlite:///{path_to_db}', echo=False)"
   ]
  },
  {
   "cell_type": "markdown",
   "id": "0774d038",
   "metadata": {},
   "source": [
    "## Шаг 2 Выгрузка данных"
   ]
  },
  {
   "cell_type": "markdown",
   "id": "f2c1fc08",
   "metadata": {},
   "source": [
    "### Формирование SQL-запроса"
   ]
  },
  {
   "cell_type": "code",
   "execution_count": 3,
   "id": "60e52994",
   "metadata": {},
   "outputs": [],
   "source": [
    "# SQL-запрос нужных данных\n",
    "query = \"\"\"\n",
    "SELECT u.user_id, u.lt_day, \n",
    "       CASE\n",
    "           WHEN u.lt_day <= 365 THEN true\n",
    "           WHEN u.lt_day > 365 THEN false\n",
    "       END AS is_new,\n",
    "       u.age, \n",
    "       CASE\n",
    "           WHEN u.gender_segment = 1 THEN 'женщина'\n",
    "           WHEN u.gender_segment = 0 THEN 'мужчина'\n",
    "       END AS gender_segment,\n",
    "       u.os_name, \n",
    "       u.cpe_type_name, loc.country, loc.city, \n",
    "       ag.title AS age_segment, \n",
    "       tg.title AS traffic_segment,\n",
    "       lg.title AS life_time_segment, \n",
    "       u.nps_score,\n",
    "       CASE\n",
    "           WHEN u.nps_score >= 9 THEN 'сторонники'\n",
    "           WHEN u.nps_score >= 7 AND u.nps_score < 9 THEN 'нейтралы'\n",
    "           WHEN u.nps_score < 7 THEN 'критики'\n",
    "        END AS nps_group\n",
    "FROM user AS u\n",
    "INNER JOIN location AS loc ON loc.location_id=u.location_id\n",
    "INNER JOIN age_segment AS ag ON ag.age_gr_id=u.age_gr_id\n",
    "INNER JOIN traffic_segment AS tg ON tg.tr_gr_id=u.tr_gr_id\n",
    "INNER JOIN lifetime_segment AS lg ON lg.lt_gr_id=u.lt_gr_id\n",
    "\"\"\""
   ]
  },
  {
   "cell_type": "code",
   "execution_count": 4,
   "id": "3965faf2",
   "metadata": {},
   "outputs": [
    {
     "data": {
      "text/html": [
       "<div>\n",
       "<style scoped>\n",
       "    .dataframe tbody tr th:only-of-type {\n",
       "        vertical-align: middle;\n",
       "    }\n",
       "\n",
       "    .dataframe tbody tr th {\n",
       "        vertical-align: top;\n",
       "    }\n",
       "\n",
       "    .dataframe thead th {\n",
       "        text-align: right;\n",
       "    }\n",
       "</style>\n",
       "<table border=\"1\" class=\"dataframe\">\n",
       "  <thead>\n",
       "    <tr style=\"text-align: right;\">\n",
       "      <th></th>\n",
       "      <th>user_id</th>\n",
       "      <th>lt_day</th>\n",
       "      <th>is_new</th>\n",
       "      <th>age</th>\n",
       "      <th>gender_segment</th>\n",
       "      <th>os_name</th>\n",
       "      <th>cpe_type_name</th>\n",
       "      <th>country</th>\n",
       "      <th>city</th>\n",
       "      <th>age_segment</th>\n",
       "      <th>traffic_segment</th>\n",
       "      <th>life_time_segment</th>\n",
       "      <th>nps_score</th>\n",
       "      <th>nps_group</th>\n",
       "    </tr>\n",
       "  </thead>\n",
       "  <tbody>\n",
       "    <tr>\n",
       "      <th>0</th>\n",
       "      <td>A001A2</td>\n",
       "      <td>2320</td>\n",
       "      <td>0</td>\n",
       "      <td>45.0</td>\n",
       "      <td>женщина</td>\n",
       "      <td>ANDROID</td>\n",
       "      <td>SMARTPHONE</td>\n",
       "      <td>Россия</td>\n",
       "      <td>Уфа</td>\n",
       "      <td>05 45-54</td>\n",
       "      <td>04 1-5</td>\n",
       "      <td>08 36+</td>\n",
       "      <td>10</td>\n",
       "      <td>сторонники</td>\n",
       "    </tr>\n",
       "    <tr>\n",
       "      <th>1</th>\n",
       "      <td>A001WF</td>\n",
       "      <td>2344</td>\n",
       "      <td>0</td>\n",
       "      <td>53.0</td>\n",
       "      <td>мужчина</td>\n",
       "      <td>ANDROID</td>\n",
       "      <td>SMARTPHONE</td>\n",
       "      <td>Россия</td>\n",
       "      <td>Киров</td>\n",
       "      <td>05 45-54</td>\n",
       "      <td>04 1-5</td>\n",
       "      <td>08 36+</td>\n",
       "      <td>10</td>\n",
       "      <td>сторонники</td>\n",
       "    </tr>\n",
       "    <tr>\n",
       "      <th>2</th>\n",
       "      <td>A003Q7</td>\n",
       "      <td>467</td>\n",
       "      <td>0</td>\n",
       "      <td>57.0</td>\n",
       "      <td>мужчина</td>\n",
       "      <td>ANDROID</td>\n",
       "      <td>SMARTPHONE</td>\n",
       "      <td>Россия</td>\n",
       "      <td>Москва</td>\n",
       "      <td>06 55-64</td>\n",
       "      <td>08 20-25</td>\n",
       "      <td>06 13-24</td>\n",
       "      <td>10</td>\n",
       "      <td>сторонники</td>\n",
       "    </tr>\n",
       "  </tbody>\n",
       "</table>\n",
       "</div>"
      ],
      "text/plain": [
       "  user_id  lt_day  is_new   age gender_segment  os_name cpe_type_name country  \\\n",
       "0  A001A2    2320       0  45.0        женщина  ANDROID    SMARTPHONE  Россия   \n",
       "1  A001WF    2344       0  53.0        мужчина  ANDROID    SMARTPHONE  Россия   \n",
       "2  A003Q7     467       0  57.0        мужчина  ANDROID    SMARTPHONE  Россия   \n",
       "\n",
       "     city age_segment traffic_segment life_time_segment  nps_score   nps_group  \n",
       "0     Уфа    05 45-54          04 1-5            08 36+         10  сторонники  \n",
       "1   Киров    05 45-54          04 1-5            08 36+         10  сторонники  \n",
       "2  Москва    06 55-64        08 20-25          06 13-24         10  сторонники  "
      ]
     },
     "execution_count": 4,
     "metadata": {},
     "output_type": "execute_result"
    }
   ],
   "source": [
    "df = pd.read_sql(query, engine)\n",
    "df.head(3)"
   ]
  },
  {
   "cell_type": "code",
   "execution_count": 5,
   "id": "86489564",
   "metadata": {},
   "outputs": [
    {
     "name": "stdout",
     "output_type": "stream",
     "text": [
      "<class 'pandas.core.frame.DataFrame'>\n",
      "RangeIndex: 502493 entries, 0 to 502492\n",
      "Data columns (total 14 columns):\n",
      " #   Column             Non-Null Count   Dtype  \n",
      "---  ------             --------------   -----  \n",
      " 0   user_id            502493 non-null  object \n",
      " 1   lt_day             502493 non-null  int64  \n",
      " 2   is_new             502493 non-null  int64  \n",
      " 3   age                501939 non-null  float64\n",
      " 4   gender_segment     501192 non-null  object \n",
      " 5   os_name            502493 non-null  object \n",
      " 6   cpe_type_name      502493 non-null  object \n",
      " 7   country            502493 non-null  object \n",
      " 8   city               502493 non-null  object \n",
      " 9   age_segment        502493 non-null  object \n",
      " 10  traffic_segment    502493 non-null  object \n",
      " 11  life_time_segment  502493 non-null  object \n",
      " 12  nps_score          502493 non-null  int64  \n",
      " 13  nps_group          502493 non-null  object \n",
      "dtypes: float64(1), int64(3), object(10)\n",
      "memory usage: 53.7+ MB\n"
     ]
    }
   ],
   "source": [
    "df.info()"
   ]
  },
  {
   "cell_type": "markdown",
   "id": "e94ca50a",
   "metadata": {},
   "source": [
    "### Выгрузка данных в формате csv"
   ]
  },
  {
   "cell_type": "code",
   "execution_count": 6,
   "id": "9db04858",
   "metadata": {},
   "outputs": [
    {
     "data": {
      "text/html": [
       "<div>\n",
       "<style scoped>\n",
       "    .dataframe tbody tr th:only-of-type {\n",
       "        vertical-align: middle;\n",
       "    }\n",
       "\n",
       "    .dataframe tbody tr th {\n",
       "        vertical-align: top;\n",
       "    }\n",
       "\n",
       "    .dataframe thead th {\n",
       "        text-align: right;\n",
       "    }\n",
       "</style>\n",
       "<table border=\"1\" class=\"dataframe\">\n",
       "  <thead>\n",
       "    <tr style=\"text-align: right;\">\n",
       "      <th></th>\n",
       "      <th>user_id</th>\n",
       "      <th>lt_day</th>\n",
       "      <th>is_new</th>\n",
       "      <th>age</th>\n",
       "      <th>gender_segment</th>\n",
       "      <th>os_name</th>\n",
       "      <th>cpe_type_name</th>\n",
       "      <th>country</th>\n",
       "      <th>city</th>\n",
       "      <th>age_segment</th>\n",
       "      <th>traffic_segment</th>\n",
       "      <th>life_time_segment</th>\n",
       "      <th>nps_score</th>\n",
       "      <th>nps_group</th>\n",
       "    </tr>\n",
       "  </thead>\n",
       "  <tbody>\n",
       "    <tr>\n",
       "      <th>0</th>\n",
       "      <td>A001A2</td>\n",
       "      <td>2320</td>\n",
       "      <td>0</td>\n",
       "      <td>45.0</td>\n",
       "      <td>женщина</td>\n",
       "      <td>ANDROID</td>\n",
       "      <td>SMARTPHONE</td>\n",
       "      <td>Россия</td>\n",
       "      <td>Уфа</td>\n",
       "      <td>05 45-54</td>\n",
       "      <td>04 1-5</td>\n",
       "      <td>08 36+</td>\n",
       "      <td>10</td>\n",
       "      <td>сторонники</td>\n",
       "    </tr>\n",
       "    <tr>\n",
       "      <th>1</th>\n",
       "      <td>A001WF</td>\n",
       "      <td>2344</td>\n",
       "      <td>0</td>\n",
       "      <td>53.0</td>\n",
       "      <td>мужчина</td>\n",
       "      <td>ANDROID</td>\n",
       "      <td>SMARTPHONE</td>\n",
       "      <td>Россия</td>\n",
       "      <td>Киров</td>\n",
       "      <td>05 45-54</td>\n",
       "      <td>04 1-5</td>\n",
       "      <td>08 36+</td>\n",
       "      <td>10</td>\n",
       "      <td>сторонники</td>\n",
       "    </tr>\n",
       "    <tr>\n",
       "      <th>2</th>\n",
       "      <td>A003Q7</td>\n",
       "      <td>467</td>\n",
       "      <td>0</td>\n",
       "      <td>57.0</td>\n",
       "      <td>мужчина</td>\n",
       "      <td>ANDROID</td>\n",
       "      <td>SMARTPHONE</td>\n",
       "      <td>Россия</td>\n",
       "      <td>Москва</td>\n",
       "      <td>06 55-64</td>\n",
       "      <td>08 20-25</td>\n",
       "      <td>06 13-24</td>\n",
       "      <td>10</td>\n",
       "      <td>сторонники</td>\n",
       "    </tr>\n",
       "  </tbody>\n",
       "</table>\n",
       "</div>"
      ],
      "text/plain": [
       "  user_id  lt_day  is_new   age gender_segment  os_name cpe_type_name country  \\\n",
       "0  A001A2    2320       0  45.0        женщина  ANDROID    SMARTPHONE  Россия   \n",
       "1  A001WF    2344       0  53.0        мужчина  ANDROID    SMARTPHONE  Россия   \n",
       "2  A003Q7     467       0  57.0        мужчина  ANDROID    SMARTPHONE  Россия   \n",
       "\n",
       "     city age_segment traffic_segment life_time_segment  nps_score   nps_group  \n",
       "0     Уфа    05 45-54          04 1-5            08 36+         10  сторонники  \n",
       "1   Киров    05 45-54          04 1-5            08 36+         10  сторонники  \n",
       "2  Москва    06 55-64        08 20-25          06 13-24         10  сторонники  "
      ]
     },
     "execution_count": 6,
     "metadata": {},
     "output_type": "execute_result"
    }
   ],
   "source": [
    "df.to_csv('telecomm_csi_tableau.csv', index=False)\n",
    "df.head(3)"
   ]
  },
  {
   "cell_type": "markdown",
   "id": "cfb85371",
   "metadata": {},
   "source": [
    "## Дашборд\n",
    "\n",
    "Доступно по ссылке: https://public.tableau.com/views/Draft_16842223943300/Dashboard1?:language=en-US&:display_count=n&:origin=viz_share_link"
   ]
  },
  {
   "cell_type": "markdown",
   "id": "14dd6e51",
   "metadata": {},
   "source": [
    "## Презентация\n",
    "\n",
    "Доступно по ссылке: https://disk.yandex.ru/i/FYts2ITt2ihl1A"
   ]
  },
  {
   "cell_type": "markdown",
   "id": "a67ad167",
   "metadata": {},
   "source": [
    "## Общий вывод по исследованию\n",
    "\n",
    "В исследовании приняли участие 501152 человек, среди которых 54% женщин и 46% мужчин. Согласно подсчетам по полученным от Заказчика данным наиболее лояльными к услугам являются женщины в возрасте 45 лет из крупных городов. Также стоит отметить, что новым клиентам (у тех, которых с момента значимой покупки произошло не более 365 дней) предоставленные услуги нравятся. Новых клиентов намного меньше, чем старых, которые составляют более 80% опрашиваемых. Это означает, что недовольство давних клиентов увеличивается, а значит во многом требуется пересмотреть некоторые услуги в пользу данной группы клиентов для дальнейшего увеличения лояльности."
   ]
  },
  {
   "cell_type": "code",
   "execution_count": null,
   "id": "0f3f43b2",
   "metadata": {},
   "outputs": [],
   "source": []
  }
 ],
 "metadata": {
  "ExecuteTimeLog": [
   {
    "duration": 566,
    "start_time": "2023-05-15T07:35:42.586Z"
   },
   {
    "duration": 188,
    "start_time": "2023-05-15T07:35:43.154Z"
   },
   {
    "duration": 4,
    "start_time": "2023-05-15T07:35:43.344Z"
   },
   {
    "duration": 6611,
    "start_time": "2023-05-15T07:35:43.349Z"
   },
   {
    "duration": 6066,
    "start_time": "2023-05-15T07:35:49.962Z"
   },
   {
    "duration": 11,
    "start_time": "2023-05-15T07:37:43.122Z"
   },
   {
    "duration": 5456,
    "start_time": "2023-05-15T07:37:43.789Z"
   },
   {
    "duration": 4,
    "start_time": "2023-05-15T07:42:46.587Z"
   },
   {
    "duration": 5966,
    "start_time": "2023-05-15T07:42:47.135Z"
   },
   {
    "duration": 4,
    "start_time": "2023-05-15T07:48:27.394Z"
   },
   {
    "duration": 1228,
    "start_time": "2023-05-15T07:48:28.259Z"
   },
   {
    "duration": 7,
    "start_time": "2023-05-15T07:48:40.526Z"
   },
   {
    "duration": 5781,
    "start_time": "2023-05-15T07:48:40.994Z"
   },
   {
    "duration": 4,
    "start_time": "2023-05-15T07:52:08.309Z"
   },
   {
    "duration": 6506,
    "start_time": "2023-05-15T07:52:09.932Z"
   },
   {
    "duration": 5,
    "start_time": "2023-05-15T07:52:35.905Z"
   },
   {
    "duration": 5820,
    "start_time": "2023-05-15T07:52:39.789Z"
   },
   {
    "duration": 5385,
    "start_time": "2023-05-15T07:55:15.090Z"
   },
   {
    "duration": 512,
    "start_time": "2023-05-15T07:55:45.294Z"
   },
   {
    "duration": 5222,
    "start_time": "2023-05-15T07:57:15.322Z"
   },
   {
    "duration": 3,
    "start_time": "2023-05-15T07:57:57.512Z"
   },
   {
    "duration": 50,
    "start_time": "2023-05-15T07:58:06.869Z"
   },
   {
    "duration": 520,
    "start_time": "2023-05-15T07:58:17.476Z"
   },
   {
    "duration": 142,
    "start_time": "2023-05-15T07:58:17.998Z"
   },
   {
    "duration": 4,
    "start_time": "2023-05-15T07:58:18.141Z"
   },
   {
    "duration": 5741,
    "start_time": "2023-05-15T07:58:18.146Z"
   },
   {
    "duration": 525,
    "start_time": "2023-05-15T07:58:23.889Z"
   },
   {
    "duration": 5008,
    "start_time": "2023-05-15T07:58:24.416Z"
   },
   {
    "duration": 3,
    "start_time": "2023-05-15T07:58:44.935Z"
   },
   {
    "duration": 5273,
    "start_time": "2023-05-15T07:58:45.803Z"
   },
   {
    "duration": 503,
    "start_time": "2023-05-15T07:58:55.862Z"
   },
   {
    "duration": 5588,
    "start_time": "2023-05-15T07:59:05.795Z"
   },
   {
    "duration": 513,
    "start_time": "2023-05-15T07:59:21.830Z"
   },
   {
    "duration": 3,
    "start_time": "2023-05-15T07:59:36.072Z"
   },
   {
    "duration": 5207,
    "start_time": "2023-05-15T07:59:37.072Z"
   },
   {
    "duration": 484,
    "start_time": "2023-05-15T07:59:47.647Z"
   },
   {
    "duration": 502,
    "start_time": "2023-05-15T08:01:11.368Z"
   },
   {
    "duration": 494,
    "start_time": "2023-05-15T08:03:34.151Z"
   },
   {
    "duration": 498,
    "start_time": "2023-05-15T08:09:35.757Z"
   },
   {
    "duration": 19,
    "start_time": "2023-05-15T08:09:44.158Z"
   },
   {
    "duration": 233,
    "start_time": "2023-05-15T08:09:55.053Z"
   },
   {
    "duration": 12,
    "start_time": "2023-05-15T08:09:55.755Z"
   },
   {
    "duration": 850,
    "start_time": "2023-05-15T08:10:47.109Z"
   },
   {
    "duration": 0,
    "start_time": "2023-05-15T08:10:47.961Z"
   },
   {
    "duration": 685,
    "start_time": "2023-05-15T08:11:08.600Z"
   },
   {
    "duration": 14,
    "start_time": "2023-05-15T08:11:09.589Z"
   },
   {
    "duration": 2036,
    "start_time": "2023-05-15T08:11:42.437Z"
   },
   {
    "duration": 1376,
    "start_time": "2023-05-15T08:11:59.645Z"
   },
   {
    "duration": 572,
    "start_time": "2023-05-15T08:12:14.482Z"
   },
   {
    "duration": 473,
    "start_time": "2023-05-15T08:12:15.056Z"
   },
   {
    "duration": 4,
    "start_time": "2023-05-15T08:12:15.530Z"
   },
   {
    "duration": 5433,
    "start_time": "2023-05-15T08:12:15.537Z"
   },
   {
    "duration": 535,
    "start_time": "2023-05-15T08:12:20.971Z"
   },
   {
    "duration": 228,
    "start_time": "2023-05-15T08:12:21.509Z"
   },
   {
    "duration": 337,
    "start_time": "2023-05-15T08:12:21.739Z"
   },
   {
    "duration": 23,
    "start_time": "2023-05-15T08:12:22.078Z"
   },
   {
    "duration": 4891,
    "start_time": "2023-05-15T08:12:22.102Z"
   },
   {
    "duration": 576,
    "start_time": "2023-05-15T08:13:11.676Z"
   },
   {
    "duration": 201,
    "start_time": "2023-05-15T08:13:12.253Z"
   },
   {
    "duration": 4,
    "start_time": "2023-05-15T08:13:12.456Z"
   },
   {
    "duration": 5949,
    "start_time": "2023-05-15T08:13:12.463Z"
   },
   {
    "duration": 550,
    "start_time": "2023-05-15T08:13:18.414Z"
   },
   {
    "duration": 246,
    "start_time": "2023-05-15T08:13:18.965Z"
   },
   {
    "duration": 342,
    "start_time": "2023-05-15T08:13:19.213Z"
   },
   {
    "duration": 333,
    "start_time": "2023-05-15T08:13:19.557Z"
   },
   {
    "duration": 22,
    "start_time": "2023-05-15T08:13:19.894Z"
   },
   {
    "duration": 6199,
    "start_time": "2023-05-15T08:13:19.918Z"
   },
   {
    "duration": 460,
    "start_time": "2023-05-15T08:15:09.947Z"
   },
   {
    "duration": 236,
    "start_time": "2023-05-15T08:15:10.409Z"
   },
   {
    "duration": 3,
    "start_time": "2023-05-15T08:15:10.647Z"
   },
   {
    "duration": 5467,
    "start_time": "2023-05-15T08:15:10.651Z"
   },
   {
    "duration": 544,
    "start_time": "2023-05-15T08:15:16.120Z"
   },
   {
    "duration": 224,
    "start_time": "2023-05-15T08:15:16.666Z"
   },
   {
    "duration": 317,
    "start_time": "2023-05-15T08:15:16.898Z"
   },
   {
    "duration": 321,
    "start_time": "2023-05-15T08:15:17.216Z"
   },
   {
    "duration": 12,
    "start_time": "2023-05-15T08:15:17.539Z"
   },
   {
    "duration": 4820,
    "start_time": "2023-05-15T08:15:17.553Z"
   },
   {
    "duration": 576,
    "start_time": "2023-05-15T17:42:10.517Z"
   },
   {
    "duration": 131,
    "start_time": "2023-05-15T17:42:11.096Z"
   },
   {
    "duration": 5,
    "start_time": "2023-05-15T17:42:11.229Z"
   },
   {
    "duration": 6119,
    "start_time": "2023-05-15T17:42:11.237Z"
   },
   {
    "duration": 522,
    "start_time": "2023-05-15T17:42:17.358Z"
   },
   {
    "duration": 216,
    "start_time": "2023-05-15T17:42:17.882Z"
   },
   {
    "duration": 305,
    "start_time": "2023-05-15T17:42:18.100Z"
   },
   {
    "duration": 300,
    "start_time": "2023-05-15T17:42:18.406Z"
   },
   {
    "duration": 17,
    "start_time": "2023-05-15T17:42:18.708Z"
   },
   {
    "duration": 4816,
    "start_time": "2023-05-15T17:42:18.728Z"
   },
   {
    "duration": 544,
    "start_time": "2023-05-15T17:45:11.992Z"
   },
   {
    "duration": 59,
    "start_time": "2023-05-15T17:45:12.538Z"
   },
   {
    "duration": 3,
    "start_time": "2023-05-15T17:45:12.599Z"
   },
   {
    "duration": 5096,
    "start_time": "2023-05-15T17:45:12.603Z"
   },
   {
    "duration": 496,
    "start_time": "2023-05-15T17:45:17.701Z"
   },
   {
    "duration": 203,
    "start_time": "2023-05-15T17:45:18.199Z"
   },
   {
    "duration": 314,
    "start_time": "2023-05-15T17:45:18.404Z"
   },
   {
    "duration": 307,
    "start_time": "2023-05-15T17:45:18.720Z"
   },
   {
    "duration": 14,
    "start_time": "2023-05-15T17:45:19.028Z"
   },
   {
    "duration": 4132,
    "start_time": "2023-05-15T17:45:19.044Z"
   },
   {
    "duration": 4677,
    "start_time": "2023-05-15T17:54:03.319Z"
   },
   {
    "duration": 515,
    "start_time": "2023-05-15T17:57:22.709Z"
   },
   {
    "duration": 153,
    "start_time": "2023-05-15T17:57:23.226Z"
   },
   {
    "duration": 3,
    "start_time": "2023-05-15T17:57:23.381Z"
   },
   {
    "duration": 5136,
    "start_time": "2023-05-15T17:57:23.385Z"
   },
   {
    "duration": 506,
    "start_time": "2023-05-15T17:57:28.525Z"
   },
   {
    "duration": 218,
    "start_time": "2023-05-15T17:57:29.033Z"
   },
   {
    "duration": 318,
    "start_time": "2023-05-15T17:57:29.253Z"
   },
   {
    "duration": 314,
    "start_time": "2023-05-15T17:57:29.572Z"
   },
   {
    "duration": 13,
    "start_time": "2023-05-15T17:57:29.887Z"
   },
   {
    "duration": 4284,
    "start_time": "2023-05-15T17:57:29.901Z"
   },
   {
    "duration": 483,
    "start_time": "2023-05-15T17:59:06.468Z"
   },
   {
    "duration": 483,
    "start_time": "2023-05-15T17:59:06.953Z"
   },
   {
    "duration": 0,
    "start_time": "2023-05-15T17:59:07.438Z"
   },
   {
    "duration": 0,
    "start_time": "2023-05-15T17:59:07.439Z"
   },
   {
    "duration": 0,
    "start_time": "2023-05-15T17:59:07.440Z"
   },
   {
    "duration": 0,
    "start_time": "2023-05-15T17:59:07.442Z"
   },
   {
    "duration": 0,
    "start_time": "2023-05-15T17:59:07.443Z"
   },
   {
    "duration": 0,
    "start_time": "2023-05-15T17:59:07.444Z"
   },
   {
    "duration": 0,
    "start_time": "2023-05-15T17:59:07.445Z"
   },
   {
    "duration": 0,
    "start_time": "2023-05-15T17:59:07.447Z"
   },
   {
    "duration": 588,
    "start_time": "2023-05-15T17:59:29.749Z"
   },
   {
    "duration": 63,
    "start_time": "2023-05-15T17:59:30.339Z"
   },
   {
    "duration": 21,
    "start_time": "2023-05-15T17:59:30.404Z"
   },
   {
    "duration": 5733,
    "start_time": "2023-05-15T17:59:30.427Z"
   },
   {
    "duration": 532,
    "start_time": "2023-05-15T17:59:36.162Z"
   },
   {
    "duration": 247,
    "start_time": "2023-05-15T17:59:36.696Z"
   },
   {
    "duration": 328,
    "start_time": "2023-05-15T17:59:36.945Z"
   },
   {
    "duration": 328,
    "start_time": "2023-05-15T17:59:37.274Z"
   },
   {
    "duration": 22,
    "start_time": "2023-05-15T17:59:37.604Z"
   },
   {
    "duration": 5185,
    "start_time": "2023-05-15T17:59:37.628Z"
   },
   {
    "duration": 485,
    "start_time": "2023-05-15T18:16:27.934Z"
   },
   {
    "duration": 5324,
    "start_time": "2023-05-15T18:16:28.421Z"
   },
   {
    "duration": 29,
    "start_time": "2023-05-15T18:16:33.747Z"
   },
   {
    "duration": 530,
    "start_time": "2023-05-15T18:16:33.778Z"
   },
   {
    "duration": 220,
    "start_time": "2023-05-15T18:16:34.310Z"
   },
   {
    "duration": 332,
    "start_time": "2023-05-15T18:16:34.532Z"
   },
   {
    "duration": 320,
    "start_time": "2023-05-15T18:16:34.866Z"
   },
   {
    "duration": 13,
    "start_time": "2023-05-15T18:16:35.188Z"
   },
   {
    "duration": 4340,
    "start_time": "2023-05-15T18:16:35.203Z"
   },
   {
    "duration": 550,
    "start_time": "2023-05-17T12:41:40.723Z"
   },
   {
    "duration": 98,
    "start_time": "2023-05-17T12:41:41.275Z"
   },
   {
    "duration": 7,
    "start_time": "2023-05-17T12:41:41.381Z"
   },
   {
    "duration": 6709,
    "start_time": "2023-05-17T12:41:41.390Z"
   },
   {
    "duration": 558,
    "start_time": "2023-05-17T12:41:48.104Z"
   },
   {
    "duration": 133,
    "start_time": "2023-05-17T12:41:48.664Z"
   },
   {
    "duration": 237,
    "start_time": "2023-05-17T12:41:48.806Z"
   },
   {
    "duration": 387,
    "start_time": "2023-05-17T12:41:49.044Z"
   },
   {
    "duration": 400,
    "start_time": "2023-05-17T12:41:49.438Z"
   },
   {
    "duration": 48,
    "start_time": "2023-05-17T12:41:49.841Z"
   },
   {
    "duration": 50,
    "start_time": "2023-05-17T12:41:49.891Z"
   },
   {
    "duration": 48,
    "start_time": "2023-05-17T12:41:49.943Z"
   },
   {
    "duration": 12,
    "start_time": "2023-05-17T12:41:49.993Z"
   },
   {
    "duration": 2849,
    "start_time": "2023-05-17T12:41:50.009Z"
   },
   {
    "duration": 347,
    "start_time": "2023-05-17T12:41:52.860Z"
   },
   {
    "duration": 6,
    "start_time": "2023-05-17T12:41:53.214Z"
   },
   {
    "duration": 2641,
    "start_time": "2023-05-17T12:41:53.224Z"
   },
   {
    "duration": 550,
    "start_time": "2023-05-17T12:41:55.867Z"
   },
   {
    "duration": 1521,
    "start_time": "2023-05-17T12:41:56.421Z"
   },
   {
    "duration": 579,
    "start_time": "2023-05-17T12:41:57.944Z"
   },
   {
    "duration": 510,
    "start_time": "2023-05-17T12:41:58.526Z"
   },
   {
    "duration": 6717,
    "start_time": "2023-05-17T12:41:59.039Z"
   },
   {
    "duration": 63,
    "start_time": "2023-05-17T13:18:22.760Z"
   },
   {
    "duration": 505,
    "start_time": "2023-05-19T04:22:01.094Z"
   },
   {
    "duration": 95,
    "start_time": "2023-05-19T04:22:01.601Z"
   },
   {
    "duration": 4,
    "start_time": "2023-05-19T04:22:01.698Z"
   },
   {
    "duration": 5406,
    "start_time": "2023-05-19T04:22:01.704Z"
   },
   {
    "duration": 499,
    "start_time": "2023-05-19T04:22:07.111Z"
   },
   {
    "duration": 101,
    "start_time": "2023-05-19T04:22:07.612Z"
   },
   {
    "duration": 200,
    "start_time": "2023-05-19T04:22:07.715Z"
   },
   {
    "duration": 308,
    "start_time": "2023-05-19T04:22:07.916Z"
   },
   {
    "duration": 297,
    "start_time": "2023-05-19T04:22:08.226Z"
   },
   {
    "duration": 38,
    "start_time": "2023-05-19T04:22:08.525Z"
   },
   {
    "duration": 51,
    "start_time": "2023-05-19T04:22:08.564Z"
   },
   {
    "duration": 34,
    "start_time": "2023-05-19T04:22:08.617Z"
   },
   {
    "duration": 45,
    "start_time": "2023-05-19T04:22:08.653Z"
   },
   {
    "duration": 5,
    "start_time": "2023-05-19T04:22:08.700Z"
   },
   {
    "duration": 2085,
    "start_time": "2023-05-19T04:22:08.706Z"
   },
   {
    "duration": 271,
    "start_time": "2023-05-19T04:22:10.793Z"
   },
   {
    "duration": 3,
    "start_time": "2023-05-19T04:22:11.066Z"
   },
   {
    "duration": 1950,
    "start_time": "2023-05-19T04:22:11.070Z"
   },
   {
    "duration": 485,
    "start_time": "2023-05-19T04:22:13.021Z"
   },
   {
    "duration": 1325,
    "start_time": "2023-05-19T04:22:13.508Z"
   },
   {
    "duration": 476,
    "start_time": "2023-05-19T04:22:14.835Z"
   },
   {
    "duration": 89,
    "start_time": "2023-05-19T04:22:15.312Z"
   },
   {
    "duration": 422,
    "start_time": "2023-05-19T04:22:15.403Z"
   },
   {
    "duration": 4355,
    "start_time": "2023-05-19T04:22:15.827Z"
   },
   {
    "duration": 512,
    "start_time": "2023-05-20T07:28:14.086Z"
   },
   {
    "duration": 79,
    "start_time": "2023-05-20T07:28:14.600Z"
   },
   {
    "duration": 3,
    "start_time": "2023-05-20T07:28:14.680Z"
   },
   {
    "duration": 6174,
    "start_time": "2023-05-20T07:28:14.685Z"
   },
   {
    "duration": 650,
    "start_time": "2023-05-20T07:28:20.861Z"
   },
   {
    "duration": 4519,
    "start_time": "2023-05-20T07:28:21.513Z"
   },
   {
    "duration": 512,
    "start_time": "2023-05-21T05:51:00.537Z"
   },
   {
    "duration": 115,
    "start_time": "2023-05-21T05:51:01.051Z"
   },
   {
    "duration": 14,
    "start_time": "2023-05-21T05:51:01.168Z"
   },
   {
    "duration": 5216,
    "start_time": "2023-05-21T05:51:01.184Z"
   },
   {
    "duration": 467,
    "start_time": "2023-05-21T05:51:06.402Z"
   },
   {
    "duration": 4290,
    "start_time": "2023-05-21T05:51:06.871Z"
   }
  ],
  "kernelspec": {
   "display_name": "Python 3 (ipykernel)",
   "language": "python",
   "name": "python3"
  },
  "language_info": {
   "codemirror_mode": {
    "name": "ipython",
    "version": 3
   },
   "file_extension": ".py",
   "mimetype": "text/x-python",
   "name": "python",
   "nbconvert_exporter": "python",
   "pygments_lexer": "ipython3",
   "version": "3.11.7"
  },
  "toc": {
   "base_numbering": 1,
   "nav_menu": {},
   "number_sections": true,
   "sideBar": true,
   "skip_h1_title": true,
   "title_cell": "Table of Contents",
   "title_sidebar": "Contents",
   "toc_cell": true,
   "toc_position": {
    "height": "calc(100% - 180px)",
    "left": "10px",
    "top": "150px",
    "width": "336px"
   },
   "toc_section_display": true,
   "toc_window_display": true
  }
 },
 "nbformat": 4,
 "nbformat_minor": 5
}
